{
 "cells": [
  {
   "cell_type": "markdown",
   "id": "29a4be13",
   "metadata": {},
   "source": [
    "# float"
   ]
  },
  {
   "cell_type": "markdown",
   "id": "eb64df5a",
   "metadata": {},
   "source": [
    "\"float\" refers to a data type used to represent floating-point numbers, which are numbers that have a decimal point or are expressed in scientific notation.\n",
    "\n",
    "<b>Basics of Floats:</b>\n",
    "\n",
    "<b>Representation:</b> Floats are used to represent both rational and irrational numbers, including fractions and numbers with a decimal component.\n",
    "\n",
    "<b>IEEE 754 Standard:</b> Python uses the IEEE 754 standard to represent floating-point numbers, which is widely used for real numbers in binary.\n",
    "\n",
    "<b>Characteristics of Floats:</b>\n",
    "\n",
    "<b>Precision:</b> Floats allow for precise representation of numbers with a decimal point, enabling accuracy beyond whole numbers.\n",
    "\n",
    "<b>Range:</b> They can represent both very small (e.g., 0.001) and very large (e.g., 1000000.0) numbers.\n",
    "\n",
    "<b>Creating Floats:</b>\n",
    "\n",
    "<b>Literal:</b> Floats can be defined directly using decimal notation, such as my_float = 3.14.\n",
    "\n",
    "<b>Scientific Notation:</b> They can also be created using scientific notation, like scientific_float = 1.5e-3, which represents 0.0015.\n",
    "\n"
   ]
  },
  {
   "cell_type": "code",
   "execution_count": 3,
   "id": "140ec5f4",
   "metadata": {},
   "outputs": [],
   "source": [
    "# Floats participate in arithmetic operations just like other numeric types in Python."
   ]
  },
  {
   "cell_type": "code",
   "execution_count": 4,
   "id": "e9029ef0",
   "metadata": {},
   "outputs": [
    {
     "name": "stdout",
     "output_type": "stream",
     "text": [
      "2.5 <class 'float'>\n",
      "1.5 <class 'float'>\n",
      "1.0 <class 'float'>\n",
      "4.0 <class 'float'>\n"
     ]
    }
   ],
   "source": [
    "a = 2.0\n",
    "b = 0.5\n",
    "sum_result = a + b\n",
    "difference_result = a - b\n",
    "product_result = a * b\n",
    "quotient_result = a / b\n",
    "\n",
    "print(sum_result,type(sum_result))\n",
    "print(difference_result,type(difference_result))\n",
    "print(product_result,type(product_result))\n",
    "print(quotient_result,type(quotient_result))"
   ]
  },
  {
   "cell_type": "code",
   "execution_count": 13,
   "id": "91f8493d",
   "metadata": {
    "scrolled": true
   },
   "outputs": [
    {
     "name": "stdout",
     "output_type": "stream",
     "text": [
      "2.0 <class 'float'>\n"
     ]
    }
   ],
   "source": [
    "a=2.\n",
    "print(a,type(a))"
   ]
  },
  {
   "cell_type": "code",
   "execution_count": 14,
   "id": "9cbb16f4",
   "metadata": {},
   "outputs": [
    {
     "name": "stdout",
     "output_type": "stream",
     "text": [
      "5.6\n"
     ]
    }
   ],
   "source": [
    "a=2.3\n",
    "b=3.3\n",
    "print(a+b)"
   ]
  },
  {
   "cell_type": "code",
   "execution_count": 19,
   "id": "7ce654a8",
   "metadata": {},
   "outputs": [
    {
     "name": "stdout",
     "output_type": "stream",
     "text": [
      "12\n"
     ]
    }
   ],
   "source": [
    "a=12.8\n",
    "b=int(a)\n",
    "print(b)"
   ]
  },
  {
   "cell_type": "markdown",
   "id": "99e38e27",
   "metadata": {},
   "source": [
    "<b>Precision Considerations:</b>\n",
    "\n",
    "<b>Floating-Point Precision Error:</b> Due to how floating-point numbers are represented in computers, there can be rounding errors in calculations, leading to precision errors.\n",
    "\n",
    "<b>Comparison:</b> To compare floating-point numbers for equality, it's recommended to use a tolerance value due to potential precision errors."
   ]
  },
  {
   "cell_type": "code",
   "execution_count": 6,
   "id": "e87c64ab",
   "metadata": {},
   "outputs": [
    {
     "name": "stdout",
     "output_type": "stream",
     "text": [
      "The numbers are approximately equal.\n"
     ]
    }
   ],
   "source": [
    "\n",
    "a = 0.1 + 0.2\n",
    "b = 0.3\n",
    "tolerance = 1e-10\n",
    "if abs(a - b) < tolerance:\n",
    "    print(\"The numbers are approximately equal.\")"
   ]
  },
  {
   "cell_type": "code",
   "execution_count": 1,
   "id": "8fbf5e4e",
   "metadata": {},
   "outputs": [
    {
     "name": "stdout",
     "output_type": "stream",
     "text": [
      "a: 0.3000000000000000444089209850062616169452667236328125000000000000000000000000000000000000000000000000\n",
      "b: 0.2999999999999999888977697537484345957636833190917968750000000000000000000000000000000000000000000000\n",
      "The numbers are not equal.\n"
     ]
    }
   ],
   "source": [
    "a = 0.1 + 0.2\n",
    "b = 0.3\n",
    "\n",
    "# Print the values of a and b with 50 decimal points\n",
    "print(f\"a: {a:.100f}\")\n",
    "print(f\"b: {b:.100f}\")\n",
    "\n",
    "if a == b:\n",
    "    print(\"The numbers are equal.\")\n",
    "else:\n",
    "    print(\"The numbers are not equal.\")\n"
   ]
  },
  {
   "cell_type": "code",
   "execution_count": 20,
   "id": "94ae373e",
   "metadata": {},
   "outputs": [
    {
     "name": "stdout",
     "output_type": "stream",
     "text": [
      "2000.0 <class 'float'>\n"
     ]
    }
   ],
   "source": [
    "a=2e3  # 2 X 10^3\n",
    "print(a,type(a))"
   ]
  },
  {
   "cell_type": "code",
   "execution_count": 21,
   "id": "56571458",
   "metadata": {
    "scrolled": true
   },
   "outputs": [
    {
     "name": "stdout",
     "output_type": "stream",
     "text": [
      "1.0 <class 'float'>\n"
     ]
    }
   ],
   "source": [
    "a=100e-2\n",
    "print(a,type(a))"
   ]
  },
  {
   "cell_type": "code",
   "execution_count": 22,
   "id": "bbb02cda",
   "metadata": {},
   "outputs": [
    {
     "name": "stdout",
     "output_type": "stream",
     "text": [
      "0.4\n"
     ]
    }
   ],
   "source": [
    "a=0.1\n",
    "b=0.3\n",
    "c=a+b\n",
    "print(c)"
   ]
  },
  {
   "cell_type": "code",
   "execution_count": 9,
   "id": "3bb0deb7",
   "metadata": {},
   "outputs": [
    {
     "name": "stdout",
     "output_type": "stream",
     "text": [
      "0.0015\n",
      "25000000.0\n"
     ]
    }
   ],
   "source": [
    "scientific_float = 1.5e-3\n",
    "print(scientific_float)  # Output: 0.0015\n",
    "\n",
    "float_num = 2.5e7\n",
    "print(float_num)  # Output: 25000000.0\n"
   ]
  },
  {
   "cell_type": "code",
   "execution_count": 12,
   "id": "f703626f",
   "metadata": {},
   "outputs": [
    {
     "name": "stdout",
     "output_type": "stream",
     "text": [
      "3.142\n",
      "John's height is 1.75 meters.\n"
     ]
    }
   ],
   "source": [
    "# Formatting float values\n",
    "formatted_float = format(3.14159, '.3f')\n",
    "print(formatted_float)  # Output: 3.14\n",
    "\n",
    "# Using f-strings for formatting\n",
    "name = \"John\"\n",
    "height = 1.75\n",
    "formatted_string = f\"{name}'s height is {height:.2f} meters.\"\n",
    "print(formatted_string)  # Output: John's height is 1.75 meters.\n"
   ]
  },
  {
   "cell_type": "markdown",
   "id": "c97c8420",
   "metadata": {},
   "source": [
    "# bool"
   ]
  },
  {
   "cell_type": "markdown",
   "id": "6e42a3da",
   "metadata": {},
   "source": [
    "The bool data type represents two values: True and False. It's used to represent the concept of truth or falsehood in programming. Booleans are fundamental in decision-making and control flow within programs.\n",
    "\n",
    "<b>Boolean Values:</b>\n",
    "\n",
    "<b>True and False:</b> True represents a true or valid condition, while False represents a false or invalid condition.\n",
    "\n",
    "These are the only valid boolean values in Python.\n",
    "\n",
    "<b>Comparison and Logical Operators:</b>\n",
    "\n",
    "<b>Comparison Operations:</b> Booleans are often used in comparison operations to evaluate conditions.\n",
    "\n",
    "\n",
    "<b>Conceptual Usage:</b>\n",
    "\n",
    "<b>On or Off:</b> A bool in Python acts like a little switch that can be either \"on\" or \"off,\" representing true or false states.\n",
    "\n",
    "<b>Answering Questions:</b> Booleans are used to answer questions. For instance, in response to \"Is the sky blue?\", True indicates yes, and False indicates no.\n",
    "\n",
    "<b>Making Decisions:</b> Booleans help in decision-making. For example, determining whether to wear a coat based on whether it's cold outside.\n",
    "\n",
    "<b>Checking Conditions:</b> Booleans are used to check if conditions are true. For instance, comparing whether one number is greater than another.\n",
    "\n",
    "\n",
    "Booleans in Python are case-sensitive, so True and False must be written in uppercase.\n",
    "Using lowercase true and false will result in NameError as they are not recognized by Python as boolean literals."
   ]
  },
  {
   "cell_type": "code",
   "execution_count": 20,
   "id": "10f848d6",
   "metadata": {},
   "outputs": [
    {
     "name": "stdout",
     "output_type": "stream",
     "text": [
      "True\n",
      "False\n"
     ]
    }
   ],
   "source": [
    "x = 5\n",
    "y = 10\n",
    "is_greater = x < y    # Evaluates to False\n",
    "is_equal = x == y     # Evaluates to False\n",
    "print(is_greater)\n",
    "print(is_equal)"
   ]
  },
  {
   "cell_type": "markdown",
   "id": "d880a67d",
   "metadata": {},
   "source": [
    "True = 1 means that when something is considered \"True\" in programming, it's like saying \"yes\" or \"on\". So, we represent it with the number 1. It's like flipping a switch to the \"on\" position.\n",
    "\n",
    "False = 0 means that when something is considered \"False\" in programming, it's like saying \"no\" or \"off\". So, we represent it with the number 0. It's like flipping a switch to the \"off\" position."
   ]
  },
  {
   "cell_type": "code",
   "execution_count": 24,
   "id": "885d4d0f",
   "metadata": {},
   "outputs": [
    {
     "name": "stdout",
     "output_type": "stream",
     "text": [
      "True <class 'bool'>\n"
     ]
    }
   ],
   "source": [
    "a=True\n",
    "print(a,type(a))"
   ]
  },
  {
   "cell_type": "code",
   "execution_count": 25,
   "id": "416bef32",
   "metadata": {
    "scrolled": true
   },
   "outputs": [
    {
     "name": "stdout",
     "output_type": "stream",
     "text": [
      "False <class 'bool'>\n"
     ]
    }
   ],
   "source": [
    "a=False\n",
    "print(a,type(a))"
   ]
  },
  {
   "cell_type": "code",
   "execution_count": 26,
   "id": "71914622",
   "metadata": {},
   "outputs": [
    {
     "name": "stdout",
     "output_type": "stream",
     "text": [
      "2\n"
     ]
    }
   ],
   "source": [
    "a=True+True+True+True+False-True-True\n",
    "print(a)"
   ]
  },
  {
   "cell_type": "code",
   "execution_count": 27,
   "id": "06e6d1de",
   "metadata": {
    "scrolled": true
   },
   "outputs": [
    {
     "name": "stdout",
     "output_type": "stream",
     "text": [
      "False\n"
     ]
    }
   ],
   "source": [
    "print(3>9)"
   ]
  },
  {
   "cell_type": "code",
   "execution_count": 21,
   "id": "c1d4bb8c",
   "metadata": {},
   "outputs": [],
   "source": [
    "is_light_on = False\n",
    "\n",
    "# Switching the light on\n",
    "is_light_on = True\n",
    "\n",
    "# Switching the light off\n",
    "is_light_on = False\n"
   ]
  },
  {
   "cell_type": "code",
   "execution_count": 22,
   "id": "17eee7d1",
   "metadata": {},
   "outputs": [
    {
     "name": "stdout",
     "output_type": "stream",
     "text": [
      "Is the sky blue? True\n",
      "Is it raining? False\n"
     ]
    }
   ],
   "source": [
    "is_sky_blue = True\n",
    "is_raining = False\n",
    "\n",
    "print(\"Is the sky blue?\", is_sky_blue)  # Output: Is the sky blue? True\n",
    "print(\"Is it raining?\", is_raining)     # Output: Is it raining? False\n"
   ]
  },
  {
   "cell_type": "code",
   "execution_count": 23,
   "id": "7991410e",
   "metadata": {},
   "outputs": [
    {
     "name": "stdout",
     "output_type": "stream",
     "text": [
      "Is the number positive? False\n",
      "Is the number negative? True\n"
     ]
    }
   ],
   "source": [
    "number = -10\n",
    "is_positive = number > 0\n",
    "is_negative = number < 0\n",
    "\n",
    "print(\"Is the number positive?\", is_positive)  # Output: Is the number positive? False\n",
    "print(\"Is the number negative?\", is_negative)  # Output: Is the number negative? True\n"
   ]
  },
  {
   "cell_type": "markdown",
   "id": "98367eb1",
   "metadata": {},
   "source": [
    "# Complex"
   ]
  },
  {
   "cell_type": "markdown",
   "id": "1df6222a",
   "metadata": {},
   "source": [
    "The complex data type in Python represents complex numbers, which consist of a real part and an imaginary part. Complex numbers extend the real numbers by introducing an imaginary unit, denoted as \"j\".\n",
    "\n",
    "<b>Complex Number Representation:</b>\n",
    "    \n",
    "In Python, complex numbers are represented using the syntax a + bj, where a and b are floating-point numbers.\n",
    "\n",
    "The real part is denoted by a, and the imaginary part is denoted by b.\n",
    "\n",
    "Example: 3 + 4j represents a complex number with a real part of 3 and an imaginary part of 4.\n",
    "\n",
    "<b>Creation of Complex Numbers:</b>\n",
    "    \n",
    "Complex numbers can be created using the built-in complex() constructor or directly by using the j or J suffix for the imaginary part.\n",
    "\n",
    "<b>Arithmetic Operations:</b>\n",
    "\n",
    "Complex numbers in Python support standard arithmetic operations such as addition, subtraction, multiplication, and division.\n",
    "\n",
    "Operations are performed according to the standard arithmetic rules, considering the real and imaginary parts separately.\n",
    "\n",
    "<b>Accessing Real and Imaginary Parts:</b>\n",
    "\n",
    "The real and imaginary parts of a complex number can be accessed using the .real and .imag attributes.\n",
    "\n",
    "<b>Complex Conjugate</b>\n",
    "\n",
    "The complex conjugate of acomplex number a + bj is a - bj. It can be obtained using the .conjugate() method.\n",
    "\n",
    "\n",
    "<b>Use Cases:</b>\n",
    "\n",
    "Complex numbers are used in various fields such as mathematics, science, and engineering.\n",
    "They are especially useful in solving problems involving oscillations, electrical engineering, signal processing, and quantum mechanics.\n",
    "\n",
    "<b>Complex Number Functions:</b>\n",
    "\n",
    "Python's cmath module provides functions for working with complex numbers.\n",
    "\n",
    "Functions such as cmath.sqrt() can be used to calculate the square root of a complex number.\n"
   ]
  },
  {
   "cell_type": "code",
   "execution_count": 24,
   "id": "cd85207d",
   "metadata": {},
   "outputs": [
    {
     "name": "stdout",
     "output_type": "stream",
     "text": [
      "(3+4j)\n",
      "(2+5j)\n"
     ]
    }
   ],
   "source": [
    "z1 = complex(3, 4)  # Creates a complex number 3 + 4j\n",
    "z2 = 2 + 5j         # Creates a complex number 2 + 5j\n",
    "print(z1)\n",
    "print(z2)"
   ]
  },
  {
   "cell_type": "code",
   "execution_count": 26,
   "id": "b6e73dad",
   "metadata": {},
   "outputs": [
    {
     "name": "stdout",
     "output_type": "stream",
     "text": [
      "(5+9j)\n",
      "(1-1j)\n",
      "(-14+23j)\n",
      "(0.896551724137931-0.24137931034482757j)\n"
     ]
    }
   ],
   "source": [
    "z1 = 3 + 4j\n",
    "z2 = 2 + 5j\n",
    "z_sum = z1 + z2       # Addition: 5 + 9j\n",
    "z_diff = z1 - z2      # Subtraction: 1 - 1j\n",
    "z_prod = z1 * z2      # Multiplication: 6 + 15j\n",
    "z_quotient = z1 / z2  # Division: (3/2) + (4/5)j\n",
    "print(z_sum)\n",
    "print(z_diff)\n",
    "print(z_prod)\n",
    "print(z_quotient)"
   ]
  },
  {
   "cell_type": "code",
   "execution_count": 27,
   "id": "288ac56f",
   "metadata": {},
   "outputs": [
    {
     "name": "stdout",
     "output_type": "stream",
     "text": [
      "3.0\n",
      "4.0\n"
     ]
    }
   ],
   "source": [
    "z = 3 + 4j\n",
    "real_part = z.real  # Retrieves the real part (3.0)\n",
    "imag_part = z.imag  # Retrieves the imaginary part (4.0)\n",
    "print(real_part)\n",
    "print(imag_part)"
   ]
  },
  {
   "cell_type": "code",
   "execution_count": 28,
   "id": "3e2fa3ed",
   "metadata": {},
   "outputs": [
    {
     "name": "stdout",
     "output_type": "stream",
     "text": [
      "(3-4j)\n"
     ]
    }
   ],
   "source": [
    "z = 3 + 4j\n",
    "z_conjugate = z.conjugate()  # Obtains the complex conjugate 3 - 4j\n",
    "print(z_conjugate)"
   ]
  },
  {
   "cell_type": "code",
   "execution_count": 29,
   "id": "362c4749",
   "metadata": {},
   "outputs": [
    {
     "name": "stdout",
     "output_type": "stream",
     "text": [
      "(2+1j)\n"
     ]
    }
   ],
   "source": [
    "import cmath\n",
    "z = 3 + 4j\n",
    "z_sqrt = cmath.sqrt(z)  # Calculates the square root of z\n",
    "print(z_sqrt)"
   ]
  },
  {
   "cell_type": "code",
   "execution_count": 29,
   "id": "2d756085",
   "metadata": {
    "scrolled": true
   },
   "outputs": [
    {
     "name": "stdout",
     "output_type": "stream",
     "text": [
      "(2+4j) <class 'complex'>\n"
     ]
    }
   ],
   "source": [
    "a=2+4j\n",
    "print(a,type(a))"
   ]
  },
  {
   "cell_type": "code",
   "execution_count": 34,
   "id": "252e041c",
   "metadata": {
    "scrolled": true
   },
   "outputs": [
    {
     "ename": "SyntaxError",
     "evalue": "invalid decimal literal (3546150029.py, line 1)",
     "output_type": "error",
     "traceback": [
      "\u001b[1;36m  Cell \u001b[1;32mIn[34], line 1\u001b[1;36m\u001b[0m\n\u001b[1;33m    a=2+4i\u001b[0m\n\u001b[1;37m        ^\u001b[0m\n\u001b[1;31mSyntaxError\u001b[0m\u001b[1;31m:\u001b[0m invalid decimal literal\n"
     ]
    }
   ],
   "source": [
    "a=2+4i\n",
    "print(a,type(a))"
   ]
  },
  {
   "cell_type": "markdown",
   "id": "04366400",
   "metadata": {},
   "source": [
    "SyntaxError: invalid decimal literal, is due to the incorrect syntax used to represent a complex number in Python. In Python, the imaginary unit is represented by j or J, not i"
   ]
  },
  {
   "cell_type": "code",
   "execution_count": 35,
   "id": "80fd6043",
   "metadata": {
    "scrolled": true
   },
   "outputs": [
    {
     "name": "stdout",
     "output_type": "stream",
     "text": [
      "(2+4j)\n"
     ]
    }
   ],
   "source": [
    "print(a)"
   ]
  },
  {
   "cell_type": "code",
   "execution_count": 38,
   "id": "5a5f3803",
   "metadata": {
    "scrolled": true
   },
   "outputs": [
    {
     "name": "stdout",
     "output_type": "stream",
     "text": [
      "2.0\n"
     ]
    }
   ],
   "source": [
    "print(a.real)"
   ]
  },
  {
   "cell_type": "code",
   "execution_count": 39,
   "id": "c246fab9",
   "metadata": {
    "scrolled": false
   },
   "outputs": [
    {
     "name": "stdout",
     "output_type": "stream",
     "text": [
      "4.0\n"
     ]
    }
   ],
   "source": [
    "print(a.imag)"
   ]
  },
  {
   "cell_type": "code",
   "execution_count": 46,
   "id": "a6302b48",
   "metadata": {},
   "outputs": [
    {
     "name": "stdout",
     "output_type": "stream",
     "text": [
      "4.0\n"
     ]
    }
   ],
   "source": [
    "print(a.imag)"
   ]
  },
  {
   "cell_type": "code",
   "execution_count": 40,
   "id": "a617c885",
   "metadata": {
    "scrolled": true
   },
   "outputs": [
    {
     "name": "stdout",
     "output_type": "stream",
     "text": [
      "(7+10j)\n"
     ]
    }
   ],
   "source": [
    "a=2+4j+3+5j+2+1j\n",
    "print(a)"
   ]
  },
  {
   "cell_type": "code",
   "execution_count": 41,
   "id": "e3de749e",
   "metadata": {},
   "outputs": [
    {
     "name": "stdout",
     "output_type": "stream",
     "text": [
      "(13+3j)\n"
     ]
    }
   ],
   "source": [
    "a=2+3j+2+4+5\n",
    "print(a)"
   ]
  },
  {
   "cell_type": "code",
   "execution_count": 42,
   "id": "e930f7b9",
   "metadata": {},
   "outputs": [
    {
     "name": "stdout",
     "output_type": "stream",
     "text": [
      "(3+0j)\n"
     ]
    }
   ],
   "source": [
    "a=3\n",
    "d=complex(a)\n",
    "print(d)"
   ]
  },
  {
   "cell_type": "code",
   "execution_count": 43,
   "id": "c44c91aa",
   "metadata": {},
   "outputs": [
    {
     "name": "stdout",
     "output_type": "stream",
     "text": [
      "(19+4j)\n"
     ]
    }
   ],
   "source": [
    "a=3+4j+True+3+0b1011+False+True-True-True+2+False\n",
    "# Output-- \n",
    "print(a)"
   ]
  },
  {
   "cell_type": "code",
   "execution_count": 44,
   "id": "7d9f4c9e",
   "metadata": {
    "scrolled": true
   },
   "outputs": [
    {
     "name": "stdout",
     "output_type": "stream",
     "text": [
      "14.0\n",
      "(2.3+4j)\n"
     ]
    }
   ],
   "source": [
    "a=2.3+4j\n",
    "print(a.imag+True+3+False+True+True+a.imag)\n"
   ]
  }
 ],
 "metadata": {
  "kernelspec": {
   "display_name": "Python 3 (ipykernel)",
   "language": "python",
   "name": "python3"
  },
  "language_info": {
   "codemirror_mode": {
    "name": "ipython",
    "version": 3
   },
   "file_extension": ".py",
   "mimetype": "text/x-python",
   "name": "python",
   "nbconvert_exporter": "python",
   "pygments_lexer": "ipython3",
   "version": "3.10.9"
  }
 },
 "nbformat": 4,
 "nbformat_minor": 5
}

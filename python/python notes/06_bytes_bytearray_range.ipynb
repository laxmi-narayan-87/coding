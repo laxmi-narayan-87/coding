{
 "cells": [
  {
   "cell_type": "markdown",
   "id": "e48a01c6",
   "metadata": {},
   "source": [
    "# Bytes Data Type"
   ]
  },
  {
   "cell_type": "markdown",
   "id": "f8ed8d84",
   "metadata": {},
   "source": [
    "\n",
    "The bytes data type represents a sequence of bytes, which are fundamental units of digital information.\n",
    "\n",
    "<b>Immutable Sequence:</b> Similar to strings, bytes objects are immutable sequences, meaning their contents cannot be modified after creation. This immutability is useful for maintaining data integrity.\n",
    "\n",
    "<b>Binary Data:</b> bytes objects are commonly used to handle binary data, such as images, audio files, network protocols, and other forms of non-text data. They can store any sequence of bytes, including those that don't represent text characters.\n",
    "\n",
    "<b>Byte Values:</b> Each element in a bytes object represents a single byte, an 8-bit unit of data capable of representing values from 0 to 255.\n",
    "\n",
    "<b>Creating bytes Objects:</b> bytes objects can be created using a literal syntax like b'Hello' or with the bytes() constructor, e.g., bytes([65, 66, 67]).\n",
    "\n",
    "<b>Encoding and Decoding:</b> Encoding and decoding between str and bytes is common when working with text-based data. Common encoding methods include UTF-8 and ASCII.\n",
    "\n",
    "<b>Byte Literals:</b> Bytes literals are prefixed with a lowercase 'b', indicating that the content should be treated as bytes rather than characters.\n",
    "\n",
    "<b>Byte String Methods:</b> bytes objects have methods similar to strings, but they operate on bytes rather than characters. These methods include len(), slicing, and iteration.\n",
    "\n"
   ]
  },
  {
   "cell_type": "code",
   "execution_count": 1,
   "id": "86600be0",
   "metadata": {},
   "outputs": [],
   "source": [
    "tp=(10,20,30,40,50)"
   ]
  },
  {
   "cell_type": "code",
   "execution_count": 2,
   "id": "e33a13ee",
   "metadata": {},
   "outputs": [
    {
     "name": "stdout",
     "output_type": "stream",
     "text": [
      "(10, 20, 30, 40, 50) <class 'tuple'>\n"
     ]
    }
   ],
   "source": [
    "print(tp,type(tp))"
   ]
  },
  {
   "cell_type": "code",
   "execution_count": 3,
   "id": "e1203f9f",
   "metadata": {},
   "outputs": [],
   "source": [
    "b=bytes(tp)"
   ]
  },
  {
   "cell_type": "code",
   "execution_count": 4,
   "id": "10b164aa",
   "metadata": {},
   "outputs": [
    {
     "name": "stdout",
     "output_type": "stream",
     "text": [
      "b'\\n\\x14\\x1e(2' <class 'bytes'>\n"
     ]
    }
   ],
   "source": [
    "print(b,type(b))"
   ]
  },
  {
   "cell_type": "code",
   "execution_count": 9,
   "id": "b493da2e",
   "metadata": {},
   "outputs": [],
   "source": [
    "c=[1,2,3,4]"
   ]
  },
  {
   "cell_type": "code",
   "execution_count": 10,
   "id": "ddcbcb3f",
   "metadata": {},
   "outputs": [],
   "source": [
    "b=bytes(c)"
   ]
  },
  {
   "cell_type": "code",
   "execution_count": 11,
   "id": "5e51099f",
   "metadata": {},
   "outputs": [
    {
     "name": "stdout",
     "output_type": "stream",
     "text": [
      "b'\\x01\\x02\\x03\\x04' <class 'bytes'>\n"
     ]
    }
   ],
   "source": [
    "print(b,type(b))"
   ]
  },
  {
   "cell_type": "code",
   "execution_count": 12,
   "id": "5aebcf0a",
   "metadata": {},
   "outputs": [],
   "source": [
    "a=[1,2,3,4,5,6]"
   ]
  },
  {
   "cell_type": "code",
   "execution_count": 13,
   "id": "0c3a0530",
   "metadata": {},
   "outputs": [],
   "source": [
    "b=bytes(a)"
   ]
  },
  {
   "cell_type": "code",
   "execution_count": 14,
   "id": "4870bdc9",
   "metadata": {},
   "outputs": [
    {
     "name": "stdout",
     "output_type": "stream",
     "text": [
      "b'\\x01\\x02\\x03\\x04\\x05\\x06'\n"
     ]
    }
   ],
   "source": [
    "print(b)"
   ]
  },
  {
   "cell_type": "code",
   "execution_count": 15,
   "id": "4cd963bb",
   "metadata": {},
   "outputs": [
    {
     "data": {
      "text/plain": [
       "6"
      ]
     },
     "execution_count": 15,
     "metadata": {},
     "output_type": "execute_result"
    }
   ],
   "source": [
    "b[-1]"
   ]
  },
  {
   "cell_type": "code",
   "execution_count": 16,
   "id": "cab29a7d",
   "metadata": {},
   "outputs": [
    {
     "name": "stdout",
     "output_type": "stream",
     "text": [
      "b'\\x01\\x02\\x03\\x04\\x05\\x06' <class 'bytes'>\n"
     ]
    }
   ],
   "source": [
    "print(b,type(b))"
   ]
  },
  {
   "cell_type": "code",
   "execution_count": 17,
   "id": "e0325501",
   "metadata": {},
   "outputs": [
    {
     "ename": "TypeError",
     "evalue": "'bytes' object does not support item assignment",
     "output_type": "error",
     "traceback": [
      "\u001b[1;31m---------------------------------------------------------------------------\u001b[0m",
      "\u001b[1;31mTypeError\u001b[0m                                 Traceback (most recent call last)",
      "Cell \u001b[1;32mIn[17], line 1\u001b[0m\n\u001b[1;32m----> 1\u001b[0m b[\u001b[38;5;241m2\u001b[39m]\u001b[38;5;241m=\u001b[39m\u001b[38;5;241m55\u001b[39m\n",
      "\u001b[1;31mTypeError\u001b[0m: 'bytes' object does not support item assignment"
     ]
    }
   ],
   "source": [
    "b[2]=55"
   ]
  },
  {
   "cell_type": "code",
   "execution_count": 18,
   "id": "b267285e",
   "metadata": {},
   "outputs": [],
   "source": [
    "z=(1,2,3,4,5,6)"
   ]
  },
  {
   "cell_type": "code",
   "execution_count": 19,
   "id": "bca7e12e",
   "metadata": {},
   "outputs": [
    {
     "name": "stdout",
     "output_type": "stream",
     "text": [
      "b'\\x01\\x02\\x03\\x04\\x05\\x06' <class 'bytes'>\n"
     ]
    }
   ],
   "source": [
    "c=bytes(z)\n",
    "\n",
    "print(c,type(c))"
   ]
  },
  {
   "cell_type": "code",
   "execution_count": 20,
   "id": "1c1795aa",
   "metadata": {},
   "outputs": [
    {
     "name": "stdout",
     "output_type": "stream",
     "text": [
      "1\n",
      "2\n",
      "3\n",
      "4\n",
      "5\n",
      "6\n"
     ]
    }
   ],
   "source": [
    "for i in c:\n",
    "    print(i)"
   ]
  },
  {
   "cell_type": "code",
   "execution_count": 22,
   "id": "34005045",
   "metadata": {},
   "outputs": [],
   "source": [
    "n=[23,4,344,4,5,2,5,66,4,5,5]            "
   ]
  },
  {
   "cell_type": "code",
   "execution_count": 23,
   "id": "6ead4d9a",
   "metadata": {},
   "outputs": [
    {
     "ename": "ValueError",
     "evalue": "bytes must be in range(0, 256)",
     "output_type": "error",
     "traceback": [
      "\u001b[1;31m---------------------------------------------------------------------------\u001b[0m",
      "\u001b[1;31mValueError\u001b[0m                                Traceback (most recent call last)",
      "Cell \u001b[1;32mIn[23], line 1\u001b[0m\n\u001b[1;32m----> 1\u001b[0m j\u001b[38;5;241m=\u001b[39m\u001b[38;5;28;43mbytes\u001b[39;49m\u001b[43m(\u001b[49m\u001b[43mn\u001b[49m\u001b[43m)\u001b[49m\n",
      "\u001b[1;31mValueError\u001b[0m: bytes must be in range(0, 256)"
     ]
    }
   ],
   "source": [
    "j=bytes(n)"
   ]
  },
  {
   "cell_type": "code",
   "execution_count": 29,
   "id": "429ae3c5",
   "metadata": {},
   "outputs": [],
   "source": [
    "j=[23,4,34,4,5,2,5,66,4,5,5]  "
   ]
  },
  {
   "cell_type": "code",
   "execution_count": 30,
   "id": "a1c09d75",
   "metadata": {
    "scrolled": true
   },
   "outputs": [
    {
     "data": {
      "text/plain": [
       "4"
      ]
     },
     "execution_count": 30,
     "metadata": {},
     "output_type": "execute_result"
    }
   ],
   "source": [
    "j[1]"
   ]
  },
  {
   "cell_type": "code",
   "execution_count": 31,
   "id": "3e14e775",
   "metadata": {},
   "outputs": [
    {
     "data": {
      "text/plain": [
       "66"
      ]
     },
     "execution_count": 31,
     "metadata": {},
     "output_type": "execute_result"
    }
   ],
   "source": [
    "j[7]"
   ]
  },
  {
   "cell_type": "code",
   "execution_count": 32,
   "id": "7495ab9b",
   "metadata": {},
   "outputs": [],
   "source": [
    "j[3]=3"
   ]
  },
  {
   "cell_type": "code",
   "execution_count": 33,
   "id": "eb2d1edb",
   "metadata": {},
   "outputs": [
    {
     "data": {
      "text/plain": [
       "[23, 4, 34, 3]"
      ]
     },
     "execution_count": 33,
     "metadata": {},
     "output_type": "execute_result"
    }
   ],
   "source": [
    "j[0:4]"
   ]
  },
  {
   "cell_type": "code",
   "execution_count": 35,
   "id": "cad37b66",
   "metadata": {},
   "outputs": [
    {
     "name": "stdout",
     "output_type": "stream",
     "text": [
      "b'\\x17\\x04\"\\x03\\x05\\x02\\x05B\\x04\\x05\\x05'\n"
     ]
    }
   ],
   "source": [
    "n = bytes(j)\n",
    "\n",
    "print(n)"
   ]
  },
  {
   "cell_type": "code",
   "execution_count": 38,
   "id": "4ea1c44a",
   "metadata": {},
   "outputs": [
    {
     "name": "stdout",
     "output_type": "stream",
     "text": [
      "b'\\x00\\x00\\x00\\x00\\x00\\x00\\x00\\x00\\x00\\x00\\x00\\x00\\x00\\x00\\x00\\x00\\x00\\x00\\x00\\x00\\x00\\x00\\x00\\x00\\x00\\x00\\x00\\x00\\x00\\x00\\x00\\x00\\x00\\x00\\x00\\x00\\x00\\x00\\x00\\x00\\x00\\x00\\x00\\x00\\x00\\x00\\x00\\x00\\x00\\x00\\x00\\x00\\x00\\x00\\x00\\x00\\x00\\x00\\x00\\x00\\x00\\x00\\x00\\x00\\x00\\x00\\x00\\x00\\x00\\x00\\x00\\x00\\x00\\x00\\x00\\x00\\x00\\x00\\x00\\x00\\x00\\x00\\x00\\x00\\x00\\x00\\x00\\x00\\x00\\x00\\x00\\x00\\x00\\x00\\x00\\x00\\x00\\x00\\x00\\x00'\n"
     ]
    }
   ],
   "source": [
    "c=bytes(100)\n",
    "print(c)\n",
    "\n",
    "\n",
    "# This code c = bytes(100) creates a bytes object named c with a length of 100 bytes. \n",
    "# In simple terms, it's allocating memory for a sequence of 100 bytes.\n",
    "# In Python, bytes are immutable sequences of bytes, representing binary data. \n",
    "# The bytes() function is used to create a bytes object of a specified length. \n",
    "# When you call bytes(100), it creates a bytes object with 100 zero-valued bytes \n",
    "# (since bytes are immutable, they cannot be changed after creation).\n",
    "# So, the code simply creates a bytes object c consisting of 100 zero-valued bytes."
   ]
  },
  {
   "cell_type": "code",
   "execution_count": null,
   "id": "5a6edbab",
   "metadata": {},
   "outputs": [],
   "source": []
  },
  {
   "cell_type": "markdown",
   "id": "be0818c3",
   "metadata": {},
   "source": [
    "# Bytearray Data Type"
   ]
  },
  {
   "cell_type": "markdown",
   "id": "1f0c36c5",
   "metadata": {},
   "source": [
    "The bytearray data type in Python represents a mutable sequence of bytes.\n",
    "\n",
    "<b>Mutable Sequence of Bytes:</b> Unlike bytes, bytearray objects can be modified after creation, making them useful for scenarios where you need to manipulate binary data.\n",
    "\n",
    "<b>Creation:</b> bytearray objects can be created using the bytearray() constructor, from an iterable of integers (0-255), or by converting from an existing bytes object or another bytearray.\n",
    "\n",
    "<b>Access and Modification:</b> Individual elements (bytes) in a bytearray can be accessed and modified using indexing and slicing.\n",
    "\n",
    "<b>Methods:</b> bytearray objects provide various methods for manipulation, including appending, extending, inserting, removing, and reversing elements.\n",
    "\n",
    "<b>Encoding and Decoding:</b> bytearray objects can be decoded into strings using the decode() method and encoded into bytearray using the encode() method of strings.\n"
   ]
  },
  {
   "cell_type": "markdown",
   "id": "5fb1efbf",
   "metadata": {},
   "source": [
    "\n",
    "<b>Common Use Cases</b>\n",
    "\n",
    "Binary data manipulation, such as file I/O or network protocols.\n",
    "\n",
    "Converting between different binary data representations.\n",
    "\n",
    "Modifying binary data in-place, such as patching binary files."
   ]
  },
  {
   "cell_type": "code",
   "execution_count": 40,
   "id": "e3e769b7",
   "metadata": {},
   "outputs": [
    {
     "name": "stdout",
     "output_type": "stream",
     "text": [
      "ID before modification: 1854808358576\n",
      "ID after modification: 1854808358576\n",
      "bytearray(b'\\n\\x00\\x00\\x00\\x00')\n"
     ]
    }
   ],
   "source": [
    "arr = bytearray(5)\n",
    "print(\"ID before modification:\", id(arr))  # Print ID before modification\n",
    "arr[0] = 10  # Modifying the first byte\n",
    "print(\"ID after modification:\", id(arr))  # Print ID after modification\n",
    "print(arr)"
   ]
  },
  {
   "cell_type": "code",
   "execution_count": 41,
   "id": "fd5ac800",
   "metadata": {},
   "outputs": [
    {
     "name": "stdout",
     "output_type": "stream",
     "text": [
      "ID before modification: 1854808408624\n",
      "ID after modification: 1854808408624\n",
      "bytearray(b'hillo')\n"
     ]
    }
   ],
   "source": [
    "arr = bytearray(b'hello')\n",
    "print(\"ID before modification:\", id(arr))  # Print ID before modification\n",
    "arr[1] = ord('i')  # Modifying the second byte\n",
    "print(\"ID after modification:\", id(arr))  # Print ID after modification\n",
    "print(arr)"
   ]
  },
  {
   "cell_type": "code",
   "execution_count": 43,
   "id": "7b4bb09b",
   "metadata": {},
   "outputs": [
    {
     "name": "stdout",
     "output_type": "stream",
     "text": [
      "ID before modification: 1854808411120\n",
      "ID after modification: 1854808411120\n",
      "bytearray(b'\\x01\\x02\\x03\\x04\\n')\n"
     ]
    }
   ],
   "source": [
    "arr = bytearray([1, 2, 3, 4, 5])\n",
    "print(\"ID before modification:\", id(arr))  # Print ID before modification\n",
    "arr[-1] = 10  # Modifying the last byte\n",
    "print(\"ID after modification:\", id(arr))  # Print ID after modification\n",
    "print(arr)"
   ]
  },
  {
   "cell_type": "code",
   "execution_count": 44,
   "id": "3585bcb7",
   "metadata": {},
   "outputs": [
    {
     "name": "stdout",
     "output_type": "stream",
     "text": [
      "ID before modification: 1854808410352\n",
      "ID after modification: 1854808410352\n",
      "bytearray(b'hello world')\n"
     ]
    }
   ],
   "source": [
    "arr = bytearray(\"hello\", \"utf-8\")\n",
    "print(\"ID before modification:\", id(arr))  # Print ID before modification\n",
    "arr.extend(b' world')  # Extending the bytearray\n",
    "print(\"ID after modification:\", id(arr))  # Print ID after modification\n",
    "print(arr)"
   ]
  },
  {
   "cell_type": "code",
   "execution_count": 45,
   "id": "16801dae",
   "metadata": {},
   "outputs": [
    {
     "name": "stdout",
     "output_type": "stream",
     "text": [
      "ID before modification: 1854808412912\n",
      "ID after modification: 1854808412912\n",
      "bytearray(b'\\x00hi\\x00\\x00')\n"
     ]
    }
   ],
   "source": [
    "arr = bytearray(5)\n",
    "print(\"ID before modification:\", id(arr))  # Print ID before modification\n",
    "arr[1:3] = b'hi'  # Modifying multiple bytes\n",
    "print(\"ID after modification:\", id(arr))  # Print ID after modification\n",
    "print(arr)"
   ]
  },
  {
   "cell_type": "code",
   "execution_count": 46,
   "id": "99e4be0c",
   "metadata": {},
   "outputs": [],
   "source": [
    "data=[10,20,30,40,50,60,70,80]"
   ]
  },
  {
   "cell_type": "code",
   "execution_count": 54,
   "id": "984808fd",
   "metadata": {},
   "outputs": [
    {
     "name": "stdout",
     "output_type": "stream",
     "text": [
      "[10, 20, 30, 40, 50, 60, 70, 80] <class 'list'> 1854808352704\n",
      "bytearray(b'\\n\\x14\\x1e(2<FP') <class 'bytearray'> 1854808421232\n",
      "bytearray(b'\\n\\x14\\x1e(d<FP') <class 'bytearray'> 1854808421232\n",
      "10 20 30 40 100 60 70 80 "
     ]
    }
   ],
   "source": [
    "print(data,type(data),id(data))\n",
    "\n",
    "value = bytearray(data)\n",
    "\n",
    "print(value,type(value),id(value))\n",
    "\n",
    "value[4]=100\n",
    "\n",
    "print(value,type(value),id(value))\n",
    "\n",
    "for i in value:\n",
    "    print(i,end=\" \")"
   ]
  },
  {
   "cell_type": "code",
   "execution_count": 55,
   "id": "d5bf7ba4",
   "metadata": {},
   "outputs": [],
   "source": [
    "b=bytearray([2,3,5,67,8])"
   ]
  },
  {
   "cell_type": "code",
   "execution_count": 57,
   "id": "07a01d97",
   "metadata": {},
   "outputs": [
    {
     "name": "stdout",
     "output_type": "stream",
     "text": [
      "bytearray(b'\\x02\\x03\\x05C\\x08') <class 'bytearray'> 1854808417136\n"
     ]
    }
   ],
   "source": [
    "print(b,type(b),id(b))"
   ]
  },
  {
   "cell_type": "code",
   "execution_count": 58,
   "id": "5ee74f9c",
   "metadata": {},
   "outputs": [],
   "source": [
    "b[2]=44"
   ]
  },
  {
   "cell_type": "code",
   "execution_count": 59,
   "id": "2a21da18",
   "metadata": {},
   "outputs": [
    {
     "name": "stdout",
     "output_type": "stream",
     "text": [
      "bytearray(b'\\x02\\x03,C\\x08') <class 'bytearray'>\n"
     ]
    }
   ],
   "source": [
    "print(b,type(b))"
   ]
  },
  {
   "cell_type": "code",
   "execution_count": 62,
   "id": "67796353",
   "metadata": {},
   "outputs": [
    {
     "name": "stdout",
     "output_type": "stream",
     "text": [
      "2\n",
      "3\n",
      "44\n",
      "67\n",
      "8\n"
     ]
    }
   ],
   "source": [
    "for i in b:\n",
    "    print(i)"
   ]
  },
  {
   "cell_type": "code",
   "execution_count": 65,
   "id": "0a60c1ae",
   "metadata": {},
   "outputs": [
    {
     "name": "stdout",
     "output_type": "stream",
     "text": [
      "bytearray(b'Hello World')\n"
     ]
    }
   ],
   "source": [
    "my_bytearray = bytearray(b'Hello')\n",
    "my_bytearray.extend([32, 87, 111, 114, 108, 100])  # Appending ASCII values for ' World'\n",
    "my_bytearray[0] = 72  # Changing the 'H' back to 'H'\n",
    "\n",
    "print(my_bytearray)  # Outputs: bytearray(b'Hello World')\n"
   ]
  },
  {
   "cell_type": "code",
   "execution_count": null,
   "id": "f42132a8",
   "metadata": {},
   "outputs": [],
   "source": []
  },
  {
   "cell_type": "markdown",
   "id": "789eda1b",
   "metadata": {},
   "source": [
    "# Range"
   ]
  },
  {
   "cell_type": "markdown",
   "id": "94096ae4",
   "metadata": {},
   "source": [
    "The range data type in Python is used to represent a sequence of numbers. It is particularly useful when you need to iterate over a sequence of numbers in a loop, as it provides a concise way to generate such sequences. The range type is commonly used in conjunction with loops, especially with the for loop, to iterate a specific number of times.\n",
    "\n",
    "<b>Immutable Sequence:</b> A range object represents an immutable sequence of numbers. Once created, you cannot modify its elements.\n",
    "\n",
    "<b>Memory Efficiency:</b> Unlike a list that stores all elements in memory, a range object generates numbers as they are needed, making it more memory-efficient, especially for large ranges.\n",
    "\n",
    "range(start, stop[, step])\n",
    "\n",
    "<b>start:</b> The starting value of the sequence (inclusive). If not specified, it defaults to 0.\n",
    "\n",
    "<b>stop:</b> The end value of the sequence (exclusive).\n",
    "\n",
    "<b>step:</b> The step size between each number in the sequence. If not specified, it defaults to 1.\n",
    "\n",
    "<b>Inclusivity:</b> The start value is included in the sequence, while the stop value is excluded. This means that the sequence includes numbers from start up to, but not including, stop.\n",
    "\n",
    "<b>Negative Step:</b> You can use a negative step value to generate a sequence in reverse order. In this case, start should be greater than stop.\n",
    "\n",
    "<b>Usage:</b> range objects are commonly used in loops to control the number of iterations. They can also be converted to other sequence types like lists or tuples if you need to work with the entire sequence of numbers at once.\n",
    "\n"
   ]
  },
  {
   "cell_type": "code",
   "execution_count": 67,
   "id": "8cf272be",
   "metadata": {},
   "outputs": [
    {
     "name": "stdout",
     "output_type": "stream",
     "text": [
      "range(0, 5) <class 'range'> 1854774652736\n",
      "0\n",
      "1\n",
      "2\n",
      "3\n",
      "4\n"
     ]
    }
   ],
   "source": [
    "my_range = range(5)\n",
    "print(my_range,type(my_range),id(my_range))\n",
    "\n",
    "for num in my_range:\n",
    "    print(num)\n"
   ]
  },
  {
   "cell_type": "code",
   "execution_count": 68,
   "id": "550bbcdd",
   "metadata": {},
   "outputs": [
    {
     "name": "stdout",
     "output_type": "stream",
     "text": [
      "range(2, 7) <class 'range'> 1854798950736\n",
      "2\n",
      "3\n",
      "4\n",
      "5\n",
      "6\n"
     ]
    }
   ],
   "source": [
    "my_range = range(2, 7)\n",
    "\n",
    "print(my_range,type(my_range),id(my_range))\n",
    "\n",
    "for num in my_range:\n",
    "    print(num)\n"
   ]
  },
  {
   "cell_type": "code",
   "execution_count": 69,
   "id": "d87ca64b",
   "metadata": {},
   "outputs": [
    {
     "name": "stdout",
     "output_type": "stream",
     "text": [
      "range(0, 11, 2) <class 'range'> 1854774191488\n",
      "0\n",
      "2\n",
      "4\n",
      "6\n",
      "8\n",
      "10\n"
     ]
    }
   ],
   "source": [
    "\n",
    "# Create a range object from 0 to 10 (exclusive) with a step of 2\n",
    "\n",
    "my_range = range(0, 11, 2)\n",
    "\n",
    "print(my_range,type(my_range),id(my_range))\n",
    "\n",
    "for num in my_range:\n",
    "    print(num)\n",
    "\n"
   ]
  },
  {
   "cell_type": "code",
   "execution_count": 71,
   "id": "8c7529ee",
   "metadata": {},
   "outputs": [
    {
     "name": "stdout",
     "output_type": "stream",
     "text": [
      "range(10, 0, -1) <class 'range'> 1854774644432\n",
      "10\n",
      "9\n",
      "8\n",
      "7\n",
      "6\n",
      "5\n",
      "4\n",
      "3\n",
      "2\n",
      "1\n"
     ]
    }
   ],
   "source": [
    "# Generate numbers from 10 to 1 in reverse order\n",
    "my_range = range(10, 0, -1)\n",
    "\n",
    "print(my_range,type(my_range),id(my_range))\n",
    "\n",
    "for num in my_range:\n",
    "    print(num)\n"
   ]
  },
  {
   "cell_type": "code",
   "execution_count": 72,
   "id": "82d91475",
   "metadata": {},
   "outputs": [
    {
     "name": "stdout",
     "output_type": "stream",
     "text": [
      "3 is in the range.\n"
     ]
    }
   ],
   "source": [
    "# Check if a number is in a range\n",
    "my_range = range(5)\n",
    "if 3 in my_range:\n",
    "    print(\"3 is in the range.\")\n",
    "else:\n",
    "    print(\"3 is not in the range.\")\n"
   ]
  },
  {
   "cell_type": "code",
   "execution_count": 74,
   "id": "5b865f5f",
   "metadata": {},
   "outputs": [
    {
     "name": "stdout",
     "output_type": "stream",
     "text": [
      "10\n",
      "30\n",
      "50\n"
     ]
    }
   ],
   "source": [
    "my_list = [10, 20, 30, 40, 50]\n",
    "indices = range(0, 5, 2)  # Even indices\n",
    "for i in indices:\n",
    "    print(my_list[i])\n"
   ]
  },
  {
   "cell_type": "code",
   "execution_count": 75,
   "id": "8abc0ee2",
   "metadata": {
    "scrolled": true
   },
   "outputs": [
    {
     "name": "stdout",
     "output_type": "stream",
     "text": [
      "1\n",
      "3\n",
      "5\n",
      "7\n",
      "9\n"
     ]
    }
   ],
   "source": [
    "# Positive step range from 1 to 10 with a step of 2\n",
    "positive_range = range(1, 11, 2)\n",
    "for num in positive_range:\n",
    "    print(num)\n"
   ]
  },
  {
   "cell_type": "code",
   "execution_count": 76,
   "id": "14fd009f",
   "metadata": {},
   "outputs": [
    {
     "name": "stdout",
     "output_type": "stream",
     "text": [
      "0\n",
      "3\n",
      "6\n",
      "9\n",
      "12\n",
      "15\n"
     ]
    }
   ],
   "source": [
    "# Positive step range from 0 to 15 with a step of 3\n",
    "positive_range = range(0, 16, 3)\n",
    "for num in positive_range:\n",
    "    print(num)\n"
   ]
  },
  {
   "cell_type": "code",
   "execution_count": 77,
   "id": "b9011f99",
   "metadata": {},
   "outputs": [
    {
     "name": "stdout",
     "output_type": "stream",
     "text": [
      "10\n",
      "8\n",
      "6\n",
      "4\n",
      "2\n"
     ]
    }
   ],
   "source": [
    "# Negative step range from 10 to 1 with a step of -2\n",
    "negative_range = range(10, 0, -2)\n",
    "for num in negative_range:\n",
    "    print(num)\n"
   ]
  },
  {
   "cell_type": "code",
   "execution_count": 78,
   "id": "5968dfd1",
   "metadata": {},
   "outputs": [
    {
     "name": "stdout",
     "output_type": "stream",
     "text": [
      "15\n",
      "12\n",
      "9\n",
      "6\n",
      "3\n",
      "0\n"
     ]
    }
   ],
   "source": [
    "# Negative step range from 15 to 0 with a step of -3\n",
    "negative_range = range(15, -1, -3)\n",
    "for num in negative_range:\n",
    "    print(num)\n"
   ]
  },
  {
   "cell_type": "code",
   "execution_count": 80,
   "id": "7682ce9c",
   "metadata": {},
   "outputs": [
    {
     "name": "stdout",
     "output_type": "stream",
     "text": [
      "7\n",
      "14\n",
      "21\n",
      "28\n",
      "35\n",
      "42\n",
      "49\n",
      "56\n",
      "63\n",
      "70\n"
     ]
    }
   ],
   "source": [
    "# Generate multiplication numbers from 7 to 70\n",
    "for i in range(7, 71, 7):\n",
    "    print(i)\n"
   ]
  },
  {
   "cell_type": "code",
   "execution_count": 81,
   "id": "912e11d5",
   "metadata": {},
   "outputs": [
    {
     "name": "stdout",
     "output_type": "stream",
     "text": [
      "range(0, 10) <class 'range'> 1854775458624\n"
     ]
    }
   ],
   "source": [
    "a=range(10)\n",
    "print(a,type(a),id(a))"
   ]
  },
  {
   "cell_type": "code",
   "execution_count": 82,
   "id": "65a51a6c",
   "metadata": {},
   "outputs": [
    {
     "name": "stdout",
     "output_type": "stream",
     "text": [
      "-5\n",
      "-2\n",
      "1\n",
      "4\n"
     ]
    }
   ],
   "source": [
    "for i in range(-5,6,3):\n",
    "    print(i)"
   ]
  },
  {
   "cell_type": "code",
   "execution_count": 84,
   "id": "6f1def3d",
   "metadata": {},
   "outputs": [],
   "source": [
    "for i in range(-13,13,-4):\n",
    "    print(i)"
   ]
  },
  {
   "cell_type": "code",
   "execution_count": 86,
   "id": "b63bb6cc",
   "metadata": {},
   "outputs": [],
   "source": [
    "r=range(104,110)"
   ]
  },
  {
   "cell_type": "code",
   "execution_count": 87,
   "id": "f033b7ce",
   "metadata": {
    "scrolled": true
   },
   "outputs": [
    {
     "ename": "TypeError",
     "evalue": "'range' object does not support item assignment",
     "output_type": "error",
     "traceback": [
      "\u001b[1;31m---------------------------------------------------------------------------\u001b[0m",
      "\u001b[1;31mTypeError\u001b[0m                                 Traceback (most recent call last)",
      "Cell \u001b[1;32mIn[87], line 1\u001b[0m\n\u001b[1;32m----> 1\u001b[0m r[\u001b[38;5;241m4\u001b[39m]\u001b[38;5;241m=\u001b[39m\u001b[38;5;241m34\u001b[39m\n",
      "\u001b[1;31mTypeError\u001b[0m: 'range' object does not support item assignment"
     ]
    }
   ],
   "source": [
    "r[4]=34"
   ]
  },
  {
   "cell_type": "code",
   "execution_count": 88,
   "id": "edc80abc",
   "metadata": {},
   "outputs": [
    {
     "name": "stdout",
     "output_type": "stream",
     "text": [
      "10\n",
      "13\n",
      "16\n",
      "19\n",
      "22\n",
      "25\n",
      "28\n"
     ]
    }
   ],
   "source": [
    "for i in range(10,30,3):\n",
    "    print(i)"
   ]
  },
  {
   "cell_type": "code",
   "execution_count": 90,
   "id": "26e285b3",
   "metadata": {},
   "outputs": [],
   "source": [
    "a=\"Python Programming\""
   ]
  },
  {
   "cell_type": "code",
   "execution_count": 91,
   "id": "882175a8",
   "metadata": {},
   "outputs": [
    {
     "name": "stdout",
     "output_type": "stream",
     "text": [
      "g\n",
      "n\n",
      "i\n",
      "m\n",
      "m\n",
      "a\n",
      "r\n",
      "g\n",
      "o\n",
      "r\n",
      "P\n",
      " \n",
      "n\n",
      "o\n",
      "h\n",
      "t\n",
      "y\n",
      "P\n"
     ]
    }
   ],
   "source": [
    "for i in a[::-1]:\n",
    "    print(i)"
   ]
  },
  {
   "cell_type": "code",
   "execution_count": 92,
   "id": "7fc2445d",
   "metadata": {},
   "outputs": [
    {
     "name": "stdout",
     "output_type": "stream",
     "text": [
      " \n",
      "P\n",
      "r\n",
      "o\n",
      "g\n",
      "r\n",
      "a\n",
      "m\n",
      "m\n",
      "i\n",
      "n\n",
      "g\n"
     ]
    }
   ],
   "source": [
    "for i in a[6:]:\n",
    "    print(i)"
   ]
  },
  {
   "cell_type": "code",
   "execution_count": 93,
   "id": "f4666028",
   "metadata": {},
   "outputs": [
    {
     "name": "stdout",
     "output_type": "stream",
     "text": [
      "-12\n",
      "-13\n",
      "-14\n",
      "-15\n",
      "-16\n",
      "-17\n",
      "-18\n",
      "-19\n",
      "-20\n",
      "-21\n",
      "-22\n",
      "-23\n",
      "-24\n",
      "-25\n",
      "-26\n",
      "-27\n",
      "-28\n",
      "-29\n",
      "-30\n",
      "-31\n",
      "-32\n",
      "-33\n"
     ]
    }
   ],
   "source": [
    "for i in range(-12,-34,-1):\n",
    "    print(i)"
   ]
  },
  {
   "cell_type": "code",
   "execution_count": null,
   "id": "46156da0",
   "metadata": {},
   "outputs": [],
   "source": []
  }
 ],
 "metadata": {
  "kernelspec": {
   "display_name": "Python 3 (ipykernel)",
   "language": "python",
   "name": "python3"
  },
  "language_info": {
   "codemirror_mode": {
    "name": "ipython",
    "version": 3
   },
   "file_extension": ".py",
   "mimetype": "text/x-python",
   "name": "python",
   "nbconvert_exporter": "python",
   "pygments_lexer": "ipython3",
   "version": "3.10.9"
  }
 },
 "nbformat": 4,
 "nbformat_minor": 5
}

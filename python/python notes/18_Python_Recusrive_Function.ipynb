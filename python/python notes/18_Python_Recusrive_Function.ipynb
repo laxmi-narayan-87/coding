{
 "cells": [
  {
   "cell_type": "markdown",
   "id": "304854a8",
   "metadata": {},
   "source": [
    "# Recursive Function"
   ]
  },
  {
   "cell_type": "markdown",
   "id": "c4790323",
   "metadata": {},
   "source": [
    "A recursive function in Python is a function that calls itself as part of its execution. This programming technique is called recursion, and it is particularly useful when you need to solve a problem that can be broken down into smaller, similar subproblems. Recursive functions are widely used in computer science and programming to solve problems like tree traversal, factorial calculations, and more."
   ]
  },
  {
   "cell_type": "markdown",
   "id": "4fece960",
   "metadata": {},
   "source": [
    "It's like a special type of function that can do something and also ask itself to do the same thing.\n",
    "\n",
    "Recursion: Think of it as a problem-solving method where you tackle a big problem by splitting it into smaller problems of the same type. It's like breaking a big task into smaller tasks that are easier to handle.\n",
    "    \n",
    "Use Cases: Recursion is handy when you face a problem that can be broken down into smaller, similar problems. For example, if you want to explore all the branches of a tree, calculate factorials of numbers, or navigate through complex structures like mazes, you can use recursion to simplify the task.    "
   ]
  },
  {
   "cell_type": "code",
   "execution_count": 27,
   "id": "927d1885",
   "metadata": {},
   "outputs": [],
   "source": [
    "import sys "
   ]
  },
  {
   "cell_type": "code",
   "execution_count": 13,
   "id": "1e56b838",
   "metadata": {
    "scrolled": true
   },
   "outputs": [
    {
     "data": {
      "text/plain": [
       "3000"
      ]
     },
     "execution_count": 13,
     "metadata": {},
     "output_type": "execute_result"
    }
   ],
   "source": [
    "sys.getrecursionlimit()"
   ]
  },
  {
   "cell_type": "code",
   "execution_count": 14,
   "id": "03209d31",
   "metadata": {},
   "outputs": [],
   "source": [
    "sys.setrecursionlimit(100)"
   ]
  },
  {
   "cell_type": "code",
   "execution_count": 15,
   "id": "fae12281",
   "metadata": {},
   "outputs": [
    {
     "data": {
      "text/plain": [
       "100"
      ]
     },
     "execution_count": 15,
     "metadata": {},
     "output_type": "execute_result"
    }
   ],
   "source": [
    "sys.getrecursionlimit()"
   ]
  },
  {
   "cell_type": "code",
   "execution_count": 20,
   "id": "dec54560",
   "metadata": {},
   "outputs": [
    {
     "data": {
      "text/plain": [
       "720"
      ]
     },
     "execution_count": 20,
     "metadata": {},
     "output_type": "execute_result"
    }
   ],
   "source": [
    "# factorial\n",
    "\n",
    "def fact(n):\n",
    "    if (n==0 or n==1):\n",
    "        return 1\n",
    "    else:\n",
    "        return n * fact(n-1)  # 5*(FACT(4))   4*FACT(3)\n",
    "    \n",
    "fact(6)"
   ]
  },
  {
   "cell_type": "code",
   "execution_count": 21,
   "id": "a92e10ab",
   "metadata": {},
   "outputs": [
    {
     "data": {
      "text/plain": [
       "55"
      ]
     },
     "execution_count": 21,
     "metadata": {},
     "output_type": "execute_result"
    }
   ],
   "source": [
    "def sum(n): \n",
    "    if n==0:\n",
    "        return 0\n",
    "    else:\n",
    "        return n + sum(n-1)\n",
    "    \n",
    "sum(10)"
   ]
  },
  {
   "cell_type": "code",
   "execution_count": 19,
   "id": "5b3a99e7",
   "metadata": {},
   "outputs": [
    {
     "name": "stdout",
     "output_type": "stream",
     "text": [
      "10\n",
      "9\n",
      "8\n",
      "7\n",
      "6\n",
      "5\n",
      "4\n",
      "3\n",
      "2\n",
      "1\n",
      "Python programming\n"
     ]
    }
   ],
   "source": [
    "def count(n): # 10\n",
    "    if n==0:\n",
    "        print(\"Python programming\")\n",
    "    else:\n",
    "        print(n)\n",
    "        count(n-1)\n",
    "\n",
    "count(10)"
   ]
  },
  {
   "cell_type": "code",
   "execution_count": 18,
   "id": "1d5eeddd",
   "metadata": {},
   "outputs": [
    {
     "name": "stdout",
     "output_type": "stream",
     "text": [
      "Value of i is now 2\n",
      "Value of i is now 3\n",
      "Value of i is now 4\n",
      "Value of i is now 5\n",
      "Value of i is now 6\n",
      "Value of i is now 7\n",
      "Value of i is now 8\n",
      "Value of i is now 9\n",
      "Value of i is now 10\n",
      "Value of i is now 11\n",
      "Value of i is now 12\n",
      "Value of i is now 13\n",
      "Value of i is now 14\n",
      "Value of i is now 15\n",
      "Value of i is now 16\n",
      "Value of i is now 17\n",
      "Value of i is now 18\n",
      "Value of i is now 19\n",
      "Value of i is now 20\n",
      "Value of i is now 21\n",
      "Value of i is now 22\n",
      "Value of i is now 23\n",
      "Value of i is now 24\n",
      "Value of i is now 25\n",
      "Value of i is now 26\n",
      "Value of i is now 27\n",
      "Value of i is now 28\n",
      "Value of i is now 29\n",
      "Value of i is now 30\n",
      "Value of i is now 31\n",
      "Value of i is now 32\n",
      "Value of i is now 33\n",
      "Value of i is now 34\n",
      "Value of i is now 35\n",
      "Value of i is now 36\n",
      "Value of i is now 37\n",
      "Value of i is now 38\n",
      "Value of i is now 39\n",
      "Value of i is now 40\n",
      "Value of i is now 41\n",
      "Value of i is now 42\n",
      "Value of i is now 43\n",
      "Value of i is now 44\n",
      "Value of i is now 45\n",
      "Value of i is now 46\n",
      "Value of i is now 47\n",
      "Value of i is now 48\n",
      "Value of i is now 49\n",
      "Value of i is now 50\n",
      "Value of i is now 51\n",
      "Value of i is now 52\n",
      "Value of i is now 53\n",
      "Value of i is now 54\n",
      "Value of i is now 55\n",
      "Value of i is now 56\n",
      "Value of i is now 57\n",
      "Value of i is now 58\n",
      "Value of i is now 59\n",
      "Value of i is now 60\n",
      "Value of i is now 61\n",
      "Value of i is now 62\n",
      "Value of i is now 63\n",
      "Value of i is now 64\n",
      "Value of i is now 65\n",
      "Value of i is now 66\n",
      "Value of i is now 67\n",
      "Value of i is now 68\n",
      "Value of i is now 69\n",
      "Value of i is now 70\n",
      "Unexpected exception formatting exception. Falling back to standard exception\n"
     ]
    },
    {
     "name": "stderr",
     "output_type": "stream",
     "text": [
      "Traceback (most recent call last):\n",
      "  File \"C:\\Users\\LENOVO\\anaconda3\\lib\\site-packages\\IPython\\core\\interactiveshell.py\", line 3460, in run_code\n",
      "    exec(code_obj, self.user_global_ns, self.user_ns)\n",
      "  File \"C:\\Users\\LENOVO\\AppData\\Local\\Temp\\ipykernel_13920\\3894536811.py\", line 10, in <module>\n",
      "    value()\n",
      "  File \"C:\\Users\\LENOVO\\AppData\\Local\\Temp\\ipykernel_13920\\3894536811.py\", line 7, in value\n",
      "    value()\n",
      "  File \"C:\\Users\\LENOVO\\AppData\\Local\\Temp\\ipykernel_13920\\3894536811.py\", line 7, in value\n",
      "    value()\n",
      "  File \"C:\\Users\\LENOVO\\AppData\\Local\\Temp\\ipykernel_13920\\3894536811.py\", line 7, in value\n",
      "    value()\n",
      "  [Previous line repeated 66 more times]\n",
      "  File \"C:\\Users\\LENOVO\\AppData\\Local\\Temp\\ipykernel_13920\\3894536811.py\", line 6, in value\n",
      "    print(\"Value of i is now\",i)\n",
      "  File \"C:\\Users\\LENOVO\\anaconda3\\lib\\site-packages\\ipykernel\\iostream.py\", line 550, in write\n",
      "    is_child = not self._is_master_process()\n",
      "  File \"C:\\Users\\LENOVO\\anaconda3\\lib\\site-packages\\ipykernel\\iostream.py\", line 438, in _is_master_process\n",
      "    return os.getpid() == self._master_pid\n",
      "RecursionError: maximum recursion depth exceeded while calling a Python object\n",
      "\n",
      "During handling of the above exception, another exception occurred:\n",
      "\n",
      "Traceback (most recent call last):\n",
      "  File \"C:\\Users\\LENOVO\\anaconda3\\lib\\site-packages\\pygments\\lexer.py\", line 495, in _process_state\n",
      "    rex = cls._process_regex(tdef[0], rflags, state)\n",
      "  File \"C:\\Users\\LENOVO\\anaconda3\\lib\\site-packages\\pygments\\lexer.py\", line 423, in _process_regex\n",
      "    regex = regex.get()\n",
      "  File \"C:\\Users\\LENOVO\\anaconda3\\lib\\site-packages\\pygments\\lexer.py\", line 411, in get\n",
      "    return regex_opt(self.words, prefix=self.prefix, suffix=self.suffix)\n",
      "  File \"C:\\Users\\LENOVO\\anaconda3\\lib\\site-packages\\pygments\\regexopt.py\", line 91, in regex_opt\n",
      "    return prefix + regex_opt_inner(strings, '(') + suffix\n",
      "  File \"C:\\Users\\LENOVO\\anaconda3\\lib\\site-packages\\pygments\\regexopt.py\", line 77, in regex_opt_inner\n",
      "    '|'.join(regex_opt_inner(list(group[1]), '')\n",
      "  File \"C:\\Users\\LENOVO\\anaconda3\\lib\\site-packages\\pygments\\regexopt.py\", line 77, in <genexpr>\n",
      "    '|'.join(regex_opt_inner(list(group[1]), '')\n",
      "  File \"C:\\Users\\LENOVO\\anaconda3\\lib\\site-packages\\pygments\\regexopt.py\", line 77, in regex_opt_inner\n",
      "    '|'.join(regex_opt_inner(list(group[1]), '')\n",
      "  File \"C:\\Users\\LENOVO\\anaconda3\\lib\\site-packages\\pygments\\regexopt.py\", line 77, in <genexpr>\n",
      "    '|'.join(regex_opt_inner(list(group[1]), '')\n",
      "  File \"C:\\Users\\LENOVO\\anaconda3\\lib\\site-packages\\pygments\\regexopt.py\", line 77, in regex_opt_inner\n",
      "    '|'.join(regex_opt_inner(list(group[1]), '')\n",
      "  File \"C:\\Users\\LENOVO\\anaconda3\\lib\\site-packages\\pygments\\regexopt.py\", line 77, in <genexpr>\n",
      "    '|'.join(regex_opt_inner(list(group[1]), '')\n",
      "  File \"C:\\Users\\LENOVO\\anaconda3\\lib\\site-packages\\pygments\\regexopt.py\", line 77, in regex_opt_inner\n",
      "    '|'.join(regex_opt_inner(list(group[1]), '')\n",
      "  File \"C:\\Users\\LENOVO\\anaconda3\\lib\\site-packages\\pygments\\regexopt.py\", line 77, in <genexpr>\n",
      "    '|'.join(regex_opt_inner(list(group[1]), '')\n",
      "  File \"C:\\Users\\LENOVO\\anaconda3\\lib\\site-packages\\pygments\\regexopt.py\", line 77, in regex_opt_inner\n",
      "    '|'.join(regex_opt_inner(list(group[1]), '')\n",
      "  File \"C:\\Users\\LENOVO\\anaconda3\\lib\\site-packages\\pygments\\regexopt.py\", line 77, in <genexpr>\n",
      "    '|'.join(regex_opt_inner(list(group[1]), '')\n",
      "  File \"C:\\Users\\LENOVO\\anaconda3\\lib\\site-packages\\pygments\\regexopt.py\", line 77, in regex_opt_inner\n",
      "    '|'.join(regex_opt_inner(list(group[1]), '')\n",
      "  File \"C:\\Users\\LENOVO\\anaconda3\\lib\\site-packages\\pygments\\regexopt.py\", line 77, in <genexpr>\n",
      "    '|'.join(regex_opt_inner(list(group[1]), '')\n",
      "  File \"C:\\Users\\LENOVO\\anaconda3\\lib\\site-packages\\pygments\\regexopt.py\", line 77, in regex_opt_inner\n",
      "    '|'.join(regex_opt_inner(list(group[1]), '')\n",
      "  File \"C:\\Users\\LENOVO\\anaconda3\\lib\\site-packages\\pygments\\regexopt.py\", line 77, in <genexpr>\n",
      "    '|'.join(regex_opt_inner(list(group[1]), '')\n",
      "  File \"C:\\Users\\LENOVO\\anaconda3\\lib\\site-packages\\pygments\\regexopt.py\", line 77, in regex_opt_inner\n",
      "    '|'.join(regex_opt_inner(list(group[1]), '')\n",
      "  File \"C:\\Users\\LENOVO\\anaconda3\\lib\\site-packages\\pygments\\regexopt.py\", line 77, in <genexpr>\n",
      "    '|'.join(regex_opt_inner(list(group[1]), '')\n",
      "  File \"C:\\Users\\LENOVO\\anaconda3\\lib\\site-packages\\pygments\\regexopt.py\", line 77, in regex_opt_inner\n",
      "    '|'.join(regex_opt_inner(list(group[1]), '')\n",
      "  File \"C:\\Users\\LENOVO\\anaconda3\\lib\\site-packages\\pygments\\regexopt.py\", line 77, in <genexpr>\n",
      "    '|'.join(regex_opt_inner(list(group[1]), '')\n",
      "  File \"C:\\Users\\LENOVO\\anaconda3\\lib\\site-packages\\pygments\\regexopt.py\", line 77, in regex_opt_inner\n",
      "    '|'.join(regex_opt_inner(list(group[1]), '')\n",
      "  File \"C:\\Users\\LENOVO\\anaconda3\\lib\\site-packages\\pygments\\regexopt.py\", line 77, in <genexpr>\n",
      "    '|'.join(regex_opt_inner(list(group[1]), '')\n",
      "  File \"C:\\Users\\LENOVO\\anaconda3\\lib\\site-packages\\pygments\\regexopt.py\", line 77, in regex_opt_inner\n",
      "    '|'.join(regex_opt_inner(list(group[1]), '')\n",
      "  File \"C:\\Users\\LENOVO\\anaconda3\\lib\\site-packages\\pygments\\regexopt.py\", line 77, in <genexpr>\n",
      "    '|'.join(regex_opt_inner(list(group[1]), '')\n",
      "  File \"C:\\Users\\LENOVO\\anaconda3\\lib\\site-packages\\pygments\\regexopt.py\", line 77, in regex_opt_inner\n",
      "    '|'.join(regex_opt_inner(list(group[1]), '')\n",
      "  File \"C:\\Users\\LENOVO\\anaconda3\\lib\\site-packages\\pygments\\regexopt.py\", line 77, in <genexpr>\n",
      "    '|'.join(regex_opt_inner(list(group[1]), '')\n",
      "  File \"C:\\Users\\LENOVO\\anaconda3\\lib\\site-packages\\pygments\\regexopt.py\", line 77, in regex_opt_inner\n",
      "    '|'.join(regex_opt_inner(list(group[1]), '')\n",
      "  File \"C:\\Users\\LENOVO\\anaconda3\\lib\\site-packages\\pygments\\regexopt.py\", line 77, in <genexpr>\n",
      "    '|'.join(regex_opt_inner(list(group[1]), '')\n",
      "  File \"C:\\Users\\LENOVO\\anaconda3\\lib\\site-packages\\pygments\\regexopt.py\", line 77, in regex_opt_inner\n",
      "    '|'.join(regex_opt_inner(list(group[1]), '')\n",
      "  File \"C:\\Users\\LENOVO\\anaconda3\\lib\\site-packages\\pygments\\regexopt.py\", line 77, in <genexpr>\n",
      "    '|'.join(regex_opt_inner(list(group[1]), '')\n",
      "  File \"C:\\Users\\LENOVO\\anaconda3\\lib\\site-packages\\pygments\\regexopt.py\", line 63, in regex_opt_inner\n",
      "    + regex_opt_inner([s[plen:] for s in strings], '(?:') \\\n",
      "  File \"C:\\Users\\LENOVO\\anaconda3\\lib\\site-packages\\pygments\\regexopt.py\", line 77, in regex_opt_inner\n",
      "    '|'.join(regex_opt_inner(list(group[1]), '')\n",
      "  File \"C:\\Users\\LENOVO\\anaconda3\\lib\\site-packages\\pygments\\regexopt.py\", line 77, in <genexpr>\n",
      "    '|'.join(regex_opt_inner(list(group[1]), '')\n",
      "  File \"C:\\Users\\LENOVO\\anaconda3\\lib\\site-packages\\pygments\\regexopt.py\", line 77, in regex_opt_inner\n",
      "    '|'.join(regex_opt_inner(list(group[1]), '')\n",
      "  File \"C:\\Users\\LENOVO\\anaconda3\\lib\\site-packages\\pygments\\regexopt.py\", line 77, in <genexpr>\n",
      "    '|'.join(regex_opt_inner(list(group[1]), '')\n",
      "  File \"C:\\Users\\LENOVO\\anaconda3\\lib\\site-packages\\pygments\\regexopt.py\", line 77, in regex_opt_inner\n",
      "    '|'.join(regex_opt_inner(list(group[1]), '')\n",
      "  File \"C:\\Users\\LENOVO\\anaconda3\\lib\\site-packages\\pygments\\regexopt.py\", line 77, in <genexpr>\n",
      "    '|'.join(regex_opt_inner(list(group[1]), '')\n",
      "  File \"C:\\Users\\LENOVO\\anaconda3\\lib\\site-packages\\pygments\\regexopt.py\", line 36, in regex_opt_inner\n",
      "    return open_paren + escape(first) + close_paren\n",
      "  File \"C:\\Users\\LENOVO\\anaconda3\\lib\\re.py\", line 273, in escape\n",
      "    if isinstance(pattern, str):\n",
      "RecursionError: maximum recursion depth exceeded while calling a Python object\n",
      "\n",
      "The above exception was the direct cause of the following exception:\n",
      "\n",
      "Traceback (most recent call last):\n",
      "  File \"C:\\Users\\LENOVO\\anaconda3\\lib\\site-packages\\IPython\\core\\interactiveshell.py\", line 2057, in showtraceback\n",
      "    stb = self.InteractiveTB.structured_traceback(\n",
      "  File \"C:\\Users\\LENOVO\\anaconda3\\lib\\site-packages\\IPython\\core\\ultratb.py\", line 1118, in structured_traceback\n",
      "    return FormattedTB.structured_traceback(\n",
      "  File \"C:\\Users\\LENOVO\\anaconda3\\lib\\site-packages\\IPython\\core\\ultratb.py\", line 1012, in structured_traceback\n",
      "    return VerboseTB.structured_traceback(\n",
      "  File \"C:\\Users\\LENOVO\\anaconda3\\lib\\site-packages\\IPython\\core\\ultratb.py\", line 865, in structured_traceback\n",
      "    formatted_exception = self.format_exception_as_a_whole(etype, evalue, etb, number_of_lines_of_context,\n",
      "  File \"C:\\Users\\LENOVO\\anaconda3\\lib\\site-packages\\IPython\\core\\ultratb.py\", line 818, in format_exception_as_a_whole\n",
      "    frames.append(self.format_record(r))\n",
      "  File \"C:\\Users\\LENOVO\\anaconda3\\lib\\site-packages\\IPython\\core\\ultratb.py\", line 736, in format_record\n",
      "    result += ''.join(_format_traceback_lines(frame_info.lines, Colors, self.has_colors, lvals))\n",
      "  File \"C:\\Users\\LENOVO\\anaconda3\\lib\\site-packages\\IPython\\core\\ultratb.py\", line 155, in _format_traceback_lines\n",
      "    line = stack_line.render(pygmented=has_colors).rstrip('\\n') + '\\n'\n",
      "  File \"C:\\Users\\LENOVO\\anaconda3\\lib\\site-packages\\stack_data\\core.py\", line 360, in render\n",
      "    start_line, lines = self.frame_info._pygmented_scope_lines\n",
      "  File \"C:\\Users\\LENOVO\\anaconda3\\lib\\site-packages\\stack_data\\utils.py\", line 145, in cached_property_wrapper\n",
      "    value = obj.__dict__[self.func.__name__] = self.func(obj)\n",
      "  File \"C:\\Users\\LENOVO\\anaconda3\\lib\\site-packages\\stack_data\\core.py\", line 780, in _pygmented_scope_lines\n",
      "    lines = _pygmented_with_ranges(formatter, code, ranges)\n",
      "  File \"C:\\Users\\LENOVO\\anaconda3\\lib\\site-packages\\stack_data\\utils.py\", line 155, in _pygmented_with_ranges\n",
      "    class MyLexer(type(get_lexer_by_name(\"python3\"))):\n",
      "  File \"C:\\Users\\LENOVO\\anaconda3\\lib\\site-packages\\pygments\\lexers\\__init__.py\", line 113, in get_lexer_by_name\n",
      "    return _lexer_cache[name](**options)\n",
      "  File \"C:\\Users\\LENOVO\\anaconda3\\lib\\site-packages\\pygments\\lexer.py\", line 577, in __call__\n",
      "    cls._tokens = cls.process_tokendef('', cls.get_tokendefs())\n",
      "  File \"C:\\Users\\LENOVO\\anaconda3\\lib\\site-packages\\pygments\\lexer.py\", line 516, in process_tokendef\n",
      "    cls._process_state(tokendefs, processed, state)\n",
      "  File \"C:\\Users\\LENOVO\\anaconda3\\lib\\site-packages\\pygments\\lexer.py\", line 479, in _process_state\n",
      "    tokens.extend(cls._process_state(unprocessed, processed,\n",
      "  File \"C:\\Users\\LENOVO\\anaconda3\\lib\\site-packages\\pygments\\lexer.py\", line 479, in _process_state\n",
      "    tokens.extend(cls._process_state(unprocessed, processed,\n",
      "  File \"C:\\Users\\LENOVO\\anaconda3\\lib\\site-packages\\pygments\\lexer.py\", line 497, in _process_state\n",
      "    raise ValueError(\"uncompilable regex %r in state %r of %r: %s\" %\n",
      "ValueError: uncompilable regex <pygments.lexer.words object at 0x00000179610687C0> in state 'builtins' of <class 'pygments.lexers.python.PythonLexer'>: maximum recursion depth exceeded while calling a Python object\n"
     ]
    }
   ],
   "source": [
    "i=1\n",
    "\n",
    "def value():\n",
    "    global i\n",
    "    i=i+1\n",
    "    print(\"Value of i is now\",i)\n",
    "    value()\n",
    "    \n",
    "    \n",
    "value()"
   ]
  },
  {
   "cell_type": "code",
   "execution_count": 16,
   "id": "0af9ac03",
   "metadata": {},
   "outputs": [],
   "source": [
    "\n",
    "def name(n): #jayesh jayesh\n",
    "    print(f\"Hello {n}, How are you doing today\") # jayesh\n",
    "    name(\"Jayesh\") # jayesh\n",
    "    \n"
   ]
  },
  {
   "cell_type": "code",
   "execution_count": 17,
   "id": "1d66c85d",
   "metadata": {},
   "outputs": [
    {
     "name": "stdout",
     "output_type": "stream",
     "text": [
      "Hello Rohit, How are you doing today\n",
      "Hello Jayesh, How are you doing today\n",
      "Hello Jayesh, How are you doing today\n",
      "Hello Jayesh, How are you doing today\n",
      "Hello Jayesh, How are you doing today\n",
      "Hello Jayesh, How are you doing today\n",
      "Hello Jayesh, How are you doing today\n",
      "Hello Jayesh, How are you doing today\n",
      "Hello Jayesh, How are you doing today\n",
      "Hello Jayesh, How are you doing today\n",
      "Hello Jayesh, How are you doing today\n",
      "Hello Jayesh, How are you doing today\n",
      "Hello Jayesh, How are you doing today\n",
      "Hello Jayesh, How are you doing today\n",
      "Hello Jayesh, How are you doing today\n",
      "Hello Jayesh, How are you doing today\n",
      "Hello Jayesh, How are you doing today\n",
      "Hello Jayesh, How are you doing today\n",
      "Hello Jayesh, How are you doing today\n",
      "Hello Jayesh, How are you doing today\n",
      "Hello Jayesh, How are you doing today\n",
      "Hello Jayesh, How are you doing today\n",
      "Hello Jayesh, How are you doing today\n",
      "Hello Jayesh, How are you doing today\n",
      "Hello Jayesh, How are you doing today\n",
      "Hello Jayesh, How are you doing today\n",
      "Hello Jayesh, How are you doing today\n",
      "Hello Jayesh, How are you doing today\n",
      "Hello Jayesh, How are you doing today\n",
      "Hello Jayesh, How are you doing today\n",
      "Hello Jayesh, How are you doing today\n",
      "Hello Jayesh, How are you doing today\n",
      "Hello Jayesh, How are you doing today\n",
      "Hello Jayesh, How are you doing today\n",
      "Hello Jayesh, How are you doing today\n",
      "Hello Jayesh, How are you doing today\n",
      "Hello Jayesh, How are you doing today\n",
      "Hello Jayesh, How are you doing today\n",
      "Hello Jayesh, How are you doing today\n",
      "Hello Jayesh, How are you doing today\n",
      "Hello Jayesh, How are you doing today\n",
      "Hello Jayesh, How are you doing today\n",
      "Hello Jayesh, How are you doing today\n",
      "Hello Jayesh, How are you doing today\n",
      "Hello Jayesh, How are you doing today\n",
      "Hello Jayesh, How are you doing today\n",
      "Hello Jayesh, How are you doing today\n",
      "Hello Jayesh, How are you doing today\n",
      "Hello Jayesh, How are you doing today\n",
      "Hello Jayesh, How are you doing today\n",
      "Hello Jayesh, How are you doing today\n",
      "Hello Jayesh, How are you doing today\n",
      "Hello Jayesh, How are you doing today\n",
      "Hello Jayesh, How are you doing today\n",
      "Hello Jayesh, How are you doing today\n",
      "Hello Jayesh, How are you doing today\n",
      "Hello Jayesh, How are you doing today\n",
      "Hello Jayesh, How are you doing today\n",
      "Hello Jayesh, How are you doing today\n",
      "Hello Jayesh, How are you doing today\n",
      "Hello Jayesh, How are you doing today\n",
      "Hello Jayesh, How are you doing today\n",
      "Hello Jayesh, How are you doing today\n",
      "Hello Jayesh, How are you doing today\n",
      "Hello Jayesh, How are you doing today\n",
      "Hello Jayesh, How are you doing today\n",
      "Hello Jayesh, How are you doing today\n",
      "Hello Jayesh, How are you doing today\n",
      "Hello Jayesh, How are you doing today\n",
      "Unexpected exception formatting exception. Falling back to standard exception\n"
     ]
    },
    {
     "name": "stderr",
     "output_type": "stream",
     "text": [
      "Traceback (most recent call last):\n",
      "  File \"C:\\Users\\LENOVO\\anaconda3\\lib\\site-packages\\IPython\\core\\interactiveshell.py\", line 3460, in run_code\n",
      "    exec(code_obj, self.user_global_ns, self.user_ns)\n",
      "  File \"C:\\Users\\LENOVO\\AppData\\Local\\Temp\\ipykernel_13920\\3477418686.py\", line 1, in <module>\n",
      "    name(\"Rohit\")\n",
      "  File \"C:\\Users\\LENOVO\\AppData\\Local\\Temp\\ipykernel_13920\\390645963.py\", line 3, in name\n",
      "    name(\"Jayesh\") # jayesh\n",
      "  File \"C:\\Users\\LENOVO\\AppData\\Local\\Temp\\ipykernel_13920\\390645963.py\", line 3, in name\n",
      "    name(\"Jayesh\") # jayesh\n",
      "  File \"C:\\Users\\LENOVO\\AppData\\Local\\Temp\\ipykernel_13920\\390645963.py\", line 3, in name\n",
      "    name(\"Jayesh\") # jayesh\n",
      "  [Previous line repeated 66 more times]\n",
      "  File \"C:\\Users\\LENOVO\\AppData\\Local\\Temp\\ipykernel_13920\\390645963.py\", line 2, in name\n",
      "    print(f\"Hello {n}, How are you doing today\") # jayesh\n",
      "  File \"C:\\Users\\LENOVO\\anaconda3\\lib\\site-packages\\ipykernel\\iostream.py\", line 550, in write\n",
      "    is_child = not self._is_master_process()\n",
      "  File \"C:\\Users\\LENOVO\\anaconda3\\lib\\site-packages\\ipykernel\\iostream.py\", line 438, in _is_master_process\n",
      "    return os.getpid() == self._master_pid\n",
      "RecursionError: maximum recursion depth exceeded while calling a Python object\n",
      "\n",
      "During handling of the above exception, another exception occurred:\n",
      "\n",
      "Traceback (most recent call last):\n",
      "  File \"C:\\Users\\LENOVO\\anaconda3\\lib\\site-packages\\pygments\\lexer.py\", line 495, in _process_state\n",
      "    rex = cls._process_regex(tdef[0], rflags, state)\n",
      "  File \"C:\\Users\\LENOVO\\anaconda3\\lib\\site-packages\\pygments\\lexer.py\", line 423, in _process_regex\n",
      "    regex = regex.get()\n",
      "  File \"C:\\Users\\LENOVO\\anaconda3\\lib\\site-packages\\pygments\\lexer.py\", line 411, in get\n",
      "    return regex_opt(self.words, prefix=self.prefix, suffix=self.suffix)\n",
      "  File \"C:\\Users\\LENOVO\\anaconda3\\lib\\site-packages\\pygments\\regexopt.py\", line 91, in regex_opt\n",
      "    return prefix + regex_opt_inner(strings, '(') + suffix\n",
      "  File \"C:\\Users\\LENOVO\\anaconda3\\lib\\site-packages\\pygments\\regexopt.py\", line 77, in regex_opt_inner\n",
      "    '|'.join(regex_opt_inner(list(group[1]), '')\n",
      "  File \"C:\\Users\\LENOVO\\anaconda3\\lib\\site-packages\\pygments\\regexopt.py\", line 77, in <genexpr>\n",
      "    '|'.join(regex_opt_inner(list(group[1]), '')\n",
      "  File \"C:\\Users\\LENOVO\\anaconda3\\lib\\site-packages\\pygments\\regexopt.py\", line 77, in regex_opt_inner\n",
      "    '|'.join(regex_opt_inner(list(group[1]), '')\n",
      "  File \"C:\\Users\\LENOVO\\anaconda3\\lib\\site-packages\\pygments\\regexopt.py\", line 77, in <genexpr>\n",
      "    '|'.join(regex_opt_inner(list(group[1]), '')\n",
      "  File \"C:\\Users\\LENOVO\\anaconda3\\lib\\site-packages\\pygments\\regexopt.py\", line 77, in regex_opt_inner\n",
      "    '|'.join(regex_opt_inner(list(group[1]), '')\n",
      "  File \"C:\\Users\\LENOVO\\anaconda3\\lib\\site-packages\\pygments\\regexopt.py\", line 77, in <genexpr>\n",
      "    '|'.join(regex_opt_inner(list(group[1]), '')\n",
      "  File \"C:\\Users\\LENOVO\\anaconda3\\lib\\site-packages\\pygments\\regexopt.py\", line 77, in regex_opt_inner\n",
      "    '|'.join(regex_opt_inner(list(group[1]), '')\n",
      "  File \"C:\\Users\\LENOVO\\anaconda3\\lib\\site-packages\\pygments\\regexopt.py\", line 77, in <genexpr>\n",
      "    '|'.join(regex_opt_inner(list(group[1]), '')\n",
      "  File \"C:\\Users\\LENOVO\\anaconda3\\lib\\site-packages\\pygments\\regexopt.py\", line 77, in regex_opt_inner\n",
      "    '|'.join(regex_opt_inner(list(group[1]), '')\n",
      "  File \"C:\\Users\\LENOVO\\anaconda3\\lib\\site-packages\\pygments\\regexopt.py\", line 77, in <genexpr>\n",
      "    '|'.join(regex_opt_inner(list(group[1]), '')\n",
      "  File \"C:\\Users\\LENOVO\\anaconda3\\lib\\site-packages\\pygments\\regexopt.py\", line 77, in regex_opt_inner\n",
      "    '|'.join(regex_opt_inner(list(group[1]), '')\n",
      "  File \"C:\\Users\\LENOVO\\anaconda3\\lib\\site-packages\\pygments\\regexopt.py\", line 77, in <genexpr>\n",
      "    '|'.join(regex_opt_inner(list(group[1]), '')\n",
      "  File \"C:\\Users\\LENOVO\\anaconda3\\lib\\site-packages\\pygments\\regexopt.py\", line 77, in regex_opt_inner\n",
      "    '|'.join(regex_opt_inner(list(group[1]), '')\n",
      "  File \"C:\\Users\\LENOVO\\anaconda3\\lib\\site-packages\\pygments\\regexopt.py\", line 77, in <genexpr>\n",
      "    '|'.join(regex_opt_inner(list(group[1]), '')\n",
      "  File \"C:\\Users\\LENOVO\\anaconda3\\lib\\site-packages\\pygments\\regexopt.py\", line 77, in regex_opt_inner\n",
      "    '|'.join(regex_opt_inner(list(group[1]), '')\n",
      "  File \"C:\\Users\\LENOVO\\anaconda3\\lib\\site-packages\\pygments\\regexopt.py\", line 77, in <genexpr>\n",
      "    '|'.join(regex_opt_inner(list(group[1]), '')\n",
      "  File \"C:\\Users\\LENOVO\\anaconda3\\lib\\site-packages\\pygments\\regexopt.py\", line 77, in regex_opt_inner\n",
      "    '|'.join(regex_opt_inner(list(group[1]), '')\n",
      "  File \"C:\\Users\\LENOVO\\anaconda3\\lib\\site-packages\\pygments\\regexopt.py\", line 77, in <genexpr>\n",
      "    '|'.join(regex_opt_inner(list(group[1]), '')\n",
      "  File \"C:\\Users\\LENOVO\\anaconda3\\lib\\site-packages\\pygments\\regexopt.py\", line 77, in regex_opt_inner\n",
      "    '|'.join(regex_opt_inner(list(group[1]), '')\n",
      "  File \"C:\\Users\\LENOVO\\anaconda3\\lib\\site-packages\\pygments\\regexopt.py\", line 77, in <genexpr>\n",
      "    '|'.join(regex_opt_inner(list(group[1]), '')\n",
      "  File \"C:\\Users\\LENOVO\\anaconda3\\lib\\site-packages\\pygments\\regexopt.py\", line 77, in regex_opt_inner\n",
      "    '|'.join(regex_opt_inner(list(group[1]), '')\n",
      "  File \"C:\\Users\\LENOVO\\anaconda3\\lib\\site-packages\\pygments\\regexopt.py\", line 77, in <genexpr>\n",
      "    '|'.join(regex_opt_inner(list(group[1]), '')\n",
      "  File \"C:\\Users\\LENOVO\\anaconda3\\lib\\site-packages\\pygments\\regexopt.py\", line 77, in regex_opt_inner\n",
      "    '|'.join(regex_opt_inner(list(group[1]), '')\n",
      "  File \"C:\\Users\\LENOVO\\anaconda3\\lib\\site-packages\\pygments\\regexopt.py\", line 77, in <genexpr>\n",
      "    '|'.join(regex_opt_inner(list(group[1]), '')\n",
      "  File \"C:\\Users\\LENOVO\\anaconda3\\lib\\site-packages\\pygments\\regexopt.py\", line 77, in regex_opt_inner\n",
      "    '|'.join(regex_opt_inner(list(group[1]), '')\n",
      "  File \"C:\\Users\\LENOVO\\anaconda3\\lib\\site-packages\\pygments\\regexopt.py\", line 77, in <genexpr>\n",
      "    '|'.join(regex_opt_inner(list(group[1]), '')\n",
      "  File \"C:\\Users\\LENOVO\\anaconda3\\lib\\site-packages\\pygments\\regexopt.py\", line 77, in regex_opt_inner\n",
      "    '|'.join(regex_opt_inner(list(group[1]), '')\n",
      "  File \"C:\\Users\\LENOVO\\anaconda3\\lib\\site-packages\\pygments\\regexopt.py\", line 77, in <genexpr>\n",
      "    '|'.join(regex_opt_inner(list(group[1]), '')\n",
      "  File \"C:\\Users\\LENOVO\\anaconda3\\lib\\site-packages\\pygments\\regexopt.py\", line 63, in regex_opt_inner\n",
      "    + regex_opt_inner([s[plen:] for s in strings], '(?:') \\\n",
      "  File \"C:\\Users\\LENOVO\\anaconda3\\lib\\site-packages\\pygments\\regexopt.py\", line 77, in regex_opt_inner\n",
      "    '|'.join(regex_opt_inner(list(group[1]), '')\n",
      "  File \"C:\\Users\\LENOVO\\anaconda3\\lib\\site-packages\\pygments\\regexopt.py\", line 77, in <genexpr>\n",
      "    '|'.join(regex_opt_inner(list(group[1]), '')\n",
      "  File \"C:\\Users\\LENOVO\\anaconda3\\lib\\site-packages\\pygments\\regexopt.py\", line 77, in regex_opt_inner\n",
      "    '|'.join(regex_opt_inner(list(group[1]), '')\n",
      "  File \"C:\\Users\\LENOVO\\anaconda3\\lib\\site-packages\\pygments\\regexopt.py\", line 77, in <genexpr>\n",
      "    '|'.join(regex_opt_inner(list(group[1]), '')\n",
      "  File \"C:\\Users\\LENOVO\\anaconda3\\lib\\site-packages\\pygments\\regexopt.py\", line 77, in regex_opt_inner\n",
      "    '|'.join(regex_opt_inner(list(group[1]), '')\n",
      "  File \"C:\\Users\\LENOVO\\anaconda3\\lib\\site-packages\\pygments\\regexopt.py\", line 77, in <genexpr>\n",
      "    '|'.join(regex_opt_inner(list(group[1]), '')\n",
      "  File \"C:\\Users\\LENOVO\\anaconda3\\lib\\site-packages\\pygments\\regexopt.py\", line 36, in regex_opt_inner\n",
      "    return open_paren + escape(first) + close_paren\n",
      "  File \"C:\\Users\\LENOVO\\anaconda3\\lib\\re.py\", line 273, in escape\n",
      "    if isinstance(pattern, str):\n",
      "RecursionError: maximum recursion depth exceeded while calling a Python object\n",
      "\n",
      "The above exception was the direct cause of the following exception:\n",
      "\n",
      "Traceback (most recent call last):\n",
      "  File \"C:\\Users\\LENOVO\\anaconda3\\lib\\site-packages\\IPython\\core\\interactiveshell.py\", line 2057, in showtraceback\n",
      "    stb = self.InteractiveTB.structured_traceback(\n",
      "  File \"C:\\Users\\LENOVO\\anaconda3\\lib\\site-packages\\IPython\\core\\ultratb.py\", line 1118, in structured_traceback\n",
      "    return FormattedTB.structured_traceback(\n",
      "  File \"C:\\Users\\LENOVO\\anaconda3\\lib\\site-packages\\IPython\\core\\ultratb.py\", line 1012, in structured_traceback\n",
      "    return VerboseTB.structured_traceback(\n",
      "  File \"C:\\Users\\LENOVO\\anaconda3\\lib\\site-packages\\IPython\\core\\ultratb.py\", line 865, in structured_traceback\n",
      "    formatted_exception = self.format_exception_as_a_whole(etype, evalue, etb, number_of_lines_of_context,\n",
      "  File \"C:\\Users\\LENOVO\\anaconda3\\lib\\site-packages\\IPython\\core\\ultratb.py\", line 818, in format_exception_as_a_whole\n",
      "    frames.append(self.format_record(r))\n",
      "  File \"C:\\Users\\LENOVO\\anaconda3\\lib\\site-packages\\IPython\\core\\ultratb.py\", line 736, in format_record\n",
      "    result += ''.join(_format_traceback_lines(frame_info.lines, Colors, self.has_colors, lvals))\n",
      "  File \"C:\\Users\\LENOVO\\anaconda3\\lib\\site-packages\\IPython\\core\\ultratb.py\", line 155, in _format_traceback_lines\n",
      "    line = stack_line.render(pygmented=has_colors).rstrip('\\n') + '\\n'\n",
      "  File \"C:\\Users\\LENOVO\\anaconda3\\lib\\site-packages\\stack_data\\core.py\", line 360, in render\n",
      "    start_line, lines = self.frame_info._pygmented_scope_lines\n",
      "  File \"C:\\Users\\LENOVO\\anaconda3\\lib\\site-packages\\stack_data\\utils.py\", line 145, in cached_property_wrapper\n",
      "    value = obj.__dict__[self.func.__name__] = self.func(obj)\n",
      "  File \"C:\\Users\\LENOVO\\anaconda3\\lib\\site-packages\\stack_data\\core.py\", line 780, in _pygmented_scope_lines\n",
      "    lines = _pygmented_with_ranges(formatter, code, ranges)\n",
      "  File \"C:\\Users\\LENOVO\\anaconda3\\lib\\site-packages\\stack_data\\utils.py\", line 155, in _pygmented_with_ranges\n",
      "    class MyLexer(type(get_lexer_by_name(\"python3\"))):\n",
      "  File \"C:\\Users\\LENOVO\\anaconda3\\lib\\site-packages\\pygments\\lexers\\__init__.py\", line 113, in get_lexer_by_name\n",
      "    return _lexer_cache[name](**options)\n",
      "  File \"C:\\Users\\LENOVO\\anaconda3\\lib\\site-packages\\pygments\\lexer.py\", line 577, in __call__\n",
      "    cls._tokens = cls.process_tokendef('', cls.get_tokendefs())\n",
      "  File \"C:\\Users\\LENOVO\\anaconda3\\lib\\site-packages\\pygments\\lexer.py\", line 516, in process_tokendef\n",
      "    cls._process_state(tokendefs, processed, state)\n",
      "  File \"C:\\Users\\LENOVO\\anaconda3\\lib\\site-packages\\pygments\\lexer.py\", line 479, in _process_state\n",
      "    tokens.extend(cls._process_state(unprocessed, processed,\n",
      "  File \"C:\\Users\\LENOVO\\anaconda3\\lib\\site-packages\\pygments\\lexer.py\", line 479, in _process_state\n",
      "    tokens.extend(cls._process_state(unprocessed, processed,\n",
      "  File \"C:\\Users\\LENOVO\\anaconda3\\lib\\site-packages\\pygments\\lexer.py\", line 497, in _process_state\n",
      "    raise ValueError(\"uncompilable regex %r in state %r of %r: %s\" %\n",
      "ValueError: uncompilable regex <pygments.lexer.words object at 0x00000179610687C0> in state 'builtins' of <class 'pygments.lexers.python.PythonLexer'>: maximum recursion depth exceeded while calling a Python object\n"
     ]
    }
   ],
   "source": [
    "name(\"Rohit\")"
   ]
  },
  {
   "cell_type": "code",
   "execution_count": 23,
   "id": "3d77d9da",
   "metadata": {},
   "outputs": [
    {
     "data": {
      "text/plain": [
       "16"
      ]
     },
     "execution_count": 23,
     "metadata": {},
     "output_type": "execute_result"
    }
   ],
   "source": [
    "def power(base,exponent): (2,4)\n",
    "    if exponent==0:\n",
    "        return 1\n",
    "    else:\n",
    "        return base *power(base,exponent-1)\n",
    "#2*power(2,3)       2*power(2,2)             2*power(2,1)        2*power(2,0)\n",
    "#  2*8                  2*4=8                     2*2=4              2*1=2\n",
    "power(2,4)"
   ]
  },
  {
   "cell_type": "code",
   "execution_count": 1,
   "id": "53dccdb5",
   "metadata": {},
   "outputs": [
    {
     "name": "stdout",
     "output_type": "stream",
     "text": [
      "Recursion result\n",
      "Current value of k: 6\n",
      "Current value of k: 5\n",
      "Current value of k: 4\n",
      "Current value of k: 3\n",
      "Current value of k: 2\n",
      "Current value of k: 1\n",
      "final result: 21\n"
     ]
    }
   ],
   "source": [
    "def tri_recursion(k):  #  6 5 4 3 2 1 0\n",
    "    if k>0:   # true\n",
    "        print(\"Current value of k:\",k) # \n",
    "        result=k+tri_recursion(k-1) # 6+tri_recursion(5)   5+tri_recusrion(4) 4+tri_recusrion(3) 3+tri_recusrion(2) 2+tri_recusrion(1) 1+tri_recusrion(0)\n",
    "# 6+tri_recursion(5)   5+tri_recusrion(4) 4+tri_recusrion(3) 3+tri_recusrion(2) 2+tri_recusrion(1) 1+tri_recusrion(0)\n",
    "#      6+15                       5+10                 4+6                           3+3                2+1                   1+0\n",
    "        return result\n",
    "    else:\n",
    "        return 0\n",
    "    \n",
    "print(\"Recursion result\")\n",
    "result=tri_recursion(6)\n",
    "print(\"final result:\",result)\n",
    "            "
   ]
  },
  {
   "cell_type": "code",
   "execution_count": 26,
   "id": "e9324574",
   "metadata": {
    "scrolled": false
   },
   "outputs": [
    {
     "name": "stdout",
     "output_type": "stream",
     "text": [
      "1 3 "
     ]
    }
   ],
   "source": [
    "for i in range(5):\n",
    "    if(i%2): print(i,end=' ')"
   ]
  },
  {
   "cell_type": "code",
   "execution_count": 28,
   "id": "1d379b07",
   "metadata": {},
   "outputs": [
    {
     "name": "stdout",
     "output_type": "stream",
     "text": [
      "4 3 2 1 0 "
     ]
    }
   ],
   "source": [
    "n=5  # 5 \n",
    "while (n): #5 4\n",
    "    n=n-1 # 5-1 4-1\n",
    "    print(n,end=' ') # 4 3"
   ]
  }
 ],
 "metadata": {
  "kernelspec": {
   "display_name": "Python 3 (ipykernel)",
   "language": "python",
   "name": "python3"
  },
  "language_info": {
   "codemirror_mode": {
    "name": "ipython",
    "version": 3
   },
   "file_extension": ".py",
   "mimetype": "text/x-python",
   "name": "python",
   "nbconvert_exporter": "python",
   "pygments_lexer": "ipython3",
   "version": "3.10.9"
  }
 },
 "nbformat": 4,
 "nbformat_minor": 5
}

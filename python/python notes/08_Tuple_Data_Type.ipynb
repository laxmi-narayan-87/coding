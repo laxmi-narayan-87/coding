{
 "cells": [
  {
   "cell_type": "markdown",
   "id": "09db1a9b",
   "metadata": {},
   "source": [
    "# Tuple"
   ]
  },
  {
   "cell_type": "markdown",
   "id": "6f443d28",
   "metadata": {},
   "source": [
    "\n",
    "A tuple is an ordered collection of elements, usually of different data types. It maintains the order of the elements as they are added.\n",
    "\n",
    "An object of tuple maintains Insertion Oder i.e. In whichever Order, we insert the data, in the same order we get the output\n",
    "\n",
    "Think of a tuple like a special bag where you can put different items in a specific order. You can't change the items once they're inside the bag, and you can't add or remove anything from it. Each item has a number that shows its place in the bag, starting from 0 for the first item. Tuples are often used when you want to keep a few related things together, like coordinates or pieces of information. They're like a fixed set of things that you can look at, but you can't change what's inside.\n",
    "\n",
    "Immutable: Tuples are immutable, which means once created, you cannot modify, add, or remove elements from them. You can only create a new tuple if you need to make changes.\n",
    "\n",
    "Syntax: Tuples are typically defined using parentheses () and separating elements with commas. For example: (1, \"apple\", 3.14).\n",
    "\n",
    " Heterogeneous: Tuples can hold elements of different data types. For instance, a tuple can contain an integer, a string, and a floating-point number in the same order.\n",
    "\n",
    " Accessing Elements: Elements within a tuple can be accessed using indexing. Indexing starts from 0 for the first element, 1 for the second, and so on. For example, in the tuple (1, 2, 3), 1 is accessed using index 0.\n",
    "\n",
    " Use Cases: Tuples are often used to represent a collection of related values that need to be kept together. For instance, storing coordinates (x, y) or date-time information (year, month, day, hour, minute, second).\n",
    "\n",
    " Function Returns: Tuples are commonly used to return multiple values from a function. This allows you to return a structured set of values instead of using separate return statements.\n",
    "\n",
    " Unpacking: You can unpack the elements of a tuple into individual variables. This is particularly useful when a function returns a tuple, and you want to assign its elements to different variables.\n",
    "\n",
    " Comparing Tuples: Tuples can be compared element-wise. The comparison starts from the first element of each tuple. If they're equal, the second elements are compared, and so on.\n",
    "\n",
    " Size and Performance: Tuples generally consume less memory compared to lists (another common data structure), as they are immutable and don't need methods for modification. This can make them slightly faster and more memory-efficient in certain situations.\n",
    "\n",
    "There are two types of tuples\n",
    "\n",
    "Non Empty Tuple\n",
    "\n",
    "Empty Tuple"
   ]
  },
  {
   "cell_type": "code",
   "execution_count": 1,
   "id": "dd6a8f31",
   "metadata": {},
   "outputs": [
    {
     "name": "stdout",
     "output_type": "stream",
     "text": [
      "() <class 'tuple'>\n"
     ]
    }
   ],
   "source": [
    "# Empty Tuple\n",
    "a=()\n",
    "print(a,type(a))"
   ]
  },
  {
   "cell_type": "code",
   "execution_count": 2,
   "id": "93ad30af",
   "metadata": {},
   "outputs": [
    {
     "name": "stdout",
     "output_type": "stream",
     "text": [
      "(1, 2, 3) <class 'tuple'>\n"
     ]
    }
   ],
   "source": [
    "b=1,2,3\n",
    "print(b,type(b)) "
   ]
  },
  {
   "cell_type": "code",
   "execution_count": 11,
   "id": "0943500c",
   "metadata": {},
   "outputs": [
    {
     "name": "stdout",
     "output_type": "stream",
     "text": [
      "('apple', 'banana', 'cherry', 'orange', 'grape', 'kiwi') <class 'tuple'> 1779100473888\n"
     ]
    }
   ],
   "source": [
    "my_tuple = (\"apple\", \"banana\", \"cherry\", \"orange\", \"grape\", \"kiwi\")\n",
    "print(my_tuple,type(my_tuple),id(my_tuple))"
   ]
  },
  {
   "cell_type": "markdown",
   "id": "6d8e355b",
   "metadata": {},
   "source": [
    "Accessing Elements:\n",
    "\n",
    "You can access elements of a tuple using indexing:"
   ]
  },
  {
   "cell_type": "code",
   "execution_count": 12,
   "id": "bb0bcf93",
   "metadata": {},
   "outputs": [
    {
     "name": "stdout",
     "output_type": "stream",
     "text": [
      "apple\n",
      "cherry\n"
     ]
    }
   ],
   "source": [
    "print(my_tuple[0])  # Output: apple\n",
    "print(my_tuple[2])  # Output: cherry\n"
   ]
  },
  {
   "cell_type": "markdown",
   "id": "020ac919",
   "metadata": {},
   "source": [
    "Slicing:\n",
    "    \n",
    "You can slice tuples to extract a subset of elements:"
   ]
  },
  {
   "cell_type": "code",
   "execution_count": 13,
   "id": "fef8666e",
   "metadata": {},
   "outputs": [
    {
     "name": "stdout",
     "output_type": "stream",
     "text": [
      "('banana', 'cherry', 'orange')\n"
     ]
    }
   ],
   "source": [
    "print(my_tuple[1:4])  # Output: ('banana', 'cherry', 'orange')\n"
   ]
  },
  {
   "cell_type": "markdown",
   "id": "c23c3732",
   "metadata": {},
   "source": [
    "Length:\n",
    "\n",
    "You can find the length of a tuple using the len() function:"
   ]
  },
  {
   "cell_type": "code",
   "execution_count": 15,
   "id": "a20bcaee",
   "metadata": {},
   "outputs": [
    {
     "name": "stdout",
     "output_type": "stream",
     "text": [
      "6\n"
     ]
    }
   ],
   "source": [
    "print(len(my_tuple))  # Output: 6\n"
   ]
  },
  {
   "cell_type": "markdown",
   "id": "439a3ffc",
   "metadata": {},
   "source": [
    "Concatenation:\n",
    "    \n",
    "You can concatenate tuples using the + operator:"
   ]
  },
  {
   "cell_type": "code",
   "execution_count": 16,
   "id": "40809660",
   "metadata": {},
   "outputs": [
    {
     "name": "stdout",
     "output_type": "stream",
     "text": [
      "('apple', 'banana', 'cherry', 'orange', 'grape', 'kiwi', 'melon', 'pineapple')\n"
     ]
    }
   ],
   "source": [
    "new_tuple = my_tuple + (\"melon\", \"pineapple\")\n",
    "print(new_tuple)  # Output: ('apple', 'banana', 'cherry', 'orange', 'grape', 'kiwi', 'melon', 'pineapple')\n"
   ]
  },
  {
   "cell_type": "markdown",
   "id": "892bbeb8",
   "metadata": {},
   "source": [
    "Repetition:\n",
    "    \n",
    "You can repeat a tuple using the * operator:"
   ]
  },
  {
   "cell_type": "code",
   "execution_count": 17,
   "id": "3f5206ff",
   "metadata": {
    "scrolled": true
   },
   "outputs": [
    {
     "name": "stdout",
     "output_type": "stream",
     "text": [
      "('apple', 'banana', 'cherry', 'orange', 'grape', 'kiwi', 'apple', 'banana', 'cherry', 'orange', 'grape', 'kiwi')\n"
     ]
    }
   ],
   "source": [
    "repeated_tuple = my_tuple * 2\n",
    "print(repeated_tuple)  # Output: ('apple', 'banana', 'cherry', 'orange', 'grape', 'kiwi', 'apple', 'banana', 'cherry', 'orange', 'grape', 'kiwi')\n"
   ]
  },
  {
   "cell_type": "markdown",
   "id": "c2795e63",
   "metadata": {},
   "source": [
    "Membership:\n",
    "    \n",
    "You can check if an element is present in a tuple using the in keyword:"
   ]
  },
  {
   "cell_type": "code",
   "execution_count": 18,
   "id": "6e71b2eb",
   "metadata": {},
   "outputs": [
    {
     "name": "stdout",
     "output_type": "stream",
     "text": [
      "True\n",
      "False\n"
     ]
    }
   ],
   "source": [
    "print(\"orange\" in my_tuple)  # Output: True\n",
    "print(\"pear\" in my_tuple)    # Output: False\n"
   ]
  },
  {
   "cell_type": "markdown",
   "id": "0ecff3b2",
   "metadata": {},
   "source": [
    "Iteration:\n",
    "\n",
    "You can iterate over a tuple using a loop:"
   ]
  },
  {
   "cell_type": "code",
   "execution_count": 20,
   "id": "bcd94856",
   "metadata": {
    "scrolled": true
   },
   "outputs": [
    {
     "name": "stdout",
     "output_type": "stream",
     "text": [
      "apple\n",
      "banana\n",
      "cherry\n",
      "orange\n",
      "grape\n",
      "kiwi\n"
     ]
    }
   ],
   "source": [
    "for item in my_tuple:\n",
    "    print(item)\n"
   ]
  },
  {
   "cell_type": "code",
   "execution_count": 22,
   "id": "a25a2d52",
   "metadata": {},
   "outputs": [],
   "source": [
    "my_tuple = (\"apple\", \"banana\", \"cherry\", \"orange\", \"grape\", \"kiwi\", \"banana\")"
   ]
  },
  {
   "cell_type": "markdown",
   "id": "6d9bc1f2",
   "metadata": {},
   "source": [
    "Counting Occurrences with count():\n",
    "\n",
    "count() returns the number of occurrences of a specified value in the tuple:"
   ]
  },
  {
   "cell_type": "code",
   "execution_count": 23,
   "id": "a3cb8515",
   "metadata": {},
   "outputs": [
    {
     "name": "stdout",
     "output_type": "stream",
     "text": [
      "2\n"
     ]
    }
   ],
   "source": [
    "print(my_tuple.count(\"banana\"))  # Output: 2"
   ]
  },
  {
   "cell_type": "markdown",
   "id": "7e794bac",
   "metadata": {},
   "source": [
    "Finding Index with index():\n",
    "    \n",
    "index() returns the index of the first occurrence of a specified value in the tuple:"
   ]
  },
  {
   "cell_type": "code",
   "execution_count": 24,
   "id": "2b2a6440",
   "metadata": {},
   "outputs": [
    {
     "name": "stdout",
     "output_type": "stream",
     "text": [
      "3\n"
     ]
    }
   ],
   "source": [
    "print(my_tuple.index(\"orange\"))  # Output: 3\n"
   ]
  },
  {
   "cell_type": "markdown",
   "id": "4a5c0d1c",
   "metadata": {},
   "source": [
    "Finding Minimum Value with min():\n",
    "    \n",
    "min() returns the minimum value in the tuple:"
   ]
  },
  {
   "cell_type": "code",
   "execution_count": 25,
   "id": "e02f5c73",
   "metadata": {},
   "outputs": [
    {
     "name": "stdout",
     "output_type": "stream",
     "text": [
      "5\n"
     ]
    }
   ],
   "source": [
    "numbers_tuple = (10, 20, 5, 15, 25)\n",
    "print(min(numbers_tuple))  # Output: 5\n"
   ]
  },
  {
   "cell_type": "markdown",
   "id": "f79351d5",
   "metadata": {},
   "source": [
    "Finding Maximum Value with max():\n",
    "    \n",
    "max() returns the maximum value in the tuple:"
   ]
  },
  {
   "cell_type": "code",
   "execution_count": 26,
   "id": "9896af22",
   "metadata": {},
   "outputs": [
    {
     "name": "stdout",
     "output_type": "stream",
     "text": [
      "25\n"
     ]
    }
   ],
   "source": [
    "print(max(numbers_tuple))  # Output: 25\n"
   ]
  },
  {
   "cell_type": "markdown",
   "id": "a412abeb",
   "metadata": {},
   "source": [
    "Finding Sum Values with sum():\n",
    "    \n",
    "Using sum() to find the sum of elements in the tuple"
   ]
  },
  {
   "cell_type": "code",
   "execution_count": 28,
   "id": "03f49d89",
   "metadata": {},
   "outputs": [
    {
     "name": "stdout",
     "output_type": "stream",
     "text": [
      "75\n"
     ]
    }
   ],
   "source": [
    "print(sum(numbers_tuple))"
   ]
  },
  {
   "cell_type": "markdown",
   "id": "1d529a7f",
   "metadata": {},
   "source": [
    "Finding index of number with index():\n",
    "\n",
    "Using index() to find the index of a specified value"
   ]
  },
  {
   "cell_type": "code",
   "execution_count": 30,
   "id": "bae6cb05",
   "metadata": {},
   "outputs": [
    {
     "name": "stdout",
     "output_type": "stream",
     "text": [
      "3\n"
     ]
    }
   ],
   "source": [
    "print(numbers_tuple.index(15))"
   ]
  },
  {
   "cell_type": "markdown",
   "id": "16ec5d30",
   "metadata": {},
   "source": [
    "# Functions/methods that are not applicable to tuples due to their immutable nature:"
   ]
  },
  {
   "cell_type": "markdown",
   "id": "d7c9c5c8",
   "metadata": {},
   "source": [
    "append(): Tuples do not support item assignment or appending because they are immutable.\n",
    "\n",
    "remove(): Since tuples are immutable, you cannot remove elements from them.\n",
    "\n",
    "pop(): Tuples do not have a pop() method because they cannot be modified.\n",
    "\n",
    "insert(): Tuples do not support insertion or any form of item assignment.\n",
    "\n",
    "sort(): Tuples do not support sorting because they are immutable.\n",
    "\n",
    "reverse(): Similarly, tuples do not support reversing their elements.\n",
    "\n",
    "extend(): Tuples cannot be extended with additional elements.\n",
    "\n",
    "clear(): Tuples cannot be cleared of their elements because they cannot be modified.\n",
    "\n",
    "resize(): Unlike lists, tuples do not have a method to resize them because tuples are immutable.\n",
    "\n",
    "del statement: The del statement cannot be used to delete specific elements of a tuple as it can with lists.\n",
    "\n",
    "copy(): While tuples support copying using the copy() function, it's essentially a shallow copy operation as tuples cannot contain mutable objects.\n",
    "\n",
    "setitem(): Tuples do not support item assignment using the __setitem__() method because they are immutable.\n",
    "\n",
    "delitem(): Similarly, tuples do not support item deletion using the __delitem__() method.\n",
    "    \n",
    "update(): Tuples do not have an update() method as dictionaries do. Tuples are not dictionaries, and they cannot be updated in place. "
   ]
  },
  {
   "cell_type": "code",
   "execution_count": 37,
   "id": "ecb5038e",
   "metadata": {
    "scrolled": true
   },
   "outputs": [
    {
     "name": "stdout",
     "output_type": "stream",
     "text": [
      "(12, True, 33.33, 'String', 'JPMORGAN', (3+6j), 'Nano') <class 'tuple'> 1779110959264\n"
     ]
    }
   ],
   "source": [
    "p=(12,True,33.33,\"String\",\"JPMORGAN\",3+6j,\"Nano\")\n",
    "print(p,type(p),id(p))"
   ]
  },
  {
   "cell_type": "code",
   "execution_count": 38,
   "id": "ccb6ceda",
   "metadata": {},
   "outputs": [
    {
     "name": "stdout",
     "output_type": "stream",
     "text": [
      "String\n"
     ]
    }
   ],
   "source": [
    "print(p[3])"
   ]
  },
  {
   "cell_type": "code",
   "execution_count": 39,
   "id": "47550754",
   "metadata": {},
   "outputs": [
    {
     "name": "stdout",
     "output_type": "stream",
     "text": [
      "((3+6j), 'JPMORGAN', 'String')\n"
     ]
    }
   ],
   "source": [
    "print(p[-2:-5:-1])"
   ]
  },
  {
   "cell_type": "code",
   "execution_count": 40,
   "id": "eef4a314",
   "metadata": {
    "scrolled": true
   },
   "outputs": [
    {
     "ename": "TypeError",
     "evalue": "'tuple' object does not support item assignment",
     "output_type": "error",
     "traceback": [
      "\u001b[1;31m---------------------------------------------------------------------------\u001b[0m",
      "\u001b[1;31mTypeError\u001b[0m                                 Traceback (most recent call last)",
      "Cell \u001b[1;32mIn[40], line 1\u001b[0m\n\u001b[1;32m----> 1\u001b[0m p[\u001b[38;5;241m2\u001b[39m]\u001b[38;5;241m=\u001b[39m\u001b[38;5;241m22\u001b[39m\n",
      "\u001b[1;31mTypeError\u001b[0m: 'tuple' object does not support item assignment"
     ]
    }
   ],
   "source": [
    "p[2]=22"
   ]
  },
  {
   "cell_type": "code",
   "execution_count": 35,
   "id": "ab0419a8",
   "metadata": {},
   "outputs": [
    {
     "ename": "AttributeError",
     "evalue": "'tuple' object has no attribute 'add'",
     "output_type": "error",
     "traceback": [
      "\u001b[1;31m---------------------------------------------------------------------------\u001b[0m",
      "\u001b[1;31mAttributeError\u001b[0m                            Traceback (most recent call last)",
      "Cell \u001b[1;32mIn[35], line 1\u001b[0m\n\u001b[1;32m----> 1\u001b[0m \u001b[43mp\u001b[49m\u001b[38;5;241;43m.\u001b[39;49m\u001b[43madd\u001b[49m(\u001b[38;5;241m3\u001b[39m)\n",
      "\u001b[1;31mAttributeError\u001b[0m: 'tuple' object has no attribute 'add'"
     ]
    }
   ],
   "source": [
    "p.add(3)"
   ]
  },
  {
   "cell_type": "code",
   "execution_count": 44,
   "id": "9ba5a568",
   "metadata": {},
   "outputs": [
    {
     "ename": "AttributeError",
     "evalue": "'tuple' object has no attribute 'sort'",
     "output_type": "error",
     "traceback": [
      "\u001b[1;31m---------------------------------------------------------------------------\u001b[0m",
      "\u001b[1;31mAttributeError\u001b[0m                            Traceback (most recent call last)",
      "Cell \u001b[1;32mIn[44], line 1\u001b[0m\n\u001b[1;32m----> 1\u001b[0m \u001b[43mp\u001b[49m\u001b[38;5;241;43m.\u001b[39;49m\u001b[43msort\u001b[49m()\n",
      "\u001b[1;31mAttributeError\u001b[0m: 'tuple' object has no attribute 'sort'"
     ]
    }
   ],
   "source": [
    "p.sort()"
   ]
  },
  {
   "cell_type": "code",
   "execution_count": 45,
   "id": "c2fbf185",
   "metadata": {
    "scrolled": true
   },
   "outputs": [
    {
     "ename": "AttributeError",
     "evalue": "'tuple' object has no attribute 'reverse'",
     "output_type": "error",
     "traceback": [
      "\u001b[1;31m---------------------------------------------------------------------------\u001b[0m",
      "\u001b[1;31mAttributeError\u001b[0m                            Traceback (most recent call last)",
      "Cell \u001b[1;32mIn[45], line 1\u001b[0m\n\u001b[1;32m----> 1\u001b[0m \u001b[43mp\u001b[49m\u001b[38;5;241;43m.\u001b[39;49m\u001b[43mreverse\u001b[49m()\n",
      "\u001b[1;31mAttributeError\u001b[0m: 'tuple' object has no attribute 'reverse'"
     ]
    }
   ],
   "source": [
    "p.reverse()"
   ]
  },
  {
   "cell_type": "code",
   "execution_count": 46,
   "id": "3df7b265",
   "metadata": {},
   "outputs": [
    {
     "ename": "AttributeError",
     "evalue": "'tuple' object has no attribute 'copy'",
     "output_type": "error",
     "traceback": [
      "\u001b[1;31m---------------------------------------------------------------------------\u001b[0m",
      "\u001b[1;31mAttributeError\u001b[0m                            Traceback (most recent call last)",
      "Cell \u001b[1;32mIn[46], line 1\u001b[0m\n\u001b[1;32m----> 1\u001b[0m c\u001b[38;5;241m=\u001b[39m\u001b[43mp\u001b[49m\u001b[38;5;241;43m.\u001b[39;49m\u001b[43mcopy\u001b[49m()\n",
      "\u001b[1;31mAttributeError\u001b[0m: 'tuple' object has no attribute 'copy'"
     ]
    }
   ],
   "source": [
    "c=p.copy() #shallow copy"
   ]
  },
  {
   "cell_type": "code",
   "execution_count": 47,
   "id": "6b7fb9f8",
   "metadata": {},
   "outputs": [],
   "source": [
    "# INNER OR NESTED TUPLE"
   ]
  },
  {
   "cell_type": "code",
   "execution_count": 48,
   "id": "b7ace33f",
   "metadata": {},
   "outputs": [],
   "source": [
    "t=(10,\"Travel\",\"Numpy1.22\",True,33.22,[\"JK\",\"TP\",11,66,36.27,False],[True,\"KL\",\"HT\",\"NT\"],3+2j,5+2j,True,False)"
   ]
  },
  {
   "cell_type": "code",
   "execution_count": 49,
   "id": "7f6e4c81",
   "metadata": {
    "scrolled": true
   },
   "outputs": [
    {
     "name": "stdout",
     "output_type": "stream",
     "text": [
      "(10, 'Travel', 'Numpy1.22', True, 33.22, ['JK', 'TP', 11, 66, 36.27, False], [True, 'KL', 'HT', 'NT'], (3+2j), (5+2j), True, False)\n"
     ]
    }
   ],
   "source": [
    "print(t)"
   ]
  },
  {
   "cell_type": "code",
   "execution_count": 50,
   "id": "550a769a",
   "metadata": {},
   "outputs": [
    {
     "name": "stdout",
     "output_type": "stream",
     "text": [
      "10\n",
      "Travel\n",
      "Numpy1.22\n",
      "True\n",
      "33.22\n",
      "['JK', 'TP', 11, 66, 36.27, False]\n",
      "[True, 'KL', 'HT', 'NT']\n",
      "(3+2j)\n",
      "(5+2j)\n",
      "True\n",
      "False\n"
     ]
    }
   ],
   "source": [
    "for i in t:\n",
    "    print(i)"
   ]
  },
  {
   "cell_type": "code",
   "execution_count": 51,
   "id": "967768a6",
   "metadata": {},
   "outputs": [
    {
     "name": "stdout",
     "output_type": "stream",
     "text": [
      "Numpy1.22 ['JK', 'TP', 11, 66, 36.27, False]\n"
     ]
    }
   ],
   "source": [
    "print(t[2],t[5])"
   ]
  },
  {
   "cell_type": "code",
   "execution_count": 52,
   "id": "3ab3060e",
   "metadata": {},
   "outputs": [
    {
     "name": "stdout",
     "output_type": "stream",
     "text": [
      "Travel ['JK', 'TP', 11, 66, 36.27, False] (3+2j)\n"
     ]
    }
   ],
   "source": [
    "print(t[1],t[5],t[7])"
   ]
  },
  {
   "cell_type": "code",
   "execution_count": 53,
   "id": "71017bd4",
   "metadata": {},
   "outputs": [
    {
     "data": {
      "text/plain": [
       "(10,\n",
       " 'Travel',\n",
       " 'Numpy1.22',\n",
       " True,\n",
       " 33.22,\n",
       " ['JK', 'TP', 11, 66, 36.27, False],\n",
       " [True, 'KL', 'HT', 'NT'],\n",
       " (3+2j),\n",
       " (5+2j),\n",
       " True,\n",
       " False)"
      ]
     },
     "execution_count": 53,
     "metadata": {},
     "output_type": "execute_result"
    }
   ],
   "source": [
    "t"
   ]
  },
  {
   "cell_type": "code",
   "execution_count": 54,
   "id": "943d9410",
   "metadata": {},
   "outputs": [
    {
     "name": "stdout",
     "output_type": "stream",
     "text": [
      "Numpy1.22 <class 'str'> True <class 'bool'> [True, 'KL', 'HT', 'NT'] <class 'list'> (3+2j) <class 'complex'>\n"
     ]
    }
   ],
   "source": [
    "print(t[2],type(t[2]),t[3],type(t[3]),t[6],type(t[6]),t[7],type(t[7]))"
   ]
  },
  {
   "cell_type": "code",
   "execution_count": 55,
   "id": "fe07ca58",
   "metadata": {},
   "outputs": [
    {
     "name": "stdout",
     "output_type": "stream",
     "text": [
      "33.22 <class 'tuple'>\n"
     ]
    }
   ],
   "source": [
    "u=print(t[4],type(t))"
   ]
  },
  {
   "cell_type": "code",
   "execution_count": 56,
   "id": "25e9b749",
   "metadata": {},
   "outputs": [
    {
     "name": "stdout",
     "output_type": "stream",
     "text": [
      "None\n"
     ]
    }
   ],
   "source": [
    "print(u)"
   ]
  },
  {
   "cell_type": "code",
   "execution_count": 57,
   "id": "c1fd6128",
   "metadata": {},
   "outputs": [
    {
     "name": "stdout",
     "output_type": "stream",
     "text": [
      "[2, 5, 8, 73, 35, 'String', 22.22] <class 'list'>\n"
     ]
    }
   ],
   "source": [
    "l=[2,5,8,73,35,\"String\",22.22]\n",
    "print(l,type(l))"
   ]
  },
  {
   "cell_type": "code",
   "execution_count": 58,
   "id": "e77c415a",
   "metadata": {},
   "outputs": [],
   "source": [
    "d=l.copy()"
   ]
  },
  {
   "cell_type": "code",
   "execution_count": 59,
   "id": "a10737d1",
   "metadata": {},
   "outputs": [
    {
     "name": "stdout",
     "output_type": "stream",
     "text": [
      "[2, 5, 8, 73, 35, 'String', 22.22] 1779110835456\n",
      "[2, 5, 8, 73, 35, 'String', 22.22] 1779110249280\n"
     ]
    }
   ],
   "source": [
    "print(l,id(l))\n",
    "print(d,id(d))"
   ]
  },
  {
   "cell_type": "code",
   "execution_count": 60,
   "id": "2682447e",
   "metadata": {},
   "outputs": [],
   "source": [
    "o=(1,2,3,4,54,5,533,55)"
   ]
  },
  {
   "cell_type": "code",
   "execution_count": 61,
   "id": "f13ec2e5",
   "metadata": {},
   "outputs": [
    {
     "name": "stdout",
     "output_type": "stream",
     "text": [
      "[1, 2, 3, 4, 54, 5, 533, 55]\n"
     ]
    }
   ],
   "source": [
    "t=list(o)\n",
    "print(t)"
   ]
  },
  {
   "cell_type": "code",
   "execution_count": 62,
   "id": "61fbd225",
   "metadata": {},
   "outputs": [
    {
     "name": "stdout",
     "output_type": "stream",
     "text": [
      "(1, 2, 3, 4, 54, 5, 533, 55) 1779111341760 <class 'tuple'>\n",
      "[1, 2, 3, 4, 54, 5, 533, 55] 1779110590464 <class 'list'>\n"
     ]
    }
   ],
   "source": [
    "print(o,id(o),type(o))\n",
    "print(t,id(t),type(t))"
   ]
  },
  {
   "cell_type": "code",
   "execution_count": 63,
   "id": "dfd2f620",
   "metadata": {},
   "outputs": [
    {
     "name": "stdout",
     "output_type": "stream",
     "text": [
      "(1, 2, 3, 4, 54, 5, 533, 55)\n"
     ]
    }
   ],
   "source": [
    "j=tuple(t)\n",
    "print(j)"
   ]
  },
  {
   "cell_type": "code",
   "execution_count": 64,
   "id": "7b44acd3",
   "metadata": {},
   "outputs": [
    {
     "name": "stdout",
     "output_type": "stream",
     "text": [
      "(1, 2, 3, 4, 54, 5, 533, 55) <class 'tuple'>\n"
     ]
    }
   ],
   "source": [
    "print(j,type(j))"
   ]
  },
  {
   "cell_type": "code",
   "execution_count": 65,
   "id": "0a468b81",
   "metadata": {},
   "outputs": [
    {
     "name": "stdout",
     "output_type": "stream",
     "text": [
      "(34, 85, 22, 75) <class 'tuple'>\n"
     ]
    }
   ],
   "source": [
    "a=34,85,22,75  #tuple a with elements \n",
    "print(a,type(a))"
   ]
  },
  {
   "cell_type": "code",
   "execution_count": 66,
   "id": "89c64b1b",
   "metadata": {},
   "outputs": [],
   "source": [
    "#tuple unpacking\n",
    "#extracting the elemtents from the tuples in different varaible"
   ]
  },
  {
   "cell_type": "code",
   "execution_count": 67,
   "id": "b99e794c",
   "metadata": {},
   "outputs": [
    {
     "name": "stdout",
     "output_type": "stream",
     "text": [
      "34\n",
      "85\n",
      "22\n",
      "75\n"
     ]
    }
   ],
   "source": [
    "a,b,c,d=a\n",
    "print(a)\n",
    "print(b)\n",
    "print(c)\n",
    "print(d)\n",
    "\n"
   ]
  },
  {
   "cell_type": "code",
   "execution_count": 68,
   "id": "228aa3d8",
   "metadata": {},
   "outputs": [
    {
     "name": "stdout",
     "output_type": "stream",
     "text": [
      "<class 'int'> <class 'int'> <class 'int'> <class 'int'>\n"
     ]
    }
   ],
   "source": [
    "print(type(a),type(b),type(c),type(d))"
   ]
  },
  {
   "cell_type": "code",
   "execution_count": 69,
   "id": "a7c3eb23",
   "metadata": {},
   "outputs": [
    {
     "name": "stdout",
     "output_type": "stream",
     "text": [
      "34\n"
     ]
    }
   ],
   "source": [
    "print(a)"
   ]
  },
  {
   "cell_type": "code",
   "execution_count": 70,
   "id": "149c0fbf",
   "metadata": {},
   "outputs": [
    {
     "name": "stdout",
     "output_type": "stream",
     "text": [
      "85\n"
     ]
    }
   ],
   "source": [
    "print(b)"
   ]
  },
  {
   "cell_type": "code",
   "execution_count": 71,
   "id": "0dbb0c3f",
   "metadata": {},
   "outputs": [
    {
     "name": "stdout",
     "output_type": "stream",
     "text": [
      "22\n"
     ]
    }
   ],
   "source": [
    "print(c)"
   ]
  },
  {
   "cell_type": "code",
   "execution_count": 73,
   "id": "a2134c1f",
   "metadata": {},
   "outputs": [
    {
     "name": "stdout",
     "output_type": "stream",
     "text": [
      "75\n"
     ]
    }
   ],
   "source": [
    "print(d)"
   ]
  },
  {
   "cell_type": "code",
   "execution_count": 74,
   "id": "2646e772",
   "metadata": {},
   "outputs": [],
   "source": [
    "my_tuple=a,b,c"
   ]
  },
  {
   "cell_type": "code",
   "execution_count": 76,
   "id": "89b77d66",
   "metadata": {},
   "outputs": [
    {
     "name": "stdout",
     "output_type": "stream",
     "text": [
      "(34, 85, 22) 1779110575680 1779110575680\n"
     ]
    }
   ],
   "source": [
    "print(my_tuple,id(my_tuple),id(my_tuple))"
   ]
  },
  {
   "cell_type": "code",
   "execution_count": 79,
   "id": "f3f7ec19",
   "metadata": {},
   "outputs": [
    {
     "name": "stdout",
     "output_type": "stream",
     "text": [
      "[3, 4, 1, 3, 6, 4, 3, 3, 2, 3, 5, 5, 4, 57, 6, 4, 6, 8] <class 'list'>\n",
      "(3, 4, 1, 3, 6, 4, 3, 3, 2, 3, 5, 5, 4, 57, 6, 4, 6, 8) <class 'tuple'>\n",
      "{1, 2, 3, 4, 5, 6, 8, 57} <class 'set'>\n",
      "frozenset({1, 2, 3, 4, 5, 6, 8, 57}) <class 'frozenset'>\n"
     ]
    }
   ],
   "source": [
    "f=[3,4,1,3,6,4,3,3,2,3,5,5,4,57,6,4,6,8] \n",
    "i=list(f)\n",
    "u=tuple(f)\n",
    "j=set(f)\n",
    "y=frozenset(f)\n",
    "print(i,type(i))\n",
    "print(u,type(u))\n",
    "print(j,type(j))\n",
    "print(y,type(y))\n"
   ]
  }
 ],
 "metadata": {
  "kernelspec": {
   "display_name": "Python 3 (ipykernel)",
   "language": "python",
   "name": "python3"
  },
  "language_info": {
   "codemirror_mode": {
    "name": "ipython",
    "version": 3
   },
   "file_extension": ".py",
   "mimetype": "text/x-python",
   "name": "python",
   "nbconvert_exporter": "python",
   "pygments_lexer": "ipython3",
   "version": "3.10.9"
  }
 },
 "nbformat": 4,
 "nbformat_minor": 5
}

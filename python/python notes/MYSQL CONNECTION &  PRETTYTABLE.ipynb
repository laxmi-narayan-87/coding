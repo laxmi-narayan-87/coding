{
 "cells": [
  {
   "cell_type": "code",
   "execution_count": null,
   "id": "e418d7d5",
   "metadata": {},
   "outputs": [],
   "source": [
    "pip install mysql.connector"
   ]
  },
  {
   "cell_type": "code",
   "execution_count": 1,
   "id": "6690bd17",
   "metadata": {},
   "outputs": [
    {
     "name": "stdout",
     "output_type": "stream",
     "text": [
      "Database created successfully.\n",
      "MySQL connection is closed.\n"
     ]
    }
   ],
   "source": [
    "import mysql.connector\n",
    "from mysql.connector import Error\n",
    "\n",
    "def create_database(host_name, user_name, user_password, db_name):\n",
    "    try:\n",
    "        connection = mysql.connector.connect(\n",
    "            host=host_name,\n",
    "            user=user_name,\n",
    "            passwd=user_password\n",
    "        )\n",
    "\n",
    "        cursor = connection.cursor()\n",
    "        cursor.execute(f\"CREATE DATABASE {db_name}\")\n",
    "        print(\"Database created successfully.\")\n",
    "    except Error as err:\n",
    "        print(f\"Error: '{err}'\")\n",
    "    finally:\n",
    "        if connection.is_connected():\n",
    "            cursor.close()\n",
    "            connection.close()\n",
    "            print(\"MySQL connection is closed.\")\n",
    "\n",
    "# Example usage\n",
    "host_name = 'localhost'\n",
    "user_name = 'root'\n",
    "user_password = 'nilesh123'\n",
    "new_db_name = 'hostmanagement'\n",
    "\n",
    "create_database(host_name, user_name, user_password, new_db_name)\n"
   ]
  },
  {
   "cell_type": "code",
   "execution_count": 2,
   "id": "a7dab856",
   "metadata": {},
   "outputs": [],
   "source": [
    "import mysql.connector\n",
    "from mysql.connector import Error\n",
    "\n",
    "def create_server_connection(host_name, user_name, user_password, db_name):\n",
    "    connection = None\n",
    "    try:\n",
    "        connection = mysql.connector.connect(\n",
    "            host=host_name,\n",
    "            user=user_name,\n",
    "            passwd=user_password,\n",
    "            database=db_name\n",
    "        )\n",
    "        print(\"MYSQL Database Connection Successful\")\n",
    "    except Error as err:\n",
    "        print(f\"Error: '{err}'\")\n",
    "    \n",
    "    return connection\n"
   ]
  },
  {
   "cell_type": "code",
   "execution_count": 3,
   "id": "7f1d9dbe",
   "metadata": {},
   "outputs": [],
   "source": [
    "def create_table(connection, query):\n",
    "    cursor = connection.cursor()\n",
    "    try:\n",
    "        cursor.execute(query)\n",
    "        print(\"Table Created Successfully\")\n",
    "    except Error as err:\n",
    "        print(f\"Error:'{err}'\")\n",
    "        "
   ]
  },
  {
   "cell_type": "code",
   "execution_count": 4,
   "id": "f7703c2d",
   "metadata": {},
   "outputs": [],
   "source": [
    "def  insert_data(connection, query, data):\n",
    "    cursor = connection.cursor()\n",
    "    try:\n",
    "        cursor.execute(query, data)\n",
    "        connection.commit()\n",
    "        print(\"Data Inserted Successfully\")\n",
    "    except:\n",
    "        print(f\"Error: '{err}'\")\n",
    "        "
   ]
  },
  {
   "cell_type": "code",
   "execution_count": 5,
   "id": "802e4804",
   "metadata": {},
   "outputs": [],
   "source": [
    "def query_data(connection, query):\n",
    "    cursor = connection.cursor()\n",
    "    try:\n",
    "        cursor.execute(query)\n",
    "        result = cursor.fetchall()\n",
    "        return result\n",
    "    except Error as err:\n",
    "        print(f\"Error:'{err}'\")"
   ]
  },
  {
   "cell_type": "code",
   "execution_count": 6,
   "id": "7e338764",
   "metadata": {},
   "outputs": [
    {
     "name": "stdout",
     "output_type": "stream",
     "text": [
      "MYSQL Database Connection Successful\n",
      "Table Created Successfully\n"
     ]
    }
   ],
   "source": [
    "host = 'localhost'\n",
    "user = 'root'\n",
    "password = 'nilesh123'\n",
    "database = 'hostmanagement'\n",
    "\n",
    "conn = create_server_connection(host, user, password, database)\n",
    "\n",
    "create_table_query = \"\"\"\n",
    "CREATE TABLE  IF NOT EXISTS employees(\n",
    "    id INT AUTO_INCREMENT PRIMARY KEY,\n",
    "    name VARCHAR(100),\n",
    "    position VARCHAR(100),\n",
    "    start_date DATE\n",
    ");\n",
    "\"\"\"\n",
    "\n",
    "create_table(conn, create_table_query)"
   ]
  },
  {
   "cell_type": "code",
   "execution_count": 7,
   "id": "394f4b35",
   "metadata": {},
   "outputs": [
    {
     "name": "stdout",
     "output_type": "stream",
     "text": [
      "Data Inserted Successfully\n"
     ]
    }
   ],
   "source": [
    "insert_query = \"\"\"\n",
    "INSERT INTO  employees(name,position,start_date)\n",
    "VALUES(%s, %s, %s);\n",
    "\"\"\"\n",
    "employees_data=(\"John Doe\",\"Software Engineer\", \"2021-06-01\")\n",
    "\n",
    "\n",
    "insert_data(conn,insert_query, employees_data)\n"
   ]
  },
  {
   "cell_type": "code",
   "execution_count": 8,
   "id": "1ff0eaef",
   "metadata": {},
   "outputs": [
    {
     "name": "stdout",
     "output_type": "stream",
     "text": [
      "(1, 'John Doe', 'Software Engineer', datetime.date(2021, 6, 1))\n"
     ]
    }
   ],
   "source": [
    "query = \"SELECT * FROM employees;\"\n",
    "\n",
    "employees = query_data(conn , query)\n",
    "for i in employees:\n",
    "    print(i)\n",
    "    \n",
    "conn.close()"
   ]
  },
  {
   "cell_type": "markdown",
   "id": "a6afbaff",
   "metadata": {},
   "source": [
    "# Pretty Table"
   ]
  },
  {
   "cell_type": "code",
   "execution_count": 12,
   "id": "acaf92c7",
   "metadata": {},
   "outputs": [
    {
     "name": "stdout",
     "output_type": "stream",
     "text": [
      "Collecting prettytable\n",
      "  Downloading prettytable-3.10.0-py3-none-any.whl (28 kB)\n",
      "Requirement already satisfied: wcwidth in c:\\users\\lenovo\\anaconda3\\lib\\site-packages (from prettytable) (0.2.5)\n",
      "Installing collected packages: prettytable\n",
      "Successfully installed prettytable-3.10.0\n",
      "Note: you may need to restart the kernel to use updated packages.\n"
     ]
    }
   ],
   "source": [
    "pip install prettytable"
   ]
  },
  {
   "cell_type": "code",
   "execution_count": 13,
   "id": "2124f588",
   "metadata": {},
   "outputs": [],
   "source": [
    "from prettytable import PrettyTable\n"
   ]
  },
  {
   "cell_type": "code",
   "execution_count": 16,
   "id": "1e8b20ca",
   "metadata": {},
   "outputs": [
    {
     "name": "stdout",
     "output_type": "stream",
     "text": [
      "+--------------+-------+---------+-------+\n",
      "| Student_Name | Class | Subject | Marks |\n",
      "+--------------+-------+---------+-------+\n",
      "|    Akash     |   X   | English |   91  |\n",
      "|    Akash     |   X   | English |   91  |\n",
      "|    Akash     |   X   | English |   91  |\n",
      "|    Akash     |   X   | English |   91  |\n",
      "|    Akash     |   X   | English |   91  |\n",
      "+--------------+-------+---------+-------+\n"
     ]
    }
   ],
   "source": [
    "table = PrettyTable([\"Student_Name\",\"Class\",\"Subject\",\"Marks\"])\n",
    "\n",
    "table.add_row([\"Akash\",\"X\",\"English\",\"91\"])\n",
    "table.add_row([\"Akash\",\"X\",\"English\",\"91\"])\n",
    "table.add_row([\"Akash\",\"X\",\"English\",\"91\"])\n",
    "table.add_row([\"Akash\",\"X\",\"English\",\"91\"])\n",
    "table.add_row([\"Akash\",\"X\",\"English\",\"91\"])\n",
    "\n",
    "print(table)"
   ]
  }
 ],
 "metadata": {
  "kernelspec": {
   "display_name": "Python 3 (ipykernel)",
   "language": "python",
   "name": "python3"
  },
  "language_info": {
   "codemirror_mode": {
    "name": "ipython",
    "version": 3
   },
   "file_extension": ".py",
   "mimetype": "text/x-python",
   "name": "python",
   "nbconvert_exporter": "python",
   "pygments_lexer": "ipython3",
   "version": "3.10.9"
  }
 },
 "nbformat": 4,
 "nbformat_minor": 5
}

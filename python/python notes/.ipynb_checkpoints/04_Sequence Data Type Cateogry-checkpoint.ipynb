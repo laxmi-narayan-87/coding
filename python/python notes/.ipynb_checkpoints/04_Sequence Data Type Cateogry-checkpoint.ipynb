{
 "cells": [
  {
   "cell_type": "markdown",
   "id": "0df1d52d",
   "metadata": {},
   "source": [
    "# Sequence Data Type Cateogry"
   ]
  },
  {
   "cell_type": "markdown",
   "id": "0c7dda8d",
   "metadata": {},
   "source": [
    "<b>The sequence data type category refers to a collection of ordered elements, where each element is accessible by an index. Sequences are iterable, meaning you can iterate over their elements using loops like for or comprehension expressions.</b>\n"
   ]
  },
  {
   "cell_type": "markdown",
   "id": "2a75ee09",
   "metadata": {},
   "source": [
    "\n",
    "<b>Python includes several built-in sequence data types:<b>\n",
    "\n",
    "<b>Strings:</b> Strings are sequences of characters and are also immutable. They are defined using single quotes '' or double quotes \"\".\n",
    "    \n",
    "<b>Byte sequences (bytes and bytearray):</b> These are sequences of bytes representing binary data. bytes objects are immutable, while bytearray objects are mutable.\n",
    "        \n",
    "<b>Ranges:</b> Ranges represent immutable sequences of numbers, often used for looping a specific number of times.\n",
    "            \n"
   ]
  },
  {
   "cell_type": "markdown",
   "id": "ec1bfee7",
   "metadata": {},
   "source": [
    "# str"
   ]
  },
  {
   "cell_type": "markdown",
   "id": "db0b658d",
   "metadata": {},
   "source": [
    "The str data type represents strings, which are sequences of characters. Strings are used to store text and can include letters, digits, symbols, and whitespace. They are an essential part of programming for working with textual data, formatting output, and manipulating strings in various ways. Strings in Python are considered immutable, meaning their contents cannot be changed once they are created.\n",
    "\n",
    "<b>Basic Concepts:</b>\n",
    "\n",
    "<b>Text Representation:</b> Strings are used to represent words, sentences, and textual data in Python.\n",
    "    \n",
    "<b>Immutable Nature:</b> Once created, strings cannot be changed. They are immutable objects."
   ]
  },
  {
   "cell_type": "markdown",
   "id": "f8696feb",
   "metadata": {},
   "source": [
    "<b>String Creation:</b>\n",
    "\n",
    "<b>Regular Strings:</b> Created by enclosing text in either single quotes (') or double quotes (\")."
   ]
  },
  {
   "cell_type": "code",
   "execution_count": 1,
   "id": "5e4dafba",
   "metadata": {},
   "outputs": [
    {
     "name": "stdout",
     "output_type": "stream",
     "text": [
      "Hello, Python!\n",
      "Strings are fun.\n"
     ]
    }
   ],
   "source": [
    "single_quoted = 'Hello, Python!'\n",
    "double_quoted = \"Strings are fun.\"\n",
    "print(single_quoted)\n",
    "print(double_quoted)"
   ]
  },
  {
   "cell_type": "code",
   "execution_count": 2,
   "id": "f7c3ae5b",
   "metadata": {},
   "outputs": [
    {
     "name": "stdout",
     "output_type": "stream",
     "text": [
      "Welcome <class 'str'>\n"
     ]
    }
   ],
   "source": [
    "a='Welcome'\n",
    "print(a,type(a))"
   ]
  },
  {
   "cell_type": "code",
   "execution_count": 3,
   "id": "ff23a646",
   "metadata": {},
   "outputs": [
    {
     "name": "stdout",
     "output_type": "stream",
     "text": [
      "Hello <class 'str'>\n"
     ]
    }
   ],
   "source": [
    "a=\"Hello\"\n",
    "print(a,type(a))"
   ]
  },
  {
   "cell_type": "code",
   "execution_count": 4,
   "id": "34193056",
   "metadata": {},
   "outputs": [
    {
     "ename": "SyntaxError",
     "evalue": "unterminated string literal (detected at line 1) (263302749.py, line 1)",
     "output_type": "error",
     "traceback": [
      "\u001b[1;36m  Cell \u001b[1;32mIn[4], line 1\u001b[1;36m\u001b[0m\n\u001b[1;33m    a=\"Hello,How are you\u001b[0m\n\u001b[1;37m      ^\u001b[0m\n\u001b[1;31mSyntaxError\u001b[0m\u001b[1;31m:\u001b[0m unterminated string literal (detected at line 1)\n"
     ]
    }
   ],
   "source": [
    "a=\"Hello,How are you\n",
    "You are welcome here.\"\n",
    "print(a)"
   ]
  },
  {
   "cell_type": "markdown",
   "id": "d04f5468",
   "metadata": {},
   "source": [
    "<b>Multiline Strings: Span multiple lines and are created using triple quotes (''' or \"\"\").</b>\n",
    "\n"
   ]
  },
  {
   "cell_type": "code",
   "execution_count": 5,
   "id": "df87e14f",
   "metadata": {},
   "outputs": [
    {
     "name": "stdout",
     "output_type": "stream",
     "text": [
      "This is a\n",
      "multiline string.\n"
     ]
    }
   ],
   "source": [
    "multiline = '''This is a\n",
    "multiline string.'''\n",
    "print(multiline)"
   ]
  },
  {
   "cell_type": "code",
   "execution_count": 6,
   "id": "d297a90b",
   "metadata": {},
   "outputs": [
    {
     "name": "stdout",
     "output_type": "stream",
     "text": [
      "Hello,How are you\n",
      "You are welcome here.\n"
     ]
    }
   ],
   "source": [
    "a='''Hello,How are you\n",
    "You are welcome here.'''\n",
    "print(a)"
   ]
  },
  {
   "cell_type": "code",
   "execution_count": 7,
   "id": "c28623a8",
   "metadata": {},
   "outputs": [
    {
     "name": "stdout",
     "output_type": "stream",
     "text": [
      "Hello,How are you\n",
      "You are welcome here.\n"
     ]
    }
   ],
   "source": [
    "a=\"\"\"Hello,How are you\n",
    "You are welcome here.\"\"\"\n",
    "print(a)"
   ]
  },
  {
   "cell_type": "markdown",
   "id": "bfd77e64",
   "metadata": {},
   "source": [
    "<b>In Python, you can use escape characters like \\n for newline and \\t for tab within strings to format text.</b>"
   ]
  },
  {
   "cell_type": "code",
   "execution_count": 12,
   "id": "94dd9cb7",
   "metadata": {},
   "outputs": [
    {
     "name": "stdout",
     "output_type": "stream",
     "text": [
      "This is a sentence with\n",
      "a newline and a \t tab.\n"
     ]
    }
   ],
   "source": [
    "# Using escape characters to format text\n",
    "sentence = \"This is a sentence with\\na newline and a \\t tab.\"\n",
    "print(sentence)\n"
   ]
  },
  {
   "cell_type": "code",
   "execution_count": 13,
   "id": "42a3b74a",
   "metadata": {},
   "outputs": [
    {
     "name": "stdout",
     "output_type": "stream",
     "text": [
      "Roses are red,\n",
      "Violets are blue,\n",
      "Sugar is sweet,\n",
      "And so are you.\n"
     ]
    }
   ],
   "source": [
    "# Using \\n for newline\n",
    "poem = \"Roses are red,\\nViolets are blue,\\nSugar is sweet,\\nAnd so are you.\"\n",
    "print(poem)\n"
   ]
  },
  {
   "cell_type": "code",
   "execution_count": 14,
   "id": "697a1548",
   "metadata": {},
   "outputs": [
    {
     "name": "stdout",
     "output_type": "stream",
     "text": [
      "Name:\tAge:\tCity:\n",
      "John\t25\tNew York\n",
      "Alice\t30\tLos Angeles\n"
     ]
    }
   ],
   "source": [
    "# Using \\t for tab\n",
    "table = \"Name:\\tAge:\\tCity:\\nJohn\\t25\\tNew York\\nAlice\\t30\\tLos Angeles\"\n",
    "print(table)\n"
   ]
  },
  {
   "cell_type": "markdown",
   "id": "31d519c0",
   "metadata": {},
   "source": [
    "<b>F-strings: Provide a convenient way to insert variables or expressions into strings.</b>\n"
   ]
  },
  {
   "cell_type": "code",
   "execution_count": 15,
   "id": "e94ef431",
   "metadata": {},
   "outputs": [
    {
     "name": "stdout",
     "output_type": "stream",
     "text": [
      "My name is Alice and I'm 30 years old.\n"
     ]
    }
   ],
   "source": [
    "name = \"Alice\"\n",
    "age = 30\n",
    "message = f\"My name is {name} and I'm {age} years old.\"\n",
    "print(message)"
   ]
  },
  {
   "cell_type": "code",
   "execution_count": 16,
   "id": "e1291a8e",
   "metadata": {},
   "outputs": [
    {
     "name": "stdout",
     "output_type": "stream",
     "text": [
      "Hello Akash, are you working in IT department\n"
     ]
    }
   ],
   "source": [
    "name=\"Akash\"\n",
    "department=\"IT\"\n",
    "\n",
    "print(f\"Hello {name}, are you working in {department} department\")"
   ]
  },
  {
   "cell_type": "code",
   "execution_count": 17,
   "id": "73417fb5",
   "metadata": {},
   "outputs": [
    {
     "name": "stdout",
     "output_type": "stream",
     "text": [
      "Hello Akash, are you working in IT department\n"
     ]
    }
   ],
   "source": [
    "print(\"Hello {}, are you working in {} department\".format(name,department))"
   ]
  },
  {
   "cell_type": "markdown",
   "id": "a2df0b0e",
   "metadata": {},
   "source": [
    "# Operations on str \n",
    "\n",
    "<b>Indexing</b>\n",
    "\n",
    "<b>Slicing</b>"
   ]
  },
  {
   "cell_type": "markdown",
   "id": "a16f9076",
   "metadata": {},
   "source": [
    "<b>On str Data, we can perform two types of operations: Indexing and Slicing.</b>\n",
    "\n",
    "<h3><b>1. Indexing</h3></b>\n",
    "\n",
    "<b>Indexing Basics:</b>\n",
    "\n",
    "Indexing refers to accessing elements within a sequence like strings, lists, or tuples.\n",
    "Each element in a sequence is assigned a unique index, starting from 0.\n",
    "Positive Indexing:\n",
    "\n",
    "Use positive integers to access elements from the beginning of the sequence.\n",
    "The element at index i can be accessed using sequence[i].\n",
    "Negative Indexing:\n",
    "\n",
    "Negative indices count from the end of the sequence.\n",
    "The last element has an index of -1, the second-to-last has an index of -2, and so on.\n",
    "Index Range (Slicing):\n",
    "\n",
    "\n",
    "Trying to access an index that doesn't exist raises an IndexError.\n",
    "Always make sure the index is within the valid range of the sequence."
   ]
  },
  {
   "cell_type": "code",
   "execution_count": null,
   "id": "928ad671",
   "metadata": {},
   "outputs": [],
   "source": [
    "                        <--------Length = 5------>\n",
    "                        p    y    t    h    o    n\n",
    "index                   0    1    2    3    4    5\n",
    "negative index         -6   -5   -4   -3   -2   -1    "
   ]
  },
  {
   "cell_type": "code",
   "execution_count": null,
   "id": "b991194a",
   "metadata": {},
   "outputs": [],
   "source": [
    "+------------------------------------------- Length = 6 --------------------------------------+\n",
    "                      |   p       |     y     |     t     |     h     |     o     |     n     |\n",
    "+---------------------------------------------------------------------------------------------+\n",
    "|  Positive index     |     0     |     1     |     2     |     3     |     4     |     5     |\n",
    "+---------------------------------------------------------------------------------------------+\n",
    "|  negative index     |    -6     |    -5     |    -4     |    -3     |    -2     |    -1     |\n",
    "+---------------------------------------------------------------------------------------------+\n"
   ]
  },
  {
   "cell_type": "code",
   "execution_count": 27,
   "id": "c29ddd2b",
   "metadata": {},
   "outputs": [
    {
     "name": "stdout",
     "output_type": "stream",
     "text": [
      "t\n"
     ]
    }
   ],
   "source": [
    "# Positive Indexing\n",
    "\n",
    "text = \"Python\"\n",
    "print(text[2])  # Output: 't'\n"
   ]
  },
  {
   "cell_type": "code",
   "execution_count": 30,
   "id": "5512fff9",
   "metadata": {},
   "outputs": [
    {
     "name": "stdout",
     "output_type": "stream",
     "text": [
      "n\n"
     ]
    }
   ],
   "source": [
    "# Negatvie Indexing\n",
    "\n",
    "text = \"Python\"\n",
    "print(text[-1])  # Output: 'n'"
   ]
  },
  {
   "cell_type": "code",
   "execution_count": 31,
   "id": "f3f5bf74",
   "metadata": {},
   "outputs": [],
   "source": [
    "# String for indexing\n",
    "string = \"Python Programming\""
   ]
  },
  {
   "cell_type": "code",
   "execution_count": 33,
   "id": "81174376",
   "metadata": {},
   "outputs": [
    {
     "name": "stdout",
     "output_type": "stream",
     "text": [
      "Positive Indexing:\n",
      "Index 0: P\n",
      "Index 1: y\n",
      "Index 2: t\n",
      "Index 7: P\n",
      "Index 14: m\n"
     ]
    }
   ],
   "source": [
    "# Positive indexing\n",
    "print(\"Positive Indexing:\")\n",
    "print(\"Index 0:\", string[0])\n",
    "print(\"Index 1:\", string[1])\n",
    "print(\"Index 2:\", string[2])\n",
    "print(\"Index 7:\", string[7])\n",
    "print(\"Index 14:\", string[14])"
   ]
  },
  {
   "cell_type": "code",
   "execution_count": 34,
   "id": "a46a243a",
   "metadata": {},
   "outputs": [
    {
     "name": "stdout",
     "output_type": "stream",
     "text": [
      "Negative Indexing:\n",
      "Index -1: g\n",
      "Index -2: n\n",
      "Index -7: r\n",
      "Index -8: g\n",
      "Index -18: P\n"
     ]
    }
   ],
   "source": [
    "# Negative indexing\n",
    "print(\"Negative Indexing:\")\n",
    "print(\"Index -1:\", string[-1])\n",
    "print(\"Index -2:\", string[-2])\n",
    "print(\"Index -7:\", string[-7])\n",
    "print(\"Index -8:\", string[-8])\n",
    "print(\"Index -18:\", string[-18])\n"
   ]
  },
  {
   "cell_type": "code",
   "execution_count": 37,
   "id": "782a407b",
   "metadata": {},
   "outputs": [
    {
     "ename": "IndexError",
     "evalue": "string index out of range",
     "output_type": "error",
     "traceback": [
      "\u001b[1;31m---------------------------------------------------------------------------\u001b[0m",
      "\u001b[1;31mIndexError\u001b[0m                                Traceback (most recent call last)",
      "Cell \u001b[1;32mIn[37], line 1\u001b[0m\n\u001b[1;32m----> 1\u001b[0m \u001b[38;5;28mprint\u001b[39m(\u001b[38;5;124m\"\u001b[39m\u001b[38;5;124mIndex 20:\u001b[39m\u001b[38;5;124m\"\u001b[39m, \u001b[43mstring\u001b[49m\u001b[43m[\u001b[49m\u001b[38;5;241;43m20\u001b[39;49m\u001b[43m]\u001b[49m)\n",
      "\u001b[1;31mIndexError\u001b[0m: string index out of range"
     ]
    }
   ],
   "source": [
    "print(\"Index 20:\", string[20])  # IndexError: string index out of range"
   ]
  },
  {
   "cell_type": "markdown",
   "id": "8da101da",
   "metadata": {},
   "source": [
    "In Python, indexing starts from 0. When using positive indexing, trying to access an index that is greater than or equal to the length of the string will result in an IndexError, indicating that the index is out of range.\n"
   ]
  },
  {
   "cell_type": "code",
   "execution_count": 38,
   "id": "e28bf7bd",
   "metadata": {},
   "outputs": [
    {
     "data": {
      "text/plain": [
       "'v'"
      ]
     },
     "execution_count": 38,
     "metadata": {},
     "output_type": "execute_result"
    }
   ],
   "source": [
    "\"Developer\"[2]"
   ]
  },
  {
   "cell_type": "code",
   "execution_count": 39,
   "id": "38ee1eb6",
   "metadata": {},
   "outputs": [
    {
     "data": {
      "text/plain": [
       "'r'"
      ]
     },
     "execution_count": 39,
     "metadata": {},
     "output_type": "execute_result"
    }
   ],
   "source": [
    "\"Developer\"[-1]"
   ]
  },
  {
   "cell_type": "code",
   "execution_count": 40,
   "id": "acf1e156",
   "metadata": {},
   "outputs": [
    {
     "data": {
      "text/plain": [
       "'p'"
      ]
     },
     "execution_count": 40,
     "metadata": {},
     "output_type": "execute_result"
    }
   ],
   "source": [
    "\"Developer\"[-3]"
   ]
  },
  {
   "cell_type": "code",
   "execution_count": 41,
   "id": "d3f618ea",
   "metadata": {},
   "outputs": [
    {
     "data": {
      "text/plain": [
       "'e'"
      ]
     },
     "execution_count": 41,
     "metadata": {},
     "output_type": "execute_result"
    }
   ],
   "source": [
    "\"Developer\"[-4+2]"
   ]
  },
  {
   "cell_type": "code",
   "execution_count": 42,
   "id": "fc8f83fd",
   "metadata": {},
   "outputs": [
    {
     "data": {
      "text/plain": [
       "'e'"
      ]
     },
     "execution_count": 42,
     "metadata": {},
     "output_type": "execute_result"
    }
   ],
   "source": [
    "\"Developer\"[True]"
   ]
  },
  {
   "cell_type": "code",
   "execution_count": 43,
   "id": "169a37fc",
   "metadata": {},
   "outputs": [
    {
     "data": {
      "text/plain": [
       "'D'"
      ]
     },
     "execution_count": 43,
     "metadata": {},
     "output_type": "execute_result"
    }
   ],
   "source": [
    "\"Developer\"[False]"
   ]
  },
  {
   "cell_type": "code",
   "execution_count": 45,
   "id": "682dd6d0",
   "metadata": {},
   "outputs": [
    {
     "data": {
      "text/plain": [
       "'o'"
      ]
     },
     "execution_count": 45,
     "metadata": {},
     "output_type": "execute_result"
    }
   ],
   "source": [
    "\"Developer\"[10-5]"
   ]
  },
  {
   "cell_type": "code",
   "execution_count": 47,
   "id": "311901ab",
   "metadata": {},
   "outputs": [
    {
     "ename": "IndexError",
     "evalue": "string index out of range",
     "output_type": "error",
     "traceback": [
      "\u001b[1;31m---------------------------------------------------------------------------\u001b[0m",
      "\u001b[1;31mIndexError\u001b[0m                                Traceback (most recent call last)",
      "Cell \u001b[1;32mIn[47], line 1\u001b[0m\n\u001b[1;32m----> 1\u001b[0m \u001b[38;5;124;43m\"\u001b[39;49m\u001b[38;5;124;43m\"\u001b[39;49m\u001b[43m[\u001b[49m\u001b[38;5;241;43m3\u001b[39;49m\u001b[43m]\u001b[49m\n",
      "\u001b[1;31mIndexError\u001b[0m: string index out of range"
     ]
    }
   ],
   "source": [
    "\"\"[3]   # IndexError : string index out of range"
   ]
  },
  {
   "cell_type": "markdown",
   "id": "d1f2eb70",
   "metadata": {},
   "source": [
    "# Slicing"
   ]
  },
  {
   "cell_type": "markdown",
   "id": "31032130",
   "metadata": {},
   "source": [
    "Slicing allows you to extract a portion of a sequence (like a string, list, or tuple) using index ranges. Adding a step value allows you to skip elements. Slicing is the process of obtaining range of characters or substring from given string is called Slicing\n",
    "\n",
    "<b>Introduction to Slicing:</b>\n",
    "\n",
    "<b>Syntax:</b> The basic syntax for slicing is sequence[start:end:step].\n",
    "\n",
    "<b>start:</b> The starting index of the slice (inclusive).\n",
    "\n",
    "<b>end:</b> The ending index of the slice (exclusive).\n",
    "\n",
    "<b>step:</b> Optional parameter to specify how many elements to skip between each selection."
   ]
  },
  {
   "cell_type": "markdown",
   "id": "eb8e4824",
   "metadata": {},
   "source": [
    "<b>Indexing Basics:</b>\n",
    "\n",
    "Python uses zero-based indexing, where the first element's index is 0, the second's index is 1, and so on.\n",
    "\n",
    "<b>Creating Slices:</b>\n",
    "\n",
    "<b>strobj[start:]:</b> Extracts elements from the start index to the end of the sequence.\n",
    "\n",
    "<b>strobj[:end]:</b> Extracts elements from the beginning of the sequence up to (but not including) the end index.\n",
    "\n",
    "<b>strobj[start:end]:</b> Extracts elements from the start index up to (but not including) the end index.\n",
    "\n",
    "<b>strobj[start:end:step]:</b> Extracts elements with a specific step size.\n",
    "\n",
    "<b>Negative Indices:</b>\n",
    "\n",
    "Negative indices count from the end of the sequence. -1 is the last element, -2 is the second-to-last, and so on."
   ]
  },
  {
   "cell_type": "code",
   "execution_count": 48,
   "id": "35f1913b",
   "metadata": {},
   "outputs": [],
   "source": [
    "a = \"PYTHON PROGRAMMING\""
   ]
  },
  {
   "cell_type": "code",
   "execution_count": 51,
   "id": "df12961b",
   "metadata": {},
   "outputs": [
    {
     "data": {
      "text/plain": [
       "'PYTH'"
      ]
     },
     "execution_count": 51,
     "metadata": {},
     "output_type": "execute_result"
    }
   ],
   "source": [
    "a[0:4]"
   ]
  },
  {
   "cell_type": "code",
   "execution_count": 54,
   "id": "cb47aede",
   "metadata": {},
   "outputs": [
    {
     "data": {
      "text/plain": [
       "'HON PROGR'"
      ]
     },
     "execution_count": 54,
     "metadata": {},
     "output_type": "execute_result"
    }
   ],
   "source": [
    "a[3:12]"
   ]
  },
  {
   "cell_type": "code",
   "execution_count": 55,
   "id": "d4c82acc",
   "metadata": {},
   "outputs": [
    {
     "data": {
      "text/plain": [
       "'H'"
      ]
     },
     "execution_count": 55,
     "metadata": {},
     "output_type": "execute_result"
    }
   ],
   "source": [
    "a[3:4]"
   ]
  },
  {
   "cell_type": "code",
   "execution_count": 56,
   "id": "897b5b89",
   "metadata": {},
   "outputs": [
    {
     "data": {
      "text/plain": [
       "'OGRAMMI'"
      ]
     },
     "execution_count": 56,
     "metadata": {},
     "output_type": "execute_result"
    }
   ],
   "source": [
    "a[-9:-2]"
   ]
  },
  {
   "cell_type": "code",
   "execution_count": 57,
   "id": "0c5529a4",
   "metadata": {},
   "outputs": [
    {
     "data": {
      "text/plain": [
       "'HON PROGRA'"
      ]
     },
     "execution_count": 57,
     "metadata": {},
     "output_type": "execute_result"
    }
   ],
   "source": [
    "a[3:-5]"
   ]
  },
  {
   "cell_type": "code",
   "execution_count": 58,
   "id": "c52aa817",
   "metadata": {},
   "outputs": [
    {
     "data": {
      "text/plain": [
       "'HON P'"
      ]
     },
     "execution_count": 58,
     "metadata": {},
     "output_type": "execute_result"
    }
   ],
   "source": [
    "a[-15:8]"
   ]
  },
  {
   "cell_type": "code",
   "execution_count": 59,
   "id": "31df807e",
   "metadata": {},
   "outputs": [
    {
     "data": {
      "text/plain": [
       "'RO'"
      ]
     },
     "execution_count": 59,
     "metadata": {},
     "output_type": "execute_result"
    }
   ],
   "source": [
    "a[-10:10]"
   ]
  },
  {
   "cell_type": "code",
   "execution_count": 61,
   "id": "a0ad18b2",
   "metadata": {},
   "outputs": [
    {
     "data": {
      "text/plain": [
       "'PYTHON PROGRAMMIN'"
      ]
     },
     "execution_count": 61,
     "metadata": {},
     "output_type": "execute_result"
    }
   ],
   "source": [
    "a[0:-1]"
   ]
  },
  {
   "cell_type": "code",
   "execution_count": 62,
   "id": "2053eca4",
   "metadata": {},
   "outputs": [
    {
     "data": {
      "text/plain": [
       "'PYTHON PROGRAMMING'"
      ]
     },
     "execution_count": 62,
     "metadata": {},
     "output_type": "execute_result"
    }
   ],
   "source": [
    "a[0:20]"
   ]
  },
  {
   "cell_type": "code",
   "execution_count": 65,
   "id": "7f589168",
   "metadata": {},
   "outputs": [
    {
     "data": {
      "text/plain": [
       "'PROGRAMMING'"
      ]
     },
     "execution_count": 65,
     "metadata": {},
     "output_type": "execute_result"
    }
   ],
   "source": [
    "a[7:18]"
   ]
  },
  {
   "cell_type": "code",
   "execution_count": 67,
   "id": "6219b1ca",
   "metadata": {},
   "outputs": [
    {
     "data": {
      "text/plain": [
       "'PYTHON'"
      ]
     },
     "execution_count": 67,
     "metadata": {},
     "output_type": "execute_result"
    }
   ],
   "source": [
    "a[0:6] "
   ]
  },
  {
   "cell_type": "markdown",
   "id": "ef145a09",
   "metadata": {},
   "source": [
    "\n",
    "<b>strobj[ begin Index: ]:</b> Extracts elements from the start index to the end of the sequence.\n",
    "\n",
    "<b>begin Index:</b> This indicates the starting index from where the slicing will begin. It means that the substring will start from this index.\n",
    "\n",
    "<b>: (colon):</b> This is the slicing operator in Python, which separates the start index from the end index.\n",
    "\n",
    "<b>: (colon) followed by nothing:</b> When you don't specify an end index after the colon, it means the slicing will continue until the end of the string.\n",
    "\n",
    "So, strobj[begin Index:] will extract a substring from the begin Index to the end of the string strobj\n",
    "\n",
    "If we don't specify End Index then EndIndex taken by PVm as len(strobj)-1 OR EndIndex Taken by PVM as Last Character Index"
   ]
  },
  {
   "cell_type": "code",
   "execution_count": 68,
   "id": "2e21dbff",
   "metadata": {},
   "outputs": [],
   "source": [
    "a = \"Python is fun!\""
   ]
  },
  {
   "cell_type": "code",
   "execution_count": 69,
   "id": "36a27d0e",
   "metadata": {},
   "outputs": [
    {
     "data": {
      "text/plain": [
       "'thon is fun!'"
      ]
     },
     "execution_count": 69,
     "metadata": {},
     "output_type": "execute_result"
    }
   ],
   "source": [
    "a[2:]"
   ]
  },
  {
   "cell_type": "code",
   "execution_count": 70,
   "id": "55f72cda",
   "metadata": {},
   "outputs": [
    {
     "data": {
      "text/plain": [
       "'s fun!'"
      ]
     },
     "execution_count": 70,
     "metadata": {},
     "output_type": "execute_result"
    }
   ],
   "source": [
    "a[-6:]"
   ]
  },
  {
   "cell_type": "code",
   "execution_count": 71,
   "id": "4c46fa33",
   "metadata": {},
   "outputs": [
    {
     "data": {
      "text/plain": [
       "'Python is fun!'"
      ]
     },
     "execution_count": 71,
     "metadata": {},
     "output_type": "execute_result"
    }
   ],
   "source": [
    "a[0:]"
   ]
  },
  {
   "cell_type": "code",
   "execution_count": 73,
   "id": "31f39694",
   "metadata": {},
   "outputs": [
    {
     "data": {
      "text/plain": [
       "'fun!'"
      ]
     },
     "execution_count": 73,
     "metadata": {},
     "output_type": "execute_result"
    }
   ],
   "source": [
    "a[-4:]"
   ]
  },
  {
   "cell_type": "code",
   "execution_count": 74,
   "id": "7bb3b6ac",
   "metadata": {},
   "outputs": [
    {
     "data": {
      "text/plain": [
       "'thon is fun!'"
      ]
     },
     "execution_count": 74,
     "metadata": {},
     "output_type": "execute_result"
    }
   ],
   "source": [
    "a[2-3+True+2 : ]"
   ]
  },
  {
   "cell_type": "code",
   "execution_count": 75,
   "id": "0121fbd2",
   "metadata": {},
   "outputs": [
    {
     "data": {
      "text/plain": [
       "'on is fun!'"
      ]
     },
     "execution_count": 75,
     "metadata": {},
     "output_type": "execute_result"
    }
   ],
   "source": [
    "a[2**2:]"
   ]
  },
  {
   "cell_type": "code",
   "execution_count": 77,
   "id": "4bfabffb",
   "metadata": {},
   "outputs": [
    {
     "data": {
      "text/plain": [
       "'s fun!'"
      ]
     },
     "execution_count": 77,
     "metadata": {},
     "output_type": "execute_result"
    }
   ],
   "source": [
    "a[-2-3-3+2 : ]"
   ]
  },
  {
   "cell_type": "markdown",
   "id": "a97c6541",
   "metadata": {},
   "source": [
    "<b> strobj[ : End Index]</b>\n",
    "\n",
    "<b>End Index:</b> This indicates the ending index up to which the slicing will occur. It means that the substring will end at the index just before this End Index.\n",
    "\n",
    "<b>: (colon):</b> This is the slicing operator in Python, which separates the start index from the end index.\n",
    "\n",
    "When you don't specify a start index before the colon, it means the slicing will start from the beginning of the string.\n",
    "\n",
    "So, strobj[:End Index] will extract a substring from the beginning of the string strobj up to (but not including) the End Index.\n",
    "\n",
    "If we don't specify Begin Index then BeginIndex taken by PVm as First Character Index i.e either 0 or -(len(strobj))"
   ]
  },
  {
   "cell_type": "code",
   "execution_count": 78,
   "id": "3208eea4",
   "metadata": {},
   "outputs": [],
   "source": [
    "a = \"Python is fun!\""
   ]
  },
  {
   "cell_type": "code",
   "execution_count": 79,
   "id": "1148abd1",
   "metadata": {},
   "outputs": [
    {
     "data": {
      "text/plain": [
       "'Python'"
      ]
     },
     "execution_count": 79,
     "metadata": {},
     "output_type": "execute_result"
    }
   ],
   "source": [
    "a[:6]"
   ]
  },
  {
   "cell_type": "code",
   "execution_count": 81,
   "id": "7e64c5ec",
   "metadata": {},
   "outputs": [
    {
     "data": {
      "text/plain": [
       "'Python is '"
      ]
     },
     "execution_count": 81,
     "metadata": {},
     "output_type": "execute_result"
    }
   ],
   "source": [
    "a[ : -4]"
   ]
  },
  {
   "cell_type": "code",
   "execution_count": 85,
   "id": "5b6ae55b",
   "metadata": {},
   "outputs": [
    {
     "data": {
      "text/plain": [
       "'Python is'"
      ]
     },
     "execution_count": 85,
     "metadata": {},
     "output_type": "execute_result"
    }
   ],
   "source": [
    "a[: -5]"
   ]
  },
  {
   "cell_type": "code",
   "execution_count": 86,
   "id": "5fff3a0d",
   "metadata": {},
   "outputs": [
    {
     "data": {
      "text/plain": [
       "'Python'"
      ]
     },
     "execution_count": 86,
     "metadata": {},
     "output_type": "execute_result"
    }
   ],
   "source": [
    "a[: 6]"
   ]
  },
  {
   "cell_type": "code",
   "execution_count": 87,
   "id": "938cf6d3",
   "metadata": {},
   "outputs": [
    {
     "data": {
      "text/plain": [
       "'Py'"
      ]
     },
     "execution_count": 87,
     "metadata": {},
     "output_type": "execute_result"
    }
   ],
   "source": [
    "a[:2]"
   ]
  },
  {
   "cell_type": "code",
   "execution_count": 88,
   "id": "13d1ba4e",
   "metadata": {},
   "outputs": [
    {
     "data": {
      "text/plain": [
       "'Pytho'"
      ]
     },
     "execution_count": 88,
     "metadata": {},
     "output_type": "execute_result"
    }
   ],
   "source": [
    "a[:True+False+True+2+4-3]"
   ]
  },
  {
   "cell_type": "code",
   "execution_count": 90,
   "id": "07dea87a",
   "metadata": {},
   "outputs": [
    {
     "data": {
      "text/plain": [
       "'Python'"
      ]
     },
     "execution_count": 90,
     "metadata": {},
     "output_type": "execute_result"
    }
   ],
   "source": [
    "a[ : -2**3]"
   ]
  },
  {
   "cell_type": "markdown",
   "id": "77e4fd34",
   "metadata": {},
   "source": [
    "<b>strobj[ : ] </b>\n",
    "\n",
    "The syntax strobj[:] in Python represents slicing on a string object (strobj).\n",
    "\n",
    ": (colon) without specifying any indices indicates that the slicing will include the entire string.\n",
    "\n",
    "So, strobj[:] will extract the entire string strobj, effectively creating a copy of the original string.\n",
    "\n",
    "If we dont specify Both BeginIndex and EndIndex then PVM Takes BeginIndex as First Character Index i.e either 0 or -(len(strobj)) and EndIndex as Last Character Index OR len(strobj)-1"
   ]
  },
  {
   "cell_type": "code",
   "execution_count": 92,
   "id": "c7435b01",
   "metadata": {},
   "outputs": [],
   "source": [
    "a = \"Python is fun!\""
   ]
  },
  {
   "cell_type": "code",
   "execution_count": 93,
   "id": "ce40b64c",
   "metadata": {},
   "outputs": [
    {
     "data": {
      "text/plain": [
       "'Python is fun!'"
      ]
     },
     "execution_count": 93,
     "metadata": {},
     "output_type": "execute_result"
    }
   ],
   "source": [
    "a[:]"
   ]
  },
  {
   "cell_type": "code",
   "execution_count": 94,
   "id": "7a21f338",
   "metadata": {},
   "outputs": [
    {
     "data": {
      "text/plain": [
       "'on is fun!'"
      ]
     },
     "execution_count": 94,
     "metadata": {},
     "output_type": "execute_result"
    }
   ],
   "source": [
    "a[4:]"
   ]
  },
  {
   "cell_type": "code",
   "execution_count": 95,
   "id": "8f0c9add",
   "metadata": {},
   "outputs": [
    {
     "data": {
      "text/plain": [
       "'Python'"
      ]
     },
     "execution_count": 95,
     "metadata": {},
     "output_type": "execute_result"
    }
   ],
   "source": [
    "a[: 6]"
   ]
  },
  {
   "cell_type": "code",
   "execution_count": 96,
   "id": "cf398853",
   "metadata": {},
   "outputs": [
    {
     "data": {
      "text/plain": [
       "'P'"
      ]
     },
     "execution_count": 96,
     "metadata": {},
     "output_type": "execute_result"
    }
   ],
   "source": [
    "a[0:1]"
   ]
  },
  {
   "cell_type": "code",
   "execution_count": 97,
   "id": "9b97a275",
   "metadata": {},
   "outputs": [
    {
     "data": {
      "text/plain": [
       "'s'"
      ]
     },
     "execution_count": 97,
     "metadata": {},
     "output_type": "execute_result"
    }
   ],
   "source": [
    "a[-6:-5]"
   ]
  },
  {
   "cell_type": "markdown",
   "id": "d8580061",
   "metadata": {},
   "source": [
    "<b>strobj[ BeginIndex : EndIndex : STEP]</b>\n",
    "\n",
    "<b>Rule1:</b> Here BegIndex and EndIndex and STEP can be either +ve or -ve\n",
    "\n",
    "<b>Rule2:</b> If the value of STEP is +VE then PVM Takes the characters from str obj from \n",
    "BegiIndex to EndIndex-1 in FORWARD Direction provided BeginIndex<EndIndex\n",
    "\n",
    "<b>Rule3:</b> If the value of STEP is -VE then PVM Takes the characters from str obj from  BegiIndex to EndIndex+1 in BACKWARD Direction provided BeginIndex>EndIndex\n",
    "\n",
    "<b>Rule4:</b> In Forward Direction if endIndex is 0 then we never get any output.\n",
    "\n",
    "<b>Rule5:</b> In Backward Direction if endIndex is -1 then we never get any output"
   ]
  },
  {
   "cell_type": "code",
   "execution_count": 1,
   "id": "cf24e5d6",
   "metadata": {},
   "outputs": [],
   "source": [
    "a = \"Python Programming\""
   ]
  },
  {
   "cell_type": "code",
   "execution_count": 2,
   "id": "2e06ca53",
   "metadata": {},
   "outputs": [
    {
     "data": {
      "text/plain": [
       "'ython P'"
      ]
     },
     "execution_count": 2,
     "metadata": {},
     "output_type": "execute_result"
    }
   ],
   "source": [
    "a[1:8:1]"
   ]
  },
  {
   "cell_type": "code",
   "execution_count": 3,
   "id": "30d33d60",
   "metadata": {},
   "outputs": [
    {
     "data": {
      "text/plain": [
       "'to r'"
      ]
     },
     "execution_count": 3,
     "metadata": {},
     "output_type": "execute_result"
    }
   ],
   "source": [
    "a[2:10:2]"
   ]
  },
  {
   "cell_type": "code",
   "execution_count": 5,
   "id": "b35c54db",
   "metadata": {},
   "outputs": [
    {
     "data": {
      "text/plain": [
       "'tnr'"
      ]
     },
     "execution_count": 5,
     "metadata": {},
     "output_type": "execute_result"
    }
   ],
   "source": [
    "a[2:10:3]"
   ]
  },
  {
   "cell_type": "code",
   "execution_count": 6,
   "id": "781c3256",
   "metadata": {},
   "outputs": [
    {
     "data": {
      "text/plain": [
       "'orm'"
      ]
     },
     "execution_count": 6,
     "metadata": {},
     "output_type": "execute_result"
    }
   ],
   "source": [
    "a[-9:-3:2]"
   ]
  },
  {
   "cell_type": "code",
   "execution_count": 7,
   "id": "712e6e81",
   "metadata": {},
   "outputs": [
    {
     "data": {
      "text/plain": [
       "'Pgm'"
      ]
     },
     "execution_count": 7,
     "metadata": {},
     "output_type": "execute_result"
    }
   ],
   "source": [
    "a[-11:-4:3]"
   ]
  },
  {
   "cell_type": "code",
   "execution_count": 8,
   "id": "852d9177",
   "metadata": {},
   "outputs": [
    {
     "data": {
      "text/plain": [
       "'rP noh'"
      ]
     },
     "execution_count": 8,
     "metadata": {},
     "output_type": "execute_result"
    }
   ],
   "source": [
    "a[8:2:-1]"
   ]
  },
  {
   "cell_type": "code",
   "execution_count": 12,
   "id": "964cc4d3",
   "metadata": {},
   "outputs": [
    {
     "data": {
      "text/plain": [
       "''"
      ]
     },
     "execution_count": 12,
     "metadata": {},
     "output_type": "execute_result"
    }
   ],
   "source": [
    "a[1:8:-1]  # No Ouput"
   ]
  },
  {
   "cell_type": "code",
   "execution_count": 14,
   "id": "3504b00b",
   "metadata": {},
   "outputs": [
    {
     "data": {
      "text/plain": [
       "''"
      ]
     },
     "execution_count": 14,
     "metadata": {},
     "output_type": "execute_result"
    }
   ],
   "source": [
    "a[1:10:-2] # No Output"
   ]
  },
  {
   "cell_type": "code",
   "execution_count": 16,
   "id": "01ecd22a",
   "metadata": {},
   "outputs": [
    {
     "data": {
      "text/plain": [
       "'Ph oai'"
      ]
     },
     "execution_count": 16,
     "metadata": {},
     "output_type": "execute_result"
    }
   ],
   "source": [
    "a[::3]"
   ]
  },
  {
   "cell_type": "code",
   "execution_count": 17,
   "id": "2b028d0e",
   "metadata": {
    "scrolled": true
   },
   "outputs": [
    {
     "data": {
      "text/plain": [
       "'gmrrnt'"
      ]
     },
     "execution_count": 17,
     "metadata": {},
     "output_type": "execute_result"
    }
   ],
   "source": [
    "a[::-3]"
   ]
  },
  {
   "cell_type": "code",
   "execution_count": 18,
   "id": "26b23440",
   "metadata": {},
   "outputs": [
    {
     "data": {
      "text/plain": [
       "'P noh'"
      ]
     },
     "execution_count": 18,
     "metadata": {},
     "output_type": "execute_result"
    }
   ],
   "source": [
    "a[-11:2:-1]"
   ]
  },
  {
   "cell_type": "code",
   "execution_count": 20,
   "id": "6a3e950e",
   "metadata": {},
   "outputs": [
    {
     "data": {
      "text/plain": [
       "'gnimmar'"
      ]
     },
     "execution_count": 20,
     "metadata": {},
     "output_type": "execute_result"
    }
   ],
   "source": [
    "a[-1:-8:-1]"
   ]
  },
  {
   "cell_type": "code",
   "execution_count": 21,
   "id": "3e8c5ca0",
   "metadata": {},
   "outputs": [
    {
     "data": {
      "text/plain": [
       "''"
      ]
     },
     "execution_count": 21,
     "metadata": {},
     "output_type": "execute_result"
    }
   ],
   "source": [
    "a[2:0:1] # NO Output (Rule - 4)"
   ]
  },
  {
   "cell_type": "code",
   "execution_count": 24,
   "id": "8f7c942a",
   "metadata": {},
   "outputs": [
    {
     "data": {
      "text/plain": [
       "''"
      ]
     },
     "execution_count": 24,
     "metadata": {},
     "output_type": "execute_result"
    }
   ],
   "source": [
    "a[2:-1:-1] # NO Output (Rule - 5)"
   ]
  },
  {
   "cell_type": "code",
   "execution_count": 25,
   "id": "a8d0d009",
   "metadata": {
    "scrolled": true
   },
   "outputs": [
    {
     "data": {
      "text/plain": [
       "'gimroPnhy'"
      ]
     },
     "execution_count": 25,
     "metadata": {},
     "output_type": "execute_result"
    }
   ],
   "source": [
    "a[::-2]"
   ]
  },
  {
   "cell_type": "code",
   "execution_count": 27,
   "id": "580088f2",
   "metadata": {
    "scrolled": true
   },
   "outputs": [
    {
     "name": "stdout",
     "output_type": "stream",
     "text": [
      "PhPi\n"
     ]
    }
   ],
   "source": [
    "data = a[0]+a[3]+a[7]+a[-3]\n",
    "print(data)"
   ]
  },
  {
   "cell_type": "code",
   "execution_count": 28,
   "id": "128aed74",
   "metadata": {
    "scrolled": true
   },
   "outputs": [
    {
     "name": "stdout",
     "output_type": "stream",
     "text": [
      "Pyton rog\n"
     ]
    }
   ],
   "source": [
    "result = a[0:3]+a[4:7]+a[8:11]\n",
    "print(result)"
   ]
  },
  {
   "cell_type": "code",
   "execution_count": 29,
   "id": "5cd2a29e",
   "metadata": {},
   "outputs": [
    {
     "data": {
      "text/plain": [
       "'radar'"
      ]
     },
     "execution_count": 29,
     "metadata": {},
     "output_type": "execute_result"
    }
   ],
   "source": [
    "\"radar\"[::-1]"
   ]
  },
  {
   "cell_type": "code",
   "execution_count": 30,
   "id": "3c2b01e6",
   "metadata": {},
   "outputs": [
    {
     "data": {
      "text/plain": [
       "'racecar'"
      ]
     },
     "execution_count": 30,
     "metadata": {},
     "output_type": "execute_result"
    }
   ],
   "source": [
    "\"racecar\"[::-1]"
   ]
  },
  {
   "cell_type": "code",
   "execution_count": 31,
   "id": "f9d00aae",
   "metadata": {},
   "outputs": [
    {
     "data": {
      "text/plain": [
       "'noon'"
      ]
     },
     "execution_count": 31,
     "metadata": {},
     "output_type": "execute_result"
    }
   ],
   "source": [
    "\"noon\"[::-1]"
   ]
  },
  {
   "cell_type": "code",
   "execution_count": 32,
   "id": "b37b2d9e",
   "metadata": {},
   "outputs": [],
   "source": [
    "a = \"Python Programming\""
   ]
  },
  {
   "cell_type": "code",
   "execution_count": 33,
   "id": "c8ceebb1",
   "metadata": {
    "scrolled": true
   },
   "outputs": [
    {
     "data": {
      "text/plain": [
       "'grn'"
      ]
     },
     "execution_count": 33,
     "metadata": {},
     "output_type": "execute_result"
    }
   ],
   "source": [
    "a[::-1][::2][::3]"
   ]
  },
  {
   "cell_type": "code",
   "execution_count": 34,
   "id": "506c2b9e",
   "metadata": {},
   "outputs": [
    {
     "data": {
      "text/plain": [
       "'naroP'"
      ]
     },
     "execution_count": 34,
     "metadata": {},
     "output_type": "execute_result"
    }
   ],
   "source": [
    "a[::2][::2][::-1]"
   ]
  },
  {
   "cell_type": "code",
   "execution_count": 35,
   "id": "77ef24b3",
   "metadata": {},
   "outputs": [
    {
     "data": {
      "text/plain": [
       "'t'"
      ]
     },
     "execution_count": 35,
     "metadata": {},
     "output_type": "execute_result"
    }
   ],
   "source": [
    "a[1:7][::-2][2:5]"
   ]
  },
  {
   "cell_type": "code",
   "execution_count": 36,
   "id": "83d1238e",
   "metadata": {},
   "outputs": [
    {
     "data": {
      "text/plain": [
       "'ro'"
      ]
     },
     "execution_count": 36,
     "metadata": {},
     "output_type": "execute_result"
    }
   ],
   "source": [
    "a[-11:-1:1][2:6:2][::-1]"
   ]
  },
  {
   "cell_type": "code",
   "execution_count": 38,
   "id": "0e55374e",
   "metadata": {},
   "outputs": [
    {
     "data": {
      "text/plain": [
       "'rt'"
      ]
     },
     "execution_count": 38,
     "metadata": {},
     "output_type": "execute_result"
    }
   ],
   "source": [
    "a[-1::-3][2:8:3][:4]"
   ]
  }
 ],
 "metadata": {
  "kernelspec": {
   "display_name": "Python 3 (ipykernel)",
   "language": "python",
   "name": "python3"
  },
  "language_info": {
   "codemirror_mode": {
    "name": "ipython",
    "version": 3
   },
   "file_extension": ".py",
   "mimetype": "text/x-python",
   "name": "python",
   "nbconvert_exporter": "python",
   "pygments_lexer": "ipython3",
   "version": "3.10.9"
  }
 },
 "nbformat": 4,
 "nbformat_minor": 5
}

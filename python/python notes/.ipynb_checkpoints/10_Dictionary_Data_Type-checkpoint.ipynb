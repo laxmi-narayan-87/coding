{
 "cells": [
  {
   "cell_type": "markdown",
   "id": "a7185ade",
   "metadata": {},
   "source": [
    "# Dictionary"
   ]
  },
  {
   "cell_type": "markdown",
   "id": "6c04137b",
   "metadata": {},
   "source": [
    "A dictionary is an ordered collection of data values that are stored as key-value pairs. Each key in a dictionary is unique, and it is used to access its corresponding value.\n",
    "\n",
    "In (Key,Value), the value of key is Unique and Value of Value may or may not be unique.\n",
    "\n",
    "Think of a dictionary like a special book. In this book, you can find words and their meanings. The words are like the \"keys,\" and the meanings are like the \"values.\"\n",
    "\n",
    "For example, if you look up the word \"cat\" in this book, you'll find its meaning, which is \"a small furry animal that people often keep as a pet.\"\n",
    "\n",
    "So, a dictionary in Python is like that book. It helps your computer remember things by connecting words (keys) to their meanings (values). You can use it to find and store information easily.\n",
    "\n",
    "An object of dict does not support Indexing and Slicing because values of Key itself considered as Indices.\n",
    "\n",
    "Creation: Dictionaries in Python can be created using curly braces {} or by using the built-in dict() constructor. For example:\n",
    "\n",
    "Dictionaries are mutable, meaning their contents can be changed after creation. You can add, update, or remove key-value pairs.\n",
    "\n",
    "In the object of dict, Values of Key are treated as Immutable and Values of Value are treated as mutable\n",
    "\n",
    "Originally an object of dict is mutable because we can add(Key,Value) externally\n",
    "\n",
    "You can access the values in a dictionary by referring to its key in square brackets or by using the get() method. For example:\n",
    "\n",
    "\n",
    "Dictionaries have methods like keys(), values(), and items() to access the keys, values, or key-value pairs, respectively.\n",
    "\n",
    "You can iterate through a dictionary using loops to access its keys and values. For example:\n",
    "\n",
    "Dictionaries are often used for tasks that involve mapping between keys and values. They are useful for tasks like counting occurrences of items, storing configuration settings, and representing data records."
   ]
  },
  {
   "cell_type": "markdown",
   "id": "cd70f925",
   "metadata": {},
   "source": [
    "We have two types of dict object. They are\n",
    "a) Empty dict \n",
    "\n",
    "Empty dict is one which does not contain any (Key,Value) and whose length is 0\n",
    "b) Non-empty dict\n",
    "\n",
    "\n",
    "Non-Empty dict is one, which contains (key,Value) and whose length is >0\n",
    "\n"
   ]
  },
  {
   "cell_type": "code",
   "execution_count": 2,
   "id": "a226e5b7",
   "metadata": {},
   "outputs": [
    {
     "name": "stdout",
     "output_type": "stream",
     "text": [
      "{} <class 'dict'>\n"
     ]
    },
    {
     "data": {
      "text/plain": [
       "0"
      ]
     },
     "execution_count": 2,
     "metadata": {},
     "output_type": "execute_result"
    }
   ],
   "source": [
    "# Empty Dict\n",
    "dictobj={}\n",
    "print(dictobj,type(dictobj))\n",
    "len(dictobj)"
   ]
  },
  {
   "cell_type": "code",
   "execution_count": 1,
   "id": "2d578db4",
   "metadata": {},
   "outputs": [
    {
     "name": "stdout",
     "output_type": "stream",
     "text": [
      "{} <class 'dict'>\n"
     ]
    },
    {
     "data": {
      "text/plain": [
       "0"
      ]
     },
     "execution_count": 1,
     "metadata": {},
     "output_type": "execute_result"
    }
   ],
   "source": [
    "# Empty Dict\n",
    "dictobj1= dict()\n",
    "print(dictobj1,type(dictobj1))\n",
    "len(dictobj1)"
   ]
  },
  {
   "cell_type": "code",
   "execution_count": 7,
   "id": "4be00d71",
   "metadata": {},
   "outputs": [],
   "source": [
    "# Non Empty Dict\n",
    "d={1:\"Python\",2:\"JAVA\",3:\"CPP\",4:\"PHP\",5:\"SCALA\",6:\"Javascript\",7:\"Spark\",8:\"Rust\"}"
   ]
  },
  {
   "cell_type": "code",
   "execution_count": 8,
   "id": "a3c0325a",
   "metadata": {},
   "outputs": [
    {
     "name": "stdout",
     "output_type": "stream",
     "text": [
      "{1: 'Python', 2: 'JAVA', 3: 'CPP', 4: 'PHP', 5: 'SCALA', 6: 'Javascript', 7: 'Spark', 8: 'Rust'} <class 'dict'>\n"
     ]
    }
   ],
   "source": [
    "print(d,type(d))"
   ]
  },
  {
   "cell_type": "code",
   "execution_count": 9,
   "id": "9d84587a",
   "metadata": {},
   "outputs": [
    {
     "data": {
      "text/plain": [
       "8"
      ]
     },
     "execution_count": 9,
     "metadata": {},
     "output_type": "execute_result"
    }
   ],
   "source": [
    "len(d)"
   ]
  },
  {
   "cell_type": "code",
   "execution_count": 11,
   "id": "014986e8",
   "metadata": {},
   "outputs": [
    {
     "data": {
      "text/plain": [
       "'Python'"
      ]
     },
     "execution_count": 11,
     "metadata": {},
     "output_type": "execute_result"
    }
   ],
   "source": [
    "d[1]"
   ]
  },
  {
   "cell_type": "code",
   "execution_count": 12,
   "id": "5a00f3e0",
   "metadata": {},
   "outputs": [
    {
     "data": {
      "text/plain": [
       "'PHP'"
      ]
     },
     "execution_count": 12,
     "metadata": {},
     "output_type": "execute_result"
    }
   ],
   "source": [
    "d[4]"
   ]
  },
  {
   "cell_type": "code",
   "execution_count": 14,
   "id": "55ff78f7",
   "metadata": {},
   "outputs": [],
   "source": [
    "d[8]=\"ANGULAR\""
   ]
  },
  {
   "cell_type": "code",
   "execution_count": 15,
   "id": "f608990c",
   "metadata": {},
   "outputs": [
    {
     "name": "stdout",
     "output_type": "stream",
     "text": [
      "{1: 'Python', 2: 'JAVA', 3: 'CPP', 4: 'PHP', 5: 'SCALA', 6: 'Javascript', 7: 'Spark', 8: 'ANGULAR'} <class 'dict'> 2941379812032\n"
     ]
    }
   ],
   "source": [
    "print(d,type(d),id(d))\n"
   ]
  },
  {
   "cell_type": "code",
   "execution_count": 16,
   "id": "f9438a18",
   "metadata": {},
   "outputs": [
    {
     "name": "stdout",
     "output_type": "stream",
     "text": [
      "{1: 'Python', 2: 'JAVA', 3: 'CPP', 4: 'PHP', 5: 'SCALA', 6: 'Javascript', 7: 'NODEJS', 8: 'ANGULAR'} <class 'dict'> 2941379812032\n"
     ]
    }
   ],
   "source": [
    "d[7]=\"NODEJS\"\n",
    "print(d,type(d),id(d))"
   ]
  },
  {
   "cell_type": "code",
   "execution_count": 18,
   "id": "8613cc80",
   "metadata": {},
   "outputs": [],
   "source": [
    "d[9]=\"Perl\""
   ]
  },
  {
   "cell_type": "code",
   "execution_count": 19,
   "id": "73d8eb76",
   "metadata": {},
   "outputs": [
    {
     "name": "stdout",
     "output_type": "stream",
     "text": [
      "{1: 'Python', 2: 'JAVA', 3: 'CPP', 4: 'PHP', 5: 'SCALA', 6: 'Javascript', 7: 'NODEJS', 8: 'ANGULAR', 9: 'Perl'} <class 'dict'> 2941379812032\n"
     ]
    }
   ],
   "source": [
    "print(d,type(d),id(d))"
   ]
  },
  {
   "cell_type": "code",
   "execution_count": 20,
   "id": "ec5c3d93",
   "metadata": {},
   "outputs": [
    {
     "name": "stdout",
     "output_type": "stream",
     "text": [
      "{} <class 'dict'> 2941407977856\n"
     ]
    }
   ],
   "source": [
    "d1 = {}\n",
    "print(d1,type(d1),id(d1))"
   ]
  },
  {
   "cell_type": "code",
   "execution_count": 21,
   "id": "52a5af20",
   "metadata": {},
   "outputs": [],
   "source": [
    "d1[1]=\"LENOVO\""
   ]
  },
  {
   "cell_type": "code",
   "execution_count": 22,
   "id": "4ccc282b",
   "metadata": {},
   "outputs": [
    {
     "data": {
      "text/plain": [
       "{1: 'LENOVO'}"
      ]
     },
     "execution_count": 22,
     "metadata": {},
     "output_type": "execute_result"
    }
   ],
   "source": [
    "d1"
   ]
  },
  {
   "cell_type": "code",
   "execution_count": 23,
   "id": "85a117ea",
   "metadata": {},
   "outputs": [],
   "source": [
    "d1[2]=\"DELL\""
   ]
  },
  {
   "cell_type": "code",
   "execution_count": 24,
   "id": "ea8d435f",
   "metadata": {},
   "outputs": [
    {
     "data": {
      "text/plain": [
       "{1: 'LENOVO', 2: 'DELL'}"
      ]
     },
     "execution_count": 24,
     "metadata": {},
     "output_type": "execute_result"
    }
   ],
   "source": [
    "d1"
   ]
  },
  {
   "cell_type": "code",
   "execution_count": 25,
   "id": "dfe759d4",
   "metadata": {},
   "outputs": [],
   "source": [
    "d1[3]=\"RYZEN\""
   ]
  },
  {
   "cell_type": "code",
   "execution_count": 26,
   "id": "c3fe3230",
   "metadata": {},
   "outputs": [
    {
     "data": {
      "text/plain": [
       "{1: 'LENOVO', 2: 'DELL', 3: 'RYZEN'}"
      ]
     },
     "execution_count": 26,
     "metadata": {},
     "output_type": "execute_result"
    }
   ],
   "source": [
    "d1"
   ]
  },
  {
   "cell_type": "code",
   "execution_count": 27,
   "id": "a1722b13",
   "metadata": {},
   "outputs": [],
   "source": [
    "d1[2]=\"MAC\""
   ]
  },
  {
   "cell_type": "code",
   "execution_count": 28,
   "id": "490787f1",
   "metadata": {},
   "outputs": [
    {
     "name": "stdout",
     "output_type": "stream",
     "text": [
      "{1: 'LENOVO', 2: 'MAC', 3: 'RYZEN'} <class 'dict'> 2941407977856\n"
     ]
    }
   ],
   "source": [
    "print(d1,type(d1),id(d1))"
   ]
  },
  {
   "cell_type": "code",
   "execution_count": 29,
   "id": "76a70b01",
   "metadata": {},
   "outputs": [
    {
     "data": {
      "text/plain": [
       "'RYZEN'"
      ]
     },
     "execution_count": 29,
     "metadata": {},
     "output_type": "execute_result"
    }
   ],
   "source": [
    "d1[3]"
   ]
  },
  {
   "cell_type": "markdown",
   "id": "68c5b641",
   "metadata": {},
   "source": [
    "# Pre-Defined Functions in Dict"
   ]
  },
  {
   "cell_type": "markdown",
   "id": "80452509",
   "metadata": {},
   "source": [
    "# clear()"
   ]
  },
  {
   "cell_type": "markdown",
   "id": "545a31fb",
   "metadata": {},
   "source": [
    "clear(): This method removes all key-value pairs from the dictionary, leaving it empty."
   ]
  },
  {
   "cell_type": "code",
   "execution_count": 30,
   "id": "e45165a3",
   "metadata": {},
   "outputs": [
    {
     "name": "stdout",
     "output_type": "stream",
     "text": [
      "{'name': 'Akash', 'age': 30, 'salary': 30000, 'city': 'Pune'}\n"
     ]
    }
   ],
   "source": [
    "empinfo = {'name': 'Akash', 'age': 30, 'salary': 30000, 'city': \"Pune\" }\n",
    "print(empinfo)\n"
   ]
  },
  {
   "cell_type": "code",
   "execution_count": 31,
   "id": "54eeb989",
   "metadata": {},
   "outputs": [],
   "source": [
    "empinfo.clear()"
   ]
  },
  {
   "cell_type": "code",
   "execution_count": 32,
   "id": "fbfc94fc",
   "metadata": {},
   "outputs": [
    {
     "data": {
      "text/plain": [
       "{}"
      ]
     },
     "execution_count": 32,
     "metadata": {},
     "output_type": "execute_result"
    }
   ],
   "source": [
    "empinfo"
   ]
  },
  {
   "cell_type": "markdown",
   "id": "9440edc0",
   "metadata": {},
   "source": [
    "# pop()"
   ]
  },
  {
   "cell_type": "markdown",
   "id": "e7a75341",
   "metadata": {},
   "source": [
    "pop(key, default): It removes and returns the value associated with the given key. If the key is not found and a default value is provided, it returns the default value. Otherwise, it raises a KeyError."
   ]
  },
  {
   "cell_type": "code",
   "execution_count": 33,
   "id": "aed67e4c",
   "metadata": {},
   "outputs": [
    {
     "name": "stdout",
     "output_type": "stream",
     "text": [
      "{1: 'Python', 2: 'JAVA', 3: 'CPP', 4: 'PHP', 5: 'SCALA', 6: 'Javascript', 7: 'NODEJS', 8: 'ANGULAR', 9: 'Perl'}\n"
     ]
    }
   ],
   "source": [
    "print(d)"
   ]
  },
  {
   "cell_type": "code",
   "execution_count": 34,
   "id": "b5c4cc43",
   "metadata": {},
   "outputs": [
    {
     "ename": "TypeError",
     "evalue": "pop expected at least 1 argument, got 0",
     "output_type": "error",
     "traceback": [
      "\u001b[1;31m---------------------------------------------------------------------------\u001b[0m",
      "\u001b[1;31mTypeError\u001b[0m                                 Traceback (most recent call last)",
      "Cell \u001b[1;32mIn[34], line 1\u001b[0m\n\u001b[1;32m----> 1\u001b[0m \u001b[43md\u001b[49m\u001b[38;5;241;43m.\u001b[39;49m\u001b[43mpop\u001b[49m\u001b[43m(\u001b[49m\u001b[43m)\u001b[49m\n",
      "\u001b[1;31mTypeError\u001b[0m: pop expected at least 1 argument, got 0"
     ]
    }
   ],
   "source": [
    "d.pop()"
   ]
  },
  {
   "cell_type": "code",
   "execution_count": 35,
   "id": "856d2ac6",
   "metadata": {},
   "outputs": [
    {
     "data": {
      "text/plain": [
       "'SCALA'"
      ]
     },
     "execution_count": 35,
     "metadata": {},
     "output_type": "execute_result"
    }
   ],
   "source": [
    "d.pop(5)"
   ]
  },
  {
   "cell_type": "code",
   "execution_count": 36,
   "id": "69b345e4",
   "metadata": {},
   "outputs": [
    {
     "name": "stdout",
     "output_type": "stream",
     "text": [
      "{1: 'Python', 2: 'JAVA', 3: 'CPP', 4: 'PHP', 6: 'Javascript', 7: 'NODEJS', 8: 'ANGULAR', 9: 'Perl'}\n"
     ]
    }
   ],
   "source": [
    "print(d)"
   ]
  },
  {
   "cell_type": "code",
   "execution_count": 38,
   "id": "fa4e7e74",
   "metadata": {},
   "outputs": [
    {
     "data": {
      "text/plain": [
       "'Perl'"
      ]
     },
     "execution_count": 38,
     "metadata": {},
     "output_type": "execute_result"
    }
   ],
   "source": [
    "d.pop(9)"
   ]
  },
  {
   "cell_type": "code",
   "execution_count": 39,
   "id": "955c6e53",
   "metadata": {},
   "outputs": [
    {
     "data": {
      "text/plain": [
       "'Key Not Found'"
      ]
     },
     "execution_count": 39,
     "metadata": {},
     "output_type": "execute_result"
    }
   ],
   "source": [
    "d.pop(11,\"Key Not Found\")"
   ]
  },
  {
   "cell_type": "code",
   "execution_count": 40,
   "id": "e3e047c4",
   "metadata": {},
   "outputs": [
    {
     "name": "stdout",
     "output_type": "stream",
     "text": [
      "{1: 'Python', 2: 'JAVA', 3: 'CPP', 4: 'PHP', 6: 'Javascript', 7: 'NODEJS', 8: 'ANGULAR'} <class 'dict'> 2941379812032\n"
     ]
    }
   ],
   "source": [
    "print(d,type(d),id(d))"
   ]
  },
  {
   "cell_type": "code",
   "execution_count": 41,
   "id": "9231d118",
   "metadata": {},
   "outputs": [
    {
     "name": "stdout",
     "output_type": "stream",
     "text": [
      "{1: 'Python', 2: 'JAVA', 3: 'CPP', 6: 'Javascript', 7: 'NODEJS', 8: 'ANGULAR'} <class 'dict'> 2941379812032\n"
     ]
    }
   ],
   "source": [
    "d.pop(4)\n",
    "print(d,type(d),id(d))"
   ]
  },
  {
   "cell_type": "markdown",
   "id": "97c6e873",
   "metadata": {},
   "source": [
    "# popitem()"
   ]
  },
  {
   "cell_type": "markdown",
   "id": "7b518c0f",
   "metadata": {},
   "source": [
    "popitem(): This function is used for removing last (key,value) from dict object"
   ]
  },
  {
   "cell_type": "code",
   "execution_count": 42,
   "id": "4a0300a3",
   "metadata": {},
   "outputs": [],
   "source": [
    "d={1:\"Python\",2:\"JAVA\",3:\"CPP\",4:\"PHP\",5:\"SCALA\",6:\"Javascript\",7:\"Spark\",8:\"Rust\"}"
   ]
  },
  {
   "cell_type": "code",
   "execution_count": 43,
   "id": "9303341d",
   "metadata": {},
   "outputs": [
    {
     "data": {
      "text/plain": [
       "(8, 'Rust')"
      ]
     },
     "execution_count": 43,
     "metadata": {},
     "output_type": "execute_result"
    }
   ],
   "source": [
    "d.popitem()"
   ]
  },
  {
   "cell_type": "code",
   "execution_count": 44,
   "id": "f31caef3",
   "metadata": {},
   "outputs": [
    {
     "ename": "TypeError",
     "evalue": "dict.popitem() takes no arguments (1 given)",
     "output_type": "error",
     "traceback": [
      "\u001b[1;31m---------------------------------------------------------------------------\u001b[0m",
      "\u001b[1;31mTypeError\u001b[0m                                 Traceback (most recent call last)",
      "Cell \u001b[1;32mIn[44], line 1\u001b[0m\n\u001b[1;32m----> 1\u001b[0m \u001b[43md\u001b[49m\u001b[38;5;241;43m.\u001b[39;49m\u001b[43mpopitem\u001b[49m\u001b[43m(\u001b[49m\u001b[38;5;241;43m7\u001b[39;49m\u001b[43m)\u001b[49m\n",
      "\u001b[1;31mTypeError\u001b[0m: dict.popitem() takes no arguments (1 given)"
     ]
    }
   ],
   "source": [
    "d.popitem(7)"
   ]
  },
  {
   "cell_type": "code",
   "execution_count": 45,
   "id": "57f41808",
   "metadata": {},
   "outputs": [
    {
     "name": "stdout",
     "output_type": "stream",
     "text": [
      "{1: 'Python', 2: 'JAVA', 3: 'CPP', 4: 'PHP', 5: 'SCALA', 6: 'Javascript', 7: 'Spark'}\n"
     ]
    }
   ],
   "source": [
    "print(d)"
   ]
  },
  {
   "cell_type": "code",
   "execution_count": 46,
   "id": "9dc099ca",
   "metadata": {
    "scrolled": true
   },
   "outputs": [
    {
     "data": {
      "text/plain": [
       "(7, 'Spark')"
      ]
     },
     "execution_count": 46,
     "metadata": {},
     "output_type": "execute_result"
    }
   ],
   "source": [
    "d.popitem()"
   ]
  },
  {
   "cell_type": "code",
   "execution_count": 47,
   "id": "d9d8a4f3",
   "metadata": {},
   "outputs": [
    {
     "data": {
      "text/plain": [
       "(6, 'Javascript')"
      ]
     },
     "execution_count": 47,
     "metadata": {},
     "output_type": "execute_result"
    }
   ],
   "source": [
    "d.popitem()"
   ]
  },
  {
   "cell_type": "code",
   "execution_count": 48,
   "id": "575854fe",
   "metadata": {},
   "outputs": [
    {
     "name": "stdout",
     "output_type": "stream",
     "text": [
      "{1: 'Python', 2: 'JAVA', 3: 'CPP', 4: 'PHP', 5: 'SCALA'}\n"
     ]
    }
   ],
   "source": [
    "print(d)"
   ]
  },
  {
   "cell_type": "markdown",
   "id": "3d9ea703",
   "metadata": {},
   "source": [
    "# keys()"
   ]
  },
  {
   "cell_type": "markdown",
   "id": "889e9a2e",
   "metadata": {},
   "source": [
    "keys(): It returns a view of all keys in the dictionary.\n"
   ]
  },
  {
   "cell_type": "code",
   "execution_count": 53,
   "id": "c74fcf31",
   "metadata": {},
   "outputs": [
    {
     "name": "stdout",
     "output_type": "stream",
     "text": [
      "dict_keys(['name', 'age', 'city'])\n"
     ]
    }
   ],
   "source": [
    "person_info = {\"name\": \"John\", \"age\": 30, \"city\": \"New York\"}\n",
    "keys1 = person_info.keys()\n",
    "print(keys1) "
   ]
  },
  {
   "cell_type": "code",
   "execution_count": 54,
   "id": "6b52d045",
   "metadata": {},
   "outputs": [
    {
     "name": "stdout",
     "output_type": "stream",
     "text": [
      "dict_keys(['Math', 'Science', 'History'])\n"
     ]
    }
   ],
   "source": [
    "student_scores = {\"Math\": 85, \"Science\": 90, \"History\": 78}\n",
    "keys2 = student_scores.keys()\n",
    "print(keys2)"
   ]
  },
  {
   "cell_type": "code",
   "execution_count": 55,
   "id": "d345890a",
   "metadata": {},
   "outputs": [
    {
     "name": "stdout",
     "output_type": "stream",
     "text": [
      "dict_keys(['apple', 'banana', 'orange'])\n"
     ]
    }
   ],
   "source": [
    "inventory = {\"apple\": 10, \"banana\": 15, \"orange\": 20}\n",
    "keys3 = inventory.keys()\n",
    "print(keys3)"
   ]
  },
  {
   "cell_type": "code",
   "execution_count": 56,
   "id": "05b27e8e",
   "metadata": {},
   "outputs": [
    {
     "name": "stdout",
     "output_type": "stream",
     "text": [
      "dict_keys(['ID', 'Name', 'Department'])\n"
     ]
    }
   ],
   "source": [
    "employee_details = {\"ID\": 12345, \"Name\": \"Alice\", \"Department\": \"HR\"}\n",
    "keys4 = employee_details.keys()\n",
    "print(keys4)"
   ]
  },
  {
   "cell_type": "code",
   "execution_count": 57,
   "id": "478eaad2",
   "metadata": {},
   "outputs": [
    {
     "name": "stdout",
     "output_type": "stream",
     "text": [
      "dict_keys(['title', 'author', 'genre'])\n"
     ]
    }
   ],
   "source": [
    "book_info = {\"title\": \"1984\", \"author\": \"George Orwell\", \"genre\": \"Dystopian\"}\n",
    "keys5 = book_info.keys()\n",
    "print(keys5)"
   ]
  },
  {
   "cell_type": "code",
   "execution_count": 49,
   "id": "ad94a9d5",
   "metadata": {},
   "outputs": [
    {
     "name": "stdout",
     "output_type": "stream",
     "text": [
      "dict_keys([1, 2, 3, 4, 5, 6, 7, 8]) <class 'dict_keys'> 2941380790064\n"
     ]
    }
   ],
   "source": [
    "d={1:\"Python\",2:\"JAVA\",3:\"CPP\",4:\"PHP\",5:\"SCALA\",6:\"Javascript\",7:\"Spark\",8:\"Rust\"}\n",
    "keys = d.keys()\n",
    "print(keys,type(keys),id(keys))\n"
   ]
  },
  {
   "cell_type": "code",
   "execution_count": 66,
   "id": "fe3d5105",
   "metadata": {},
   "outputs": [
    {
     "name": "stdout",
     "output_type": "stream",
     "text": [
      "Enter student name: Jack\n",
      "Jack does not exist in the dictionary.\n"
     ]
    }
   ],
   "source": [
    "student_grades = {\"John\": 85, \"Alice\": 90, \"Bob\": 78, \"Emma\": 92}\n",
    "\n",
    "student_name = input(\"Enter student name: \")\n",
    "if student_name in student_grades.keys():\n",
    "    print(f\"{student_name} exists in the dictionary.\")\n",
    "else:\n",
    "    print(f\"{student_name} does not exist in the dictionary.\")\n"
   ]
  },
  {
   "cell_type": "code",
   "execution_count": 67,
   "id": "7bf113a7",
   "metadata": {},
   "outputs": [
    {
     "name": "stdout",
     "output_type": "stream",
     "text": [
      "Available preferences:\n",
      "- theme\n",
      "- font_size\n",
      "- language\n"
     ]
    }
   ],
   "source": [
    "user_preferences = {\"theme\": \"dark\", \"font_size\": \"medium\", \"language\": \"English\"}\n",
    "\n",
    "print(\"Available preferences:\")\n",
    "for preference in user_preferences.keys():\n",
    "    print(\"-\", preference)\n"
   ]
  },
  {
   "cell_type": "code",
   "execution_count": 69,
   "id": "fac5c77b",
   "metadata": {},
   "outputs": [
    {
     "name": "stdout",
     "output_type": "stream",
     "text": [
      "Enter configuration key: port\n",
      "port is a valid configuration key.\n"
     ]
    }
   ],
   "source": [
    "config_settings = {\"server\": \"localhost\", \"port\": 8080, \"debug\": True}\n",
    "\n",
    "user_input = input(\"Enter configuration key: \")\n",
    "if user_input in config_settings.keys():\n",
    "    print(f\"{user_input} is a valid configuration key.\")\n",
    "else:\n",
    "    print(f\"{user_input} is not a valid configuration key.\")\n"
   ]
  },
  {
   "cell_type": "markdown",
   "id": "26e9798e",
   "metadata": {},
   "source": [
    "# values()"
   ]
  },
  {
   "cell_type": "markdown",
   "id": "242143ab",
   "metadata": {},
   "source": [
    "values(): This method returns a view of all values in the dictionary"
   ]
  },
  {
   "cell_type": "code",
   "execution_count": 58,
   "id": "d1cafe43",
   "metadata": {},
   "outputs": [
    {
     "name": "stdout",
     "output_type": "stream",
     "text": [
      "dict_values(['John', 30, 'New York'])\n"
     ]
    }
   ],
   "source": [
    "person_info = {\"name\": \"John\", \"age\": 30, \"city\": \"New York\"}\n",
    "values1 = person_info.values()\n",
    "print(values1) "
   ]
  },
  {
   "cell_type": "code",
   "execution_count": 59,
   "id": "eb222624",
   "metadata": {},
   "outputs": [
    {
     "name": "stdout",
     "output_type": "stream",
     "text": [
      "dict_values([85, 90, 78])\n"
     ]
    }
   ],
   "source": [
    "student_scores = {\"Math\": 85, \"Science\": 90, \"History\": 78}\n",
    "values2 = student_scores.values()\n",
    "print(values2)"
   ]
  },
  {
   "cell_type": "code",
   "execution_count": 60,
   "id": "9ecdc316",
   "metadata": {},
   "outputs": [
    {
     "name": "stdout",
     "output_type": "stream",
     "text": [
      "dict_values([10, 15, 20])\n"
     ]
    }
   ],
   "source": [
    "inventory = {\"apple\": 10, \"banana\": 15, \"orange\": 20}\n",
    "values3 = inventory.values()\n",
    "print(values3)"
   ]
  },
  {
   "cell_type": "code",
   "execution_count": 61,
   "id": "7ebd18d7",
   "metadata": {},
   "outputs": [
    {
     "name": "stdout",
     "output_type": "stream",
     "text": [
      "dict_values([12345, 'Alice', 'HR'])\n"
     ]
    }
   ],
   "source": [
    "employee_details = {\"ID\": 12345, \"Name\": \"Alice\", \"Department\": \"HR\"}\n",
    "values4 = employee_details.values()\n",
    "print(values4)"
   ]
  },
  {
   "cell_type": "code",
   "execution_count": 62,
   "id": "ac0bb2d5",
   "metadata": {},
   "outputs": [
    {
     "name": "stdout",
     "output_type": "stream",
     "text": [
      "dict_values(['1984', 'George Orwell', 'Dystopian'])\n"
     ]
    }
   ],
   "source": [
    "book_info = {\"title\": \"1984\", \"author\": \"George Orwell\", \"genre\": \"Dystopian\"}\n",
    "values5 = book_info.values()\n",
    "print(values5)"
   ]
  },
  {
   "cell_type": "code",
   "execution_count": 50,
   "id": "8018cdc5",
   "metadata": {},
   "outputs": [
    {
     "name": "stdout",
     "output_type": "stream",
     "text": [
      "dict_values(['Python', 'JAVA', 'CPP', 'PHP', 'SCALA', 'Javascript', 'Spark', 'Rust']) <class 'dict_values'>\n"
     ]
    }
   ],
   "source": [
    "i=d.values()\n",
    "print(i,type(i))"
   ]
  },
  {
   "cell_type": "code",
   "execution_count": 63,
   "id": "2205fe5b",
   "metadata": {
    "scrolled": true
   },
   "outputs": [
    {
     "name": "stdout",
     "output_type": "stream",
     "text": [
      "Average Score: 86.25\n"
     ]
    }
   ],
   "source": [
    "student_scores = {\"John\": 85, \"Alice\": 90, \"Bob\": 78, \"Emma\": 92}\n",
    "average_score = sum(student_scores.values()) / len(student_scores)\n",
    "print(\"Average Score:\", average_score)\n"
   ]
  },
  {
   "cell_type": "code",
   "execution_count": 64,
   "id": "742d7cd7",
   "metadata": {},
   "outputs": [
    {
     "name": "stdout",
     "output_type": "stream",
     "text": [
      "Maximum Temperature: 28\n"
     ]
    }
   ],
   "source": [
    "daily_temperatures = {\"2024-04-01\": 22, \"2024-04-02\": 25, \"2024-04-03\": 20, \"2024-04-04\": 28}\n",
    "max_temp = max(daily_temperatures.values())\n",
    "print(\"Maximum Temperature:\", max_temp)\n"
   ]
  },
  {
   "cell_type": "code",
   "execution_count": 65,
   "id": "0c0c8ca7",
   "metadata": {},
   "outputs": [
    {
     "name": "stdout",
     "output_type": "stream",
     "text": [
      "Frequency of items: {'apple': 3, 'banana': 2, 'orange': 1}\n"
     ]
    }
   ],
   "source": [
    "items_list = [\"apple\", \"banana\", \"apple\", \"orange\", \"banana\", \"apple\"]\n",
    "frequency = {}\n",
    "for item in items_list:\n",
    "    frequency[item] = frequency.get(item, 0) + 1\n",
    "print(\"Frequency of items:\", frequency)\n"
   ]
  },
  {
   "cell_type": "markdown",
   "id": "a54089e4",
   "metadata": {},
   "source": [
    "# copy()"
   ]
  },
  {
   "cell_type": "markdown",
   "id": "ce542a38",
   "metadata": {},
   "source": [
    "copy(): This function is used for copying the content of one dict object into another dict object"
   ]
  },
  {
   "cell_type": "code",
   "execution_count": 70,
   "id": "c6da110e",
   "metadata": {},
   "outputs": [
    {
     "name": "stdout",
     "output_type": "stream",
     "text": [
      "{'name': 'Akash', 'age': 30, 'salary': 30000, 'city': 'Pune'} <class 'dict'> 2941408699840\n"
     ]
    }
   ],
   "source": [
    "empinfo = {'name': 'Akash', 'age': 30, 'salary': 30000, 'city': \"Pune\" }\n",
    "print(empinfo,type(empinfo),id(empinfo))"
   ]
  },
  {
   "cell_type": "code",
   "execution_count": 71,
   "id": "442c457d",
   "metadata": {},
   "outputs": [],
   "source": [
    "compinfo = empinfo.copy()   "
   ]
  },
  {
   "cell_type": "code",
   "execution_count": 56,
   "id": "ba88552e",
   "metadata": {},
   "outputs": [
    {
     "name": "stdout",
     "output_type": "stream",
     "text": [
      "{'name': 'Akash', 'age': 30, 'salary': 30000, 'city': 'Pune'} <class 'dict'> 2095675569088\n",
      "{'name': 'Akash', 'age': 30, 'salary': 30000, 'city': 'Pune'} <class 'dict'> 2095675236224\n"
     ]
    }
   ],
   "source": [
    "print(empinfo,type(empinfo),id(empinfo))\n",
    "print(compinfo,type(compinfo),id(compinfo))"
   ]
  },
  {
   "cell_type": "code",
   "execution_count": 72,
   "id": "52049faf",
   "metadata": {},
   "outputs": [],
   "source": [
    "compemp=empinfo"
   ]
  },
  {
   "cell_type": "code",
   "execution_count": 73,
   "id": "f2e644d4",
   "metadata": {},
   "outputs": [
    {
     "name": "stdout",
     "output_type": "stream",
     "text": [
      "{'name': 'Akash', 'age': 30, 'salary': 30000, 'city': 'Pune'} <class 'dict'> 2941408699840\n",
      "{'name': 'Akash', 'age': 30, 'salary': 30000, 'city': 'Pune'} <class 'dict'> 2941408699840\n"
     ]
    }
   ],
   "source": [
    "print(empinfo,type(empinfo),id(empinfo))\n",
    "print(compemp,type(compemp),id(compemp))"
   ]
  },
  {
   "cell_type": "markdown",
   "id": "8a745996",
   "metadata": {},
   "source": [
    "# get(key, default)"
   ]
  },
  {
   "cell_type": "markdown",
   "id": "eb38897d",
   "metadata": {},
   "source": [
    "get(key, default): It retrieves the value associated with a given key. If the key is not found, it returns the default value (or None if not specified)."
   ]
  },
  {
   "cell_type": "code",
   "execution_count": 74,
   "id": "bd95b610",
   "metadata": {},
   "outputs": [],
   "source": [
    "d={1:\"Python\",2:\"JAVA\",3:\"CPP\",4:\"PHP\",5:\"SCALA\",6:\"Javascript\",7:\"Spark\",8:\"Rust\"}"
   ]
  },
  {
   "cell_type": "code",
   "execution_count": 76,
   "id": "60b5da65",
   "metadata": {},
   "outputs": [
    {
     "name": "stdout",
     "output_type": "stream",
     "text": [
      "Rust\n"
     ]
    }
   ],
   "source": [
    "print(d.get(8))"
   ]
  },
  {
   "cell_type": "code",
   "execution_count": 78,
   "id": "cdf55b42",
   "metadata": {},
   "outputs": [
    {
     "name": "stdout",
     "output_type": "stream",
     "text": [
      "Key is not available\n"
     ]
    }
   ],
   "source": [
    "print(d.get(11,\"Key is not available\"))"
   ]
  },
  {
   "cell_type": "code",
   "execution_count": 79,
   "id": "92ae0d48",
   "metadata": {
    "scrolled": true
   },
   "outputs": [
    {
     "name": "stdout",
     "output_type": "stream",
     "text": [
      "JAVA\n"
     ]
    }
   ],
   "source": [
    "print(d.get(2))"
   ]
  },
  {
   "cell_type": "markdown",
   "id": "6a8aecd8",
   "metadata": {},
   "source": [
    "# items()"
   ]
  },
  {
   "cell_type": "markdown",
   "id": "fe107b6c",
   "metadata": {},
   "source": [
    "items(): This method returns a view of all key-value pairs in the dictionary as tuples.\n"
   ]
  },
  {
   "cell_type": "code",
   "execution_count": 80,
   "id": "97010c25",
   "metadata": {},
   "outputs": [],
   "source": [
    "d={1:\"Python\",2:\"JAVA\",3:\"CPP\",4:\"PHP\",5:\"SCALA\",6:\"Javascript\",7:\"Spark\",8:\"Rust\"}"
   ]
  },
  {
   "cell_type": "code",
   "execution_count": 82,
   "id": "7e64de91",
   "metadata": {},
   "outputs": [
    {
     "name": "stdout",
     "output_type": "stream",
     "text": [
      "dict_items([(1, 'Python'), (2, 'JAVA'), (3, 'CPP'), (4, 'PHP'), (5, 'SCALA'), (6, 'Javascript'), (7, 'Spark'), (8, 'Rust')])\n"
     ]
    }
   ],
   "source": [
    "new=(d.items())\n",
    "print(new)"
   ]
  },
  {
   "cell_type": "code",
   "execution_count": 84,
   "id": "5f87d062",
   "metadata": {},
   "outputs": [
    {
     "name": "stdout",
     "output_type": "stream",
     "text": [
      "{1: 'Python', 2: 'JAVA', 3: 'CPP', 4: 'PHP', 5: 'SCALA', 6: 'Javascript', 7: 'Spark', 8: 'Rust'} <class 'dict'> 2941408154048\n"
     ]
    }
   ],
   "source": [
    "print(d,type(d),id(d))"
   ]
  },
  {
   "cell_type": "code",
   "execution_count": 86,
   "id": "bb6c747c",
   "metadata": {},
   "outputs": [
    {
     "name": "stdout",
     "output_type": "stream",
     "text": [
      "(1, 'Python')\n",
      "(2, 'JAVA')\n",
      "(3, 'CPP')\n",
      "(4, 'PHP')\n",
      "(5, 'SCALA')\n",
      "(6, 'Javascript')\n",
      "(7, 'Spark')\n",
      "(8, 'Rust')\n"
     ]
    }
   ],
   "source": [
    "for i in d.items():\n",
    "    print(i)"
   ]
  },
  {
   "cell_type": "markdown",
   "id": "f070ad63",
   "metadata": {},
   "source": [
    "# update(other_dict)"
   ]
  },
  {
   "cell_type": "markdown",
   "id": "8d9d1b96",
   "metadata": {},
   "source": [
    "update(other_dict): This method updates the dictionary with key-value pairs from another dictionary or an iterable of key-value pairs."
   ]
  },
  {
   "cell_type": "code",
   "execution_count": 87,
   "id": "9f19051f",
   "metadata": {},
   "outputs": [],
   "source": [
    "d={1:\"Python\",2:\"JAVA\",3:\"CPP\",4:\"PHP\",5:\"SCALA\",6:\"Javascript\",7:\"Spark\",8:\"Rust\"}\n",
    "empinfo = {'name': 'Akash', 'age': 30, 'salary': 30000, 'city': \"Pune\"}\n",
    "c=d.update(empinfo)"
   ]
  },
  {
   "cell_type": "code",
   "execution_count": 88,
   "id": "fae5f207",
   "metadata": {},
   "outputs": [
    {
     "name": "stdout",
     "output_type": "stream",
     "text": [
      "None\n"
     ]
    }
   ],
   "source": [
    "print(c)"
   ]
  },
  {
   "cell_type": "code",
   "execution_count": 89,
   "id": "1a5babf7",
   "metadata": {},
   "outputs": [
    {
     "name": "stdout",
     "output_type": "stream",
     "text": [
      "{1: 'Python', 2: 'JAVA', 3: 'CPP', 4: 'PHP', 5: 'SCALA', 6: 'Javascript', 7: 'Spark', 8: 'Rust', 'name': 'Akash', 'age': 30, 'salary': 30000, 'city': 'Pune'}\n"
     ]
    }
   ],
   "source": [
    "print(d)"
   ]
  },
  {
   "cell_type": "code",
   "execution_count": 90,
   "id": "23485617",
   "metadata": {},
   "outputs": [],
   "source": [
    "combined_dict = {**d, **empinfo}\n"
   ]
  },
  {
   "cell_type": "code",
   "execution_count": 91,
   "id": "2332e128",
   "metadata": {},
   "outputs": [
    {
     "name": "stdout",
     "output_type": "stream",
     "text": [
      "{1: 'Python', 2: 'JAVA', 3: 'CPP', 4: 'PHP', 5: 'SCALA', 6: 'Javascript', 7: 'Spark', 8: 'Rust', 'name': 'Akash', 'age': 30, 'salary': 30000, 'city': 'Pune'} <class 'dict'>\n"
     ]
    }
   ],
   "source": [
    "print(combined_dict,type(combined_dict))\n"
   ]
  },
  {
   "cell_type": "code",
   "execution_count": 92,
   "id": "f4b34e6b",
   "metadata": {},
   "outputs": [],
   "source": [
    "p=list(combined_dict)"
   ]
  },
  {
   "cell_type": "code",
   "execution_count": 93,
   "id": "cd5a682a",
   "metadata": {},
   "outputs": [
    {
     "name": "stdout",
     "output_type": "stream",
     "text": [
      "[1, 2, 3, 4, 5, 6, 7, 8, 'name', 'age', 'salary', 'city']\n"
     ]
    }
   ],
   "source": [
    "print(p)"
   ]
  },
  {
   "cell_type": "code",
   "execution_count": 94,
   "id": "2cc8ef11",
   "metadata": {},
   "outputs": [],
   "source": [
    "i=set(combined_dict)"
   ]
  },
  {
   "cell_type": "code",
   "execution_count": 95,
   "id": "cddb8256",
   "metadata": {},
   "outputs": [
    {
     "name": "stdout",
     "output_type": "stream",
     "text": [
      "{1, 2, 3, 4, 5, 6, 7, 8, 'salary', 'city', 'age', 'name'}\n"
     ]
    }
   ],
   "source": [
    "print(i)"
   ]
  },
  {
   "cell_type": "code",
   "execution_count": 96,
   "id": "bb8d45d6",
   "metadata": {},
   "outputs": [
    {
     "name": "stdout",
     "output_type": "stream",
     "text": [
      "('name', 'Akash')\n",
      "('age', 30)\n",
      "('salary', 30000)\n",
      "('city', 'Pune')\n"
     ]
    }
   ],
   "source": [
    "for i in empinfo.items():\n",
    "    print(i)"
   ]
  },
  {
   "cell_type": "code",
   "execution_count": 97,
   "id": "b8407dba",
   "metadata": {},
   "outputs": [
    {
     "name": "stdout",
     "output_type": "stream",
     "text": [
      "name\n",
      "age\n",
      "salary\n",
      "city\n"
     ]
    }
   ],
   "source": [
    "for i in empinfo.keys():\n",
    "    print(i)"
   ]
  },
  {
   "cell_type": "code",
   "execution_count": 98,
   "id": "263e398c",
   "metadata": {
    "scrolled": true
   },
   "outputs": [
    {
     "name": "stdout",
     "output_type": "stream",
     "text": [
      "Akash\n",
      "30\n",
      "30000\n",
      "Pune\n"
     ]
    }
   ],
   "source": [
    "for i in empinfo.values():\n",
    "    print(i)"
   ]
  },
  {
   "cell_type": "markdown",
   "id": "5a05007c",
   "metadata": {},
   "source": [
    "# fromkeys()"
   ]
  },
  {
   "cell_type": "markdown",
   "id": "d0d9109d",
   "metadata": {},
   "source": [
    "fromkeys() is a method in Python dictionaries used to create a new dictionary with specified keys and a default value for all keys."
   ]
  },
  {
   "cell_type": "code",
   "execution_count": 99,
   "id": "6b424f35",
   "metadata": {},
   "outputs": [
    {
     "name": "stdout",
     "output_type": "stream",
     "text": [
      "{'a': None, 'b': None, 'c': None}\n"
     ]
    }
   ],
   "source": [
    "my_dict = dict.fromkeys(['a', 'b', 'c'])\n",
    "print(my_dict)  # Output: {'a': None, 'b': None, 'c': None}\n"
   ]
  },
  {
   "cell_type": "code",
   "execution_count": 100,
   "id": "94d2ce94",
   "metadata": {},
   "outputs": [
    {
     "name": "stdout",
     "output_type": "stream",
     "text": [
      "{'x': 0, 'y': 0, 'z': 0}\n"
     ]
    }
   ],
   "source": [
    "my_dict = dict.fromkeys(['x', 'y', 'z'], 0)\n",
    "print(my_dict)  # Output: {'x': 0, 'y': 0, 'z': 0}\n"
   ]
  },
  {
   "cell_type": "code",
   "execution_count": 101,
   "id": "8fcd1eb9",
   "metadata": {},
   "outputs": [
    {
     "name": "stdout",
     "output_type": "stream",
     "text": [
      "{'x': 0, 'y': 0, 'z': 0}\n"
     ]
    }
   ],
   "source": [
    "keys = ['x', 'y', 'z']\n",
    "default_value = 0\n",
    "my_dict = dict.fromkeys(keys, default_value)\n",
    "print(my_dict)  # Output: {'x': 0, 'y': 0, 'z': 0}\n"
   ]
  },
  {
   "cell_type": "code",
   "execution_count": 102,
   "id": "4dcdf3f7",
   "metadata": {},
   "outputs": [
    {
     "name": "stdout",
     "output_type": "stream",
     "text": [
      "{0: 'default_value', 1: 'default_value', 2: 'default_value', 3: 'default_value', 4: 'default_value'}\n"
     ]
    }
   ],
   "source": [
    "my_range = range(5)\n",
    "my_dict = dict.fromkeys(my_range, 'default_value')\n",
    "print(my_dict)  # Output: {0: 'default_value', 1: 'default_value', 2: 'default_value', 3: 'default_value', 4: 'default_value'}\n"
   ]
  },
  {
   "cell_type": "code",
   "execution_count": 104,
   "id": "efdc1070",
   "metadata": {},
   "outputs": [
    {
     "name": "stdout",
     "output_type": "stream",
     "text": [
      "{'a': [1, 2], 'b': [1, 2], 'c': [1, 2]}\n"
     ]
    }
   ],
   "source": [
    "keys = ['a', 'b', 'c']\n",
    "default_value = []\n",
    "my_dict = dict.fromkeys(keys, default_value)\n",
    "my_dict['a'].append(1)\n",
    "my_dict['b'].append(2)\n",
    "print(my_dict)  \n"
   ]
  },
  {
   "cell_type": "markdown",
   "id": "ca10bd35",
   "metadata": {},
   "source": [
    "# setdefault()"
   ]
  },
  {
   "cell_type": "markdown",
   "id": "2d962be7",
   "metadata": {},
   "source": [
    "setdefault() is a method in Python dictionaries used to insert a key with a default value into the dictionary if the key does not exist, and return the value associated with the key."
   ]
  },
  {
   "cell_type": "code",
   "execution_count": 105,
   "id": "88498921",
   "metadata": {},
   "outputs": [
    {
     "name": "stdout",
     "output_type": "stream",
     "text": [
      "{'a': 1, 'b': 2, 'c': 3}\n"
     ]
    }
   ],
   "source": [
    "my_dict = {'a': 1, 'b': 2}\n",
    "my_dict.setdefault('c', 3)\n",
    "print(my_dict)  # Output: {'a': 1, 'b': 2, 'c': 3}\n"
   ]
  },
  {
   "cell_type": "code",
   "execution_count": 106,
   "id": "e8017d63",
   "metadata": {},
   "outputs": [
    {
     "name": "stdout",
     "output_type": "stream",
     "text": [
      "0\n",
      "{'a': 1, 'b': 2, 'c': 0}\n"
     ]
    }
   ],
   "source": [
    "my_dict = {'a': 1, 'b': 2}\n",
    "default_value = 0\n",
    "value = my_dict.setdefault('c', default_value)\n",
    "print(value)  # Output: 0\n",
    "print(my_dict)  # Output: {'a': 1, 'b': 2, 'c': 0}\n"
   ]
  },
  {
   "cell_type": "code",
   "execution_count": 107,
   "id": "a0fd4e80",
   "metadata": {},
   "outputs": [
    {
     "name": "stdout",
     "output_type": "stream",
     "text": [
      "1\n",
      "{'a': 1, 'b': 2}\n"
     ]
    }
   ],
   "source": [
    "my_dict = {'a': 1, 'b': 2}\n",
    "value = my_dict.setdefault('a', 0)\n",
    "print(value)  # Output: 1\n",
    "print(my_dict)  # Output: {'a': 1, 'b': 2}\n"
   ]
  },
  {
   "cell_type": "code",
   "execution_count": 108,
   "id": "12c67f8d",
   "metadata": {},
   "outputs": [
    {
     "name": "stdout",
     "output_type": "stream",
     "text": [
      "{'a': [1, 2], 'b': [3, 4], 'c': [5]}\n"
     ]
    }
   ],
   "source": [
    "my_dict = {'a': [1, 2], 'b': [3, 4]}\n",
    "my_dict.setdefault('c', []).append(5)\n",
    "print(my_dict)  # Output: {'a': [1, 2], 'b': [3, 4], 'c': [5]}\n"
   ]
  }
 ],
 "metadata": {
  "kernelspec": {
   "display_name": "Python 3 (ipykernel)",
   "language": "python",
   "name": "python3"
  },
  "language_info": {
   "codemirror_mode": {
    "name": "ipython",
    "version": 3
   },
   "file_extension": ".py",
   "mimetype": "text/x-python",
   "name": "python",
   "nbconvert_exporter": "python",
   "pygments_lexer": "ipython3",
   "version": "3.10.9"
  }
 },
 "nbformat": 4,
 "nbformat_minor": 5
}

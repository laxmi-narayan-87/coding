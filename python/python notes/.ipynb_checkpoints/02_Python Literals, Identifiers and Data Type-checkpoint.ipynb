{
 "cells": [
  {
   "cell_type": "markdown",
   "id": "1cd2a5d1",
   "metadata": {},
   "source": [
    "# Literals in Python"
   ]
  },
  {
   "cell_type": "markdown",
   "id": "33552290",
   "metadata": {},
   "source": [
    "\n",
    "Literals in Python are special codes representing specific values. They are used to set initial values, provide instructions to the program, and establish rules for data manipulation.  Literals in Python is nothing but values passing to the python program. Programmatically, when we write an Python program,we must enter inputs and such as called Literals  or Values\n",
    "\n",
    "\n",
    "<b>Types of Literals in Python:</b>\n",
    "\n",
    "<b>Integer Literals:</b> Whole numbers without decimals, like 42 or -17, and can also be represented in binary, octal, or hexadecimal formats.\n",
    "\n",
    "<b>Floating-Point Literals:</b> Numbers with decimal points, such as 3.14 or -0.5. Scientific notation can also be used for expressing large or small numbers.\n",
    "\n",
    "<b>String Literals:</b> Sequences of characters enclosed in single ('') or double (\"\") quotes. Examples include 'Hello', \"Python\", and multiline strings enclosed in triple quotes ('''like this''').\n",
    "\n",
    "<b>Boolean Literals:</b> Represents truth values, True or False, primarily used for making decisions.\n",
    "\n",
    "<b>None Literal:</b> Represents the absence of a value or an empty placeholder.\n",
    "\n",
    "<b>Unicode and Character Literals:</b> Special characters or symbols, like '\\t' for a tab or '\\u03A9' for the Greek letter Omega.\n",
    "\n",
    "<b>Raw String Literals:</b> Used to represent strings where backslashes are interpreted as literal characters, typically for file paths or special text. Prefixing with 'r', like r'C:\\path\\to\\file'.\n",
    "\n",
    "<b>Bytes and Byte Array Literals:</b> Small units of data, used for specific computer operations. Examples include simple bytes like b'Hello' or byte arrays.\n",
    "\n",
    "<b>Importance of Literals:</b>\n",
    "\n",
    "Serve as building blocks to convey information to the computer.\n",
    "\n",
    "Enable programmers to set initial values and establish rules.\n",
    "\n",
    "Provide instructions to the program on data manipulation and decision-making."
   ]
  },
  {
   "cell_type": "code",
   "execution_count": null,
   "id": "f7186910",
   "metadata": {},
   "outputs": [],
   "source": []
  },
  {
   "cell_type": "markdown",
   "id": "63868475",
   "metadata": {},
   "source": [
    "# Identifiers or Varaibles in Python"
   ]
  },
  {
   "cell_type": "markdown",
   "id": "4a7f01da",
   "metadata": {},
   "source": [
    "<b>Identifiers in Python:</b>\n",
    "Identifiers are special names given to various elements in a Python program. They serve as labels to easily find and use different entities. \n",
    "\n",
    "<b>Variables:</b>\n",
    "Variables are like boxes where you can store information. Each variable has a name and can hold different values. All types of varaibles in python is called as object. A Varaible is an identifiers whose values can be change during execution of problem"
   ]
  },
  {
   "cell_type": "markdown",
   "id": "1bc8340f",
   "metadata": {},
   "source": []
  },
  {
   "cell_type": "code",
   "execution_count": 45,
   "id": "83e03138",
   "metadata": {},
   "outputs": [],
   "source": [
    "# Declaration: Creating a variable involves giving it a name and assigning a value to it.\n",
    "\n",
    "age = 25\n",
    "name = \"Alice\""
   ]
  },
  {
   "cell_type": "code",
   "execution_count": 46,
   "id": "0ae8b146",
   "metadata": {},
   "outputs": [
    {
     "name": "stdout",
     "output_type": "stream",
     "text": [
      "Alice\n"
     ]
    }
   ],
   "source": [
    "# Usage: Variables' names are used to access or manipulate their values.\n",
    "\n",
    "\n",
    "print(name)  # Outputs: Alice\n",
    "new_age = age + 5"
   ]
  },
  {
   "cell_type": "code",
   "execution_count": 47,
   "id": "2effc7d3",
   "metadata": {},
   "outputs": [],
   "source": [
    "# Dynamic Typing: Python variables are dynamically typed, meaning they can hold different types of data at different times.\n",
    "\n",
    "age = 25  # Age is an integer\n",
    "age = \"Twenty-Five\"  # Now age is a string"
   ]
  },
  {
   "cell_type": "code",
   "execution_count": null,
   "id": "dbea9dd4",
   "metadata": {},
   "outputs": [],
   "source": []
  },
  {
   "cell_type": "markdown",
   "id": "6b17e909",
   "metadata": {},
   "source": [
    "# Naming Conventions"
   ]
  },
  {
   "cell_type": "markdown",
   "id": "939f8f55",
   "metadata": {},
   "source": [
    "\n",
    "<b><h3>Follow these conventions for better readability and maintainability of your code:</h3></b>\n",
    "\n",
    "<b>Descriptive Names:</b> Choose names that clearly describe the purpose of the variable. For instance, use \"age\" instead of \"a\" to indicate the content of the variable.\n",
    "\n",
    "<b>Start with a Letter or _:</b> Names should begin with a letter (a-z or A-Z) or an underscore (_). They cannot start with a number or other special characters.\n",
    "\n",
    "<b>Use Letters, Numbers, _:</b> Inside the name, use letters, numbers, and underscores. Avoid spaces, dashes, or other symbols.\n",
    "\n",
    "<b>Avoid Special Words:</b> Do not use Python keywords like \"if,\" \"else,\" etc., as they have predefined meanings in Python.\n",
    "\n",
    "<b>Case Sensitivity:</b> Python distinguishes between uppercase and lowercase letters. Be consistent and use lowercase letters for variable names.\n",
    "\n",
    "<b>No Special Signs:</b> Stick to letters, numbers, and underscores in names. Avoid special characters.\n",
    "\n",
    "<b>Follow Python's Naming Convention:</b> Prefer lowercase letters with words separated by underscores (snake_case), e.g., \"first_name.\"\n",
    "\n",
    "<b>Maintain Consistency:</b> Use sensible names consistently throughout your codebase to ensure clarity.\n",
    "\n",
    "<b>Avoid Single-Letter Names:</b> Unless used for special cases like counting, refrain from using single-letter variable names. Use names that convey the purpose of the variable.\n",
    "\n",
    "<b>Update Names as Needed:</b> If the purpose of a variable changes, rename it appropriately to maintain clarity and coherence in the code."
   ]
  },
  {
   "cell_type": "code",
   "execution_count": 49,
   "id": "a24a784f",
   "metadata": {},
   "outputs": [
    {
     "name": "stdout",
     "output_type": "stream",
     "text": [
      "100 <class 'int'>\n"
     ]
    }
   ],
   "source": [
    "# Variable Starting with Underscore:\n",
    "\n",
    "_1345A3455 = 100\n",
    "print(_1345A3455, type(_1345A3455))\n",
    "# Outputs: 100 <class 'int'>"
   ]
  },
  {
   "cell_type": "code",
   "execution_count": 51,
   "id": "e29f500f",
   "metadata": {},
   "outputs": [
    {
     "ename": "SyntaxError",
     "evalue": "invalid decimal literal (1383850518.py, line 4)",
     "output_type": "error",
     "traceback": [
      "\u001b[1;36m  Cell \u001b[1;32mIn[51], line 4\u001b[1;36m\u001b[0m\n\u001b[1;33m    12Ad = 34  # This will raise a SyntaxError as variable name cannot start with a number\u001b[0m\n\u001b[1;37m     ^\u001b[0m\n\u001b[1;31mSyntaxError\u001b[0m\u001b[1;31m:\u001b[0m invalid decimal literal\n"
     ]
    }
   ],
   "source": [
    "# Variable Starting with a Number (Invalid):\n",
    "\n",
    "\n",
    "12Ad = 34  # This will raise a SyntaxError as variable name cannot start with a number\n",
    "print(12Ad)"
   ]
  },
  {
   "cell_type": "code",
   "execution_count": 52,
   "id": "da3423f9",
   "metadata": {},
   "outputs": [
    {
     "name": "stdout",
     "output_type": "stream",
     "text": [
      "34\n"
     ]
    }
   ],
   "source": [
    "# Snake Case Naming:\n",
    "\n",
    "amdm1234ddf_m = 34\n",
    "print(amdm1234ddf_m)\n",
    "# Outputs: 34"
   ]
  },
  {
   "cell_type": "code",
   "execution_count": 53,
   "id": "7b27baf6",
   "metadata": {},
   "outputs": [
    {
     "ename": "SyntaxError",
     "evalue": "invalid syntax (3600446832.py, line 3)",
     "output_type": "error",
     "traceback": [
      "\u001b[1;36m  Cell \u001b[1;32mIn[53], line 3\u001b[1;36m\u001b[0m\n\u001b[1;33m    price$ = 20.99  # This will raise a SyntaxError as variable name contains special character \"$\"\u001b[0m\n\u001b[1;37m         ^\u001b[0m\n\u001b[1;31mSyntaxError\u001b[0m\u001b[1;31m:\u001b[0m invalid syntax\n"
     ]
    }
   ],
   "source": [
    "# Invalid Variable Name with Special Character (Invalid):\n",
    "\n",
    "price$ = 20.99  # This will raise a SyntaxError as variable name contains special character \"$\"\n",
    "print(price$)"
   ]
  },
  {
   "cell_type": "code",
   "execution_count": 54,
   "id": "487c81d7",
   "metadata": {},
   "outputs": [
    {
     "name": "stdout",
     "output_type": "stream",
     "text": [
      "John Doe\n"
     ]
    }
   ],
   "source": [
    "# Camel Case Naming (Not Preferred):\n",
    "\n",
    "\n",
    "fullName = 'John Doe'  # Although technically valid, it's not preferred in Python\n",
    "print(fullName)"
   ]
  },
  {
   "cell_type": "code",
   "execution_count": 55,
   "id": "2c9df220",
   "metadata": {},
   "outputs": [
    {
     "ename": "SyntaxError",
     "evalue": "invalid syntax (554068664.py, line 4)",
     "output_type": "error",
     "traceback": [
      "\u001b[1;36m  Cell \u001b[1;32mIn[55], line 4\u001b[1;36m\u001b[0m\n\u001b[1;33m    if = True  # This will raise a SyntaxError as \"if\" is a reserved keyword in Python\u001b[0m\n\u001b[1;37m       ^\u001b[0m\n\u001b[1;31mSyntaxError\u001b[0m\u001b[1;31m:\u001b[0m invalid syntax\n"
     ]
    }
   ],
   "source": [
    "# Use of Reserved Keywords (Invalid):\n",
    "\n",
    "\n",
    "if = True  # This will raise a SyntaxError as \"if\" is a reserved keyword in Python\n",
    "print(if)"
   ]
  },
  {
   "cell_type": "code",
   "execution_count": 56,
   "id": "b0447232",
   "metadata": {},
   "outputs": [
    {
     "name": "stdout",
     "output_type": "stream",
     "text": [
      "25 Alice 01-01-2000\n"
     ]
    }
   ],
   "source": [
    "# Inconsistent Casing (Not Preferred):\n",
    "\n",
    "age = 25\n",
    "Name = 'Alice'\n",
    "DOB = '01-01-2000'\n",
    "print(age, Name, DOB)"
   ]
  },
  {
   "cell_type": "code",
   "execution_count": 57,
   "id": "3a877a59",
   "metadata": {},
   "outputs": [
    {
     "name": "stdout",
     "output_type": "stream",
     "text": [
      "50\n"
     ]
    }
   ],
   "source": [
    "# Variable with Descriptive Name:\n",
    "\n",
    "num_of_students = 50\n",
    "print(num_of_students)"
   ]
  },
  {
   "cell_type": "code",
   "execution_count": 58,
   "id": "21c0adb1",
   "metadata": {},
   "outputs": [
    {
     "name": "stdout",
     "output_type": "stream",
     "text": [
      "5\n"
     ]
    }
   ],
   "source": [
    "# Variable with Single Letter Name (Not Preferred):\n",
    "\n",
    "x = 5  # Although technically valid, it's not descriptive\n",
    "print(x)"
   ]
  },
  {
   "cell_type": "code",
   "execution_count": 59,
   "id": "79ead8cc",
   "metadata": {},
   "outputs": [
    {
     "name": "stdout",
     "output_type": "stream",
     "text": [
      "10\n"
     ]
    }
   ],
   "source": [
    "#Updating Variable Names:\n",
    "\n",
    "num = 10  # Initially represents the number of students\n",
    "num_of_students = 10  # Updated to clarify its purpose\n",
    "print(num_of_students)"
   ]
  },
  {
   "cell_type": "code",
   "execution_count": 60,
   "id": "28bcfe22",
   "metadata": {},
   "outputs": [
    {
     "name": "stdout",
     "output_type": "stream",
     "text": [
      "23\n"
     ]
    }
   ],
   "source": [
    "_if = 23\n",
    "\n",
    "print(_if)"
   ]
  },
  {
   "cell_type": "code",
   "execution_count": 61,
   "id": "cb68f47e",
   "metadata": {},
   "outputs": [
    {
     "name": "stdout",
     "output_type": "stream",
     "text": [
      "23\n"
     ]
    }
   ],
   "source": [
    "_else= 23\n",
    "\n",
    "print(_else)"
   ]
  },
  {
   "cell_type": "code",
   "execution_count": null,
   "id": "b65ac83e",
   "metadata": {},
   "outputs": [],
   "source": [
    "\n"
   ]
  },
  {
   "cell_type": "markdown",
   "id": "7fe99f59",
   "metadata": {},
   "source": [
    "# Data Type"
   ]
  },
  {
   "cell_type": "markdown",
   "id": "b996acb7",
   "metadata": {},
   "source": [
    "Data type is like a category that tells the computer how to treat a specific type of value. It helps Python understand what you want to do with that value and how to handle it. Different data types represent different kinds of information, like numbers, text, and more. The purpose of Data Type in Python is that \"to allocate sufficient amount of memory space for storing the value or Literals in main memory(RAM) of computer\"\n",
    "\n"
   ]
  },
  {
   "cell_type": "markdown",
   "id": "c6da7adb",
   "metadata": {},
   "source": [
    "# Common Data Types in Python:"
   ]
  },
  {
   "cell_type": "markdown",
   "id": "f9bbd0d9",
   "metadata": {},
   "source": [
    "<b>Integer (int):</b>\n",
    "Represents whole numbers used for counting or numerical data without decimals.\n",
    "\n",
    "Examples: 42, -17, 1000.\n",
    "\n",
    "<br>\n",
    "\n",
    "\n",
    "<b>Float (float):</b>\n",
    "Represents numbers with decimal points, useful for dealing with fractional values.\n",
    "\n",
    "Examples: 3.14, -0.5, 2.71828.\n",
    "\n",
    "<br>\n",
    "\n",
    "<b>Boolean (bool):</b>\n",
    "\n",
    "Represents a binary value, either True or False, used for logical operations and decision-making.\n",
    "Examples: True, False.\n",
    "\n",
    "<br>\n",
    "\n",
    "<b>Complex (complex):</b>\n",
    "\n",
    "Represents numbers with both real and imaginary parts, used for advanced mathematical calculations.\n",
    "Examples: 3 + 2j, -1 - 4j.\n",
    "\n",
    "<br>\n",
    "\n",
    "<b>String (str):</b>\n",
    "\n",
    "Represents a sequence of characters, used for handling textual data.\n",
    "Examples: 'Hello', \"Python\", '123'.\n",
    "\n",
    "<br>\n",
    "\n",
    "<b>Bytes (bytes):</b>\n",
    "\n",
    "Represents a sequence of bytes, often used for handling binary data like files or images.\n",
    "Examples: b'hello', b'\\x00\\xFF'.\n",
    "\n",
    "<br>\n",
    "\n",
    "<b>Bytearray (bytearray):</b>\n",
    "\n",
    "Represents a mutable sequence of bytes, used for modifying binary data.\n",
    "Examples: bytearray(b'hello'), bytearray(b'\\x00\\xFF\\xFE').\n",
    "\n",
    "<br>\n",
    "\n",
    "<b>Range (range):</b>\n",
    "\n",
    "Represents a sequence of numbers, commonly used for iterating over a sequence of numbers.\n",
    "Examples: range(0, 10), range(5).\n",
    "\n",
    "<br>\n",
    "\n",
    "<b>List (list):</b>\n",
    "\n",
    "Represents an ordered collection of items, mutable and can contain heterogeneous elements.\n",
    "Examples: [1, 2, 3], ['apple', 'banana', 'cherry'].\n",
    "\n",
    "<br>\n",
    "\n",
    "<b>Tuple (tuple):</b>\n",
    "\n",
    "Represents an ordered collection of items, immutable once created, often used for fixed collections.\n",
    "Examples: (1, 2, 3), ('John', 25, 'New York').\n",
    "\n",
    "<br>\n",
    "\n",
    "<b>Set (set):</b>\n",
    "\n",
    "Represents an unordered collection of unique elements, useful for eliminating duplicates and set operations.\n",
    "Examples: {1, 2, 3}, {'apple', 'banana', 'cherry'}.\n",
    "\n",
    "<br>\n",
    "\n",
    "<b>Frozenset (frozenset):</b>\n",
    "\n",
    "Represents an immutable set, once created, its elements cannot be changed or modified.\n",
    "Examples: frozenset({1, 2, 3}), frozenset({'apple', 'banana', 'cherry'}).\n",
    "\n",
    "<br>\n",
    "\n",
    "<b>Dictionary (dict):</b>\n",
    "Represents a collection of key-value pairs, used for storing and retrieving data efficiently.\n",
    "Examples: {'name': 'John', 'age': 25}, {1: 'apple', 2: 'banana', 3: 'cherry'}.\n",
    "\n",
    "<br>\n",
    "\n",
    "<b>NoneType (None):</b>\n",
    "Represents an absence of value or undefined state, used when a variable does not have a value.\n",
    "Example: None."
   ]
  },
  {
   "cell_type": "code",
   "execution_count": null,
   "id": "08304384",
   "metadata": {},
   "outputs": [],
   "source": []
  },
  {
   "cell_type": "markdown",
   "id": "fb8abda8",
   "metadata": {},
   "source": [
    "# Fundamental Data Type"
   ]
  },
  {
   "cell_type": "markdown",
   "id": "16b2fa6e",
   "metadata": {},
   "source": [
    "Fundamental data types refer to basic building blocks for storing and manipulating data within a program. These data types are considered fundamental because they represent the most basic forms of data that Python can work with. Each fundamental data type can store only one value at a time.\n",
    "\n",
    "<b>Integer (int):</b>\n",
    "Represents whole numbers, both positive and negative, without any decimal point.\n",
    "Example: x = 10\n",
    "\n",
    "<b>Float (float):</b>\n",
    "Represents floating-point numbers, which include decimal points or scientific notation.\n",
    "Example: y = 3.14\n",
    "\n",
    "<b>Boolean (bool):</b>\n",
    "Represents logical values, either True or False.\n",
    "Example: is_valid = True\n",
    "\n",
    "<b>Complex (complex):</b>\n",
    "Represents complex numbers, consisting of a real part and an imaginary part.\n",
    "Example: z = 3 + 2j\n",
    "\n",
    "<b>String (str):</b>\n",
    "Represents sequences of characters, enclosed within single ('') or double (\"\") quotes.\n",
    "Example: name = 'John'\n",
    "\n",
    "<b>NoneType (None):</b>\n",
    "Represents the absence of a value or undefined state.\n",
    "Example: result = None"
   ]
  },
  {
   "cell_type": "code",
   "execution_count": null,
   "id": "3e667d82",
   "metadata": {},
   "outputs": [],
   "source": []
  },
  {
   "cell_type": "markdown",
   "id": "e8e75730",
   "metadata": {},
   "source": [
    "# Integer Data Type:"
   ]
  },
  {
   "cell_type": "markdown",
   "id": "700c8181",
   "metadata": {},
   "source": [
    "An integer is a fundamental data type in Python used to represent whole numbers. These numbers are used for counting and do not have any decimal or fractional parts. Integers can be positive, negative, or zero itself."
   ]
  },
  {
   "cell_type": "code",
   "execution_count": 62,
   "id": "237779aa",
   "metadata": {},
   "outputs": [
    {
     "name": "stdout",
     "output_type": "stream",
     "text": [
      "5\n",
      "300\n",
      "25\n"
     ]
    }
   ],
   "source": [
    "# Positive Integers: Numbers greater than zero, used for counting or representing quantities.\n",
    "\n",
    "apples = 5\n",
    "pages_in_book = 300\n",
    "age = 25\n",
    "\n",
    "print(apples)\n",
    "print(pages_in_book)\n",
    "print(age)"
   ]
  },
  {
   "cell_type": "code",
   "execution_count": 63,
   "id": "4fe2f801",
   "metadata": {},
   "outputs": [
    {
     "name": "stdout",
     "output_type": "stream",
     "text": [
      "-10\n",
      "-500\n",
      "-1000\n"
     ]
    }
   ],
   "source": [
    "# Negative Integers: Numbers less than zero, representing debts, losses, or negative quantities.\n",
    "\n",
    "\n",
    "temperature = -10\n",
    "debt = -500\n",
    "loss = -1000\n",
    "\n",
    "print(temperature)\n",
    "print(debt)\n",
    "print(loss)"
   ]
  },
  {
   "cell_type": "code",
   "execution_count": 64,
   "id": "6f7e1174",
   "metadata": {},
   "outputs": [
    {
     "name": "stdout",
     "output_type": "stream",
     "text": [
      "0\n"
     ]
    }
   ],
   "source": [
    "# Zero: Represents the absence of quantity or value.\n",
    "\n",
    "zero = 0\n",
    "\n",
    "print(zero)"
   ]
  },
  {
   "cell_type": "markdown",
   "id": "f77bd300",
   "metadata": {},
   "source": [
    "<b>Usage:</b>\n",
    "   \n",
    "In Python, integers can be used to perform various mathematical operations such as addition, subtraction, multiplication, and division.\n",
    "They are commonly used to represent ages, counts, quantities, temperatures, and many other types of numerical data.a"
   ]
  },
  {
   "cell_type": "markdown",
   "id": "93f4fa27",
   "metadata": {},
   "source": [
    "# Number Systems Data:"
   ]
  },
  {
   "cell_type": "markdown",
   "id": "81bf8373",
   "metadata": {},
   "source": [
    "\n",
    "\"Number systems data\" refers to different ways of representing and working with numerical values. It involves various number systems, each with its own rules for expressing numbers and performing arithmetic operations.\n",
    "\n",
    "<b><h3>Common Number Systems:\n",
    "    Decimal Number System (Base 10):</h3></b>\n",
    "\n",
    "The system used in everyday life, consisting of digits 0 through 9.\n",
    "Examples: 1, 5, 10.\n",
    "\n",
    "\n",
    "<b><h3>Binary Number System (Base 2):</h3></b>\n",
    "\n",
    "Uses only two digits, 0 and 1, representing powers of 2.\n",
    "Fundamental in computer systems for digital representation and processing.\n",
    "Examples: 0b1010 (Equivalent to decimal 10), 0b1101 (Equivalent to decimal 13).\n",
    "\n",
    "\n",
    "<b><h3>Hexadecimal Number System (Base 16):</h3></b>\n",
    "\n",
    "Uses digits 0-9 and letters A-F to represent values, where A-F represent decimal values 10-15.\n",
    "Commonly used in computing for memory addresses, binary data representation, and color codes.\n",
    "Examples: 0x1A (Equivalent to decimal 26), 0xFF (Equivalent to decimal 255).\n",
    "\n",
    "<b><h3>Octal Number System (Base 8):</h3></b>\n",
    "\n",
    "Uses digits 0-7 to represent values, where each digit represents powers of 8.\n",
    "Has applications in various computing contexts, including UNIX file permissions.\n",
    "Examples: 075 (Equivalent to decimal 61), 010 (Equivalent to decimal 8).\n"
   ]
  },
  {
   "cell_type": "markdown",
   "id": "93b1e62d",
   "metadata": {},
   "source": [
    "<b><h3>Usage:</h3></b>\n",
    "\n",
    "Each number system has its own set of rules for representing numbers and performing arithmetic operations.\n",
    "\n",
    "Binary is essential in computer science for digital data representation and manipulation.\n",
    "Hexadecimal is commonly used in computing for its concise representation of binary data and memory addresses.\n",
    "\n",
    "Octal has historical significance and is still used in certain computing contexts, although less common compared to binary and hexadecimal.\n",
    "Examples:\n",
    "Examples of numbers represented in different number systems:\n",
    "\n",
    "Decimal: 10 (Base 10)\n",
    "\n",
    "Binary: 0b1010 (Base 2)\n",
    "\n",
    "Hexadecimal: 0x1A (Base 16)\n",
    "\n",
    "Octal: 075 (Base 8)"
   ]
  },
  {
   "cell_type": "markdown",
   "id": "35494397",
   "metadata": {},
   "source": [
    "# Decimal, Binary, Octal, and Hexadecimal Number Systems"
   ]
  },
  {
   "cell_type": "code",
   "execution_count": null,
   "id": "3c9a146c",
   "metadata": {},
   "outputs": [],
   "source": [
    "0000\n",
    "0001\n",
    "0010\n",
    "0011\n",
    " 111\n",
    "0100   "
   ]
  },
  {
   "cell_type": "raw",
   "id": "e5c46260",
   "metadata": {},
   "source": [
    "Decimal  Binary      Octal         HexaDecimal\n",
    "\n",
    "  0      0000        0000              0000  \n",
    "  1      0001        0001              0001\n",
    "  2      0010        0010              0010\n",
    "  3      0011        0011              0011\n",
    "  4      0100        0100              0100\n",
    "  5      0101        0101              0101\n",
    "  6      0110        0110              0110\n",
    "  7      0111        0111              0111\n",
    "  8      1000                          1000    \n",
    "  9      1001                          1001\n",
    " 10      1010                            A\n",
    " 11      1011                            B\n",
    " 12      1100                            C\n",
    " 13      1101                            D\n",
    " 14      1110                            E\n",
    " 15      1111                            F\n",
    " \n",
    " \n",
    " \n",
    " \n",
    " Decimal: Base-10, 0-9, Powers of 10, \n",
    " Example: 123 = \\(1 \\times 10^2 + 2 \\times 10^1 + 3 \\times 10^0\\)\n",
    "\n",
    "Binary: Base-2, 0-1, Powers of 2, \n",
    "Example: 101 = \\(1 \\times 2^2 + 0 \\times 2^1 + 1 \\times 2^0\\)\n",
    "\n",
    "Octal: Base-8, 0-7, Powers of 8, \n",
    "Example: 56 = \\(5 \\times 8^1 + 6 \\times 8^0\\)\n",
    "\n",
    "Hexadecimal: Base-16, 0-9 and A-F, \n",
    "Powers of 16, Example: A3 = \\(10 \\times 16^1 + 3 \\times 16^0\\)"
   ]
  },
  {
   "cell_type": "markdown",
   "id": "e10d28f2",
   "metadata": {},
   "source": [
    "# Decimal Number System (Base 10)"
   ]
  },
  {
   "cell_type": "markdown",
   "id": "bf26223b",
   "metadata": {},
   "source": [
    "The Decimal Number System, also known as base-10, is the system we use every day for counting and representing numbers. It's called \"decimal\" because it's based on the number 10.\n",
    "\n",
    "<b>Characteristics:</b>\n",
    "\n",
    "<b>Digits:</b> The Decimal Number System consists of ten digits: 0, 1, 2, 3, 4, 5, 6, 7, 8, and 9.\n",
    "\n",
    "<b>Place Value:</b> Each digit's position in a number determines its value, with positions increasing from right to left.\n",
    "\n",
    "<b>Representation:</b> Numbers are represented by arranging these digits in different positions.\n",
    "\n",
    "Number 356: In the Decimal Number System, 356 is represented as:\n",
    "\n",
    "3 in the hundreds place (3 x 100 = 300)\n",
    "\n",
    "5 in the tens place (5 x 10 = 50)\n",
    "\n",
    "6 in the ones place (6 x 1 = 6)\n",
    "\n",
    "So, 356 can be thought of as 300 + 50 + 6."
   ]
  },
  {
   "cell_type": "code",
   "execution_count": 68,
   "id": "4f9e9db2",
   "metadata": {},
   "outputs": [
    {
     "name": "stdout",
     "output_type": "stream",
     "text": [
      "Number in Decimal Number System: 356\n",
      "Result of arithmetic operations: 356\n"
     ]
    }
   ],
   "source": [
    "\n",
    "number = 356\n",
    "\n",
    "print(\"Number in Decimal Number System:\", number)  # Output: Number in Decimal Number System: 356\n",
    "\n",
    "\n",
    "result = 3 * 100 + 5 * 10 + 6 * 1\n",
    "\n",
    "print(\"Result of arithmetic operations:\", result)  # Output: Result of arithmetic operations: 356\n"
   ]
  },
  {
   "cell_type": "markdown",
   "id": "d96ba799",
   "metadata": {},
   "source": [
    "# Binary Number System (Base 2)"
   ]
  },
  {
   "cell_type": "markdown",
   "id": "bd64f4a0",
   "metadata": {},
   "source": [
    "The Binary Number System is a fundamental way of counting and representing numbers using only two digits: 0 and 1. It serves as the foundation for how computers work and store information.\n",
    "\n",
    "<b>Characteristics:</b>\n",
    "\n",
    "<b>Digits:</b> In the Binary System, there are only two digits: 0 and 1.\n",
    "\n",
    "<b>Positional Notation:</b> Each digit's position represents a power of 2, similar to the Decimal System where each position represents a power of 10.\n",
    "\n",
    "<b>Representation:</b> Binary numbers are composed by arranging these digits in different \n",
    "positions.\n",
    "\n",
    "Binary Number 101101: Each digit in this binary number represents a power of 2.\n",
    "\n",
    "The rightmost digit (1) represents 2^0 (2 to the power of 0), which is 1.\n",
    "\n",
    "The next digit (0) represents 2^1, which is 2.\n",
    "\n",
    "Another 1 represents 2^2, which is 4.\n",
    "\n",
    "And so on...\n",
    "\n",
    "So, the binary number 101101 is equal to 1*(2^0) + 0*(2^1) + 1*(2^2) + 1*(2^3) + 0*(2^4) + 1*(2^5), which sums up to 1 + 0 + 4 + 8 + 0 + 32, equaling 45.\n",
    "\n",
    "<b>Importance in Computing:</b>\n",
    "\n",
    "Binary is crucial in computers because computer circuits can be in two states: on (represented by 1) and off (represented by 0).\n",
    "\n",
    "This on/off capability of circuits is utilized to store and process various types of information in computers.\n",
    "\n",
    "Binary Data Representation in Python:\n",
    "\n",
    "In Python programming, binary data is represented or stored in variables preceded by 0b or 0B.\n",
    "\n",
    "Example: binary_number = 0b101101"
   ]
  },
  {
   "cell_type": "code",
   "execution_count": 37,
   "id": "744c7a56",
   "metadata": {},
   "outputs": [
    {
     "name": "stdout",
     "output_type": "stream",
     "text": [
      "10925\n"
     ]
    }
   ],
   "source": [
    "a=0B10101010101101\n",
    "\n",
    "\n",
    "print(a)"
   ]
  },
  {
   "cell_type": "code",
   "execution_count": 39,
   "id": "b09a2f44",
   "metadata": {},
   "outputs": [
    {
     "name": "stdout",
     "output_type": "stream",
     "text": [
      "10\n"
     ]
    }
   ],
   "source": [
    "a= 0b1010\n",
    "\n",
    "print(a)"
   ]
  },
  {
   "cell_type": "code",
   "execution_count": 40,
   "id": "1794f552",
   "metadata": {},
   "outputs": [
    {
     "name": "stdout",
     "output_type": "stream",
     "text": [
      "0b101110\n"
     ]
    }
   ],
   "source": [
    "b=bin(46)\n",
    "\n",
    "\n",
    "print(b)"
   ]
  },
  {
   "cell_type": "raw",
   "id": "78565584",
   "metadata": {},
   "source": [
    "Decimal To Binary \n",
    "\n",
    "2   46\n",
    "2   23    0 ^\n",
    "2   11    1 |\n",
    "2    5    1 | \n",
    "2    2    1 |\n",
    "     1 -->0 |\n",
    "    \n",
    "binary --> 101110"
   ]
  },
  {
   "cell_type": "code",
   "execution_count": null,
   "id": "89e3783f",
   "metadata": {},
   "outputs": [],
   "source": [
    "Binary To Decimal\n",
    "\n",
    "Binary --> 101110\n",
    "    \n",
    "   1               0                1                1                   1                 0\n",
    "1*(2^5)         0*(2^4)          1*(2^3)          1*(2^2)             1*(2^1)           0*(2^0)  \n",
    "  32      +        0        +       8         +      4          +         2        +       0\n",
    "\n",
    "=46"
   ]
  },
  {
   "cell_type": "code",
   "execution_count": 2,
   "id": "f6b67806",
   "metadata": {},
   "outputs": [
    {
     "name": "stdout",
     "output_type": "stream",
     "text": [
      "11\n"
     ]
    }
   ],
   "source": [
    "c=0B1011\n",
    "print(c)"
   ]
  },
  {
   "cell_type": "code",
   "execution_count": 4,
   "id": "6811a5d1",
   "metadata": {
    "scrolled": true
   },
   "outputs": [
    {
     "ename": "SyntaxError",
     "evalue": "invalid digit '2' in binary literal (3436880529.py, line 1)",
     "output_type": "error",
     "traceback": [
      "\u001b[1;36m  Cell \u001b[1;32mIn[4], line 1\u001b[1;36m\u001b[0m\n\u001b[1;33m    a=0B101010102011\u001b[0m\n\u001b[1;37m                ^\u001b[0m\n\u001b[1;31mSyntaxError\u001b[0m\u001b[1;31m:\u001b[0m invalid digit '2' in binary literal\n"
     ]
    }
   ],
   "source": [
    "a=0B101010102011\n",
    "\n",
    "print(a)"
   ]
  },
  {
   "cell_type": "markdown",
   "id": "6d557f8f",
   "metadata": {},
   "source": [
    "The error you're seeing, \"SyntaxError: invalid digit '2' in binary literal,\" occurs because the number you're trying to assign to the variable a is being interpreted as a binary number, indicated by the prefix 0B.\n",
    "\n",
    "However, in binary numbers, only the digits 0 and 1 are allowed. In your number 101010102011, the digit 2 is not a valid binary digit.\n",
    "\n",
    "To fix this error, you need to ensure that you're using only valid binary digits (0 and 1) in your binary number representation."
   ]
  },
  {
   "cell_type": "markdown",
   "id": "1edbdf58",
   "metadata": {},
   "source": [
    "# Octal Number System (Base 8)"
   ]
  },
  {
   "cell_type": "markdown",
   "id": "bfcd6f1f",
   "metadata": {},
   "source": [
    "The Octal Number System is a method of counting and representing numbers using eight digits: 0, 1, 2, 3, 4, 5, 6, and 7. While not as prevalent as the decimal or binary systems, it finds utility in certain computing contexts.\n",
    "\n",
    "<b>Characteristics:</b>\n",
    "\n",
    "<b>Digits:</b> The Octal System comprises eight digits: 0, 1, 2, 3, 4, 5, 6, and 7.\n",
    "\n",
    "<b>Positional Notation:</b> Similar to the decimal system, each position in an octal number represents a power of 8.\n",
    "\n",
    "<b>Representation:</b> Octal numbers are composed by arranging these digits in different positions.\n",
    "\n",
    "<b>Example:</b>\n",
    "\n",
    "Octal Number 53: Each digit in this octal number represents a power of 8.\n",
    "\n",
    "\n",
    "The rightmost digit (3) represents 8^0 (8 to the power of 0), which equals 1.\n",
    "\n",
    "The left digit (5) represents 8^1, which equals 8.\n",
    "\n",
    "So, the octal number 53 is equal to 5*(8^1) + 3*(8^0), resulting in 40 + 3, totaling 43 in decimal.\n",
    "\n",
    "<b>Importance in Computing:</b>\n",
    "\n",
    "While not as common as other number systems, octal still serves a purpose in certain computing scenarios.\n",
    "\n",
    "It finds application in fields where groups of three bits are handled together, such as file permissions in Unix-like operating systems.\n",
    "\n",
    "<b>Octal Data Representation in Python:</b>\n",
    "\n",
    "In Python programming, conversion of decimal numbers to octal representation can be accomplished using the built-in oct() function.\n",
    "Example:\n",
    "\n",
    "python\n",
    "Copy code\n",
    "decimal_value = 43\n",
    "octal_representation = oct(decimal_value)\n",
    "print(octal_representation)\n",
    "When executed with decimal_value set to 43, the output will be:\n",
    "\n",
    "Copy code\n",
    "0o53\n",
    "The '0o' prefix signifies that the number is in octal form."
   ]
  },
  {
   "cell_type": "code",
   "execution_count": 6,
   "id": "025e7380",
   "metadata": {},
   "outputs": [
    {
     "name": "stdout",
     "output_type": "stream",
     "text": [
      "1170\n"
     ]
    }
   ],
   "source": [
    "a= 0o2222\n",
    "\n",
    "print(a)"
   ]
  },
  {
   "cell_type": "code",
   "execution_count": 7,
   "id": "1ce05c7b",
   "metadata": {
    "scrolled": true
   },
   "outputs": [
    {
     "name": "stdout",
     "output_type": "stream",
     "text": [
      "165\n"
     ]
    }
   ],
   "source": [
    "a= 0O245\n",
    "\n",
    "print(a)"
   ]
  },
  {
   "cell_type": "code",
   "execution_count": 10,
   "id": "141d2ea5",
   "metadata": {},
   "outputs": [
    {
     "name": "stdout",
     "output_type": "stream",
     "text": [
      "0o144\n"
     ]
    }
   ],
   "source": [
    "a = oct(100)\n",
    "\n",
    "print(a)"
   ]
  },
  {
   "cell_type": "raw",
   "id": "41274add",
   "metadata": {},
   "source": [
    "# Decimal to Octal\n",
    "\n",
    "8  100          ^\n",
    "8   12       4  |\n",
    "    1   -->  4  |\n",
    "    "
   ]
  },
  {
   "cell_type": "raw",
   "id": "8c5cdee9",
   "metadata": {},
   "source": [
    "#Octal to Deciaml\n",
    "\n",
    "# Octal -> 0o144\n",
    "\n",
    "   1               4                4\n",
    "1*(8^2)         4*(8^1)          4*(8^0)\n",
    "  64        +     32       +        4\n",
    "=100"
   ]
  },
  {
   "cell_type": "code",
   "execution_count": 11,
   "id": "b9e0ca75",
   "metadata": {},
   "outputs": [
    {
     "name": "stdout",
     "output_type": "stream",
     "text": [
      "12194\n"
     ]
    }
   ],
   "source": [
    "c= 0O27642\n",
    "\n",
    "print(c)"
   ]
  },
  {
   "cell_type": "code",
   "execution_count": 12,
   "id": "dc275142",
   "metadata": {},
   "outputs": [
    {
     "ename": "SyntaxError",
     "evalue": "invalid digit '8' in octal literal (1298280997.py, line 1)",
     "output_type": "error",
     "traceback": [
      "\u001b[1;36m  Cell \u001b[1;32mIn[12], line 1\u001b[1;36m\u001b[0m\n\u001b[1;33m    d = 0O28563\u001b[0m\n\u001b[1;37m           ^\u001b[0m\n\u001b[1;31mSyntaxError\u001b[0m\u001b[1;31m:\u001b[0m invalid digit '8' in octal literal\n"
     ]
    }
   ],
   "source": [
    "d = 0O28563\n",
    "\n",
    "print(d)"
   ]
  },
  {
   "cell_type": "markdown",
   "id": "7fce7916",
   "metadata": {},
   "source": [
    "The error you're encountering, \"SyntaxError: invalid digit '8' in octal literal,\" happens because the number you're trying to assign to the variable d is being interpreted as an octal number, indicated by the prefix 0O.\n",
    "\n",
    "In octal numbers, only digits from 0 to 7 are allowed. However, in your number 28563, the digit 8 is not a valid octal digit.\n",
    "\n",
    "To resolve this error, ensure that you're using only valid octal digits (0 to 7) in your octal number representation."
   ]
  },
  {
   "cell_type": "markdown",
   "id": "31b9e28e",
   "metadata": {},
   "source": [
    "# Hexadecimal (Hex) Number System (Base 16)"
   ]
  },
  {
   "cell_type": "markdown",
   "id": "27408aff",
   "metadata": {},
   "source": [
    "The Hexadecimal (Hex) Number System is a method of counting and representing numbers using sixteen digits: 0, 1, 2, 3, 4, 5, 6, 7, 8, 9, A, B, C, D, E, and F. It is widely utilized in computing due to its compactness and human-readable format, especially for representing binary data.\n",
    "\n",
    "<b>Characteristics:</b>\n",
    "    \n",
    "<b>Digits:</b> The Hexadecimal System consists of sixteen digits: 0, 1, 2, 3, 4, 5, 6, 7, 8, 9, A, B, C, D, E, and F.\n",
    "\n",
    "<b>Positional Notation:</b> Each position in a hexadecimal number represents a power of 16, similar to the decimal system but with sixteen possibilities per position.\n",
    "\n",
    "</b>Representation:</b> Hexadecimal numbers are formed by arranging these digits in different positions.\n",
    "\n",
    "<b>Example:</b>\n",
    "\n",
    "Hexadecimal Number 1A7: Each digit in this hexadecimal number represents a power of 16.\n",
    "    \n",
    "The rightmost digit (7) represents 16^0 (16 to the power of 0), which equals 1.\n",
    "\n",
    "The middle digit (A) represents 16^1, which equals 16.\n",
    "\n",
    "The leftmost digit (1) represents 16^2, which equals 256.\n",
    "\n",
    "So, the hexadecimal number 1A7 is equal to 1*(16^2) + 10*(16^1) + 7*(16^0), resulting in 256 + 160 + 7, totaling 423 in decimal.\n",
    "\n",
    "<b>Importance in Computing:</b>\n",
    "    \n",
    "\n",
    "Hexadecimal is commonly employed in computing due to its convenience in representing binary data in a more concise and readable format.\n",
    "\n",
    "It finds extensive use in various computing applications, including memory addresses, color codes, and data representation.\n",
    "\n",
    "<b>Hexadecimal Data Representation in Python:</b>\n",
    "\n",
    "In Python programming, conversion of decimal numbers to hexadecimal representation can be achieved using the built-in hex() function.\n"
   ]
  },
  {
   "cell_type": "code",
   "execution_count": 13,
   "id": "386cdaea",
   "metadata": {},
   "outputs": [
    {
     "name": "stdout",
     "output_type": "stream",
     "text": [
      "0x1a7\n"
     ]
    }
   ],
   "source": [
    "decimal_value = 423\n",
    "hex_representation = hex(decimal_value)\n",
    "print(hex_representation)"
   ]
  },
  {
   "cell_type": "code",
   "execution_count": 14,
   "id": "7c4b5d33",
   "metadata": {},
   "outputs": [
    {
     "name": "stdout",
     "output_type": "stream",
     "text": [
      "0xff\n"
     ]
    }
   ],
   "source": [
    "decimal_value =  255\n",
    "\n",
    "hex_representation = hex(decimal_value)\n",
    "print(hex_representation)\n"
   ]
  },
  {
   "cell_type": "code",
   "execution_count": 15,
   "id": "b899a0c1",
   "metadata": {},
   "outputs": [
    {
     "name": "stdout",
     "output_type": "stream",
     "text": [
      "0x7ff\n"
     ]
    }
   ],
   "source": [
    "decimal_value =  2047\n",
    "\n",
    "hex_representation = hex(decimal_value)\n",
    "print(hex_representation)\n"
   ]
  },
  {
   "cell_type": "code",
   "execution_count": 17,
   "id": "604cd32c",
   "metadata": {},
   "outputs": [
    {
     "name": "stdout",
     "output_type": "stream",
     "text": [
      "0xffff\n"
     ]
    }
   ],
   "source": [
    "decimal_value =  65535\n",
    "\n",
    "hex_representation = hex(decimal_value)\n",
    "print(hex_representation)\n"
   ]
  },
  {
   "cell_type": "raw",
   "id": "94f023b6",
   "metadata": {},
   "source": [
    "# Decimal To HexaDecimal\n",
    "\n",
    "16   65535   \n",
    "16    4095      F  ^\n",
    "16    255       F  |\n",
    "16    15  -->   F  |\n"
   ]
  },
  {
   "cell_type": "raw",
   "id": "8eda000f",
   "metadata": {},
   "source": [
    "# HexaDecimal to Decimal\n",
    "\n",
    "0xffff\n",
    "\n",
    "   f                  f                      f                  f\n",
    "15*(16^2)         15*(16^1)              15*(16^1)           15*(16^0)\n",
    "  61440        +     3840       +           240      +          15\n",
    "\n",
    "=65535\n"
   ]
  },
  {
   "cell_type": "code",
   "execution_count": 26,
   "id": "855e20fa",
   "metadata": {
    "scrolled": true
   },
   "outputs": [
    {
     "ename": "SyntaxError",
     "evalue": "invalid hexadecimal literal (4241091886.py, line 1)",
     "output_type": "error",
     "traceback": [
      "\u001b[1;36m  Cell \u001b[1;32mIn[26], line 1\u001b[1;36m\u001b[0m\n\u001b[1;33m    a=0x230aH24\u001b[0m\n\u001b[1;37m           ^\u001b[0m\n\u001b[1;31mSyntaxError\u001b[0m\u001b[1;31m:\u001b[0m invalid hexadecimal literal\n"
     ]
    }
   ],
   "source": [
    "a=0x230aH24\n",
    "\n",
    "print(a)"
   ]
  },
  {
   "cell_type": "markdown",
   "id": "a2bfb3b5",
   "metadata": {},
   "source": [
    "The error message you're encountering, \"SyntaxError: invalid hexadecimal literal,\" arises because the value assigned to variable a seems to be intended as a hexadecimal number due to the prefix 0x, followed by a sequence of characters 230aH24.\n",
    "\n",
    "Hexadecimal numbers should only consist of valid hexadecimal digits (0-9 and A-F or a-f). The presence of H in your expression is causing Python to interpret it as an invalid hexadecimal literal.\n",
    "\n",
    "To fix this error, ensure that the value assigned to a contains only valid hexadecimal digits after the 0x prefix."
   ]
  }
 ],
 "metadata": {
  "kernelspec": {
   "display_name": "Python 3 (ipykernel)",
   "language": "python",
   "name": "python3"
  },
  "language_info": {
   "codemirror_mode": {
    "name": "ipython",
    "version": 3
   },
   "file_extension": ".py",
   "mimetype": "text/x-python",
   "name": "python",
   "nbconvert_exporter": "python",
   "pygments_lexer": "ipython3",
   "version": "3.10.9"
  }
 },
 "nbformat": 4,
 "nbformat_minor": 5
}

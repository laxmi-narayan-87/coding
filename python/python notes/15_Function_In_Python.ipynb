{
 "cells": [
  {
   "cell_type": "markdown",
   "id": "231fa666",
   "metadata": {},
   "source": [
    "# Function"
   ]
  },
  {
   "cell_type": "markdown",
   "id": "ad6a71a9",
   "metadata": {},
   "source": [
    "# Unstructured Programming:\n",
    "\n",
    "Code isn't organized; it's a sequence of instructions.\n",
    "Example languages: C, COBOL, assembly (like 8086).\n",
    "\n",
    "\n",
    "\n",
    "# Structured Programming:\n",
    "\n",
    "\n",
    "Code is organized into functions or procedures.\n",
    "Promotes modularity and reusability.\n",
    "Examples: Java, .NET.\n",
    "\n",
    "\n",
    "# Functions:\n",
    "\n",
    "Blocks of code that do specific tasks.\n",
    "Used for breaking down programs.\n",
    "\n",
    "\n",
    "# Part of structured programming.\n",
    "\n",
    "# Static Typed vs. Dynamically Typed:\n",
    "\n",
    "Static Typed: Types are set at compile time and can't change. Example: C.\n",
    "\n",
    "Dynamically Typed: Types are determined at runtime and can change. Example: Python.\n",
    "\n",
    "\n",
    "Programming Paradigms:\n",
    "\n",
    "Procedural Programming (POP): Focuses on procedures or functions. Example: C.\n",
    "Object-Oriented Programming (OOP): Focuses on objects and classes. Example: Java."
   ]
  },
  {
   "cell_type": "markdown",
   "id": "83c27bd6",
   "metadata": {},
   "source": [
    "# Limitations if you don't have functions:\n",
    "\n",
    "Application Takes More Memory Space:\n",
    "\n",
    "Without functions, you might end up duplicating code.\n",
    "Each repeated block of code takes up additional memory space.\n",
    "This increases the overall memory footprint of the application.\n",
    "\n",
    "\n",
    "Redundancy (Duplication/Repetition):\n",
    "\n",
    "Code redundancy occurs when the same logic is written multiple times.\n",
    "Duplication increases the chances of errors and makes code maintenance difficult.\n",
    "Without functions, redundancy is common as code segments are copied instead of being reused.\n",
    "\n",
    "\n",
    "Application Execution Will Take More Time:\n",
    "\n",
    "Executing repetitive code segments increases the time taken to run the application.\n",
    "Without functions, the same logic needs to be executed repeatedly, leading to slower performance.\n",
    "Longer execution times can impact the responsiveness of the application.\n",
    "\n",
    "\n",
    "Application Performance Will Be Reduced:\n",
    "\n",
    "Increased memory usage and longer execution times directly impact application performance.\n",
    "More memory consumption and slower execution lead to decreased overall efficiency.\n",
    "Without functions, the application may struggle to meet performance requirements.\n",
    "\n",
    "# Benefits if functions are present in the language:\n",
    "\n",
    "Optimized Memory Usage:\n",
    "\n",
    "Functions allow for modularization and code reuse.\n",
    "By defining logic once and calling it multiple times, memory usage is optimized.\n",
    "Functions reduce redundancy, leading to a smaller memory footprint.\n",
    "\n",
    "\n",
    "Elimination of Redundancy:\n",
    "\n",
    "Functions promote code reuse, reducing duplication.\n",
    "Reusable code segments are encapsulated within functions, eliminating redundancy.\n",
    "This simplifies code maintenance and reduces the chances of errors.\n",
    "\n",
    "\n",
    "Faster Application Execution:\n",
    "\n",
    "Functions enable the encapsulation of logic into reusable blocks.\n",
    "Calling functions instead of repeating code segments reduces execution time.\n",
    "Optimized execution leads to faster application performance.\n",
    "\n",
    "\n",
    "Improved Application Performance:\n",
    "\n",
    "With optimized memory usage and faster execution times, overall application performance improves.\n",
    "Functions enhance code organization and readability, leading to better maintainability and scalability.\n",
    "Improved performance enhances the user experience and ensures better responsiveness of the application."
   ]
  },
  {
   "cell_type": "markdown",
   "id": "38920fe2",
   "metadata": {},
   "source": [
    "# Function Defination\n",
    "\n",
    "A function is a reusable block of code that performs a specific task or set of tasks. Functions are a fundamental concept in programming and are used to organize code, make it more modular, and enable code reusability. \n",
    "\n",
    "A function in programming is like a recipe. It's a set of instructions that you can reuse to do a specific job. Think of it like a recipe card for making a sandwich.\n",
    "\n",
    "Recipe (Function): Imagine you have a recipe for making a sandwich. It tells you what ingredients you need and what steps to follow.\n",
    "\n",
    "Reusable: You can use the same sandwich recipe to make sandwiches whenever you want. You don't have to rewrite the recipe each time.\n",
    "\n",
    "Organized: Functions help keep your code neat and organized, just like keeping your recipes in a recipe book.\n",
    "\n",
    "Modular: You can have different recipes for different dishes (functions for different tasks) and use them together to create a complete meal (program).\n",
    "\n",
    "Code Reusability: Functions make it easy to use the same set of instructions (code) in different parts of your program, saving you time and effort."
   ]
  },
  {
   "cell_type": "code",
   "execution_count": 32,
   "id": "242ea96f",
   "metadata": {},
   "outputs": [
    {
     "data": {
      "text/plain": [
       "['ArithmeticError',\n",
       " 'AssertionError',\n",
       " 'AttributeError',\n",
       " 'BaseException',\n",
       " 'BlockingIOError',\n",
       " 'BrokenPipeError',\n",
       " 'BufferError',\n",
       " 'BytesWarning',\n",
       " 'ChildProcessError',\n",
       " 'ConnectionAbortedError',\n",
       " 'ConnectionError',\n",
       " 'ConnectionRefusedError',\n",
       " 'ConnectionResetError',\n",
       " 'DeprecationWarning',\n",
       " 'EOFError',\n",
       " 'Ellipsis',\n",
       " 'EncodingWarning',\n",
       " 'EnvironmentError',\n",
       " 'Exception',\n",
       " 'False',\n",
       " 'FileExistsError',\n",
       " 'FileNotFoundError',\n",
       " 'FloatingPointError',\n",
       " 'FutureWarning',\n",
       " 'GeneratorExit',\n",
       " 'IOError',\n",
       " 'ImportError',\n",
       " 'ImportWarning',\n",
       " 'IndentationError',\n",
       " 'IndexError',\n",
       " 'InterruptedError',\n",
       " 'IsADirectoryError',\n",
       " 'KeyError',\n",
       " 'KeyboardInterrupt',\n",
       " 'LookupError',\n",
       " 'MemoryError',\n",
       " 'ModuleNotFoundError',\n",
       " 'NameError',\n",
       " 'None',\n",
       " 'NotADirectoryError',\n",
       " 'NotImplemented',\n",
       " 'NotImplementedError',\n",
       " 'OSError',\n",
       " 'OverflowError',\n",
       " 'PendingDeprecationWarning',\n",
       " 'PermissionError',\n",
       " 'ProcessLookupError',\n",
       " 'RecursionError',\n",
       " 'ReferenceError',\n",
       " 'ResourceWarning',\n",
       " 'RuntimeError',\n",
       " 'RuntimeWarning',\n",
       " 'StopAsyncIteration',\n",
       " 'StopIteration',\n",
       " 'SyntaxError',\n",
       " 'SyntaxWarning',\n",
       " 'SystemError',\n",
       " 'SystemExit',\n",
       " 'TabError',\n",
       " 'TimeoutError',\n",
       " 'True',\n",
       " 'TypeError',\n",
       " 'UnboundLocalError',\n",
       " 'UnicodeDecodeError',\n",
       " 'UnicodeEncodeError',\n",
       " 'UnicodeError',\n",
       " 'UnicodeTranslateError',\n",
       " 'UnicodeWarning',\n",
       " 'UserWarning',\n",
       " 'ValueError',\n",
       " 'Warning',\n",
       " 'WindowsError',\n",
       " 'ZeroDivisionError',\n",
       " '__IPYTHON__',\n",
       " '__build_class__',\n",
       " '__debug__',\n",
       " '__doc__',\n",
       " '__import__',\n",
       " '__loader__',\n",
       " '__name__',\n",
       " '__package__',\n",
       " '__spec__',\n",
       " 'abs',\n",
       " 'aiter',\n",
       " 'all',\n",
       " 'anext',\n",
       " 'any',\n",
       " 'ascii',\n",
       " 'bin',\n",
       " 'bool',\n",
       " 'breakpoint',\n",
       " 'bytearray',\n",
       " 'bytes',\n",
       " 'callable',\n",
       " 'chr',\n",
       " 'classmethod',\n",
       " 'compile',\n",
       " 'complex',\n",
       " 'copyright',\n",
       " 'credits',\n",
       " 'delattr',\n",
       " 'dict',\n",
       " 'dir',\n",
       " 'display',\n",
       " 'divmod',\n",
       " 'enumerate',\n",
       " 'eval',\n",
       " 'exec',\n",
       " 'execfile',\n",
       " 'filter',\n",
       " 'float',\n",
       " 'format',\n",
       " 'frozenset',\n",
       " 'get_ipython',\n",
       " 'getattr',\n",
       " 'globals',\n",
       " 'hasattr',\n",
       " 'hash',\n",
       " 'help',\n",
       " 'hex',\n",
       " 'id',\n",
       " 'input',\n",
       " 'int',\n",
       " 'isinstance',\n",
       " 'issubclass',\n",
       " 'iter',\n",
       " 'len',\n",
       " 'license',\n",
       " 'list',\n",
       " 'locals',\n",
       " 'map',\n",
       " 'max',\n",
       " 'memoryview',\n",
       " 'min',\n",
       " 'next',\n",
       " 'object',\n",
       " 'oct',\n",
       " 'open',\n",
       " 'ord',\n",
       " 'pow',\n",
       " 'print',\n",
       " 'property',\n",
       " 'range',\n",
       " 'repr',\n",
       " 'reversed',\n",
       " 'round',\n",
       " 'runfile',\n",
       " 'set',\n",
       " 'setattr',\n",
       " 'slice',\n",
       " 'sorted',\n",
       " 'staticmethod',\n",
       " 'str',\n",
       " 'sum',\n",
       " 'super',\n",
       " 'tuple',\n",
       " 'type',\n",
       " 'vars',\n",
       " 'zip']"
      ]
     },
     "execution_count": 32,
     "metadata": {},
     "output_type": "execute_result"
    }
   ],
   "source": [
    "dir(__builtin__)"
   ]
  },
  {
   "cell_type": "markdown",
   "id": "39a8a05c",
   "metadata": {},
   "source": [
    "# Some built-in functions in Python"
   ]
  },
  {
   "cell_type": "code",
   "execution_count": 33,
   "id": "a0f23850",
   "metadata": {},
   "outputs": [
    {
     "name": "stdout",
     "output_type": "stream",
     "text": [
      "Hello, world!\n"
     ]
    }
   ],
   "source": [
    "print(\"Hello, world!\")\n"
   ]
  },
  {
   "cell_type": "code",
   "execution_count": 38,
   "id": "c2a24ba4",
   "metadata": {},
   "outputs": [
    {
     "name": "stdout",
     "output_type": "stream",
     "text": [
      "5\n"
     ]
    }
   ],
   "source": [
    "print(len([1, 2, 3, 4, 5]))  # Output: 5"
   ]
  },
  {
   "cell_type": "code",
   "execution_count": 39,
   "id": "2a97ef1e",
   "metadata": {},
   "outputs": [
    {
     "name": "stdout",
     "output_type": "stream",
     "text": [
      "Enter your name: AKash\n",
      "Hello, AKash\n"
     ]
    }
   ],
   "source": [
    "name = input(\"Enter your name: \")\n",
    "print(\"Hello,\", name)\n"
   ]
  },
  {
   "cell_type": "code",
   "execution_count": 40,
   "id": "7d701068",
   "metadata": {},
   "outputs": [
    {
     "name": "stdout",
     "output_type": "stream",
     "text": [
      "Number: 123\n"
     ]
    }
   ],
   "source": [
    "num_str = \"123\"\n",
    "num = int(num_str)\n",
    "print(\"Number:\", num)  # Output: 123\n"
   ]
  },
  {
   "cell_type": "code",
   "execution_count": 41,
   "id": "16a8d25e",
   "metadata": {},
   "outputs": [
    {
     "name": "stdout",
     "output_type": "stream",
     "text": [
      "Maximum: 10\n",
      "Minimum: 2\n",
      "Sum: 28\n"
     ]
    }
   ],
   "source": [
    "numbers = [5, 8, 2, 10, 3]\n",
    "print(\"Maximum:\", max(numbers))  # Output: 10\n",
    "print(\"Minimum:\", min(numbers))  # Output: 2\n",
    "print(\"Sum:\", sum(numbers))  # Output: 28\n"
   ]
  },
  {
   "cell_type": "code",
   "execution_count": 42,
   "id": "5b962cb9",
   "metadata": {},
   "outputs": [
    {
     "name": "stdout",
     "output_type": "stream",
     "text": [
      "Absolute value: 10\n"
     ]
    }
   ],
   "source": [
    "num = -10\n",
    "print(\"Absolute value:\", abs(num))  # Output: 10\n"
   ]
  },
  {
   "cell_type": "code",
   "execution_count": 43,
   "id": "c7429195",
   "metadata": {},
   "outputs": [
    {
     "name": "stdout",
     "output_type": "stream",
     "text": [
      "[(1, 6), (23, 3), (4, 6), (6, 3), (7, 6), (8, 36), (54, 3)]\n"
     ]
    }
   ],
   "source": [
    "# Define two lists\n",
    "a = [1, 23, 4, 6, 7, 8, 54]\n",
    "b = [6, 3, 6, 3, 6, 36, 3, 6, 4]\n",
    "\n",
    "# Use the zip function to pair elements from both lists\n",
    "# zip function creates tuples by pairing corresponding elements from each list\n",
    "# If one list has more elements than the other, excess elements are ignored\n",
    "value = list(zip(a, b))\n",
    "\n",
    "# Print the resulting list of tuples\n",
    "print(value)\n"
   ]
  },
  {
   "cell_type": "code",
   "execution_count": 44,
   "id": "d710412f",
   "metadata": {},
   "outputs": [
    {
     "name": "stdout",
     "output_type": "stream",
     "text": [
      "0 2\n",
      "1 3\n",
      "2 5\n",
      "3 6\n",
      "4 7\n",
      "5 8\n",
      "6 9\n"
     ]
    }
   ],
   "source": [
    "# Define a list\n",
    "a = [2, 3, 5, 6, 7, 8, 9]\n",
    "\n",
    "# Use the enumerate function to iterate over the list and get index-value pairs\n",
    "# The enumerate function returns tuples containing both the index and the value of each element\n",
    "for index, value in enumerate(a):\n",
    "    # Print each index-value pair\n",
    "    print(index, value)\n"
   ]
  },
  {
   "cell_type": "code",
   "execution_count": 45,
   "id": "daf046f4",
   "metadata": {},
   "outputs": [
    {
     "name": "stdout",
     "output_type": "stream",
     "text": [
      "Square root of 36: 6.0\n"
     ]
    }
   ],
   "source": [
    "# Import the math module\n",
    "import math\n",
    "\n",
    "# Use the sqrt function from the math module to calculate the square root of 36\n",
    "result = math.sqrt(36)\n",
    "\n",
    "# Print the result\n",
    "print(\"Square root of 36:\", result)\n"
   ]
  },
  {
   "cell_type": "code",
   "execution_count": 46,
   "id": "50e67529",
   "metadata": {},
   "outputs": [
    {
     "name": "stdout",
     "output_type": "stream",
     "text": [
      "Quotient and remainder of 5 divided by 2: 2 1\n",
      "2 raised to the power of 3: 8\n"
     ]
    }
   ],
   "source": [
    "# Use the divmod function to get both the quotient and remainder of 5 divided by 2\n",
    "# divmod function returns a tuple containing the quotient and remainder\n",
    "quotient, remainder = divmod(5, 2)\n",
    "\n",
    "# Print the result\n",
    "print(\"Quotient and remainder of 5 divided by 2:\", quotient, remainder)\n",
    "\n",
    "# Use the pow function to calculate 2 raised to the power of 3\n",
    "result = pow(2, 3)\n",
    "\n",
    "# Print the result\n",
    "print(\"2 raised to the power of 3:\", result)\n"
   ]
  },
  {
   "cell_type": "code",
   "execution_count": 48,
   "id": "31a64664",
   "metadata": {},
   "outputs": [
    {
     "name": "stdout",
     "output_type": "stream",
     "text": [
      "Rounded number: 342444.245\n"
     ]
    }
   ],
   "source": [
    "# Given number\n",
    "a = 342444.245433454\n",
    "\n",
    "# Round the number to 3 decimal places using the round() function\n",
    "rounded_a = round(a, 3)\n",
    "\n",
    "# Print the rounded number\n",
    "print(\"Rounded number:\", rounded_a)\n"
   ]
  },
  {
   "cell_type": "code",
   "execution_count": null,
   "id": "8b13da93",
   "metadata": {},
   "outputs": [],
   "source": []
  },
  {
   "cell_type": "code",
   "execution_count": 49,
   "id": "76c0cb9a",
   "metadata": {},
   "outputs": [
    {
     "data": {
      "text/plain": [
       "5"
      ]
     },
     "execution_count": 49,
     "metadata": {},
     "output_type": "execute_result"
    }
   ],
   "source": [
    "def add(x,y):\n",
    "    c=x+y\n",
    "    return c\n",
    "\n",
    "\n",
    "add(2,3)"
   ]
  },
  {
   "cell_type": "markdown",
   "id": "cfce0832",
   "metadata": {},
   "source": [
    "Start with \"def\" to tell Python you're making a function.\n",
    "\n",
    "Pick a name for your function and put it after \"def.\" This name is like a special word you'll use later to run your function.\n",
    "\n",
    "Use parentheses () to hold any information your function needs to do its job. In this case, the function needs a \"name\" to say hello to.\n",
    "\n",
    "End the line with a colon \":\" to show that what's coming next is the actual work your function will do.\n",
    "\n",
    "All the instructions or code for your function go below it and are slightly indented. These are the things your function will do when you use it."
   ]
  },
  {
   "cell_type": "code",
   "execution_count": 50,
   "id": "5ebc2d97",
   "metadata": {},
   "outputs": [
    {
     "name": "stdout",
     "output_type": "stream",
     "text": [
      "Rounded number: 342444.245\n"
     ]
    }
   ],
   "source": [
    "def round_number(number, decimal_places):\n",
    "    rounded_number = round(number, decimal_places)\n",
    "    return rounded_number\n",
    "\n",
    "# Given number and decimal places\n",
    "a = 342444.245433454\n",
    "decimal_places = 3\n",
    "\n",
    "# Call the function to round the number to the specified decimal places\n",
    "rounded_a = round_number(a, decimal_places)\n",
    "\n",
    "# Print the rounded number\n",
    "print(\"Rounded number:\", rounded_a)\n"
   ]
  },
  {
   "cell_type": "code",
   "execution_count": 51,
   "id": "d5443c7f",
   "metadata": {},
   "outputs": [
    {
     "name": "stdout",
     "output_type": "stream",
     "text": [
      "Sum of numbers: 15\n"
     ]
    }
   ],
   "source": [
    "def sum_num(x):\n",
    "    result = 0\n",
    "    for i in x:\n",
    "        result += i\n",
    "    return result\n",
    "\n",
    "# Example usage\n",
    "numbers = [1, 2, 3, 4, 5]\n",
    "total_sum = sum_num(numbers)\n",
    "print(\"Sum of numbers:\", total_sum)"
   ]
  },
  {
   "cell_type": "code",
   "execution_count": 47,
   "id": "abd71b02",
   "metadata": {},
   "outputs": [
    {
     "name": "stdout",
     "output_type": "stream",
     "text": [
      "Final amount after discount for Burger : 469\n"
     ]
    }
   ],
   "source": [
    "def apply_discount(item, amount, off, code):\n",
    "    total_amount = amount\n",
    "    \n",
    "    # Check if the discount code is valid\n",
    "    if code == \"FLATOFF\":\n",
    "        # Apply the discount\n",
    "        total_amount -= off\n",
    "    else:\n",
    "        print(\"Invalid discount code!\")\n",
    "\n",
    "    return total_amount\n",
    "\n",
    "# Given values\n",
    "item = \"Burger\"\n",
    "amount = 569\n",
    "off = 100\n",
    "code = \"FLATOFF\"\n",
    "\n",
    "# Call the function to apply discount\n",
    "final_amount = apply_discount(item, amount, off, code)\n",
    "\n",
    "# Print the final amount after discount\n",
    "print(\"Final amount after discount for\", item, \":\", final_amount)\n"
   ]
  },
  {
   "cell_type": "code",
   "execution_count": 52,
   "id": "2c31627e",
   "metadata": {},
   "outputs": [
    {
     "name": "stdout",
     "output_type": "stream",
     "text": [
      "Absolute value of -76 is: 76\n"
     ]
    }
   ],
   "source": [
    "def absolute(x):\n",
    "    # Check if the number is negative\n",
    "    if x < 0:\n",
    "        # Return the negation of the negative number to get its absolute value\n",
    "        return -x\n",
    "    else:\n",
    "        # Return the number itself if it's positive or zero\n",
    "        return x\n",
    "\n",
    "# Example usage\n",
    "num = -76\n",
    "abs_value = absolute(num)\n",
    "print(\"Absolute value of\", num, \"is:\", abs_value)\n"
   ]
  },
  {
   "cell_type": "code",
   "execution_count": 53,
   "id": "2a8bed4a",
   "metadata": {},
   "outputs": [
    {
     "name": "stdout",
     "output_type": "stream",
     "text": [
      "Quotient and remainder of 10 divided by 3 : (3, 1)\n"
     ]
    }
   ],
   "source": [
    "def my_divmod(dividend, divisor):\n",
    "    quotient = dividend // divisor\n",
    "    remainder = dividend % divisor\n",
    "    return quotient, remainder\n",
    "\n",
    "# Example usage\n",
    "dividend = 10\n",
    "divisor = 3\n",
    "result = my_divmod(dividend, divisor)\n",
    "print(\"Quotient and remainder of\", dividend, \"divided by\", divisor, \":\", result)"
   ]
  },
  {
   "cell_type": "code",
   "execution_count": 60,
   "id": "575b90cc",
   "metadata": {},
   "outputs": [
    {
     "name": "stdout",
     "output_type": "stream",
     "text": [
      "Square root of 36 is approximately: 6.0\n"
     ]
    }
   ],
   "source": [
    "def my_sqrt(number, precision=0.0001):\n",
    "    # Check if the number is negative\n",
    "    if number < 0:\n",
    "        print(\"Warning: Square root is undefined for negative numbers\")\n",
    "        return None\n",
    "    \n",
    "    # Handle special case of 0\n",
    "    if number == 0:\n",
    "        return 0\n",
    "    \n",
    "    x = number / 2\n",
    "    while True:\n",
    "        sqrt = (x + number / x) / 2\n",
    "        if abs(x - sqrt) < precision:\n",
    "            return sqrt\n",
    "        x = sqrt\n",
    "\n",
    "# Example usage\n",
    "number = 36\n",
    "result = my_sqrt(number)\n",
    "if result is not None:\n",
    "    print(\"Square root of\", number, \"is approximately:\", result)\n"
   ]
  },
  {
   "cell_type": "code",
   "execution_count": 63,
   "id": "f55d2b9a",
   "metadata": {},
   "outputs": [
    {
     "name": "stdout",
     "output_type": "stream",
     "text": [
      "Hello James, how are you doing?\n"
     ]
    }
   ],
   "source": [
    "def greet(name):\n",
    "    # Print a greeting message with the person's name\n",
    "    print(f\"Hello {name}, how are you doing?\")\n",
    "\n",
    "\n",
    "# Call the function to greet a person\n",
    "greet(\"James\")\n"
   ]
  },
  {
   "cell_type": "code",
   "execution_count": 64,
   "id": "35c829ee",
   "metadata": {},
   "outputs": [
    {
     "name": "stdout",
     "output_type": "stream",
     "text": [
      "Area of the rectangle: 15\n"
     ]
    }
   ],
   "source": [
    "def calculate_area(length, width):\n",
    "    area = length * width\n",
    "    return area\n",
    "\n",
    "# Input: Function call with parameters\n",
    "length = 5\n",
    "width = 3\n",
    "# Process: Function body calculates the area\n",
    "area_result = calculate_area(length, width)\n",
    "# Output: Result of the function call\n",
    "print(\"Area of the rectangle:\", area_result)\n"
   ]
  },
  {
   "cell_type": "code",
   "execution_count": 76,
   "id": "b0f49ec9",
   "metadata": {},
   "outputs": [
    {
     "name": "stdout",
     "output_type": "stream",
     "text": [
      "Average of the numbers: 12.88888888888889\n"
     ]
    }
   ],
   "source": [
    "def avg(numbers):\n",
    "    # Calculate the sum of the numbers\n",
    "    total = sum(numbers)\n",
    "    \n",
    "    # Calculate the average\n",
    "    average = total / len(numbers)\n",
    "    \n",
    "    return average\n",
    "\n",
    "# Example usage\n",
    "num_list = [1, 3, 6, 8, 43, 7, 3, 7, 38]\n",
    "result = avg(num_list)\n",
    "print(\"Average of the numbers:\", result)\n"
   ]
  },
  {
   "cell_type": "markdown",
   "id": "92e76258",
   "metadata": {},
   "source": [
    "Function:- Takes Input\n",
    "\n",
    "Function Perform process/Operations\n",
    "\n",
    "Function gives output/result\n"
   ]
  },
  {
   "cell_type": "markdown",
   "id": "5042a7f3",
   "metadata": {},
   "source": [
    "Approach 1\n",
    "\n",
    "INPUT - > Function call\n",
    "\n",
    "Process -> Function Body\n",
    "\n",
    "Output - > Function call\n"
   ]
  },
  {
   "cell_type": "code",
   "execution_count": 65,
   "id": "5830bd82",
   "metadata": {},
   "outputs": [
    {
     "name": "stdout",
     "output_type": "stream",
     "text": [
      "6\n"
     ]
    }
   ],
   "source": [
    "\n",
    "def mul(x,y):\n",
    "    c=x*y # Function Body\n",
    "    return c \n",
    "\n",
    "\n",
    "c=mul(2,3) # Function Call\n",
    "print(c)\n"
   ]
  },
  {
   "cell_type": "markdown",
   "id": "c4aef19b",
   "metadata": {},
   "source": [
    "Approach 2\n",
    "\n",
    "INPUT - > Function Body\n",
    "\n",
    "Process -> Function Body\n",
    "\n",
    "Output - > Function Body"
   ]
  },
  {
   "cell_type": "code",
   "execution_count": 69,
   "id": "4069ff67",
   "metadata": {},
   "outputs": [],
   "source": [
    "def minus():\n",
    "    x=int(input(\"Enter the number1:- \")) # Function Body\n",
    "    y=int(input(\"Enter the number2:- \"))\n",
    "    z=x-y # Function Body\n",
    "    print(\"Minus of two numbers is \",z) # Function Body"
   ]
  },
  {
   "cell_type": "code",
   "execution_count": 70,
   "id": "6d993c00",
   "metadata": {
    "scrolled": true
   },
   "outputs": [
    {
     "name": "stdout",
     "output_type": "stream",
     "text": [
      "Enter the number1:- 10\n",
      "Enter the number2:- 5\n",
      "Minus of two numbers is  5\n",
      "None\n"
     ]
    }
   ],
   "source": [
    "result=minus()\n",
    "print(result)"
   ]
  },
  {
   "cell_type": "markdown",
   "id": "181345f5",
   "metadata": {},
   "source": [
    "Approach 3\n",
    "\n",
    "INPUT - > Function Call\n",
    "\n",
    "Process -> Function Body\n",
    "\n",
    "Output - > Function Body"
   ]
  },
  {
   "cell_type": "code",
   "execution_count": 72,
   "id": "35779e2c",
   "metadata": {},
   "outputs": [
    {
     "name": "stdout",
     "output_type": "stream",
     "text": [
      "20\n",
      "None\n"
     ]
    }
   ],
   "source": [
    "def mul(x,y):\n",
    "    c=x*y # Function Body\n",
    "    print(c) \n",
    "\n",
    "result=mul(4,5)\n",
    "print(result)"
   ]
  },
  {
   "cell_type": "markdown",
   "id": "39861316",
   "metadata": {},
   "source": [
    "Approach 4\n",
    "\n",
    "INPUT - > Function Body\n",
    "\n",
    "Process -> Function Body\n",
    "\n",
    "Output - > Function Call"
   ]
  },
  {
   "cell_type": "code",
   "execution_count": 74,
   "id": "96466bfc",
   "metadata": {},
   "outputs": [],
   "source": [
    "def minus():\n",
    "    x=int(input(\"Enter the number1:- \")) # Function Body\n",
    "    y=int(input(\"Enter the number2:- \"))\n",
    "    z=x-y # Function Body\n",
    "    return z"
   ]
  },
  {
   "cell_type": "code",
   "execution_count": 75,
   "id": "477577f5",
   "metadata": {
    "scrolled": true
   },
   "outputs": [
    {
     "name": "stdout",
     "output_type": "stream",
     "text": [
      "Enter the number1:- 20\n",
      "Enter the number2:- 5\n",
      "15\n"
     ]
    }
   ],
   "source": [
    "result=minus()\n",
    "print(result)"
   ]
  },
  {
   "cell_type": "code",
   "execution_count": null,
   "id": "14798b5d",
   "metadata": {},
   "outputs": [],
   "source": []
  }
 ],
 "metadata": {
  "kernelspec": {
   "display_name": "Python 3 (ipykernel)",
   "language": "python",
   "name": "python3"
  },
  "language_info": {
   "codemirror_mode": {
    "name": "ipython",
    "version": 3
   },
   "file_extension": ".py",
   "mimetype": "text/x-python",
   "name": "python",
   "nbconvert_exporter": "python",
   "pygments_lexer": "ipython3",
   "version": "3.10.9"
  }
 },
 "nbformat": 4,
 "nbformat_minor": 5
}

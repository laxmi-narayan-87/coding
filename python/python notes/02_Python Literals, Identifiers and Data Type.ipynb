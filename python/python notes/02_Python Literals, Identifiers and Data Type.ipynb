{
 "cells": [
  {
   "cell_type": "markdown",
   "id": "fb8abda8",
   "metadata": {},
   "source": [
    "# Fundamental Data Type"
   ]
  },
  {
   "cell_type": "markdown",
   "id": "16b2fa6e",
   "metadata": {},
   "source": [
    "Fundamental data types refer to basic building blocks for storing and manipulating data within a program. These data types are considered fundamental because they represent the most basic forms of data that Python can work with. Each fundamental data type can store only one value at a time.\n",
    "\n",
    "<b>Integer (int):</b>\n",
    "Represents whole numbers, both positive and negative, without any decimal point.\n",
    "Example: x = 10\n",
    "\n",
    "<b>Float (float):</b>\n",
    "Represents floating-point numbers, which include decimal points or scientific notation.\n",
    "Example: y = 3.14\n",
    "\n",
    "<b>Boolean (bool):</b>\n",
    "Represents logical values, either True or False.\n",
    "Example: is_valid = True\n",
    "\n",
    "<b>Complex (complex):</b>\n",
    "Represents complex numbers, consisting of a real part and an imaginary part.\n",
    "Example: z = 3 + 2j\n",
    "\n",
    "<b>String (str):</b>\n",
    "Represents sequences of characters, enclosed within single ('') or double (\"\") quotes.\n",
    "Example: name = 'John'\n",
    "\n",
    "<b>NoneType (None):</b>\n",
    "Represents the absence of a value or undefined state.\n",
    "Example: result = None"
   ]
  },
  {
   "cell_type": "code",
   "execution_count": null,
   "id": "3e667d82",
   "metadata": {},
   "outputs": [],
   "source": []
  },
  {
   "cell_type": "markdown",
   "id": "e8e75730",
   "metadata": {},
   "source": [
    "# Integer Data Type:"
   ]
  },
  {
   "cell_type": "markdown",
   "id": "700c8181",
   "metadata": {},
   "source": [
    "An integer is a fundamental data type in Python used to represent whole numbers. These numbers are used for counting and do not have any decimal or fractional parts. Integers can be positive, negative, or zero itself."
   ]
  },
  {
   "cell_type": "code",
   "execution_count": 62,
   "id": "237779aa",
   "metadata": {},
   "outputs": [
    {
     "name": "stdout",
     "output_type": "stream",
     "text": [
      "5\n",
      "300\n",
      "25\n"
     ]
    }
   ],
   "source": [
    "# Positive Integers: Numbers greater than zero, used for counting or representing quantities.\n",
    "\n",
    "apples = 5\n",
    "pages_in_book = 300\n",
    "age = 25\n",
    "\n",
    "print(apples)\n",
    "print(pages_in_book)\n",
    "print(age)"
   ]
  },
  {
   "cell_type": "code",
   "execution_count": 63,
   "id": "4fe2f801",
   "metadata": {},
   "outputs": [
    {
     "name": "stdout",
     "output_type": "stream",
     "text": [
      "-10\n",
      "-500\n",
      "-1000\n"
     ]
    }
   ],
   "source": [
    "# Negative Integers: Numbers less than zero, representing debts, losses, or negative quantities.\n",
    "\n",
    "\n",
    "temperature = -10\n",
    "debt = -500\n",
    "loss = -1000\n",
    "\n",
    "print(temperature)\n",
    "print(debt)\n",
    "print(loss)"
   ]
  },
  {
   "cell_type": "code",
   "execution_count": 64,
   "id": "6f7e1174",
   "metadata": {},
   "outputs": [
    {
     "name": "stdout",
     "output_type": "stream",
     "text": [
      "0\n"
     ]
    }
   ],
   "source": [
    "# Zero: Represents the absence of quantity or value.\n",
    "\n",
    "zero = 0\n",
    "\n",
    "print(zero)"
   ]
  },
  {
   "cell_type": "markdown",
   "id": "f77bd300",
   "metadata": {},
   "source": [
    "<b>Usage:</b>\n",
    "   \n",
    "In Python, integers can be used to perform various mathematical operations such as addition, subtraction, multiplication, and division.\n",
    "They are commonly used to represent ages, counts, quantities, temperatures, and many other types of numerical data.a"
   ]
  },
  {
   "cell_type": "markdown",
   "id": "93f4fa27",
   "metadata": {},
   "source": [
    "# Number Systems Data:"
   ]
  },
  {
   "cell_type": "markdown",
   "id": "81bf8373",
   "metadata": {},
   "source": [
    "\n",
    "\"Number systems data\" refers to different ways of representing and working with numerical values. It involves various number systems, each with its own rules for expressing numbers and performing arithmetic operations.\n",
    "\n",
    "<b><h3>Common Number Systems:\n",
    "    Decimal Number System (Base 10):</h3></b>\n",
    "\n",
    "The system used in everyday life, consisting of digits 0 through 9.\n",
    "Examples: 1, 5, 10.\n",
    "\n",
    "\n",
    "<b><h3>Binary Number System (Base 2):</h3></b>\n",
    "\n",
    "Uses only two digits, 0 and 1, representing powers of 2.\n",
    "Fundamental in computer systems for digital representation and processing.\n",
    "Examples: 0b1010 (Equivalent to decimal 10), 0b1101 (Equivalent to decimal 13).\n",
    "\n",
    "\n",
    "<b><h3>Hexadecimal Number System (Base 16):</h3></b>\n",
    "\n",
    "Uses digits 0-9 and letters A-F to represent values, where A-F represent decimal values 10-15.\n",
    "Commonly used in computing for memory addresses, binary data representation, and color codes.\n",
    "Examples: 0x1A (Equivalent to decimal 26), 0xFF (Equivalent to decimal 255).\n",
    "\n",
    "<b><h3>Octal Number System (Base 8):</h3></b>\n",
    "\n",
    "Uses digits 0-7 to represent values, where each digit represents powers of 8.\n",
    "Has applications in various computing contexts, including UNIX file permissions.\n",
    "Examples: 075 (Equivalent to decimal 61), 010 (Equivalent to decimal 8).\n"
   ]
  },
  {
   "cell_type": "markdown",
   "id": "93b1e62d",
   "metadata": {},
   "source": [
    "<b><h3>Usage:</h3></b>\n",
    "\n",
    "Each number system has its own set of rules for representing numbers and performing arithmetic operations.\n",
    "\n",
    "Binary is essential in computer science for digital data representation and manipulation.\n",
    "Hexadecimal is commonly used in computing for its concise representation of binary data and memory addresses.\n",
    "\n",
    "Octal has historical significance and is still used in certain computing contexts, although less common compared to binary and hexadecimal.\n",
    "Examples:\n",
    "Examples of numbers represented in different number systems:\n",
    "\n",
    "Decimal: 10 (Base 10)\n",
    "\n",
    "Binary: 0b1010 (Base 2)\n",
    "\n",
    "Hexadecimal: 0x1A (Base 16)\n",
    "\n",
    "Octal: 075 (Base 8)"
   ]
  },
  {
   "cell_type": "markdown",
   "id": "35494397",
   "metadata": {},
   "source": [
    "# Decimal, Binary, Octal, and Hexadecimal Number Systems"
   ]
  },
  {
   "cell_type": "code",
   "execution_count": null,
   "id": "3c9a146c",
   "metadata": {},
   "outputs": [],
   "source": [
    "0000\n",
    "0001\n",
    "0010\n",
    "0011\n",
    " 111\n",
    "0100   "
   ]
  },
  {
   "cell_type": "raw",
   "id": "e5c46260",
   "metadata": {},
   "source": [
    "Decimal  Binary      Octal         HexaDecimal\n",
    "\n",
    "  0      0000        0000              0000  \n",
    "  1      0001        0001              0001\n",
    "  2      0010        0010              0010\n",
    "  3      0011        0011              0011\n",
    "  4      0100        0100              0100\n",
    "  5      0101        0101              0101\n",
    "  6      0110        0110              0110\n",
    "  7      0111        0111              0111\n",
    "  8      1000                          1000    \n",
    "  9      1001                          1001\n",
    " 10      1010                            A\n",
    " 11      1011                            B\n",
    " 12      1100                            C\n",
    " 13      1101                            D\n",
    " 14      1110                            E\n",
    " 15      1111                            F\n",
    " \n",
    " \n",
    " \n",
    " \n",
    " Decimal: Base-10, 0-9, Powers of 10, \n",
    " Example: 123 = \\(1 \\times 10^2 + 2 \\times 10^1 + 3 \\times 10^0\\)\n",
    "\n",
    "Binary: Base-2, 0-1, Powers of 2, \n",
    "Example: 101 = \\(1 \\times 2^2 + 0 \\times 2^1 + 1 \\times 2^0\\)\n",
    "\n",
    "Octal: Base-8, 0-7, Powers of 8, \n",
    "Example: 56 = \\(5 \\times 8^1 + 6 \\times 8^0\\)\n",
    "\n",
    "Hexadecimal: Base-16, 0-9 and A-F, \n",
    "Powers of 16, Example: A3 = \\(10 \\times 16^1 + 3 \\times 16^0\\)"
   ]
  },
  {
   "cell_type": "markdown",
   "id": "e10d28f2",
   "metadata": {},
   "source": [
    "# Decimal Number System (Base 10)"
   ]
  },
  {
   "cell_type": "markdown",
   "id": "bf26223b",
   "metadata": {},
   "source": [
    "The Decimal Number System, also known as base-10, is the system we use every day for counting and representing numbers. It's called \"decimal\" because it's based on the number 10.\n",
    "\n",
    "<b>Characteristics:</b>\n",
    "\n",
    "<b>Digits:</b> The Decimal Number System consists of ten digits: 0, 1, 2, 3, 4, 5, 6, 7, 8, and 9.\n",
    "\n",
    "<b>Place Value:</b> Each digit's position in a number determines its value, with positions increasing from right to left.\n",
    "\n",
    "<b>Representation:</b> Numbers are represented by arranging these digits in different positions.\n",
    "\n",
    "Number 356: In the Decimal Number System, 356 is represented as:\n",
    "\n",
    "3 in the hundreds place (3 x 100 = 300)\n",
    "\n",
    "5 in the tens place (5 x 10 = 50)\n",
    "\n",
    "6 in the ones place (6 x 1 = 6)\n",
    "\n",
    "So, 356 can be thought of as 300 + 50 + 6."
   ]
  },
  {
   "cell_type": "code",
   "execution_count": 68,
   "id": "4f9e9db2",
   "metadata": {},
   "outputs": [
    {
     "name": "stdout",
     "output_type": "stream",
     "text": [
      "Number in Decimal Number System: 356\n",
      "Result of arithmetic operations: 356\n"
     ]
    }
   ],
   "source": [
    "\n",
    "number = 356\n",
    "\n",
    "print(\"Number in Decimal Number System:\", number)  # Output: Number in Decimal Number System: 356\n",
    "\n",
    "\n",
    "result = 3 * 100 + 5 * 10 + 6 * 1\n",
    "\n",
    "print(\"Result of arithmetic operations:\", result)  # Output: Result of arithmetic operations: 356\n"
   ]
  },
  {
   "cell_type": "markdown",
   "id": "d96ba799",
   "metadata": {},
   "source": [
    "# Binary Number System (Base 2)"
   ]
  },
  {
   "cell_type": "markdown",
   "id": "bd64f4a0",
   "metadata": {},
   "source": [
    "The Binary Number System is a fundamental way of counting and representing numbers using only two digits: 0 and 1. It serves as the foundation for how computers work and store information.\n",
    "\n",
    "<b>Characteristics:</b>\n",
    "\n",
    "<b>Digits:</b> In the Binary System, there are only two digits: 0 and 1.\n",
    "\n",
    "<b>Positional Notation:</b> Each digit's position represents a power of 2, similar to the Decimal System where each position represents a power of 10.\n",
    "\n",
    "<b>Representation:</b> Binary numbers are composed by arranging these digits in different \n",
    "positions.\n",
    "\n",
    "Binary Number 101101: Each digit in this binary number represents a power of 2.\n",
    "\n",
    "The rightmost digit (1) represents 2^0 (2 to the power of 0), which is 1.\n",
    "\n",
    "The next digit (0) represents 2^1, which is 2.\n",
    "\n",
    "Another 1 represents 2^2, which is 4.\n",
    "\n",
    "And so on...\n",
    "\n",
    "So, the binary number 101101 is equal to 1*(2^0) + 0*(2^1) + 1*(2^2) + 1*(2^3) + 0*(2^4) + 1*(2^5), which sums up to 1 + 0 + 4 + 8 + 0 + 32, equaling 45.\n",
    "\n",
    "<b>Importance in Computing:</b>\n",
    "\n",
    "Binary is crucial in computers because computer circuits can be in two states: on (represented by 1) and off (represented by 0).\n",
    "\n",
    "This on/off capability of circuits is utilized to store and process various types of information in computers.\n",
    "\n",
    "Binary Data Representation in Python:\n",
    "\n",
    "In Python programming, binary data is represented or stored in variables preceded by 0b or 0B.\n",
    "\n",
    "Example: binary_number = 0b101101"
   ]
  },
  {
   "cell_type": "code",
   "execution_count": 37,
   "id": "744c7a56",
   "metadata": {},
   "outputs": [
    {
     "name": "stdout",
     "output_type": "stream",
     "text": [
      "10925\n"
     ]
    }
   ],
   "source": [
    "a=0B10101010101101\n",
    "\n",
    "\n",
    "print(a)"
   ]
  },
  {
   "cell_type": "code",
   "execution_count": 39,
   "id": "b09a2f44",
   "metadata": {},
   "outputs": [
    {
     "name": "stdout",
     "output_type": "stream",
     "text": [
      "10\n"
     ]
    }
   ],
   "source": [
    "a= 0b1010\n",
    "\n",
    "print(a)"
   ]
  },
  {
   "cell_type": "code",
   "execution_count": 40,
   "id": "1794f552",
   "metadata": {},
   "outputs": [
    {
     "name": "stdout",
     "output_type": "stream",
     "text": [
      "0b101110\n"
     ]
    }
   ],
   "source": [
    "b=bin(46)\n",
    "\n",
    "\n",
    "print(b)"
   ]
  },
  {
   "cell_type": "raw",
   "id": "78565584",
   "metadata": {},
   "source": [
    "Decimal To Binary \n",
    "\n",
    "2   46\n",
    "2   23    0 ^\n",
    "2   11    1 |\n",
    "2    5    1 | \n",
    "2    2    1 |\n",
    "     1 -->0 |\n",
    "    \n",
    "binary --> 101110"
   ]
  },
  {
   "cell_type": "code",
   "execution_count": null,
   "id": "89e3783f",
   "metadata": {},
   "outputs": [],
   "source": [
    "Binary To Decimal\n",
    "\n",
    "Binary --> 101110\n",
    "    \n",
    "   1               0                1                1                   1                 0\n",
    "1*(2^5)         0*(2^4)          1*(2^3)          1*(2^2)             1*(2^1)           0*(2^0)  \n",
    "  32      +        0        +       8         +      4          +         2        +       0\n",
    "\n",
    "=46"
   ]
  },
  {
   "cell_type": "code",
   "execution_count": 2,
   "id": "f6b67806",
   "metadata": {},
   "outputs": [
    {
     "name": "stdout",
     "output_type": "stream",
     "text": [
      "11\n"
     ]
    }
   ],
   "source": [
    "c=0B1011\n",
    "print(c)"
   ]
  },
  {
   "cell_type": "code",
   "execution_count": 4,
   "id": "6811a5d1",
   "metadata": {
    "scrolled": true
   },
   "outputs": [
    {
     "ename": "SyntaxError",
     "evalue": "invalid digit '2' in binary literal (3436880529.py, line 1)",
     "output_type": "error",
     "traceback": [
      "\u001b[1;36m  Cell \u001b[1;32mIn[4], line 1\u001b[1;36m\u001b[0m\n\u001b[1;33m    a=0B101010102011\u001b[0m\n\u001b[1;37m                ^\u001b[0m\n\u001b[1;31mSyntaxError\u001b[0m\u001b[1;31m:\u001b[0m invalid digit '2' in binary literal\n"
     ]
    }
   ],
   "source": [
    "a=0B101010102011\n",
    "\n",
    "print(a)"
   ]
  },
  {
   "cell_type": "markdown",
   "id": "6d557f8f",
   "metadata": {},
   "source": [
    "The error you're seeing, \"SyntaxError: invalid digit '2' in binary literal,\" occurs because the number you're trying to assign to the variable a is being interpreted as a binary number, indicated by the prefix 0B.\n",
    "\n",
    "However, in binary numbers, only the digits 0 and 1 are allowed. In your number 101010102011, the digit 2 is not a valid binary digit.\n",
    "\n",
    "To fix this error, you need to ensure that you're using only valid binary digits (0 and 1) in your binary number representation."
   ]
  },
  {
   "cell_type": "markdown",
   "id": "1edbdf58",
   "metadata": {},
   "source": [
    "# Octal Number System (Base 8)"
   ]
  },
  {
   "cell_type": "markdown",
   "id": "bfcd6f1f",
   "metadata": {},
   "source": [
    "The Octal Number System is a method of counting and representing numbers using eight digits: 0, 1, 2, 3, 4, 5, 6, and 7. While not as prevalent as the decimal or binary systems, it finds utility in certain computing contexts.\n",
    "\n",
    "<b>Characteristics:</b>\n",
    "\n",
    "<b>Digits:</b> The Octal System comprises eight digits: 0, 1, 2, 3, 4, 5, 6, and 7.\n",
    "\n",
    "<b>Positional Notation:</b> Similar to the decimal system, each position in an octal number represents a power of 8.\n",
    "\n",
    "<b>Representation:</b> Octal numbers are composed by arranging these digits in different positions.\n",
    "\n",
    "<b>Example:</b>\n",
    "\n",
    "Octal Number 53: Each digit in this octal number represents a power of 8.\n",
    "\n",
    "\n",
    "The rightmost digit (3) represents 8^0 (8 to the power of 0), which equals 1.\n",
    "\n",
    "The left digit (5) represents 8^1, which equals 8.\n",
    "\n",
    "So, the octal number 53 is equal to 5*(8^1) + 3*(8^0), resulting in 40 + 3, totaling 43 in decimal.\n",
    "\n",
    "<b>Importance in Computing:</b>\n",
    "\n",
    "While not as common as other number systems, octal still serves a purpose in certain computing scenarios.\n",
    "\n",
    "It finds application in fields where groups of three bits are handled together, such as file permissions in Unix-like operating systems.\n",
    "\n",
    "<b>Octal Data Representation in Python:</b>\n",
    "\n",
    "In Python programming, conversion of decimal numbers to octal representation can be accomplished using the built-in oct() function.\n",
    "Example:\n",
    "\n",
    "python\n",
    "Copy code\n",
    "decimal_value = 43\n",
    "octal_representation = oct(decimal_value)\n",
    "print(octal_representation)\n",
    "When executed with decimal_value set to 43, the output will be:\n",
    "\n",
    "Copy code\n",
    "0o53\n",
    "The '0o' prefix signifies that the number is in octal form."
   ]
  },
  {
   "cell_type": "code",
   "execution_count": 6,
   "id": "025e7380",
   "metadata": {},
   "outputs": [
    {
     "name": "stdout",
     "output_type": "stream",
     "text": [
      "1170\n"
     ]
    }
   ],
   "source": [
    "a= 0o2222\n",
    "\n",
    "print(a)"
   ]
  },
  {
   "cell_type": "code",
   "execution_count": 7,
   "id": "1ce05c7b",
   "metadata": {
    "scrolled": true
   },
   "outputs": [
    {
     "name": "stdout",
     "output_type": "stream",
     "text": [
      "165\n"
     ]
    }
   ],
   "source": [
    "a= 0O245\n",
    "\n",
    "print(a)"
   ]
  },
  {
   "cell_type": "code",
   "execution_count": 10,
   "id": "141d2ea5",
   "metadata": {},
   "outputs": [
    {
     "name": "stdout",
     "output_type": "stream",
     "text": [
      "0o144\n"
     ]
    }
   ],
   "source": [
    "a = oct(100)\n",
    "\n",
    "print(a)"
   ]
  },
  {
   "cell_type": "raw",
   "id": "41274add",
   "metadata": {},
   "source": [
    "# Decimal to Octal\n",
    "\n",
    "8  100          ^\n",
    "8   12       4  |\n",
    "    1   -->  4  |\n",
    "    "
   ]
  },
  {
   "cell_type": "raw",
   "id": "8c5cdee9",
   "metadata": {},
   "source": [
    "#Octal to Deciaml\n",
    "\n",
    "# Octal -> 0o144\n",
    "\n",
    "   1               4                4\n",
    "1*(8^2)         4*(8^1)          4*(8^0)\n",
    "  64        +     32       +        4\n",
    "=100"
   ]
  },
  {
   "cell_type": "code",
   "execution_count": 11,
   "id": "b9e0ca75",
   "metadata": {},
   "outputs": [
    {
     "name": "stdout",
     "output_type": "stream",
     "text": [
      "12194\n"
     ]
    }
   ],
   "source": [
    "c= 0O27642\n",
    "\n",
    "print(c)"
   ]
  },
  {
   "cell_type": "code",
   "execution_count": 12,
   "id": "dc275142",
   "metadata": {},
   "outputs": [
    {
     "ename": "SyntaxError",
     "evalue": "invalid digit '8' in octal literal (1298280997.py, line 1)",
     "output_type": "error",
     "traceback": [
      "\u001b[1;36m  Cell \u001b[1;32mIn[12], line 1\u001b[1;36m\u001b[0m\n\u001b[1;33m    d = 0O28563\u001b[0m\n\u001b[1;37m           ^\u001b[0m\n\u001b[1;31mSyntaxError\u001b[0m\u001b[1;31m:\u001b[0m invalid digit '8' in octal literal\n"
     ]
    }
   ],
   "source": [
    "d = 0O28563\n",
    "\n",
    "print(d)"
   ]
  },
  {
   "cell_type": "markdown",
   "id": "7fce7916",
   "metadata": {},
   "source": [
    "The error you're encountering, \"SyntaxError: invalid digit '8' in octal literal,\" happens because the number you're trying to assign to the variable d is being interpreted as an octal number, indicated by the prefix 0O.\n",
    "\n",
    "In octal numbers, only digits from 0 to 7 are allowed. However, in your number 28563, the digit 8 is not a valid octal digit.\n",
    "\n",
    "To resolve this error, ensure that you're using only valid octal digits (0 to 7) in your octal number representation."
   ]
  },
  {
   "cell_type": "markdown",
   "id": "31b9e28e",
   "metadata": {},
   "source": [
    "# Hexadecimal (Hex) Number System (Base 16)"
   ]
  },
  {
   "cell_type": "markdown",
   "id": "27408aff",
   "metadata": {},
   "source": [
    "The Hexadecimal (Hex) Number System is a method of counting and representing numbers using sixteen digits: 0, 1, 2, 3, 4, 5, 6, 7, 8, 9, A, B, C, D, E, and F. It is widely utilized in computing due to its compactness and human-readable format, especially for representing binary data.\n",
    "\n",
    "<b>Characteristics:</b>\n",
    "    \n",
    "<b>Digits:</b> The Hexadecimal System consists of sixteen digits: 0, 1, 2, 3, 4, 5, 6, 7, 8, 9, A, B, C, D, E, and F.\n",
    "\n",
    "<b>Positional Notation:</b> Each position in a hexadecimal number represents a power of 16, similar to the decimal system but with sixteen possibilities per position.\n",
    "\n",
    "</b>Representation:</b> Hexadecimal numbers are formed by arranging these digits in different positions.\n",
    "\n",
    "<b>Example:</b>\n",
    "\n",
    "Hexadecimal Number 1A7: Each digit in this hexadecimal number represents a power of 16.\n",
    "    \n",
    "The rightmost digit (7) represents 16^0 (16 to the power of 0), which equals 1.\n",
    "\n",
    "The middle digit (A) represents 16^1, which equals 16.\n",
    "\n",
    "The leftmost digit (1) represents 16^2, which equals 256.\n",
    "\n",
    "So, the hexadecimal number 1A7 is equal to 1*(16^2) + 10*(16^1) + 7*(16^0), resulting in 256 + 160 + 7, totaling 423 in decimal.\n",
    "\n",
    "<b>Importance in Computing:</b>\n",
    "    \n",
    "\n",
    "Hexadecimal is commonly employed in computing due to its convenience in representing binary data in a more concise and readable format.\n",
    "\n",
    "It finds extensive use in various computing applications, including memory addresses, color codes, and data representation.\n",
    "\n",
    "<b>Hexadecimal Data Representation in Python:</b>\n",
    "\n",
    "In Python programming, conversion of decimal numbers to hexadecimal representation can be achieved using the built-in hex() function.\n"
   ]
  },
  {
   "cell_type": "code",
   "execution_count": 13,
   "id": "386cdaea",
   "metadata": {},
   "outputs": [
    {
     "name": "stdout",
     "output_type": "stream",
     "text": [
      "0x1a7\n"
     ]
    }
   ],
   "source": [
    "decimal_value = 423\n",
    "hex_representation = hex(decimal_value)\n",
    "print(hex_representation)"
   ]
  },
  {
   "cell_type": "code",
   "execution_count": 14,
   "id": "7c4b5d33",
   "metadata": {},
   "outputs": [
    {
     "name": "stdout",
     "output_type": "stream",
     "text": [
      "0xff\n"
     ]
    }
   ],
   "source": [
    "decimal_value =  255\n",
    "\n",
    "hex_representation = hex(decimal_value)\n",
    "print(hex_representation)\n"
   ]
  },
  {
   "cell_type": "code",
   "execution_count": 15,
   "id": "b899a0c1",
   "metadata": {},
   "outputs": [
    {
     "name": "stdout",
     "output_type": "stream",
     "text": [
      "0x7ff\n"
     ]
    }
   ],
   "source": [
    "decimal_value =  2047\n",
    "\n",
    "hex_representation = hex(decimal_value)\n",
    "print(hex_representation)\n"
   ]
  },
  {
   "cell_type": "code",
   "execution_count": 17,
   "id": "604cd32c",
   "metadata": {},
   "outputs": [
    {
     "name": "stdout",
     "output_type": "stream",
     "text": [
      "0xffff\n"
     ]
    }
   ],
   "source": [
    "decimal_value =  65535\n",
    "\n",
    "hex_representation = hex(decimal_value)\n",
    "print(hex_representation)\n"
   ]
  },
  {
   "cell_type": "raw",
   "id": "94f023b6",
   "metadata": {},
   "source": [
    "# Decimal To HexaDecimal\n",
    "\n",
    "16   65535   \n",
    "16    4095      F  ^\n",
    "16    255       F  |\n",
    "16    15  -->   F  |\n"
   ]
  },
  {
   "cell_type": "raw",
   "id": "8eda000f",
   "metadata": {},
   "source": [
    "# HexaDecimal to Decimal\n",
    "\n",
    "0xffff\n",
    "\n",
    "   f                  f                      f                  f\n",
    "15*(16^2)         15*(16^1)              15*(16^1)           15*(16^0)\n",
    "  61440        +     3840       +           240      +          15\n",
    "\n",
    "=65535\n"
   ]
  },
  {
   "cell_type": "code",
   "execution_count": 26,
   "id": "855e20fa",
   "metadata": {
    "scrolled": true
   },
   "outputs": [
    {
     "ename": "SyntaxError",
     "evalue": "invalid hexadecimal literal (4241091886.py, line 1)",
     "output_type": "error",
     "traceback": [
      "\u001b[1;36m  Cell \u001b[1;32mIn[26], line 1\u001b[1;36m\u001b[0m\n\u001b[1;33m    a=0x230aH24\u001b[0m\n\u001b[1;37m           ^\u001b[0m\n\u001b[1;31mSyntaxError\u001b[0m\u001b[1;31m:\u001b[0m invalid hexadecimal literal\n"
     ]
    }
   ],
   "source": [
    "a=0x230aH24\n",
    "\n",
    "print(a)"
   ]
  },
  {
   "cell_type": "markdown",
   "id": "a2bfb3b5",
   "metadata": {},
   "source": [
    "The error message you're encountering, \"SyntaxError: invalid hexadecimal literal,\" arises because the value assigned to variable a seems to be intended as a hexadecimal number due to the prefix 0x, followed by a sequence of characters 230aH24.\n",
    "\n",
    "Hexadecimal numbers should only consist of valid hexadecimal digits (0-9 and A-F or a-f). The presence of H in your expression is causing Python to interpret it as an invalid hexadecimal literal.\n",
    "\n",
    "To fix this error, ensure that the value assigned to a contains only valid hexadecimal digits after the 0x prefix."
   ]
  }
 ],
 "metadata": {
  "kernelspec": {
   "display_name": "Python 3 (ipykernel)",
   "language": "python",
   "name": "python3"
  },
  "language_info": {
   "codemirror_mode": {
    "name": "ipython",
    "version": 3
   },
   "file_extension": ".py",
   "mimetype": "text/x-python",
   "name": "python",
   "nbconvert_exporter": "python",
   "pygments_lexer": "ipython3",
   "version": "3.10.9"
  }
 },
 "nbformat": 4,
 "nbformat_minor": 5
}

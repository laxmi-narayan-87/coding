{
 "cells": [
  {
   "cell_type": "markdown",
   "id": "095fef90",
   "metadata": {},
   "source": [
    "# Types of Arguments in Python"
   ]
  },
  {
   "cell_type": "markdown",
   "id": "c69b6204",
   "metadata": {},
   "source": [
    "Function arguments can be categorized into several types based on how they are passed to the function and their behavior.\n",
    "\n",
    "\"Arguments\" typically refers to the values that are passed into a function or a method when it is called. \n",
    "\n",
    "There are different types of arguments, and they are used to provide input to a function or a program."
   ]
  },
  {
   "cell_type": "markdown",
   "id": "3f572af3",
   "metadata": {},
   "source": [
    "# Positional Argument"
   ]
  },
  {
   "cell_type": "markdown",
   "id": "2124a556",
   "metadata": {},
   "source": [
    "Positional arguments are one of the fundamental ways to pass arguments to a function. They are called \"positional\" because they are assigned to the function's parameters based on their order of appearance in the function's parameter list.\n",
    "\n",
    "Positional Arguments: These are like ingredients you give to a recipe (function) in a specific order.\n",
    "\n",
    "Most Common Type: It's the most usual way to give ingredients to a recipe.\n",
    "\n",
    "Order they are defined: Just like a recipe has steps, a function has a list of things it needs (parameters), and you give those things in the same order.\n",
    "\n",
    "For example, if a recipe (function) says it needs \"sugar\" first and then \"flour,\" you don't give it \"flour\" first and then \"sugar.\" You follow the recipe's order.\n",
    "\n",
    "In Python, when you call a function with positional arguments, you provide them in the same order as the function's list of things it needs. This helps Python understand what you mean and execute the function correctly."
   ]
  },
  {
   "cell_type": "code",
   "execution_count": null,
   "id": "89b7520b",
   "metadata": {},
   "outputs": [],
   "source": [
    "def add(x, y):\n",
    "    result = x + y\n",
    "    return result\n",
    "\n",
    "sum = add(2, 3)  # Here, 2 and 3 are positional arguments.\n",
    "print(sum)      # Output: 5"
   ]
  },
  {
   "cell_type": "code",
   "execution_count": null,
   "id": "83f6713e",
   "metadata": {},
   "outputs": [],
   "source": [
    "def format_name(first_name, last_name):\n",
    "    full_name = f\"{first_name} {last_name}\"\n",
    "    return full_name\n",
    "\n",
    "name = format_name(\"John\", \"Doe\")  # Here, \"John\" and \"Doe\" are positional arguments.\n",
    "print(name)                        # Output: \"John Doe\"\n"
   ]
  },
  {
   "cell_type": "code",
   "execution_count": null,
   "id": "9e1380bb",
   "metadata": {},
   "outputs": [],
   "source": [
    "def greet(name,dept):\n",
    "    print(f\"Hi {name}\")\n",
    "    print(f\"Are you from {dept} department\")"
   ]
  },
  {
   "cell_type": "code",
   "execution_count": null,
   "id": "81752827",
   "metadata": {},
   "outputs": [],
   "source": [
    "greet(\"Sales\",\"Abhishek\")  #arguments should be in proper order or sequence"
   ]
  },
  {
   "cell_type": "code",
   "execution_count": 6,
   "id": "9f084770",
   "metadata": {},
   "outputs": [],
   "source": [
    "import math\n",
    "\n",
    "def calculate_hypotenuse(a, b):\n",
    "    return math.sqrt(a**2 + b**2)\n",
    "\n",
    "hypotenuse = calculate_hypotenuse(3, 4)\n"
   ]
  },
  {
   "cell_type": "code",
   "execution_count": 7,
   "id": "17795369",
   "metadata": {},
   "outputs": [
    {
     "name": "stdout",
     "output_type": "stream",
     "text": [
      "5.0\n"
     ]
    }
   ],
   "source": [
    "print(hypotenuse)"
   ]
  },
  {
   "cell_type": "code",
   "execution_count": 8,
   "id": "e22b4bfb",
   "metadata": {},
   "outputs": [],
   "source": [
    "def calculate_simple_interest(principal, rate, time):\n",
    "    return (principal * rate * time) / 100\n",
    "\n",
    "interest = calculate_simple_interest(1000, 5, 2)\n"
   ]
  },
  {
   "cell_type": "code",
   "execution_count": 9,
   "id": "27284b5a",
   "metadata": {},
   "outputs": [
    {
     "name": "stdout",
     "output_type": "stream",
     "text": [
      "100.0\n"
     ]
    }
   ],
   "source": [
    "print(interest)"
   ]
  },
  {
   "cell_type": "markdown",
   "id": "16d2b26f",
   "metadata": {},
   "source": [
    "# Keyword Arguments"
   ]
  },
  {
   "cell_type": "markdown",
   "id": "4dccc01c",
   "metadata": {},
   "source": [
    "keyword arguments are a way to pass values to a function by explicitly specifying the parameter names along with their corresponding values when making a function call. This approach allows for greater clarity and flexibility when working with functions that have multiple parameters or when you want to override default parameter values."
   ]
  },
  {
   "cell_type": "code",
   "execution_count": null,
   "id": "b86fb26d",
   "metadata": {},
   "outputs": [],
   "source": [
    "def greet(name, message,age):\n",
    "    print(f\"Hello, {name}! is you age is  {age}  {message}! \")"
   ]
  },
  {
   "cell_type": "code",
   "execution_count": null,
   "id": "01831a48",
   "metadata": {},
   "outputs": [],
   "source": [
    "greet(\"Akash\",message=\"How you doing\",age=23)"
   ]
  },
  {
   "cell_type": "code",
   "execution_count": null,
   "id": "e41f954d",
   "metadata": {},
   "outputs": [],
   "source": [
    "psotion argument will always come first then you keyword argument will come"
   ]
  },
  {
   "cell_type": "code",
   "execution_count": null,
   "id": "adfc3c4a",
   "metadata": {},
   "outputs": [],
   "source": [
    "greet(\"Alice\",age=23,\"How are you?\")  #postion\n",
    "# Here's how this function call works with keyword arguments:"
   ]
  },
  {
   "cell_type": "code",
   "execution_count": null,
   "id": "e7b2860f",
   "metadata": {},
   "outputs": [],
   "source": [
    "greet(message=\"How are you?\",\"Alice\")  #postion\n",
    "# Here's how this function call works with keyword arguments:"
   ]
  },
  {
   "cell_type": "markdown",
   "id": "bc5c410f",
   "metadata": {},
   "source": [
    "\n",
    "The function greet is called.\n",
    "Instead of passing arguments in a specific order, we use keyword arguments to explicitly specify which value corresponds to which parameter. In this case, we provide values for message and name parameters.\n",
    "The value \"How are you?\" is assigned to the message parameter, and the value \"Alice\" is assigned to the name parameter.\n",
    "The function prints a greeting message using these assigned values.\n",
    "As a result, the output of this function call is:\n",
    "\n",
    "Hello, Alice! How are you?\n",
    "\n",
    "Key points to note:\n",
    "\n",
    "Keyword arguments allow you to pass arguments out of order, making the code more readable and less error-prone, especially when functions have many parameters.\n",
    "You can mix keyword arguments with positional arguments (arguments passed without specifying the parameter name) in a function call, as long as the positional arguments come before the keyword arguments.\n",
    "Keyword arguments are particularly useful when you want to make function calls more self-documenting, as the parameter names provide context for the values being passed.\n",
    "They are also handy when dealing with functions that have default parameter values, as you can override those defaults by specifying new values with keywords.\n",
    "\n",
    "\n"
   ]
  },
  {
   "cell_type": "code",
   "execution_count": 10,
   "id": "2adb93d4",
   "metadata": {},
   "outputs": [],
   "source": [
    "def find_index(value, lst, start_index=0):\n",
    "    return lst.index(value, start_index)\n",
    "\n",
    "index = find_index(value=42, lst=[10, 20, 30, 40, 50, 42, 60])\n"
   ]
  },
  {
   "cell_type": "code",
   "execution_count": 11,
   "id": "814a3824",
   "metadata": {},
   "outputs": [
    {
     "name": "stdout",
     "output_type": "stream",
     "text": [
      "5\n"
     ]
    }
   ],
   "source": [
    "print(index)"
   ]
  },
  {
   "cell_type": "markdown",
   "id": "2874e8d3",
   "metadata": {},
   "source": [
    "# Default Arguments"
   ]
  },
  {
   "cell_type": "markdown",
   "id": "0ad07278",
   "metadata": {},
   "source": [
    "Default arguments in a function are parameters that have predefined values assigned to them in the function's definition. These predefined values are used as the default values for those parameters if no value is provided when the function is called. Default arguments allow you to make some parameters optional, so callers of the function can choose whether or not to provide a value for them."
   ]
  },
  {
   "cell_type": "markdown",
   "id": "e895ed24",
   "metadata": {},
   "source": [
    "Function Definition:\n",
    "When defining a function, you can specify default values for certain parameters. For example:"
   ]
  },
  {
   "cell_type": "code",
   "execution_count": 12,
   "id": "ab935309",
   "metadata": {},
   "outputs": [],
   "source": [
    "\n",
    "def greet(name, greeting=\"Hello\"):\n",
    "    print(f\"{greeting}, {name}!\")"
   ]
  },
  {
   "cell_type": "code",
   "execution_count": 13,
   "id": "5cf8167c",
   "metadata": {},
   "outputs": [
    {
     "name": "stdout",
     "output_type": "stream",
     "text": [
      "Hello, Akash!\n"
     ]
    }
   ],
   "source": [
    "greet(name=\"Akash\")"
   ]
  },
  {
   "cell_type": "code",
   "execution_count": null,
   "id": "971c7479",
   "metadata": {},
   "outputs": [],
   "source": [
    "greet(\"Akash\")"
   ]
  },
  {
   "cell_type": "code",
   "execution_count": null,
   "id": "3ba6bbf2",
   "metadata": {},
   "outputs": [],
   "source": [
    "def greet(name,department=\"IT\",age=23): # nondefault argument default argument\n",
    "    print(f\" Hey {name} Is your age is {age} and are you working in this {department} department \")"
   ]
  },
  {
   "cell_type": "code",
   "execution_count": null,
   "id": "f582d144",
   "metadata": {},
   "outputs": [],
   "source": [
    "greet(\"Akash\",age=33,department=\"Sales\")"
   ]
  },
  {
   "cell_type": "code",
   "execution_count": null,
   "id": "4a40703d",
   "metadata": {
    "scrolled": true
   },
   "outputs": [],
   "source": [
    "greet(department=\"Sales\",name=\"Akash\",age=29)"
   ]
  },
  {
   "cell_type": "code",
   "execution_count": null,
   "id": "1dda8a49",
   "metadata": {},
   "outputs": [],
   "source": [
    "def greet(name,age,salary,department=\"IT\",job_post): # nondefault argument default argument\n",
    "    print(f\" Hey {name} Is your age is {age} and is your salary is {salary} and where are you working in this {department} department \")"
   ]
  },
  {
   "cell_type": "code",
   "execution_count": null,
   "id": "a4194d42",
   "metadata": {},
   "outputs": [],
   "source": [
    "greet(\"Akash\",23,department=\"Sales\",salary=343233)"
   ]
  },
  {
   "cell_type": "code",
   "execution_count": null,
   "id": "d314bc44",
   "metadata": {},
   "outputs": [],
   "source": [
    "argument(2,3) positional argument,keyword arguments,"
   ]
  },
  {
   "cell_type": "markdown",
   "id": "8580b41a",
   "metadata": {},
   "source": [
    "In this example, the greeting parameter has a default value of \"Hello.\" If the caller doesn't provide a value for greeting when calling the function, it will default to \"Hello.\""
   ]
  },
  {
   "cell_type": "markdown",
   "id": "c06b370a",
   "metadata": {},
   "source": [
    "Calling the Function:\n",
    "When you call the function, you can provide values for the parameters, but you don't have to provide a value for parameters with default arguments. For instance:"
   ]
  },
  {
   "cell_type": "markdown",
   "id": "9d283a31",
   "metadata": {},
   "source": [
    "In the first call, only the name argument is provided, so greeting defaults to \"Hello.\" In the second call, both name and greeting arguments are provided, so the default value is overridden."
   ]
  },
  {
   "cell_type": "markdown",
   "id": "cc654497",
   "metadata": {},
   "source": [
    "\n",
    "Mixing Default and Non-Default Arguments:\n",
    "You can mix parameters with default values and those without in a function's parameter list. However, all parameters without default values must come before parameters with default values. For example:"
   ]
  },
  {
   "cell_type": "code",
   "execution_count": null,
   "id": "c1de56b9",
   "metadata": {},
   "outputs": [],
   "source": [
    "def mix_args(a,b=45, c=20):\n",
    "    print(f\"a: {a}, b: {b}, c: {c}\")   # a:5 b:25 c:20\n",
    "# In this case, a is a required argument, while b and c have default values. You can call the function like this:"
   ]
  },
  {
   "cell_type": "code",
   "execution_count": null,
   "id": "1ce62b3b",
   "metadata": {},
   "outputs": [],
   "source": [
    "mix_args(5)           # Output: a: 5, b: 10, c: 20\n",
    "mix_args(5, 15)       # Output: a: 5, b: 15, c: 20\n",
    "mix_args(5, c=25)     # Output: a: 5, b: 10, c: 25\n",
    "\n",
    "# You can omit values for parameters with default values, provide values for some, and even specify values using parameter names (keyword arguments).\n",
    "\n",
    "# Default arguments are handy for making functions more flexible and user-friendly by allowing callers to provide only the necessary information while providing sensible defaults for the rest."
   ]
  },
  {
   "cell_type": "code",
   "execution_count": 14,
   "id": "8623b65b",
   "metadata": {},
   "outputs": [],
   "source": [
    "def power(exponent, base=2):\n",
    "    return base ** exponent\n",
    "\n",
    "result = power(3)  # Uses the default base\n"
   ]
  },
  {
   "cell_type": "code",
   "execution_count": 15,
   "id": "fc1349f4",
   "metadata": {},
   "outputs": [
    {
     "name": "stdout",
     "output_type": "stream",
     "text": [
      "8\n"
     ]
    }
   ],
   "source": [
    "print(result)"
   ]
  },
  {
   "cell_type": "code",
   "execution_count": 16,
   "id": "e3673cbc",
   "metadata": {},
   "outputs": [
    {
     "name": "stdout",
     "output_type": "stream",
     "text": [
      "*****\n",
      "*****\n",
      "*****\n",
      "####\n",
      "####\n"
     ]
    }
   ],
   "source": [
    "def draw_rectangle(width, height, fill_char=\"*\"):\n",
    "    for _ in range(height):\n",
    "        print(fill_char * width)\n",
    "\n",
    "draw_rectangle(5, 3)  # Uses default fill character '*'\n",
    "draw_rectangle(4, 2, fill_char=\"#\")  # Specifies a different fill character\n"
   ]
  },
  {
   "cell_type": "markdown",
   "id": "f6c262de",
   "metadata": {},
   "source": [
    "# Varaible-Length Position Arguments"
   ]
  },
  {
   "cell_type": "markdown",
   "id": "0fb083b7",
   "metadata": {},
   "source": [
    "Variable-Length Positional Arguments, often denoted by *args, is a special syntax in Python that allows you to pass a variable number of positional arguments to a function. When you use *args in a function definition, it collects all the extra positional arguments provided when the function is called into a tuple."
   ]
  },
  {
   "cell_type": "markdown",
   "id": "db0747c1",
   "metadata": {},
   "source": [
    " Function Definition:\n",
    "To use *args, you define a function with an argument preceded by an asterisk (*), like this:\n",
    "def my_function(*args):\n",
    "    # Function code\n",
    "\n",
    " The args variable name is a convention, but you can choose any valid variable name."
   ]
  },
  {
   "cell_type": "markdown",
   "id": "d07ad842",
   "metadata": {},
   "source": [
    "Imagine you have a magic function. This magic function can add up any number of apples you give it. But here's the catch: you don't know how many apples you want to add when you create the function.\n",
    "\n",
    "Variable-length positional arguments are like those apples. You can create a special function in Python that can accept any number of values, just like our magic function can accept any number of apples.\n",
    "\n",
    "Here's how it works:\n",
    "\n",
    "You create a function and tell Python that it can take as many values as you want by using a special symbol *. We call these values \"args\" (short for \"arguments\").\n",
    "\n",
    "When you use the function, you can give it one, two, three, or as many values as you want. Python will gather all these values into a group (like a basket of apples) and call it args. It's like you're putting all the apples into a bag.\n",
    "\n",
    "Inside the function, you can use this bag of values (the args variable) however you like. You can add them, multiply them, or do whatever you need to do."
   ]
  },
  {
   "cell_type": "code",
   "execution_count": 17,
   "id": "b836496d",
   "metadata": {},
   "outputs": [
    {
     "name": "stdout",
     "output_type": "stream",
     "text": [
      "First argument : Hello\n",
      "Next argument through *argv : Welcome\n",
      "Next argument through *argv : \n"
     ]
    }
   ],
   "source": [
    "\n",
    "def myFun(arg1, *argv):\n",
    "    print(\"First argument :\", arg1)\n",
    "    for i in argv:\n",
    "        print(\"Next argument through *argv :\", i)\n",
    " \n",
    " \n",
    "myFun('Hello', 'Welcome',\"\")\n",
    "\n"
   ]
  },
  {
   "cell_type": "code",
   "execution_count": 18,
   "id": "bbd3e90a",
   "metadata": {},
   "outputs": [],
   "source": [
    "def add(*args):\n",
    "    return args "
   ]
  },
  {
   "cell_type": "code",
   "execution_count": 19,
   "id": "f5af3286",
   "metadata": {
    "scrolled": true
   },
   "outputs": [],
   "source": [
    "v=add(1,2,3,4,5,6,7)"
   ]
  },
  {
   "cell_type": "code",
   "execution_count": 20,
   "id": "22e5040e",
   "metadata": {},
   "outputs": [
    {
     "name": "stdout",
     "output_type": "stream",
     "text": [
      "(1, 2, 3, 4, 5, 6, 7)\n"
     ]
    }
   ],
   "source": [
    "print(v)"
   ]
  },
  {
   "cell_type": "markdown",
   "id": "2b11f03f",
   "metadata": {},
   "source": [
    "In the first call, three arguments are passed, so args becomes a tuple containing those values. In the second call, two arguments are passed, and in the third call, no arguments are passed, resulting in an empty tuple."
   ]
  },
  {
   "cell_type": "markdown",
   "id": "ab6bb7d9",
   "metadata": {},
   "source": [
    "Inside the function, you can work with the args tuple like any other tuple. For example, you can iterate through it, access specific elements, or perform various operations:"
   ]
  },
  {
   "cell_type": "code",
   "execution_count": 22,
   "id": "0d1094f6",
   "metadata": {},
   "outputs": [
    {
     "data": {
      "text/plain": [
       "(2, 4, 45, 6, 6, 4, 3, 2, 4, 6)"
      ]
     },
     "execution_count": 22,
     "metadata": {},
     "output_type": "execute_result"
    }
   ],
   "source": [
    "def my(arg1,*arga):\n",
    "    return arg1,*arga    #arg1=10     *args=(3,6,4,2,5,7)\n",
    "  \n",
    "my(2,4,45,6,6,4,3,2,4,6)\n"
   ]
  },
  {
   "cell_type": "code",
   "execution_count": 28,
   "id": "6e38353c",
   "metadata": {},
   "outputs": [
    {
     "data": {
      "text/plain": [
       "(1, 2, 3)"
      ]
     },
     "execution_count": 28,
     "metadata": {},
     "output_type": "execute_result"
    }
   ],
   "source": [
    "def my_function(a,b,c,*args): \n",
    "    return a,b,c\n",
    "    for i in args:\n",
    "        print(i)\n",
    "\n",
    "my_function(1, 2, 3,2,5,6,3,4,7)\n",
    "\n"
   ]
  },
  {
   "cell_type": "markdown",
   "id": "55e2c1b1",
   "metadata": {},
   "source": [
    "You can also combine *args with other parameters. However, *args must come after any regular positional parameters in the function's parameter list.\n",
    "\n",
    "In summary, *args allows you to create functions that can accept a variable number of positional arguments. These arguments are collected into a tuple, making it flexible to handle different numbers of inputs within the function."
   ]
  },
  {
   "cell_type": "code",
   "execution_count": 29,
   "id": "6987a435",
   "metadata": {},
   "outputs": [],
   "source": [
    "def multiply_numbers(*args):\n",
    "    result = 1\n",
    "    for num in args:\n",
    "        result *= num\n",
    "    return result\n",
    "\n",
    "product = multiply_numbers(2, 3, 4)\n"
   ]
  },
  {
   "cell_type": "code",
   "execution_count": 30,
   "id": "c824d4e8",
   "metadata": {},
   "outputs": [
    {
     "name": "stdout",
     "output_type": "stream",
     "text": [
      "24\n"
     ]
    }
   ],
   "source": [
    "print(product)"
   ]
  },
  {
   "cell_type": "code",
   "execution_count": 35,
   "id": "3f0ca872",
   "metadata": {},
   "outputs": [],
   "source": [
    "def count_occurrences(target, *args):\n",
    "    return args.count(target)\n",
    "\n",
    "count = count_occurrences(3, 1, 3, 5,3, 3,6,45,8,25)\n"
   ]
  },
  {
   "cell_type": "code",
   "execution_count": 36,
   "id": "72a092a4",
   "metadata": {},
   "outputs": [
    {
     "name": "stdout",
     "output_type": "stream",
     "text": [
      "3\n"
     ]
    }
   ],
   "source": [
    "print(count)"
   ]
  },
  {
   "cell_type": "markdown",
   "id": "e17b5904",
   "metadata": {},
   "source": [
    "# Varaible-Length Keyword Arguments"
   ]
  },
  {
   "cell_type": "markdown",
   "id": "f5dd3c20",
   "metadata": {},
   "source": [
    "Variable-Length Keyword Arguments, often denoted as **kwargs in Python, is a feature that allows you to pass a flexible and arbitrary number of keyword arguments to a function. This can be particularly useful when you want to create functions that can handle a variety of parameters without knowing in advance how many or what those parameters will be."
   ]
  },
  {
   "cell_type": "markdown",
   "id": "d03481b1",
   "metadata": {},
   "source": [
    "Collecting Keyword Arguments into a Dictionary: When you define a function parameter with **kwargs, Python collects all the keyword arguments that are not explicitly defined as formal parameters into a dictionary. The keys of this dictionary are the argument names, and the values are the corresponding argument values."
   ]
  },
  {
   "cell_type": "code",
   "execution_count": 1,
   "id": "c927cfe6",
   "metadata": {},
   "outputs": [],
   "source": [
    "def example_function(**kwargs):  #*args    #**kwargs\n",
    "    print(kwargs)\n"
   ]
  },
  {
   "cell_type": "code",
   "execution_count": 2,
   "id": "ece0dcb4",
   "metadata": {},
   "outputs": [
    {
     "name": "stdout",
     "output_type": "stream",
     "text": [
      "{'a': 2, 'b': 3, 'c': 5}\n"
     ]
    }
   ],
   "source": [
    "example_function(a=2,b=3,c=5)"
   ]
  },
  {
   "cell_type": "markdown",
   "id": "4294f281",
   "metadata": {},
   "source": [
    "If you call example_function(a=1, b=2, c=3), kwargs will be a dictionary containing {'a': 1, 'b': 2, 'c': 3}."
   ]
  },
  {
   "cell_type": "markdown",
   "id": "6ec758c3",
   "metadata": {},
   "source": [
    "Usage and Flexibility: Using **kwargs, you can create functions that accept various keyword arguments without having to specify them all in the function definition. This makes your code more versatile and adaptable to different scenarios."
   ]
  },
  {
   "cell_type": "code",
   "execution_count": null,
   "id": "e962f293",
   "metadata": {},
   "outputs": [],
   "source": [
    "def process_data(**kwargs):\n",
    "    for key, value in kwargs.items():\n",
    "        print(f\"{key}: {value}\")\n",
    "\n",
    "process_data(city=\"New York\",name=\"John\", age=30)\n",
    "\n",
    "\n"
   ]
  },
  {
   "cell_type": "markdown",
   "id": "df1c2625",
   "metadata": {},
   "source": [
    "This function can accept any number of keyword arguments and display their values."
   ]
  },
  {
   "cell_type": "markdown",
   "id": "f8641899",
   "metadata": {},
   "source": [
    "Default Values: You can also combine **kwargs with regular function parameters. This allows you to define default values for some parameters while still accepting arbitrary keyword arguments."
   ]
  },
  {
   "cell_type": "code",
   "execution_count": null,
   "id": "df2d091c",
   "metadata": {},
   "outputs": [],
   "source": [
    "def describe_person(name, age=25, **kwargs):\n",
    "    print(f\"Name: {name}, Age: {age}\")\n",
    "    for key, value in kwargs.items():\n",
    "        print(f\"{key}: {value}\")\n",
    "\n",
    "describe_person(\"Alice\", city=\"Los Angeles\", occupation=\"Engineer\")\n",
    "\n",
    "\n"
   ]
  },
  {
   "cell_type": "markdown",
   "id": "c6c86d3a",
   "metadata": {},
   "source": [
    "In this example, name and age are defined as required parameters, but any additional keyword arguments are collected in kwargs."
   ]
  },
  {
   "cell_type": "markdown",
   "id": "3e572d6d",
   "metadata": {},
   "source": [
    "Error Handling: You can add logic to check for specific keyword arguments or handle unexpected ones as needed. This allows you to create more robust and flexible functions."
   ]
  },
  {
   "cell_type": "code",
   "execution_count": null,
   "id": "fe490e64",
   "metadata": {},
   "outputs": [],
   "source": [
    "def process_data(table,**kwargs):\n",
    "    if 'value' in kwargs:\n",
    "        print(f\"Value: {kwargs['value']}\")\n",
    "    else:\n",
    "        print(\"Value not found in kwargs.\")\n",
    "\n",
    "process_data(\"Akash\",name=\"Akash\", age=30,value=40)\n"
   ]
  },
  {
   "cell_type": "markdown",
   "id": "92770b3e",
   "metadata": {},
   "source": [
    "we check if a specific keyword argument 'value' is present in kwargs.\n",
    "\n",
    "**kwargs is a powerful feature in Python that allows you to work with a variable number of keyword arguments in your functions. It provides flexibility, adaptability, and the ability to create functions that can handle a wide range of input parameters."
   ]
  },
  {
   "cell_type": "code",
   "execution_count": 4,
   "id": "194bb2c1",
   "metadata": {},
   "outputs": [
    {
     "name": "stdout",
     "output_type": "stream",
     "text": [
      "Product Name: Laptop\n",
      "Price: $1200.0000\n",
      "Manufacturer: Unknown\n"
     ]
    }
   ],
   "source": [
    "def display_product_info(product_name, **kwargs):\n",
    "    price = kwargs.get(\"price\", 0.0)\n",
    "    manufacturer = kwargs.get(\"manufacturer\", \"Unknown\")\n",
    "    \n",
    "    print(f\"Product Name: {product_name}\")\n",
    "    print(f\"Price: ${price:.4f}\")\n",
    "    print(f\"Manufacturer: {manufacturer}\")\n",
    "\n",
    "display_product_info(\"Laptop\", price=1200.0, manufacturers=\"Dell\")\n"
   ]
  },
  {
   "cell_type": "markdown",
   "id": "07da652b",
   "metadata": {},
   "source": [
    "# Packing Argument"
   ]
  },
  {
   "cell_type": "markdown",
   "id": "bc014f4f",
   "metadata": {},
   "source": [
    "Packing refers to collecting multiple arguments into a single variable, often a tuple. This is done by using the asterisk (*) symbol. When you use *args in a function parameter list, it allows the function to accept any number of positional arguments, which will be packed into a tuple."
   ]
  },
  {
   "cell_type": "code",
   "execution_count": 45,
   "id": "dc580eaf",
   "metadata": {},
   "outputs": [
    {
     "name": "stdout",
     "output_type": "stream",
     "text": [
      "1\n",
      "2\n",
      "3\n",
      "4\n"
     ]
    }
   ],
   "source": [
    "def example_function(*args):\n",
    "    for arg in args:\n",
    "        print(arg)\n",
    "\n",
    "example_function(1, 2, 3, 4)\n",
    "# Output:\n",
    "# 1\n",
    "# 2\n",
    "# 3\n",
    "# 4\n"
   ]
  },
  {
   "cell_type": "markdown",
   "id": "32186896",
   "metadata": {},
   "source": [
    "# Unpacking Arguments"
   ]
  },
  {
   "cell_type": "markdown",
   "id": "ea1a819c",
   "metadata": {},
   "source": [
    " Unpacking arguments in Python allows you to take elements from a sequence (like a list or tuple) or a dictionary and pass them as individual arguments to a function. You use the * operator for sequences and ** operator for dictionaries."
   ]
  },
  {
   "cell_type": "markdown",
   "id": "5646aaa7",
   "metadata": {},
   "source": [
    "Unpacking a sequence using *:\n",
    "\n",
    "If you have a sequence like a list or tuple, you can use * to unpack its elements and pass them as separate arguments to a function."
   ]
  },
  {
   "cell_type": "code",
   "execution_count": 44,
   "id": "280c7c1f",
   "metadata": {},
   "outputs": [
    {
     "name": "stdout",
     "output_type": "stream",
     "text": [
      "a = 1, b = 2, c = 3\n"
     ]
    }
   ],
   "source": [
    "def another_function(a, b, c):\n",
    "    print(f\"a = {a}, b = {b}, c = {c}\")\n",
    "\n",
    "values = (1, 2, 3)\n",
    "another_function(*values)\n",
    "# Output:\n",
    "# a = 1, b = 2, c = 3\n"
   ]
  },
  {
   "cell_type": "code",
   "execution_count": 46,
   "id": "53002634",
   "metadata": {},
   "outputs": [
    {
     "name": "stdout",
     "output_type": "stream",
     "text": [
      "x = 1, y = 2\n",
      "3\n",
      "4\n",
      "5\n"
     ]
    }
   ],
   "source": [
    "def example_function(x, y, *args):\n",
    "    print(f\"x = {x}, y = {y}\")\n",
    "    for arg in args:\n",
    "        print(arg)\n",
    "\n",
    "example_function(1, 2, 3, 4, 5)\n",
    "# Output:\n",
    "# x = 1, y = 2\n",
    "# 3\n",
    "# 4\n",
    "# 5\n"
   ]
  },
  {
   "cell_type": "markdown",
   "id": "aa195081",
   "metadata": {},
   "source": [
    "# Zip Function()"
   ]
  },
  {
   "cell_type": "markdown",
   "id": "b123afae",
   "metadata": {},
   "source": [
    "The zip function in Python is used to combine elements from two or more iterables (like lists or tuples) into tuples. It takes multiple iterable inputs, aggregates their elements into tuples, and returns an iterator of these tuples."
   ]
  },
  {
   "cell_type": "code",
   "execution_count": null,
   "id": "279abbdd",
   "metadata": {},
   "outputs": [],
   "source": [
    "a=[1,2,34,45,6]\n",
    "b=[2,4,6,7,4,2]\n",
    "c=zip(list((a,b)))\n",
    "print(c,type(c))"
   ]
  },
  {
   "cell_type": "code",
   "execution_count": null,
   "id": "c989db63",
   "metadata": {},
   "outputs": [],
   "source": [
    "z=list(c)"
   ]
  },
  {
   "cell_type": "code",
   "execution_count": null,
   "id": "f079b2ed",
   "metadata": {},
   "outputs": [],
   "source": [
    "print(z)"
   ]
  },
  {
   "cell_type": "code",
   "execution_count": null,
   "id": "e1fa5efc",
   "metadata": {},
   "outputs": [],
   "source": [
    "for i,j in zip(a,b):\n",
    "    print(i,j)"
   ]
  },
  {
   "cell_type": "code",
   "execution_count": null,
   "id": "230e1af0",
   "metadata": {},
   "outputs": [],
   "source": [
    "a=[1,2,3]\n",
    "b=[4,5,7]\n",
    "c=zip(a,b)"
   ]
  },
  {
   "cell_type": "code",
   "execution_count": null,
   "id": "eb767a8e",
   "metadata": {},
   "outputs": [],
   "source": [
    "print(c)"
   ]
  },
  {
   "cell_type": "code",
   "execution_count": null,
   "id": "f354801a",
   "metadata": {},
   "outputs": [],
   "source": [
    "a=[2,5,2,4,2]\n",
    "b=[2,5,2,2,2]\n",
    "c=set(zip(a,b))\n",
    "print(c)"
   ]
  },
  {
   "cell_type": "code",
   "execution_count": null,
   "id": "167fa902",
   "metadata": {},
   "outputs": [],
   "source": [
    "a=[1,2,4,6,7,8,4,33,2,21,3,5]"
   ]
  },
  {
   "cell_type": "code",
   "execution_count": null,
   "id": "dd0eec9e",
   "metadata": {},
   "outputs": [],
   "source": [
    "c=\"!!!!!Hello\"\n",
    "x=c.lstrip(\"!\")\n",
    "print(x)"
   ]
  },
  {
   "cell_type": "code",
   "execution_count": null,
   "id": "4507f4f8",
   "metadata": {},
   "outputs": [],
   "source": [
    "c=\"abanana\"\n",
    "x=c.rstrip(\"an\")\n",
    "print(x)"
   ]
  },
  {
   "cell_type": "markdown",
   "id": "40ed82c9",
   "metadata": {},
   "source": [
    "# flag\n",
    "A flag in Python is like a marker that indicates a specific situation or condition. It's often implemented using a boolean variable (True or False). The flag is set (True) when a certain condition is met, and it is cleared (False) when the condition is not met.\n"
   ]
  },
  {
   "cell_type": "code",
   "execution_count": null,
   "id": "87aa861a",
   "metadata": {},
   "outputs": [],
   "source": [
    "is_flag=False\n",
    "user=input(\"Enter the number\")\n",
    "if user == \"yes\":\n",
    "    is_flag = True\n",
    "    \n",
    "if is_flag:\n",
    "    print(\"performing task\")\n",
    "else:\n",
    "    print(\"task aborted\")"
   ]
  },
  {
   "cell_type": "code",
   "execution_count": null,
   "id": "10e8a7fd",
   "metadata": {},
   "outputs": [],
   "source": [
    "is_flag=False\n",
    "\n",
    "if is_flag:\n",
    "    print(\"The flag is ON\")\n",
    "    \n",
    "flag=True\n",
    "\n",
    "if is_flag:\n",
    "    print(\"flas is off\")\n",
    "    "
   ]
  },
  {
   "cell_type": "code",
   "execution_count": null,
   "id": "c1ff5f91",
   "metadata": {},
   "outputs": [],
   "source": [
    "a=[3,5,6,3]\n",
    "b=[\"Akash\",\"Neraj\",\"Rohit\",\"Ajay\",\"OP\"]\n",
    "c=[\"ST\",\"TV\",\"PT\",\"JT\",\"YT\"]\n",
    "\n",
    "d=list(zip(a,b,c))"
   ]
  },
  {
   "cell_type": "code",
   "execution_count": null,
   "id": "a53a7236",
   "metadata": {},
   "outputs": [],
   "source": [
    "print(d,type(d))"
   ]
  },
  {
   "cell_type": "markdown",
   "id": "7d9f8522",
   "metadata": {},
   "source": [
    "# List Compprehension"
   ]
  },
  {
   "cell_type": "markdown",
   "id": "12d1c311",
   "metadata": {},
   "source": [
    "\n",
    "List comprehension is a concise and expressive way to create lists in Python. It provides a more compact syntax for generating lists compared to using traditional loops and the append method. List comprehensions are a Pythonic way to build lists by applying an expression to each item in an iterable (e.g., a list, tuple, or string) and optionally filtering the items."
   ]
  },
  {
   "cell_type": "code",
   "execution_count": null,
   "id": "70f8135d",
   "metadata": {},
   "outputs": [],
   "source": [
    "a=[1,3,5,7,9,5,3,8]  #square the list\n",
    "a=355"
   ]
  },
  {
   "cell_type": "code",
   "execution_count": null,
   "id": "5f79305b",
   "metadata": {},
   "outputs": [],
   "source": [
    "b=[]\n",
    "def square(a):\n",
    "    for i in a:\n",
    "        b=i*\n",
    "        return i"
   ]
  },
  {
   "cell_type": "code",
   "execution_count": null,
   "id": "84b935ff",
   "metadata": {},
   "outputs": [],
   "source": [
    "square([3,3,5,6,3,7,3,7])"
   ]
  },
  {
   "cell_type": "code",
   "execution_count": null,
   "id": "8a118aeb",
   "metadata": {},
   "outputs": [],
   "source": [
    "list=[epxression for item in iterateble if condition]"
   ]
  },
  {
   "cell_type": "code",
   "execution_count": null,
   "id": "da0e5d5e",
   "metadata": {},
   "outputs": [],
   "source": [
    "square=[a**2 for a in range(0:10)]"
   ]
  },
  {
   "cell_type": "code",
   "execution_count": null,
   "id": "1a53317a",
   "metadata": {},
   "outputs": [],
   "source": [
    "listname\n",
    "expression \n",
    "i iteratable variable \n",
    "iterable\n",
    "condition"
   ]
  },
  {
   "cell_type": "code",
   "execution_count": null,
   "id": "c7ac4c38",
   "metadata": {},
   "outputs": [],
   "source": [
    "print(square)"
   ]
  },
  {
   "cell_type": "code",
   "execution_count": null,
   "id": "6fa1789e",
   "metadata": {},
   "outputs": [],
   "source": [
    "square=[3,36,3,6,25]"
   ]
  },
  {
   "cell_type": "code",
   "execution_count": null,
   "id": "69c0a925",
   "metadata": {},
   "outputs": [],
   "source": [
    "square=[a**2 for a in range(10) if a % 2 != 0]"
   ]
  },
  {
   "cell_type": "code",
   "execution_count": null,
   "id": "f9198230",
   "metadata": {},
   "outputs": [],
   "source": [
    "print(square)"
   ]
  },
  {
   "cell_type": "code",
   "execution_count": null,
   "id": "488a179a",
   "metadata": {},
   "outputs": [],
   "source": [
    "a=[25,6,8,4,2,4,7,4,67]\n",
    "# add one number to every third number present in the list using list comprehension"
   ]
  },
  {
   "cell_type": "code",
   "execution_count": null,
   "id": "99d88094",
   "metadata": {},
   "outputs": [],
   "source": [
    "b=[i+1 for i in a[0:len(a):3]]"
   ]
  },
  {
   "cell_type": "code",
   "execution_count": null,
   "id": "3629c914",
   "metadata": {},
   "outputs": [],
   "source": [
    "print(b)"
   ]
  },
  {
   "cell_type": "code",
   "execution_count": null,
   "id": "37824c6f",
   "metadata": {},
   "outputs": [],
   "source": [
    "b=[expression for i in a condition]"
   ]
  },
  {
   "cell_type": "code",
   "execution_count": null,
   "id": "d87cf61c",
   "metadata": {},
   "outputs": [],
   "source": [
    "# multiple of 3 in the range of 20"
   ]
  },
  {
   "cell_type": "code",
   "execution_count": null,
   "id": "c200ca14",
   "metadata": {},
   "outputs": [],
   "source": [
    "multiple=[i for i in range(1,21) if i % 3 == 0 ]"
   ]
  },
  {
   "cell_type": "code",
   "execution_count": null,
   "id": "dde6518b",
   "metadata": {},
   "outputs": [],
   "source": [
    "print(multiple)"
   ]
  },
  {
   "cell_type": "code",
   "execution_count": 1,
   "id": "195814e6",
   "metadata": {},
   "outputs": [],
   "source": [
    "words=[\"Akash\",\"radar\",\"Ajay\",\"racecar\",\"switch\"]\n"
   ]
  },
  {
   "cell_type": "code",
   "execution_count": 2,
   "id": "6e1aad23",
   "metadata": {},
   "outputs": [],
   "source": [
    "palindrome=[i == i[::-1] for i in words]"
   ]
  },
  {
   "cell_type": "code",
   "execution_count": 3,
   "id": "606a858a",
   "metadata": {},
   "outputs": [
    {
     "name": "stdout",
     "output_type": "stream",
     "text": [
      "[False, True, False, True, False]\n"
     ]
    }
   ],
   "source": [
    "print(palindrome)"
   ]
  },
  {
   "cell_type": "code",
   "execution_count": 4,
   "id": "3068acbb",
   "metadata": {},
   "outputs": [],
   "source": [
    "sentence=\"Python is Programming Language\"\n",
    "vowels=[i for i in sentence if i in \"aeiou\"]"
   ]
  },
  {
   "cell_type": "code",
   "execution_count": 5,
   "id": "4e85a5f2",
   "metadata": {},
   "outputs": [
    {
     "name": "stdout",
     "output_type": "stream",
     "text": [
      "['o', 'i', 'o', 'a', 'i', 'a', 'u', 'a', 'e']\n"
     ]
    }
   ],
   "source": [
    "print(vowels)"
   ]
  },
  {
   "cell_type": "code",
   "execution_count": null,
   "id": "950aa0aa",
   "metadata": {},
   "outputs": [],
   "source": [
    "a=\"Akash\"\n",
    "b=a[::-1]"
   ]
  },
  {
   "cell_type": "code",
   "execution_count": null,
   "id": "47d40647",
   "metadata": {},
   "outputs": [],
   "source": [
    "print(b)"
   ]
  }
 ],
 "metadata": {
  "kernelspec": {
   "display_name": "Python 3 (ipykernel)",
   "language": "python",
   "name": "python3"
  },
  "language_info": {
   "codemirror_mode": {
    "name": "ipython",
    "version": 3
   },
   "file_extension": ".py",
   "mimetype": "text/x-python",
   "name": "python",
   "nbconvert_exporter": "python",
   "pygments_lexer": "ipython3",
   "version": "3.10.9"
  }
 },
 "nbformat": 4,
 "nbformat_minor": 5
}

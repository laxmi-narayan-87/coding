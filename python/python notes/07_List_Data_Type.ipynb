{
 "cells": [
  {
   "cell_type": "markdown",
   "id": "f08d9662",
   "metadata": {},
   "source": [
    "# List Data Type"
   ]
  },
  {
   "cell_type": "markdown",
   "id": "7934ab88",
   "metadata": {},
   "source": [
    "List Data Type\n",
    "\n",
    "A list is a built-in data structure that allows you to store a collection of items, such as numbers, strings, or other objects, in a single variable. It is one of the predefined class and treated as list data type. We can convert any type of values into list type of values by using list(). Lists are mutable, which means you can modify their contents (add, remove, or change elements) after they are created.\n",
    "\n",
    "A list is like a container that can hold multiple pieces of information, such as numbers, words, or even other lists. It's like a shopping list where you can jot down different items you need to buy. Lists help you keep related data together and in a specific order. You can add new items, remove items, change items, or just see what's in the list. It's a useful tool to work with collections of data in your programs\n",
    "\n",
    "•\tDefinition:\n",
    "•\tA list is a built-in data type in Python.\n",
    "•\tLists are used to store a collection of items, which can be of different data types (e.g., numbers, strings, or even other lists).\n",
    "\n",
    "•\tCreation:\n",
    "•\tLists are created using square brackets [].\n",
    "•\tElements in a list are separated by commas.\n",
    "\n",
    "•\tMutability:\n",
    "•\tLists are mutable, meaning their contents can be modified after creation.\n",
    "\n",
    "•\tIndexing:\n",
    "•\tElements in a list are indexed, starting from 0 for the first element.\n",
    "•\tYou can access elements by their index, e.g., my_list[0] to access the first element.\n",
    "\n",
    "•\tCommon Operations:\n",
    "\n",
    "•\tAdding Elements:\n",
    "•\tUse the append() method to add an element to the end of a list.\n",
    "•\tRemoving Elements:\n",
    "•\tUse remove() to remove an element by value.\n",
    "•\tUse del to remove an element by index.\n",
    "\n",
    "•\tSlicing:\n",
    "•\tExtract a portion of a list using slicing, e.g., my_list[1:4].\n",
    "\n",
    "•\tConcatenation:\n",
    "•\tCombine two lists using the + operator, e.g., new_list = list1 + list2.\n",
    "\n",
    "•\tLength:\n",
    "•\tFind the number of elements in a list using len(my_list).\n",
    "\n",
    "•\tChecking for Element:\n",
    "•\tDetermine if an element exists in a list using in, e.g., if x in my_list:.\n",
    "\n",
    "•\tIterating:\n",
    "•\tUse loops (e.g., for loops) to iterate through the elements of a list.\n",
    "\n",
    "•\tNested Lists:\n",
    "•\tLists can contain other lists as elements, creating nested structures.\n",
    "\n",
    "•\tList Comprehensions:\n",
    "•\tPython supports list comprehensions, which provide a concise way to create lists based on existing lists.\n",
    "\n",
    "•\tCommon Use Cases:\n",
    "•\tLists are widely used for data storage, manipulation, and processing.\n",
    "•\tThey are suitable for scenarios where you need an ordered collection of items.\n",
    "\n",
    "Two types of lists: Empty lists and Non-Empty lists.\n",
    "1.\tEmpty List: An empty list, as the name suggests, is a list that contains no elements. It is a collection of items, but there's nothing in it. In programming, an empty list is often denoted by square brackets with nothing inside: []. This can be useful when you want to initialize a list that you plan to populate with data later on. For example, in Python:\n",
    "\n",
    "empty_list = [] \n",
    "Empty lists can be used as placeholders, and you can append or insert items into them as needed.\n",
    "2.\tNon-Empty List: A non-empty list is a list that contains one or more elements. These elements can be of any data type, such as numbers, strings, objects, or even other lists. Non-empty lists are typically created with the items enclosed in square brackets and separated by commas. For instance, in Python:\n",
    "\n",
    "non_empty_list = [1, 2, 3, 4, 5] \n",
    "Non-empty lists are widely used in programming to store and manipulate collections of data. They provide a way to group related information together, making it easier to work with and process the data.\n",
    "\n",
    "\n",
    "\n",
    "\n",
    "\n"
   ]
  },
  {
   "cell_type": "code",
   "execution_count": 3,
   "id": "c12d982e",
   "metadata": {},
   "outputs": [],
   "source": [
    "# Empty List"
   ]
  },
  {
   "cell_type": "code",
   "execution_count": 4,
   "id": "2993aa46",
   "metadata": {},
   "outputs": [],
   "source": [
    "v=[]"
   ]
  },
  {
   "cell_type": "code",
   "execution_count": 6,
   "id": "705405de",
   "metadata": {},
   "outputs": [
    {
     "name": "stdout",
     "output_type": "stream",
     "text": [
      "[] <class 'list'> 2279133089728\n"
     ]
    }
   ],
   "source": [
    "print(v,type(v),id(v))"
   ]
  },
  {
   "cell_type": "code",
   "execution_count": 8,
   "id": "3eb47392",
   "metadata": {},
   "outputs": [],
   "source": [
    "# Non Empty List"
   ]
  },
  {
   "cell_type": "code",
   "execution_count": 9,
   "id": "dad46ce5",
   "metadata": {},
   "outputs": [],
   "source": [
    "l=[20,13.34,True,3+4j,\"mind\",43,445.5,\"soul\",False]"
   ]
  },
  {
   "cell_type": "code",
   "execution_count": 10,
   "id": "f52bf4d5",
   "metadata": {},
   "outputs": [
    {
     "name": "stdout",
     "output_type": "stream",
     "text": [
      "[20, 13.34, True, (3+4j), 'mind', 43, 445.5, 'soul', False] <class 'list'> 2279133038464\n"
     ]
    }
   ],
   "source": [
    "print(l,type(l),id(l))"
   ]
  },
  {
   "cell_type": "code",
   "execution_count": 12,
   "id": "fca53666",
   "metadata": {},
   "outputs": [
    {
     "data": {
      "text/plain": [
       "'mind'"
      ]
     },
     "execution_count": 12,
     "metadata": {},
     "output_type": "execute_result"
    }
   ],
   "source": [
    "l[4]"
   ]
  },
  {
   "cell_type": "code",
   "execution_count": 13,
   "id": "2c40a952",
   "metadata": {},
   "outputs": [
    {
     "data": {
      "text/plain": [
       "['mind', 43, 445.5, 'soul']"
      ]
     },
     "execution_count": 13,
     "metadata": {},
     "output_type": "execute_result"
    }
   ],
   "source": [
    "l[4:8]"
   ]
  },
  {
   "cell_type": "code",
   "execution_count": 14,
   "id": "f4ba78c9",
   "metadata": {},
   "outputs": [
    {
     "data": {
      "text/plain": [
       "['soul', 445.5, 43, 'mind']"
      ]
     },
     "execution_count": 14,
     "metadata": {},
     "output_type": "execute_result"
    }
   ],
   "source": [
    "l[-2:-6:-1]"
   ]
  },
  {
   "cell_type": "code",
   "execution_count": 15,
   "id": "cc1eafc3",
   "metadata": {},
   "outputs": [
    {
     "data": {
      "text/plain": [
       "[False, 'soul', 445.5, 43, 'mind']"
      ]
     },
     "execution_count": 15,
     "metadata": {},
     "output_type": "execute_result"
    }
   ],
   "source": [
    "l[:-6:-1]"
   ]
  },
  {
   "cell_type": "markdown",
   "id": "8df8dfa2",
   "metadata": {},
   "source": [
    "Checking length of List using len function"
   ]
  },
  {
   "cell_type": "code",
   "execution_count": 16,
   "id": "415b53b4",
   "metadata": {},
   "outputs": [
    {
     "name": "stdout",
     "output_type": "stream",
     "text": [
      "9\n"
     ]
    }
   ],
   "source": [
    "print(len(l))"
   ]
  },
  {
   "cell_type": "code",
   "execution_count": 25,
   "id": "2e5b3d93",
   "metadata": {},
   "outputs": [
    {
     "data": {
      "text/plain": [
       "[20, 13.34, True, (3+4j), 'mind', 43, 445.5, 'soul', False]"
      ]
     },
     "execution_count": 25,
     "metadata": {},
     "output_type": "execute_result"
    }
   ],
   "source": [
    "l"
   ]
  },
  {
   "cell_type": "code",
   "execution_count": 30,
   "id": "3b9aacb8",
   "metadata": {},
   "outputs": [
    {
     "name": "stdout",
     "output_type": "stream",
     "text": [
      "True\n",
      "mind\n",
      "445.5\n"
     ]
    }
   ],
   "source": [
    "for i in l[-7:8:2]:\n",
    "    print(i)\n",
    "    "
   ]
  },
  {
   "cell_type": "code",
   "execution_count": 31,
   "id": "5e5c94a8",
   "metadata": {},
   "outputs": [
    {
     "name": "stdout",
     "output_type": "stream",
     "text": [
      "False\n",
      "43\n",
      "True\n"
     ]
    }
   ],
   "source": [
    "for i in l[::-3]:\n",
    "    print(i)"
   ]
  },
  {
   "cell_type": "code",
   "execution_count": 33,
   "id": "a3d18ede",
   "metadata": {},
   "outputs": [
    {
     "data": {
      "text/plain": [
       "(3+4j)"
      ]
     },
     "execution_count": 33,
     "metadata": {},
     "output_type": "execute_result"
    }
   ],
   "source": [
    "l[3]"
   ]
  },
  {
   "cell_type": "code",
   "execution_count": 34,
   "id": "008208c4",
   "metadata": {},
   "outputs": [
    {
     "ename": "IndexError",
     "evalue": "list index out of range",
     "output_type": "error",
     "traceback": [
      "\u001b[1;31m---------------------------------------------------------------------------\u001b[0m",
      "\u001b[1;31mIndexError\u001b[0m                                Traceback (most recent call last)",
      "Cell \u001b[1;32mIn[34], line 1\u001b[0m\n\u001b[1;32m----> 1\u001b[0m \u001b[43ml\u001b[49m\u001b[43m[\u001b[49m\u001b[38;5;241;43m11\u001b[39;49m\u001b[43m]\u001b[49m\n",
      "\u001b[1;31mIndexError\u001b[0m: list index out of range"
     ]
    }
   ],
   "source": [
    "l[11]"
   ]
  },
  {
   "cell_type": "code",
   "execution_count": 35,
   "id": "6dc40e8f",
   "metadata": {},
   "outputs": [
    {
     "name": "stdout",
     "output_type": "stream",
     "text": [
      "[20, 13.34, True, (3+4j), 'mind', 43, 445.5, 'soul', False]\n"
     ]
    }
   ],
   "source": [
    "print(l)"
   ]
  },
  {
   "cell_type": "code",
   "execution_count": 38,
   "id": "88cb349a",
   "metadata": {},
   "outputs": [],
   "source": [
    "l[4] = \"entity\""
   ]
  },
  {
   "cell_type": "code",
   "execution_count": 39,
   "id": "377e1fd2",
   "metadata": {},
   "outputs": [
    {
     "name": "stdout",
     "output_type": "stream",
     "text": [
      "[20, 13.34, True, (3+4j), 'entity', 43, 445.5, 'soul', False]\n"
     ]
    }
   ],
   "source": [
    "print(l)"
   ]
  },
  {
   "cell_type": "code",
   "execution_count": 41,
   "id": "58361dad",
   "metadata": {},
   "outputs": [],
   "source": [
    "l[-7]=\"heart\""
   ]
  },
  {
   "cell_type": "code",
   "execution_count": 42,
   "id": "9dc64154",
   "metadata": {},
   "outputs": [
    {
     "name": "stdout",
     "output_type": "stream",
     "text": [
      "[20, 13.34, 'heart', (3+4j), 'entity', 43, 445.5, 'soul', False]\n"
     ]
    }
   ],
   "source": [
    "print(l)"
   ]
  },
  {
   "cell_type": "markdown",
   "id": "1883ed1f",
   "metadata": {},
   "source": [
    "# Pre Define Functions in List"
   ]
  },
  {
   "cell_type": "markdown",
   "id": "9aaab125",
   "metadata": {},
   "source": [
    "# Append "
   ]
  },
  {
   "cell_type": "code",
   "execution_count": 43,
   "id": "638182b8",
   "metadata": {},
   "outputs": [],
   "source": [
    "# The append() function in Python is used to add an element to the end of a list\n"
   ]
  },
  {
   "cell_type": "code",
   "execution_count": 44,
   "id": "37e773cd",
   "metadata": {},
   "outputs": [
    {
     "name": "stdout",
     "output_type": "stream",
     "text": [
      "[1, 2, 3, 4]\n"
     ]
    }
   ],
   "source": [
    "my_list = [1, 2, 3]\n",
    "my_list.append(4)  # Adds the element 4 to the end of the list\n",
    "print(my_list)  # Output: [1, 2, 3, 4]"
   ]
  },
  {
   "cell_type": "code",
   "execution_count": 45,
   "id": "df9edb72",
   "metadata": {},
   "outputs": [],
   "source": [
    "my_list.append(\"File\")"
   ]
  },
  {
   "cell_type": "code",
   "execution_count": 46,
   "id": "0d29c0ea",
   "metadata": {},
   "outputs": [
    {
     "name": "stdout",
     "output_type": "stream",
     "text": [
      "[1, 2, 3, 4, 'File']\n"
     ]
    }
   ],
   "source": [
    "print(my_list)"
   ]
  },
  {
   "cell_type": "code",
   "execution_count": 47,
   "id": "06280074",
   "metadata": {
    "scrolled": false
   },
   "outputs": [
    {
     "ename": "TypeError",
     "evalue": "list.append() takes exactly one argument (2 given)",
     "output_type": "error",
     "traceback": [
      "\u001b[1;31m---------------------------------------------------------------------------\u001b[0m",
      "\u001b[1;31mTypeError\u001b[0m                                 Traceback (most recent call last)",
      "Cell \u001b[1;32mIn[47], line 1\u001b[0m\n\u001b[1;32m----> 1\u001b[0m \u001b[43mmy_list\u001b[49m\u001b[38;5;241;43m.\u001b[39;49m\u001b[43mappend\u001b[49m\u001b[43m(\u001b[49m\u001b[38;5;241;43m11\u001b[39;49m\u001b[43m,\u001b[49m\u001b[38;5;241;43m12\u001b[39;49m\u001b[43m)\u001b[49m\n",
      "\u001b[1;31mTypeError\u001b[0m: list.append() takes exactly one argument (2 given)"
     ]
    }
   ],
   "source": [
    "my_list.append(11,12)    # append"
   ]
  },
  {
   "cell_type": "code",
   "execution_count": 48,
   "id": "7aae1231",
   "metadata": {},
   "outputs": [
    {
     "data": {
      "text/plain": [
       "[1, 2, 3, 4, 'File']"
      ]
     },
     "execution_count": 48,
     "metadata": {},
     "output_type": "execute_result"
    }
   ],
   "source": [
    "my_list"
   ]
  },
  {
   "cell_type": "code",
   "execution_count": 52,
   "id": "aede8a2e",
   "metadata": {},
   "outputs": [
    {
     "name": "stdout",
     "output_type": "stream",
     "text": [
      "[1, 2, 3]\n"
     ]
    }
   ],
   "source": [
    "# Creating an empty list and appending elements to it\n",
    "my_list = []\n",
    "my_list.append(1)\n",
    "my_list.append(2)\n",
    "my_list.append(3)\n",
    "print(my_list)  # Output: [1, 2, 3]\n"
   ]
  },
  {
   "cell_type": "code",
   "execution_count": 53,
   "id": "f7167ae9",
   "metadata": {},
   "outputs": [
    {
     "name": "stdout",
     "output_type": "stream",
     "text": [
      "[1, 2, 3, [4, 5, 6]]\n"
     ]
    }
   ],
   "source": [
    "# Appending a list to another list\n",
    "my_list = [1, 2, 3]\n",
    "other_list = [4, 5, 6]\n",
    "my_list.append(other_list)\n",
    "print(my_list)  # Output: [1, 2, 3, [4, 5, 6]]\n"
   ]
  },
  {
   "cell_type": "code",
   "execution_count": 54,
   "id": "8453699f",
   "metadata": {},
   "outputs": [
    {
     "name": "stdout",
     "output_type": "stream",
     "text": [
      "[1, 2, 3, 4, 5]\n"
     ]
    }
   ],
   "source": [
    "# Appending multiple elements to a list\n",
    "my_list = [1, 2, 3]\n",
    "my_list.append(4)\n",
    "my_list.append(5)\n",
    "print(my_list)  # Output: [1, 2, 3, 4, 5]\n"
   ]
  },
  {
   "cell_type": "code",
   "execution_count": 55,
   "id": "41e8ac28",
   "metadata": {},
   "outputs": [
    {
     "name": "stdout",
     "output_type": "stream",
     "text": [
      "[0, 1, 2, 3, 4]\n"
     ]
    }
   ],
   "source": [
    "# Appending elements to a list using a loop\n",
    "my_list = []\n",
    "for i in range(5):\n",
    "    my_list.append(i)\n",
    "print(my_list)  # Output: [0, 1, 2, 3, 4]\n"
   ]
  },
  {
   "cell_type": "markdown",
   "id": "4e78be55",
   "metadata": {},
   "source": [
    "# Remove"
   ]
  },
  {
   "cell_type": "markdown",
   "id": "457a9e64",
   "metadata": {},
   "source": [
    "remove() function in Python is used to remove the first occurrence of a specified value from a list."
   ]
  },
  {
   "cell_type": "code",
   "execution_count": 50,
   "id": "8e4560f1",
   "metadata": {},
   "outputs": [
    {
     "name": "stdout",
     "output_type": "stream",
     "text": [
      "[1, 2, 4, 3]\n"
     ]
    }
   ],
   "source": [
    "my_list = [1, 2, 3, 4, 3]\n",
    "my_list.remove(3)  # Removes the first occurrence of 3 from the list\n",
    "print(my_list)  # Output: [1, 2, 4, 3]"
   ]
  },
  {
   "cell_type": "markdown",
   "id": "3001d318",
   "metadata": {},
   "source": [
    "remove(3) removes the first occurrence of the value 3 from my_list. After removal, the list becomes [1, 2, 4, 3]. If the specified value is not found in the list, a ValueError will be raised."
   ]
  },
  {
   "cell_type": "code",
   "execution_count": 56,
   "id": "ae730014",
   "metadata": {},
   "outputs": [
    {
     "name": "stdout",
     "output_type": "stream",
     "text": [
      "['apple', 'orange', 'banana']\n"
     ]
    }
   ],
   "source": [
    "# Removing a specific string from a list of strings\n",
    "my_list = ['apple', 'banana', 'orange', 'banana']\n",
    "my_list.remove('banana')  # Removes the first occurrence of 'banana'\n",
    "print(my_list)  # Output: ['apple', 'orange', 'banana']\n"
   ]
  },
  {
   "cell_type": "code",
   "execution_count": 57,
   "id": "0ba466dd",
   "metadata": {},
   "outputs": [
    {
     "name": "stdout",
     "output_type": "stream",
     "text": [
      "[(3, 4), (5, 6), (1, 2)]\n"
     ]
    }
   ],
   "source": [
    "# Removing a specific tuple from a list of tuples\n",
    "my_list = [(1, 2), (3, 4), (5, 6), (1, 2)]\n",
    "my_list.remove((1, 2))  # Removes the first occurrence of (1, 2)\n",
    "print(my_list)  # Output: [(3, 4), (5, 6), (1, 2)]\n"
   ]
  },
  {
   "cell_type": "code",
   "execution_count": 58,
   "id": "88ac0e9a",
   "metadata": {},
   "outputs": [
    {
     "name": "stdout",
     "output_type": "stream",
     "text": [
      "[1, 3, 4]\n"
     ]
    }
   ],
   "source": [
    "# Removing multiple occurrences of a value using a loop\n",
    "my_list = [1, 2, 3, 2, 4, 2]\n",
    "while 2 in my_list:\n",
    "    my_list.remove(2)  # Removes all occurrences of 2\n",
    "print(my_list)  # Output: [1, 3, 4]\n"
   ]
  },
  {
   "cell_type": "code",
   "execution_count": 59,
   "id": "d5328221",
   "metadata": {},
   "outputs": [
    {
     "name": "stdout",
     "output_type": "stream",
     "text": [
      "[20, 13.34, 'heart', (3+4j), 'entity', 43, 445.5, 'soul', False]\n"
     ]
    }
   ],
   "source": [
    "print(l)"
   ]
  },
  {
   "cell_type": "code",
   "execution_count": 60,
   "id": "168be479",
   "metadata": {},
   "outputs": [],
   "source": [
    "l.remove(43)"
   ]
  },
  {
   "cell_type": "code",
   "execution_count": 61,
   "id": "8da9f09b",
   "metadata": {},
   "outputs": [
    {
     "name": "stdout",
     "output_type": "stream",
     "text": [
      "[20, 13.34, 'heart', (3+4j), 'entity', 445.5, 'soul', False]\n"
     ]
    }
   ],
   "source": [
    "print(l)"
   ]
  },
  {
   "cell_type": "code",
   "execution_count": 62,
   "id": "4df47108",
   "metadata": {},
   "outputs": [
    {
     "ename": "TypeError",
     "evalue": "list.remove() takes exactly one argument (2 given)",
     "output_type": "error",
     "traceback": [
      "\u001b[1;31m---------------------------------------------------------------------------\u001b[0m",
      "\u001b[1;31mTypeError\u001b[0m                                 Traceback (most recent call last)",
      "Cell \u001b[1;32mIn[62], line 1\u001b[0m\n\u001b[1;32m----> 1\u001b[0m \u001b[43ml\u001b[49m\u001b[38;5;241;43m.\u001b[39;49m\u001b[43mremove\u001b[49m\u001b[43m(\u001b[49m\u001b[38;5;241;43m7\u001b[39;49m\u001b[43m,\u001b[49m\u001b[38;5;241;43m3\u001b[39;49m\u001b[43m)\u001b[49m\n",
      "\u001b[1;31mTypeError\u001b[0m: list.remove() takes exactly one argument (2 given)"
     ]
    }
   ],
   "source": [
    "l.remove(7,3)"
   ]
  },
  {
   "cell_type": "markdown",
   "id": "0bf22eee",
   "metadata": {},
   "source": [
    "# Insert"
   ]
  },
  {
   "cell_type": "markdown",
   "id": "319aa0e0",
   "metadata": {},
   "source": [
    "The insert() function in Python is used to insert an element at a specified index in a list."
   ]
  },
  {
   "cell_type": "code",
   "execution_count": 63,
   "id": "e88bb217",
   "metadata": {},
   "outputs": [
    {
     "name": "stdout",
     "output_type": "stream",
     "text": [
      "[1, 2, 5, 3, 4]\n"
     ]
    }
   ],
   "source": [
    "# Example\n",
    "my_list = [1, 2, 3, 4]\n",
    "my_list.insert(2, 5)  # Insert 5 at index 2\n",
    "print(my_list)  # Output: [1, 2, 5, 3, 4]\n"
   ]
  },
  {
   "cell_type": "code",
   "execution_count": 64,
   "id": "a5161e17",
   "metadata": {},
   "outputs": [],
   "source": [
    "my_list.insert(3,33)"
   ]
  },
  {
   "cell_type": "code",
   "execution_count": 65,
   "id": "cbce9ce5",
   "metadata": {},
   "outputs": [
    {
     "data": {
      "text/plain": [
       "[1, 2, 5, 33, 3, 4]"
      ]
     },
     "execution_count": 65,
     "metadata": {},
     "output_type": "execute_result"
    }
   ],
   "source": [
    "my_list"
   ]
  },
  {
   "cell_type": "code",
   "execution_count": 66,
   "id": "7e4db61e",
   "metadata": {},
   "outputs": [],
   "source": [
    "my_list.insert(1,20) # index of the list and second is the value"
   ]
  },
  {
   "cell_type": "code",
   "execution_count": 67,
   "id": "aadade7a",
   "metadata": {},
   "outputs": [
    {
     "name": "stdout",
     "output_type": "stream",
     "text": [
      "[1, 20, 2, 5, 33, 3, 4]\n"
     ]
    }
   ],
   "source": [
    "print(my_list)"
   ]
  },
  {
   "cell_type": "code",
   "execution_count": 68,
   "id": "2bda67e5",
   "metadata": {},
   "outputs": [
    {
     "data": {
      "text/plain": [
       "[1, 20, 2, 5, 33, 3, 4]"
      ]
     },
     "execution_count": 68,
     "metadata": {},
     "output_type": "execute_result"
    }
   ],
   "source": [
    "my_list"
   ]
  },
  {
   "cell_type": "code",
   "execution_count": 69,
   "id": "719ded75",
   "metadata": {},
   "outputs": [],
   "source": [
    "k=[1,2,34,5,7,7]"
   ]
  },
  {
   "cell_type": "code",
   "execution_count": 70,
   "id": "d0166174",
   "metadata": {},
   "outputs": [],
   "source": [
    "k.insert(9,11)"
   ]
  },
  {
   "cell_type": "code",
   "execution_count": 71,
   "id": "b5083276",
   "metadata": {},
   "outputs": [
    {
     "name": "stdout",
     "output_type": "stream",
     "text": [
      "[1, 2, 34, 5, 7, 7, 11]\n"
     ]
    }
   ],
   "source": [
    "print(k)"
   ]
  },
  {
   "cell_type": "code",
   "execution_count": 72,
   "id": "23a53f50",
   "metadata": {},
   "outputs": [
    {
     "ename": "TypeError",
     "evalue": "insert expected 2 arguments, got 4",
     "output_type": "error",
     "traceback": [
      "\u001b[1;31m---------------------------------------------------------------------------\u001b[0m",
      "\u001b[1;31mTypeError\u001b[0m                                 Traceback (most recent call last)",
      "Cell \u001b[1;32mIn[72], line 1\u001b[0m\n\u001b[1;32m----> 1\u001b[0m \u001b[43mk\u001b[49m\u001b[38;5;241;43m.\u001b[39;49m\u001b[43minsert\u001b[49m\u001b[43m(\u001b[49m\u001b[38;5;241;43m3\u001b[39;49m\u001b[43m,\u001b[49m\u001b[38;5;241;43m77\u001b[39;49m\u001b[43m,\u001b[49m\u001b[38;5;241;43m5\u001b[39;49m\u001b[43m,\u001b[49m\u001b[38;5;241;43m74\u001b[39;49m\u001b[43m)\u001b[49m\n",
      "\u001b[1;31mTypeError\u001b[0m: insert expected 2 arguments, got 4"
     ]
    }
   ],
   "source": [
    "k.insert(3,77,5,74)"
   ]
  },
  {
   "cell_type": "code",
   "execution_count": 73,
   "id": "3a8491c6",
   "metadata": {},
   "outputs": [
    {
     "name": "stdout",
     "output_type": "stream",
     "text": [
      "[1]\n"
     ]
    }
   ],
   "source": [
    "# Inserting an element into an empty list\n",
    "my_list = []\n",
    "my_list.insert(0, 1)  # Insert 1 at index 0\n",
    "print(my_list)  # Output: [1]\n"
   ]
  },
  {
   "cell_type": "code",
   "execution_count": 74,
   "id": "e6496b3e",
   "metadata": {},
   "outputs": [
    {
     "name": "stdout",
     "output_type": "stream",
     "text": [
      "[1, [4, 5], 2, 3]\n"
     ]
    }
   ],
   "source": [
    "# Inserting a list into another list at a specified index\n",
    "my_list = [1, 2, 3]\n",
    "other_list = [4, 5]\n",
    "my_list.insert(1, other_list)  # Insert other_list at index 1\n",
    "print(my_list)  # Output: [1, [4, 5], 2, 3]\n"
   ]
  },
  {
   "cell_type": "code",
   "execution_count": 75,
   "id": "ddcfcf2f",
   "metadata": {},
   "outputs": [
    {
     "name": "stdout",
     "output_type": "stream",
     "text": [
      "[(1, 2), (5, 6), (3, 4)]\n"
     ]
    }
   ],
   "source": [
    "# Inserting elements into a list of tuples\n",
    "my_list = [(1, 2), (3, 4)]\n",
    "my_list.insert(1, (5, 6))  # Insert (5, 6) at index 1\n",
    "print(my_list)  # Output: [(1, 2), (5, 6), (3, 4)]\n"
   ]
  },
  {
   "cell_type": "markdown",
   "id": "bb02f94c",
   "metadata": {},
   "source": [
    "# Clear"
   ]
  },
  {
   "cell_type": "markdown",
   "id": "6dbd0fef",
   "metadata": {},
   "source": [
    "The clear() function in Python is used to remove all elements from a list, leaving it empty. "
   ]
  },
  {
   "cell_type": "code",
   "execution_count": 76,
   "id": "a647f8e0",
   "metadata": {},
   "outputs": [
    {
     "name": "stdout",
     "output_type": "stream",
     "text": [
      "[]\n"
     ]
    }
   ],
   "source": [
    "my_list = [1, 2, 3, 4]\n",
    "my_list.clear()  # Removes all elements from the list\n",
    "print(my_list)  # Output: []\n"
   ]
  },
  {
   "cell_type": "code",
   "execution_count": 77,
   "id": "72fe58f2",
   "metadata": {},
   "outputs": [
    {
     "name": "stdout",
     "output_type": "stream",
     "text": [
      "[]\n"
     ]
    }
   ],
   "source": [
    "# Clearing a list of tuples\n",
    "my_list = [(1, 2), (3, 4), (5, 6)]\n",
    "my_list.clear()  # Removes all elements\n",
    "print(my_list)  # Output: []\n"
   ]
  },
  {
   "cell_type": "code",
   "execution_count": 78,
   "id": "10f5227f",
   "metadata": {},
   "outputs": [
    {
     "name": "stdout",
     "output_type": "stream",
     "text": [
      "[]\n"
     ]
    }
   ],
   "source": [
    "# Clearing a list of lists\n",
    "my_list = [[1, 2], [3, 4], [5, 6]]\n",
    "my_list.clear()  # Removes all elements\n",
    "print(my_list)  # Output: []\n"
   ]
  },
  {
   "cell_type": "markdown",
   "id": "850555b7",
   "metadata": {},
   "source": [
    "# pop(index)"
   ]
  },
  {
   "cell_type": "markdown",
   "id": "efc05c3b",
   "metadata": {},
   "source": [
    "The pop(index) function in Python is used to remove and return the element at the specified index from a list."
   ]
  },
  {
   "cell_type": "code",
   "execution_count": 79,
   "id": "3aa049b0",
   "metadata": {},
   "outputs": [
    {
     "name": "stdout",
     "output_type": "stream",
     "text": [
      "Removed Element: 3\n",
      "List after pop: [1, 2, 4]\n"
     ]
    }
   ],
   "source": [
    "my_list = [1, 2, 3, 4]\n",
    "removed_element = my_list.pop(2)  # Removes the element at index 2 (value: 3)\n",
    "print(\"Removed Element:\", removed_element)  # Output: 3\n",
    "print(\"List after pop:\", my_list)  # Output: [1, 2, 4]\n"
   ]
  },
  {
   "cell_type": "code",
   "execution_count": 80,
   "id": "d51729ea",
   "metadata": {},
   "outputs": [
    {
     "name": "stdout",
     "output_type": "stream",
     "text": [
      "Removed Element: 1\n",
      "List after pop: [2, 3, 4]\n"
     ]
    }
   ],
   "source": [
    "# Removing and returning the first element from a list\n",
    "my_list = [1, 2, 3, 4]\n",
    "removed_element = my_list.pop(0)  # Removes and returns the first element (value: 1)\n",
    "print(\"Removed Element:\", removed_element)  # Output: 1\n",
    "print(\"List after pop:\", my_list)  # Output: [2, 3, 4]\n"
   ]
  },
  {
   "cell_type": "code",
   "execution_count": 81,
   "id": "88d091ab",
   "metadata": {},
   "outputs": [
    {
     "name": "stdout",
     "output_type": "stream",
     "text": [
      "Removed Element: 3\n",
      "List after pop: [1, 2, 4]\n"
     ]
    }
   ],
   "source": [
    "# Using negative index for removing and returning elements from the end of the list\n",
    "my_list = [1, 2, 3, 4]\n",
    "removed_element = my_list.pop(-2)  # Removes and returns the second-last element (value: 3)\n",
    "print(\"Removed Element:\", removed_element)  # Output: 3\n",
    "print(\"List after pop:\", my_list)  # Output: [1, 2, 4]\n"
   ]
  },
  {
   "cell_type": "code",
   "execution_count": 83,
   "id": "a94be6cb",
   "metadata": {},
   "outputs": [
    {
     "ename": "TypeError",
     "evalue": "pop expected at most 1 argument, got 2",
     "output_type": "error",
     "traceback": [
      "\u001b[1;31m---------------------------------------------------------------------------\u001b[0m",
      "\u001b[1;31mTypeError\u001b[0m                                 Traceback (most recent call last)",
      "Cell \u001b[1;32mIn[83], line 1\u001b[0m\n\u001b[1;32m----> 1\u001b[0m \u001b[43mmy_list\u001b[49m\u001b[38;5;241;43m.\u001b[39;49m\u001b[43mpop\u001b[49m\u001b[43m(\u001b[49m\u001b[38;5;241;43m2\u001b[39;49m\u001b[43m,\u001b[49m\u001b[38;5;241;43m3\u001b[39;49m\u001b[43m)\u001b[49m\n",
      "\u001b[1;31mTypeError\u001b[0m: pop expected at most 1 argument, got 2"
     ]
    }
   ],
   "source": [
    "my_list.pop(2,3)"
   ]
  },
  {
   "cell_type": "markdown",
   "id": "bdb77b93",
   "metadata": {},
   "source": [
    "# pop()"
   ]
  },
  {
   "cell_type": "markdown",
   "id": "f3bc5e3a",
   "metadata": {},
   "source": [
    "The pop() function in Python is used to remove and return the last element from a list."
   ]
  },
  {
   "cell_type": "code",
   "execution_count": 85,
   "id": "1d196626",
   "metadata": {},
   "outputs": [
    {
     "name": "stdout",
     "output_type": "stream",
     "text": [
      "Removed Element: 4\n",
      "List after pop: [1, 2, 3]\n"
     ]
    }
   ],
   "source": [
    "my_list = [1, 2, 3, 4]\n",
    "removed_element = my_list.pop()  # Removes and returns the last element (value: 4)\n",
    "print(\"Removed Element:\", removed_element)  # Output: 4\n",
    "print(\"List after pop:\", my_list)  # Output: [1, 2, 3]\n"
   ]
  },
  {
   "cell_type": "code",
   "execution_count": 86,
   "id": "b00fda5b",
   "metadata": {},
   "outputs": [
    {
     "name": "stdout",
     "output_type": "stream",
     "text": [
      "Removed Element: 4\n",
      "Removed Element: 3\n",
      "Removed Element: 2\n",
      "Removed Element: 1\n"
     ]
    }
   ],
   "source": [
    "# Using pop() in a loop to remove and print elements one by one\n",
    "my_list = [1, 2, 3, 4]\n",
    "while my_list:\n",
    "    print(\"Removed Element:\", my_list.pop())\n"
   ]
  },
  {
   "cell_type": "code",
   "execution_count": 87,
   "id": "c731a925",
   "metadata": {},
   "outputs": [
    {
     "name": "stdout",
     "output_type": "stream",
     "text": [
      "List after pop: [1, 2, 3]\n"
     ]
    }
   ],
   "source": [
    "# Removing the last element without assigning it to a variable\n",
    "my_list = [1, 2, 3, 4]\n",
    "my_list.pop()  # Removes the last element (4), but doesn't store it\n",
    "print(\"List after pop:\", my_list)  # Output: [1, 2, 3]\n"
   ]
  },
  {
   "cell_type": "code",
   "execution_count": 88,
   "id": "01513c2c",
   "metadata": {},
   "outputs": [
    {
     "name": "stdout",
     "output_type": "stream",
     "text": [
      "List after pop: [1, 2]\n"
     ]
    }
   ],
   "source": [
    "my_list.pop()  # Removes the last element (3), but doesn't store it\n",
    "print(\"List after pop:\", my_list)  # Output: [1, 2]"
   ]
  },
  {
   "cell_type": "code",
   "execution_count": 89,
   "id": "c0f888d3",
   "metadata": {},
   "outputs": [
    {
     "name": "stdout",
     "output_type": "stream",
     "text": [
      "List after pop: [1]\n"
     ]
    }
   ],
   "source": [
    "my_list.pop()  # Removes the last element (2), but doesn't store it\n",
    "print(\"List after pop:\", my_list)  # Output: [1]"
   ]
  },
  {
   "cell_type": "code",
   "execution_count": 90,
   "id": "78b67860",
   "metadata": {},
   "outputs": [
    {
     "name": "stdout",
     "output_type": "stream",
     "text": [
      "List after pop: []\n"
     ]
    }
   ],
   "source": [
    "my_list.pop()  # Removes the last element (1), but doesn't store it\n",
    "print(\"List after pop:\", my_list)  # Output: []"
   ]
  },
  {
   "cell_type": "code",
   "execution_count": 91,
   "id": "c01f5123",
   "metadata": {},
   "outputs": [
    {
     "name": "stdout",
     "output_type": "stream",
     "text": [
      "New List: [4, 3, 2, 1]\n",
      "Original List: []\n"
     ]
    }
   ],
   "source": [
    "# Using pop() inside list comprehension to create a new list\n",
    "my_list = [1, 2, 3, 4]\n",
    "new_list = [my_list.pop() for _ in range(len(my_list))]\n",
    "print(\"New List:\", new_list)  # Output: [4, 3, 2, 1]\n",
    "print(\"Original List:\", my_list)  # Output: []\n"
   ]
  },
  {
   "cell_type": "markdown",
   "id": "0f8b5812",
   "metadata": {},
   "source": [
    "# del"
   ]
  },
  {
   "cell_type": "markdown",
   "id": "4bc09c89",
   "metadata": {},
   "source": [
    "The del statement in Python is used to remove an element from a list, or to remove a variable or slice from memory. "
   ]
  },
  {
   "cell_type": "code",
   "execution_count": 93,
   "id": "b5f1f3cf",
   "metadata": {},
   "outputs": [
    {
     "name": "stdout",
     "output_type": "stream",
     "text": [
      "List after deletion: [1, 2, 4]\n"
     ]
    }
   ],
   "source": [
    "my_list = [1, 2, 3, 4]\n",
    "del my_list[2]  # Removes the element at index 2 (value: 3)\n",
    "print(\"List after deletion:\", my_list)  # Output: [1, 2, 4]"
   ]
  },
  {
   "cell_type": "code",
   "execution_count": 94,
   "id": "7096b1b7",
   "metadata": {},
   "outputs": [
    {
     "name": "stdout",
     "output_type": "stream",
     "text": [
      "List after deletion: [1, 4, 5]\n"
     ]
    }
   ],
   "source": [
    "# Deleting a slice of a list\n",
    "my_list = [1, 2, 3, 4, 5]\n",
    "del my_list[1:3]  # Deletes elements from index 1 to 2 (excluding 3)\n",
    "print(\"List after deletion:\", my_list)  # Output: [1, 4, 5]\n"
   ]
  },
  {
   "cell_type": "code",
   "execution_count": 95,
   "id": "a23628c2",
   "metadata": {},
   "outputs": [],
   "source": [
    "# Deleting the entire list\n",
    "my_list = [1, 2, 3, 4]\n",
    "del my_list\n",
    "# The list is completely deleted, attempting to print it will raise a NameError\n"
   ]
  },
  {
   "cell_type": "code",
   "execution_count": 96,
   "id": "2da356fd",
   "metadata": {},
   "outputs": [
    {
     "ename": "NameError",
     "evalue": "name 'my_list' is not defined",
     "output_type": "error",
     "traceback": [
      "\u001b[1;31m---------------------------------------------------------------------------\u001b[0m",
      "\u001b[1;31mNameError\u001b[0m                                 Traceback (most recent call last)",
      "Cell \u001b[1;32mIn[96], line 1\u001b[0m\n\u001b[1;32m----> 1\u001b[0m \u001b[38;5;28mprint\u001b[39m(\u001b[43mmy_list\u001b[49m)\n",
      "\u001b[1;31mNameError\u001b[0m: name 'my_list' is not defined"
     ]
    }
   ],
   "source": [
    "print(my_list)"
   ]
  },
  {
   "cell_type": "code",
   "execution_count": 97,
   "id": "67c3bfbf",
   "metadata": {},
   "outputs": [
    {
     "name": "stdout",
     "output_type": "stream",
     "text": [
      "List after deletion: [1, 2, 3]\n"
     ]
    }
   ],
   "source": [
    "# Deleting elements using negative index\n",
    "my_list = [1, 2, 3, 4, 5]\n",
    "del my_list[-2:]  # Deletes last two elements\n",
    "print(\"List after deletion:\", my_list)  # Output: [1, 2, 3]\n"
   ]
  },
  {
   "cell_type": "code",
   "execution_count": 98,
   "id": "509888de",
   "metadata": {},
   "outputs": [
    {
     "name": "stdout",
     "output_type": "stream",
     "text": [
      "List after deletion: [2, 4]\n"
     ]
    }
   ],
   "source": [
    "# Deleting non-contiguous elements from a list\n",
    "my_list = [1, 2, 3, 4, 5]\n",
    "del my_list[::2]  # Deletes elements at even indices\n",
    "print(\"List after deletion:\", my_list)  # Output: [2, 4]\n"
   ]
  },
  {
   "cell_type": "code",
   "execution_count": 99,
   "id": "6a703b8b",
   "metadata": {},
   "outputs": [
    {
     "name": "stdout",
     "output_type": "stream",
     "text": [
      "List after deletion: [1, 5]\n"
     ]
    }
   ],
   "source": [
    "# Deleting multiple elements from a list\n",
    "my_list = [1, 2, 3, 4, 5]\n",
    "del my_list[1:4]  # Deletes elements from index 1 to 3 (excluding 4)\n",
    "print(\"List after deletion:\", my_list)  # Output: [1, 5]\n"
   ]
  },
  {
   "cell_type": "markdown",
   "id": "b1595fa0",
   "metadata": {},
   "source": [
    "# Shallow Copy "
   ]
  },
  {
   "cell_type": "markdown",
   "id": "45a610e0",
   "metadata": {},
   "source": [
    "A shallow copy creates a new object, but instead of copying the elements of the original object, it just copies the references to them. In other words, it creates a new container object, but fills it with references to the original elements. If the original elements are mutable, changes made to them through the shallow copy will reflect in both the original and the shallow copy."
   ]
  },
  {
   "cell_type": "code",
   "execution_count": 101,
   "id": "2e8753ec",
   "metadata": {},
   "outputs": [
    {
     "name": "stdout",
     "output_type": "stream",
     "text": [
      "[1, 2, 34, 5, 34, 332, 55, 33, 66, 33555, 33, 32] 2279161805568\n",
      "[1, 2, 34, 5, 34, 332, 55, 33, 66, 33555, 33, 32] 2279162731456\n"
     ]
    }
   ],
   "source": [
    "a=[1,2,34,5,34,332,55,33,66,33555,33,32]\n",
    "\n",
    "print(a,id(a))\n",
    "\n",
    "b=a.copy()     #shallow copy\n",
    "\n",
    "\n",
    "print(b,id(b))"
   ]
  },
  {
   "cell_type": "markdown",
   "id": "22563e88",
   "metadata": {},
   "source": [
    "# Deep Copy"
   ]
  },
  {
   "cell_type": "markdown",
   "id": "a60c37ed",
   "metadata": {},
   "source": [
    "A deep copy, on the other hand, creates a new object and recursively copies the elements within it. It means it creates an entirely new container object and recursively inserts copies of the original elements. Therefore, changes made to the elements of the deep copy won't reflect in the original object."
   ]
  },
  {
   "cell_type": "code",
   "execution_count": 104,
   "id": "ee4d9e7d",
   "metadata": {},
   "outputs": [],
   "source": [
    "c=a  #deep copy"
   ]
  },
  {
   "cell_type": "code",
   "execution_count": 105,
   "id": "96a5729e",
   "metadata": {},
   "outputs": [
    {
     "name": "stdout",
     "output_type": "stream",
     "text": [
      "[1, 2, 34, 5, 34, 332, 55, 33, 66, 33555, 33, 32] 2279161805568\n",
      "[1, 2, 34, 5, 34, 332, 55, 33, 66, 33555, 33, 32] 2279161805568\n"
     ]
    }
   ],
   "source": [
    "print(a,id(a))\n",
    "print(c,id(c))"
   ]
  },
  {
   "cell_type": "code",
   "execution_count": 106,
   "id": "1f583a15",
   "metadata": {},
   "outputs": [],
   "source": [
    "a.append(99)"
   ]
  },
  {
   "cell_type": "code",
   "execution_count": 107,
   "id": "a6022add",
   "metadata": {},
   "outputs": [
    {
     "name": "stdout",
     "output_type": "stream",
     "text": [
      "[1, 2, 34, 5, 34, 332, 55, 33, 66, 33555, 33, 32, 99]\n",
      "[1, 2, 34, 5, 34, 332, 55, 33, 66, 33555, 33, 32, 99]\n"
     ]
    }
   ],
   "source": [
    "print(a)\n",
    "print(c)"
   ]
  },
  {
   "cell_type": "code",
   "execution_count": 108,
   "id": "3fa279f4",
   "metadata": {},
   "outputs": [],
   "source": [
    "b.append(109)"
   ]
  },
  {
   "cell_type": "code",
   "execution_count": 109,
   "id": "92737f51",
   "metadata": {},
   "outputs": [],
   "source": [
    "c.append(119)"
   ]
  },
  {
   "cell_type": "code",
   "execution_count": 111,
   "id": "eaa941c4",
   "metadata": {},
   "outputs": [
    {
     "name": "stdout",
     "output_type": "stream",
     "text": [
      "[1, 2, 34, 5, 34, 332, 55, 33, 66, 33555, 33, 32, 99, 119] 2279161805568\n",
      "[1, 2, 34, 5, 34, 332, 55, 33, 66, 33555, 33, 32, 109] 2279162731456\n",
      "[1, 2, 34, 5, 34, 332, 55, 33, 66, 33555, 33, 32, 99, 119] 2279161805568\n"
     ]
    }
   ],
   "source": [
    "print(a,id(a))\n",
    "print(b,id(b))\n",
    "print(c,id(c))"
   ]
  },
  {
   "cell_type": "markdown",
   "id": "7173c547",
   "metadata": {},
   "source": [
    "# Index"
   ]
  },
  {
   "cell_type": "markdown",
   "id": "d4505be1",
   "metadata": {},
   "source": [
    "The index() function in Python is used to find the index of the first occurrence of a specified element in a list."
   ]
  },
  {
   "cell_type": "markdown",
   "id": "5e81dd30",
   "metadata": {},
   "source": [
    "<b>Syntax:</b>\n",
    "\n",
    "list.index(element, start, end)\n",
    "\n",
    "<b>element:</b> The element to search for in the list.\n",
    "\n",
    "<b>start (optional):</b> The index in the list at which the search starts. If not specified, the search starts from index 0.\n",
    "\n",
    "<b>end (optional):</b> The index in the list at which the search ends. If not specified, the search extends to the end of the list."
   ]
  },
  {
   "cell_type": "code",
   "execution_count": 113,
   "id": "a5b703a1",
   "metadata": {},
   "outputs": [
    {
     "name": "stdout",
     "output_type": "stream",
     "text": [
      "Index of first occurrence of 20: 1\n"
     ]
    }
   ],
   "source": [
    "my_list = [10, 20, 30, 40, 20]\n",
    "index = my_list.index(20)\n",
    "print(\"Index of first occurrence of 20:\", index)  # Output: 1\n"
   ]
  },
  {
   "cell_type": "code",
   "execution_count": 114,
   "id": "504c03d6",
   "metadata": {},
   "outputs": [
    {
     "name": "stdout",
     "output_type": "stream",
     "text": [
      "Index of 20 within range: 4\n"
     ]
    }
   ],
   "source": [
    "# Finding the index of an element within a specified range\n",
    "my_list = [10, 20, 30, 40, 20]\n",
    "index = my_list.index(20, 2, 5)  # Search for 20 starting from index 2 up to index 4 (inclusive)\n",
    "print(\"Index of 20 within range:\", index)  # Output: 4\n"
   ]
  },
  {
   "cell_type": "code",
   "execution_count": 115,
   "id": "93b88ea6",
   "metadata": {},
   "outputs": [
    {
     "name": "stdout",
     "output_type": "stream",
     "text": [
      "Index of first occurrence of 'banana': 1\n"
     ]
    }
   ],
   "source": [
    "# Finding the index of a string in a list of strings\n",
    "my_list = [\"apple\", \"banana\", \"orange\", \"banana\"]\n",
    "index = my_list.index(\"banana\")\n",
    "print(\"Index of first occurrence of 'banana':\", index)  # Output: 1\n"
   ]
  },
  {
   "cell_type": "code",
   "execution_count": 1,
   "id": "2208aad3",
   "metadata": {
    "scrolled": true
   },
   "outputs": [
    {
     "name": "stdout",
     "output_type": "stream",
     "text": [
      "Index of 10: 0\n",
      "Index of 20: 1\n",
      "Index of 30: 2\n",
      "Index of 40: 3\n",
      "Index of 20: 1\n"
     ]
    }
   ],
   "source": [
    "# Finding index of each element in a list using a loop\n",
    "my_list = [10, 20, 30, 40, 20]\n",
    "for element in my_list:\n",
    "    index = my_list.index(element)\n",
    "    print(f\"Index of {element}:\", index)\n"
   ]
  },
  {
   "cell_type": "markdown",
   "id": "6f8f92e6",
   "metadata": {},
   "source": [
    "# count"
   ]
  },
  {
   "cell_type": "markdown",
   "id": "338d20a9",
   "metadata": {},
   "source": [
    "The count() function in Python is used to count the number of occurrences of a specified element in a list.\n",
    "\n",
    "<b>Syntax:</b>\n",
    "\n",
    "list.count(element)\n",
    "\n",
    "<b>list:</b> The list in which you want to count the occurrences of the specified element.\n",
    "\n",
    "<b>element:</b> The element whose occurrences you want to count in the list."
   ]
  },
  {
   "cell_type": "code",
   "execution_count": 2,
   "id": "c1352acb",
   "metadata": {},
   "outputs": [
    {
     "name": "stdout",
     "output_type": "stream",
     "text": [
      "Number of occurrences of 2: 3\n"
     ]
    }
   ],
   "source": [
    "my_list = [1, 2, 3, 4, 2, 2, 5]\n",
    "count = my_list.count(2)\n",
    "print(\"Number of occurrences of 2:\", count)  # Output: 3\n"
   ]
  },
  {
   "cell_type": "code",
   "execution_count": 3,
   "id": "2aca1c62",
   "metadata": {},
   "outputs": [
    {
     "name": "stdout",
     "output_type": "stream",
     "text": [
      "Number of occurrences of 'apple': 3\n"
     ]
    }
   ],
   "source": [
    "my_list = ['apple', 'banana', 'apple', 'orange', 'apple']\n",
    "count = my_list.count('apple')\n",
    "print(\"Number of occurrences of 'apple':\", count)  # Output: 3\n"
   ]
  },
  {
   "cell_type": "code",
   "execution_count": 4,
   "id": "ebb01acd",
   "metadata": {},
   "outputs": [
    {
     "name": "stdout",
     "output_type": "stream",
     "text": [
      "Number of occurrences of (1, 2): 2\n"
     ]
    }
   ],
   "source": [
    "# Counting occurrences of a tuple in a list\n",
    "my_list = [(1, 2), (2, 3), (1, 2), (4, 5)]\n",
    "count = my_list.count((1, 2))\n",
    "print(\"Number of occurrences of (1, 2):\", count)  # Output: 2\n"
   ]
  },
  {
   "cell_type": "code",
   "execution_count": 5,
   "id": "25b50cce",
   "metadata": {},
   "outputs": [
    {
     "name": "stdout",
     "output_type": "stream",
     "text": [
      "Number of occurrences of True: 3\n"
     ]
    }
   ],
   "source": [
    "# Counting occurrences of a boolean in a list\n",
    "my_list = [True, False, True, True, False]\n",
    "count = my_list.count(True)\n",
    "print(\"Number of occurrences of True:\", count)  # Output: 3\n"
   ]
  },
  {
   "cell_type": "code",
   "execution_count": 6,
   "id": "a36cb34d",
   "metadata": {},
   "outputs": [
    {
     "name": "stdout",
     "output_type": "stream",
     "text": [
      "Number of occurrences of None: 3\n"
     ]
    }
   ],
   "source": [
    "# Counting occurrences of None in a list\n",
    "my_list = [None, 'apple', None, 'orange', None]\n",
    "count = my_list.count(None)\n",
    "print(\"Number of occurrences of None:\", count)  # Output: 3\n"
   ]
  },
  {
   "cell_type": "markdown",
   "id": "6cf186ec",
   "metadata": {},
   "source": [
    "# Extend"
   ]
  },
  {
   "cell_type": "markdown",
   "id": "de375bfb",
   "metadata": {},
   "source": [
    "The extend() function in Python is used to add elements from one list to the end of another list.\n",
    "\n",
    "<b>Syntax:</b>\n",
    "\n",
    "list1.extend(iterable)\n",
    "\n",
    "<b>list1:</b> The list to which you want to add elements.\n",
    "\n",
    "<b>iterable:</b> An iterable object (typically another list) containing elements to be added to list1."
   ]
  },
  {
   "cell_type": "code",
   "execution_count": 7,
   "id": "d057e1f2",
   "metadata": {},
   "outputs": [
    {
     "name": "stdout",
     "output_type": "stream",
     "text": [
      "Extended List: [1, 2, 3, 4, 5, 6]\n"
     ]
    }
   ],
   "source": [
    "list1 = [1, 2, 3]\n",
    "list2 = [4, 5, 6]\n",
    "list1.extend(list2)\n",
    "print(\"Extended List:\", list1)  # Output: [1, 2, 3, 4, 5, 6]\n"
   ]
  },
  {
   "cell_type": "code",
   "execution_count": 8,
   "id": "62d410ba",
   "metadata": {},
   "outputs": [
    {
     "name": "stdout",
     "output_type": "stream",
     "text": [
      "Extended List: [1, 2, 3, 4, 5, 6]\n"
     ]
    }
   ],
   "source": [
    "# Extending a list with elements from a tuple\n",
    "list1 = [1, 2, 3]\n",
    "tuple1 = (4, 5, 6)\n",
    "list1.extend(tuple1)\n",
    "print(\"Extended List:\", list1)  # Output: [1, 2, 3, 4, 5, 6]\n"
   ]
  },
  {
   "cell_type": "code",
   "execution_count": 9,
   "id": "6bc84ef2",
   "metadata": {},
   "outputs": [
    {
     "name": "stdout",
     "output_type": "stream",
     "text": [
      "Extended List: ['a', 'b', 'c', 'd', 'e', 'f']\n"
     ]
    }
   ],
   "source": [
    "# Extending a list with characters from a string\n",
    "list1 = ['a', 'b', 'c']\n",
    "string1 = 'def'\n",
    "list1.extend(string1)\n",
    "print(\"Extended List:\", list1)  # Output: ['a', 'b', 'c', 'd', 'e', 'f']\n"
   ]
  },
  {
   "cell_type": "code",
   "execution_count": 10,
   "id": "113a809e",
   "metadata": {},
   "outputs": [
    {
     "name": "stdout",
     "output_type": "stream",
     "text": [
      "Extended List: [1, 2, 3, [4, 5], [6, 7]]\n"
     ]
    }
   ],
   "source": [
    "# Extending a list with elements from a nested list\n",
    "list1 = [1, 2, 3]\n",
    "nested_list = [[4, 5], [6, 7]]\n",
    "list1.extend(nested_list)\n",
    "print(\"Extended List:\", list1)  # Output: [1, 2, 3, [4, 5], [6, 7]]\n"
   ]
  },
  {
   "cell_type": "markdown",
   "id": "cfe092f6",
   "metadata": {},
   "source": [
    "# pop(index)"
   ]
  },
  {
   "cell_type": "markdown",
   "id": "2ba4f85d",
   "metadata": {},
   "source": [
    "The pop(index) function in Python is used to remove and return the element at the specified index from a list.\n",
    "\n",
    "<b>Syntax:</b>\n",
    "\n",
    "list.pop(index)\n",
    "\n",
    "<b>list:</b> The list from which you want to remove an element.\n",
    "\n",
    "<b>index:</b> The index of the element you want to remove. If not specified, it removes and returns the last element."
   ]
  },
  {
   "cell_type": "code",
   "execution_count": 11,
   "id": "3b4a3325",
   "metadata": {},
   "outputs": [
    {
     "name": "stdout",
     "output_type": "stream",
     "text": [
      "Removed Element: 3\n",
      "List after pop: [1, 2, 4, 5]\n"
     ]
    }
   ],
   "source": [
    "# Removing element at a specific index\n",
    "my_list = [1, 2, 3, 4, 5]\n",
    "removed_element = my_list.pop(2)\n",
    "print(\"Removed Element:\", removed_element)  # Output: 3\n",
    "print(\"List after pop:\", my_list)  # Output: [1, 2, 4, 5]\n"
   ]
  },
  {
   "cell_type": "code",
   "execution_count": 12,
   "id": "632c0b45",
   "metadata": {},
   "outputs": [
    {
     "name": "stdout",
     "output_type": "stream",
     "text": [
      "Removed Element: 1\n",
      "List after pop: [2, 3, 4, 5]\n"
     ]
    }
   ],
   "source": [
    "# Removing the first element\n",
    "my_list = [1, 2, 3, 4, 5]\n",
    "removed_element = my_list.pop(0)\n",
    "print(\"Removed Element:\", removed_element)  # Output: 1\n",
    "print(\"List after pop:\", my_list)  # Output: [2, 3, 4, 5]\n"
   ]
  },
  {
   "cell_type": "code",
   "execution_count": 13,
   "id": "edb5d64d",
   "metadata": {},
   "outputs": [
    {
     "name": "stdout",
     "output_type": "stream",
     "text": [
      "Removed Element: 4\n",
      "List after pop: [1, 2, 3, 5]\n"
     ]
    }
   ],
   "source": [
    "# Removing element using negative index\n",
    "my_list = [1, 2, 3, 4, 5]\n",
    "removed_element = my_list.pop(-2)\n",
    "print(\"Removed Element:\", removed_element)  # Output: 4\n",
    "print(\"List after pop:\", my_list)  # Output: [1, 2, 3, 5]\n"
   ]
  },
  {
   "cell_type": "code",
   "execution_count": 14,
   "id": "795eb91a",
   "metadata": {},
   "outputs": [
    {
     "name": "stdout",
     "output_type": "stream",
     "text": [
      "Removed Element: [3, 4]\n",
      "List after pop: [[1, 2], [5, 6]]\n"
     ]
    }
   ],
   "source": [
    "# Removing element from a nested list\n",
    "my_list = [[1, 2], [3, 4], [5, 6]]\n",
    "removed_element = my_list.pop(1)\n",
    "print(\"Removed Element:\", removed_element)  # Output: [3, 4]\n",
    "print(\"List after pop:\", my_list)  # Output: [[1, 2], [5, 6]]\n"
   ]
  },
  {
   "cell_type": "markdown",
   "id": "5942a3d4",
   "metadata": {},
   "source": [
    "# pop()"
   ]
  },
  {
   "cell_type": "markdown",
   "id": "7bcd7826",
   "metadata": {},
   "source": [
    "The pop() function in Python is used to remove and return the last element from a list.\n",
    "\n",
    "<b>Syntax:</b>\n",
    "\n",
    "list.pop()\n",
    "\n",
    "<b>list:</b> The list from which you want to remove an element."
   ]
  },
  {
   "cell_type": "code",
   "execution_count": 15,
   "id": "6fa0a58b",
   "metadata": {},
   "outputs": [
    {
     "name": "stdout",
     "output_type": "stream",
     "text": [
      "Removed Element: 5\n",
      "List after pop: [1, 2, 3, 4]\n"
     ]
    }
   ],
   "source": [
    "my_list = [1, 2, 3, 4, 5]\n",
    "removed_element = my_list.pop()\n",
    "print(\"Removed Element:\", removed_element)  # Output: 5\n",
    "print(\"List after pop:\", my_list)  # Output: [1, 2, 3, 4]\n"
   ]
  },
  {
   "cell_type": "code",
   "execution_count": 16,
   "id": "cc2b4db1",
   "metadata": {},
   "outputs": [
    {
     "name": "stdout",
     "output_type": "stream",
     "text": [
      "Last Element: 5\n",
      "Sum without Last Element: 10\n"
     ]
    }
   ],
   "source": [
    "# Using the popped element in a calculation\n",
    "my_list = [1, 2, 3, 4, 5]\n",
    "last_element = my_list.pop()\n",
    "sum_without_last = sum(my_list)\n",
    "print(\"Last Element:\", last_element)  # Output: 5\n",
    "print(\"Sum without Last Element:\", sum_without_last)  # Output: 10\n"
   ]
  },
  {
   "cell_type": "code",
   "execution_count": 17,
   "id": "22641bee",
   "metadata": {},
   "outputs": [
    {
     "name": "stdout",
     "output_type": "stream",
     "text": [
      "Last Element was Odd\n"
     ]
    }
   ],
   "source": [
    "# Using the popped element in a conditional statement\n",
    "my_list = [1, 2, 3, 4, 5]\n",
    "removed_element = my_list.pop()\n",
    "if removed_element % 2 == 0:\n",
    "    print(\"Last Element was Even\")\n",
    "else:\n",
    "    print(\"Last Element was Odd\")\n"
   ]
  },
  {
   "cell_type": "code",
   "execution_count": 19,
   "id": "d69ecea5",
   "metadata": {},
   "outputs": [
    {
     "name": "stdout",
     "output_type": "stream",
     "text": [
      "List after pop: [1, 2, 3, 4]\n"
     ]
    }
   ],
   "source": [
    "# Removing and discarding the last element from a list\n",
    "my_list = [1, 2, 3, 4, 5]\n",
    "my_list.pop()\n",
    "print(\"List after pop:\", my_list)  # Output: [1, 2, 3, 4]\n"
   ]
  },
  {
   "cell_type": "markdown",
   "id": "669c2a81",
   "metadata": {},
   "source": [
    "# Remove"
   ]
  },
  {
   "cell_type": "markdown",
   "id": "983059ea",
   "metadata": {},
   "source": [
    "The remove() function in Python is used to remove the first occurrence of a specified element from a list.\n",
    "\n",
    "<b>Syntax:</b>\n",
    "\n",
    "list.remove(element)\n",
    "\n",
    "<b>list:</b> The list from which you want to remove an element.\n",
    "\n",
    "<b>element:</b> The element you want to remove from the list."
   ]
  },
  {
   "cell_type": "code",
   "execution_count": 20,
   "id": "477b5e16",
   "metadata": {},
   "outputs": [
    {
     "name": "stdout",
     "output_type": "stream",
     "text": [
      "List after removing 3: [1, 2, 4, 5]\n"
     ]
    }
   ],
   "source": [
    "my_list = [1, 2, 3, 4, 5]\n",
    "my_list.remove(3)\n",
    "print(\"List after removing 3:\", my_list)  # Output: [1, 2, 4, 5]\n"
   ]
  },
  {
   "cell_type": "code",
   "execution_count": 21,
   "id": "76b3480e",
   "metadata": {},
   "outputs": [
    {
     "name": "stdout",
     "output_type": "stream",
     "text": [
      "List after removing 'banana': ['apple', 'orange']\n"
     ]
    }
   ],
   "source": [
    "# Removing a string element from a list\n",
    "my_list = ['apple', 'banana', 'orange']\n",
    "my_list.remove('banana')\n",
    "print(\"List after removing 'banana':\", my_list)  # Output: ['apple', 'orange']\n"
   ]
  },
  {
   "cell_type": "code",
   "execution_count": 22,
   "id": "2fc5abf7",
   "metadata": {},
   "outputs": [
    {
     "name": "stdout",
     "output_type": "stream",
     "text": [
      "List after removing [3, 4]: [[1, 2], [5, 6]]\n"
     ]
    }
   ],
   "source": [
    "# Removing an element from a nested list\n",
    "my_list = [[1, 2], [3, 4], [5, 6]]\n",
    "my_list.remove([3, 4])\n",
    "print(\"List after removing [3, 4]:\", my_list)  # Output: [[1, 2], [5, 6]]\n"
   ]
  },
  {
   "cell_type": "code",
   "execution_count": 23,
   "id": "b7b971a8",
   "metadata": {},
   "outputs": [
    {
     "name": "stdout",
     "output_type": "stream",
     "text": [
      "List after removing all 3s: [1, 2, 4, 5]\n"
     ]
    }
   ],
   "source": [
    "# Removing an element from a list in a loop\n",
    "my_list = [1, 2, 3, 4, 5, 3]\n",
    "while 3 in my_list:\n",
    "    my_list.remove(3)\n",
    "print(\"List after removing all 3s:\", my_list)  # Output: [1, 2, 4, 5]\n"
   ]
  },
  {
   "cell_type": "markdown",
   "id": "d1bb901c",
   "metadata": {},
   "source": [
    "# Reverse"
   ]
  },
  {
   "cell_type": "markdown",
   "id": "1882a363",
   "metadata": {},
   "source": [
    "The reverse() function in Python is used to reverse the order of elements in a list.\n",
    "\n",
    "<b>Syntax:</b>\n",
    "\n",
    "list.reverse()\n",
    "\n",
    "<b>list:</b> The list that you want to reverse."
   ]
  },
  {
   "cell_type": "code",
   "execution_count": 24,
   "id": "1fd52f7f",
   "metadata": {},
   "outputs": [
    {
     "name": "stdout",
     "output_type": "stream",
     "text": [
      "Reversed List: [5, 4, 3, 2, 1]\n"
     ]
    }
   ],
   "source": [
    "my_list = [1, 2, 3, 4, 5]\n",
    "my_list.reverse()\n",
    "print(\"Reversed List:\", my_list)  # Output: [5, 4, 3, 2, 1]\n"
   ]
  },
  {
   "cell_type": "code",
   "execution_count": 25,
   "id": "2da3a177",
   "metadata": {},
   "outputs": [
    {
     "name": "stdout",
     "output_type": "stream",
     "text": [
      "Reversed String List: ['orange', 'banana', 'apple']\n"
     ]
    }
   ],
   "source": [
    "string_list = ['apple', 'banana', 'orange']\n",
    "string_list.reverse()\n",
    "print(\"Reversed String List:\", string_list)  # Output: ['orange', 'banana', 'apple']\n"
   ]
  },
  {
   "cell_type": "code",
   "execution_count": 26,
   "id": "d1d5a177",
   "metadata": {},
   "outputs": [
    {
     "name": "stdout",
     "output_type": "stream",
     "text": [
      "Reversed Empty List: []\n"
     ]
    }
   ],
   "source": [
    "# Reversing an empty list\n",
    "empty_list = []\n",
    "empty_list.reverse()\n",
    "print(\"Reversed Empty List:\", empty_list)  # Output: []\n"
   ]
  },
  {
   "cell_type": "code",
   "execution_count": 27,
   "id": "15813b94",
   "metadata": {},
   "outputs": [
    {
     "name": "stdout",
     "output_type": "stream",
     "text": [
      "Reversed List of Tuples: [(3, 'c'), (2, 'b'), (1, 'a')]\n"
     ]
    }
   ],
   "source": [
    "# Reversing a list of tuples\n",
    "tuple_list = [(1, 'a'), (2, 'b'), (3, 'c')]\n",
    "tuple_list.reverse()\n",
    "print(\"Reversed List of Tuples:\", tuple_list)  # Output: [(3, 'c'), (2, 'b'), (1, 'a')]\n"
   ]
  },
  {
   "cell_type": "code",
   "execution_count": 28,
   "id": "fd2d4a14",
   "metadata": {},
   "outputs": [
    {
     "name": "stdout",
     "output_type": "stream",
     "text": [
      "Reversed List in Loop: [5, 4, 3, 2, 1]\n"
     ]
    }
   ],
   "source": [
    "# Reversing a list in a loop\n",
    "my_list = [1, 2, 3, 4, 5]\n",
    "for i in range(len(my_list)//2):\n",
    "    my_list[i], my_list[-i-1] = my_list[-i-1], my_list[i]\n",
    "print(\"Reversed List in Loop:\", my_list)  # Output: [5, 4, 3, 2, 1]\n"
   ]
  },
  {
   "cell_type": "markdown",
   "id": "da448494",
   "metadata": {},
   "source": [
    "# Sort"
   ]
  },
  {
   "cell_type": "markdown",
   "id": "6c94d081",
   "metadata": {},
   "source": [
    "The sort() function in Python is used to sort the elements of a list in ascending order. \n",
    "\n",
    "<b>Syntax:</b>\n",
    "\n",
    "list.sort()\n",
    "\n",
    "<b>list:</b> The list that you want to sort."
   ]
  },
  {
   "cell_type": "code",
   "execution_count": 29,
   "id": "10ec338d",
   "metadata": {},
   "outputs": [
    {
     "name": "stdout",
     "output_type": "stream",
     "text": [
      "Sorted List: [1, 1, 2, 3, 3, 4, 5, 5, 6, 9]\n"
     ]
    }
   ],
   "source": [
    "my_list = [3, 1, 4, 1, 5, 9, 2, 6, 5, 3]\n",
    "my_list.sort()\n",
    "print(\"Sorted List:\", my_list)  # Output: [1, 1, 2, 3, 3, 4, 5, 5, 6, 9]\n"
   ]
  },
  {
   "cell_type": "code",
   "execution_count": 30,
   "id": "d34925da",
   "metadata": {},
   "outputs": [
    {
     "name": "stdout",
     "output_type": "stream",
     "text": [
      "Sorted String List: ['apple', 'banana', 'orange']\n"
     ]
    }
   ],
   "source": [
    "# Sorting a list of strings\n",
    "string_list = ['banana', 'apple', 'orange']\n",
    "string_list.sort()\n",
    "print(\"Sorted String List:\", string_list)  # Output: ['apple', 'banana', 'orange']\n"
   ]
  },
  {
   "cell_type": "code",
   "execution_count": 31,
   "id": "2f4eb0c3",
   "metadata": {},
   "outputs": [
    {
     "name": "stdout",
     "output_type": "stream",
     "text": [
      "Sorted List of Tuples: [(1, 'a'), (2, 'b'), (3, 'c')]\n"
     ]
    }
   ],
   "source": [
    "# Sorting a list of tuples based on the first element\n",
    "tuple_list = [(3, 'c'), (1, 'a'), (2, 'b')]\n",
    "tuple_list.sort()\n",
    "print(\"Sorted List of Tuples:\", tuple_list)  # Output: [(1, 'a'), (2, 'b'), (3, 'c')]\n"
   ]
  },
  {
   "cell_type": "code",
   "execution_count": 32,
   "id": "e49658e3",
   "metadata": {},
   "outputs": [
    {
     "name": "stdout",
     "output_type": "stream",
     "text": [
      "Sorted List in Descending Order: [9, 6, 5, 5, 4, 3, 3, 2, 1, 1]\n"
     ]
    }
   ],
   "source": [
    "# Sorting a list in descending order\n",
    "my_list = [3, 1, 4, 1, 5, 9, 2, 6, 5, 3]\n",
    "my_list.sort(reverse=True)\n",
    "print(\"Sorted List in Descending Order:\", my_list)  # Output: [9, 6, 5, 5, 4, 3, 3, 2, 1, 1]\n"
   ]
  },
  {
   "cell_type": "code",
   "execution_count": 42,
   "id": "89c872b2",
   "metadata": {},
   "outputs": [
    {
     "name": "stdout",
     "output_type": "stream",
     "text": [
      "Sorted List of Lists: [[4, 5], [1, 2, 3], [6, 7, 8, 9]]\n"
     ]
    }
   ],
   "source": [
    "# Sorting a list of lists based on the length of sublists\n",
    "list_of_lists = [[1, 2, 3], [4, 5], [6, 7, 8, 9]]\n",
    "list_of_lists.sort(key=len)\n",
    "print(\"Sorted List of Lists:\", list_of_lists)  # Output: [[4, 5], [1, 2, 3], [6, 7, 8, 9]]\n"
   ]
  },
  {
   "cell_type": "code",
   "execution_count": 34,
   "id": "4cbdf3ff",
   "metadata": {},
   "outputs": [
    {
     "name": "stdout",
     "output_type": "stream",
     "text": [
      "[4, 5]\n",
      "[1, 2, 3]\n",
      "[6, 7, 8, 9]\n"
     ]
    }
   ],
   "source": [
    "for i in list_of_lists:\n",
    "    print(i)"
   ]
  },
  {
   "cell_type": "code",
   "execution_count": 43,
   "id": "aab3547a",
   "metadata": {},
   "outputs": [],
   "source": [
    "l2=[\"Kishor\",\"Manoj\",\"Jin\",\"Kashraw\",\"Max\",\"Zen\",\"Kim\"]\n"
   ]
  },
  {
   "cell_type": "code",
   "execution_count": 37,
   "id": "1636894a",
   "metadata": {},
   "outputs": [
    {
     "name": "stdout",
     "output_type": "stream",
     "text": [
      "['Zen', 'Max', 'Manoj', 'Kishor', 'Kim', 'Kashraw', 'Jin']\n"
     ]
    }
   ],
   "source": [
    "l2.sort(reverse=True)\n",
    "print(l2)"
   ]
  },
  {
   "cell_type": "code",
   "execution_count": 40,
   "id": "70472a51",
   "metadata": {},
   "outputs": [],
   "source": [
    "l2.sort(reverse=False)"
   ]
  },
  {
   "cell_type": "code",
   "execution_count": 41,
   "id": "1f50f1f6",
   "metadata": {
    "scrolled": true
   },
   "outputs": [
    {
     "name": "stdout",
     "output_type": "stream",
     "text": [
      "['Jin', 'Kashraw', 'Kim', 'Kishor', 'Manoj', 'Max', 'Zen']\n"
     ]
    }
   ],
   "source": [
    "print(l2)"
   ]
  },
  {
   "cell_type": "markdown",
   "id": "09ec0e8c",
   "metadata": {},
   "source": [
    "# Nested List"
   ]
  },
  {
   "cell_type": "markdown",
   "id": "3574ef17",
   "metadata": {},
   "source": [
    "A nested list in Python is a list that contains other lists as its elements. In simpler terms, it's a list within another list. "
   ]
  },
  {
   "cell_type": "code",
   "execution_count": 45,
   "id": "42f56415",
   "metadata": {},
   "outputs": [],
   "source": [
    "nested_list = [[1, 2, 3], [4, 5, 6], [7, 8, 9]]"
   ]
  },
  {
   "cell_type": "code",
   "execution_count": 46,
   "id": "34ef5dd2",
   "metadata": {},
   "outputs": [
    {
     "name": "stdout",
     "output_type": "stream",
     "text": [
      "[[1, 2, 3], [4, 5, 6], [7, 8, 9]]\n"
     ]
    }
   ],
   "source": [
    "print(nested_list)"
   ]
  },
  {
   "cell_type": "code",
   "execution_count": 47,
   "id": "47a0ed44",
   "metadata": {},
   "outputs": [],
   "source": [
    "matrix = [[1, 2, 3], [4, 5, 6], [7, 8, 9]]"
   ]
  },
  {
   "cell_type": "markdown",
   "id": "d2bff065",
   "metadata": {},
   "source": [
    "Accessing Elements:\n",
    "You can access elements of a nested list using square brackets and indices. The first index corresponds to the outer list, and the second index corresponds to the inner list."
   ]
  },
  {
   "cell_type": "code",
   "execution_count": 49,
   "id": "ec6a2a43",
   "metadata": {},
   "outputs": [
    {
     "name": "stdout",
     "output_type": "stream",
     "text": [
      "6\n"
     ]
    }
   ],
   "source": [
    "# Accessing element at row 2, column 3\n",
    "element = matrix[1][2]  # Value: 6\n",
    "\n",
    "print(element)"
   ]
  },
  {
   "cell_type": "markdown",
   "id": "473a37d2",
   "metadata": {},
   "source": [
    "# Iterating Through Nested Lists:\n",
    "You can use nested loops to iterate through each element of a nested list."
   ]
  },
  {
   "cell_type": "code",
   "execution_count": 51,
   "id": "43644533",
   "metadata": {
    "scrolled": true
   },
   "outputs": [
    {
     "name": "stdout",
     "output_type": "stream",
     "text": [
      "1\n",
      "2\n",
      "3\n",
      "4\n",
      "5\n",
      "6\n",
      "7\n",
      "8\n",
      "9\n"
     ]
    }
   ],
   "source": [
    "for row in matrix:\n",
    "    for element in row:\n",
    "        print(element)\n"
   ]
  },
  {
   "cell_type": "code",
   "execution_count": 54,
   "id": "958fb62e",
   "metadata": {},
   "outputs": [
    {
     "name": "stdout",
     "output_type": "stream",
     "text": [
      "[[], [], []]\n"
     ]
    }
   ],
   "source": [
    "# Nested list with empty lists\n",
    "empty_nested_list = [[], [], []]\n",
    "\n",
    "print(empty_nested_list)"
   ]
  },
  {
   "cell_type": "code",
   "execution_count": 69,
   "id": "b272cca2",
   "metadata": {},
   "outputs": [
    {
     "name": "stdout",
     "output_type": "stream",
     "text": [
      "[['apple', 'banana', 'orange'], [1, 2, 3], [True, False]]\n"
     ]
    }
   ],
   "source": [
    "# Nested list with mixed data types\n",
    "nested_data = [['apple', 'banana', 'orange'], [1, 2, 3], [True, False]]\n",
    "\n",
    "print(nested_data)"
   ]
  },
  {
   "cell_type": "code",
   "execution_count": 56,
   "id": "6bf7522b",
   "metadata": {},
   "outputs": [
    {
     "name": "stdout",
     "output_type": "stream",
     "text": [
      "[['apple', 'banana', 'orange'], [1, 2, 3], [True, False], ['grape', 'melon', 'kiwi']]\n"
     ]
    }
   ],
   "source": [
    "#  Append \n",
    "nested_data.append(['grape', 'melon', 'kiwi'])\n",
    "print(nested_data)\n"
   ]
  },
  {
   "cell_type": "code",
   "execution_count": 57,
   "id": "291930cd",
   "metadata": {},
   "outputs": [
    {
     "name": "stdout",
     "output_type": "stream",
     "text": [
      "[['apple', 'banana', 'orange'], [True, False], ['grape', 'melon', 'kiwi']]\n"
     ]
    }
   ],
   "source": [
    "# Remove\n",
    "nested_data.remove([1, 2, 3])\n",
    "print(nested_data)\n"
   ]
  },
  {
   "cell_type": "code",
   "execution_count": 58,
   "id": "8af08ed8",
   "metadata": {},
   "outputs": [
    {
     "name": "stdout",
     "output_type": "stream",
     "text": [
      "Count of 'banana': 1\n"
     ]
    }
   ],
   "source": [
    "# Count\n",
    "count_banana = nested_data[0].count('banana')\n",
    "print(\"Count of 'banana':\", count_banana)\n"
   ]
  },
  {
   "cell_type": "code",
   "execution_count": 59,
   "id": "ef420a3f",
   "metadata": {},
   "outputs": [
    {
     "name": "stdout",
     "output_type": "stream",
     "text": [
      "[['apple', 'banana', 'orange'], [True, False], ['grape', 'melon', 'kiwi'], [4, 5, 6], [7, 8, 9]]\n"
     ]
    }
   ],
   "source": [
    "# Extend\n",
    "nested_data.extend([[4, 5, 6], [7, 8, 9]])\n",
    "print(nested_data)\n"
   ]
  },
  {
   "cell_type": "code",
   "execution_count": 60,
   "id": "77ccaeb6",
   "metadata": {},
   "outputs": [
    {
     "name": "stdout",
     "output_type": "stream",
     "text": [
      "Index of [True, False]: 1\n"
     ]
    }
   ],
   "source": [
    "# Index\n",
    "index_true = nested_data.index([True, False])\n",
    "print(\"Index of [True, False]:\", index_true)\n"
   ]
  },
  {
   "cell_type": "code",
   "execution_count": 61,
   "id": "bc6a4dbd",
   "metadata": {},
   "outputs": [
    {
     "name": "stdout",
     "output_type": "stream",
     "text": [
      "[['apple', 'banana', 'orange'], [True, False], ['peach', 'plum', 'pear'], ['grape', 'melon', 'kiwi'], [4, 5, 6], [7, 8, 9]]\n"
     ]
    }
   ],
   "source": [
    "# Insert\n",
    "nested_data.insert(2, ['peach', 'plum', 'pear'])\n",
    "print(nested_data)\n"
   ]
  },
  {
   "cell_type": "code",
   "execution_count": 62,
   "id": "596a85a8",
   "metadata": {},
   "outputs": [
    {
     "name": "stdout",
     "output_type": "stream",
     "text": [
      "Popped Element: [True, False]\n",
      "[['apple', 'banana', 'orange'], ['peach', 'plum', 'pear'], ['grape', 'melon', 'kiwi'], [4, 5, 6], [7, 8, 9]]\n"
     ]
    }
   ],
   "source": [
    "# Pop\n",
    "popped_element = nested_data.pop(1)\n",
    "print(\"Popped Element:\", popped_element)\n",
    "print(nested_data)\n"
   ]
  },
  {
   "cell_type": "code",
   "execution_count": 63,
   "id": "4258ef7e",
   "metadata": {},
   "outputs": [
    {
     "name": "stdout",
     "output_type": "stream",
     "text": [
      "[[7, 8, 9], [4, 5, 6], ['grape', 'melon', 'kiwi'], ['peach', 'plum', 'pear'], ['apple', 'banana', 'orange']]\n"
     ]
    }
   ],
   "source": [
    "# Reverse\n",
    "nested_data.reverse()\n",
    "print(nested_data)\n"
   ]
  },
  {
   "cell_type": "code",
   "execution_count": 64,
   "id": "80a3ab7f",
   "metadata": {},
   "outputs": [
    {
     "name": "stdout",
     "output_type": "stream",
     "text": [
      "[[7, 8, 9], [4, 5, 6], ['grape', 'melon', 'kiwi'], ['peach', 'plum', 'pear'], ['apple', 'banana', 'orange']]\n"
     ]
    }
   ],
   "source": [
    "# Sort(for numeric lists only)\n",
    "nested_data[1].sort()\n",
    "print(nested_data)\n"
   ]
  },
  {
   "cell_type": "code",
   "execution_count": 70,
   "id": "5c0232fa",
   "metadata": {},
   "outputs": [
    {
     "name": "stdout",
     "output_type": "stream",
     "text": [
      "[['apple', 'banana', 'orange'], [1, 2, 3], [True, False]]\n"
     ]
    }
   ],
   "source": [
    "# Copy\n",
    "nested_data_copy = nested_data.copy()\n",
    "print(nested_data_copy)\n"
   ]
  },
  {
   "cell_type": "code",
   "execution_count": 67,
   "id": "25d3cdce",
   "metadata": {},
   "outputs": [
    {
     "name": "stdout",
     "output_type": "stream",
     "text": [
      "[]\n"
     ]
    }
   ],
   "source": [
    "# Clear\n",
    "nested_data.clear()\n",
    "print(nested_data)\n"
   ]
  },
  {
   "cell_type": "markdown",
   "id": "a9c78620",
   "metadata": {},
   "source": [
    "Python provides built-in functions and techniques to perform various aggregate operations"
   ]
  },
  {
   "cell_type": "markdown",
   "id": "434be428",
   "metadata": {},
   "source": [
    "Common Aggregate Functions:\n",
    "\n",
    "sum(): Calculates the sum of all elements in a list.\n",
    "\n",
    "max(): Finds the maximum value in a list.\n",
    "\n",
    "min(): Finds the minimum value in a list.\n",
    "\n",
    "len(): Computes the length of a list (the number of elements).\n",
    "\n",
    "any(): Returns True if any element in the list is True. Otherwise, returns False.\n",
    "\n",
    "all(): Returns True if all elements in the list are True. Otherwise, returns False."
   ]
  },
  {
   "cell_type": "code",
   "execution_count": 71,
   "id": "8edca677",
   "metadata": {},
   "outputs": [
    {
     "name": "stdout",
     "output_type": "stream",
     "text": [
      "Sum: 15\n",
      "Maximum: 5\n",
      "Minimum: 1\n",
      "Length: 5\n",
      "Any greater than 3: True\n",
      "All greater than 0: True\n"
     ]
    }
   ],
   "source": [
    "my_list = [1, 2, 3, 4, 5]\n",
    "\n",
    "# Sum of all elements\n",
    "total = sum(my_list)\n",
    "print(\"Sum:\", total)  # Output: 15\n",
    "\n",
    "# Maximum value\n",
    "maximum = max(my_list)\n",
    "print(\"Maximum:\", maximum)  # Output: 5\n",
    "\n",
    "# Minimum value\n",
    "minimum = min(my_list)\n",
    "print(\"Minimum:\", minimum)  # Output: 1\n",
    "\n",
    "# Length of the list\n",
    "length = len(my_list)\n",
    "print(\"Length:\", length)  # Output: 5\n",
    "\n",
    "# Check if any element is greater than 3\n",
    "any_greater_than_3 = any(element > 3 for element in my_list)\n",
    "print(\"Any greater than 3:\", any_greater_than_3)  # Output: True\n",
    "\n",
    "# Check if all elements are greater than 0\n",
    "all_greater_than_0 = all(element > 0 for element in my_list)\n",
    "print(\"All greater than 0:\", all_greater_than_0)  # Output: True\n"
   ]
  }
 ],
 "metadata": {
  "kernelspec": {
   "display_name": "Python 3 (ipykernel)",
   "language": "python",
   "name": "python3"
  },
  "language_info": {
   "codemirror_mode": {
    "name": "ipython",
    "version": 3
   },
   "file_extension": ".py",
   "mimetype": "text/x-python",
   "name": "python",
   "nbconvert_exporter": "python",
   "pygments_lexer": "ipython3",
   "version": "3.10.9"
  }
 },
 "nbformat": 4,
 "nbformat_minor": 5
}

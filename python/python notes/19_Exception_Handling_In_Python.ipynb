{
 "cells": [
  {
   "cell_type": "markdown",
   "id": "b3ddbe5c",
   "metadata": {},
   "source": [
    "# Exception Handling"
   ]
  },
  {
   "cell_type": "markdown",
   "id": "3bea5c06",
   "metadata": {},
   "source": [
    "Exception handling is a fundamental concept in programming that helps manage unexpected or exceptional situations that may arise during the execution of a program. These exceptional situations, known as exceptions, can include errors like division by zero, file not found, or network connection problems. Exception handling allows developers to gracefully handle these issues, preventing program crashes and enabling more robust and reliable software.\n",
    "\n",
    "\n",
    "Imagine you're writing a program in Python, and sometimes things might go wrong while the program is running. These problems can be anything from trying to divide a number by zero to reading a file that doesn't exist.\n",
    "\n",
    "Python has a way to deal with these issues gracefully, so your program doesn't just crash. It's called \"exception handling.\""
   ]
  },
  {
   "cell_type": "markdown",
   "id": "fd144fbf",
   "metadata": {},
   "source": [
    "# In Python, errors can be broadly classified into three main types:"
   ]
  },
  {
   "cell_type": "markdown",
   "id": "6a0ca157",
   "metadata": {},
   "source": [
    "# Compile time errors"
   ]
  },
  {
   "cell_type": "markdown",
   "id": "45f19fb0",
   "metadata": {},
   "source": [
    "Compile time errors, also known as syntax errors, occur during the compilation phase of the program. These errors are detected by the compiler when it processes the source code and translates it into machine code or bytecode. Syntax errors indicate violations of the language's grammar rules."
   ]
  },
  {
   "cell_type": "code",
   "execution_count": 1,
   "id": "26ae34b8",
   "metadata": {},
   "outputs": [],
   "source": [
    "# Example 1: Missing parenthesis\n",
    "print(\"Hello, World!\""
   ]
  },
  {
   "cell_type": "code",
   "execution_count": 2,
   "id": "556b32bf",
   "metadata": {},
   "outputs": [],
   "source": [
    "# Example 2: Undefined variable\n",
    "result = x + 5"
   ]
  },
  {
   "cell_type": "markdown",
   "id": "9c980608",
   "metadata": {},
   "source": [
    "How to Fix: Review the code and correct the syntax errors before attempting to run the program."
   ]
  },
  {
   "cell_type": "markdown",
   "id": "b6e486ae",
   "metadata": {},
   "source": [
    "# Logical Error:"
   ]
  },
  {
   "cell_type": "markdown",
   "id": "13bdb2cd",
   "metadata": {},
   "source": [
    "Logical errors occur when there is a flaw in the algorithm or the overall logic of the program. Unlike syntax errors, logical errors do not cause the program to terminate or produce error messages. Instead, they lead to incorrect results or undesired behavior in the program.\n"
   ]
  },
  {
   "cell_type": "code",
   "execution_count": null,
   "id": "8da50334",
   "metadata": {},
   "outputs": [],
   "source": [
    "# Incorrect: Loop should iterate from 1 to 10, not 0 to 9\n",
    "for i in range(10):\n",
    "    print(i)"
   ]
  },
  {
   "cell_type": "code",
   "execution_count": 3,
   "id": "c443b880",
   "metadata": {},
   "outputs": [],
   "source": [
    "numbers = [1, 2, 3, 4, 5]\n",
    "# Incorrect: Accessing the last element using index 5 (should be index 4)\n",
    "last_element = numbers[5]\n"
   ]
  },
  {
   "cell_type": "markdown",
   "id": "436e2a85",
   "metadata": {},
   "source": [
    "\n",
    "How to Fix: Review the algorithm and the program's logic to identify and correct the mistake. Debugging tools and techniques can be useful in finding logical errors."
   ]
  },
  {
   "cell_type": "markdown",
   "id": "b5b733ca",
   "metadata": {},
   "source": [
    "# Runtime Error (Exception)"
   ]
  },
  {
   "cell_type": "markdown",
   "id": "566f49b7",
   "metadata": {},
   "source": [
    "Runtime errors occur during the execution of the program when something unexpected happens, such as division by zero, accessing an index that doesn't exist, or trying to open a file that doesn't exist. These errors are not detected by the compiler during the compilation phase and typically result in the termination of the program.\n"
   ]
  },
  {
   "cell_type": "code",
   "execution_count": 1,
   "id": "3f1e1401",
   "metadata": {},
   "outputs": [],
   "source": [
    "x = 10\n",
    "y = 0\n",
    "result = x / y  # This will raise a ZeroDivisionError at runtime.\n",
    "\n"
   ]
  },
  {
   "cell_type": "code",
   "execution_count": 4,
   "id": "3961efc3",
   "metadata": {},
   "outputs": [],
   "source": [
    "x = \"5\"\n",
    "y = 2\n",
    "result = x + y  # This will raise a TypeError at runtime.\n"
   ]
  },
  {
   "cell_type": "code",
   "execution_count": 5,
   "id": "f96bb198",
   "metadata": {},
   "outputs": [],
   "source": [
    "user_input = \"abc\"\n",
    "number = int(user_input)  # This will raise a ValueError at runtime.\n"
   ]
  },
  {
   "cell_type": "code",
   "execution_count": 6,
   "id": "9702dcd6",
   "metadata": {},
   "outputs": [],
   "source": [
    "dictionary = {'a': 1, 'b': 2}\n",
    "value = dictionary['c']  # This will raise a KeyError at runtime.\n"
   ]
  },
  {
   "cell_type": "markdown",
   "id": "29a5ff46",
   "metadata": {},
   "source": [
    "\n",
    "How to Fix: Use exception handling mechanisms like try-except blocks to catch and handle runtime errors gracefully. Identify and fix the underlying issue causing the error."
   ]
  },
  {
   "cell_type": "markdown",
   "id": "60a33f14",
   "metadata": {},
   "source": [
    "# Try Block"
   ]
  },
  {
   "cell_type": "markdown",
   "id": "6b88561c",
   "metadata": {},
   "source": [
    "Imagine you're working on a project, and you know there might be some tricky parts where things could go wrong. These tricky parts are like a \"try\" block.\n",
    "\n",
    "Here's what a \"try\" block does:\n",
    "\n",
    "Testing the Waters: It's like you're testing something out. You're trying to do a task that might cause trouble. For example, it could be like trying to divide a number by another number.\n",
    "\n",
    "Ready for Problems: You know that things might not always go perfectly. So, you prepare for the possibility that something might go wrong while you're doing that task.\n",
    "\n",
    "Safety Net: You put your risky code inside the \"try\" block. If something unexpected happens while you're doing that task, your program doesn't just crash. Instead, it says, \"Okay, something went wrong, but let's see if there's a plan to handle this.\"\n",
    "\n",
    "Having a Backup Plan: If there's a problem, you can have a plan (an \"except\" block) ready. It's like saying, \"If this goes wrong, do this to fix it or let the user know what happened.\"\n",
    "\n",
    "So, in simple terms, a \"try\" block is like trying to do something tricky in your code, knowing it might not work perfectly, but you're ready with a backup plan (the \"except\" block) to handle any unexpected issues gracefully. This helps keep your program running smoothly even when things don't go as planned."
   ]
  },
  {
   "cell_type": "raw",
   "id": "592d97b3",
   "metadata": {},
   "source": [
    "try:\n",
    "    # Code that might cause an exception goes here\n",
    "    # ...\n",
    "except ExceptionType:\n",
    "    # Code to handle the exception goes here\n",
    "    # ...\n"
   ]
  },
  {
   "cell_type": "markdown",
   "id": "7c0cb191",
   "metadata": {},
   "source": [
    "# Except Block"
   ]
  },
  {
   "cell_type": "markdown",
   "id": "7709859c",
   "metadata": {},
   "source": [
    "In Python, the \"except\" block is a fundamental part of exception handling. It is used to specify what should happen if a specific type of exception occurs within a preceding \"try\" block. Here's a concise explanation:\n",
    "\n",
    "Exception Handling: The \"except\" block comes into play when an exception, an unexpected problem or error, occurs in the code within a \"try\" block.\n",
    "\n",
    "Exception Type: You specify the type of exception you want to catch after the \"except\" keyword. For example, you can use except ZeroDivisionError to catch a \"ZeroDivisionError\" exception or except FileNotFoundError to catch a \"FileNotFoundError.\"\n",
    "\n",
    "Code Execution: If an exception of the specified type occurs in the \"try\" block, the Python interpreter transfers control to the corresponding \"except\" block.\n",
    "\n",
    "Handling the Exception: Inside the \"except\" block, you write code to handle the exception gracefully. This can involve providing error messages, taking corrective actions, or simply logging the issue for debugging purposes.\n",
    "\n",
    "Imagine you're driving a car, and sometimes you might encounter unexpected obstacles or problems on the road. The \"except\" block is like your car's safety feature.\n",
    "\n",
    "Here's how it works:\n",
    "\n",
    "Detecting Problems: As you drive (the \"try\" block), you might hit a pothole or run into some unexpected trouble (an exception).\n",
    "\n",
    "Safety Measures: The \"except\" block is like your car's airbag. It's there to protect you if something goes wrong. You specify what kind of problem you're ready to handle. For example, if you're worried about hitting a pothole (a \"ZeroDivisionError\"), you say, \"If we hit a pothole, do this to keep us safe.\"\n",
    "\n",
    "Taking Action: Inside the \"except\" block, you write down what should happen if that specific problem occurs. It could be a warning message, a way to fix the issue, or a plan to continue driving safely."
   ]
  },
  {
   "cell_type": "raw",
   "id": "10be87ea",
   "metadata": {},
   "source": [
    "try:\n",
    "    # Code that may raise an exception\n",
    "    # ...\n",
    "except SomeExceptionType as e:\n",
    "    # Code to handle the exception\n",
    "    # e is the exception object\n",
    "    # ...\n",
    "except AnotherExceptionType as e:\n",
    "    # Another type of exception handling\n",
    "    # ...\n",
    "else:\n",
    "    # Optional: Code that runs if no exception occurred\n",
    "    # ...\n",
    "finally:\n",
    "    # Optional: Code that always runs, regardless of whether an exception occurred or not\n",
    "    # ...\n"
   ]
  },
  {
   "cell_type": "code",
   "execution_count": 3,
   "id": "1140309a",
   "metadata": {},
   "outputs": [],
   "source": [
    "num=int(input(\"Enter the number:-  \"))\n",
    "deno=int(input(\"Enter the number:-  \"))\n",
    "answer=0\n",
    "try:\n",
    "    answer=num//deno\n",
    "except:\n",
    "    print(\"Please do not give value 0 to denominator\")\n",
    "print(answer)\n",
    "print(\"Hello keep runing further my program\")"
   ]
  },
  {
   "cell_type": "code",
   "execution_count": 6,
   "id": "0455bc82",
   "metadata": {
    "scrolled": true
   },
   "outputs": [],
   "source": [
    "import sys\n",
    "a=[\"30\",7.42,56.34,36.22,\"23\",\"ten\",35,35,56.32,77.23,236.33]\n",
    "\n",
    "for i in a:\n",
    "    try:\n",
    "        c=int(i)\n",
    "        print(c)\n",
    "    except:\n",
    "        print(sys.exc_info())"
   ]
  },
  {
   "cell_type": "code",
   "execution_count": 7,
   "id": "ca5c131c",
   "metadata": {},
   "outputs": [],
   "source": [
    "numbers = [1, 2, 3]\n",
    "try:\n",
    "    index = int(input(\"Enter the index: \"))\n",
    "    value = numbers[index]\n",
    "    print(f\"The value at index {index} is: {value}\")\n",
    "except IndexError:\n",
    "    print(\"Error: Index out of range.\")\n",
    "except ValueError:\n",
    "    print(\"Error: Please enter a valid index.\")\n"
   ]
  },
  {
   "cell_type": "code",
   "execution_count": 4,
   "id": "da3123e7",
   "metadata": {},
   "outputs": [],
   "source": [
    "try:\n",
    "    file=open(\"file.txt.txt\")\n",
    "    \n",
    "except FileNotFoundError:\n",
    "    print(\"File which are trying to access is in not present\")\n",
    "    \n",
    "    "
   ]
  },
  {
   "cell_type": "code",
   "execution_count": 27,
   "id": "c7321b9a",
   "metadata": {},
   "outputs": [],
   "source": [
    "a=[1,2,34,56,0,2,63,\"five\",2,3,6,2,6]\n",
    "\n",
    "\n",
    "for i in a:\n",
    "    try:\n",
    "        value=12/i  # 12/0\n",
    "        print(value) # 1 2 34b 56 2 63 \n",
    "    except:\n",
    "        print(\"Your Code will working\")"
   ]
  },
  {
   "cell_type": "code",
   "execution_count": 28,
   "id": "1835cfec",
   "metadata": {},
   "outputs": [],
   "source": [
    "a=[1,2,34,56,0,2,63,\"five\",2,3,6,2,6]\n",
    "\n",
    "\n",
    "for i in a:\n",
    "    try:\n",
    "        value=12/i  # 12/0\n",
    "        print(value) # 1 2 34b 56 2 63 \n",
    "    except (ValueError, TypeError, ZeroDivisionError):\n",
    "        print(\"How you doing\")\n"
   ]
  },
  {
   "cell_type": "code",
   "execution_count": 26,
   "id": "39e83415",
   "metadata": {},
   "outputs": [],
   "source": [
    "a=[1,2,34,56,0,2,63,\"five\",2,3,6,2,6]\n",
    "\n",
    "\n",
    "for i in a:\n",
    "    try:\n",
    "        value=12/i  # 12/0\n",
    "        print(value) # 1 2 34b 56 2 63 \n",
    "    except ValueError:\n",
    "        print(\"Dont have base literal 10\")\n",
    "    except ZeroDivisionError:\n",
    "        print(\"Cannot divide zero\")\n",
    "    except TypeError:\n",
    "        print(\"Please give the int number to divide\")"
   ]
  },
  {
   "cell_type": "markdown",
   "id": "61192e83",
   "metadata": {},
   "source": [
    "# Finally Block"
   ]
  },
  {
   "cell_type": "markdown",
   "id": "fa7750ae",
   "metadata": {},
   "source": [
    "In Python, the \"finally\" block is used in conjunction with a \"try\" block for exception handling. It's a way to ensure that a specific piece of code always gets executed, whether or not an exception occurs. Here's a simple explanation:\n",
    "\n",
    "Guaranteed Execution: The \"finally\" block is like a guarantee that a particular piece of code will run, no matter what happens inside the \"try\" block.\n",
    "\n",
    "Cleanup Tasks: Typically, \"finally\" is used for cleanup tasks, like closing files, releasing resources, or cleaning up temporary data. It ensures that these tasks are performed regardless of whether there was an exception or not.\n",
    "\n",
    "Imagine you're cooking in your kitchen, and you want to make sure the kitchen is clean and tidy no matter what happens during your cooking process. The \"finally\" block in Python is like a cleanup step in your cooking routine.\n",
    "\n",
    "Here's how it works:\n",
    "\n",
    "Cooking Process (try block): You're cooking (doing something important) in your kitchen. While cooking, things might go well, or there might be spills and messes (exceptions or errors) on the kitchen counter.\n",
    "\n",
    "Cleaning Up (finally block): The \"finally\" block is like your cleaning-up step. No matter how messy or clean your kitchen becomes during cooking, you want to ensure that you always clean it up when you're done.\n",
    "\n",
    "Guaranteed Cleanup: The \"finally\" block guarantees that you'll do this cleanup, even if something unexpected happened during your cooking (try block). It's a way to make sure everything is in order when you finish."
   ]
  },
  {
   "cell_type": "raw",
   "id": "b6d633bf",
   "metadata": {},
   "source": [
    "try:\n",
    "    # Code that may raise an exception\n",
    "    # ...\n",
    "except SomeExceptionType as e:\n",
    "    # Code to handle the exception\n",
    "    # ...\n",
    "finally:\n",
    "    # Code that always runs, regardless of whether an exception occurred or not\n",
    "    # ...\n"
   ]
  },
  {
   "cell_type": "code",
   "execution_count": 6,
   "id": "2e6386de",
   "metadata": {},
   "outputs": [],
   "source": [
    "a=[1,2,34,56,0,2,63,\"five\",2,3,6,2,6]\n",
    "\n",
    "\n",
    "for i in a:\n",
    "    try:\n",
    "        value=12/i  # 12/0\n",
    "        print(value) # 1 2 34b 56 2 63 \n",
    "    except ValueError:\n",
    "        print(\"Dont have base literal 10\")\n",
    "    except ZeroDivisionError:\n",
    "        print(\"Cannot divide zero\")\n",
    "    except TypeError:\n",
    "        print(\"Please give the int number to divide\")\n",
    "    finally:\n",
    "        print(\"The further program will still run\")"
   ]
  },
  {
   "cell_type": "code",
   "execution_count": 41,
   "id": "a7b262ba",
   "metadata": {},
   "outputs": [],
   "source": [
    "a=[1,2,3,4,5,6,7,8,9,10]\n",
    "\n",
    "try:\n",
    "    index=int(input(\"Enter the index number you want from the list\"))\n",
    "    result=a[index]\n",
    "except IndexError:\n",
    "    print(\"Error: Given index is out of range\")\n",
    "except TypeError:\n",
    "    print(\"Give only integer number\")\n",
    "except ValueError:\n",
    "    print(\"Please give the correct value\")\n",
    "else:\n",
    "    print(f\"{result} is number of your given  {index}th index\")\n",
    "finally:\n",
    "    print(\"Program Execution Completed\")\n",
    "    "
   ]
  },
  {
   "cell_type": "code",
   "execution_count": 13,
   "id": "a6ca2d51",
   "metadata": {},
   "outputs": [],
   "source": [
    "def input_age(age):\n",
    "    try:\n",
    "        if age <= 0:\n",
    "            raise ValueError(\"Age should be greater than 0\")\n",
    "        else:\n",
    "            return age  # Return age if it's valid\n",
    "    except ValueError as e:\n",
    "        print(f\"Error: {e}\")\n",
    "        \n",
    "        \n",
    "        return None\n",
    "    \n",
    "input_age(-2)\n"
   ]
  },
  {
   "cell_type": "code",
   "execution_count": 14,
   "id": "60f1d482",
   "metadata": {},
   "outputs": [],
   "source": [
    "def input_age():\n",
    "    while True:\n",
    "        try:\n",
    "            age = int(input(\"Enter your age: \"))\n",
    "            if age <= 0:\n",
    "                print(\"Age should be greater than 0\")\n",
    "            else:\n",
    "                return age  # Return age if it's valid\n",
    "        except ValueError:\n",
    "            print(\"Please enter a valid integer age.\")\n",
    "\n",
    "# Example usage:\n",
    "age = input_age()\n",
    "print(f\"Valid age entered: {age}\")\n"
   ]
  },
  {
   "cell_type": "markdown",
   "id": "74940162",
   "metadata": {},
   "source": [
    " The raise statement in Python is used to deliberately generate an exception (an error) during the execution of a program. This allows you to handle exceptional situations and control the flow of your program accordingly."
   ]
  },
  {
   "cell_type": "markdown",
   "id": "b8aae610",
   "metadata": {},
   "source": [
    "Custom Exception: You can create your own custom exceptions by defining a new exception class and then raising an instance of that class when a particular condition occurs."
   ]
  },
  {
   "cell_type": "markdown",
   "id": "9b2e9a0a",
   "metadata": {},
   "source": [
    "Raising Built-in Exceptions: You can raise built-in exceptions with specific messages to indicate errors or exceptional conditions in your code."
   ]
  },
  {
   "cell_type": "markdown",
   "id": "8ed86546",
   "metadata": {},
   "source": [
    "Conditional Raise: You can raise exceptions based on certain conditions within your code."
   ]
  },
  {
   "cell_type": "markdown",
   "id": "7492bedc",
   "metadata": {},
   "source": [
    "as e: This part of the line assigns the caught exception object to a variable named e. By doing this, you can access information about the exception, such as its type, message, or other attributes, and you can also use this variable to refer to the exception object within the except block."
   ]
  },
  {
   "cell_type": "code",
   "execution_count": 2,
   "id": "53985405",
   "metadata": {},
   "outputs": [],
   "source": [
    "class MyCustomError(Exception):\n",
    "    pass\n",
    "\n",
    "def some_function(x):\n",
    "    if x < 0:\n",
    "        raise MyCustomError(\"Input value cannot be negative.\")\n",
    "\n",
    "try:\n",
    "    some_function(-5)\n",
    "except MyCustomError as e:\n",
    "    print(e)  # Output: Input value cannot be negative.\n"
   ]
  },
  {
   "cell_type": "code",
   "execution_count": 3,
   "id": "b4867553",
   "metadata": {},
   "outputs": [],
   "source": [
    "def divide(x, y):\n",
    "    if y == 0:\n",
    "        raise ZeroDivisionError(\"Cannot divide by zero.\")\n",
    "    return x / y\n",
    "\n",
    "try:\n",
    "    result = divide(10, 0)\n",
    "except ZeroDivisionError as e:\n",
    "    print(e)  # Output: Cannot divide by zero.\n"
   ]
  },
  {
   "cell_type": "code",
   "execution_count": 4,
   "id": "2e66b825",
   "metadata": {},
   "outputs": [],
   "source": [
    "def check_age(age):\n",
    "    if age < 18:\n",
    "        raise ValueError(\"You must be 18 or older to access this content.\")\n",
    "    else:\n",
    "        print(\"Access granted.\")\n",
    "\n",
    "try:\n",
    "    check_age(15)\n",
    "except ValueError as e:\n",
    "    print(e)  # Output: You must be 18 or older to access this content.\n"
   ]
  },
  {
   "cell_type": "code",
   "execution_count": 62,
   "id": "a49c288a",
   "metadata": {},
   "outputs": [],
   "source": [
    "try:\n",
    "    email=input(\"Enter the emalid\")\n",
    "    if '@' not in email or '.' not in email: \n",
    "        raise ValueError(\"Your email does not contains @ and .\")\n",
    "except ValueError as e:\n",
    "    print(\"Error\", e)\n",
    "else:\n",
    "    print(email)\n"
   ]
  },
  {
   "cell_type": "code",
   "execution_count": 16,
   "id": "71a369d7",
   "metadata": {},
   "outputs": [],
   "source": [
    "user_name = input(\"Enter the name of the yours: \") \n",
    "while True:\n",
    "    user_age = int(input(\"Enter the age of yours\")) # 23\n",
    "    try:\n",
    "        if user_age<=18: # 23<18 False\n",
    "            raise ValueError(\"Age must be greater than 0\")\n",
    "        break\n",
    " \n",
    "    except ValueError as e:\n",
    "        print(f\"{e}\")\n",
    "        print(\"Invalid Age, PLease enter a valid age\")\n",
    "        \n",
    "while True:\n",
    "    user_email = input(\"Enter the emaild if of yours : \")\n",
    "    if '@' in user_email and \".\" in user_email:\n",
    "        break\n",
    "    else:\n",
    "        print(\"Invalid Mail Format,please enter the valid mail id\")\n",
    "        \n",
    "        "
   ]
  },
  {
   "cell_type": "code",
   "execution_count": 17,
   "id": "2a102fff",
   "metadata": {},
   "outputs": [],
   "source": [
    "import re  # For regular expressions\n",
    "\n",
    "def get_employee_information():\n",
    "    while True:\n",
    "        try:\n",
    "            username = input(\"Enter username (string): \")\n",
    "            if not isinstance(username, str):\n",
    "                raise TypeError(\"Username must be a string\")\n",
    "\n",
    "            age = int(input(\"Enter age (>= 18): \"))\n",
    "            if age < 18:\n",
    "                raise ValueError(\"Age must be 18 or older\")\n",
    "\n",
    "            email = input(\"Enter email address: \")\n",
    "            if not re.match(r\"[^@]+@[^@]+\\.[^@]+\", email):\n",
    "                raise ValueError(\"Email format is invalid\")\n",
    "\n",
    "            phone_number = input(\"Enter phone number (10 digits): \")\n",
    "            if not re.match(r\"^\\d{10}$\", phone_number):\n",
    "                raise ValueError(\"Phone number must be 10 digits\")\n",
    "\n",
    "            salary = float(input(\"Enter salary (>= 0): \"))\n",
    "            if salary < 0:\n",
    "                raise ValueError(\"Salary cannot be less than 0\")\n",
    "\n",
    "        except TypeError as e:\n",
    "            print(f\"TypeError: {e}\")\n",
    "            continue\n",
    "        except ValueError as e:\n",
    "            print(f\"ValueError: {e}\")\n",
    "            continue\n",
    "        except Exception as e:\n",
    "            print(f\"Exception: {e}\")\n",
    "            continue\n",
    "        else:\n",
    "            # If no exceptions occurred, return the employee information\n",
    "            return {\n",
    "                \"username\": username,\n",
    "                \"age\": age,\n",
    "                \"email\": email,\n",
    "                \"phone_number\": phone_number,\n",
    "                \"salary\": salary\n",
    "            }\n",
    "        finally:\n",
    "            print(\"Attempted to get employee information.\")\n",
    "\n",
    "# Main code execution starts here\n",
    "if __name__ == \"__main__\":\n",
    "    employee_info = get_employee_information()\n",
    "    print(\"\\nEmployee Information:\")\n",
    "    for key, value in employee_info.items():\n",
    "        print(f\"{key}: {value}\")\n"
   ]
  },
  {
   "cell_type": "code",
   "execution_count": null,
   "id": "a22982e0",
   "metadata": {},
   "outputs": [],
   "source": []
  }
 ],
 "metadata": {
  "kernelspec": {
   "display_name": "Python 3 (ipykernel)",
   "language": "python",
   "name": "python3"
  },
  "language_info": {
   "codemirror_mode": {
    "name": "ipython",
    "version": 3
   },
   "file_extension": ".py",
   "mimetype": "text/x-python",
   "name": "python",
   "nbconvert_exporter": "python",
   "pygments_lexer": "ipython3",
   "version": "3.10.9"
  }
 },
 "nbformat": 4,
 "nbformat_minor": 5
}

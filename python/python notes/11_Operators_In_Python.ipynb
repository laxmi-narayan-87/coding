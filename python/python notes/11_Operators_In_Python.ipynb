{
 "cells": [
  {
   "cell_type": "markdown",
   "id": "c61985bc",
   "metadata": {},
   "source": [
    "# Operators and Expression in Python"
   ]
  },
  {
   "cell_type": "markdown",
   "id": "c8d68c29",
   "metadata": {},
   "source": [
    "Operators in Python are special symbols or keywords that are used to perform operations on variables and values. \n",
    "\n",
    "They are a fundamental part of the Python language and are used for tasks like arithmetic operations, logical comparisons, assignment, and more.\n",
    "\n",
    "An Operator is a symbol, which is used to perform certain operations on the Values or \n",
    " Variables or Objects.\n",
    " \n",
    "If two or More object or Variables connected with an Operator is called Expression.\n",
    "\n",
    "In Python Programming, we have 7 Operators. They are\n",
    "\n",
    "1. Arithmetic Operators\n",
    "2. Assigment Opetraor\n",
    "3. Relational Operators (Comparison Operators)\n",
    "4. Logical Operators\n",
    "5. Bitwise Operators\n",
    "6. Membership Operators\n",
    "7. Identity Operators"
   ]
  },
  {
   "cell_type": "markdown",
   "id": "85cf47d6",
   "metadata": {},
   "source": [
    "# Arithmetic Operators\n",
    "\n",
    "Arithmetic operators in Python are special symbols for performing math operations.\n",
    "\n",
    "If two or more Variables or Values connected with Arithmetic Operators then it is called Arithmetic Expression.\n",
    "\n",
    "They enable you to perform basic math operations like addition, subtraction, multiplication, division, finding remainders, and exponentiation.\n",
    "\n",
    "These operators are fundamental for working with numbers in Python.\n",
    "\n",
    "Common arithmetic operators in Python include:\n",
    "+ for addition\n",
    "- for subtraction\n",
    "* for multiplication\n",
    "  / for division\n",
    "\n",
    "  % for finding remainders\n",
    "\n",
    "  // for floor division\n",
    "\n",
    "  ** for exponentiation.\n",
    "\n",
    "You use these operators to perform calculations and obtain numerical results in your Python code."
   ]
  },
  {
   "cell_type": "code",
   "execution_count": 1,
   "id": "581e9dbc",
   "metadata": {},
   "outputs": [
    {
     "name": "stdout",
     "output_type": "stream",
     "text": [
      "31\n",
      "1\n"
     ]
    }
   ],
   "source": [
    "a=28\n",
    "b=3\n",
    "c=a+b\n",
    "d=a-b\n",
    "e=a*b\n",
    "f=a/b\n",
    "g=a//b   #quotent\n",
    "i=a**b   #exponential expression\n",
    "j=a%b    #reminder\n",
    "print(c)\n",
    "print(j) #modulo"
   ]
  },
  {
   "cell_type": "code",
   "execution_count": 2,
   "id": "79d81fe7",
   "metadata": {},
   "outputs": [
    {
     "name": "stdout",
     "output_type": "stream",
     "text": [
      "25\n"
     ]
    }
   ],
   "source": [
    "print(d)"
   ]
  },
  {
   "cell_type": "code",
   "execution_count": 3,
   "id": "115dd66a",
   "metadata": {},
   "outputs": [],
   "source": [
    "a=10\n",
    "b=30\n",
    "c=a+b\n",
    "e=a-b\n",
    "f=a*b\n",
    "g=a/b\n",
    "h=a%b\n",
    "i=a//b\n",
    "j=a**b"
   ]
  },
  {
   "cell_type": "code",
   "execution_count": 4,
   "id": "f51ab3eb",
   "metadata": {},
   "outputs": [
    {
     "name": "stdout",
     "output_type": "stream",
     "text": [
      "15\n"
     ]
    }
   ],
   "source": [
    "a=30\n",
    "b=2\n",
    "c=a//b\n",
    "print(c)"
   ]
  },
  {
   "cell_type": "code",
   "execution_count": 5,
   "id": "7e01cad4",
   "metadata": {},
   "outputs": [
    {
     "data": {
      "text/plain": [
       "16"
      ]
     },
     "execution_count": 5,
     "metadata": {},
     "output_type": "execute_result"
    }
   ],
   "source": [
    "2**4"
   ]
  },
  {
   "cell_type": "code",
   "execution_count": 6,
   "id": "9c6faa52",
   "metadata": {},
   "outputs": [
    {
     "name": "stdout",
     "output_type": "stream",
     "text": [
      "-20\n"
     ]
    }
   ],
   "source": [
    "print(e)"
   ]
  },
  {
   "cell_type": "code",
   "execution_count": 7,
   "id": "aae833b2",
   "metadata": {},
   "outputs": [
    {
     "name": "stdout",
     "output_type": "stream",
     "text": [
      "300\n"
     ]
    }
   ],
   "source": [
    "print(f)"
   ]
  },
  {
   "cell_type": "code",
   "execution_count": 8,
   "id": "4746d5f2",
   "metadata": {},
   "outputs": [
    {
     "name": "stdout",
     "output_type": "stream",
     "text": [
      "0.3333333333333333\n"
     ]
    }
   ],
   "source": [
    "print(g)"
   ]
  },
  {
   "cell_type": "code",
   "execution_count": 9,
   "id": "40df69fb",
   "metadata": {},
   "outputs": [
    {
     "name": "stdout",
     "output_type": "stream",
     "text": [
      "0\n"
     ]
    }
   ],
   "source": [
    "print(i)"
   ]
  },
  {
   "cell_type": "code",
   "execution_count": 10,
   "id": "275e2814",
   "metadata": {},
   "outputs": [
    {
     "name": "stdout",
     "output_type": "stream",
     "text": [
      "81\n"
     ]
    }
   ],
   "source": [
    "print(3**4)"
   ]
  },
  {
   "cell_type": "code",
   "execution_count": 11,
   "id": "aea18ee3",
   "metadata": {},
   "outputs": [
    {
     "name": "stdout",
     "output_type": "stream",
     "text": [
      "3125\n"
     ]
    }
   ],
   "source": [
    "v=5\n",
    "i=5\n",
    "print(v**i)"
   ]
  },
  {
   "cell_type": "code",
   "execution_count": 12,
   "id": "e7e99083",
   "metadata": {},
   "outputs": [
    {
     "data": {
      "text/plain": [
       "27"
      ]
     },
     "execution_count": 12,
     "metadata": {},
     "output_type": "execute_result"
    }
   ],
   "source": [
    "3**3"
   ]
  },
  {
   "cell_type": "code",
   "execution_count": 13,
   "id": "8e109c76",
   "metadata": {},
   "outputs": [
    {
     "data": {
      "text/plain": [
       "6"
      ]
     },
     "execution_count": 13,
     "metadata": {},
     "output_type": "execute_result"
    }
   ],
   "source": [
    "12^10"
   ]
  },
  {
   "cell_type": "code",
   "execution_count": 14,
   "id": "cba93d29",
   "metadata": {},
   "outputs": [],
   "source": [
    "a=10"
   ]
  },
  {
   "cell_type": "code",
   "execution_count": 15,
   "id": "91da72e6",
   "metadata": {},
   "outputs": [
    {
     "data": {
      "text/plain": [
       "-4"
      ]
     },
     "execution_count": 15,
     "metadata": {},
     "output_type": "execute_result"
    }
   ],
   "source": [
    "7//-2   #3   3.5  -4"
   ]
  },
  {
   "cell_type": "code",
   "execution_count": 16,
   "id": "8342996e",
   "metadata": {},
   "outputs": [
    {
     "data": {
      "text/plain": [
       "-6"
      ]
     },
     "execution_count": 16,
     "metadata": {},
     "output_type": "execute_result"
    }
   ],
   "source": [
    "17//-3"
   ]
  },
  {
   "cell_type": "markdown",
   "id": "6561e422",
   "metadata": {},
   "source": [
    "# Assignment Operator"
   ]
  },
  {
   "cell_type": "markdown",
   "id": "5a2e5587",
   "metadata": {},
   "source": [
    "The assignment operator in Python is represented by the equal sign =.\n",
    "\n",
    "Its primary purpose is to assign a value on the right-hand side (RHS) to a variable on the left-hand side (LHS). \n",
    "\n",
    "In Python Programming, we can use assignment in two ways. They are\n",
    "\n",
    "1) Single Line Assigment\n",
    "2) Multi Line Assigment\n",
    " "
   ]
  },
  {
   "cell_type": "markdown",
   "id": "57ffec34",
   "metadata": {},
   "source": [
    "Chained Assignment:\n",
    "\n",
    "You can assign the same value to multiple variables in a single line.\n",
    "Syntax: variable1 = variable2 = value\n",
    "Example:\n",
    "a = b = 10  # Assigns the value 10 to both 'a' and 'b'.\n",
    "\n",
    "\n",
    "\n",
    "Multiple Assignments:\n",
    "\n",
    "You can assign different values to multiple variables in a single line.\n",
    "Syntax: variable1, variable2 = value1, value2\n",
    "Example:\n",
    "name, age = \"Alice\", 30  # Assigns \"Alice\" to 'name' and 30 to 'age'.\n",
    "\n",
    "\n",
    "\n",
    "Assignment with Expressions:\n",
    "\n",
    "You can use expressions on the RHS and assign the result to a variable on the LHS.\n",
    "Syntax: variable = expression\n",
    "Example:\n",
    "total = 2 * 3 + 4  # Calculates the expression (2 * 3 + 4) and assigns the result (10) to 'total'.\n",
    "The assignment operator is fundamental in Python as it allows you to store and manipulate data by giving names (variables) to values. \n",
    "It's used extensively in programming to work with data and perform various operations.\n",
    "\n",
    "\n",
    "\n",
    "\n"
   ]
  },
  {
   "cell_type": "code",
   "execution_count": 17,
   "id": "da736d2b",
   "metadata": {},
   "outputs": [
    {
     "name": "stdout",
     "output_type": "stream",
     "text": [
      "50\n",
      "50\n"
     ]
    }
   ],
   "source": [
    "book=table=50\n",
    "print(book)\n",
    "print(table)"
   ]
  },
  {
   "cell_type": "code",
   "execution_count": 18,
   "id": "9a2a869e",
   "metadata": {},
   "outputs": [
    {
     "name": "stdout",
     "output_type": "stream",
     "text": [
      "Kishor\n",
      "30\n",
      "40000\n"
     ]
    }
   ],
   "source": [
    "name,age,salary=\"Kishor\",30,40000\n",
    "print(name)\n",
    "print(age)\n",
    "print(salary)\n"
   ]
  },
  {
   "cell_type": "code",
   "execution_count": 19,
   "id": "b5b04aa1",
   "metadata": {},
   "outputs": [
    {
     "name": "stdout",
     "output_type": "stream",
     "text": [
      "44\n"
     ]
    }
   ],
   "source": [
    "add=4*8+12\n",
    "print(add)\n"
   ]
  },
  {
   "cell_type": "code",
   "execution_count": 20,
   "id": "9f2b514e",
   "metadata": {},
   "outputs": [
    {
     "name": "stdout",
     "output_type": "stream",
     "text": [
      "20 30 <class 'int'> <class 'int'>\n"
     ]
    }
   ],
   "source": [
    "a,b=20,30\n",
    "print(a,b,type(a),type(b))"
   ]
  },
  {
   "cell_type": "code",
   "execution_count": 21,
   "id": "eb833503",
   "metadata": {},
   "outputs": [
    {
     "name": "stdout",
     "output_type": "stream",
     "text": [
      "20 30\n"
     ]
    }
   ],
   "source": [
    "print(a,b)"
   ]
  },
  {
   "cell_type": "code",
   "execution_count": 22,
   "id": "22f8fb45",
   "metadata": {},
   "outputs": [],
   "source": [
    "empid,empname,empcity=1,\"Sarthak\",\"Pune\""
   ]
  },
  {
   "cell_type": "code",
   "execution_count": 23,
   "id": "d67fe37c",
   "metadata": {},
   "outputs": [
    {
     "name": "stdout",
     "output_type": "stream",
     "text": [
      "1 <class 'int'>\n",
      "Sarthak <class 'str'>\n",
      "Pune <class 'str'>\n"
     ]
    }
   ],
   "source": [
    "print(empid,type(empid))\n",
    "print(empname,type(empname))\n",
    "print(empcity,type(empcity))"
   ]
  },
  {
   "cell_type": "code",
   "execution_count": 24,
   "id": "cfb4d955",
   "metadata": {},
   "outputs": [
    {
     "name": "stdout",
     "output_type": "stream",
     "text": [
      "30 -10 200\n"
     ]
    }
   ],
   "source": [
    "a=10\n",
    "b=20\n",
    "c,d,e=a+b,a-b,a*b\n",
    "print(c,d,e)"
   ]
  },
  {
   "cell_type": "markdown",
   "id": "70426a26",
   "metadata": {},
   "source": [
    "# Relational Operator"
   ]
  },
  {
   "cell_type": "markdown",
   "id": "b28b44c3",
   "metadata": {},
   "source": [
    "Relational operators, also known as comparison operators, are used in programming to compare two values and determine the relationship between them. \n",
    "\n",
    "These operators return a Boolean result, either True or False, depending on whether the specified relationship between the values is true or false. In Python, there are several relational operators:\n",
    "\n",
    "The purpose of Relational Operators is that \" To compare two or more values.\n",
    "\n",
    "If two or more values are connected with relationa Operators then it is called Relational \n",
    " Expression.\n",
    "\n",
    "In Python program, we have 6 Relational Operator "
   ]
  },
  {
   "cell_type": "markdown",
   "id": "af210f15",
   "metadata": {},
   "source": [
    "a>b\n",
    "\n",
    "a==b\n",
    "\n",
    "a<b\n",
    "    \n",
    "a>=b\n",
    "    \n",
    "a<=b\n",
    "    \n",
    "a!=b"
   ]
  },
  {
   "cell_type": "code",
   "execution_count": 25,
   "id": "d4d16040",
   "metadata": {},
   "outputs": [
    {
     "ename": "SyntaxError",
     "evalue": "invalid syntax (807550977.py, line 1)",
     "output_type": "error",
     "traceback": [
      "\u001b[1;36m  Cell \u001b[1;32mIn[25], line 1\u001b[1;36m\u001b[0m\n\u001b[1;33m    print(2<>8)   #similar to not equal it is available in python2.x bot in 3.x\u001b[0m\n\u001b[1;37m           ^\u001b[0m\n\u001b[1;31mSyntaxError\u001b[0m\u001b[1;31m:\u001b[0m invalid syntax\n"
     ]
    }
   ],
   "source": [
    "print(2<>8)   #similar to not equal it is available in python2.x bot in 3.x"
   ]
  },
  {
   "cell_type": "code",
   "execution_count": 26,
   "id": "fff32bf1",
   "metadata": {},
   "outputs": [
    {
     "name": "stdout",
     "output_type": "stream",
     "text": [
      "False\n"
     ]
    }
   ],
   "source": [
    "a=57\n",
    "b=67\n",
    "print(a>b)"
   ]
  },
  {
   "cell_type": "code",
   "execution_count": 27,
   "id": "48c2d01a",
   "metadata": {},
   "outputs": [
    {
     "name": "stdout",
     "output_type": "stream",
     "text": [
      "False\n"
     ]
    }
   ],
   "source": [
    "print(a==b)"
   ]
  },
  {
   "cell_type": "code",
   "execution_count": 28,
   "id": "8d93c786",
   "metadata": {},
   "outputs": [
    {
     "name": "stdout",
     "output_type": "stream",
     "text": [
      "True\n"
     ]
    }
   ],
   "source": [
    "print(a<b)"
   ]
  },
  {
   "cell_type": "code",
   "execution_count": 29,
   "id": "05f1c6a0",
   "metadata": {},
   "outputs": [
    {
     "name": "stdout",
     "output_type": "stream",
     "text": [
      "True\n"
     ]
    }
   ],
   "source": [
    "print(a!=b)"
   ]
  },
  {
   "cell_type": "code",
   "execution_count": 30,
   "id": "6affd181",
   "metadata": {},
   "outputs": [
    {
     "name": "stdout",
     "output_type": "stream",
     "text": [
      "True\n"
     ]
    }
   ],
   "source": [
    "print(a != b)"
   ]
  },
  {
   "cell_type": "code",
   "execution_count": 31,
   "id": "bca23fd6",
   "metadata": {},
   "outputs": [
    {
     "ename": "SyntaxError",
     "evalue": "invalid syntax (254638867.py, line 3)",
     "output_type": "error",
     "traceback": [
      "\u001b[1;36m  Cell \u001b[1;32mIn[31], line 3\u001b[1;36m\u001b[0m\n\u001b[1;33m    print(a <> b)\u001b[0m\n\u001b[1;37m            ^\u001b[0m\n\u001b[1;31mSyntaxError\u001b[0m\u001b[1;31m:\u001b[0m invalid syntax\n"
     ]
    }
   ],
   "source": [
    "a = 4\n",
    "b = 6\n",
    "print(a <> b)"
   ]
  },
  {
   "cell_type": "markdown",
   "id": "dd1ea99c",
   "metadata": {},
   "source": [
    "# Logical Operator"
   ]
  },
  {
   "cell_type": "markdown",
   "id": "7dacc193",
   "metadata": {},
   "source": [
    "In Python, logical operators are used to perform logical operations on Boolean values \n",
    "(True and False) or to combine the results of comparisons. \n",
    "\n",
    "Python provides three main logical operators: and, or, and not. \n",
    "    \n",
    "These operators allow you to create more complex conditions and make decisions in your code.\n",
    "\n",
    "The purpose of Logical Operators is that \"To combine two or more Relational Expressions\"\n",
    "\n",
    "If two or More Relational Expressions connected Logical Operators then it is called Logical \n",
    " Expression (Compund Conditions ) and gives the result either True or False\n",
    "    \n",
    "In Python Programming, we have 3 Logical Operators. \n",
    "\n",
    "They are\n",
    "\n",
    "a) and\n",
    "\n",
    "b) or\n",
    "\n",
    "c) not\n",
    "\n"
   ]
  },
  {
   "cell_type": "markdown",
   "id": "fe762567",
   "metadata": {},
   "source": [
    "and operator\n",
    "\n",
    "\n",
    "Short Circuit Evaluation:\n",
    " \n",
    "In the case 'and' operator, if the logical Expression contains n-relational expressions and if the First \n",
    "relational Expression is False then The entire result of Logical Expression is False (Without executing \n",
    "remain n-1 relational Expressions) .\n",
    "\n",
    "This process is called Short Circuit Evaluation\n",
    "\n",
    "Short-circuit evaluation is a concept in programming, primarily associated with logical operators, where the evaluation of an expression stops as soon as the outcome can be determined. \n",
    "\n",
    "In the context of the and operator, if the first relational expression (operand) is False, the entire expression is guaranteed to be False, and there's no need to evaluate the remaining relational expressions. \n",
    "\n",
    "This optimization can improve code efficiency and avoid unnecessary computations.\n",
    "\n",
    "\n",
    "Logical AND (and) Operator:\n",
    "    \n",
    "The and operator returns True only if both of its operands are True.\n",
    "\n",
    "If the first operand is False, there is no need to check the second operand because, regardless of its value, the result will always be False."
   ]
  },
  {
   "cell_type": "code",
   "execution_count": 32,
   "id": "864713cc",
   "metadata": {},
   "outputs": [
    {
     "name": "stdout",
     "output_type": "stream",
     "text": [
      "6\n"
     ]
    }
   ],
   "source": [
    "a=0b1010    \n",
    "b=0b0110\n",
    "c=a and b\n",
    "print(c)"
   ]
  },
  {
   "cell_type": "code",
   "execution_count": 33,
   "id": "851ee21a",
   "metadata": {},
   "outputs": [],
   "source": [
    "a,b,c=10,20,30"
   ]
  },
  {
   "cell_type": "code",
   "execution_count": 34,
   "id": "98a426a6",
   "metadata": {},
   "outputs": [
    {
     "data": {
      "text/plain": [
       "False"
      ]
     },
     "execution_count": 34,
     "metadata": {},
     "output_type": "execute_result"
    }
   ],
   "source": [
    "a>b and a>c"
   ]
  },
  {
   "cell_type": "code",
   "execution_count": 35,
   "id": "5389a018",
   "metadata": {},
   "outputs": [
    {
     "data": {
      "text/plain": [
       "False"
      ]
     },
     "execution_count": 35,
     "metadata": {},
     "output_type": "execute_result"
    }
   ],
   "source": [
    "True and True and True and True and True and False and True and True\n"
   ]
  },
  {
   "cell_type": "code",
   "execution_count": 36,
   "id": "108d47cb",
   "metadata": {},
   "outputs": [
    {
     "data": {
      "text/plain": [
       "False"
      ]
     },
     "execution_count": 36,
     "metadata": {},
     "output_type": "execute_result"
    }
   ],
   "source": [
    "10>4 and 10>22"
   ]
  },
  {
   "cell_type": "code",
   "execution_count": 37,
   "id": "8ba3f484",
   "metadata": {},
   "outputs": [
    {
     "data": {
      "text/plain": [
       "True"
      ]
     },
     "execution_count": 37,
     "metadata": {},
     "output_type": "execute_result"
    }
   ],
   "source": [
    "100>22 and 100>99"
   ]
  },
  {
   "cell_type": "code",
   "execution_count": 38,
   "id": "683e6569",
   "metadata": {},
   "outputs": [
    {
     "name": "stdout",
     "output_type": "stream",
     "text": [
      "False\n"
     ]
    }
   ],
   "source": [
    "a=1000>223 and 12392>3432 and 233393>22343 and 233922>2339 and 223933352>223343 and 10!=10\n",
    "print(a)"
   ]
  },
  {
   "cell_type": "code",
   "execution_count": 39,
   "id": "9924ac98",
   "metadata": {},
   "outputs": [
    {
     "name": "stdout",
     "output_type": "stream",
     "text": [
      "4\n"
     ]
    }
   ],
   "source": [
    "a=6  # 0110\n",
    "b=4  # 0100\n",
    "c=a and b\n",
    "print(c)"
   ]
  },
  {
   "cell_type": "code",
   "execution_count": 40,
   "id": "84bfc137",
   "metadata": {},
   "outputs": [
    {
     "name": "stdout",
     "output_type": "stream",
     "text": [
      "\n"
     ]
    }
   ],
   "source": [
    "a=34 and 46  and \"Hello\" and \"Bye\" and \"\" and 67 and 88 and 3568 and 12334\n",
    "print(a)"
   ]
  },
  {
   "cell_type": "code",
   "execution_count": 41,
   "id": "e3e29d5d",
   "metadata": {},
   "outputs": [
    {
     "name": "stdout",
     "output_type": "stream",
     "text": [
      "6\n"
     ]
    }
   ],
   "source": [
    "a=10\n",
    "b=6\n",
    "c=a and b\n",
    "print(c)"
   ]
  },
  {
   "cell_type": "code",
   "execution_count": 42,
   "id": "52e94a39",
   "metadata": {},
   "outputs": [],
   "source": [
    "a=34\n",
    "b=67"
   ]
  },
  {
   "cell_type": "code",
   "execution_count": 43,
   "id": "8eb1ff9c",
   "metadata": {},
   "outputs": [
    {
     "name": "stdout",
     "output_type": "stream",
     "text": [
      "False\n"
     ]
    }
   ],
   "source": [
    "print(not(a<b or a==34 or a!=34))"
   ]
  },
  {
   "cell_type": "markdown",
   "id": "f32e0c12",
   "metadata": {},
   "source": [
    "or operator\n",
    "\n",
    "the or operator is a logical operator used for combining conditional statements. It returns True if at least one of the conditions it combines is True. Here's how it works:\n",
    "\n",
    "Syntax:\n",
    "\n",
    "condition1 or condition2\n",
    "If condition1 is True, the or operator returns True without even evaluating condition2 because it's not necessary to do so.\n",
    "\n",
    "If condition1 is False, the or operator then evaluates condition2. If condition2 is True, the overall result is True. If condition2 is also False, the overall result is False.\n",
    "\n",
    "\n"
   ]
  },
  {
   "cell_type": "code",
   "execution_count": 44,
   "id": "ca0269ed",
   "metadata": {},
   "outputs": [
    {
     "data": {
      "text/plain": [
       "False"
      ]
     },
     "execution_count": 44,
     "metadata": {},
     "output_type": "execute_result"
    }
   ],
   "source": [
    "False or False or \"\" or False or False or False or False"
   ]
  },
  {
   "cell_type": "code",
   "execution_count": 45,
   "id": "6b2df9ed",
   "metadata": {},
   "outputs": [
    {
     "data": {
      "text/plain": [
       "False"
      ]
     },
     "execution_count": 45,
     "metadata": {},
     "output_type": "execute_result"
    }
   ],
   "source": [
    "100>202222 or 30>23223 or 239>23223 or 2239>222373 or 2223>22339 or 222>2222 "
   ]
  },
  {
   "cell_type": "code",
   "execution_count": 46,
   "id": "6bcc95fa",
   "metadata": {},
   "outputs": [
    {
     "name": "stdout",
     "output_type": "stream",
     "text": [
      "False\n"
     ]
    }
   ],
   "source": [
    "r=[1,24,5,6,7,7,5,3,3,4,7]\n",
    "print(7 not in r)"
   ]
  },
  {
   "cell_type": "code",
   "execution_count": 47,
   "id": "b9611526",
   "metadata": {},
   "outputs": [
    {
     "ename": "SyntaxError",
     "evalue": "invalid syntax (1264219245.py, line 1)",
     "output_type": "error",
     "traceback": [
      "\u001b[1;36m  Cell \u001b[1;32mIn[47], line 1\u001b[1;36m\u001b[0m\n\u001b[1;33m    true    false\u001b[0m\n\u001b[1;37m            ^\u001b[0m\n\u001b[1;31mSyntaxError\u001b[0m\u001b[1;31m:\u001b[0m invalid syntax\n"
     ]
    }
   ],
   "source": [
    "true    false\n",
    "false    true"
   ]
  },
  {
   "cell_type": "code",
   "execution_count": 48,
   "id": "020dd5c1",
   "metadata": {},
   "outputs": [
    {
     "ename": "TypeError",
     "evalue": "argument of type 'int' is not iterable",
     "output_type": "error",
     "traceback": [
      "\u001b[1;31m---------------------------------------------------------------------------\u001b[0m",
      "\u001b[1;31mTypeError\u001b[0m                                 Traceback (most recent call last)",
      "Cell \u001b[1;32mIn[48], line 3\u001b[0m\n\u001b[0;32m      1\u001b[0m q\u001b[38;5;241m=\u001b[39m\u001b[38;5;241m133\u001b[39m\n\u001b[0;32m      2\u001b[0m r\u001b[38;5;241m=\u001b[39m\u001b[38;5;241m223\u001b[39m\n\u001b[1;32m----> 3\u001b[0m \u001b[38;5;28mprint\u001b[39m(\u001b[38;5;241;43m133\u001b[39;49m\u001b[43m \u001b[49m\u001b[38;5;129;43;01mnot\u001b[39;49;00m\u001b[43m \u001b[49m\u001b[38;5;129;43;01min\u001b[39;49;00m\u001b[43m \u001b[49m\u001b[43mq\u001b[49m)\n",
      "\u001b[1;31mTypeError\u001b[0m: argument of type 'int' is not iterable"
     ]
    }
   ],
   "source": [
    "q=133\n",
    "r=223\n",
    "print(133 not in q)"
   ]
  },
  {
   "cell_type": "code",
   "execution_count": null,
   "id": "d7506191",
   "metadata": {},
   "outputs": [],
   "source": [
    "a=10\n",
    "b=20"
   ]
  },
  {
   "cell_type": "code",
   "execution_count": null,
   "id": "bcfe4155",
   "metadata": {},
   "outputs": [],
   "source": [
    "print(not a!=b)"
   ]
  },
  {
   "cell_type": "code",
   "execution_count": null,
   "id": "7d156714",
   "metadata": {},
   "outputs": [],
   "source": [
    "print(not(a<b or 10==20))"
   ]
  },
  {
   "cell_type": "code",
   "execution_count": null,
   "id": "d3917439",
   "metadata": {},
   "outputs": [],
   "source": [
    "a,b=10,20\n",
    "print(not a<b or not 10!=20)"
   ]
  },
  {
   "cell_type": "code",
   "execution_count": null,
   "id": "f79cbc80",
   "metadata": {},
   "outputs": [],
   "source": [
    "10>8 and 10>5 and 10>4 and 10>88 and 10>2"
   ]
  },
  {
   "cell_type": "code",
   "execution_count": null,
   "id": "30296167",
   "metadata": {},
   "outputs": [],
   "source": [
    "a,b,c=10,20,30\n",
    "b>a and a>c"
   ]
  },
  {
   "cell_type": "code",
   "execution_count": null,
   "id": "1fb5d3bf",
   "metadata": {},
   "outputs": [],
   "source": [
    "10>32 or 10>33 or 10>2 or 10>22 or 10>11 or 10>111"
   ]
  },
  {
   "cell_type": "code",
   "execution_count": null,
   "id": "0301eed0",
   "metadata": {},
   "outputs": [],
   "source": [
    "false or true or true"
   ]
  },
  {
   "cell_type": "code",
   "execution_count": 49,
   "id": "b80fb8a2",
   "metadata": {},
   "outputs": [
    {
     "ename": "NameError",
     "evalue": "name 'false' is not defined",
     "output_type": "error",
     "traceback": [
      "\u001b[1;31m---------------------------------------------------------------------------\u001b[0m",
      "\u001b[1;31mNameError\u001b[0m                                 Traceback (most recent call last)",
      "Cell \u001b[1;32mIn[49], line 1\u001b[0m\n\u001b[1;32m----> 1\u001b[0m \u001b[43mfalse\u001b[49m \u001b[38;5;129;01mand\u001b[39;00m true \u001b[38;5;129;01mand\u001b[39;00m true \u001b[38;5;129;01mor\u001b[39;00m true \u001b[38;5;129;01mand\u001b[39;00m true \u001b[38;5;129;01mand\u001b[39;00m false \u001b[38;5;129;01mor\u001b[39;00m true\n",
      "\u001b[1;31mNameError\u001b[0m: name 'false' is not defined"
     ]
    }
   ],
   "source": [
    "false and true and true or true and true and false or true"
   ]
  },
  {
   "cell_type": "code",
   "execution_count": 50,
   "id": "0777ffcf",
   "metadata": {},
   "outputs": [
    {
     "data": {
      "text/plain": [
       "True"
      ]
     },
     "execution_count": 50,
     "metadata": {},
     "output_type": "execute_result"
    }
   ],
   "source": [
    "10>20 and 20!=30 and 40>20 or 20!=45 and 33>22 and 224<23 or 22223>2232"
   ]
  },
  {
   "cell_type": "code",
   "execution_count": 51,
   "id": "2ab9f8a5",
   "metadata": {},
   "outputs": [
    {
     "data": {
      "text/plain": [
       "False"
      ]
     },
     "execution_count": 51,
     "metadata": {},
     "output_type": "execute_result"
    }
   ],
   "source": [
    "10>20 or 20!=30 and 40>20 and 20!=45 and 22>22  or 33>223 and 223>223"
   ]
  },
  {
   "cell_type": "code",
   "execution_count": 52,
   "id": "f1bcf0b0",
   "metadata": {},
   "outputs": [
    {
     "data": {
      "text/plain": [
       "False"
      ]
     },
     "execution_count": 52,
     "metadata": {},
     "output_type": "execute_result"
    }
   ],
   "source": [
    "10>20 or 20!=30 and 40>20 and 20==45"
   ]
  },
  {
   "cell_type": "code",
   "execution_count": 53,
   "id": "8abe4aab",
   "metadata": {},
   "outputs": [
    {
     "data": {
      "text/plain": [
       "False"
      ]
     },
     "execution_count": 53,
     "metadata": {},
     "output_type": "execute_result"
    }
   ],
   "source": [
    "not(10>20 or 20!=30 and 40>29 and 20==45 and 55>22 or 33>11 and 33>22)"
   ]
  },
  {
   "cell_type": "code",
   "execution_count": 54,
   "id": "3c1c9e7c",
   "metadata": {},
   "outputs": [
    {
     "name": "stdout",
     "output_type": "stream",
     "text": [
      "True\n"
     ]
    }
   ],
   "source": [
    "a=10\n",
    "b=20\n",
    "print(not a>b)"
   ]
  },
  {
   "cell_type": "code",
   "execution_count": 55,
   "id": "107f5522",
   "metadata": {},
   "outputs": [
    {
     "name": "stdout",
     "output_type": "stream",
     "text": [
      "False\n"
     ]
    }
   ],
   "source": [
    "print(not(a>b or 10!=20))"
   ]
  },
  {
   "cell_type": "code",
   "execution_count": 56,
   "id": "9eec8f37",
   "metadata": {},
   "outputs": [
    {
     "name": "stdout",
     "output_type": "stream",
     "text": [
      "False\n"
     ]
    }
   ],
   "source": [
    "print(not a<b or not 10!=20)"
   ]
  },
  {
   "cell_type": "code",
   "execution_count": 57,
   "id": "d510b92f",
   "metadata": {},
   "outputs": [
    {
     "data": {
      "text/plain": [
       "20"
      ]
     },
     "execution_count": 57,
     "metadata": {},
     "output_type": "execute_result"
    }
   ],
   "source": [
    "10 and 20"
   ]
  },
  {
   "cell_type": "code",
   "execution_count": 58,
   "id": "9f74b4c4",
   "metadata": {},
   "outputs": [
    {
     "data": {
      "text/plain": [
       "60"
      ]
     },
     "execution_count": 58,
     "metadata": {},
     "output_type": "execute_result"
    }
   ],
   "source": [
    "50 and 60"
   ]
  },
  {
   "cell_type": "code",
   "execution_count": 59,
   "id": "b169415e",
   "metadata": {},
   "outputs": [
    {
     "data": {
      "text/plain": [
       "7"
      ]
     },
     "execution_count": 59,
     "metadata": {},
     "output_type": "execute_result"
    }
   ],
   "source": [
    "1 and 2 and 3 and 4 and 7"
   ]
  },
  {
   "cell_type": "markdown",
   "id": "e50a0111",
   "metadata": {},
   "source": [
    "In Python, when you use the and operator (1 and 2 in this case), the result will be the second operand if the first operand is considered \"truthy\" (i.e., not equal to False, None, 0, 0.0, \"\", [], {}, etc.). Otherwise, the result will be the first operand. This behavior is known as short-circuiting."
   ]
  },
  {
   "cell_type": "code",
   "execution_count": 60,
   "id": "ebbf200f",
   "metadata": {},
   "outputs": [
    {
     "data": {
      "text/plain": [
       "3"
      ]
     },
     "execution_count": 60,
     "metadata": {},
     "output_type": "execute_result"
    }
   ],
   "source": [
    "[] or 3 or 2 or 2 or []"
   ]
  },
  {
   "cell_type": "markdown",
   "id": "4e8dc81c",
   "metadata": {},
   "source": [
    "# Bitwise Operator"
   ]
  },
  {
   "cell_type": "markdown",
   "id": "636197d1",
   "metadata": {},
   "source": [
    "Bitwise operators in Python are used to perform operations on individual bits of integers but not on floating point values(becuase floating point values does not certain certianity \n",
    "\n",
    "Bitwise operators are like tools that help a computer work with the tiny pieces of information that make up numbers and other stuff on a computer. Imagine numbers and letters are made up of tiny switches that can either be on (1) or off (0).\n",
    "\n",
    "These operators work at the binary level, manipulating the binary representations of numbers.\n",
    "\n",
    "These operators work at the binary level, allowing you to perform operations on the individual bits of integers or other data types that can be represented in binary form (such as characters).\n",
    "\n",
    "Python provides several bitwise operators:\n",
    "\n",
    "Bitwise AND (&) \n",
    "\n",
    "Bitwise OR (|)\n",
    "\n",
    "Bitwise XOR (^)  \n",
    "\n",
    "Bitwise NOT (~)  \n",
    "\n",
    "Left Shift (<<)  \n",
    "\n",
    "Right Shift (>>)  "
   ]
  },
  {
   "cell_type": "markdown",
   "id": "41373308",
   "metadata": {},
   "source": [
    "# Bitwise AND Operator(&)\n",
    "The bitwise AND operator (&) is a fundamental operator in computer programming used to perform a bitwise AND operation between two binary numbers or binary representations of integers. It compares each pair of corresponding bits and returns a result where each bit is set to 1 only if both bits in the same position are 1.\n",
    "\n",
    "Here's how the bitwise AND operator works:\n",
    "\n",
    "If both bits are 1, the result bit is set to 1.\n",
    "\n",
    "If one or both bits are 0, the result bit is set to 0.\n",
    "\n",
    "And\n",
    "\n",
    "   input1  imput2   \n",
    "       1     1      1\n",
    "       0      1    0 \n",
    "       1      0     0\n",
    "       0      0      0\n",
    " "
   ]
  },
  {
   "cell_type": "code",
   "execution_count": 61,
   "id": "bbc147ae",
   "metadata": {},
   "outputs": [
    {
     "ename": "SyntaxError",
     "evalue": "invalid syntax (1765027629.py, line 3)",
     "output_type": "error",
     "traceback": [
      "\u001b[1;36m  Cell \u001b[1;32mIn[61], line 3\u001b[1;36m\u001b[0m\n\u001b[1;33m    1 1 0 0\u001b[0m\n\u001b[1;37m      ^\u001b[0m\n\u001b[1;31mSyntaxError\u001b[0m\u001b[1;31m:\u001b[0m invalid syntax\n"
     ]
    }
   ],
   "source": [
    "AND\n",
    "\n",
    "1 1 0 0 \n",
    "1 0 1 0\n",
    "1 0 0 0"
   ]
  },
  {
   "cell_type": "code",
   "execution_count": 62,
   "id": "88362937",
   "metadata": {},
   "outputs": [
    {
     "data": {
      "text/plain": [
       "91"
      ]
     },
     "execution_count": 62,
     "metadata": {},
     "output_type": "execute_result"
    }
   ],
   "source": [
    "5 and 6 and 2 and 9 and 2 and 1 and 91"
   ]
  },
  {
   "cell_type": "code",
   "execution_count": 63,
   "id": "eb23a6c8",
   "metadata": {},
   "outputs": [
    {
     "name": "stdout",
     "output_type": "stream",
     "text": [
      "4\n"
     ]
    }
   ],
   "source": [
    "a=247\n",
    "b=12\n",
    "c=a & b\n",
    "print(c)"
   ]
  },
  {
   "cell_type": "code",
   "execution_count": 64,
   "id": "4d150302",
   "metadata": {},
   "outputs": [
    {
     "name": "stdout",
     "output_type": "stream",
     "text": [
      "{20}\n"
     ]
    }
   ],
   "source": [
    "s1={10,20,30,40}\n",
    "s2={50,70,20,80}\n",
    "c=s1 & s2\n",
    "print(c)   #Intersection"
   ]
  },
  {
   "cell_type": "code",
   "execution_count": 65,
   "id": "f1fa2b64",
   "metadata": {},
   "outputs": [
    {
     "data": {
      "text/plain": [
       "'0b11110111'"
      ]
     },
     "execution_count": 65,
     "metadata": {},
     "output_type": "execute_result"
    }
   ],
   "source": [
    "bin(247)"
   ]
  },
  {
   "cell_type": "code",
   "execution_count": 66,
   "id": "f4090bf9",
   "metadata": {},
   "outputs": [
    {
     "data": {
      "text/plain": [
       "'0b1100'"
      ]
     },
     "execution_count": 66,
     "metadata": {},
     "output_type": "execute_result"
    }
   ],
   "source": [
    "bin(12)"
   ]
  },
  {
   "cell_type": "code",
   "execution_count": 67,
   "id": "37ba0aa4",
   "metadata": {},
   "outputs": [
    {
     "ename": "SyntaxError",
     "evalue": "leading zeros in decimal integer literals are not permitted; use an 0o prefix for octal integers (3353627729.py, line 2)",
     "output_type": "error",
     "traceback": [
      "\u001b[1;36m  Cell \u001b[1;32mIn[67], line 2\u001b[1;36m\u001b[0m\n\u001b[1;33m    00001100\u001b[0m\n\u001b[1;37m    ^\u001b[0m\n\u001b[1;31mSyntaxError\u001b[0m\u001b[1;31m:\u001b[0m leading zeros in decimal integer literals are not permitted; use an 0o prefix for octal integers\n"
     ]
    }
   ],
   "source": [
    "11110111\n",
    "00001100\n",
    "4"
   ]
  },
  {
   "cell_type": "code",
   "execution_count": 68,
   "id": "312f8df6",
   "metadata": {},
   "outputs": [
    {
     "data": {
      "text/plain": [
       "10000000"
      ]
     },
     "execution_count": 68,
     "metadata": {},
     "output_type": "execute_result"
    }
   ],
   "source": [
    "11110111\n",
    "10000000\n",
    "10000000"
   ]
  },
  {
   "cell_type": "code",
   "execution_count": 69,
   "id": "c57c7800",
   "metadata": {},
   "outputs": [
    {
     "ename": "SyntaxError",
     "evalue": "invalid syntax (850656285.py, line 1)",
     "output_type": "error",
     "traceback": [
      "\u001b[1;36m  Cell \u001b[1;32mIn[69], line 1\u001b[1;36m\u001b[0m\n\u001b[1;33m    2 247\u001b[0m\n\u001b[1;37m      ^\u001b[0m\n\u001b[1;31mSyntaxError\u001b[0m\u001b[1;31m:\u001b[0m invalid syntax\n"
     ]
    }
   ],
   "source": [
    "2 247\n",
    "  123 1\n",
    "  61  1\n",
    "  35  0\n",
    "  17  1\n",
    "   8  1\n",
    "    4 0\n",
    "    2 0\n",
    "    1 0\n",
    "(100011011) \n",
    "(1000000)"
   ]
  },
  {
   "cell_type": "code",
   "execution_count": 70,
   "id": "f91c979c",
   "metadata": {},
   "outputs": [
    {
     "ename": "SyntaxError",
     "evalue": "invalid syntax (3715908860.py, line 1)",
     "output_type": "error",
     "traceback": [
      "\u001b[1;36m  Cell \u001b[1;32mIn[70], line 1\u001b[1;36m\u001b[0m\n\u001b[1;33m    2  128\u001b[0m\n\u001b[1;37m       ^\u001b[0m\n\u001b[1;31mSyntaxError\u001b[0m\u001b[1;31m:\u001b[0m invalid syntax\n"
     ]
    }
   ],
   "source": [
    "2  128\n",
    "    64  0\n",
    "    32  0\n",
    "    16   0\n",
    "    8   0\n",
    "    4   0\n",
    "    2   0\n",
    "    1"
   ]
  },
  {
   "cell_type": "code",
   "execution_count": 71,
   "id": "a1aeb320",
   "metadata": {},
   "outputs": [
    {
     "ename": "SyntaxError",
     "evalue": "leading zeros in decimal integer literals are not permitted; use an 0o prefix for octal integers (613445293.py, line 1)",
     "output_type": "error",
     "traceback": [
      "\u001b[1;36m  Cell \u001b[1;32mIn[71], line 1\u001b[1;36m\u001b[0m\n\u001b[1;33m    0110\u001b[0m\n\u001b[1;37m    ^\u001b[0m\n\u001b[1;31mSyntaxError\u001b[0m\u001b[1;31m:\u001b[0m leading zeros in decimal integer literals are not permitted; use an 0o prefix for octal integers\n"
     ]
    }
   ],
   "source": [
    "0110\n",
    "1100\n",
    "0100"
   ]
  },
  {
   "cell_type": "code",
   "execution_count": 72,
   "id": "5978a96e",
   "metadata": {},
   "outputs": [],
   "source": [
    "a=56"
   ]
  },
  {
   "cell_type": "code",
   "execution_count": 73,
   "id": "f6a65199",
   "metadata": {},
   "outputs": [],
   "source": [
    "b=14"
   ]
  },
  {
   "cell_type": "code",
   "execution_count": 74,
   "id": "d7618a3c",
   "metadata": {},
   "outputs": [
    {
     "ename": "IndentationError",
     "evalue": "unexpected indent (2970108812.py, line 4)",
     "output_type": "error",
     "traceback": [
      "\u001b[1;36m  Cell \u001b[1;32mIn[74], line 4\u001b[1;36m\u001b[0m\n\u001b[1;33m    0 0 1 1 1 0\u001b[0m\n\u001b[1;37m    ^\u001b[0m\n\u001b[1;31mIndentationError\u001b[0m\u001b[1;31m:\u001b[0m unexpected indent\n"
     ]
    }
   ],
   "source": [
    "c=a&b\n",
    "\n",
    "# 1 1 1 0 0 0\n",
    "  0 0 1 1 1 0\n",
    "      1 0 0 0 \n",
    "        2^3*1  2^2*0 2^1*0 2^0*0"
   ]
  },
  {
   "cell_type": "code",
   "execution_count": 75,
   "id": "b374ce89",
   "metadata": {},
   "outputs": [
    {
     "name": "stdout",
     "output_type": "stream",
     "text": [
      "{20}\n"
     ]
    }
   ],
   "source": [
    "print(c)"
   ]
  },
  {
   "cell_type": "code",
   "execution_count": 76,
   "id": "94655796",
   "metadata": {},
   "outputs": [
    {
     "name": "stdout",
     "output_type": "stream",
     "text": [
      "18\n"
     ]
    }
   ],
   "source": [
    "y=23\n",
    "b=18\n",
    "print(y&b)"
   ]
  },
  {
   "cell_type": "code",
   "execution_count": 78,
   "id": "79fd92d6",
   "metadata": {
    "scrolled": true
   },
   "outputs": [
    {
     "ename": "IndentationError",
     "evalue": "unindent does not match any outer indentation level (<tokenize>, line 8)",
     "output_type": "error",
     "traceback": [
      "\u001b[1;36m  File \u001b[1;32m<tokenize>:8\u001b[1;36m\u001b[0m\n\u001b[1;33m    2^4*1         2^3*0       2^2*1         2^1*0        2^0*1\u001b[0m\n\u001b[1;37m    ^\u001b[0m\n\u001b[1;31mIndentationError\u001b[0m\u001b[1;31m:\u001b[0m unindent does not match any outer indentation level\n"
     ]
    }
   ],
   "source": [
    "t=bin(y)\n",
    "print(t)\n",
    "p=bin(18)\n",
    "print(p)\n",
    "  \n",
    "    \n",
    "    1       0       1      0         1\n",
    "  2^4*1         2^3*0       2^2*1         2^1*0        2^0*1\n"
   ]
  },
  {
   "cell_type": "code",
   "execution_count": 79,
   "id": "7c22ee77",
   "metadata": {},
   "outputs": [
    {
     "name": "stdout",
     "output_type": "stream",
     "text": [
      "21\n"
     ]
    }
   ],
   "source": [
    "a=0b10101\n",
    "print(a)"
   ]
  },
  {
   "cell_type": "code",
   "execution_count": 80,
   "id": "6ce76d16",
   "metadata": {},
   "outputs": [
    {
     "ename": "SyntaxError",
     "evalue": "leading zeros in decimal integer literals are not permitted; use an 0o prefix for octal integers (1176803911.py, line 2)",
     "output_type": "error",
     "traceback": [
      "\u001b[1;36m  Cell \u001b[1;32mIn[80], line 2\u001b[1;36m\u001b[0m\n\u001b[1;33m    1  0001\u001b[0m\n\u001b[1;37m       ^\u001b[0m\n\u001b[1;31mSyntaxError\u001b[0m\u001b[1;31m:\u001b[0m leading zeros in decimal integer literals are not permitted; use an 0o prefix for octal integers\n"
     ]
    }
   ],
   "source": [
    "0  0000\n",
    "1  0001\n",
    "2  0010\n",
    "3  0011\n",
    "4  0100\n",
    "5  0101\n",
    "6  0110\n",
    "7  0111\n",
    "8  1000\n",
    "9  1001\n",
    "10 1010\n",
    "11 1011\n",
    "12 1100\n",
    "13 1101\n",
    "14 1110\n",
    "15 1111"
   ]
  },
  {
   "cell_type": "code",
   "execution_count": 81,
   "id": "9feb4606",
   "metadata": {},
   "outputs": [
    {
     "name": "stdout",
     "output_type": "stream",
     "text": [
      "{13}\n",
      "{13}\n"
     ]
    }
   ],
   "source": [
    "s1={13,63,52,44}\n",
    "s2={32,57,25,13}\n",
    "s3=s1&s2\n",
    "print(s3)\n",
    "r=s1.intersection(s2)\n",
    "print(r)"
   ]
  },
  {
   "cell_type": "markdown",
   "id": "044eb819",
   "metadata": {},
   "source": [
    "# Bitwise OR operator (|)\n",
    "The bitwise OR operator (|) is a fundamental operator in computer programming used to perform a bitwise OR operation between two binary numbers or binary representations of integers. It compares each pair of corresponding bits and returns a result where each bit is set to 1 if at least one of the bits in the same position is 1.\n",
    "\n",
    "Here's how the bitwise OR operator works:\n",
    "\n",
    "If at least one of the bits is 1, the result bit is set to 1.\n",
    "If both bits are 0, the result bit is set to 0."
   ]
  },
  {
   "cell_type": "code",
   "execution_count": 82,
   "id": "fe623c79",
   "metadata": {},
   "outputs": [
    {
     "ename": "SyntaxError",
     "evalue": "invalid syntax (2049927735.py, line 1)",
     "output_type": "error",
     "traceback": [
      "\u001b[1;36m  Cell \u001b[1;32mIn[82], line 1\u001b[1;36m\u001b[0m\n\u001b[1;33m    1 0 1 0\u001b[0m\n\u001b[1;37m      ^\u001b[0m\n\u001b[1;31mSyntaxError\u001b[0m\u001b[1;31m:\u001b[0m invalid syntax\n"
     ]
    }
   ],
   "source": [
    "1 0 1 0\n",
    "0 1 1 0\n",
    "1 1 1 0\n"
   ]
  },
  {
   "cell_type": "code",
   "execution_count": 83,
   "id": "ac807bc0",
   "metadata": {},
   "outputs": [
    {
     "name": "stdout",
     "output_type": "stream",
     "text": [
      "167\n"
     ]
    }
   ],
   "source": [
    "a=34\n",
    "b=167\n",
    "c= a | b\n",
    "print(c)"
   ]
  },
  {
   "cell_type": "code",
   "execution_count": 84,
   "id": "98580b65",
   "metadata": {},
   "outputs": [
    {
     "data": {
      "text/plain": [
       "167"
      ]
     },
     "execution_count": 84,
     "metadata": {},
     "output_type": "execute_result"
    }
   ],
   "source": [
    "167\n",
    "167"
   ]
  },
  {
   "cell_type": "code",
   "execution_count": 85,
   "id": "8dd96258",
   "metadata": {},
   "outputs": [
    {
     "ename": "SyntaxError",
     "evalue": "leading zeros in decimal integer literals are not permitted; use an 0o prefix for octal integers (1690373436.py, line 2)",
     "output_type": "error",
     "traceback": [
      "\u001b[1;36m  Cell \u001b[1;32mIn[85], line 2\u001b[1;36m\u001b[0m\n\u001b[1;33m    0111\u001b[0m\n\u001b[1;37m    ^\u001b[0m\n\u001b[1;31mSyntaxError\u001b[0m\u001b[1;31m:\u001b[0m leading zeros in decimal integer literals are not permitted; use an 0o prefix for octal integers\n"
     ]
    }
   ],
   "source": [
    "1100\n",
    "0111\n",
    "1111"
   ]
  },
  {
   "cell_type": "code",
   "execution_count": 86,
   "id": "26733993",
   "metadata": {},
   "outputs": [
    {
     "data": {
      "text/plain": [
       "17"
      ]
     },
     "execution_count": 86,
     "metadata": {},
     "output_type": "execute_result"
    }
   ],
   "source": [
    "11100101\n",
    "0b00010001"
   ]
  },
  {
   "cell_type": "code",
   "execution_count": 87,
   "id": "7b3490d0",
   "metadata": {},
   "outputs": [
    {
     "name": "stdout",
     "output_type": "stream",
     "text": [
      "{70, 40, 10, 80, 50, 20, 30}\n"
     ]
    }
   ],
   "source": [
    "s1={10,20,30,40}\n",
    "s2={50,70,20,80}\n",
    "c= s1 | s2\n",
    "print(c)"
   ]
  },
  {
   "cell_type": "code",
   "execution_count": 88,
   "id": "c54923c5",
   "metadata": {},
   "outputs": [
    {
     "data": {
      "text/plain": [
       "13"
      ]
     },
     "execution_count": 88,
     "metadata": {},
     "output_type": "execute_result"
    }
   ],
   "source": [
    "5 | 8"
   ]
  },
  {
   "cell_type": "code",
   "execution_count": 89,
   "id": "1683184f",
   "metadata": {},
   "outputs": [
    {
     "ename": "SyntaxError",
     "evalue": "leading zeros in decimal integer literals are not permitted; use an 0o prefix for octal integers (1039181050.py, line 1)",
     "output_type": "error",
     "traceback": [
      "\u001b[1;36m  Cell \u001b[1;32mIn[89], line 1\u001b[1;36m\u001b[0m\n\u001b[1;33m    0101\u001b[0m\n\u001b[1;37m    ^\u001b[0m\n\u001b[1;31mSyntaxError\u001b[0m\u001b[1;31m:\u001b[0m leading zeros in decimal integer literals are not permitted; use an 0o prefix for octal integers\n"
     ]
    }
   ],
   "source": [
    "0101\n",
    "1000\n",
    "1101\n"
   ]
  },
  {
   "cell_type": "code",
   "execution_count": 90,
   "id": "7e5cf935",
   "metadata": {},
   "outputs": [
    {
     "data": {
      "text/plain": [
       "{10, 20, 30, 50, 60}"
      ]
     },
     "execution_count": 90,
     "metadata": {},
     "output_type": "execute_result"
    }
   ],
   "source": [
    "s1={10,20,30}\n",
    "s2={60,20,50}\n",
    "s1 | s2   #union"
   ]
  },
  {
   "cell_type": "code",
   "execution_count": 91,
   "id": "903ca875",
   "metadata": {},
   "outputs": [
    {
     "data": {
      "text/plain": [
       "9"
      ]
     },
     "execution_count": 91,
     "metadata": {},
     "output_type": "execute_result"
    }
   ],
   "source": [
    "0 or 0 or 0 or 0 or 9 or 0 or 0 or 9 or 5 or 0"
   ]
  },
  {
   "cell_type": "code",
   "execution_count": 92,
   "id": "dd89e6f9",
   "metadata": {},
   "outputs": [],
   "source": [
    "a=7"
   ]
  },
  {
   "cell_type": "code",
   "execution_count": 93,
   "id": "0e1fd26c",
   "metadata": {},
   "outputs": [],
   "source": [
    "g=12"
   ]
  },
  {
   "cell_type": "code",
   "execution_count": 94,
   "id": "42671983",
   "metadata": {},
   "outputs": [
    {
     "name": "stdout",
     "output_type": "stream",
     "text": [
      "15\n"
     ]
    }
   ],
   "source": [
    "print(a | g)"
   ]
  },
  {
   "cell_type": "code",
   "execution_count": 95,
   "id": "5c0253e3",
   "metadata": {},
   "outputs": [
    {
     "ename": "SyntaxError",
     "evalue": "leading zeros in decimal integer literals are not permitted; use an 0o prefix for octal integers (1746476789.py, line 2)",
     "output_type": "error",
     "traceback": [
      "\u001b[1;36m  Cell \u001b[1;32mIn[95], line 2\u001b[1;36m\u001b[0m\n\u001b[1;33m    0011\u001b[0m\n\u001b[1;37m    ^\u001b[0m\n\u001b[1;31mSyntaxError\u001b[0m\u001b[1;31m:\u001b[0m leading zeros in decimal integer literals are not permitted; use an 0o prefix for octal integers\n"
     ]
    }
   ],
   "source": [
    "print(3| 6)\n",
    "0011\n",
    "0110\n",
    "0111"
   ]
  },
  {
   "cell_type": "code",
   "execution_count": 96,
   "id": "ab533059",
   "metadata": {},
   "outputs": [
    {
     "name": "stdout",
     "output_type": "stream",
     "text": [
      "{50, 20, 10, 60, 30}\n",
      "{50, 20, 10, 60, 30}\n"
     ]
    }
   ],
   "source": [
    "b\n",
    "s3=s1.union(s2)\n",
    "print(s3)\n",
    "s4= s1 | s2\n",
    "print(s4)"
   ]
  },
  {
   "cell_type": "markdown",
   "id": "cc520455",
   "metadata": {},
   "source": [
    "# Bitwise XOR Operator(^)\n",
    "The bitwise XOR operator (^) is a fundamental operator in computer programming used to perform a bitwise XOR (exclusive OR) operation between two binary numbers or binary representations of integers.\n",
    "\n",
    "It compares each pair of corresponding bits and returns a result where each bit is set to 1 if and only if exactly one of the bits in the same position is 1.\n",
    "\n",
    "Here's how the bitwise XOR operator works:\n",
    "\n",
    "If one, but not both, of the bits is 1, the result bit is set to 1.\n",
    "\n",
    "If both bits are 0 or both bits are 1, the result bit is set to 0."
   ]
  },
  {
   "cell_type": "code",
   "execution_count": 97,
   "id": "6ac75104",
   "metadata": {},
   "outputs": [
    {
     "ename": "SyntaxError",
     "evalue": "invalid syntax (4182906259.py, line 1)",
     "output_type": "error",
     "traceback": [
      "\u001b[1;36m  Cell \u001b[1;32mIn[97], line 1\u001b[1;36m\u001b[0m\n\u001b[1;33m    1 0 0 1\u001b[0m\n\u001b[1;37m      ^\u001b[0m\n\u001b[1;31mSyntaxError\u001b[0m\u001b[1;31m:\u001b[0m invalid syntax\n"
     ]
    }
   ],
   "source": [
    "1 0 0 1\n",
    "0 1 0 1\n",
    "1 1 0 0"
   ]
  },
  {
   "cell_type": "code",
   "execution_count": 98,
   "id": "e3c8f637",
   "metadata": {},
   "outputs": [
    {
     "data": {
      "text/plain": [
       "9"
      ]
     },
     "execution_count": 98,
     "metadata": {},
     "output_type": "execute_result"
    }
   ],
   "source": [
    "15 ^ 6\n"
   ]
  },
  {
   "cell_type": "code",
   "execution_count": 99,
   "id": "08e052b8",
   "metadata": {},
   "outputs": [
    {
     "ename": "SyntaxError",
     "evalue": "leading zeros in decimal integer literals are not permitted; use an 0o prefix for octal integers (714740187.py, line 1)",
     "output_type": "error",
     "traceback": [
      "\u001b[1;36m  Cell \u001b[1;32mIn[99], line 1\u001b[1;36m\u001b[0m\n\u001b[1;33m    0110\u001b[0m\n\u001b[1;37m    ^\u001b[0m\n\u001b[1;31mSyntaxError\u001b[0m\u001b[1;31m:\u001b[0m leading zeros in decimal integer literals are not permitted; use an 0o prefix for octal integers\n"
     ]
    }
   ],
   "source": [
    "0110\n",
    "1111\n",
    "1001"
   ]
  },
  {
   "cell_type": "code",
   "execution_count": 100,
   "id": "0bd5d005",
   "metadata": {},
   "outputs": [
    {
     "name": "stdout",
     "output_type": "stream",
     "text": [
      "{10, 12, 45, 30}\n"
     ]
    }
   ],
   "source": [
    "s1={10,20,30}\n",
    "s2={12,20,45}\n",
    "c=s1 ^ s2\n",
    "print(c)   #symmetric_difference"
   ]
  },
  {
   "cell_type": "code",
   "execution_count": 101,
   "id": "60cd4a3d",
   "metadata": {},
   "outputs": [
    {
     "data": {
      "text/plain": [
       "12"
      ]
     },
     "execution_count": 101,
     "metadata": {},
     "output_type": "execute_result"
    }
   ],
   "source": [
    "10 ^ 6"
   ]
  },
  {
   "cell_type": "code",
   "execution_count": 102,
   "id": "27f07ba5",
   "metadata": {},
   "outputs": [
    {
     "ename": "SyntaxError",
     "evalue": "leading zeros in decimal integer literals are not permitted; use an 0o prefix for octal integers (1173485714.py, line 2)",
     "output_type": "error",
     "traceback": [
      "\u001b[1;36m  Cell \u001b[1;32mIn[102], line 2\u001b[1;36m\u001b[0m\n\u001b[1;33m    0110\u001b[0m\n\u001b[1;37m    ^\u001b[0m\n\u001b[1;31mSyntaxError\u001b[0m\u001b[1;31m:\u001b[0m leading zeros in decimal integer literals are not permitted; use an 0o prefix for octal integers\n"
     ]
    }
   ],
   "source": [
    "1010\n",
    "0110\n",
    "1100\n"
   ]
  },
  {
   "cell_type": "code",
   "execution_count": 103,
   "id": "9f05bfa8",
   "metadata": {},
   "outputs": [
    {
     "data": {
      "text/plain": [
       "{15, 20, 25, 30}"
      ]
     },
     "execution_count": 103,
     "metadata": {},
     "output_type": "execute_result"
    }
   ],
   "source": [
    "s1={10,20,30}\n",
    "s2={10,15,25}\n",
    "\n",
    "s1 ^ s2    #symmetric_difference(s2b)"
   ]
  },
  {
   "cell_type": "code",
   "execution_count": 104,
   "id": "d95002a2",
   "metadata": {},
   "outputs": [
    {
     "name": "stdout",
     "output_type": "stream",
     "text": [
      "{15, 20, 25, 30}\n"
     ]
    }
   ],
   "source": [
    "s3=s1.symmetric_difference(s2)\n",
    "print(s3)"
   ]
  },
  {
   "cell_type": "code",
   "execution_count": 105,
   "id": "7576cbb2",
   "metadata": {},
   "outputs": [
    {
     "ename": "SyntaxError",
     "evalue": "invalid syntax (2225408898.py, line 1)",
     "output_type": "error",
     "traceback": [
      "\u001b[1;36m  Cell \u001b[1;32mIn[105], line 1\u001b[1;36m\u001b[0m\n\u001b[1;33m    a=33   100001\u001b[0m\n\u001b[1;37m           ^\u001b[0m\n\u001b[1;31mSyntaxError\u001b[0m\u001b[1;31m:\u001b[0m invalid syntax\n"
     ]
    }
   ],
   "source": [
    "a=33   100001"
   ]
  },
  {
   "cell_type": "code",
   "execution_count": 106,
   "id": "e8752dea",
   "metadata": {},
   "outputs": [
    {
     "ename": "SyntaxError",
     "evalue": "invalid syntax (2059398179.py, line 1)",
     "output_type": "error",
     "traceback": [
      "\u001b[1;36m  Cell \u001b[1;32mIn[106], line 1\u001b[1;36m\u001b[0m\n\u001b[1;33m    b=23    10111\u001b[0m\n\u001b[1;37m            ^\u001b[0m\n\u001b[1;31mSyntaxError\u001b[0m\u001b[1;31m:\u001b[0m invalid syntax\n"
     ]
    }
   ],
   "source": [
    "b=23    10111"
   ]
  },
  {
   "cell_type": "code",
   "execution_count": 107,
   "id": "018d7fa4",
   "metadata": {},
   "outputs": [
    {
     "name": "stdout",
     "output_type": "stream",
     "text": [
      "160\n"
     ]
    }
   ],
   "source": [
    "c=a^b\n",
    "print(c)"
   ]
  },
  {
   "cell_type": "code",
   "execution_count": 108,
   "id": "9852131b",
   "metadata": {},
   "outputs": [
    {
     "name": "stdout",
     "output_type": "stream",
     "text": [
      "{100, 230, 11, 302, 153, 255}\n"
     ]
    },
    {
     "ename": "NameError",
     "evalue": "name 's5' is not defined",
     "output_type": "error",
     "traceback": [
      "\u001b[1;31m---------------------------------------------------------------------------\u001b[0m",
      "\u001b[1;31mNameError\u001b[0m                                 Traceback (most recent call last)",
      "Cell \u001b[1;32mIn[108], line 6\u001b[0m\n\u001b[0;32m      4\u001b[0m \u001b[38;5;28mprint\u001b[39m(s4)\n\u001b[0;32m      5\u001b[0m s6\u001b[38;5;241m=\u001b[39ms1\u001b[38;5;241m.\u001b[39msymmetric_difference(s2)\n\u001b[1;32m----> 6\u001b[0m \u001b[38;5;28mprint\u001b[39m(\u001b[43ms5\u001b[49m)\n\u001b[0;32m      7\u001b[0m \u001b[38;5;28mprint\u001b[39m(s6)\n",
      "\u001b[1;31mNameError\u001b[0m: name 's5' is not defined"
     ]
    }
   ],
   "source": [
    "s1={100,230,44,302}\n",
    "s2={11,153,44,255}\n",
    "s4=s1^s2\n",
    "print(s4)\n",
    "s6=s1.symmetric_difference(s2)\n",
    "print(s5)\n",
    "print(s6)"
   ]
  },
  {
   "cell_type": "markdown",
   "id": "d3f19ed0",
   "metadata": {},
   "source": [
    "# Bitwise Complement Operator(~)\n",
    "\n",
    "The bitwise complement operator, represented by ~, is a unary operator in computer programming used to invert (flip) all the bits of a binary number or binary representation of an integer. In other words, it changes each 0 to 1 and each 1 to 0 in the binary representation of a number.\n",
    "\n",
    "~N = -(N+1)\n",
    "\n",
    "N 1's complement = (N+1) 2's complement\n",
    "\n",
    "Here's how the bitwise complement operator works:\n",
    "\n",
    "For each bit in the binary representation:\n",
    "If the bit is 0, it is changed to 1.\n",
    "\n",
    "If the bit is 1, it is changed to 0."
   ]
  },
  {
   "cell_type": "code",
   "execution_count": 109,
   "id": "6bd7f124",
   "metadata": {},
   "outputs": [
    {
     "ename": "SyntaxError",
     "evalue": "cannot assign to expression here. Maybe you meant '==' instead of '='? (1757254218.py, line 1)",
     "output_type": "error",
     "traceback": [
      "\u001b[1;36m  Cell \u001b[1;32mIn[109], line 1\u001b[1;36m\u001b[0m\n\u001b[1;33m    ~4=  -(N+1)\u001b[0m\n\u001b[1;37m    ^\u001b[0m\n\u001b[1;31mSyntaxError\u001b[0m\u001b[1;31m:\u001b[0m cannot assign to expression here. Maybe you meant '==' instead of '='?\n"
     ]
    }
   ],
   "source": [
    "~4=  -(N+1)"
   ]
  },
  {
   "cell_type": "code",
   "execution_count": 110,
   "id": "3adfd16e",
   "metadata": {},
   "outputs": [
    {
     "data": {
      "text/plain": [
       "-5"
      ]
     },
     "execution_count": 110,
     "metadata": {},
     "output_type": "execute_result"
    }
   ],
   "source": [
    "~4    #-(4+1)"
   ]
  },
  {
   "cell_type": "code",
   "execution_count": 111,
   "id": "4411fec0",
   "metadata": {},
   "outputs": [
    {
     "data": {
      "text/plain": [
       "55"
      ]
     },
     "execution_count": 111,
     "metadata": {},
     "output_type": "execute_result"
    }
   ],
   "source": [
    "~-56    # -(-56+1)   -(-55)"
   ]
  },
  {
   "cell_type": "code",
   "execution_count": 112,
   "id": "83af5caa",
   "metadata": {},
   "outputs": [
    {
     "ename": "SyntaxError",
     "evalue": "cannot assign to expression (1880347699.py, line 1)",
     "output_type": "error",
     "traceback": [
      "\u001b[1;36m  Cell \u001b[1;32mIn[112], line 1\u001b[1;36m\u001b[0m\n\u001b[1;33m    ~N=-(N+1)   = -(13+1)  -14\u001b[0m\n\u001b[1;37m    ^\u001b[0m\n\u001b[1;31mSyntaxError\u001b[0m\u001b[1;31m:\u001b[0m cannot assign to expression\n"
     ]
    }
   ],
   "source": [
    "~N=-(N+1)   = -(13+1)  -14"
   ]
  },
  {
   "cell_type": "code",
   "execution_count": 113,
   "id": "166e3697",
   "metadata": {},
   "outputs": [
    {
     "data": {
      "text/plain": [
       "12"
      ]
     },
     "execution_count": 113,
     "metadata": {},
     "output_type": "execute_result"
    }
   ],
   "source": [
    "~-13   # -(N+1) =   -(-13+1)  -(-12)"
   ]
  },
  {
   "cell_type": "code",
   "execution_count": 114,
   "id": "eb15ddb6",
   "metadata": {},
   "outputs": [
    {
     "data": {
      "text/plain": [
       "-74"
      ]
     },
     "execution_count": 114,
     "metadata": {},
     "output_type": "execute_result"
    }
   ],
   "source": [
    "~73  # -(73+1)"
   ]
  },
  {
   "cell_type": "code",
   "execution_count": 115,
   "id": "662f4124",
   "metadata": {},
   "outputs": [
    {
     "data": {
      "text/plain": [
       "233"
      ]
     },
     "execution_count": 115,
     "metadata": {},
     "output_type": "execute_result"
    }
   ],
   "source": [
    "~-234"
   ]
  },
  {
   "cell_type": "markdown",
   "id": "e389d0d2",
   "metadata": {},
   "source": [
    "# Left Shift Operator(<<)\n",
    "The bitwise left shift operator (<<) is used to shift the binary representation of a number's bits to the left by a specified number of positions. In simple terms, it's like moving all the switches (bits) of a binary number to the left."
   ]
  },
  {
   "cell_type": "code",
   "execution_count": 116,
   "id": "611f58a4",
   "metadata": {},
   "outputs": [],
   "source": [
    "a=10"
   ]
  },
  {
   "cell_type": "code",
   "execution_count": 117,
   "id": "2a7fb66e",
   "metadata": {},
   "outputs": [
    {
     "name": "stdout",
     "output_type": "stream",
     "text": [
      "80\n"
     ]
    }
   ],
   "source": [
    "b=a<<3\n",
    "print(b)"
   ]
  },
  {
   "cell_type": "code",
   "execution_count": 118,
   "id": "45abf1fa",
   "metadata": {},
   "outputs": [
    {
     "ename": "SyntaxError",
     "evalue": "leading zeros in decimal integer literals are not permitted; use an 0o prefix for octal integers (1389275326.py, line 2)",
     "output_type": "error",
     "traceback": [
      "\u001b[1;36m  Cell \u001b[1;32mIn[118], line 2\u001b[1;36m\u001b[0m\n\u001b[1;33m    0000 0000 0101 0000\u001b[0m\n\u001b[1;37m              ^\u001b[0m\n\u001b[1;31mSyntaxError\u001b[0m\u001b[1;31m:\u001b[0m leading zeros in decimal integer literals are not permitted; use an 0o prefix for octal integers\n"
     ]
    }
   ],
   "source": [
    "0000 0000 0000 1010\n",
    "0000 0000 0101 0000\n"
   ]
  },
  {
   "cell_type": "code",
   "execution_count": 119,
   "id": "0a513ba1",
   "metadata": {},
   "outputs": [
    {
     "ename": "SyntaxError",
     "evalue": "invalid syntax (2489722684.py, line 1)",
     "output_type": "error",
     "traceback": [
      "\u001b[1;36m  Cell \u001b[1;32mIn[119], line 1\u001b[1;36m\u001b[0m\n\u001b[1;33m    Given Bits=Given Value*(2**3)\u001b[0m\n\u001b[1;37m          ^\u001b[0m\n\u001b[1;31mSyntaxError\u001b[0m\u001b[1;31m:\u001b[0m invalid syntax\n"
     ]
    }
   ],
   "source": [
    "Given Bits=Given Value*(2**3)"
   ]
  },
  {
   "cell_type": "code",
   "execution_count": 120,
   "id": "975f1c90",
   "metadata": {},
   "outputs": [
    {
     "data": {
      "text/plain": [
       "80"
      ]
     },
     "execution_count": 120,
     "metadata": {},
     "output_type": "execute_result"
    }
   ],
   "source": [
    "10*8"
   ]
  },
  {
   "cell_type": "code",
   "execution_count": 121,
   "id": "9e3df710",
   "metadata": {},
   "outputs": [
    {
     "name": "stdout",
     "output_type": "stream",
     "text": [
      "4288\n"
     ]
    }
   ],
   "source": [
    "a=67\n",
    "b=a<<6\n",
    "print(b)"
   ]
  },
  {
   "cell_type": "code",
   "execution_count": 122,
   "id": "60149f3a",
   "metadata": {},
   "outputs": [
    {
     "data": {
      "text/plain": [
       "4288"
      ]
     },
     "execution_count": 122,
     "metadata": {},
     "output_type": "execute_result"
    }
   ],
   "source": [
    "67*64"
   ]
  },
  {
   "cell_type": "code",
   "execution_count": 123,
   "id": "98c0ef6e",
   "metadata": {},
   "outputs": [
    {
     "data": {
      "text/plain": [
       "64"
      ]
     },
     "execution_count": 123,
     "metadata": {},
     "output_type": "execute_result"
    }
   ],
   "source": [
    "2**6"
   ]
  },
  {
   "cell_type": "code",
   "execution_count": 124,
   "id": "217980dd",
   "metadata": {},
   "outputs": [
    {
     "data": {
      "text/plain": [
       "80"
      ]
     },
     "execution_count": 124,
     "metadata": {},
     "output_type": "execute_result"
    }
   ],
   "source": [
    "16+64"
   ]
  },
  {
   "cell_type": "code",
   "execution_count": 125,
   "id": "1d5561b6",
   "metadata": {},
   "outputs": [
    {
     "data": {
      "text/plain": [
       "64"
      ]
     },
     "execution_count": 125,
     "metadata": {},
     "output_type": "execute_result"
    }
   ],
   "source": [
    "2**6"
   ]
  },
  {
   "cell_type": "code",
   "execution_count": 126,
   "id": "b72c1084",
   "metadata": {},
   "outputs": [
    {
     "ename": "SyntaxError",
     "evalue": "invalid syntax (3172332184.py, line 1)",
     "output_type": "error",
     "traceback": [
      "\u001b[1;36m  Cell \u001b[1;32mIn[126], line 1\u001b[1;36m\u001b[0m\n\u001b[1;33m    0000 0000 0000 1010\u001b[0m\n\u001b[1;37m         ^\u001b[0m\n\u001b[1;31mSyntaxError\u001b[0m\u001b[1;31m:\u001b[0m invalid syntax\n"
     ]
    }
   ],
   "source": [
    "0000 0000 0000 1010\n",
    "0000 0000 1010 0000\n",
    "               "
   ]
  },
  {
   "cell_type": "code",
   "execution_count": 127,
   "id": "266fc8ca",
   "metadata": {},
   "outputs": [
    {
     "ename": "SyntaxError",
     "evalue": "invalid syntax (486412333.py, line 1)",
     "output_type": "error",
     "traceback": [
      "\u001b[1;36m  Cell \u001b[1;32mIn[127], line 1\u001b[1;36m\u001b[0m\n\u001b[1;33m    0 0 0 0    0   0   0    0    1  0  1  0    0 0   0   0\u001b[0m\n\u001b[1;37m      ^\u001b[0m\n\u001b[1;31mSyntaxError\u001b[0m\u001b[1;31m:\u001b[0m invalid syntax\n"
     ]
    }
   ],
   "source": [
    "0 0 0 0    0   0   0    0    1  0  1  0    0 0   0   0\n",
    "                                                  "
   ]
  },
  {
   "cell_type": "code",
   "execution_count": 128,
   "id": "5c31352a",
   "metadata": {},
   "outputs": [
    {
     "data": {
      "text/plain": [
       "160"
      ]
     },
     "execution_count": 128,
     "metadata": {},
     "output_type": "execute_result"
    }
   ],
   "source": [
    "1*(2**7)+1*(2**5)"
   ]
  },
  {
   "cell_type": "code",
   "execution_count": 129,
   "id": "e72cc8fc",
   "metadata": {},
   "outputs": [
    {
     "name": "stdout",
     "output_type": "stream",
     "text": [
      "64\n"
     ]
    }
   ],
   "source": [
    "d=8\n",
    "c=d<<3\n",
    "print(c)"
   ]
  },
  {
   "cell_type": "code",
   "execution_count": 130,
   "id": "1e2b7d42",
   "metadata": {},
   "outputs": [
    {
     "ename": "SyntaxError",
     "evalue": "leading zeros in decimal integer literals are not permitted; use an 0o prefix for octal integers (465385352.py, line 2)",
     "output_type": "error",
     "traceback": [
      "\u001b[1;36m  Cell \u001b[1;32mIn[130], line 2\u001b[1;36m\u001b[0m\n\u001b[1;33m    0000 0000 0100 0000\u001b[0m\n\u001b[1;37m              ^\u001b[0m\n\u001b[1;31mSyntaxError\u001b[0m\u001b[1;31m:\u001b[0m leading zeros in decimal integer literals are not permitted; use an 0o prefix for octal integers\n"
     ]
    }
   ],
   "source": [
    "0000 0000 0000 1000\n",
    "0000 0000 0100 0000"
   ]
  },
  {
   "cell_type": "code",
   "execution_count": 131,
   "id": "21f91a45",
   "metadata": {},
   "outputs": [
    {
     "data": {
      "text/plain": [
       "64"
      ]
     },
     "execution_count": 131,
     "metadata": {},
     "output_type": "execute_result"
    }
   ],
   "source": [
    "8*2**3"
   ]
  },
  {
   "cell_type": "code",
   "execution_count": 132,
   "id": "bb73cb7c",
   "metadata": {},
   "outputs": [
    {
     "ename": "SyntaxError",
     "evalue": "invalid syntax (2033293247.py, line 1)",
     "output_type": "error",
     "traceback": [
      "\u001b[1;36m  Cell \u001b[1;32mIn[132], line 1\u001b[1;36m\u001b[0m\n\u001b[1;33m    Given Data<<No. of bits==> Given Data*(2** no. of bits)\u001b[0m\n\u001b[1;37m          ^\u001b[0m\n\u001b[1;31mSyntaxError\u001b[0m\u001b[1;31m:\u001b[0m invalid syntax\n"
     ]
    }
   ],
   "source": [
    "Given Data<<No. of bits==> Given Data*(2** no. of bits)"
   ]
  },
  {
   "cell_type": "code",
   "execution_count": 133,
   "id": "83de2f11",
   "metadata": {},
   "outputs": [
    {
     "ename": "SyntaxError",
     "evalue": "invalid syntax (326038662.py, line 1)",
     "output_type": "error",
     "traceback": [
      "\u001b[1;36m  Cell \u001b[1;32mIn[133], line 1\u001b[1;36m\u001b[0m\n\u001b[1;33m    2 12\u001b[0m\n\u001b[1;37m      ^\u001b[0m\n\u001b[1;31mSyntaxError\u001b[0m\u001b[1;31m:\u001b[0m invalid syntax\n"
     ]
    }
   ],
   "source": [
    "2 12\n",
    "   6 0\n",
    "   3  0\n",
    "   1  1\n",
    "      1"
   ]
  },
  {
   "cell_type": "code",
   "execution_count": 134,
   "id": "76b81227",
   "metadata": {},
   "outputs": [],
   "source": [
    "a=10 "
   ]
  },
  {
   "cell_type": "code",
   "execution_count": 135,
   "id": "7ea53fad",
   "metadata": {},
   "outputs": [
    {
     "name": "stdout",
     "output_type": "stream",
     "text": [
      "160\n"
     ]
    }
   ],
   "source": [
    "b=a<<4\n",
    "print(b)\n",
    "\n",
    "# 0000 0000 1010 0000\n",
    "#        1*2^7  +   1*2^5 0*2^0\n",
    "#        128          32"
   ]
  },
  {
   "cell_type": "code",
   "execution_count": 137,
   "id": "caeedb5c",
   "metadata": {},
   "outputs": [
    {
     "ename": "IndentationError",
     "evalue": "unindent does not match any outer indentation level (<tokenize>, line 3)",
     "output_type": "error",
     "traceback": [
      "\u001b[1;36m  File \u001b[1;32m<tokenize>:3\u001b[1;36m\u001b[0m\n\u001b[1;33m    2^5  2^7\u001b[0m\n\u001b[1;37m    ^\u001b[0m\n\u001b[1;31mIndentationError\u001b[0m\u001b[1;31m:\u001b[0m unindent does not match any outer indentation level\n"
     ]
    }
   ],
   "source": [
    "0000 0000 0000 1010\n",
    "     0000 0000 1010 0000\n",
    "    2^5  2^7"
   ]
  },
  {
   "cell_type": "code",
   "execution_count": 138,
   "id": "e476e9b3",
   "metadata": {},
   "outputs": [
    {
     "name": "stdout",
     "output_type": "stream",
     "text": [
      "12582912\n"
     ]
    }
   ],
   "source": [
    "v=12\n",
    "n=v<<20\n",
    "print(n)\n",
    "# 0000 0000 0000 1100\n",
    "#  1100 0000 0000 0000\n",
    "# 3072"
   ]
  },
  {
   "cell_type": "code",
   "execution_count": 139,
   "id": "7ba7a694",
   "metadata": {},
   "outputs": [
    {
     "ename": "SyntaxError",
     "evalue": "invalid syntax (3798427512.py, line 1)",
     "output_type": "error",
     "traceback": [
      "\u001b[1;36m  Cell \u001b[1;32mIn[139], line 1\u001b[1;36m\u001b[0m\n\u001b[1;33m    0000 0000 0000 1100\u001b[0m\n\u001b[1;37m         ^\u001b[0m\n\u001b[1;31mSyntaxError\u001b[0m\u001b[1;31m:\u001b[0m invalid syntax\n"
     ]
    }
   ],
   "source": [
    "0000 0000 0000 1100\n",
    "          0000 1100 0000 0000\n",
    "    "
   ]
  },
  {
   "cell_type": "code",
   "execution_count": 140,
   "id": "83c8348b",
   "metadata": {},
   "outputs": [
    {
     "data": {
      "text/plain": [
       "3072"
      ]
     },
     "execution_count": 140,
     "metadata": {},
     "output_type": "execute_result"
    }
   ],
   "source": [
    "2**10 + 2**11"
   ]
  },
  {
   "cell_type": "code",
   "execution_count": 141,
   "id": "68d28668",
   "metadata": {},
   "outputs": [
    {
     "name": "stdout",
     "output_type": "stream",
     "text": [
      "98304\n"
     ]
    }
   ],
   "source": [
    "k=24\n",
    "j=k<<12\n",
    "print(j)\n",
    "# 98304"
   ]
  },
  {
   "cell_type": "code",
   "execution_count": 142,
   "id": "9f8a4177",
   "metadata": {},
   "outputs": [
    {
     "ename": "SyntaxError",
     "evalue": "leading zeros in decimal integer literals are not permitted; use an 0o prefix for octal integers (1037169930.py, line 1)",
     "output_type": "error",
     "traceback": [
      "\u001b[1;36m  Cell \u001b[1;32mIn[142], line 1\u001b[1;36m\u001b[0m\n\u001b[1;33m    0000 0000 0001 1000\u001b[0m\n\u001b[1;37m              ^\u001b[0m\n\u001b[1;31mSyntaxError\u001b[0m\u001b[1;31m:\u001b[0m leading zeros in decimal integer literals are not permitted; use an 0o prefix for octal integers\n"
     ]
    }
   ],
   "source": [
    "0000 0000 0001 1000\n",
    "             1 1000 0000 0000 0000"
   ]
  },
  {
   "cell_type": "code",
   "execution_count": 143,
   "id": "a5dc2aee",
   "metadata": {},
   "outputs": [
    {
     "data": {
      "text/plain": [
       "98304"
      ]
     },
     "execution_count": 143,
     "metadata": {},
     "output_type": "execute_result"
    }
   ],
   "source": [
    "2**15 + 2**16"
   ]
  },
  {
   "cell_type": "code",
   "execution_count": 144,
   "id": "a50ff283",
   "metadata": {},
   "outputs": [
    {
     "data": {
      "text/plain": [
       "'0b11000'"
      ]
     },
     "execution_count": 144,
     "metadata": {},
     "output_type": "execute_result"
    }
   ],
   "source": [
    "bin(24)"
   ]
  },
  {
   "cell_type": "code",
   "execution_count": 145,
   "id": "cf18aafd",
   "metadata": {},
   "outputs": [
    {
     "data": {
      "text/plain": [
       "32"
      ]
     },
     "execution_count": 145,
     "metadata": {},
     "output_type": "execute_result"
    }
   ],
   "source": [
    "2**5"
   ]
  },
  {
   "cell_type": "code",
   "execution_count": 146,
   "id": "b65622a8",
   "metadata": {},
   "outputs": [
    {
     "data": {
      "text/plain": [
       "128"
      ]
     },
     "execution_count": 146,
     "metadata": {},
     "output_type": "execute_result"
    }
   ],
   "source": [
    "2**7"
   ]
  },
  {
   "cell_type": "code",
   "execution_count": 147,
   "id": "936da37a",
   "metadata": {},
   "outputs": [
    {
     "data": {
      "text/plain": [
       "160"
      ]
     },
     "execution_count": 147,
     "metadata": {},
     "output_type": "execute_result"
    }
   ],
   "source": [
    "32+128"
   ]
  },
  {
   "cell_type": "code",
   "execution_count": 148,
   "id": "2e6cc84e",
   "metadata": {
    "scrolled": true
   },
   "outputs": [
    {
     "name": "stdout",
     "output_type": "stream",
     "text": [
      "160\n"
     ]
    }
   ],
   "source": [
    "print(b)"
   ]
  },
  {
   "cell_type": "markdown",
   "id": "14576556",
   "metadata": {},
   "source": [
    "# Bitwise right shift operator (>>)\n",
    "\n",
    "The bitwise right shift operator (>>) is used to shift the binary representation of a number's bits to the right by a specified number of positions. In simple terms, it's like moving all the switches (bits) of a binary number to the right.\n",
    "\n",
    "Here's how the bitwise right shift operator works:\n",
    "\n",
    "Take a binary number (e.g., 110110), which represents a decimal number (e.g., 54).\n",
    "\n",
    "Use the right shift operator (>>) and specify how many positions you want to shift the bits to the right. For example, 110110 >> 2 means you want to shift the bits 2 positions to the right.\n",
    "\n",
    "The bits are moved to the right by the specified number of positions, and the empty "
   ]
  },
  {
   "cell_type": "code",
   "execution_count": 149,
   "id": "3b9a7dd2",
   "metadata": {},
   "outputs": [
    {
     "name": "stdout",
     "output_type": "stream",
     "text": [
      "3\n"
     ]
    }
   ],
   "source": [
    "a=14\n",
    "b=a>>2\n",
    "print(b)"
   ]
  },
  {
   "cell_type": "code",
   "execution_count": 150,
   "id": "4972ca4a",
   "metadata": {},
   "outputs": [
    {
     "ename": "SyntaxError",
     "evalue": "leading zeros in decimal integer literals are not permitted; use an 0o prefix for octal integers (775233474.py, line 2)",
     "output_type": "error",
     "traceback": [
      "\u001b[1;36m  Cell \u001b[1;32mIn[150], line 2\u001b[1;36m\u001b[0m\n\u001b[1;33m    0000 0000 0000 0011\u001b[0m\n\u001b[1;37m                   ^\u001b[0m\n\u001b[1;31mSyntaxError\u001b[0m\u001b[1;31m:\u001b[0m leading zeros in decimal integer literals are not permitted; use an 0o prefix for octal integers\n"
     ]
    }
   ],
   "source": [
    "0000 0000 0000 1110\n",
    "0000 0000 0000 0011 "
   ]
  },
  {
   "cell_type": "code",
   "execution_count": 151,
   "id": "9474a006",
   "metadata": {},
   "outputs": [
    {
     "name": "stdout",
     "output_type": "stream",
     "text": [
      "1\n"
     ]
    }
   ],
   "source": [
    "a=11\n",
    "\n",
    "b=a>>3\n",
    "print(b)"
   ]
  },
  {
   "cell_type": "code",
   "execution_count": 152,
   "id": "dc65112f",
   "metadata": {},
   "outputs": [
    {
     "ename": "SyntaxError",
     "evalue": "leading zeros in decimal integer literals are not permitted; use an 0o prefix for octal integers (2974837391.py, line 2)",
     "output_type": "error",
     "traceback": [
      "\u001b[1;36m  Cell \u001b[1;32mIn[152], line 2\u001b[1;36m\u001b[0m\n\u001b[1;33m    0000 0000 0000 0001\u001b[0m\n\u001b[1;37m                   ^\u001b[0m\n\u001b[1;31mSyntaxError\u001b[0m\u001b[1;31m:\u001b[0m leading zeros in decimal integer literals are not permitted; use an 0o prefix for octal integers\n"
     ]
    }
   ],
   "source": [
    "0000 0000 0000 1011\n",
    "0000 0000 0000 0001"
   ]
  },
  {
   "cell_type": "code",
   "execution_count": 153,
   "id": "7a001732",
   "metadata": {},
   "outputs": [
    {
     "ename": "SyntaxError",
     "evalue": "invalid syntax (1752093874.py, line 1)",
     "output_type": "error",
     "traceback": [
      "\u001b[1;36m  Cell \u001b[1;32mIn[153], line 1\u001b[1;36m\u001b[0m\n\u001b[1;33m    Given Data>>No. of bits ==> Given Data/(2**No of bits)\u001b[0m\n\u001b[1;37m          ^\u001b[0m\n\u001b[1;31mSyntaxError\u001b[0m\u001b[1;31m:\u001b[0m invalid syntax\n"
     ]
    }
   ],
   "source": [
    "Given Data>>No. of bits ==> Given Data/(2**No of bits)"
   ]
  },
  {
   "cell_type": "code",
   "execution_count": 154,
   "id": "f81d471f",
   "metadata": {},
   "outputs": [
    {
     "data": {
      "text/plain": [
       "1"
      ]
     },
     "execution_count": 154,
     "metadata": {},
     "output_type": "execute_result"
    }
   ],
   "source": [
    "11 >>3"
   ]
  },
  {
   "cell_type": "code",
   "execution_count": 155,
   "id": "0b1c43fc",
   "metadata": {},
   "outputs": [
    {
     "data": {
      "text/plain": [
       "1.375"
      ]
     },
     "execution_count": 155,
     "metadata": {},
     "output_type": "execute_result"
    }
   ],
   "source": [
    "11/2**3"
   ]
  },
  {
   "cell_type": "code",
   "execution_count": 156,
   "id": "4a5866c9",
   "metadata": {},
   "outputs": [
    {
     "data": {
      "text/plain": [
       "1"
      ]
     },
     "execution_count": 156,
     "metadata": {},
     "output_type": "execute_result"
    }
   ],
   "source": [
    "11//8"
   ]
  },
  {
   "cell_type": "code",
   "execution_count": 157,
   "id": "4352f7e9",
   "metadata": {},
   "outputs": [
    {
     "name": "stdout",
     "output_type": "stream",
     "text": [
      "0\n"
     ]
    }
   ],
   "source": [
    "a=13\n",
    "c=b>>2\n",
    "print(c)"
   ]
  },
  {
   "cell_type": "code",
   "execution_count": 158,
   "id": "35137b4b",
   "metadata": {},
   "outputs": [
    {
     "data": {
      "text/plain": [
       "3"
      ]
     },
     "execution_count": 158,
     "metadata": {},
     "output_type": "execute_result"
    }
   ],
   "source": [
    "13//4"
   ]
  },
  {
   "cell_type": "code",
   "execution_count": 159,
   "id": "0163c3f6",
   "metadata": {},
   "outputs": [
    {
     "name": "stdout",
     "output_type": "stream",
     "text": [
      "0\n"
     ]
    }
   ],
   "source": [
    "a=10\n",
    "b=a>>4\n",
    "print(b)\n",
    " # 0000 0000 0000 1010\n",
    " #  000  0000 00000 1"
   ]
  },
  {
   "cell_type": "code",
   "execution_count": 160,
   "id": "d6cad3e9",
   "metadata": {},
   "outputs": [
    {
     "name": "stdout",
     "output_type": "stream",
     "text": [
      "0\n"
     ]
    }
   ],
   "source": [
    "a=100         # 0 0 0 0 0 0 0 0 0 0 0 0 1 0 1 0\n",
    "c=a>>8        # 0 0 0 0 0 0 0 0 0 0 0 0 1 0 1 0\n",
    "              # 0 0 0 0 0 0 0 0 0 0 0 0 0 0 0 1\n",
    "print(c)"
   ]
  },
  {
   "cell_type": "code",
   "execution_count": 161,
   "id": "8b081b35",
   "metadata": {},
   "outputs": [
    {
     "data": {
      "text/plain": [
       "0"
      ]
     },
     "execution_count": 161,
     "metadata": {},
     "output_type": "execute_result"
    }
   ],
   "source": [
    "000000000000000"
   ]
  },
  {
   "cell_type": "code",
   "execution_count": 162,
   "id": "14303fe9",
   "metadata": {},
   "outputs": [
    {
     "name": "stdout",
     "output_type": "stream",
     "text": [
      "4\n"
     ]
    }
   ],
   "source": [
    "print(16>>2)\n",
    "#  00100"
   ]
  },
  {
   "cell_type": "code",
   "execution_count": 163,
   "id": "60194833",
   "metadata": {},
   "outputs": [
    {
     "name": "stdout",
     "output_type": "stream",
     "text": [
      "64\n"
     ]
    }
   ],
   "source": [
    "print(16<<2)"
   ]
  },
  {
   "cell_type": "code",
   "execution_count": 164,
   "id": "88e97349",
   "metadata": {},
   "outputs": [
    {
     "name": "stdout",
     "output_type": "stream",
     "text": [
      "2\n"
     ]
    }
   ],
   "source": [
    "print(20>>3)"
   ]
  },
  {
   "cell_type": "code",
   "execution_count": 165,
   "id": "59f23ebf",
   "metadata": {
    "scrolled": true
   },
   "outputs": [
    {
     "ename": "TypeError",
     "evalue": "argument of type 'int' is not iterable",
     "output_type": "error",
     "traceback": [
      "\u001b[1;31m---------------------------------------------------------------------------\u001b[0m",
      "\u001b[1;31mTypeError\u001b[0m                                 Traceback (most recent call last)",
      "Cell \u001b[1;32mIn[165], line 1\u001b[0m\n\u001b[1;32m----> 1\u001b[0m \u001b[38;5;124;43m\"\u001b[39;49m\u001b[38;5;124;43mc\u001b[39;49m\u001b[38;5;124;43m\"\u001b[39;49m\u001b[43m \u001b[49m\u001b[38;5;129;43;01min\u001b[39;49;00m\u001b[43m \u001b[49m\u001b[43ma\u001b[49m\n",
      "\u001b[1;31mTypeError\u001b[0m: argument of type 'int' is not iterable"
     ]
    }
   ],
   "source": [
    "\"c\" in a"
   ]
  },
  {
   "cell_type": "code",
   "execution_count": 166,
   "id": "74b07911",
   "metadata": {},
   "outputs": [
    {
     "ename": "SyntaxError",
     "evalue": "leading zeros in decimal integer literals are not permitted; use an 0o prefix for octal integers (1781058352.py, line 7)",
     "output_type": "error",
     "traceback": [
      "\u001b[1;36m  Cell \u001b[1;32mIn[166], line 7\u001b[1;36m\u001b[0m\n\u001b[1;33m    01101\u001b[0m\n\u001b[1;37m    ^\u001b[0m\n\u001b[1;31mSyntaxError\u001b[0m\u001b[1;31m:\u001b[0m leading zeros in decimal integer literals are not permitted; use an 0o prefix for octal integers\n"
     ]
    }
   ],
   "source": [
    "a=-18\n",
    "p=bin(-18)\n",
    "print(p)\n",
    "\n",
    "10010\n",
    "\n",
    "01101\n",
    "+   1\n",
    "    01101\n",
    "\n",
    "01101\n",
    "+   1\n",
    "   01110\n",
    "    "
   ]
  },
  {
   "cell_type": "code",
   "execution_count": 167,
   "id": "8a1d5c23",
   "metadata": {},
   "outputs": [
    {
     "name": "stdout",
     "output_type": "stream",
     "text": [
      "-14\n"
     ]
    }
   ],
   "source": [
    "e=-0b01110\n",
    "print(e)"
   ]
  },
  {
   "cell_type": "code",
   "execution_count": 168,
   "id": "2c0bf86f",
   "metadata": {},
   "outputs": [
    {
     "data": {
      "text/plain": [
       "'0b10010'"
      ]
     },
     "execution_count": 168,
     "metadata": {},
     "output_type": "execute_result"
    }
   ],
   "source": [
    "bin(18)"
   ]
  },
  {
   "cell_type": "code",
   "execution_count": 169,
   "id": "6d843455",
   "metadata": {},
   "outputs": [
    {
     "ename": "IndentationError",
     "evalue": "unexpected indent (1960840174.py, line 6)",
     "output_type": "error",
     "traceback": [
      "\u001b[1;36m  Cell \u001b[1;32mIn[169], line 6\u001b[1;36m\u001b[0m\n\u001b[1;33m    1\u001b[0m\n\u001b[1;37m    ^\u001b[0m\n\u001b[1;31mIndentationError\u001b[0m\u001b[1;31m:\u001b[0m unexpected indent\n"
     ]
    }
   ],
   "source": [
    "a=-7\n",
    "bin(a)\n",
    "\n",
    "111\n",
    "000\n",
    "  1\n"
   ]
  },
  {
   "cell_type": "code",
   "execution_count": 170,
   "id": "2937bec2",
   "metadata": {},
   "outputs": [
    {
     "name": "stdout",
     "output_type": "stream",
     "text": [
      "[1, 0, -1, -2]\n"
     ]
    }
   ],
   "source": [
    "a=list(range(1,-3,-1))\n",
    "print(a)"
   ]
  },
  {
   "cell_type": "code",
   "execution_count": 171,
   "id": "a8371cab",
   "metadata": {
    "scrolled": true
   },
   "outputs": [
    {
     "name": "stdout",
     "output_type": "stream",
     "text": [
      "[41, 43, 45, 47, 49, 51, 53, 55, 57, 59, 61, 63, 65, 67, 69, 71, 73, 75, 77, 79, 81, 83, 85, 87, 89, 91, 93, 95, 97, 99, 101, 103, 105, 107, 109, 111, 113, 115, 117, 119, 121, 123, 125, 127, 129]\n"
     ]
    }
   ],
   "source": [
    "a=list(range(41,131,2))\n",
    "print(a)"
   ]
  },
  {
   "cell_type": "code",
   "execution_count": 172,
   "id": "8fc720b6",
   "metadata": {},
   "outputs": [
    {
     "name": "stdout",
     "output_type": "stream",
     "text": [
      "41\n",
      "43\n",
      "45\n",
      "47\n",
      "49\n",
      "51\n",
      "53\n",
      "55\n",
      "57\n",
      "59\n",
      "61\n",
      "63\n",
      "65\n",
      "67\n",
      "69\n",
      "71\n",
      "73\n",
      "75\n",
      "77\n",
      "79\n",
      "81\n",
      "83\n",
      "85\n",
      "87\n",
      "89\n",
      "91\n",
      "93\n",
      "95\n",
      "97\n",
      "99\n",
      "101\n",
      "103\n",
      "105\n",
      "107\n",
      "109\n",
      "111\n",
      "113\n",
      "115\n",
      "117\n",
      "119\n",
      "121\n",
      "123\n",
      "125\n",
      "127\n",
      "129\n"
     ]
    }
   ],
   "source": [
    "# create a list of odd numbers from 40 to 130\n",
    "for i in range(41,131,2):\n",
    "    print(i)\n"
   ]
  },
  {
   "cell_type": "code",
   "execution_count": 173,
   "id": "cbd6a78a",
   "metadata": {
    "scrolled": true
   },
   "outputs": [
    {
     "name": "stdout",
     "output_type": "stream",
     "text": [
      "-18\n"
     ]
    }
   ],
   "source": [
    "p=-0b10010\n",
    "print(p)"
   ]
  },
  {
   "cell_type": "code",
   "execution_count": 174,
   "id": "efb7ef0d",
   "metadata": {},
   "outputs": [
    {
     "ename": "IndentationError",
     "evalue": "unexpected indent (401610635.py, line 2)",
     "output_type": "error",
     "traceback": [
      "\u001b[1;36m  Cell \u001b[1;32mIn[174], line 2\u001b[1;36m\u001b[0m\n\u001b[1;33m    44\u001b[0m\n\u001b[1;37m    ^\u001b[0m\n\u001b[1;31mIndentationError\u001b[0m\u001b[1;31m:\u001b[0m unexpected indent\n"
     ]
    }
   ],
   "source": [
    "o=-44\n",
    "  44\n",
    "  22 0\n",
    "  11 0\n",
    "5    1\n",
    " 2   1\n",
    "  1   0\n",
    "     1\n",
    "    \n",
    "    \n",
    "  101100\n",
    "\n",
    "  010011\n",
    "       1\n",
    "       010011\n",
    "    \n",
    "       101100\n",
    "\n",
    "    "
   ]
  },
  {
   "cell_type": "code",
   "execution_count": 175,
   "id": "8df3c85e",
   "metadata": {},
   "outputs": [
    {
     "data": {
      "text/plain": [
       "'-0b101100'"
      ]
     },
     "execution_count": 175,
     "metadata": {},
     "output_type": "execute_result"
    }
   ],
   "source": [
    "bin(-44)"
   ]
  },
  {
   "cell_type": "code",
   "execution_count": 176,
   "id": "197e109e",
   "metadata": {},
   "outputs": [
    {
     "ename": "SyntaxError",
     "evalue": "leading zeros in decimal integer literals are not permitted; use an 0o prefix for octal integers (1637807286.py, line 4)",
     "output_type": "error",
     "traceback": [
      "\u001b[1;36m  Cell \u001b[1;32mIn[176], line 4\u001b[1;36m\u001b[0m\n\u001b[1;33m    0011\u001b[0m\n\u001b[1;37m    ^\u001b[0m\n\u001b[1;31mSyntaxError\u001b[0m\u001b[1;31m:\u001b[0m leading zeros in decimal integer literals are not permitted; use an 0o prefix for octal integers\n"
     ]
    }
   ],
   "source": [
    "a=-12\n",
    "1100\n",
    "\n",
    "0011\n",
    "1111\n",
    "   1100\n"
   ]
  },
  {
   "cell_type": "code",
   "execution_count": 177,
   "id": "78a0fe0b",
   "metadata": {},
   "outputs": [
    {
     "ename": "SyntaxError",
     "evalue": "leading zeros in decimal integer literals are not permitted; use an 0o prefix for octal integers (72743256.py, line 4)",
     "output_type": "error",
     "traceback": [
      "\u001b[1;36m  Cell \u001b[1;32mIn[177], line 4\u001b[1;36m\u001b[0m\n\u001b[1;33m    011101\u001b[0m\n\u001b[1;37m    ^\u001b[0m\n\u001b[1;31mSyntaxError\u001b[0m\u001b[1;31m:\u001b[0m leading zeros in decimal integer literals are not permitted; use an 0o prefix for octal integers\n"
     ]
    }
   ],
   "source": [
    "a=34\n",
    "bin(34)\n",
    "100010\n",
    "011101\n",
    "111111\n",
    "    100010"
   ]
  },
  {
   "cell_type": "code",
   "execution_count": 178,
   "id": "0c22e0d7",
   "metadata": {},
   "outputs": [
    {
     "data": {
      "text/plain": [
       "'-0b1100'"
      ]
     },
     "execution_count": 178,
     "metadata": {},
     "output_type": "execute_result"
    }
   ],
   "source": [
    "bin(-12)"
   ]
  },
  {
   "cell_type": "markdown",
   "id": "02f26001",
   "metadata": {},
   "source": [
    "# Membership Operator\n",
    " \n",
    "membership operators are used to test whether a value is a member of a sequence or collection, such as a string, list, tuple, or set. Python provides two membership operators: in and not in.\n",
    "\n",
    "What is an Iteratable object:- iteratable object is the in more one value is present\n",
    "list,tuple,set,dict\n",
    " \n",
    "\n",
    "In Python Programming, we have 2 types of membership operators. They are\n",
    "\n",
    "1 in\n",
    "\n",
    "2 not in\n",
    "\n",
    "in operator: This operator returns True if the specified value is found in the sequence and False otherwise.\n",
    "\n",
    "not in operator: This operator returns True if the specified value is NOT found in the sequence and False otherwise."
   ]
  },
  {
   "cell_type": "code",
   "execution_count": 179,
   "id": "a00d1d5b",
   "metadata": {},
   "outputs": [
    {
     "name": "stdout",
     "output_type": "stream",
     "text": [
      "False\n"
     ]
    }
   ],
   "source": [
    "a=[1,2,3,4,5,6,7,8,9]\n",
    "print(2 not in a)"
   ]
  },
  {
   "cell_type": "code",
   "execution_count": 180,
   "id": "fc375f0c",
   "metadata": {},
   "outputs": [
    {
     "name": "stdout",
     "output_type": "stream",
     "text": [
      "Multicolinearity\n"
     ]
    }
   ],
   "source": [
    "a=\"Multicolinearity\"\n",
    "print(a)"
   ]
  },
  {
   "cell_type": "code",
   "execution_count": 181,
   "id": "2c941d40",
   "metadata": {},
   "outputs": [
    {
     "data": {
      "text/plain": [
       "True"
      ]
     },
     "execution_count": 181,
     "metadata": {},
     "output_type": "execute_result"
    }
   ],
   "source": [
    "\"t\" in a"
   ]
  },
  {
   "cell_type": "code",
   "execution_count": 182,
   "id": "46277494",
   "metadata": {},
   "outputs": [
    {
     "data": {
      "text/plain": [
       "True"
      ]
     },
     "execution_count": 182,
     "metadata": {},
     "output_type": "execute_result"
    }
   ],
   "source": [
    "\"c\" in a"
   ]
  },
  {
   "cell_type": "code",
   "execution_count": 183,
   "id": "2276e35c",
   "metadata": {},
   "outputs": [
    {
     "data": {
      "text/plain": [
       "False"
      ]
     },
     "execution_count": 183,
     "metadata": {},
     "output_type": "execute_result"
    }
   ],
   "source": [
    "\"ct\" in a"
   ]
  },
  {
   "cell_type": "code",
   "execution_count": 184,
   "id": "2073e508",
   "metadata": {},
   "outputs": [
    {
     "data": {
      "text/plain": [
       "False"
      ]
     },
     "execution_count": 184,
     "metadata": {},
     "output_type": "execute_result"
    }
   ],
   "source": [
    "\"i\" not in a"
   ]
  },
  {
   "cell_type": "code",
   "execution_count": 185,
   "id": "a920c63f",
   "metadata": {},
   "outputs": [
    {
     "data": {
      "text/plain": [
       "False"
      ]
     },
     "execution_count": 185,
     "metadata": {},
     "output_type": "execute_result"
    }
   ],
   "source": [
    "\"ty\" not in a"
   ]
  },
  {
   "cell_type": "code",
   "execution_count": 186,
   "id": "d6572385",
   "metadata": {},
   "outputs": [
    {
     "data": {
      "text/plain": [
       "True"
      ]
     },
     "execution_count": 186,
     "metadata": {},
     "output_type": "execute_result"
    }
   ],
   "source": [
    "\"lo\" not in a"
   ]
  },
  {
   "cell_type": "code",
   "execution_count": 187,
   "id": "463b1828",
   "metadata": {},
   "outputs": [
    {
     "data": {
      "text/plain": [
       "'Multicolinearity'"
      ]
     },
     "execution_count": 187,
     "metadata": {},
     "output_type": "execute_result"
    }
   ],
   "source": [
    "a"
   ]
  },
  {
   "cell_type": "code",
   "execution_count": 188,
   "id": "e6c7e10b",
   "metadata": {},
   "outputs": [],
   "source": [
    "t=\"PYTHON\"   "
   ]
  },
  {
   "cell_type": "code",
   "execution_count": 189,
   "id": "a70cada2",
   "metadata": {},
   "outputs": [
    {
     "data": {
      "text/plain": [
       "True"
      ]
     },
     "execution_count": 189,
     "metadata": {},
     "output_type": "execute_result"
    }
   ],
   "source": [
    "\"OTP\" not in t[::-1][::2]   # "
   ]
  },
  {
   "cell_type": "code",
   "execution_count": 190,
   "id": "71989b7e",
   "metadata": {},
   "outputs": [
    {
     "data": {
      "text/plain": [
       "False"
      ]
     },
     "execution_count": 190,
     "metadata": {},
     "output_type": "execute_result"
    }
   ],
   "source": [
    "#multicolinearity\n",
    "\"col\" in a[::-1]"
   ]
  },
  {
   "cell_type": "code",
   "execution_count": 191,
   "id": "0b407d95",
   "metadata": {},
   "outputs": [
    {
     "ename": "SyntaxError",
     "evalue": "invalid syntax (754808458.py, line 1)",
     "output_type": "error",
     "traceback": [
      "\u001b[1;36m  Cell \u001b[1;32mIn[191], line 1\u001b[1;36m\u001b[0m\n\u001b[1;33m    1 111 1111 1000 0000<<3\u001b[0m\n\u001b[1;37m      ^\u001b[0m\n\u001b[1;31mSyntaxError\u001b[0m\u001b[1;31m:\u001b[0m invalid syntax\n"
     ]
    }
   ],
   "source": [
    "1 111 1111 1000 0000<<3"
   ]
  },
  {
   "cell_type": "code",
   "execution_count": 192,
   "id": "2b777899",
   "metadata": {},
   "outputs": [
    {
     "data": {
      "text/plain": [
       "'Multicolinearity'"
      ]
     },
     "execution_count": 192,
     "metadata": {},
     "output_type": "execute_result"
    }
   ],
   "source": [
    "a"
   ]
  },
  {
   "cell_type": "code",
   "execution_count": 193,
   "id": "167744ac",
   "metadata": {},
   "outputs": [
    {
     "data": {
      "text/plain": [
       "True"
      ]
     },
     "execution_count": 193,
     "metadata": {},
     "output_type": "execute_result"
    }
   ],
   "source": [
    "\"cln\" in a[5:10:2]"
   ]
  },
  {
   "cell_type": "code",
   "execution_count": 194,
   "id": "bc3a156b",
   "metadata": {},
   "outputs": [],
   "source": [
    "p=[30,\"Book\",45,22, True,\"Pen\",34.24]  #float "
   ]
  },
  {
   "cell_type": "code",
   "execution_count": 195,
   "id": "cd79c01f",
   "metadata": {},
   "outputs": [
    {
     "name": "stdout",
     "output_type": "stream",
     "text": [
      "True\n"
     ]
    }
   ],
   "source": [
    "print(True in p)"
   ]
  },
  {
   "cell_type": "code",
   "execution_count": null,
   "id": "6082a1c1",
   "metadata": {},
   "outputs": [],
   "source": []
  },
  {
   "cell_type": "code",
   "execution_count": 196,
   "id": "b7a14a59",
   "metadata": {},
   "outputs": [
    {
     "data": {
      "text/plain": [
       "True"
      ]
     },
     "execution_count": 196,
     "metadata": {},
     "output_type": "execute_result"
    }
   ],
   "source": [
    "30 in p"
   ]
  },
  {
   "cell_type": "code",
   "execution_count": 197,
   "id": "4aee9290",
   "metadata": {},
   "outputs": [
    {
     "data": {
      "text/plain": [
       "True"
      ]
     },
     "execution_count": 197,
     "metadata": {},
     "output_type": "execute_result"
    }
   ],
   "source": [
    "True in p"
   ]
  },
  {
   "cell_type": "code",
   "execution_count": 198,
   "id": "614fd931",
   "metadata": {},
   "outputs": [
    {
     "ename": "TypeError",
     "evalue": "argument of type 'float' is not iterable",
     "output_type": "error",
     "traceback": [
      "\u001b[1;31m---------------------------------------------------------------------------\u001b[0m",
      "\u001b[1;31mTypeError\u001b[0m                                 Traceback (most recent call last)",
      "Cell \u001b[1;32mIn[198], line 1\u001b[0m\n\u001b[1;32m----> 1\u001b[0m \u001b[38;5;241;43m34.24\u001b[39;49m\u001b[43m \u001b[49m\u001b[38;5;129;43;01min\u001b[39;49;00m\u001b[43m \u001b[49m\u001b[43mp\u001b[49m\u001b[43m[\u001b[49m\u001b[38;5;241;43m-\u001b[39;49m\u001b[38;5;241;43m1\u001b[39;49m\u001b[43m]\u001b[49m\n",
      "\u001b[1;31mTypeError\u001b[0m: argument of type 'float' is not iterable"
     ]
    }
   ],
   "source": [
    "34.24 in p[-1]"
   ]
  },
  {
   "cell_type": "code",
   "execution_count": 199,
   "id": "de05eccf",
   "metadata": {},
   "outputs": [
    {
     "data": {
      "text/plain": [
       "True"
      ]
     },
     "execution_count": 199,
     "metadata": {},
     "output_type": "execute_result"
    }
   ],
   "source": [
    "True in p"
   ]
  },
  {
   "cell_type": "code",
   "execution_count": 200,
   "id": "7692f7c6",
   "metadata": {},
   "outputs": [
    {
     "ename": "TypeError",
     "evalue": "argument of type 'complex' is not iterable",
     "output_type": "error",
     "traceback": [
      "\u001b[1;31m---------------------------------------------------------------------------\u001b[0m",
      "\u001b[1;31mTypeError\u001b[0m                                 Traceback (most recent call last)",
      "Cell \u001b[1;32mIn[200], line 2\u001b[0m\n\u001b[0;32m      1\u001b[0m a\u001b[38;5;241m=\u001b[39m\u001b[38;5;241m253\u001b[39m\u001b[38;5;241m+\u001b[39m\u001b[38;5;241m34\u001b[39mj\n\u001b[1;32m----> 2\u001b[0m \u001b[43ma\u001b[49m\u001b[38;5;241;43m.\u001b[39;49m\u001b[43mreal\u001b[49m\u001b[43m \u001b[49m\u001b[38;5;129;43;01min\u001b[39;49;00m\u001b[43m \u001b[49m\u001b[43ma\u001b[49m\n",
      "\u001b[1;31mTypeError\u001b[0m: argument of type 'complex' is not iterable"
     ]
    }
   ],
   "source": [
    "a=253+34j\n",
    "a.real in a"
   ]
  },
  {
   "cell_type": "code",
   "execution_count": 201,
   "id": "09b13551",
   "metadata": {},
   "outputs": [
    {
     "data": {
      "text/plain": [
       "True"
      ]
     },
     "execution_count": 201,
     "metadata": {},
     "output_type": "execute_result"
    }
   ],
   "source": [
    "\"Pen\" in p[-2]"
   ]
  },
  {
   "cell_type": "code",
   "execution_count": 202,
   "id": "1ea8c787",
   "metadata": {},
   "outputs": [
    {
     "data": {
      "text/plain": [
       "False"
      ]
     },
     "execution_count": 202,
     "metadata": {},
     "output_type": "execute_result"
    }
   ],
   "source": [
    "  \"eu\" in [\"a\",\"eiou\"]"
   ]
  },
  {
   "cell_type": "code",
   "execution_count": 203,
   "id": "8d712f12",
   "metadata": {},
   "outputs": [],
   "source": [
    "a=[1,2,3,4,5,2,3,45,6,48]\n",
    "#duplicates elements remove"
   ]
  },
  {
   "cell_type": "markdown",
   "id": "7538d63c",
   "metadata": {},
   "source": [
    "# Indentity Operator\n",
    "\n",
    "identity operators are used to compare the memory locations (identities) of two objects to determine if they are the same object or not. Python provides two identity operators: is and is not.\n",
    "\n",
    "is operator: This operator returns True if the operands on both sides of the operator refer to the same object in memory, and False otherwise.\n",
    "\n",
    "is not operator: This operator returns True if the operands on both sides of the operator do not refer to the same object in memory, and False if they do refer to the same object."
   ]
  },
  {
   "cell_type": "code",
   "execution_count": 204,
   "id": "dbbff99f",
   "metadata": {},
   "outputs": [
    {
     "ename": "SyntaxError",
     "evalue": "invalid syntax (1919180117.py, line 1)",
     "output_type": "error",
     "traceback": [
      "\u001b[1;36m  Cell \u001b[1;32mIn[204], line 1\u001b[1;36m\u001b[0m\n\u001b[1;33m    -5 to 256 # cache memeory\u001b[0m\n\u001b[1;37m       ^\u001b[0m\n\u001b[1;31mSyntaxError\u001b[0m\u001b[1;31m:\u001b[0m invalid syntax\n"
     ]
    }
   ],
   "source": [
    "-5 to 256 # cache memeory"
   ]
  },
  {
   "cell_type": "code",
   "execution_count": 205,
   "id": "449f307a",
   "metadata": {},
   "outputs": [
    {
     "data": {
      "text/plain": [
       "False"
      ]
     },
     "execution_count": 205,
     "metadata": {},
     "output_type": "execute_result"
    }
   ],
   "source": [
    "a=257\n",
    "b=257\n",
    "a is b"
   ]
  },
  {
   "cell_type": "code",
   "execution_count": 206,
   "id": "48761398",
   "metadata": {},
   "outputs": [],
   "source": [
    "a=None\n",
    "b=None"
   ]
  },
  {
   "cell_type": "code",
   "execution_count": 207,
   "id": "ff6598af",
   "metadata": {},
   "outputs": [
    {
     "name": "stdout",
     "output_type": "stream",
     "text": [
      "None 140711786606272\n",
      "None 140711786606272\n"
     ]
    }
   ],
   "source": [
    "print(a,id(a))\n",
    "print(b,id(b))\n"
   ]
  },
  {
   "cell_type": "code",
   "execution_count": 208,
   "id": "dab0679f",
   "metadata": {},
   "outputs": [
    {
     "data": {
      "text/plain": [
       "False"
      ]
     },
     "execution_count": 208,
     "metadata": {},
     "output_type": "execute_result"
    }
   ],
   "source": [
    "a is not b"
   ]
  },
  {
   "cell_type": "code",
   "execution_count": 209,
   "id": "cdb2953f",
   "metadata": {},
   "outputs": [
    {
     "data": {
      "text/plain": [
       "True"
      ]
     },
     "execution_count": 209,
     "metadata": {},
     "output_type": "execute_result"
    }
   ],
   "source": [
    "b is a"
   ]
  },
  {
   "cell_type": "code",
   "execution_count": 210,
   "id": "4be356f8",
   "metadata": {},
   "outputs": [],
   "source": [
    "s1=\"ComputingAi\"\n",
    "s2=\"Computingai\""
   ]
  },
  {
   "cell_type": "code",
   "execution_count": 211,
   "id": "2a6ddcc6",
   "metadata": {},
   "outputs": [
    {
     "name": "stdout",
     "output_type": "stream",
     "text": [
      "ComputingAi <class 'str'> 2363519601712\n",
      "Computingai <class 'str'> 2363519588016\n"
     ]
    }
   ],
   "source": [
    "print(s1,type(s1),id(s1))\n",
    "print(s2,type(s2),id(s2))"
   ]
  },
  {
   "cell_type": "code",
   "execution_count": 212,
   "id": "e9ab2e8a",
   "metadata": {},
   "outputs": [
    {
     "data": {
      "text/plain": [
       "True"
      ]
     },
     "execution_count": 212,
     "metadata": {},
     "output_type": "execute_result"
    }
   ],
   "source": [
    "s1 is not s2"
   ]
  },
  {
   "cell_type": "code",
   "execution_count": 213,
   "id": "9042b8a6",
   "metadata": {},
   "outputs": [
    {
     "data": {
      "text/plain": [
       "False"
      ]
     },
     "execution_count": 213,
     "metadata": {},
     "output_type": "execute_result"
    }
   ],
   "source": [
    "'2'==2"
   ]
  },
  {
   "cell_type": "code",
   "execution_count": 214,
   "id": "a8bb77c3",
   "metadata": {},
   "outputs": [
    {
     "name": "stdout",
     "output_type": "stream",
     "text": [
      "True\n"
     ]
    }
   ],
   "source": [
    "a=10\n",
    "b=10\n",
    "print(a is b)"
   ]
  },
  {
   "cell_type": "code",
   "execution_count": 215,
   "id": "221e20ba",
   "metadata": {},
   "outputs": [
    {
     "name": "stdout",
     "output_type": "stream",
     "text": [
      "False\n"
     ]
    }
   ],
   "source": [
    "a=257\n",
    "b=257\n",
    "print(a is b)"
   ]
  },
  {
   "cell_type": "code",
   "execution_count": 216,
   "id": "fd0a4724",
   "metadata": {},
   "outputs": [
    {
     "name": "stdout",
     "output_type": "stream",
     "text": [
      "True\n"
     ]
    }
   ],
   "source": [
    "a=1\n",
    "b=1\n",
    "print( a is b)"
   ]
  },
  {
   "cell_type": "code",
   "execution_count": 217,
   "id": "a30c0dc2",
   "metadata": {},
   "outputs": [
    {
     "name": "stdout",
     "output_type": "stream",
     "text": [
      "False\n"
     ]
    }
   ],
   "source": [
    "a=999\n",
    "b=999\n",
    "print(a is b)"
   ]
  },
  {
   "cell_type": "code",
   "execution_count": 218,
   "id": "5d0cce85",
   "metadata": {},
   "outputs": [
    {
     "name": "stdout",
     "output_type": "stream",
     "text": [
      "True\n"
     ]
    }
   ],
   "source": [
    "a=-2\n",
    "b=-2\n",
    "print( a is b)"
   ]
  },
  {
   "cell_type": "code",
   "execution_count": 219,
   "id": "fef5e341",
   "metadata": {},
   "outputs": [
    {
     "name": "stdout",
     "output_type": "stream",
     "text": [
      "False\n"
     ]
    }
   ],
   "source": [
    "a=-8\n",
    "b=-8\n",
    "print( a is b)"
   ]
  },
  {
   "cell_type": "code",
   "execution_count": 220,
   "id": "5bd7e56a",
   "metadata": {},
   "outputs": [
    {
     "ename": "SyntaxError",
     "evalue": "invalid syntax (3076091862.py, line 1)",
     "output_type": "error",
     "traceback": [
      "\u001b[1;36m  Cell \u001b[1;32mIn[220], line 1\u001b[1;36m\u001b[0m\n\u001b[1;33m    -5 to 256 range\u001b[0m\n\u001b[1;37m       ^\u001b[0m\n\u001b[1;31mSyntaxError\u001b[0m\u001b[1;31m:\u001b[0m invalid syntax\n"
     ]
    }
   ],
   "source": [
    "-5 to 256 range "
   ]
  },
  {
   "cell_type": "code",
   "execution_count": 221,
   "id": "26ebccab",
   "metadata": {},
   "outputs": [
    {
     "name": "stdout",
     "output_type": "stream",
     "text": [
      "False\n"
     ]
    }
   ],
   "source": [
    "a=257\n",
    "b=257\n",
    "print( a is b)"
   ]
  },
  {
   "cell_type": "code",
   "execution_count": 222,
   "id": "6b89264d",
   "metadata": {},
   "outputs": [
    {
     "name": "stdout",
     "output_type": "stream",
     "text": [
      "False\n"
     ]
    }
   ],
   "source": [
    "s1={12,45,463,63}\n",
    "s2={45,63,463,12}\n",
    "print(s1 is s2)"
   ]
  },
  {
   "cell_type": "code",
   "execution_count": 223,
   "id": "464d5e59",
   "metadata": {},
   "outputs": [
    {
     "name": "stdout",
     "output_type": "stream",
     "text": [
      "False\n"
     ]
    }
   ],
   "source": [
    "s1={12,45,23,63}\n",
    "s2={12,45,23,63}\n",
    "print(s1 is s2)"
   ]
  },
  {
   "cell_type": "code",
   "execution_count": 224,
   "id": "0f917060",
   "metadata": {},
   "outputs": [
    {
     "name": "stdout",
     "output_type": "stream",
     "text": [
      "False\n"
     ]
    }
   ],
   "source": [
    "s1={12,45,232,63}\n",
    "s2={12,45,232,63}\n",
    "print(s1 is s2)"
   ]
  },
  {
   "cell_type": "code",
   "execution_count": 225,
   "id": "2dc3f52b",
   "metadata": {},
   "outputs": [
    {
     "name": "stdout",
     "output_type": "stream",
     "text": [
      "False\n"
     ]
    }
   ],
   "source": [
    "r1=range(10,20)\n",
    "s2=range(10,20)\n",
    "print(r1 is s2)"
   ]
  },
  {
   "cell_type": "code",
   "execution_count": 226,
   "id": "20111564",
   "metadata": {},
   "outputs": [
    {
     "name": "stdout",
     "output_type": "stream",
     "text": [
      "False\n"
     ]
    }
   ],
   "source": [
    "a=3.45\n",
    "b=3.45\n",
    "print( a is b)"
   ]
  },
  {
   "cell_type": "code",
   "execution_count": 227,
   "id": "01d818db",
   "metadata": {},
   "outputs": [
    {
     "name": "stdout",
     "output_type": "stream",
     "text": [
      "False\n"
     ]
    }
   ],
   "source": [
    "a=4\n",
    "c=4\n",
    "b=float(a)\n",
    "d=float(c)\n",
    "print(b is d)"
   ]
  },
  {
   "cell_type": "code",
   "execution_count": 228,
   "id": "fc6ce761",
   "metadata": {
    "scrolled": true
   },
   "outputs": [
    {
     "name": "stdout",
     "output_type": "stream",
     "text": [
      "4.0000000000000000000000000000000000000000000000000000000000000000000000000000000000000000000000000000000000000000000000000000000000000000000000000000000000000000000000000000000000000000000000000000000000000000000000000000000000000000000000000000000000000000000000000000000000000000000000000000000000000000000000000000000000000000000000000000000000000000000000000000000000000000000000000000000000000000000000000000000000000000000000000000000000000000000000000000000000000000000000000000000000000000000000000000000000000000000000000000000000000000000000000000000000000000000000000000000000000000000000000000000000000000000000000000000000000000000000000000000000000000000000000000000000000000000000000000000000000000000000000000000000000000000000000000000000000000000000000000000000000000000000000000000000000000000000000000000000000000000000000000000000000000000000000000000000000000000000000000000000000000000000000000000000000000000000000000000000000000000000000000000000000000000000000000000000000000000000000000000000000000000000000000000000000000000000000000000000000000000000000000000000000000000000000000000000000000000000000000000000000000000000000000000000000000000000000000000000000000000000000000000000000000000000000000000000000000000000000000000000000000000000000000000000000000000000000000000000000000000000000000000000000000000000000000000000000000000000000000000000000000000000000000000000000000000000000000000000000000000000000000000000000000000000000000000000000000000000000000000000000000000000000000000000000000000000000000000000000000000000000000000000000000000000000000000000000000000000000000000000000000000000000000000000000000000000000000000000000000000000000000000000000000000000000000000000000000000000000000000000000000000000000000000000000000000000000000000000000000000000000000000000000000000000000000000000000000000000000000000000000000000000000000000000000000000000000000000000000000000000000000000000000000000000000000000000000000000000000000000000000000000000000000000000000000000000000000000000000000000000000000000000000000000000000000000000000000000000000000000000000000000000000000000000000000000000000000000000000000000000000000000000000000000000000000000000000000000000000000000000000000000000000000000000000000000000000000000000000000000000000000000000000000000000000000000000000000000000000000000000000000000000000000000000000000000000000000000000000000000000000000000000000000000000000000000000000000000000000000000000000000000000000000000000000000000000000000000000000000000000000000000000000000000000000000000000000000000000000000000000000000000000000000000000000000000000000000000000000000000000000000000000000000000000000000000000000000000000000000000000000000000000000000000000000000000000000000000000000000000000000000000000000000000000000000000000000000000000000000000000000000000000000000000000000000000000000000000000000000000000000000000000000000000000000000000000000000000000000000000000000000000000000000000000000000000000000000000000000000000000000000000000000000000000000000000000000000000000000000000000000000000000000000000000000000000000000000000000000000000000000000000000000000000000000000000000000000000000000000000000000000000000000000000000000000000000000000000000000000000000000000000000000000000000000000000000000000000000000000000000000000000000000000000000000000000000000000000000000000000000000000000000000000000000000000000000000000000000000000000000000000000000000000000000000000000000000000000000000000000000000000000000000000000000000000000000000000000000000000000000000000000000000000000000000000000000000000000000000000000000000000000000000000000000000000000000000000000000000000000000000000000000000000000000000000000000000000000000000000000000000000000000000000000000000000000000000000000000000000000000000000000000000000000000000000000000000000000000000000000000000000000000000000000000000000000000000000000000000000000000000000000000000000000000000000000000000000000000000000000000000000000000000000000000000000000000000000\n",
      "4.0000000000000000000000000000000000000000000000000000000000000000000000000000000000000000000000000000000000000000000000000000000000000000000000000000000000000000000000000000000000000000000000000000000000000000000000000000000000000000000000000000000000000000000000000000000000000000000000000000000000000000000000000000000000000000000000000000000000000000000000000000000000000000000000000000000000000000000000000000000000000000000000000000000000000000000000000000000000000000000000000000000000000000000000000000000000000000000000000000000000000000000000000000000000000000000000000000000000000000000000000000000000000000000000000000000000000000000000000000000000000000000000000000000000000000000000000000000000000000000000000000000000000000000000000000000000000000000000000000000000000000000000000000000000000000000000000000000000000000000000000000000000000000000000000000000000000000000000000000000000000000000000000000000000000000000000000000000000000000000000000000000000000000000000000000000000000000000000000000000000000000000000000000000000000000000000000000000000000000000000000000000000000000000000000000000000000000000000000000000000000000000000000000000000000000000000000000000000000000000000000000000000000000000000000000000000000000000000000000000000000000000000000000000000000000000000000000000000000000000000000000000000000000000000000000000000000000000000000000000000000000000000000000000000000000000000000000000000000000000000000000000000000000000000000000000000000000000000000000000000000000000000000000000000000000000000000000000000000000000000000000000000000000000000000000000000000000000000000000000000000000000000000000000000000000000000000000000000000000000000000000000000000000000000000000000000000000000000000000000000000000000000000000000000000000000000000000000000000000000000000000000000000000000000000000000000000000000000000000000000000000000000000000000000000000000000000000000000000000000000000000000000000000000000000000000000000000000000000000000000000000000000000000000000000000000000000000000000000000000000000000000000000000000000000000000000000000000000000000000000000000000000000000000000000000000000000000000000000000000000000000000000000000000000000000000000000000000000000000000000000000000000000000000000000000000000000000000000000000000000000000000000000000000000000000000000000000000000000000000000000000000000000000000000000000000000000000000000000000000000000000000000000000000000000000000000000000000000000000000000000000000000000000000000000000000000000000000000000000000000000000000000000000000000000000000000000000000000000000000000000000000000000000000000000000000000000000000000000000000000000000000000000000000000000000000000000000000000000000000000000000000000000000000000000000000000000000000000000000000000000000000000000000000000000000000000000000000000000000000000000000000000000000000000000000000000000000000000000000000000000000000000000000000000000000000000000000000000000000000000000000000000000000000000000000000000000000000000000000000000000000000000000000000000000000000000000000000000000000000000000000000000000000000000000000000000000000000000000000000000000000000000000000000000000000000000000000000000000000000000000000000000000000000000000000000000000000000000000000000000000000000000000000000000000000000000000000000000000000000000000000000000000000000000000000000000000000000000000000000000000000000000000000000000000000000000000000000000000000000000000000000000000000000000000000000000000000000000000000000000000000000000000000000000000000000000000000000000000000000000000000000000000000000000000000000000000000000000000000000000000000000000000000000000000000000000000000000000000000000000000000000000000000000000000000000000000000000000000000000000000000000000000000000000000000000000000000000000000000000000000000000000000000000000000000000000000000000000000000000000000000000000000000000000000000000000000000000000000000000000000000000000000000000000000000000000000000000000000000000000000000000000000000000000000000000000000000\n"
     ]
    }
   ],
   "source": [
    "print(\"%0.4000f\"%b)\n",
    "print(\"%0.4000f\"%d)"
   ]
  },
  {
   "cell_type": "code",
   "execution_count": 229,
   "id": "ef699644",
   "metadata": {},
   "outputs": [
    {
     "name": "stdout",
     "output_type": "stream",
     "text": [
      "3.4500000000000001776356839400250464677811\n"
     ]
    }
   ],
   "source": [
    "a=3.45\n",
    "print(\"%.40f\"%a)"
   ]
  },
  {
   "cell_type": "code",
   "execution_count": 230,
   "id": "0549b15d",
   "metadata": {},
   "outputs": [
    {
     "name": "stdout",
     "output_type": "stream",
     "text": [
      "range(10, 20) <class 'range'>\n"
     ]
    }
   ],
   "source": [
    "d=range(10,20)\n",
    "print(d,type(d))"
   ]
  },
  {
   "cell_type": "markdown",
   "id": "669b46e5",
   "metadata": {},
   "source": [
    "# Operator Precedance"
   ]
  },
  {
   "cell_type": "raw",
   "id": "26867a2e",
   "metadata": {},
   "source": [
    "()  #left to right   Associativity"
   ]
  },
  {
   "cell_type": "raw",
   "id": "8b8e6035",
   "metadata": {},
   "source": [
    "** #Exponent   #Right to Left   2**3+3**5+4**2"
   ]
  },
  {
   "cell_type": "raw",
   "id": "b62843fa",
   "metadata": {},
   "source": [
    "* / // %   #Left to right   2*3/5//42/2%1"
   ]
  },
  {
   "cell_type": "raw",
   "id": "00e57814",
   "metadata": {},
   "source": [
    "+ -  # left to right"
   ]
  },
  {
   "cell_type": "raw",
   "id": "63a0e539",
   "metadata": {},
   "source": [
    "<< >> #left to right"
   ]
  },
  {
   "cell_type": "raw",
   "id": "0167ce37",
   "metadata": {},
   "source": [
    "&  23 & 34    "
   ]
  },
  {
   "cell_type": "raw",
   "id": "7294b9fd",
   "metadata": {},
   "source": [
    "^   3^5 "
   ]
  },
  {
   "cell_type": "raw",
   "id": "f68f61f7",
   "metadata": {},
   "source": [
    "|,<, > ,>=, <=, ==, !=, is, is not,not in "
   ]
  },
  {
   "cell_type": "raw",
   "id": "40cbdceb",
   "metadata": {},
   "source": [
    "not "
   ]
  },
  {
   "cell_type": "raw",
   "id": "223649d2",
   "metadata": {},
   "source": [
    "and"
   ]
  },
  {
   "cell_type": "raw",
   "id": "c21abbf3",
   "metadata": {},
   "source": [
    "or"
   ]
  },
  {
   "cell_type": "code",
   "execution_count": 241,
   "id": "248ceeae",
   "metadata": {},
   "outputs": [
    {
     "data": {
      "text/plain": [
       "'0b1010001'"
      ]
     },
     "execution_count": 241,
     "metadata": {},
     "output_type": "execute_result"
    }
   ],
   "source": [
    "bin(81)"
   ]
  },
  {
   "cell_type": "code",
   "execution_count": 242,
   "id": "afae90a9",
   "metadata": {},
   "outputs": [
    {
     "name": "stdout",
     "output_type": "stream",
     "text": [
      "88\n"
     ]
    }
   ],
   "source": [
    "a=0b1011000\n",
    "print(a)"
   ]
  },
  {
   "cell_type": "code",
   "execution_count": 243,
   "id": "4e7f3173",
   "metadata": {},
   "outputs": [],
   "source": [
    "a=50\n",
    "b=90\n",
    "c=a+b"
   ]
  },
  {
   "cell_type": "code",
   "execution_count": 244,
   "id": "5b30308e",
   "metadata": {},
   "outputs": [
    {
     "name": "stdout",
     "output_type": "stream",
     "text": [
      "Sum=140\n"
     ]
    }
   ],
   "source": [
    "print(\"Sum={}\".format(c))"
   ]
  },
  {
   "cell_type": "code",
   "execution_count": 245,
   "id": "fb0f1bde",
   "metadata": {},
   "outputs": [
    {
     "name": "stdout",
     "output_type": "stream",
     "text": [
      "Sum of 50 and 90 is equal to 140\n"
     ]
    }
   ],
   "source": [
    "print(\"Sum of {} and {} is equal to {}\".format(a,b,c))"
   ]
  },
  {
   "cell_type": "code",
   "execution_count": 246,
   "id": "52f84c6e",
   "metadata": {},
   "outputs": [
    {
     "name": "stdout",
     "output_type": "stream",
     "text": [
      "The Employee name is Rohit and his age is 23 and he is working in IT\n"
     ]
    }
   ],
   "source": [
    "Name=\"Rohit\"\n",
    "Age=23\n",
    "Dpt=\"IT\"\n",
    "print(\"The Employee name is {} and his age is {} and he is working in {}\".format(Name,Age,Dpt))"
   ]
  },
  {
   "cell_type": "code",
   "execution_count": 247,
   "id": "f715358e",
   "metadata": {},
   "outputs": [
    {
     "name": "stdout",
     "output_type": "stream",
     "text": [
      "The Employee name is Rohit and his age is 23 and he is working in IT\n"
     ]
    }
   ],
   "source": [
    "print(f\"The Employee name is {Name} and his age is {Age} and he is working in {Dpt}\")"
   ]
  },
  {
   "cell_type": "code",
   "execution_count": 248,
   "id": "aaa6fbd8",
   "metadata": {},
   "outputs": [
    {
     "name": "stdout",
     "output_type": "stream",
     "text": [
      "Sum =30\n"
     ]
    }
   ],
   "source": [
    "a=10\n",
    "b=20\n",
    "c=a+b\n",
    "print(\"Sum =%d\" %c)\n"
   ]
  },
  {
   "cell_type": "code",
   "execution_count": 249,
   "id": "15db00fe",
   "metadata": {},
   "outputs": [
    {
     "name": "stdout",
     "output_type": "stream",
     "text": [
      "Sum = 30.000000\n"
     ]
    }
   ],
   "source": [
    "print(\"Sum = %f\"%c)"
   ]
  },
  {
   "cell_type": "code",
   "execution_count": 250,
   "id": "232345eb",
   "metadata": {},
   "outputs": [
    {
     "name": "stdout",
     "output_type": "stream",
     "text": [
      "Sum = 30.00\n"
     ]
    }
   ],
   "source": [
    "print(\"Sum = %0.2f\" %c)"
   ]
  },
  {
   "cell_type": "code",
   "execution_count": 251,
   "id": "f2365d3e",
   "metadata": {},
   "outputs": [],
   "source": [
    "a=296.34"
   ]
  },
  {
   "cell_type": "code",
   "execution_count": 252,
   "id": "2dfca431",
   "metadata": {},
   "outputs": [],
   "source": [
    "b=296.34"
   ]
  },
  {
   "cell_type": "code",
   "execution_count": 253,
   "id": "570b7a38",
   "metadata": {},
   "outputs": [
    {
     "name": "stdout",
     "output_type": "stream",
     "text": [
      "False\n"
     ]
    }
   ],
   "source": [
    "c= a is b\n",
    "print(c)\n"
   ]
  },
  {
   "cell_type": "code",
   "execution_count": 254,
   "id": "e3ee3ce3",
   "metadata": {},
   "outputs": [
    {
     "name": "stdout",
     "output_type": "stream",
     "text": [
      "Sum = 296.3399999999999749888957012444734573364257812500000000000000000000000000\n",
      "Sum = 296.3399999999999749888957012444734573364257812500000000000000000000000000\n"
     ]
    }
   ],
   "source": [
    "print(\"Sum = %0.70f\" %a)\n",
    "print(\"Sum = %0.70f\" %b)"
   ]
  },
  {
   "cell_type": "code",
   "execution_count": 255,
   "id": "0fc5a150",
   "metadata": {},
   "outputs": [
    {
     "name": "stdout",
     "output_type": "stream",
     "text": [
      "2 2 3 4 4 4 3 12 "
     ]
    }
   ],
   "source": [
    "lst=[12,3,4,4,4,3,2,2]\n",
    "for i in lst[::-1]:\n",
    "    print(i,end = \" \")"
   ]
  },
  {
   "cell_type": "code",
   "execution_count": 256,
   "id": "44d0e773",
   "metadata": {},
   "outputs": [
    {
     "name": "stdout",
     "output_type": "stream",
     "text": [
      "\n"
     ]
    },
    {
     "data": {
      "text/plain": [
       "''"
      ]
     },
     "execution_count": 256,
     "metadata": {},
     "output_type": "execute_result"
    }
   ],
   "source": [
    "input()"
   ]
  },
  {
   "cell_type": "code",
   "execution_count": 257,
   "id": "06484dec",
   "metadata": {},
   "outputs": [
    {
     "name": "stdout",
     "output_type": "stream",
     "text": [
      "Enter the number:-\n"
     ]
    }
   ],
   "source": [
    "a=input(\"Enter the number:-\")"
   ]
  },
  {
   "cell_type": "code",
   "execution_count": 258,
   "id": "20d2b915",
   "metadata": {},
   "outputs": [
    {
     "name": "stdout",
     "output_type": "stream",
     "text": [
      " <class 'str'>\n"
     ]
    }
   ],
   "source": [
    "print(a,type(a))"
   ]
  },
  {
   "cell_type": "code",
   "execution_count": 259,
   "id": "8cd937af",
   "metadata": {},
   "outputs": [
    {
     "name": "stdout",
     "output_type": "stream",
     "text": [
      "Enter the number:-\n"
     ]
    },
    {
     "ename": "ValueError",
     "evalue": "complex() arg is a malformed string",
     "output_type": "error",
     "traceback": [
      "\u001b[1;31m---------------------------------------------------------------------------\u001b[0m",
      "\u001b[1;31mValueError\u001b[0m                                Traceback (most recent call last)",
      "Cell \u001b[1;32mIn[259], line 1\u001b[0m\n\u001b[1;32m----> 1\u001b[0m a\u001b[38;5;241m=\u001b[39m\u001b[38;5;28;43mcomplex\u001b[39;49m\u001b[43m(\u001b[49m\u001b[38;5;28;43minput\u001b[39;49m\u001b[43m(\u001b[49m\u001b[38;5;124;43m\"\u001b[39;49m\u001b[38;5;124;43mEnter the number:-\u001b[39;49m\u001b[38;5;124;43m\"\u001b[39;49m\u001b[43m)\u001b[49m\u001b[43m)\u001b[49m\n",
      "\u001b[1;31mValueError\u001b[0m: complex() arg is a malformed string"
     ]
    }
   ],
   "source": [
    "a=complex(input(\"Enter the number:-\"))"
   ]
  },
  {
   "cell_type": "code",
   "execution_count": 260,
   "id": "aedcec26",
   "metadata": {},
   "outputs": [
    {
     "name": "stdout",
     "output_type": "stream",
     "text": [
      " <class 'str'>\n"
     ]
    }
   ],
   "source": [
    "print(a,type(a))"
   ]
  },
  {
   "cell_type": "code",
   "execution_count": 261,
   "id": "0bf99a92",
   "metadata": {},
   "outputs": [
    {
     "name": "stdout",
     "output_type": "stream",
     "text": [
      "2.0\n"
     ]
    }
   ],
   "source": [
    "a=(6/2)\n",
    "b=(3/2)  #flaoting\n",
    "c=('6/2')#  string\n",
    "print(a/b)\n"
   ]
  },
  {
   "cell_type": "code",
   "execution_count": 262,
   "id": "173cab29",
   "metadata": {},
   "outputs": [
    {
     "name": "stdout",
     "output_type": "stream",
     "text": [
      "30 Sum of the numbers\n"
     ]
    }
   ],
   "source": [
    "a=10\n",
    "b=20\n",
    "c=a+b\n",
    "print(c,\"Sum of the numbers\")"
   ]
  },
  {
   "cell_type": "code",
   "execution_count": 263,
   "id": "4e2127d3",
   "metadata": {},
   "outputs": [
    {
     "name": "stdout",
     "output_type": "stream",
     "text": [
      "Sum of 10 and 20 is 30\n"
     ]
    }
   ],
   "source": [
    "print(f\"Sum of {a} and {b} is {c}\")"
   ]
  },
  {
   "cell_type": "code",
   "execution_count": 264,
   "id": "3a710860",
   "metadata": {},
   "outputs": [
    {
     "name": "stdout",
     "output_type": "stream",
     "text": [
      "sum of 30 and 10 is 20\n"
     ]
    }
   ],
   "source": [
    "print(\"sum of {} and {} is {}\".format(c,a,b))"
   ]
  },
  {
   "cell_type": "code",
   "execution_count": null,
   "id": "71477c0c",
   "metadata": {},
   "outputs": [],
   "source": []
  }
 ],
 "metadata": {
  "kernelspec": {
   "display_name": "Python 3 (ipykernel)",
   "language": "python",
   "name": "python3"
  },
  "language_info": {
   "codemirror_mode": {
    "name": "ipython",
    "version": 3
   },
   "file_extension": ".py",
   "mimetype": "text/x-python",
   "name": "python",
   "nbconvert_exporter": "python",
   "pygments_lexer": "ipython3",
   "version": "3.10.9"
  }
 },
 "nbformat": 4,
 "nbformat_minor": 5
}

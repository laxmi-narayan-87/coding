{
 "cells": [
  {
   "cell_type": "markdown",
   "id": "bc3ffaf2",
   "metadata": {},
   "source": [
    "# While loop"
   ]
  },
  {
   "cell_type": "markdown",
   "id": "eb324faa",
   "metadata": {},
   "source": [
    "A \"while loop\" is a control structure in programming that allows you to repeatedly execute a block of code as long as a certain condition is true. Here's the basic syntax of a while loop in many programming languages:\n",
    "\n",
    " \n",
    "while condition:\n",
    "\n",
    "    # Code to be executed repeatedly as long as the condition is true\n",
    "\n",
    "Here's how it works:\n",
    "\n",
    "The condition is evaluated. If it is true, the code inside the loop is executed.\n",
    "\n",
    "After the code inside the loop is executed, the condition is checked again.\n",
    "\n",
    "If the condition is still true, the code inside the loop is executed again.\n",
    "\n",
    "This process continues until the condition becomes false. Once the condition is false, the loop terminates, and the program continues with the code after the loop."
   ]
  },
  {
   "cell_type": "markdown",
   "id": "8a092979",
   "metadata": {},
   "source": [
    "A while loop is a way for a computer to repeat a task as long as a certain condition is true. Imagine telling a computer to keep doing something over and over again until a specific rule is no longer valid. It's like saying, \"Keep eating ice cream while you're still feeling hot.\" The computer will keep eating ice cream until it doesn't feel hot anymore. That's what a while loop does in programming: it repeats an action until a condition is no longer met.\n",
    "\n",
    "\n",
    "\n",
    "\n"
   ]
  },
  {
   "cell_type": "markdown",
   "id": "21a83a2d",
   "metadata": {},
   "source": [
    "Loop Control:\n",
    "\n",
    "While loops execute as long as a specified condition is true.\n",
    "\n",
    "Ensure your condition makes sense for your task."
   ]
  },
  {
   "cell_type": "markdown",
   "id": "6e65b02e",
   "metadata": {},
   "source": [
    "# Python While Loop for Odd Iterations"
   ]
  },
  {
   "cell_type": "code",
   "execution_count": null,
   "id": "be331e0a",
   "metadata": {
    "scrolled": true
   },
   "outputs": [],
   "source": [
    "i=1\n",
    "while i<10:\n",
    "    print(\"Python Programming\")\n",
    "    i=i+2\n",
    "    "
   ]
  },
  {
   "cell_type": "markdown",
   "id": "1435ba13",
   "metadata": {},
   "source": [
    "# Countdown with Python While Loop\n",
    "\n",
    "Printing number from 10 to 1"
   ]
  },
  {
   "cell_type": "code",
   "execution_count": null,
   "id": "212be0ad",
   "metadata": {},
   "outputs": [],
   "source": [
    "i=10   #initialization\n",
    "while i>=1:  #condition\n",
    "    print(i)\n",
    "    i=i-1  #decrementation"
   ]
  },
  {
   "cell_type": "markdown",
   "id": "d04f2e72",
   "metadata": {},
   "source": [
    "# Multiplication Table Generator in Python"
   ]
  },
  {
   "cell_type": "code",
   "execution_count": null,
   "id": "0affdc49",
   "metadata": {
    "scrolled": true
   },
   "outputs": [],
   "source": [
    "num=int(input(\"Enter the number of table you want multiplication table\"))\n",
    "i=1\n",
    "while i<=10:\n",
    "    print(f\"{num} * {i} = {num*i}\")\n",
    "    i=i+1\n"
   ]
  },
  {
   "cell_type": "markdown",
   "id": "6c517087",
   "metadata": {},
   "source": [
    "# Fruit List Output using Python While Loop"
   ]
  },
  {
   "cell_type": "code",
   "execution_count": null,
   "id": "a6effd55",
   "metadata": {},
   "outputs": [],
   "source": [
    "a=[\"Apple\",\"Mango\",\"Banana\",\"Cherry\",\"Watermelon\",\"Grapes\",\"Orange\"]\n",
    "#while loop\n",
    "i=0\n",
    "while i<len(a)-2: \n",
    "    print(a[i])\n",
    "    i=i+1"
   ]
  },
  {
   "cell_type": "code",
   "execution_count": null,
   "id": "1eda6d33",
   "metadata": {},
   "outputs": [],
   "source": [
    "a=[\"Apple\",\"Mango\",\"Banana\",\"Cherry\",\"Watermelon\",\"Grapes\",\"Orange\"]\n",
    "#while loop\n",
    "i=len(a)-1 #7\n",
    "while i>=0:   #7\n",
    "    print(a[i])\n",
    "\n",
    "    i=i-1"
   ]
  },
  {
   "cell_type": "markdown",
   "id": "bed09e3e",
   "metadata": {},
   "source": [
    "# Car Input Program with While Loop\n"
   ]
  },
  {
   "cell_type": "code",
   "execution_count": null,
   "id": "3583f3cc",
   "metadata": {},
   "outputs": [],
   "source": [
    "\n",
    "# Initialize an empty list to store car names\n",
    "cars = []\n",
    "\n",
    "# Set a counter for the while loop\n",
    "counter = 0\n",
    "\n",
    "# Use a while loop to gather input for car names\n",
    "while counter < 7:\n",
    "    name = input(\"Enter the car's name: \")\n",
    "    cars.append(name)\n",
    "    counter += 1\n",
    "\n",
    "# Display the list of cars\n",
    "print(\"\\nList of cars:\")\n",
    "for car in cars:\n",
    "    print(car)\n"
   ]
  },
  {
   "cell_type": "markdown",
   "id": "894b7388",
   "metadata": {},
   "source": [
    "# Program to Calculate the Sum of Numbers from 1 to 10"
   ]
  },
  {
   "cell_type": "code",
   "execution_count": null,
   "id": "e9e08bd8",
   "metadata": {},
   "outputs": [],
   "source": [
    "i=1\n",
    "sum=0  \n",
    "while i<=10:\n",
    "   # sum=0\n",
    "    sum=sum+i\n",
    "    i=i+1\n",
    "    print(\"Sum of 1 to 10 is:-\",sum)\n",
    "    "
   ]
  },
  {
   "cell_type": "markdown",
   "id": "e5bb3d9f",
   "metadata": {},
   "source": [
    "# Infinite Loop Printing \"Hello are you\"\n"
   ]
  },
  {
   "cell_type": "code",
   "execution_count": null,
   "id": "972c17f6",
   "metadata": {},
   "outputs": [],
   "source": [
    "while True:\n",
    "    print(\"Hello are you \")\n",
    "    "
   ]
  },
  {
   "cell_type": "markdown",
   "id": "0b527d77",
   "metadata": {},
   "source": [
    "# Fruit Basket Input Program with Quit Option\n"
   ]
  },
  {
   "cell_type": "code",
   "execution_count": null,
   "id": "67ebd73c",
   "metadata": {},
   "outputs": [],
   "source": [
    "fruit=[]\n",
    "i=1\n",
    "while i<=7:\n",
    "    add=input(\"Enter the fruit name you want in the basket\")\n",
    "    if add==\"quit\":\n",
    "        break\n",
    "    else:\n",
    "        fruit.append(add)\n",
    "        i=i+1\n",
    "            \n",
    "print(fruit)\n",
    "            \n",
    "    "
   ]
  },
  {
   "cell_type": "markdown",
   "id": "d4631917",
   "metadata": {},
   "source": [
    "# Simple Password Authentication Program\n"
   ]
  },
  {
   "cell_type": "code",
   "execution_count": null,
   "id": "22675617",
   "metadata": {},
   "outputs": [],
   "source": [
    "password=\"admin007\"\n",
    "\n",
    "while True:\n",
    "    user_value=input(\"Enter the password:\")\n",
    "    if user_value == password:\n",
    "        print(\"Access Granted, Welcome to Admin Panel\")\n",
    "        break\n",
    "    else:\n",
    "        print(\"Incorrect Password, Try Again\")\n",
    "    "
   ]
  },
  {
   "cell_type": "markdown",
   "id": "901ff2ea",
   "metadata": {},
   "source": [
    "# Improved Password Authentication Program"
   ]
  },
  {
   "cell_type": "code",
   "execution_count": null,
   "id": "5461993c",
   "metadata": {},
   "outputs": [],
   "source": [
    "# Set the correct password\n",
    "correct_password = \"admin007\"\n",
    "\n",
    "# Allow three attempts\n",
    "attempts_left = 3\n",
    "\n",
    "while attempts_left > 0:\n",
    "    user_value = input(\"Enter the password: \")\n",
    "\n",
    "    if user_value == correct_password:\n",
    "        print(\"Access Granted! Welcome to the Admin Panel.\")\n",
    "        break\n",
    "    else:\n",
    "        attempts_left -= 1\n",
    "        if attempts_left > 0:\n",
    "            print(f\"Incorrect Password. {attempts_left} attempts left. Try Again.\")\n",
    "        else:\n",
    "            print(\"Incorrect Password. No attempts left. Access Denied.\")\n"
   ]
  },
  {
   "cell_type": "markdown",
   "id": "d027da17",
   "metadata": {},
   "source": [
    "# Fibonacci Series Program"
   ]
  },
  {
   "cell_type": "code",
   "execution_count": null,
   "id": "589dd1ca",
   "metadata": {
    "scrolled": true
   },
   "outputs": [],
   "source": [
    "# Get the limit of the Fibonacci series from the user\n",
    "user_limit = int(input(\"Enter the limit of the Fibonacci series you want: \"))\n",
    "\n",
    "# Initialize variables for the Fibonacci series\n",
    "a, b = 0, 1\n",
    "count = 0\n",
    "\n",
    "# Display the Fibonacci series up to the user-specified limit\n",
    "print(f\"Fibonacci series up to {user_limit}: \", end=\" \")\n",
    "\n",
    "while count < user_limit:\n",
    "    print(a, end=\" \")\n",
    "\n",
    "    # Update variables for the next Fibonacci numbers\n",
    "    a, b = b, a + b\n",
    "\n",
    "    count += 1\n",
    "\n",
    "b=1\n",
    "count=0\n",
    "print(\"Fabonacci series up to:\",user)\n",
    "\n",
    "\n",
    "while count < user:     \n",
    "    print(a,end=\" \")\n",
    "    c=a+b        \n",
    "    a=b\n",
    "    b=c\n",
    "    count = count + 1"
   ]
  },
  {
   "cell_type": "markdown",
   "id": "2b6354fe",
   "metadata": {},
   "source": [
    "# Factorial of a given number using a while loop"
   ]
  },
  {
   "cell_type": "code",
   "execution_count": null,
   "id": "07ccf01c",
   "metadata": {},
   "outputs": [],
   "source": [
    "user = int(input(\"Enter the number you want:\"))\n",
    "fact = 1\n",
    "\n",
    "while user > 0:\n",
    "    fact = fact*user\n",
    "    user = user-1\n",
    "\n",
    "print(\"Factorial of the number:\", fact)\n"
   ]
  },
  {
   "cell_type": "markdown",
   "id": "0b86493c",
   "metadata": {},
   "source": [
    "# Remove Duplicates from List using While Loop"
   ]
  },
  {
   "cell_type": "code",
   "execution_count": null,
   "id": "ca5270a9",
   "metadata": {},
   "outputs": [],
   "source": [
    "a = [1,2,3,5,6,8,4,2,8,9,10]  # Assuming you have a list named 'a', as it was mentioned but not defined in your provided code\n",
    "b = []\n",
    "\n",
    "count = 0\n",
    "while count < len(a):\n",
    "    item = a[count]\n",
    "    if item not in b:\n",
    "        b.append(item)\n",
    "    count += 1\n",
    "\n",
    "print(b)\n"
   ]
  },
  {
   "cell_type": "markdown",
   "id": "89d86a78",
   "metadata": {},
   "source": [
    "# Prime numbers within the range of 10 to 30 using a while loop"
   ]
  },
  {
   "cell_type": "code",
   "execution_count": null,
   "id": "b0ed4b19",
   "metadata": {},
   "outputs": [],
   "source": [
    "i = 10\n",
    "\n",
    "while i <= 30:\n",
    "    if i > 1:\n",
    "        prime = True\n",
    "    else:\n",
    "        prime = False\n",
    "        \n",
    "    j = 2\n",
    "    while j < i:\n",
    "        if i % j == 0:\n",
    "            prime = False\n",
    "            break\n",
    "        j += 1\n",
    "    \n",
    "    if prime:\n",
    "        print(i, \"is a prime number\")\n",
    "    else:\n",
    "        print(i, \"is not a prime number\")\n",
    "    \n",
    "    i += 1\n"
   ]
  },
  {
   "cell_type": "markdown",
   "id": "7c469590",
   "metadata": {},
   "source": [
    "# Multiplication Table Generator\n"
   ]
  },
  {
   "cell_type": "code",
   "execution_count": null,
   "id": "ef47c1f1",
   "metadata": {},
   "outputs": [],
   "source": [
    "# Taking user input for the number of rows and columns\n",
    "num_rows = int(input(\"Enter the number of rows: \"))\n",
    "num_cols = int(input(\"Enter the number of columns: \"))\n",
    "\n",
    "row = 1\n",
    "\n",
    "# Outer loop for rows\n",
    "while row <= num_rows:\n",
    "    column = 1\n",
    "    \n",
    "    # Inner loop for columns\n",
    "    while column <= num_cols:\n",
    "        result = row * column\n",
    "        print(f\"{row} * {column} = {result}\", end=\"\\t\")\n",
    "        column += 1\n",
    "    \n",
    "    row += 1\n",
    "    print()  # Move to the next row after the inner loop completes\n"
   ]
  },
  {
   "cell_type": "markdown",
   "id": "0bdc442e",
   "metadata": {},
   "source": [
    " # Multiplication table up to 5x5 using nested while loops"
   ]
  },
  {
   "cell_type": "code",
   "execution_count": 1,
   "id": "e780f3e0",
   "metadata": {},
   "outputs": [
    {
     "name": "stdout",
     "output_type": "stream",
     "text": [
      "1\t2\t3\t4\t5\t\n",
      "2\t4\t6\t8\t10\t\n",
      "3\t6\t9\t12\t15\t\n",
      "4\t8\t12\t16\t20\t\n",
      "5\t10\t15\t20\t25\t\n"
     ]
    }
   ],
   "source": [
    "row = 1\n",
    "while row <= 5:\n",
    "    column = 1\n",
    "    while column <= 5:\n",
    "        print(row * column, end='\\t')\n",
    "        column += 1\n",
    "    print()  # Move to the next row\n",
    "    row += 1"
   ]
  },
  {
   "cell_type": "markdown",
   "id": "c34a361b",
   "metadata": {},
   "source": [
    "# Printing a Pattern using While Loop"
   ]
  },
  {
   "cell_type": "code",
   "execution_count": 2,
   "id": "87e4d1b3",
   "metadata": {},
   "outputs": [
    {
     "name": "stdout",
     "output_type": "stream",
     "text": [
      "* \n",
      "* * \n",
      "* * * \n",
      "* * * * \n",
      "* * * * * \n"
     ]
    }
   ],
   "source": [
    "\n",
    "row = 1\n",
    "while row <= 5:\n",
    "    column = 1\n",
    "    while column <= row:\n",
    "        print('*', end=' ')\n",
    "        column += 1\n",
    "    print()  # Move to the next row\n",
    "    row += 1\n"
   ]
  },
  {
   "cell_type": "code",
   "execution_count": null,
   "id": "c51eebc6",
   "metadata": {},
   "outputs": [],
   "source": [
    "import random\n",
    "\n",
    "target_number = random.randint(1, 100)\n",
    "guess = -1\n",
    "attempts = 0\n",
    "\n",
    "while guess != target_number:\n",
    "    guess = int(input(\"Guess the number: \"))\n",
    "    attempts += 1\n",
    "\n",
    "    if guess < target_number:\n",
    "        print(\"Too low!\")\n",
    "    elif guess > target_number:\n",
    "        print(\"Too high!\")\n",
    "    else:\n",
    "        print(\"Congratulations! You guessed it in\", attempts, \"attempts.\")\n"
   ]
  },
  {
   "cell_type": "markdown",
   "id": "8e19c5bb",
   "metadata": {},
   "source": [
    "# Calculating Average of a List"
   ]
  },
  {
   "cell_type": "code",
   "execution_count": null,
   "id": "11d34024",
   "metadata": {},
   "outputs": [],
   "source": [
    "\n",
    "\n",
    "a = [2, 4, 6, 3, 7, 8, 5, 9, 6]\n",
    "i = 0\n",
    "sum_val = 0\n",
    "\n",
    "# Calculate the sum of the elements in the list\n",
    "while i < len(a):\n",
    "    sum_val += a[i]\n",
    "    i += 1\n",
    "\n",
    "# Calculate the average\n",
    "avg = sum_val / len(a)\n",
    "\n",
    "print(\"List:\", a)\n",
    "print(\"Sum:\", sum_val)\n",
    "print(\"Average:\", avg)\n"
   ]
  },
  {
   "cell_type": "markdown",
   "id": "c26a9aa4",
   "metadata": {},
   "source": [
    "# Printing Odd Numbers using While Loop"
   ]
  },
  {
   "cell_type": "code",
   "execution_count": null,
   "id": "535c7238",
   "metadata": {},
   "outputs": [],
   "source": [
    "i = 1\n",
    "\n",
    "# Iterate through numbers 1 to 9\n",
    "while i < 10:\n",
    "    i += 1  # Increment i\n",
    "    if i % 2 == 0:\n",
    "        continue  # Skip even numbers\n",
    "    print(i)\n",
    "\n"
   ]
  }
 ],
 "metadata": {
  "kernelspec": {
   "display_name": "Python 3 (ipykernel)",
   "language": "python",
   "name": "python3"
  },
  "language_info": {
   "codemirror_mode": {
    "name": "ipython",
    "version": 3
   },
   "file_extension": ".py",
   "mimetype": "text/x-python",
   "name": "python",
   "nbconvert_exporter": "python",
   "pygments_lexer": "ipython3",
   "version": "3.10.9"
  }
 },
 "nbformat": 4,
 "nbformat_minor": 5
}

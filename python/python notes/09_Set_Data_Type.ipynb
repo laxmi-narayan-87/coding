{
 "cells": [
  {
   "cell_type": "markdown",
   "id": "823ce52d",
   "metadata": {},
   "source": [
    "# Set"
   ]
  },
  {
   "cell_type": "markdown",
   "id": "45fb4367",
   "metadata": {},
   "source": [
    "Set in Python\n",
    "\n",
    "•\tA set is an unordered collection of unique elements in Python.\n",
    "\n",
    "•\tUnordered Collection: It means that the elements in a set do not have a specific order or sequence. When you create a set or add elements to it, Python does not maintain the order in which the elements were inserted. Therefore, you cannot access elements in a set using indexing or slicing, as you would with lists or tuples. The lack of order means that you cannot rely on the position of elements within a set.\n",
    "\n",
    "•\tUnique Elements: Each element in a set must be unique; duplicates are not allowed. When you add an element to a set that is already present, the set will not store the duplicate. It will only keep one instance of that element. This property ensures that every element in a set is distinct.\n",
    "\n",
    "•\tMutable and add() method: Sets are mutable, which means you can modify them after they are created. The add() method is used to insert a single element into the set. For example:\n",
    "\n",
    "•\tmy_set = {1, 2, 3}    \tmy_set.append()\t\t\tmy_set[2]=34\n",
    "\n",
    "•\tmy_set.add(4) \t# Now the set is {1, 2, 3, 4} \n",
    "\n",
    "•\tImmutable and item assignment: Sets do not support item assignment like lists or other mutable collections. This means you cannot change the value of a specific element in a set by using an index because sets don't have a concept of ordering and indexing. For example:\n",
    "\n",
    "•\tmy_set = {1, 2, 3} \n",
    "\n",
    "•\tmy_set[1] = 5 # This will raise an error\n",
    "\n",
    "•\tIt is defined using curly braces {} and a comma-separated list of elements.\n",
    "\n",
    "\n",
    "Creating a set\n",
    "\n",
    "•\tmy_set = {element1, element2, element3, ...,element n}\n",
    "\n",
    "•\tSets automatically remove duplicate elements, ensuring that each element appears only once in the set.\n",
    "\n",
    "•\tPython sets are mutable, meaning you can add or remove elements after creating the set.\n",
    "\n",
    "•\tUnlike lists or tuples, sets do not support indexing or slicing because they are unordered.\n",
    "\n",
    "•\tSets are implemented using hash tables, which allows for fast element lookup and membership testing.\n",
    "\n",
    "•\tImagine you have a big box (hash table) with lots of small compartments inside it. Each compartment has a unique number (hash value). Now, you want to store some toys (elements) in the box. To put a toy in the box, you look at its name (element), calculate a special code (hash value) for that toy, and then put the toy in the compartment with the matching number (hash value).\n",
    "\n",
    "•\tWhen you want to find a specific toy later on, you look at its name, calculate its special code (hash value) again, and quickly go to the compartment with the matching number. This process is super fast and doesn't depend on the number of toys in the box because each toy has its designated compartment based on its unique code.\n",
    "\n",
    "•\tThis way of organizing toys (elements) using the box with compartments (hash table) is what Python does with sets. It uses the special code (hash value) of each element to quickly find and check if an element is in the set or not. This makes set operations, like finding elements or checking if an element is in the set, very fast and efficient.\n",
    "\n",
    "\n",
    "  Why Sets were Introduced in Python\n",
    "  \n",
    "•\tSets were introduced in Python to provide a built-in data type for efficiently managing collections of unique elements. The introduction of sets in Python has several motivations and use cases:\n",
    "\n",
    "•\tUniqueness: Sets ensure that each element in the collection is unique. Duplicates are automatically removed when you add elements to a set. This makes sets a convenient choice when dealing with data that should not contain repeated elements.\n",
    "\n",
    "•\tFast Membership Testing: Sets offer constant-time (O(1)) membership testing. You can quickly check whether an element is present in a set, regardless of the size of the set. This property makes sets suitable for scenarios where you frequently need to check for the existence of elements.\n",
    "\n",
    "•\tSet Operations: Sets support various set operations like union, intersection, difference, and symmetric difference. These operations are fundamental in many applications, including data manipulation, mathematical modeling, and algorithm design.\n",
    "\n",
    "•\tMathematical Modeling: Sets are essential in mathematical modeling, where the concept of collections with unique elements is frequently used. Sets provide an easy and intuitive way to represent these mathematical sets and perform operations on them.\n",
    "\n",
    "•\tData Cleaning: When dealing with datasets, sets can be used to filter unique items or remove duplicates efficiently, simplifying data cleaning tasks.\n",
    "\n",
    "\n",
    "BASIS\tSET\tLIST\n",
    "\n",
    "Creation\tYou create a set with the set() constructor or curly braces.\tYou create a list with the list() constructor or square brackets.\n",
    "\n",
    "Duplicate\tA set cannot have duplicate values. All values must be unique.\tA list can have duplicate values.\n",
    "\n",
    "Order\tA set is unordered. When you print the items in a list, they don't come in the order you arranged them.\tA list is ordered. When printed, the items in the list are returned in the same order put in.\n",
    "\n",
    "Mutation\tYou can't change the items of a set, but you can add to the set and remove from it.\tYou can change the items in a list and you can add to the list.\n",
    "\n",
    "\n",
    "Empty Set\n",
    "a={}\n",
    "print(type(a2))\n",
    "Result:- <class 'dict'>\n",
    "\n",
    "In Python, when you use empty curly braces {} without any elements inside, it creates an empty dictionary, not an empty set. This can be confusing, but it's due to the historical design of the language.\n",
    "\n",
    "To create an empty set, you should use the set() constructor, like this:\n",
    "a = set()\n",
    "print(type(a)) \n",
    "\n",
    "Output: <class 'set'>\n",
    "\n",
    "\n",
    "my_set = {1, 2, 3, 4, 5}\n",
    "\n",
    " Trying to access an element using subscript notation\n",
    "element = my_set[3]  # This line will raise the TypeError\n",
    "TypeError: 'set' object is not subscriptable\n",
    "\n",
    "The error message \"TypeError: 'set' object is not subscriptable\" occurs when you try to access an element from a set using the subscript notation ([]). In Python, sets do not support indexing, which means you cannot access elements in a set using numerical indices like you would with lists, tuples, or strings.\n",
    "\n",
    "•\tTypeError: This is the type of error, indicating that you are attempting an operation that is not allowed on the data type.\n",
    "\n",
    "•\t'set' object is not subscriptable: This part of the error message specifies that the specific data type causing the error is a set, and the issue is related to subscripting (using []) to access elements.\n",
    "\n",
    "Predefined set operations\n",
    "\n",
    "my_set = {1, 2, 3, 4, 5}\n",
    "\n",
    " 1. len(set) - Returns the number of elements in the set.\n",
    "length = len(my_set)\n",
    "print(length)  # Output: 5\n",
    "\n",
    " 2. x in set - Checks if 'x' is a member of the set.\n",
    "print(2 in my_set)  # Output: True\n",
    "print(6 in my_set)  # Output: False\n",
    "\n",
    "\n",
    " 3. x not in set - Checks if 'x' is not a member of the set.\n",
    "print(2 not in my_set)  # Output: False\n",
    "print(6 not in my_set)  # Output: True\n",
    "\n",
    " 4. set.add(elem) - Adds 'elem' to the set.\n",
    "my_set.add(6)\n",
    "print(my_set)  # Output: {1, 2, 3, 4, 5, 6}\n",
    "\n",
    " 5. set.remove(elem) - Removes 'elem' from the set. Raises KeyError if 'elem' is not found.\n",
    "my_set.remove(3)\n",
    "print(my_set)  # Output: {1, 2, 4, 5, 6}\n",
    "\n",
    " 6. set.discard(elem) - Removes 'elem' from the set if present, otherwise does nothing.\n",
    "my_set.discard(10)  # Does nothing as 10 is not in the set.\n",
    "print(my_set)  # Output: {1, 2, 4, 5, 6}\n",
    "\n",
    " 7. set.pop() - Removes and returns an arbitrary element from the set. Raises KeyError if the set is empty.\n",
    "popped_element = my_set.pop()\n",
    "print(popped_element)  # Output: 1 (Note: The actual element removed may vary)\n",
    "print(my_set)  # Output: {2, 4, 5, 6}\n",
    "\n",
    " 8. set.clear() - Removes all elements from the set.\n",
    "my_set.clear()\n",
    "print(my_set)  # Output: set()\n",
    "\n",
    "\n",
    " Let's recreate the set for further operations\n",
    "my_set = {1, 2, 3, 4, 5}\n",
    "\n",
    " 9. set.union(*others) or set | other - Returns a new set with elements from the set and all others.\n",
    "set2 = {4, 5, 6, 7}\n",
    "union_set = my_set.union(set2)\n",
    "print(union_set)  # Output: {1, 2, 3, 4, 5, 6, 7}\n",
    "\n",
    " 10. set.intersection(*others) or set & other - Returns a new set with elements common to the set and all others.\n",
    "intersection_set = my_set.intersection(set2)\n",
    "print(intersection_set)  # Output: {4, 5}\n",
    "\n",
    " 11. set.difference(*others) or set - other - Returns a new set with elements in the set that are not in the others.\n",
    "difference_set = my_set.difference(set2)\n",
    "print(difference_set)  # Output: {1, 2, 3}\n",
    "\n",
    " 12. set.symmetric_difference(other) or set ^ other - Returns a new set with elements in either the set or 'other', but not both.\n",
    "symmetric_difference_set = my_set.symmetric_difference(set2)\n",
    "print(symmetric_difference_set)  # Output: {1, 2, 3, 6, 7}\n",
    "\n",
    " 13. set.update(*others) or set |= other - Updates the set, adding elements from all others.\n",
    "my_set.update(set2)\n",
    "print(my_set)  # Output: {1, 2, 3, 4, 5, 6, 7}\n",
    "\n",
    " 14. set.intersection_update(*others) or set &= other - Updates the set, keeping only elements found in both the set and all others.\n",
    "my_set.intersection_update(set2)\n",
    "print(my_set)  # Output: {4, 5}\n",
    "\n",
    " 15. set.difference_update(*others) or set -= other - Updates the set, removing elements found in any of the others.\n",
    "my_set.difference_update(set2)\n",
    "print(my_set)  # Output: set()\n",
    "\n",
    " Let's recreate the set for further operations\n",
    "my_set = {1, 2, 3, 4, 5}\n",
    "\n",
    " 16. set.issubset(other) or set <= other - Checks if the set is a subset of 'other'.\n",
    "print(my_set.issubset(set2))  # Output: False\n",
    "print({4, 5}.issubset(my_set))  # Output: True\n",
    "\n",
    " 17. set.issuperset(other) or set >= other - Checks if the set is a superset of 'other'.\n",
    "print(my_set.issuperset(set2))  # Output: False\n",
    "print(my_set.issuperset({1, 2}))  # Output: True\n",
    "\n",
    " 18. set.isdisjoint(other) - Checks if the set has no elements in common with 'other'.\n",
    "print(my_set.isdisjoint(set2))  # Output: False\n",
    "print({0}.isdisjoint(my_set))  # Output: True\n",
    "\n",
    "\n",
    "\n",
    "\n",
    "\n",
    "\n",
    "\n",
    "In Python, a set is a mutable collection of unique elements. When you copy a set, there are two main types of copying: shallow copy and deep copy. These concepts apply to mutable objects, such as sets, and have different implications depending on how the copies are made.\n",
    "\n",
    "1.\tShallow Copy:\n",
    "\n",
    "•\tA shallow copy of a set creates a new set object, but it does not create copies of the elements inside the set. Instead, it copies references to the same elements as the original set. In other words, the new set is a separate object, but the elements themselves are not duplicated.\n",
    "\n",
    "•\tAny modifications made to the elements within the shallow copy will not be reflected in the original set and vice versa since they point to the same objects in memory.\n",
    "\n",
    "•\tYou can create a shallow copy using the set.copy() method or the built-in set() constructor.\n",
    "Example of a shallow copy:\n",
    "original_set = {1, 2, 3}\n",
    "shallow_copy_set = original_set.copy() \n",
    "print(original_set) \n",
    "\n",
    " Output: {1, 2, 3} \n",
    "print(shallow_copy_set)\n",
    "\n",
    " Output: {1, 2, 3}\n",
    "shallow_copy_set.add\n",
    "\n",
    "(4) print(original_set) \n",
    " Output: {1, 2, 3, 4} \n",
    "print(shallow_copy_set) \n",
    " Output: {1, 2, 3, 4} \n",
    "\n",
    "\n",
    "\n",
    "\n",
    "2.\tDeep Copy:\n",
    "\n",
    "•\tA deep copy of a set creates a new set object and also makes copies of all the elements inside the original set. This means that the new set is entirely independent of the original set, and modifications to one will not affect the other.\n",
    "\n",
    "•\tThe elements inside the deep copy are created as separate objects in memory, so changes to these elements  affect the original set or any other copies.\n",
    "\n",
    "•\tTo create a deep copy, you can use the copy.deepcopy() function from the copy module.\n",
    "\n",
    "Example of a deep copy:\n",
    "\n",
    "import copy original_set = {1, 2, 3} \n",
    "deep_copy_set = copy.deepcopy(original_set) \n",
    "print(original_set) # Output: {1, 2, 3} \n",
    "print(deep_copy_set) # Output: {1, 2, 3} \n",
    "deep_copy_set.add(4) \n",
    "print(original_set) \n",
    " Output: {1, 2, 3} \n",
    "print(deep_copy_set) \n",
    " Output: {1, 2, 3, 4} \n",
    "\n",
    "A shallow copy creates a new set object but shares the same elements with the original set, while a deep copy creates a new set object and copies all elements independently. The choice between a shallow copy and a deep copy depends on whether you want changes in one set to affect the other or if you need independent copies with no shared references.\n",
    "\n"
   ]
  },
  {
   "cell_type": "code",
   "execution_count": 1,
   "id": "a4552ea0",
   "metadata": {},
   "outputs": [],
   "source": [
    "my_set = {\"Sathark\",45,54.2,3+4j,True,22,45,222,22,45,222,\"Hello\"}"
   ]
  },
  {
   "cell_type": "code",
   "execution_count": 2,
   "id": "f8e822f1",
   "metadata": {},
   "outputs": [
    {
     "name": "stdout",
     "output_type": "stream",
     "text": [
      "{'Hello', True, 45, (3+4j), 'Sathark', 54.2, 22, 222} <class 'set'> 1585422869984\n"
     ]
    }
   ],
   "source": [
    "print(my_set,type(my_set),id(my_set)) # undordered and unique elements"
   ]
  },
  {
   "cell_type": "code",
   "execution_count": 3,
   "id": "51e4954f",
   "metadata": {},
   "outputs": [
    {
     "ename": "TypeError",
     "evalue": "'set' object is not subscriptable",
     "output_type": "error",
     "traceback": [
      "\u001b[1;31m---------------------------------------------------------------------------\u001b[0m",
      "\u001b[1;31mTypeError\u001b[0m                                 Traceback (most recent call last)",
      "Cell \u001b[1;32mIn[3], line 1\u001b[0m\n\u001b[1;32m----> 1\u001b[0m \u001b[43mmy_set\u001b[49m\u001b[43m[\u001b[49m\u001b[38;5;241;43m1\u001b[39;49m\u001b[43m]\u001b[49m\n",
      "\u001b[1;31mTypeError\u001b[0m: 'set' object is not subscriptable"
     ]
    }
   ],
   "source": [
    "my_set[1]"
   ]
  },
  {
   "cell_type": "code",
   "execution_count": 5,
   "id": "6218b771",
   "metadata": {},
   "outputs": [
    {
     "name": "stdout",
     "output_type": "stream",
     "text": [
      "{} <class 'dict'>\n"
     ]
    }
   ],
   "source": [
    "new_set={}      #python language will take it as dict class\n",
    "print(new_set,type(new_set))"
   ]
  },
  {
   "cell_type": "code",
   "execution_count": 6,
   "id": "f4345b2d",
   "metadata": {},
   "outputs": [
    {
     "name": "stdout",
     "output_type": "stream",
     "text": [
      "set() <class 'set'>\n"
     ]
    }
   ],
   "source": [
    "a=set()       #value is equal to zero\n",
    "print(a,type(a))"
   ]
  },
  {
   "cell_type": "code",
   "execution_count": 7,
   "id": "c79c0d92",
   "metadata": {},
   "outputs": [
    {
     "name": "stdout",
     "output_type": "stream",
     "text": [
      "{2, 3, 6, 8, 9} <class 'set'>\n"
     ]
    }
   ],
   "source": [
    "b={3,6,8,2,6,8,3,2,9}\n",
    "print(b,type(b))"
   ]
  },
  {
   "cell_type": "code",
   "execution_count": 10,
   "id": "0db1c3bc",
   "metadata": {},
   "outputs": [
    {
     "name": "stdout",
     "output_type": "stream",
     "text": [
      "{'o', 'l', ' ', 'y', 'a', 'e', 'r', 'u', 'h', 'w'} <class 'set'> 1585424496256\n"
     ]
    }
   ],
   "source": [
    "unique_characters = set(\"hello how are you\")\n",
    "print(unique_characters,type(unique_characters),id(unique_characters))"
   ]
  },
  {
   "cell_type": "code",
   "execution_count": 11,
   "id": "7ea0b38d",
   "metadata": {},
   "outputs": [
    {
     "name": "stdout",
     "output_type": "stream",
     "text": [
      "{1, 2, 3, 4, 5}\n"
     ]
    }
   ],
   "source": [
    "my_list = [1, 2, 3, 3, 4, 5, 5]\n",
    "unique_elements = set(my_list)\n",
    "print(unique_elements)"
   ]
  },
  {
   "cell_type": "markdown",
   "id": "989de3fc",
   "metadata": {},
   "source": [
    "# Creating a set"
   ]
  },
  {
   "cell_type": "code",
   "execution_count": 13,
   "id": "0a99b9f7",
   "metadata": {},
   "outputs": [],
   "source": [
    "my_set = {1, 2, 3, 4, 5}"
   ]
  },
  {
   "cell_type": "code",
   "execution_count": 14,
   "id": "fd153162",
   "metadata": {},
   "outputs": [
    {
     "name": "stdout",
     "output_type": "stream",
     "text": [
      "{1, 2, 3, 4, 5} <class 'set'> 1585422869984\n"
     ]
    }
   ],
   "source": [
    "print(my_set,type(my_set),id(my_set))"
   ]
  },
  {
   "cell_type": "markdown",
   "id": "6d705833",
   "metadata": {},
   "source": [
    "# Accessing elements: Sets are unordered, so indexing is not supported."
   ]
  },
  {
   "cell_type": "code",
   "execution_count": 15,
   "id": "af440499",
   "metadata": {},
   "outputs": [
    {
     "name": "stdout",
     "output_type": "stream",
     "text": [
      "Checking if 3 is in the set: True\n"
     ]
    }
   ],
   "source": [
    "\n",
    "# You can check for membership instead.\n",
    "print(\"Checking if 3 is in the set:\", 3 in my_set)  # Output: True"
   ]
  },
  {
   "cell_type": "markdown",
   "id": "3cb4459b",
   "metadata": {},
   "source": [
    "# add()\n",
    "\n",
    "add() is a method used to add a single element to a set.\n",
    "\n",
    "If the element is already present in the set, add() has no effect."
   ]
  },
  {
   "cell_type": "code",
   "execution_count": 16,
   "id": "a2ff7f68",
   "metadata": {},
   "outputs": [
    {
     "name": "stdout",
     "output_type": "stream",
     "text": [
      "After adding 6: {1, 2, 3, 4, 5, 6}\n"
     ]
    }
   ],
   "source": [
    "\n",
    "# Adding an element to the set\n",
    "my_set.add(6)\n",
    "print(\"After adding 6:\", my_set)  # Output: {1, 2, 3, 4, 5, 6}"
   ]
  },
  {
   "cell_type": "markdown",
   "id": "e04c0216",
   "metadata": {},
   "source": [
    "# Removing an element from the set"
   ]
  },
  {
   "cell_type": "code",
   "execution_count": 17,
   "id": "d20ef803",
   "metadata": {},
   "outputs": [
    {
     "name": "stdout",
     "output_type": "stream",
     "text": [
      "After removing 4: {1, 2, 3, 5, 6}\n"
     ]
    }
   ],
   "source": [
    "my_set.remove(4)\n",
    "print(\"After removing 4:\", my_set)  # Output: {1, 2, 3, 5, 6}"
   ]
  },
  {
   "cell_type": "code",
   "execution_count": 19,
   "id": "2609a664",
   "metadata": {},
   "outputs": [
    {
     "name": "stdout",
     "output_type": "stream",
     "text": [
      "Is 3 present in the set? True\n"
     ]
    }
   ],
   "source": [
    "# Checking if an element is present in the set\n",
    "print(\"Is 3 present in the set?\", 3 in my_set)  # Output: True"
   ]
  },
  {
   "cell_type": "markdown",
   "id": "9267a700",
   "metadata": {},
   "source": [
    "# union():\n",
    "\n",
    "union() is a method used to return a new set containing all distinct elements from two or more sets.\n",
    "\n",
    "It does not modify any of the original sets; it returns a new set with the combined elements."
   ]
  },
  {
   "cell_type": "code",
   "execution_count": 20,
   "id": "1209708d",
   "metadata": {},
   "outputs": [
    {
     "name": "stdout",
     "output_type": "stream",
     "text": [
      "Union of two sets: {1, 2, 3, 4, 5, 6, 7, 8}\n"
     ]
    }
   ],
   "source": [
    "# Union of two sets\n",
    "other_set = {4, 5, 6, 7, 8}\n",
    "union_set = my_set.union(other_set)\n",
    "print(\"Union of two sets:\", union_set)  # Output: {1, 2, 3, 4, 5, 6, 7, 8}"
   ]
  },
  {
   "cell_type": "code",
   "execution_count": 26,
   "id": "b5f39790",
   "metadata": {},
   "outputs": [],
   "source": [
    "# Creating two sets\n",
    "set1 = {1, 2, 3, 4, 5}\n",
    "set2 = {4, 5, 6, 7, 8}"
   ]
  },
  {
   "cell_type": "code",
   "execution_count": 27,
   "id": "9b1097c4",
   "metadata": {},
   "outputs": [
    {
     "name": "stdout",
     "output_type": "stream",
     "text": [
      "Union of set1 and set2: {1, 2, 3, 4, 5, 6, 7, 8}\n"
     ]
    }
   ],
   "source": [
    "# Union of two sets\n",
    "union_set = set1.union(set2)\n",
    "print(\"Union of set1 and set2:\", union_set)"
   ]
  },
  {
   "cell_type": "markdown",
   "id": "dc3723af",
   "metadata": {},
   "source": [
    "# discard()\n",
    "\n",
    "discard() is a method used to remove a specific element from a set if it is present.\n",
    "\n",
    "If the element is not present in the set, discard() does nothing and does not raise an error."
   ]
  },
  {
   "cell_type": "code",
   "execution_count": 23,
   "id": "06b3caa7",
   "metadata": {},
   "outputs": [
    {
     "name": "stdout",
     "output_type": "stream",
     "text": [
      "After discarding 8: {1, 2, 3, 4, 5, 6, 7}\n"
     ]
    }
   ],
   "source": [
    "# Removing an element using discard()\n",
    "union_set.discard(8)\n",
    "print(\"After discarding 8:\", union_set)  # Output: {1, 2, 3, 4, 5, 6, 7}"
   ]
  },
  {
   "cell_type": "markdown",
   "id": "cf4af115",
   "metadata": {},
   "source": [
    "# pop():\n",
    "\n",
    "pop() is a method used to remove and return an arbitrary element from a non-empty set.\n",
    "\n",
    "Since sets are unordered, there's no guarantee which element will be removed and returned."
   ]
  },
  {
   "cell_type": "code",
   "execution_count": 24,
   "id": "920ea140",
   "metadata": {},
   "outputs": [
    {
     "name": "stdout",
     "output_type": "stream",
     "text": [
      "Popped element from set1: 1\n"
     ]
    }
   ],
   "source": [
    "# Removing an arbitrary element using pop()\n",
    "popped_element = union_set.pop()\n",
    "print(\"Popped element from set1:\", popped_element)  # Output: An arbitrary element from set1"
   ]
  },
  {
   "cell_type": "markdown",
   "id": "94b8f293",
   "metadata": {},
   "source": [
    "# Intersection (intersection())\n",
    "\n",
    "Returns a new set containing elements that are common to both sets.\n",
    "\n",
    "Does not modify the original sets."
   ]
  },
  {
   "cell_type": "code",
   "execution_count": 54,
   "id": "bd1072b7",
   "metadata": {},
   "outputs": [],
   "source": [
    "# Creating two sets\n",
    "set1 = {1, 2, 3, 4, 5}\n",
    "set2 = {4, 5, 6, 7, 8}\n",
    "\n",
    "# Intersection of two sets\n",
    "intersection_set = set1.intersection(set2)\n",
    "print(\"Intersection of set1 and set2:\", intersection_set)"
   ]
  },
  {
   "cell_type": "markdown",
   "id": "f7d15175",
   "metadata": {},
   "source": [
    "# Intersection Update (intersection_update()):\n",
    "\n",
    "Updates the set with the intersection of itself and another set.\n",
    "\n",
    "Modifies the original set."
   ]
  },
  {
   "cell_type": "code",
   "execution_count": 51,
   "id": "f693ce6f",
   "metadata": {},
   "outputs": [
    {
     "name": "stdout",
     "output_type": "stream",
     "text": [
      "Updated set1 with intersection of set1 and set2: {1, 2, 3}\n"
     ]
    }
   ],
   "source": [
    "set1.intersection_update(set2)\n",
    "print(\"Updated set1 with intersection of set1 and set2:\", set1)  # Output: {1, 2, 3}\n"
   ]
  },
  {
   "cell_type": "markdown",
   "id": "cc6ce82c",
   "metadata": {},
   "source": [
    "# Difference (difference())\n",
    "\n",
    "Returns a new set containing elements that are present in the first set but not in the second set.\n",
    "\n",
    "Does not modify the original sets."
   ]
  },
  {
   "cell_type": "code",
   "execution_count": 29,
   "id": "5e64d875",
   "metadata": {},
   "outputs": [
    {
     "name": "stdout",
     "output_type": "stream",
     "text": [
      "Difference of set1 and set2: {1, 2, 3}\n"
     ]
    }
   ],
   "source": [
    "# Creating two sets\n",
    "set1 = {1, 2, 3, 4, 5}\n",
    "set2 = {4, 5, 6, 7, 8}\n",
    "\n",
    "# Difference between set1 and set2\n",
    "difference_set1 = set1.difference(set2)\n",
    "print(\"Difference of set1 and set2:\", difference_set1)"
   ]
  },
  {
   "cell_type": "markdown",
   "id": "c58c5637",
   "metadata": {},
   "source": [
    "# Difference Update (difference_update())\n",
    "\n",
    "Updates the set with the difference of itself and another set.\n",
    "\n",
    "Modifies the original set."
   ]
  },
  {
   "cell_type": "code",
   "execution_count": 53,
   "id": "8797795d",
   "metadata": {},
   "outputs": [
    {
     "name": "stdout",
     "output_type": "stream",
     "text": [
      "Updated set2 with difference of set2 and set1: {6, 7, 8}\n"
     ]
    }
   ],
   "source": [
    "set2.difference_update(set1)\n",
    "print(\"Updated set2 with difference of set2 and set1:\", set2) \n"
   ]
  },
  {
   "cell_type": "markdown",
   "id": "a735412e",
   "metadata": {},
   "source": [
    "# Symmetric Difference (symmetric_difference())\n",
    "\n",
    "Returns a new set containing elements that are present in either set, but not both.\n",
    "\n",
    "Does not modify the original sets."
   ]
  },
  {
   "cell_type": "code",
   "execution_count": 30,
   "id": "9d02273a",
   "metadata": {},
   "outputs": [
    {
     "name": "stdout",
     "output_type": "stream",
     "text": [
      "Symmetric difference of set1 and set2: {1, 2, 3, 6, 7, 8}\n"
     ]
    }
   ],
   "source": [
    "# Creating two sets\n",
    "set1 = {1, 2, 3, 4, 5}\n",
    "set2 = {4, 5, 6, 7, 8}\n",
    "\n",
    "# Symmetric difference between set1 and set2\n",
    "symmetric_difference_set = set1.symmetric_difference(set2)\n",
    "print(\"Symmetric difference of set1 and set2:\", symmetric_difference_set)"
   ]
  },
  {
   "cell_type": "code",
   "execution_count": 31,
   "id": "a67cf2c4",
   "metadata": {},
   "outputs": [],
   "source": [
    "# Creating two sets\n",
    "set1 = {1, 2, 3, 4, 5}\n",
    "set2 = {4, 5, 6, 7, 8}"
   ]
  },
  {
   "cell_type": "code",
   "execution_count": 32,
   "id": "28fa3f13",
   "metadata": {},
   "outputs": [
    {
     "name": "stdout",
     "output_type": "stream",
     "text": [
      "Is set1 a subset of set2? False\n"
     ]
    }
   ],
   "source": [
    "# Checking if set1 is a subset of set2\n",
    "print(\"Is set1 a subset of set2?\", set1.issubset(set2))"
   ]
  },
  {
   "cell_type": "markdown",
   "id": "13504406",
   "metadata": {},
   "source": [
    "# Symmetric Difference Update (symmetric_difference_update())\n",
    "\n",
    "Updates the set with the symmetric difference of itself and another set.\n",
    "\n",
    "Modifies the original set."
   ]
  },
  {
   "cell_type": "code",
   "execution_count": 55,
   "id": "1f27990a",
   "metadata": {},
   "outputs": [
    {
     "name": "stdout",
     "output_type": "stream",
     "text": [
      "Updated set1 with symmetric difference of set1 and set2: {1, 2, 3, 6, 7, 8}\n"
     ]
    }
   ],
   "source": [
    "set1.symmetric_difference_update(set2)\n",
    "print(\"Updated set1 with symmetric difference of set1 and set2:\", set1) \n"
   ]
  },
  {
   "cell_type": "markdown",
   "id": "141b3800",
   "metadata": {},
   "source": [
    "# issubset:\n",
    "\n",
    "issubset() is a method that checks whether one set is a subset of another set.\n",
    "\n",
    "If all elements of the set are present in the other set, it returns True; otherwise, it returns False."
   ]
  },
  {
   "cell_type": "code",
   "execution_count": 40,
   "id": "3efe7901",
   "metadata": {},
   "outputs": [],
   "source": [
    "# Creating two sets\n",
    "set1 = {1, 2, 3}\n",
    "set2 = {1, 2, 3, 4, 5}\n",
    "set3 = {4, 5, 6}"
   ]
  },
  {
   "cell_type": "code",
   "execution_count": 41,
   "id": "c474ce78",
   "metadata": {},
   "outputs": [
    {
     "name": "stdout",
     "output_type": "stream",
     "text": [
      "Set 1: {1, 2, 3}\n",
      "Set 2: {1, 2, 3, 4, 5}\n",
      "Is set1 a subset of set2? True\n"
     ]
    }
   ],
   "source": [
    "# Displaying the original sets\n",
    "print(\"Set 1:\", set1)\n",
    "print(\"Set 2:\", set2)\n",
    "\n",
    "# Checking if set1 is a subset of set2\n",
    "print(\"Is set1 a subset of set2?\", set1.issubset(set2))  # Output: True"
   ]
  },
  {
   "cell_type": "code",
   "execution_count": 43,
   "id": "4626f485",
   "metadata": {},
   "outputs": [
    {
     "name": "stdout",
     "output_type": "stream",
     "text": [
      "Set 2: {1, 2, 3, 4, 5}\n",
      "Set 3: {4, 5, 6}\n",
      "Is set3 a subset of set3? False\n"
     ]
    }
   ],
   "source": [
    "# Displaying the original sets\n",
    "print(\"Set 2:\", set2)\n",
    "print(\"Set 3:\", set3)\n",
    "\n",
    "# Checking if set3 is a subset of set2\n",
    "print(\"Is set3 a subset of set3?\", set3.issubset(set2))  # Output: False"
   ]
  },
  {
   "cell_type": "markdown",
   "id": "02549c36",
   "metadata": {},
   "source": [
    "# issuperset:\n",
    "\n",
    "issuperset() is a method that checks whether one set is a superset of another set.\n",
    "\n",
    "If all elements of the other set are present in the set, it returns True; otherwise, it returns False."
   ]
  },
  {
   "cell_type": "code",
   "execution_count": 44,
   "id": "6b129c21",
   "metadata": {},
   "outputs": [
    {
     "name": "stdout",
     "output_type": "stream",
     "text": [
      "Is set2 a superset of set1? True\n"
     ]
    }
   ],
   "source": [
    "# Checking if set2 is a superset of set1\n",
    "print(\"Is set2 a superset of set1?\", set2.issuperset(set1))  # Output: True"
   ]
  },
  {
   "cell_type": "code",
   "execution_count": 46,
   "id": "2485ffbc",
   "metadata": {},
   "outputs": [
    {
     "name": "stdout",
     "output_type": "stream",
     "text": [
      "Is set3 a superset of set1? False\n"
     ]
    }
   ],
   "source": [
    "# Checking if set3 is a superset of set1\n",
    "print(\"Is set3 a superset of set1?\", set3.issuperset(set1))  # Output: Fasle"
   ]
  },
  {
   "cell_type": "markdown",
   "id": "c541f268",
   "metadata": {},
   "source": [
    "# isdisjoint:\n",
    "\n",
    "isdisjoint() is a method that checks whether two sets have no common elements.\n",
    "\n",
    "If the sets have no common elements, it returns True; otherwise, it returns False."
   ]
  },
  {
   "cell_type": "code",
   "execution_count": 47,
   "id": "ebd04617",
   "metadata": {},
   "outputs": [
    {
     "name": "stdout",
     "output_type": "stream",
     "text": [
      "Are set2 and set3 disjoint? False\n"
     ]
    }
   ],
   "source": [
    "# Checking if set2 and set3 are disjoint\n",
    "print(\"Are set2 and set3 disjoint?\", set2.isdisjoint(set3))  # Output: False"
   ]
  },
  {
   "cell_type": "code",
   "execution_count": 50,
   "id": "f366127c",
   "metadata": {},
   "outputs": [
    {
     "name": "stdout",
     "output_type": "stream",
     "text": [
      "Are set1 and set3 disjoint? True\n"
     ]
    }
   ],
   "source": [
    "# Checking if set1 and set3 are disjoint\n",
    "print(\"Are set1 and set3 disjoint?\", set1.isdisjoint(set3))  # Output: True"
   ]
  },
  {
   "cell_type": "markdown",
   "id": "85b989f9",
   "metadata": {},
   "source": [
    "# clear()\n",
    "\n",
    "clear() is a method used to remove all elements from a set, making it empty.\n",
    "\n",
    "It does not return any value; it modifies the set in place."
   ]
  },
  {
   "cell_type": "code",
   "execution_count": 56,
   "id": "9f860fcb",
   "metadata": {},
   "outputs": [
    {
     "name": "stdout",
     "output_type": "stream",
     "text": [
      "After clearing the set: set()\n"
     ]
    }
   ],
   "source": [
    "my_set = {1, 2, 3, 4, 5}\n",
    "my_set.clear()\n",
    "print(\"After clearing the set:\", my_set)  # Output: set()\n"
   ]
  },
  {
   "cell_type": "markdown",
   "id": "de9f9e92",
   "metadata": {},
   "source": [
    "# update()\n",
    "\n",
    "update() is a method used to add elements from one set (or any iterable) to another set.\n",
    "\n",
    "It modifies the original set in place by adding elements from the provided iterable."
   ]
  },
  {
   "cell_type": "code",
   "execution_count": 57,
   "id": "ca7940ae",
   "metadata": {},
   "outputs": [
    {
     "name": "stdout",
     "output_type": "stream",
     "text": [
      "After updating set1 with set2: {1, 2, 3, 4, 5, 6}\n"
     ]
    }
   ],
   "source": [
    "set1 = {1, 2, 3}\n",
    "set2 = {4, 5, 6}\n",
    "set1.update(set2)\n",
    "print(\"After updating set1 with set2:\", set1)  # Output: {1, 2, 3, 4, 5, 6}\n"
   ]
  },
  {
   "cell_type": "markdown",
   "id": "16fec4c2",
   "metadata": {},
   "source": [
    "# Frozenset"
   ]
  },
  {
   "cell_type": "markdown",
   "id": "b252ded8",
   "metadata": {},
   "source": [
    "In Python, frozenset is an immutable version of a set. It behaves just like a regular set, but once created, you cannot modify its elements or add/remove elements from it. This makes it an immutable, hashable object, suitable for situations where you need an unchangeable collection of unique elements.\n",
    "\n",
    "Here's a simple explanation and an example of frozenset:\n",
    "\n",
    "Simple Explanation: A frozenset is a fixed and unchangeable collection of unique elements, just like a regular set. Once you create it, you cannot modify its contents.\n",
    "Example:\n",
    " Creating a regular set\n",
    "my_set = {1, 2, 3, 4}\n",
    "\n",
    " Creating a frozenset\n",
    "my_frozenset = frozenset([1, 2, 3, 4])\n",
    "\n",
    " Trying to modify the regular set\n",
    "my_set.add(5)  # This is allowed, and the set becomes {1, 2, 3, 4, 5}\n",
    "print(my_set)\n",
    "\n",
    " Trying to modify the frozenset\n",
    " my_frozenset.add(5)  # This will raise an AttributeError because frozensets are immutable\n",
    "\n",
    "\n",
    "\n",
    " Frozensets are hashable and can be used as keys in dictionaries\n",
    "dictionary = {my_frozenset: \"Hello, I'm a frozenset!\"}\n",
    "print(dictionary[my_frozenset])  # Output: Hello, I'm a frozenset!\n",
    "\n",
    " my_set is a regular set that can be modified by adding elements. On the other hand, my_frozenset is a frozenset, and any attempt to modify it will raise an AttributeError because it is immutable.\n",
    "\n",
    "Frozensets are useful when you need to create sets that are guaranteed not to change, particularly when using them as dictionary keys or as elements in other sets. Since frozensets are immutable, they can be safely used as keys, while regular sets cannot be used as keys in dictionaries because they are mutable and their hash value may change when their elements are modified.\n",
    "\n",
    "Frozensets are like regular sets, but once created, they cannot be modified. They are hashable and can be used as dictionary keys, making them useful in certain scenarios where immutability and hashability are required.\n",
    "\n",
    "\n"
   ]
  },
  {
   "cell_type": "markdown",
   "id": "f8831ff2",
   "metadata": {},
   "source": [
    "# Frozenset and set share many similarities, there are some functions that work on set but not on frozenset."
   ]
  },
  {
   "cell_type": "markdown",
   "id": "e014af78",
   "metadata": {},
   "source": [
    "<b>add():</b> This method allows adding elements to a mutable set, but frozenset is immutable, so you cannot add elements to it.\n",
    "\n",
    "<b>update():</b> Similar to add(), update() allows adding multiple elements to a set, but it modifies the set in place, which is not possible with frozenset.\n",
    "\n",
    "<b>remove():</b> This method removes a specific element from a set, but since frozenset is immutable, you cannot modify its elements after creation.\n",
    "\n",
    "<b>discard():</b> Similar to remove(), discard() removes a specific element from a set if it's present. However, it doesn't raise an error if the element is not found, making it useful for mutable sets.\n",
    "\n",
    "<b>clear():</b> This method removes all elements from a set, but it modifies the set in place, which is not possible with frozenset.\n",
    "\n",
    "<b>pop():</b> This method removes and returns an arbitrary element from a set, but since frozenset is immutable, you cannot modify its elements after creation.\n",
    "\n",
    "<b>intersection_update():</b> This method updates a set with the intersection of itself and another set, but it modifies the set in place, which is not possible with frozenset.\n",
    "\n",
    "<b>difference_update():</b> Similar to intersection_update(), difference_update() updates a set with the difference of itself and another set, but it modifies the set in place, which is not possible with frozenset.\n",
    "\n",
    "<b>symmetric_difference_update():</b> This method updates a set with the symmetric difference of itself and another set, but it modifies the set in place, which is not possible with frozenset."
   ]
  },
  {
   "cell_type": "markdown",
   "id": "9092dd83",
   "metadata": {},
   "source": [
    "#  Functions that work on frozenset"
   ]
  },
  {
   "cell_type": "markdown",
   "id": "4c33787e",
   "metadata": {},
   "source": [
    "<b>union():</b> Returns the union of two or more sets as a new frozenset.\n",
    "\n",
    "<b>intersection():</b> Returns the intersection of two or more sets as a new frozenset.\n",
    "\n",
    "<b>difference():</b> Returns the difference between two sets as a new frozenset.\n",
    "\n",
    "<b>symmetric_difference():</b> Returns the symmetric difference of two sets as a new frozenset.\n",
    "\n",
    "<b>issuperset():</b> Checks whether a frozenset is a superset of another set or frozenset.\n",
    "\n",
    "<b>issubset():</b> Checks whether a frozenset is a subset of another set or frozenset.\n",
    "\n",
    "<b>isdisjoint():</b> Checks whether two sets or frozensets have no common elements.\n",
    "\n",
    "<b>copy():</b> Returns a shallow copy of the frozenset."
   ]
  },
  {
   "cell_type": "code",
   "execution_count": 58,
   "id": "1b572f20",
   "metadata": {},
   "outputs": [
    {
     "name": "stdout",
     "output_type": "stream",
     "text": [
      "frozenset({1, 2, 3, 4, 5})\n"
     ]
    }
   ],
   "source": [
    "# Creating a frozenset from a list\n",
    "my_list = [1, 2, 3, 4, 5]\n",
    "frozen_set = frozenset(my_list)\n",
    "print(frozen_set)  # Output: frozenset({1, 2, 3, 4, 5})\n"
   ]
  },
  {
   "cell_type": "code",
   "execution_count": 59,
   "id": "4b22a2ca",
   "metadata": {},
   "outputs": [
    {
     "name": "stdout",
     "output_type": "stream",
     "text": [
      "Error: 'frozenset' object has no attribute 'add'\n"
     ]
    }
   ],
   "source": [
    "# Attempting to add an element to a frozenset (will raise an error)\n",
    "try:\n",
    "    frozen_set.add(6)\n",
    "except AttributeError as e:\n",
    "    print(\"Error:\", e)  # Output: 'frozenset' object has no attribute 'add'\n"
   ]
  },
  {
   "cell_type": "code",
   "execution_count": 60,
   "id": "1e89605b",
   "metadata": {},
   "outputs": [
    {
     "name": "stdout",
     "output_type": "stream",
     "text": [
      "value1\n"
     ]
    }
   ],
   "source": [
    "# Creating a dictionary with frozenset as keys\n",
    "frozen_dict = {frozenset({1, 2}): \"value1\", frozenset({3, 4}): \"value2\"}\n",
    "print(frozen_dict[frozenset({1, 2})])  # Output: value1\n"
   ]
  },
  {
   "cell_type": "code",
   "execution_count": 61,
   "id": "8865faec",
   "metadata": {},
   "outputs": [
    {
     "name": "stdout",
     "output_type": "stream",
     "text": [
      "frozenset({1, 2, 3, 4, 5})\n"
     ]
    }
   ],
   "source": [
    "# Performing set operations with frozensets\n",
    "set1 = frozenset({1, 2, 3})\n",
    "set2 = frozenset({3, 4, 5})\n",
    "union_set = set1.union(set2)\n",
    "print(union_set)  # Output: frozenset({1, 2, 3, 4, 5})\n"
   ]
  },
  {
   "cell_type": "code",
   "execution_count": 62,
   "id": "80ca8dee",
   "metadata": {},
   "outputs": [
    {
     "name": "stdout",
     "output_type": "stream",
     "text": [
      "frozenset({3})\n",
      "frozenset({1, 2})\n"
     ]
    }
   ],
   "source": [
    "set1 = frozenset({1, 2, 3})\n",
    "set2 = frozenset({3, 4, 5})\n",
    "\n",
    "# Intersection of two frozensets\n",
    "intersection_set = set1.intersection(set2)\n",
    "print(intersection_set)  # Output: frozenset({3})\n",
    "\n",
    "# Difference between two frozensets\n",
    "difference_set = set1.difference(set2)\n",
    "print(difference_set)  # Output: frozenset({1, 2})\n"
   ]
  },
  {
   "cell_type": "code",
   "execution_count": 63,
   "id": "5cf0efe2",
   "metadata": {},
   "outputs": [
    {
     "name": "stdout",
     "output_type": "stream",
     "text": [
      "1\n",
      "2\n",
      "3\n",
      "4\n",
      "5\n"
     ]
    }
   ],
   "source": [
    "my_frozenset = frozenset({1, 2, 3, 4, 5})\n",
    "for element in my_frozenset:\n",
    "    print(element)\n"
   ]
  },
  {
   "cell_type": "code",
   "execution_count": 64,
   "id": "31b624c4",
   "metadata": {},
   "outputs": [
    {
     "name": "stdout",
     "output_type": "stream",
     "text": [
      "True\n",
      "False\n"
     ]
    }
   ],
   "source": [
    "my_frozenset = frozenset({1, 2, 3, 4, 5})\n",
    "print(3 in my_frozenset)  # Output: True\n",
    "print(6 in my_frozenset)  # Output: False\n"
   ]
  },
  {
   "cell_type": "code",
   "execution_count": 65,
   "id": "b541b2dc",
   "metadata": {},
   "outputs": [
    {
     "name": "stdout",
     "output_type": "stream",
     "text": [
      "frozenset({'o', 'l', 'h', 'e'})\n"
     ]
    }
   ],
   "source": [
    "my_string = \"hello\"\n",
    "my_frozenset = frozenset(my_string)\n",
    "print(my_frozenset)  # Output: frozenset({'e', 'h', 'l', 'o'})\n"
   ]
  },
  {
   "cell_type": "code",
   "execution_count": 66,
   "id": "9dadbb21",
   "metadata": {},
   "outputs": [
    {
     "name": "stdout",
     "output_type": "stream",
     "text": [
      "frozenset({1, 2, 3, 4, 5, 6})\n"
     ]
    }
   ],
   "source": [
    "# Creating a set and a frozenset\n",
    "my_set = {1, 2, 3}\n",
    "my_frozenset = frozenset({4, 5, 6})\n",
    "\n",
    "# Creating a new frozenset by combining the set and frozenset\n",
    "combined_frozenset = frozenset(my_set | my_frozenset)\n",
    "print(combined_frozenset)  # Output: frozenset({1, 2, 3, 4, 5, 6})\n"
   ]
  },
  {
   "cell_type": "code",
   "execution_count": 67,
   "id": "98d86a1d",
   "metadata": {},
   "outputs": [
    {
     "name": "stdout",
     "output_type": "stream",
     "text": [
      "-272375401224217160\n"
     ]
    }
   ],
   "source": [
    "# Hashing frozenset objects\n",
    "my_frozenset = frozenset({1, 2, 3})\n",
    "print(hash(my_frozenset))  # Output: 511081087407947677\n"
   ]
  },
  {
   "cell_type": "code",
   "execution_count": 68,
   "id": "80d40587",
   "metadata": {},
   "outputs": [
    {
     "name": "stdout",
     "output_type": "stream",
     "text": [
      "frozenset({1, 2, 3, 4, 5})\n"
     ]
    }
   ],
   "source": [
    "# Removing duplicates from a list using frozenset\n",
    "my_list = [1, 2, 3, 1, 2, 4, 5]\n",
    "unique_elements = frozenset(my_list)\n",
    "print(unique_elements)  # Output: frozenset({1, 2, 3, 4, 5})\n"
   ]
  },
  {
   "cell_type": "code",
   "execution_count": 69,
   "id": "ee0cc401",
   "metadata": {},
   "outputs": [
    {
     "name": "stdout",
     "output_type": "stream",
     "text": [
      "frozenset({1, 2, 3, 4, 5})\n"
     ]
    }
   ],
   "source": [
    "# Performing set operations with frozensets\n",
    "set1 = frozenset({1, 2, 3})\n",
    "set2 = frozenset({3, 4, 5})\n",
    "union_set = set1 | set2\n",
    "print(union_set)  # Output: frozenset({1, 2, 3, 4, 5})\n"
   ]
  }
 ],
 "metadata": {
  "kernelspec": {
   "display_name": "Python 3 (ipykernel)",
   "language": "python",
   "name": "python3"
  },
  "language_info": {
   "codemirror_mode": {
    "name": "ipython",
    "version": 3
   },
   "file_extension": ".py",
   "mimetype": "text/x-python",
   "name": "python",
   "nbconvert_exporter": "python",
   "pygments_lexer": "ipython3",
   "version": "3.10.9"
  }
 },
 "nbformat": 4,
 "nbformat_minor": 5
}

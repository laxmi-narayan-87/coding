{
 "cells": [
  {
   "cell_type": "markdown",
   "id": "5afcd566",
   "metadata": {},
   "source": [
    "# Lambda Function"
   ]
  },
  {
   "cell_type": "markdown",
   "id": "cae705fc",
   "metadata": {},
   "source": [
    "A lambda function in Python is a small, \n",
    "anonymous (unnamed) function that is defined using the lambda keyword. \n",
    "It is also known as a lambda expression or lambda abstraction. \n",
    "Lambda functions are often used for short,simple operations that can be defined in a single line\n",
    "of code.\n",
    "\n",
    "The general syntax for a lambda function is as follows:\n",
    "\n",
    "\n",
    "lambda arguments: expression\n",
    "\n",
    "Here's a breakdown of the components:\n",
    "\n",
    "lambda: This keyword is used to define a lambda function.\n",
    "\n",
    "arguments: \n",
    "    \n",
    "These are the input parameters or arguments that the lambda function takes. \n",
    "\n",
    "You can have zero or more arguments.\n",
    "    \n",
    "expression: \n",
    "This is the operation or computation that the lambda function performs using the input arguments. \n",
    "\n",
    "The result of this expression is returned by the lambda function.\n",
    "\n",
    "A lambda function in Python is like a tiny, \n",
    "nameless worker that you can create quickly to do a simple job. \n",
    "Imagine you need someone to add two numbers for you, \n",
    "but you don't want to hire a full-time employee just for that. \n",
    "So, you create a lambda worker on the spot who knows how to add numbers.\n",
    "\n",
    "Here's how you make this lambda worker:\n",
    "\n",
    " \n",
    "add = lambda x, y: x + y\n",
    "\n",
    "add is like a label you give to your worker.\n",
    "\n",
    "lambda tells Python that you're making a quick, temporary worker.\n",
    "\n",
    "x and y are the two numbers your worker will add.\n",
    "\n",
    "x + y is what your worker does; it adds the two numbers.\n",
    "\n",
    "Now, whenever you want to add numbers, you can ask your lambda worker:\n",
    "\n",
    "\n",
    "\n",
    "result = add(2, 3)\n",
    "Your worker takes the numbers 2 and 3, adds them together, and gives you the result (which is 5)."
   ]
  },
  {
   "cell_type": "markdown",
   "id": "fd76594d",
   "metadata": {},
   "source": [
    "Lambda is to provide a concise way to create small, anonymous functions for simple tasks. Lambda functions are typically used for the following purposes:\n",
    "\n",
    "Conciseness: Lambda functions allow you to define functions in a single line of code, which can be helpful for short and simple operations.\n",
    "\n",
    "One-time Use: They are often used for tasks that you only need to perform once, without defining a formal function using the def keyword.\n",
    "\n",
    "Functional Programming: Lambda functions are commonly used in functional programming constructs like map(), filter(), and reduce(), where you need to pass a function as an argument.\n",
    "\n",
    "Readability: In some cases, using a lambda function can make the code more readable when the function's purpose is straightforward, and using a named function would add unnecessary complexity.\n",
    "\n",
    "However, it's essential to understand that lambda functions have limitations compared to regular functions defined with def. \n",
    "They are not suitable for complex tasks or functions that require multiple statements or more significant logic. \n",
    "In such cases, it's better to define a named function using def. Lambda functions are best suited for short, \n",
    "simple operations."
   ]
  },
  {
   "cell_type": "markdown",
   "id": "69483c9f",
   "metadata": {},
   "source": [
    "# Program Without Lambda:"
   ]
  },
  {
   "cell_type": "code",
   "execution_count": 14,
   "id": "c7697d71",
   "metadata": {},
   "outputs": [
    {
     "name": "stdout",
     "output_type": "stream",
     "text": [
      "Sum without lambda: 8\n"
     ]
    }
   ],
   "source": [
    "# Without Lambda\n",
    "def add_numbers(a, b):\n",
    "    return a + b\n",
    "\n",
    "# Example Usage\n",
    "result = add_numbers(3, 5)\n",
    "print(\"Sum without lambda:\", result)\n"
   ]
  },
  {
   "cell_type": "markdown",
   "id": "298710ed",
   "metadata": {},
   "source": [
    "# Program With Lambda"
   ]
  },
  {
   "cell_type": "code",
   "execution_count": 15,
   "id": "84b5fc9f",
   "metadata": {},
   "outputs": [
    {
     "name": "stdout",
     "output_type": "stream",
     "text": [
      "Sum with lambda: 8\n"
     ]
    }
   ],
   "source": [
    "# With Lambda\n",
    "add_numbers_lambda = lambda a, b: a + b\n",
    "\n",
    "# Example Usage\n",
    "result_lambda = add_numbers_lambda(3, 5)\n",
    "print(\"Sum with lambda:\", result_lambda)\n"
   ]
  },
  {
   "cell_type": "code",
   "execution_count": 16,
   "id": "717ee0bc",
   "metadata": {},
   "outputs": [
    {
     "name": "stdout",
     "output_type": "stream",
     "text": [
      "Reversed: olleh\n"
     ]
    }
   ],
   "source": [
    "reverse_string = lambda s: s[::-1]\n",
    "result = reverse_string(\"hello\")\n",
    "print(\"Reversed:\", result)"
   ]
  },
  {
   "cell_type": "code",
   "execution_count": 17,
   "id": "38445053",
   "metadata": {},
   "outputs": [
    {
     "name": "stdout",
     "output_type": "stream",
     "text": [
      "Product: 24\n"
     ]
    }
   ],
   "source": [
    "multiply = lambda x, y: x * y\n",
    "result = multiply(4, 6)\n",
    "print(\"Product:\", result)\n"
   ]
  },
  {
   "cell_type": "code",
   "execution_count": 18,
   "id": "6d68cfa4",
   "metadata": {},
   "outputs": [
    {
     "name": "stdout",
     "output_type": "stream",
     "text": [
      "Is 8 even? True\n",
      "Is 7 even? False\n"
     ]
    }
   ],
   "source": [
    "is_even = lambda x: x % 2 == 0\n",
    "print(\"Is 8 even?\", is_even(8))\n",
    "print(\"Is 7 even?\", is_even(7))\n"
   ]
  },
  {
   "cell_type": "code",
   "execution_count": 19,
   "id": "80c5a9a2",
   "metadata": {},
   "outputs": [
    {
     "name": "stdout",
     "output_type": "stream",
     "text": [
      "Maximum: 12\n"
     ]
    }
   ],
   "source": [
    "maximum = lambda x, y: x if x > y else y\n",
    "result = maximum(7, 12)\n",
    "print(\"Maximum:\", result)\n"
   ]
  },
  {
   "cell_type": "markdown",
   "id": "dc2ec809",
   "metadata": {},
   "source": [
    "# Map()"
   ]
  },
  {
   "cell_type": "markdown",
   "id": "142a5bba",
   "metadata": {},
   "source": [
    "The map() function in Python is a built-in function that allows you to apply a specified function\n",
    "to each item in an iterable (e.g., a list, tuple, or string) and returns a new iterable containing the results. \n",
    "It is a fundamental tool for functional programming in Python and is commonly used for data transformation.\n",
    "\n",
    "\n",
    "\n",
    "\n",
    "\n",
    "\n",
    "map(function, iterable, ...)\n",
    "\n",
    "function: This is the function that you want to apply to each item in the iterable.\n",
    "iterable: This is the iterable (e.g., a list) whose elements you want to process using the given function.\n",
    "Return Value:\n",
    "map() returns an iterator  or a list containing the results of applying the specified function to each item in the iterable. \n",
    "In Python 3, you typically convert the iterator to a list to see the results.\n",
    "\n",
    "\n",
    "\n",
    "map() applies the specified function to each item in the iterable and returns the transformed values.\n",
    "It is commonly used for tasks like data manipulation, transformation, or applying the same operation to a list of values."
   ]
  },
  {
   "cell_type": "markdown",
   "id": "712d17d7",
   "metadata": {},
   "source": [
    "The map() function in Python is like a magic tool that helps you do the same thing to each item in a list. It's like having a list of numbers, and you want to double every number in that list without writing a lot of code. map() does this job for you.\n",
    "\n",
    "You have a list of things (like numbers) that you want to change in some way.\n",
    "\n",
    "You also have a special rule (a function) that tells you how to change each thing.\n",
    "\n",
    "You use map() and tell it to apply that special rule to each thing in the list.\n",
    "\n",
    "map() then gives you back a new list with all the things changed according to your special rule."
   ]
  },
  {
   "cell_type": "code",
   "execution_count": 3,
   "id": "3ac578f9",
   "metadata": {},
   "outputs": [],
   "source": [
    "a=[1,2,3,4,5,6]\n",
    "\n",
    "def cube(x):\n",
    "    return x**3"
   ]
  },
  {
   "cell_type": "code",
   "execution_count": 4,
   "id": "060cda86",
   "metadata": {},
   "outputs": [
    {
     "name": "stdout",
     "output_type": "stream",
     "text": [
      "[1, 8, 27, 64, 125, 216]\n"
     ]
    }
   ],
   "source": [
    "number=list(map(cube,a))\n",
    "print(number)"
   ]
  },
  {
   "cell_type": "code",
   "execution_count": 20,
   "id": "b00772e6",
   "metadata": {},
   "outputs": [
    {
     "name": "stdout",
     "output_type": "stream",
     "text": [
      "First Letters: ['a', 'b', 'c', 'd']\n"
     ]
    }
   ],
   "source": [
    "words = ['apple', 'banana', 'cherry', 'date']\n",
    "first_letters = list(map(lambda word: word[0], words))\n",
    "print(\"First Letters:\", first_letters)\n"
   ]
  },
  {
   "cell_type": "code",
   "execution_count": 21,
   "id": "0a6bdf76",
   "metadata": {},
   "outputs": [
    {
     "name": "stdout",
     "output_type": "stream",
     "text": [
      "Word Lengths: [3, 5, 5, 3, 5, 4, 3, 4, 3]\n"
     ]
    }
   ],
   "source": [
    "sentence = \"The quick brown fox jumps over the lazy dog\"\n",
    "word_lengths = list(map(lambda word: len(word), sentence.split()))\n",
    "print(\"Word Lengths:\", word_lengths)\n"
   ]
  },
  {
   "cell_type": "code",
   "execution_count": 22,
   "id": "782f93a8",
   "metadata": {},
   "outputs": [
    {
     "name": "stdout",
     "output_type": "stream",
     "text": [
      "Reversed Strings: ['olleh', 'dlrow', 'nohtyp']\n"
     ]
    }
   ],
   "source": [
    "strings = ['hello', 'world', 'python']\n",
    "reversed_strings = list(map(lambda s: s[::-1], strings))\n",
    "print(\"Reversed Strings:\", reversed_strings)\n"
   ]
  },
  {
   "cell_type": "code",
   "execution_count": 4,
   "id": "4993598d",
   "metadata": {},
   "outputs": [
    {
     "name": "stdout",
     "output_type": "stream",
     "text": [
      "{'apple': 4, 'banana': 2, 'orange': 6, 'kiwi': 4}\n"
     ]
    }
   ],
   "source": [
    "items = {'apple': 2, 'banana': 1, 'orange': 3, 'kiwi': 2}\n",
    "\n",
    "doubled_prices = dict(map(lambda item: (item[0], item[1] * 2), items.items()))\n",
    "print(doubled_prices)   "
   ]
  },
  {
   "cell_type": "markdown",
   "id": "5e64e8f4",
   "metadata": {},
   "source": [
    "# Filter()"
   ]
  },
  {
   "cell_type": "markdown",
   "id": "2cab26c8",
   "metadata": {},
   "source": [
    "The filter() function in Python is a built-in function that allows you to filter elements from an iterable (e.g., a list, tuple, or string) based on a specified condition. \n",
    "\n",
    "It returns a new iterable containing only the elements that meet the condition.\n",
    "\n",
    "filter(function, iterable)\n",
    "\n",
    "function: This is the function that specifies the condition you want to apply to each element in the iterable. It should return True for elements that you want to keep and False for elements that you want to discard.\n",
    "\n",
    "iterable: This is the iterable (e.g., a list) from which you want to filter elements.\n",
    "Return Value:\n",
    "\n",
    "filter() returns an iterator or a list containing the elements from the iterable that satisfy the specified condition. In Python 3, you typically convert the iterator to a list to see the filtered results.\n",
    "\n",
    "Usage:\n",
    "\n",
    "filter() is used to select elements from an iterable that match a specific criterion or condition.\n",
    "\n",
    "It is commonly used for tasks like data filtering, where you want to extract elements from a collection that meet certain requirements."
   ]
  },
  {
   "cell_type": "code",
   "execution_count": 7,
   "id": "54db472f",
   "metadata": {},
   "outputs": [],
   "source": [
    "def even_num(x):\n",
    "    if x%2==0:\n",
    "        return x"
   ]
  },
  {
   "cell_type": "code",
   "execution_count": 9,
   "id": "a48d9fbe",
   "metadata": {},
   "outputs": [
    {
     "name": "stdout",
     "output_type": "stream",
     "text": [
      "[46, 6]\n"
     ]
    }
   ],
   "source": [
    "a=[1,3,46,53,6,47]\n",
    "\n",
    "result=list(filter(even_num,a))\n",
    "print(result)"
   ]
  },
  {
   "cell_type": "code",
   "execution_count": 10,
   "id": "9f2a7892",
   "metadata": {},
   "outputs": [
    {
     "name": "stdout",
     "output_type": "stream",
     "text": [
      "['banana', 'cherry', 'orange', 'strawberry']\n"
     ]
    }
   ],
   "source": [
    "# Define a list of words\n",
    "words = [\"apple\", \"banana\", \"grape\", \"cherry\", \"kiwi\", \"orange\", \"strawberry\"]\n",
    "\n",
    "# Define a function to check if a word has more than 5 letters\n",
    "def is_long_word(word):\n",
    "    return len(word) > 5\n",
    "\n",
    "# Use filter() to filter out long words\n",
    "long_words = list(filter(is_long_word, words))\n",
    "\n",
    "# Print the long words\n",
    "print(long_words)\n"
   ]
  },
  {
   "cell_type": "code",
   "execution_count": null,
   "id": "cb72972d",
   "metadata": {},
   "outputs": [],
   "source": [
    "# using lambda\n",
    "# Define a list of words\n",
    "words = [\"apple\", \"banana\", \"grape\", \"cherry\", \"kiwi\", \"orange\", \"strawberry\"]\n",
    "\n",
    "\n",
    "long_words = list(filter(lambda words: len(words)>5, words))\n",
    "\n",
    "# Print the long words\n",
    "print(long_words)\n"
   ]
  },
  {
   "cell_type": "code",
   "execution_count": 11,
   "id": "48bcb5cb",
   "metadata": {},
   "outputs": [
    {
     "name": "stdout",
     "output_type": "stream",
     "text": [
      "[47, 45]\n"
     ]
    }
   ],
   "source": [
    "a=[34,47,23,28,10,17,50,98,19,22,34,45]\n",
    "# condition : odd number and should be greater than 30 \n",
    "info= list(filter(lambda a: a>30 and a % 2 != 0,a))\n",
    "\n",
    "print(info)"
   ]
  },
  {
   "cell_type": "code",
   "execution_count": 12,
   "id": "d27e0368",
   "metadata": {},
   "outputs": [
    {
     "name": "stdout",
     "output_type": "stream",
     "text": [
      "[40, 45, 40]\n"
     ]
    }
   ],
   "source": [
    "def age(value):\n",
    "    return value > 30\n",
    "\n",
    "info = {\"Akash\": 40, \"jayesh\": 20, \"Ajay\": 45, \"Sam\": 22, \"Mat\": 40}\n",
    "\n",
    "var = list(filter(age, info.values()))\n",
    "\n",
    "print(var)\n"
   ]
  },
  {
   "cell_type": "code",
   "execution_count": 23,
   "id": "f7a7c88e",
   "metadata": {
    "scrolled": true
   },
   "outputs": [
    {
     "name": "stdout",
     "output_type": "stream",
     "text": [
      "Positive Numbers: (1, 2)\n"
     ]
    }
   ],
   "source": [
    "tuple_numbers = (-2, -1, 0, 1, 2)\n",
    "positive_numbers = tuple(filter(lambda x: x > 0, tuple_numbers))\n",
    "print(\"Positive Numbers:\", positive_numbers)\n"
   ]
  },
  {
   "cell_type": "code",
   "execution_count": 6,
   "id": "b277c4e9",
   "metadata": {},
   "outputs": [
    {
     "name": "stdout",
     "output_type": "stream",
     "text": [
      "{'banana': 1, 'strawberry': 0}\n"
     ]
    }
   ],
   "source": [
    "items = {'apple': 2, 'banana': 1, 'orange': 3, 'kiwi': 2,'strawberry':0 , 'mango': 6}\n",
    "\n",
    "filtered_items = dict(filter(lambda item: item[1] < 2, items.items()))\n",
    "print(filtered_items)"
   ]
  },
  {
   "cell_type": "code",
   "execution_count": 8,
   "id": "2a522832",
   "metadata": {},
   "outputs": [],
   "source": [
    "a=[7,11,2,5,8,9,4,3,1]"
   ]
  },
  {
   "cell_type": "code",
   "execution_count": 10,
   "id": "b44f595f",
   "metadata": {},
   "outputs": [],
   "source": [
    "def square_even(x):\n",
    "\n",
    "    if x % 2 == 0:\n",
    "        return x ** 2\n",
    "    else:\n",
    "        return None"
   ]
  },
  {
   "cell_type": "code",
   "execution_count": 11,
   "id": "a112e5e1",
   "metadata": {},
   "outputs": [
    {
     "name": "stdout",
     "output_type": "stream",
     "text": [
      "[2, 8, 4]\n"
     ]
    }
   ],
   "source": [
    "squared_even_elements = list(filter(square_even,a))\n",
    "print(squared_even_elements)\n"
   ]
  },
  {
   "cell_type": "markdown",
   "id": "a2d37d82",
   "metadata": {},
   "source": [
    "# Reduce"
   ]
  },
  {
   "cell_type": "markdown",
   "id": "32776c4c",
   "metadata": {},
   "source": [
    "The reduce() function in Python is a built-in function that allows you to perform a cumulative operation on a sequence (e.g., a list) of values. It repeatedly applies a specified function to the elements of the sequence, accumulating the result as it progresses. The final result is a single value.\n",
    "\n",
    "functools.reduce(function, iterable[, initial])\n",
    "\n",
    "function: This is the function that defines the operation to be applied cumulatively to the elements of the iterable. The function should take two arguments and return a single result.\n",
    "\n",
    "iterable: This is the sequence of values (e.g., a list) on which the operation will be performed.\n",
    "\n",
    "initial (optional): This is an initial value that serves as the starting point for the accumulation. If not provided, the first two elements of the iterable are used as the initial values.\n",
    "\n",
    "Return Value:\n",
    "\n",
    "reduce() returns a single value that represents the cumulative result of applying the specified function to the elements of the iterable.\n",
    "\n",
    "Usage:\n",
    "\n",
    "\n",
    "reduce() is commonly used for tasks where you need to cumulatively combine or reduce a sequence of values into a single result.\n",
    "\n",
    "It is especially useful for operations like summation, multiplication, finding the maximum or minimum value, and more.\n",
    "\n",
    "The reduce() function in Python is like a magic box that takes a bunch of items and combines them together one by one to make a single result.\n",
    "\n",
    "You have a list of items (like numbers).\n",
    "\n",
    "You also have a special rule (a function) that tells you how to combine two items into one.\n",
    "\n",
    "You use reduce() and tell it to apply that special rule to all the items in your list.\n",
    "\n",
    "reduce() then goes through your list, pairs up the items, and combines them using your rule.\n",
    "\n",
    "It keeps doing this until all the items are combined into one final result."
   ]
  },
  {
   "cell_type": "code",
   "execution_count": 25,
   "id": "f8c0ec64",
   "metadata": {},
   "outputs": [],
   "source": [
    "from functools import reduce"
   ]
  },
  {
   "cell_type": "code",
   "execution_count": 30,
   "id": "3847afa6",
   "metadata": {},
   "outputs": [
    {
     "name": "stdout",
     "output_type": "stream",
     "text": [
      "15\n"
     ]
    }
   ],
   "source": [
    "from functools import reduce\n",
    "\n",
    "numbers = [1, 2, 3, 4, 5]\n",
    "sum_result = reduce(lambda x, y: x + y, numbers)\n",
    "print(sum_result)\n"
   ]
  },
  {
   "cell_type": "code",
   "execution_count": 26,
   "id": "bcbeaf9f",
   "metadata": {},
   "outputs": [
    {
     "name": "stdout",
     "output_type": "stream",
     "text": [
      "120\n"
     ]
    }
   ],
   "source": [
    "from functools import reduce\n",
    "\n",
    "# Define a list of numbers\n",
    "numbers = [1, 2, 3, 4, 5]\n",
    "# Define a function to multiply two numbers\n",
    "# def multiply(x, y):\n",
    "#     return x * y\n",
    "\n",
    "# Use reduce() to find the product of the numbers\n",
    "product_result = reduce(lambda x,y: x*y, numbers)\n",
    "\n",
    "# Print the product\n",
    "print(product_result)\n"
   ]
  },
  {
   "cell_type": "code",
   "execution_count": 27,
   "id": "e8919657",
   "metadata": {},
   "outputs": [
    {
     "name": "stdout",
     "output_type": "stream",
     "text": [
      "99\n"
     ]
    }
   ],
   "source": [
    "# Define a list of numbers\n",
    "numbers = [23, 56, 12, 67, 45, 89, 34, 99, 8]\n",
    "# Define a function to find the maximum of two numbers\n",
    "# def find_max(x, y):\n",
    "#     if x > y:\n",
    "#         return x\n",
    "#     else:\n",
    "#         return y\n",
    "\n",
    "# Use reduce() to find the maximum value in the list\n",
    "max_value = reduce(find_max, numbers)\n",
    "\n",
    "# Print the maximum value\n",
    "print(max_value)\n"
   ]
  },
  {
   "cell_type": "code",
   "execution_count": 28,
   "id": "e6dcbb19",
   "metadata": {
    "scrolled": true
   },
   "outputs": [
    {
     "name": "stdout",
     "output_type": "stream",
     "text": [
      "120\n"
     ]
    }
   ],
   "source": [
    "n = 5\n",
    "factorial = reduce(lambda x, y: x * y, range(1, n + 1))\n",
    "print(factorial)"
   ]
  },
  {
   "cell_type": "code",
   "execution_count": 31,
   "id": "e981a3f0",
   "metadata": {},
   "outputs": [
    {
     "name": "stdout",
     "output_type": "stream",
     "text": [
      "30.0\n"
     ]
    }
   ],
   "source": [
    "from functools import reduce\n",
    "\n",
    "numbers = [10, 20, 30, 40, 50]\n",
    "average = reduce(lambda x, y: x + y, numbers) / len(numbers)\n",
    "print(average)\n"
   ]
  },
  {
   "cell_type": "code",
   "execution_count": 3,
   "id": "f14ebc7e",
   "metadata": {},
   "outputs": [
    {
     "name": "stdout",
     "output_type": "stream",
     "text": [
      "{'banana': 1, 'apple': 2, 'kiwi': 2, 'orange': 3}\n"
     ]
    }
   ],
   "source": [
    " items = {'apple': 2, 'banana': 1, 'orange': 3, 'kiwi': 2}\n",
    "\n",
    "sorted_items = dict(sorted(items.items(),key=lambda item: item[1]))\n",
    "print(sorted_items) "
   ]
  }
 ],
 "metadata": {
  "kernelspec": {
   "display_name": "Python 3 (ipykernel)",
   "language": "python",
   "name": "python3"
  },
  "language_info": {
   "codemirror_mode": {
    "name": "ipython",
    "version": 3
   },
   "file_extension": ".py",
   "mimetype": "text/x-python",
   "name": "python",
   "nbconvert_exporter": "python",
   "pygments_lexer": "ipython3",
   "version": "3.10.9"
  }
 },
 "nbformat": 4,
 "nbformat_minor": 5
}

{
 "cells": [
  {
   "cell_type": "markdown",
   "id": "0e3b2739",
   "metadata": {},
   "source": [
    "# For Loop"
   ]
  },
  {
   "cell_type": "markdown",
   "id": "773395cb",
   "metadata": {},
   "source": [
    "Initialization: A for loop typically begins with an initialization statement where you set the loop control variable to an initial value. This variable is used to control the loop's execution.\n",
    "\n",
    "Condition: After the initialization, a for loop includes a condition that is evaluated before each iteration. If the condition is true, the loop continues; if it's false, the loop terminates.\n",
    "\n",
    "Iteration: Inside the loop, there is usually a statement that modifies the loop control variable, incrementing or decrementing it by a specified amount. This is the step that allows the loop to progress through its iterations.\n",
    "\n",
    "Block of Code: A for loop contains a block of code, often enclosed within curly braces {}. This block of code is executed repeatedly as long as the condition evaluates to true.\n",
    "\n",
    "Termination: The loop terminates when the condition becomes false, at which point control passes to the code immediately following the for loop. If the condition is false initially, the loop may not execute at all.\n",
    "\n",
    "\n",
    "\n",
    "for i in range(1, 6):  # Initialization: i starts at 1\n",
    "\n",
    "    print(f\"Iteration {i}\")  # Block of Code: Printing the iteration number\n",
    "    \n",
    "    # Condition and Iteration: i is incremented by 1 at the end of each iteration\n",
    "\n",
    "\n",
    "In this example:\n",
    "\n",
    "Initialization sets i to 1.\n",
    "\n",
    "The condition checks if i is less than or equal to 5. If true, the loop continues.\n",
    "\n",
    "Inside the loop, the code prints the current iteration number.\n",
    "\n",
    "After each iteration, i is incremented by 1 (i += 1).\n",
    "\n",
    "The loop terminates when i becomes 6, as it no longer satisfies the condition."
   ]
  },
  {
   "cell_type": "markdown",
   "id": "4f31dea0",
   "metadata": {},
   "source": [
    "# Print Numbers in a Range"
   ]
  },
  {
   "cell_type": "code",
   "execution_count": null,
   "id": "cd07a591",
   "metadata": {},
   "outputs": [],
   "source": [
    "for i in range(1,10):\n",
    "    print(i)"
   ]
  },
  {
   "cell_type": "markdown",
   "id": "4f00ed5a",
   "metadata": {},
   "source": [
    "# Print Square Pattern"
   ]
  },
  {
   "cell_type": "code",
   "execution_count": null,
   "id": "38de94a7",
   "metadata": {
    "scrolled": true
   },
   "outputs": [],
   "source": [
    "for i in range(1,6):\n",
    "    print(\"*\"*5)"
   ]
  },
  {
   "cell_type": "markdown",
   "id": "1d91b87e",
   "metadata": {},
   "source": [
    "# Print \"Python Programming\" Multiple Times"
   ]
  },
  {
   "cell_type": "code",
   "execution_count": null,
   "id": "c487e4f3",
   "metadata": {},
   "outputs": [],
   "source": [
    "for i in range(1,10):\n",
    "    print(\"Python Programming\")"
   ]
  },
  {
   "cell_type": "markdown",
   "id": "7a6070ad",
   "metadata": {},
   "source": [
    "# Print Numbers in a Range"
   ]
  },
  {
   "cell_type": "code",
   "execution_count": null,
   "id": "4f8450aa",
   "metadata": {},
   "outputs": [],
   "source": [
    "for i in range(30,42):\n",
    "    print(i,end=\" \")"
   ]
  },
  {
   "cell_type": "markdown",
   "id": "1716e0c2",
   "metadata": {},
   "source": [
    "# Print Selected Characters from a String"
   ]
  },
  {
   "cell_type": "code",
   "execution_count": null,
   "id": "3361959d",
   "metadata": {},
   "outputs": [],
   "source": [
    "s=\"Python programmig\" \n",
    "for i in s[1:8:2]:\n",
    "    print(i)"
   ]
  },
  {
   "cell_type": "markdown",
   "id": "5d26496d",
   "metadata": {},
   "source": [
    "# Multiplication Table Generator"
   ]
  },
  {
   "cell_type": "code",
   "execution_count": null,
   "id": "96b96963",
   "metadata": {},
   "outputs": [],
   "source": [
    "num = int(input(\"Enter the number: \"))\n",
    "\n",
    "print(f\"Multiplication table for {num}:\")\n",
    "for i in range(1, 11):\n",
    "    print(f\"{num} * {i} = {num * i}\")\n"
   ]
  },
  {
   "cell_type": "markdown",
   "id": "696c8191",
   "metadata": {},
   "source": [
    "# Summation in a Range"
   ]
  },
  {
   "cell_type": "code",
   "execution_count": null,
   "id": "6916cf1e",
   "metadata": {},
   "outputs": [],
   "source": [
    "num=int(input(\"Enter the number:-\\n\")) \n",
    "sum1=0\n",
    "for i in range(1,num+1):\n",
    "    sum1=sum1+i\n",
    "print(\"Sum is\",sum1)"
   ]
  },
  {
   "cell_type": "markdown",
   "id": "208516de",
   "metadata": {},
   "source": [
    "# Display Liked Fruits"
   ]
  },
  {
   "cell_type": "code",
   "execution_count": null,
   "id": "3d8d9f54",
   "metadata": {},
   "outputs": [],
   "source": [
    "fruits = [\"apple\", \"banana\", \"cherry\"]\n",
    "\n",
    "# Iterate through the list of fruits and print a message for each\n",
    "for fruit in fruits:\n",
    "    print(\"I like\", fruit)\n"
   ]
  },
  {
   "cell_type": "markdown",
   "id": "f7650339",
   "metadata": {},
   "source": [
    "The variable i is used as the loop variable, and it takes on the value of each item in the fruits list, one by one, in each iteration of the for loop. In this context:\n",
    "\n",
    "In the first iteration of the loop, i will have the value \"apple\".\n",
    "\n",
    "In the second iteration, i will have the value \"banana\".\n",
    "\n",
    "In the third iteration, i will have the value \"cherry\".\n",
    "\n",
    "So, i represents each individual fruit in the list fruits as the loop iterates over the list, allowing you to perform actions on each element of the list inside the loop. In this case, the code is printing \"I like\" followed by the current value of i, which is each fruit in the list.\n"
   ]
  },
  {
   "cell_type": "markdown",
   "id": "68b30519",
   "metadata": {},
   "source": [
    "# Remove Elements from List\n"
   ]
  },
  {
   "cell_type": "code",
   "execution_count": null,
   "id": "3223c854",
   "metadata": {},
   "outputs": [],
   "source": [
    "b = [1, 3, 6, 2, 5, 6, 3, 64, 73, 1, 4, 7]\n",
    "\n",
    "for i in b:\n",
    "    b.remove(i)\n",
    "print(b)"
   ]
  },
  {
   "cell_type": "markdown",
   "id": "c3521e19",
   "metadata": {},
   "source": [
    "i = 1, removes the first occurrence of 1, resulting in [3, 6, 2, 5, 6, 3, 64, 73, 4, 7]\n",
    "\n",
    "i = 6, skips the second occurrence of 6, resulting in [3, 2, 5, 6, 3, 64, 73, 4, 7]\n",
    "\n",
    "i = 5, removes 5, resulting in [3, 2, 6, 3, 64, 73, 4, 7]\n",
    "\n",
    "i = 3, skips the second occurrence of 3, resulting in [2, 6, 3, 64, 73, 4, 7]\n",
    "\n",
    "The loop continues in this manner, skipping some elements and leaving behind a list that still contains duplicates."
   ]
  },
  {
   "cell_type": "markdown",
   "id": "6f5eff54",
   "metadata": {},
   "source": [
    "# Create List of Even Numbers in a Range"
   ]
  },
  {
   "cell_type": "code",
   "execution_count": null,
   "id": "b1bf9b82",
   "metadata": {},
   "outputs": [],
   "source": [
    "a = []\n",
    "\n",
    "for i in range(10, 30):\n",
    "    if i % 2 == 0:\n",
    "        a.append(i)\n",
    "\n",
    "print(a)\n"
   ]
  },
  {
   "cell_type": "markdown",
   "id": "a8a76e0e",
   "metadata": {},
   "source": [
    "combination of break and pass \n",
    "\n",
    "\n",
    "even=[]\n",
    "for i in range(1,5):\n",
    "    num=int(input(\"Enter the number:-\"))\n",
    "    if num==7:\n",
    "        break\n",
    "    if int(num)% 2 == 0:\n",
    "        even.append(num)\n",
    "    else:\n",
    "        pass\n",
    "        \n",
    "        \n",
    "print(even)"
   ]
  },
  {
   "cell_type": "code",
   "execution_count": null,
   "id": "c9ea73b6",
   "metadata": {},
   "outputs": [],
   "source": [
    "even=[]\n",
    "for i in range(1,100):\n",
    "    num=input(\"Enter the number:-\")\n",
    "    if int(num) % 2 == 0:\n",
    "        even.append(num)\n",
    "    else:\n",
    "        if str(num)==\"quit\":\n",
    "            break\n",
    "\n",
    "        \n",
    "        \n",
    "print(even)"
   ]
  },
  {
   "cell_type": "markdown",
   "id": "59548150",
   "metadata": {},
   "source": [
    "# Modify List Elements Based on Conditions"
   ]
  },
  {
   "cell_type": "code",
   "execution_count": null,
   "id": "bf041f5f",
   "metadata": {},
   "outputs": [],
   "source": [
    "a = [2, 3, 5, 7, 9, 10, 13, 16, 18, 21]\n",
    "b = []\n",
    "\n",
    "for i in a:\n",
    "    if i % 2 != 0:\n",
    "        b.append(i ** 3)\n",
    "    else:\n",
    "        b.append(i)\n",
    "\n",
    "# Resulting List 'b'\n",
    "print(b)\n"
   ]
  },
  {
   "cell_type": "code",
   "execution_count": null,
   "id": "8a0d2d34",
   "metadata": {},
   "outputs": [],
   "source": [
    "a = [1, 2, 3, 5, 6, 7, 8, 9, 7, 4]\n",
    "\n",
    "# Initialize max_value with the first element of the list\n",
    "max_value = a[0]\n",
    "\n",
    "# Iterate through the list starting from the second element\n",
    "for num in a[1:]:\n",
    "    # Check if the current number is greater than the current max_value\n",
    "    if num > max_value:\n",
    "        # Update max_value if the current number is greater\n",
    "        max_value = num\n",
    "\n",
    "# The variable max_value now contains the maximum value in the list\n",
    "print(\"The maximum value is:\", max_value)\n"
   ]
  },
  {
   "cell_type": "markdown",
   "id": "56cc4f67",
   "metadata": {},
   "source": [
    "# Fibonacci Series Generator"
   ]
  },
  {
   "cell_type": "code",
   "execution_count": null,
   "id": "d4f4b843",
   "metadata": {},
   "outputs": [],
   "source": [
    "user=int(input(\"Enter the length of the series:-\\t\\n\\n\"))\n",
    "num1=0\n",
    "num2=1\n",
    "if user<=0:\n",
    "    print(\"Please the positive number\")\n",
    "elif user==1:\n",
    "    print(\"Fabonacci series is of 1 is:-\",num1)\n",
    "elif user>1:\n",
    "    print(f\"Fabonacci series is of {user} is:-\\n\")\n",
    "    for i in range(num1,user):\n",
    "        num3= num1 + num2\n",
    "        print(num1,end=\" \")\n",
    "        num1=num2\n",
    "        num2=num3\n",
    "        \n"
   ]
  },
  {
   "cell_type": "markdown",
   "id": "085a5598",
   "metadata": {},
   "source": [
    "# Calculate Factorial"
   ]
  },
  {
   "cell_type": "code",
   "execution_count": null,
   "id": "df4f9f20",
   "metadata": {},
   "outputs": [],
   "source": [
    "num = int(input(\"Enter the number: \"))\n",
    "fact = 1\n",
    "\n",
    "for i in range(1, num + 1):\n",
    "    fact = fact*i\n",
    "\n",
    "print(\"The factorial of\", num, \"is\", fact)\n"
   ]
  },
  {
   "cell_type": "markdown",
   "id": "5b9c1d52",
   "metadata": {},
   "source": [
    "# Find the common elements between two sets"
   ]
  },
  {
   "cell_type": "code",
   "execution_count": null,
   "id": "bff0b5d5",
   "metadata": {},
   "outputs": [],
   "source": [
    "list1=[1,2,3,4,5]\n",
    "list2=[3,6,4,2,9]\n",
    "comman_elements=set(list1) & set(list2)\n",
    "\n",
    "print(\"Comman elements:\",list(comman_elements))"
   ]
  },
  {
   "cell_type": "code",
   "execution_count": null,
   "id": "041c4570",
   "metadata": {},
   "outputs": [],
   "source": [
    "# Another Way to solve this problem\n",
    "\n",
    "list1=[1,2,3,4,5]\n",
    "list2=[3,6,4,2,9]\n",
    "\n",
    "comman_elements=[]\n",
    "\n",
    "for i in list1:\n",
    "    if i in list2 and i not in comman_elements:\n",
    "        comman_elements.append(i)\n",
    "        \n",
    "print(\"Comman elements:\",comman_elements)"
   ]
  },
  {
   "cell_type": "markdown",
   "id": "a9b69906",
   "metadata": {},
   "source": [
    "# Sum of digits of a given number"
   ]
  },
  {
   "cell_type": "code",
   "execution_count": null,
   "id": "75b1326e",
   "metadata": {},
   "outputs": [],
   "source": [
    "number=3353673\n",
    "digits=0\n",
    "for i in str(number):\n",
    "    digits = digits+int(i)\n",
    "    \n",
    "print(\"Sum of digits\",digits)"
   ]
  },
  {
   "cell_type": "markdown",
   "id": "17907d5e",
   "metadata": {},
   "source": [
    "# Count the number of vowels in given string"
   ]
  },
  {
   "cell_type": "code",
   "execution_count": null,
   "id": "3f922869",
   "metadata": {},
   "outputs": [],
   "source": [
    "string=\"Python Programming\"\n",
    "vowels= \"aeiouAEIOU\"\n",
    "\n",
    "count=0\n",
    "\n",
    "for i in string:\n",
    "    if i in vowels:\n",
    "        count = count+1\n",
    "        \n",
    "print(\"Number of vowels\",count)"
   ]
  },
  {
   "cell_type": "markdown",
   "id": "86331827",
   "metadata": {},
   "source": [
    "# Reverse a given number"
   ]
  },
  {
   "cell_type": "code",
   "execution_count": null,
   "id": "5b2bd303",
   "metadata": {},
   "outputs": [],
   "source": [
    "number=253627\n",
    "reversed_number = int(str(number)[::-1])\n",
    "\n",
    "print(\"Reversed Number\", reversed_number)"
   ]
  },
  {
   "cell_type": "code",
   "execution_count": null,
   "id": "14cbb15a",
   "metadata": {},
   "outputs": [],
   "source": [
    "# Another Way to solve this problem\n",
    "\n",
    "number=253627\n",
    "reversed_number=0\n",
    "\n",
    "while number>0:\n",
    "    digit=number % 10\n",
    "    reversed_number=reversed_number * 10 + digit\n",
    "    number=number // 10\n",
    "    \n",
    "    \n",
    "print(\"reversed number\",reversed_number)\n"
   ]
  },
  {
   "cell_type": "markdown",
   "id": "495b947d",
   "metadata": {},
   "source": [
    "# Nested For Loop"
   ]
  },
  {
   "cell_type": "markdown",
   "id": "82864035",
   "metadata": {},
   "source": [
    "A nested for loop is a loop inside another loop. It's a fundamental concept in programming that allows you to perform repetitive tasks in a structured and organized manner. Nested for loops are often used when you need to iterate over multiple dimensions or levels of data, such as rows and columns in a 2D grid or elements in a nested list.\n",
    "\n",
    "A nested for loop is like having one loop inside another. Imagine you have a set of drawers, and inside each drawer, there's another set of drawers.\n",
    "\n",
    "In programming, the outer loop is like the first set of drawers, and it helps you move between different sets of inner drawers. For each drawer in the outer loop, you open it and go through all the drawers inside it using the inner loop.\n",
    "\n",
    "So, you're essentially exploring a grid or a collection of items that have rows and columns, and you want to do something with each item in that grid. The outer loop helps you go through the rows, and the inner loop helps you go through the columns of the grid.\n",
    "\n",
    "It's a way to organize and repeat actions for each item in a two-dimensional structure, like a table or grid."
   ]
  },
  {
   "cell_type": "markdown",
   "id": "e6edf1b5",
   "metadata": {},
   "source": [
    "# Nested Loop Example"
   ]
  },
  {
   "cell_type": "code",
   "execution_count": null,
   "id": "009bd649",
   "metadata": {},
   "outputs": [],
   "source": [
    "# Iterate through a range of numbers using nested loops\n",
    "for i in range(2, 8):\n",
    "    for j in range(3, 9):\n",
    "        print(f\"({i}, {j})\")\n"
   ]
  },
  {
   "cell_type": "markdown",
   "id": "808e41bc",
   "metadata": {},
   "source": [
    "# Multiplication Table"
   ]
  },
  {
   "cell_type": "code",
   "execution_count": null,
   "id": "d7c757ff",
   "metadata": {},
   "outputs": [],
   "source": [
    "# Generate and print the multiplication table from 1 to 10\n",
    "\n",
    "for i in range(1, 11):  # Outer loop for rows from 1 to 10\n",
    "    for j in range(1, 11):  # Inner loop for columns from 1 to 10\n",
    "        product = i * j\n",
    "        print(f\"{i} x {j} = {product}\", end=\"\\n\")\n",
    "    print()  # Move to the next row after printing all columns\n"
   ]
  },
  {
   "cell_type": "markdown",
   "id": "1597e3de",
   "metadata": {},
   "source": [
    "# Print Triangle Pattern"
   ]
  },
  {
   "cell_type": "code",
   "execution_count": null,
   "id": "29645ee0",
   "metadata": {},
   "outputs": [],
   "source": [
    "# Print a triangle pattern of asterisks with increasing width\n",
    "# Each row of the triangle has a number of asterisks equal to its row number\n",
    "for i in range(1, 6):  # Outer loop for rows from 1 to 5\n",
    "    for j in range(0, i):  # Inner loop for printing '*' in each row up to the current row number\n",
    "        print(\"*\", end=\" \")  # Print '*' without moving to the next line\n",
    "    print()  # Move to the next line after printing '*' for the current row\n"
   ]
  },
  {
   "cell_type": "code",
   "execution_count": null,
   "id": "c018f665",
   "metadata": {},
   "outputs": [],
   "source": [
    "# Print a pattern of numbers in increasing order\n",
    "# Each row starts with 1 and increases to the current row number\n",
    "for i in range(1, 6):  # Outer loop for rows from 1 to 5\n",
    "    for j in range(1, i + 1):  # Inner loop for printing numbers in each row up to the current row number\n",
    "        print(j, end=\" \")  # Print the current number followed by a space\n",
    "    print()  # Move to the next line after printing numbers for the current row\n"
   ]
  },
  {
   "cell_type": "code",
   "execution_count": 2,
   "id": "a45d598f",
   "metadata": {
    "scrolled": true
   },
   "outputs": [
    {
     "name": "stdout",
     "output_type": "stream",
     "text": [
      "1 2 3 4 5 \n",
      "1 2 3 4 \n",
      "1 2 3 \n",
      "1 2 \n",
      "1 \n"
     ]
    }
   ],
   "source": [
    "# Print a pattern of numbers in decreasing order\n",
    "# Each row starts with the current row number and decreases to 1\n",
    "for i in range(5, 0, -1):  # Outer loop for rows from 5 to 1 in decreasing order\n",
    "    for j in range(1, i + 1):  # Inner loop for printing numbers in each row up to the current row number\n",
    "        print(j, end=\" \")  # Print the current number followed by a space\n",
    "    print()  # Move to the next line after printing numbers for the current row\n"
   ]
  },
  {
   "cell_type": "code",
   "execution_count": 1,
   "id": "f4eb6034",
   "metadata": {
    "scrolled": true
   },
   "outputs": [
    {
     "name": "stdout",
     "output_type": "stream",
     "text": [
      "          * \n",
      "        * * \n",
      "      * * * \n",
      "    * * * * \n",
      "  * * * * * \n",
      "* * * * * * \n"
     ]
    }
   ],
   "source": [
    "# Print Right-aligned Triangle Pattern\n",
    "\n",
    "# Print a right-aligned triangle pattern of asterisks\n",
    "# Each row has an increasing number of asterisks\n",
    "for i in range(1, 7):  # Outer loop for rows from 1 to 6\n",
    "    for j in range(6, 0, -1):  # Inner loop for spaces before the asterisks\n",
    "        if j > i:\n",
    "            print(\" \", end=\" \")\n",
    "        else:\n",
    "            print(\"*\", end=\" \")\n",
    "    print()  # Move to the next line after printing spaces and asterisks for the current row\n"
   ]
  },
  {
   "cell_type": "code",
   "execution_count": null,
   "id": "3e9b3a4e",
   "metadata": {
    "scrolled": true
   },
   "outputs": [],
   "source": [
    "n = 5  # Change this value to adjust the height of the pattern\n",
    "\n",
    "for i in range(1, n + 1):\n",
    "    # Print spaces\n",
    "    for j in range(n, i, -1):\n",
    "        print(\" \", end=\"\")\n",
    "    \n",
    "    # Print asterisks\n",
    "    for k in range(1, i + 1):\n",
    "        print(\"*\", end=\"\")\n",
    "    \n",
    "    # Move to the next line\n",
    "    print()\n"
   ]
  },
  {
   "cell_type": "code",
   "execution_count": null,
   "id": "ee94c5fd",
   "metadata": {},
   "outputs": [],
   "source": [
    "# Diamond Pattern\n",
    "\n",
    "# Define the size of the diamond\n",
    "size = 5\n",
    "\n",
    "# Upper part of the diamond\n",
    "for i in range(size):\n",
    "    spaces = \" \" * (size - i - 1)\n",
    "    stars = \"* \" * (i + 1)\n",
    "    print(spaces + stars)\n",
    "\n",
    "# Lower part of the diamond\n",
    "for i in range(size - 1):\n",
    "    spaces = \" \" * (i + 1)\n",
    "    stars = \"* \" * (size - i - 1)\n",
    "    print(spaces + stars)\n"
   ]
  },
  {
   "cell_type": "markdown",
   "id": "52352963",
   "metadata": {},
   "source": [
    "# Break Statement\n",
    "\n",
    "the break statement is used to exit a loop prematurely, before the loop's normal condition is met. It is often used in for and while loops to control the flow of the program.\n",
    "\n",
    "When a break statement is encountered, the loop in which it appears immediately terminates, and the program continues executing the code after the loop.\n",
    "\n",
    "a \"break\" statement in Python is like an emergency exit button for loops. Imagine you're in a maze, and you want to get out as soon as you find the exit. When you spot the exit sign, you press the \"break\" button, and you instantly leave the maze.\n",
    "\n",
    "In Python, a \"break\" statement is used inside loops (like \"for\" or \"while\" loops) to immediately stop the loop and continue with the rest of your program. It's helpful when you want to exit a loop early, before it reaches its normal end. You use \"break\" when you've achieved the goal you set for the loop, or when a specific condition is met."
   ]
  },
  {
   "cell_type": "markdown",
   "id": "0e45d9cc",
   "metadata": {},
   "source": [
    "# Loop with Break Statement"
   ]
  },
  {
   "cell_type": "code",
   "execution_count": null,
   "id": "0db386af",
   "metadata": {},
   "outputs": [],
   "source": [
    "# Iterate through numbers from 1 to 10\n",
    "for i in range(1, 11):\n",
    "    print(i)  # Print the current value of i\n",
    "    break  # Exit the loop after the first iteration\n"
   ]
  },
  {
   "cell_type": "code",
   "execution_count": null,
   "id": "0fae01af",
   "metadata": {},
   "outputs": [],
   "source": [
    "a = [10, 20, 30, 40, 50, 60, 70, 80, 90, 100]\n",
    "\n",
    "for number in a:\n",
    "    if number >= 50:\n",
    "        break  # Exit the loop when a number greater than or equal to 50 is encountered\n",
    "    print(number)\n"
   ]
  },
  {
   "cell_type": "markdown",
   "id": "5a79cf9f",
   "metadata": {},
   "source": [
    "# Loop with Break Statement and Conditional Check\n"
   ]
  },
  {
   "cell_type": "code",
   "execution_count": null,
   "id": "25254a8f",
   "metadata": {},
   "outputs": [],
   "source": [
    "# Iterate through numbers from 1 to 10\n",
    "for i in range(1, 11):\n",
    "    if i == 5:\n",
    "        break  # Exit the loop when i equals 5\n",
    "    print(i)  # Print the current value of i\n"
   ]
  },
  {
   "cell_type": "markdown",
   "id": "bd5fc298",
   "metadata": {},
   "source": [
    "# Loop with User Input and Break Statement"
   ]
  },
  {
   "cell_type": "code",
   "execution_count": null,
   "id": "b9a6cfd2",
   "metadata": {},
   "outputs": [],
   "source": [
    "while True:\n",
    "    user_input = input(\"Enter 'q' to quit: \")\n",
    "    \n",
    "    if user_input.lower() == 'q':\n",
    "        break  # Exit the loop when the user enters 'q' (case-insensitive)\n",
    "    else:\n",
    "        print(\"You entered:\", user_input)\n"
   ]
  },
  {
   "cell_type": "code",
   "execution_count": null,
   "id": "285d6e9f",
   "metadata": {},
   "outputs": [],
   "source": [
    "i = 1\n",
    "while i < 10:\n",
    "    print(i)        # Print the current value of i\n",
    "    i = i + 1       # Increment i before the break statement\n",
    "    if i == 6:\n",
    "        break       # Exit the loop when i becomes 6\n"
   ]
  },
  {
   "cell_type": "markdown",
   "id": "2954391c",
   "metadata": {},
   "source": [
    "# Search for Fruit in List"
   ]
  },
  {
   "cell_type": "code",
   "execution_count": null,
   "id": "709af17f",
   "metadata": {},
   "outputs": [],
   "source": [
    "# Allow the user to input a fruit from a predefined list\n",
    "# Continue prompting until the user enters a fruit from the list\n",
    "# Display a message when the user successfully finds a fruit from the list\n",
    "\n",
    "\n",
    "fruits = [\"apple\", \"banana\", \"cherry\", \"date\"]\n",
    "\n",
    "while True:\n",
    "    search_item = input(\"Enter a fruit from the list:\\n \")\n",
    "\n",
    "    if search_item in fruits:\n",
    "        break\n",
    "    else:\n",
    "        print(f\"{search_item} is not in the list. Try again.\\n\")\n",
    "        \n",
    "\n",
    "print(\"You have found the fruit from the list\")\n"
   ]
  },
  {
   "cell_type": "markdown",
   "id": "30f926dc",
   "metadata": {},
   "source": [
    "# Python Prime Number Checker"
   ]
  },
  {
   "cell_type": "code",
   "execution_count": null,
   "id": "d3274365",
   "metadata": {},
   "outputs": [],
   "source": [
    "# Get user input for a number\n",
    "num = int(input(\"Enter the number\"))\n",
    "\n",
    "# Initialize a counter variable\n",
    "i = 2\n",
    "\n",
    "# Check for factors using a while loop\n",
    "while i < num:\n",
    "    if num % i == 0:\n",
    "        print(\"Number is not a prime number\")\n",
    "        break\n",
    "    i = i + 1\n",
    "else:\n",
    "    print(\"Number is a prime number\")\n"
   ]
  },
  {
   "cell_type": "markdown",
   "id": "d06a9a89",
   "metadata": {},
   "source": [
    " # Continue Statement\n",
    "    \n",
    "The continue statement is used inside loops (such as for or while loops) to skip the current iteration of the loop and proceed to the next iteration. When the continue statement is encountered, the remaining code within the current loop iteration is skipped, and the loop proceeds with the next iteration.\n",
    "\n",
    "\n",
    "\n",
    "\n",
    "for i in range(1, 6):\n",
    "\n",
    "    if i == 3:\n",
    "    \n",
    "        continue  # Skip the current iteration when i is 3\n",
    "        \n",
    "    print(i)\n",
    "    \n",
    "\n",
    "As you can see, when i is equal to 3, the continue statement is executed, and the print(i) statement is skipped for that iteration. The loop then continues with the next value of i.\n",
    "\n",
    "The continue statement is useful when you want to skip certain iterations of a loop based on a condition but continue looping through the remaining items or values.\n",
    "\n",
    " In simple terms, the continue statement in Python is like saying, \"I want to skip this part of the loop and move on to the next thing.\"\n",
    "\n",
    "Imagine you're counting numbers from 1 to 10, but you don't want to say the number 5. When you reach 5, you say, \"I'm skipping 5,\" and you continue counting. In Python, you can do something similar with the continue statement:\n",
    "\n"
   ]
  },
  {
   "cell_type": "markdown",
   "id": "2f8ab5a9",
   "metadata": {},
   "source": [
    "# Print Even Numbers in a Range"
   ]
  },
  {
   "cell_type": "code",
   "execution_count": null,
   "id": "3e6b0bd6",
   "metadata": {},
   "outputs": [],
   "source": [
    "# Iterate through numbers from 10 to 29\n",
    "# Skip odd numbers using the 'continue' statement\n",
    "# Print even numbers in the specified range\n",
    "\n",
    "for i in range(10, 30):\n",
    "    if i % 2 != 0:\n",
    "        continue  # Skip iteration for odd numbers\n",
    "    print(i)\n"
   ]
  },
  {
   "cell_type": "code",
   "execution_count": null,
   "id": "4350c1c6",
   "metadata": {
    "scrolled": true
   },
   "outputs": [],
   "source": [
    "for number in range(1, 11):  # Iterate through numbers from 1 to 10\n",
    "    if number in {5, 6, 7}:\n",
    "        continue  # Skip printing for numbers 5, 6, and 7\n",
    "    print(number)  # Print all other numbers in the specified range\n"
   ]
  },
  {
   "cell_type": "markdown",
   "id": "57b20639",
   "metadata": {},
   "source": [
    "# If the string contains character in vowels are there vowels should be skipped\n"
   ]
  },
  {
   "cell_type": "code",
   "execution_count": null,
   "id": "5448ce2e",
   "metadata": {},
   "outputs": [],
   "source": [
    "text=\"Python dynamic typed language and includes features Of multiplel\"\n",
    "p=[\"a\",\"e\",\"i\",\"o\",\"u\"]\n",
    "\n",
    "for i in text:\n",
    "    if i in p:\n",
    "        continue   #skip iteration\n",
    "    print(i,end=\"\")"
   ]
  },
  {
   "cell_type": "markdown",
   "id": "8b5b11dc",
   "metadata": {},
   "source": [
    "# Skip Iteration with Nested Loop"
   ]
  },
  {
   "cell_type": "code",
   "execution_count": null,
   "id": "224e2789",
   "metadata": {},
   "outputs": [],
   "source": [
    "for i in range(3):\n",
    "    for j in range(3):\n",
    "        if j == 1:\n",
    "            continue\n",
    "        print(f\"({i}, {j})\")\n"
   ]
  },
  {
   "cell_type": "markdown",
   "id": "b42faad0",
   "metadata": {},
   "source": [
    "# Skip Iteration in While Loop"
   ]
  },
  {
   "cell_type": "code",
   "execution_count": null,
   "id": "abb7cd7f",
   "metadata": {},
   "outputs": [],
   "source": [
    "count = 0\n",
    "while count < 5:\n",
    "    count += 1\n",
    "    if count % 2 == 0:\n",
    "        continue\n",
    "    print(count)\n"
   ]
  },
  {
   "cell_type": "markdown",
   "id": "37302de5",
   "metadata": {},
   "source": [
    "# Pass Statement\n",
    "\n",
    "Think of the pass statement in Python like an empty placeholder. It's like when you leave a blank space in your notebook, indicating that you'll write something there later, but for now, there's nothing to fill it with.\n",
    "\n",
    "In Python, you sometimes need to have a statement in a certain place just because Python expects it to be there, even if you don't want to do anything specific at that moment. This is where pass comes in handy. It's a way to tell Python, \"I acknowledge that there should be something here, but I don't have anything to do right now, so just skip it.\"\n",
    "\n",
    "For example, if you're writing a function but haven't decided what that function should do yet, you can use pass as a temporary way to say, \"This function exists, but I'll add the actual instructions later.\"\n",
    "\n",
    "It's like a \"do nothing\" command that helps you write code structure without implementing the details immediately. Later on, when you're ready, you can replace pass with the actual code you want to execute in that part of your program."
   ]
  },
  {
   "cell_type": "code",
   "execution_count": null,
   "id": "661d5a7d",
   "metadata": {},
   "outputs": [],
   "source": [
    "for i in range(1, 12):  # Loop iterating from 1 to 11 (inclusive)\n",
    "    pass  # Placeholder statement, does nothing during each iteration\n",
    "\n",
    "print(\"Hello\")  # Print \"Hello\" after the loop completes\n"
   ]
  },
  {
   "cell_type": "markdown",
   "id": "07251a46",
   "metadata": {},
   "source": [
    "# Conditional Pass"
   ]
  },
  {
   "cell_type": "code",
   "execution_count": null,
   "id": "766f0746",
   "metadata": {},
   "outputs": [],
   "source": [
    "x = 10\n",
    "if x < 5:\n",
    "    pass\n",
    "else:\n",
    "    print(\"x is greater than or equal to 5\")\n"
   ]
  },
  {
   "cell_type": "markdown",
   "id": "53fbdd86",
   "metadata": {},
   "source": [
    "# Empty While Loop"
   ]
  },
  {
   "cell_type": "code",
   "execution_count": null,
   "id": "5677f66f",
   "metadata": {},
   "outputs": [],
   "source": [
    "count = 0\n",
    "while count < 3:\n",
    "    # This loop does nothing\n",
    "    pass\n",
    "    count += 1\n"
   ]
  },
  {
   "cell_type": "markdown",
   "id": "49294519",
   "metadata": {},
   "source": [
    "# Loop through a range of numbers and do nothing for even numbers"
   ]
  },
  {
   "cell_type": "code",
   "execution_count": null,
   "id": "17e18a29",
   "metadata": {},
   "outputs": [],
   "source": [
    "for num in range(1, 11):  # Loop iterating through numbers from 1 to 10 (inclusive)\n",
    "    if num % 2 != 0:  # Check if the current number is odd\n",
    "        pass  # Skip processing for odd numbers\n",
    "    else:\n",
    "        print(f\"Processing odd number: {num}\")  # Print a message for processing even numbers\n"
   ]
  },
  {
   "cell_type": "markdown",
   "id": "c793b93e",
   "metadata": {},
   "source": [
    "# Number Series Square Calculator"
   ]
  },
  {
   "cell_type": "code",
   "execution_count": null,
   "id": "cd2f2d1a",
   "metadata": {},
   "outputs": [],
   "source": [
    "while True:\n",
    "    value = int(input(\"Enter the number of Series:\\n\"))\n",
    "\n",
    "    if value < 0:\n",
    "        break  # Exit the loop if a negative value is entered\n",
    "    elif value == 0:\n",
    "        continue  # Skip the current iteration and prompt for input again if the value is zero\n",
    "    else:\n",
    "        result = value * value\n",
    "        print(f\"Square of the number series: {result}\")\n"
   ]
  }
 ],
 "metadata": {
  "kernelspec": {
   "display_name": "Python 3 (ipykernel)",
   "language": "python",
   "name": "python3"
  },
  "language_info": {
   "codemirror_mode": {
    "name": "ipython",
    "version": 3
   },
   "file_extension": ".py",
   "mimetype": "text/x-python",
   "name": "python",
   "nbconvert_exporter": "python",
   "pygments_lexer": "ipython3",
   "version": "3.10.9"
  }
 },
 "nbformat": 4,
 "nbformat_minor": 5
}

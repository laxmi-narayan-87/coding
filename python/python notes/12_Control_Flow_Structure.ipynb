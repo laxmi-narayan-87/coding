{
 "cells": [
  {
   "cell_type": "markdown",
   "id": "e91861a9",
   "metadata": {},
   "source": [
    "# Control Structure in Python"
   ]
  },
  {
   "cell_type": "markdown",
   "id": "352934c5",
   "metadata": {},
   "source": [
    "Control structures in Python are constructs that determine the flow and execution of a Python program. They enable you to make decisions, repeat tasks, and handle exceptions based on various conditions."
   ]
  },
  {
   "cell_type": "markdown",
   "id": "36737e34",
   "metadata": {},
   "source": [
    " Think of control structures as the traffic signals for your computer program. Just like traffic signals help control the flow of cars on the road, control structures help control the flow of actions in a computer program.\n",
    "\n",
    "Traffic Signals: Traffic lights at intersections tell cars when to stop, go, or turn. They make sure cars move smoothly and safely.\n",
    "\n",
    "Control Structures: In a computer program, control structures are like those traffic lights. They decide when to do certain actions or tasks based on specific conditions or rules.\n",
    "\n",
    "Self-Contained Modules: Control structures are like small, self-contained units within your program. Each unit has a specific job, just like each traffic light controls a specific direction of traffic.\n",
    "\n",
    "Making Things Clear: By using these control structures, you can make your program easier to understand. You can see which parts of the program run under what conditions, just like you can see when cars should stop or go at a traffic light.\n",
    "\n",
    "Choosing the Flow: Control structures analyze the situation (like traffic lights sensing cars) and choose the right path for your program to follow. They help the program make decisions.\n",
    "\n",
    "So, control structures are like the \"traffic cops\" of your computer program, directing it to do the right things at the right time based on what's happening, and this makes your program more organized and easier to follow."
   ]
  },
  {
   "cell_type": "markdown",
   "id": "0f07980a",
   "metadata": {},
   "source": [
    "Flow control statements in Python are essential tools that help you manage how your program runs. They serve two primary purposes:\n",
    "\n",
    "Conditional Statements: These are used to perform specific operations based on whether a condition is True or False. They allow your program to make decisions and execute different code paths accordingly.\n",
    "\n",
    "Looping Statements: These statements enable your program to perform certain operations repeatedly for a finite number of times or until a particular condition becomes False. They are used when you want to automate tasks that need to be repeated.\n",
    "\n",
    "Transfer Flow Statements: These statements control the flow of your program by transferring control from one part of the code to another. They include statements like break, continue, and return, which help you manage the execution flow in more complex ways.\n",
    "\n",
    "\n",
    "Flow Control Statements in Python\n",
    "\n",
    "Flow control statements in Python are crucial for managing how a program operates. They serve two primary purposes:\n",
    "\n",
    "1. Conditional Statements (Conditional or Selection or Branching Statements)\n",
    "\n",
    "These statements allow your program to make decisions and perform specific operations based on whether a condition is True or False.\n",
    "Examples include the if, elif, and else statements.\n",
    "\n",
    "\n",
    "2. Looping Statements (Looping or Iterative or Repetitive Statements)\n",
    "\n",
    "Looping statements enable your program to perform a set of operations repeatedly for a finite number of times or until a particular condition becomes False.\n",
    "Examples include for and while loops.\n",
    "\n",
    "\n",
    "3. Transfer Flow Statements\n",
    "\n",
    "Transfer flow statements control how your program flows by transferring control from one part of the code to another.\n",
    "Examples include break (exits a loop prematurely), continue (skips the current iteration of a loop), and return (exits a function and optionally returns a value)."
   ]
  },
  {
   "cell_type": "markdown",
   "id": "5dc4145a",
   "metadata": {},
   "source": [
    "Conditional, selection, or branching statements in programming are used to make decisions based on certain conditions. They allow a program to execute different blocks of code depending on whether a specified condition is true or false. These statements are fundamental for controlling the flow of a program and making it responsive to different situations.\n",
    "\n",
    "In Python, the primary conditional or selection or branching statements include:\n",
    "\n",
    "if Statement: The if statement is used to execute a block of code only if a specified condition is true. If the condition is false, the code block is skipped.\n",
    "\n",
    "\n",
    "if condition:\n",
    "\n",
    "    # code to execute if the condition is True\n",
    "    \n",
    "elif Statement: Short for \"else if,\" the elif statement is used to test multiple conditions in sequence after an initial if statement. \n",
    "It allows you to provide alternative code blocks based on different conditions.\n",
    "\n",
    "if condition1:\n",
    "    # code to execute if condition1 is True\n",
    "elif condition2:\n",
    "    # code to execute if condition2 is True\n",
    "else:\n",
    "    # code to execute if none of the conditions are True\n",
    "else Statement: The else statement is used to specify a block of code to execute when none of the preceding if or elif conditions are true. It acts as a fallback option.\n",
    "\n",
    " \n",
    "if condition:\n",
    "    # code to execute if the condition is True\n",
    "else:\n",
    "    # code to execute if the condition is False\n",
    "These conditional statements allow you to create decision points in your code. For example, you can use them to:\n",
    "\n",
    "Determine whether to execute specific code based on user input.\n",
    "Handle different cases or scenarios within your program.\n",
    "Implement error checking and error handling based on conditions.\n",
    "Control the flow of your program based on the state of variables or other data."
   ]
  },
  {
   "cell_type": "markdown",
   "id": "37d80f5d",
   "metadata": {},
   "source": [
    "# if statement\n",
    "\n",
    "if statement is a conditional statement that allows you to execute a block of code if a certain condition is true. \n",
    "\n",
    "It is used for controlling the flow of a program based on whether a given condition evaluates to True or False. \n",
    "\n",
    "if condition\n",
    "\n",
    "    # Code to be executed if the condition is True"
   ]
  },
  {
   "cell_type": "code",
   "execution_count": 1,
   "id": "1070fb88",
   "metadata": {},
   "outputs": [
    {
     "ename": "SyntaxError",
     "evalue": "incomplete input (843600923.py, line 3)",
     "output_type": "error",
     "traceback": [
      "\u001b[1;36m  Cell \u001b[1;32mIn[1], line 3\u001b[1;36m\u001b[0m\n\u001b[1;33m    if num>=18:\u001b[0m\n\u001b[1;37m               ^\u001b[0m\n\u001b[1;31mSyntaxError\u001b[0m\u001b[1;31m:\u001b[0m incomplete input\n"
     ]
    }
   ],
   "source": [
    "num=int(input(\"Enter the age of a person\"))\n",
    "\n",
    "if num>=18:"
   ]
  },
  {
   "cell_type": "markdown",
   "id": "8575c2b2",
   "metadata": {},
   "source": [
    "Indentation in Python is like the way you organize your writing by leaving spaces at the start of paragraphs. In Python, you use spaces or tabs at the beginning of lines to show which lines of code belong together.\n",
    "\n",
    "When you have an \"if\" statement, which is like a decision in your code, you want to make it clear which code should run when the decision is true (when the condition is met) and which code should run when it's false (when the condition is not met).\n",
    "\n",
    "So, by using indentation (usually four spaces), you're telling Python that all the lines indented at the same level belong to the \"if\" statement. It's like grouping those lines together. If you don't indent correctly, Python might get confused about which code belongs to the \"if\" statement and which doesn't, and your program might not work as expected.\n",
    "\n",
    "Here's an example:\n",
    "\n",
    "\n",
    "if condition:\n",
    "\n",
    "    # This code belongs to the if statement\n",
    "    print(\"This is inside the if block.\")\n",
    "    \n",
    " #This code is not indented and does not belong to the if statement\n",
    " \n",
    "  print(\"This is outside the if block.\")"
   ]
  },
  {
   "cell_type": "code",
   "execution_count": 2,
   "id": "0aea51c9",
   "metadata": {},
   "outputs": [
    {
     "name": "stdout",
     "output_type": "stream",
     "text": [
      "Enter the number19\n",
      "you can vote\n"
     ]
    }
   ],
   "source": [
    "a=int(input(\"Enter the number\"))\n",
    "\n",
    "if a>18:\n",
    "    print(\"you can vote\")"
   ]
  },
  {
   "cell_type": "code",
   "execution_count": null,
   "id": "aa850743",
   "metadata": {},
   "outputs": [],
   "source": [
    "a=12\n",
    "if a>45:\n",
    "    print(\"Hello\")\n",
    "    \n",
    "    \n",
    "    \n",
    "    \n",
    "    \n",
    "print(\"python porgrams\")\n",
    "    \n",
    "   \n"
   ]
  },
  {
   "cell_type": "code",
   "execution_count": null,
   "id": "c4dd0f22",
   "metadata": {},
   "outputs": [],
   "source": [
    "name=input(\"Enter the name\")\n",
    "if name==\"Akash\" or \" \":\n",
    "    print(\"Name is same\")\n",
    "else:\n",
    "    print(\"Name is different\")"
   ]
  },
  {
   "cell_type": "code",
   "execution_count": null,
   "id": "6a62a4bc",
   "metadata": {},
   "outputs": [],
   "source": [
    "user=int(input(\"Enter the number\"))\n",
    "#find out the number is even or not   \n",
    "if user % 2 == 0:\n",
    "    print(\"Number is even\")\n",
    "else:\n",
    "    print(\"Number is  not even\")"
   ]
  },
  {
   "cell_type": "code",
   "execution_count": null,
   "id": "3d107b9d",
   "metadata": {},
   "outputs": [],
   "source": [
    "# finding out greatest number\n",
    "user1=int(input(\"Enter the number1\"))\n",
    "user2=int(input(\"Enter the number2\"))\n",
    "user3=int(input(\"Enter the number3\"))\n",
    "if user1>user2 and urser1>user3:\n",
    "    print(user1,\"is the greatest number\")\n",
    "elif user2>user1 and  user2>user3:\n",
    "    print(user2,\"is the greatest number\")\n",
    "else:\n",
    "    print(user3,\"is the greatest number\")\n",
    "    \n"
   ]
  },
  {
   "cell_type": "code",
   "execution_count": null,
   "id": "dc2f93c8",
   "metadata": {},
   "outputs": [],
   "source": [
    "max(30,50,20)"
   ]
  },
  {
   "cell_type": "code",
   "execution_count": null,
   "id": "ee6bfbc4",
   "metadata": {},
   "outputs": [],
   "source": [
    "employeeage=30\n",
    "if employeeage>=18 and employeeage<=30:\n",
    "    print(\"Person is ready to vote\")\n"
   ]
  },
  {
   "cell_type": "code",
   "execution_count": null,
   "id": "d03922dc",
   "metadata": {},
   "outputs": [],
   "source": [
    "a=int(input(\"Enter the number:\"))\n",
    "b=int(input(\"Enter the number:\"))\n",
    "c=int(input(\"Enter the number:\"))\n",
    "if a>b and a>c:\n",
    "    print(\"Greatest value is\",a)\n",
    "elif b>a and b>c:\n",
    "    print(\"Greatest number is\",b)\n",
    "else:\n",
    "    print(\"Greatest number is\",c)\n"
   ]
  },
  {
   "cell_type": "code",
   "execution_count": null,
   "id": "2d2327c0",
   "metadata": {},
   "outputs": [],
   "source": [
    "#  age<=12 ticket_price is 50\n",
    "# age>=13 to 65 ticket_price is 10 percent\n",
    "# age >=65 ticket_price is 80 percent discount"
   ]
  },
  {
   "cell_type": "code",
   "execution_count": null,
   "id": "3d92a744",
   "metadata": {},
   "outputs": [],
   "source": [
    "age=int(input(\"Enter the age of yours\"))\n",
    "amount=float(input(\"Enter the amount  of ticket\"))\n",
    "if age<=13:\n",
    "    final_amount=amount*0.5\n",
    "    print(\"Your final amount is :-  \",final_amount)\n",
    "elif age>13 and age<65:\n",
    "    final_amount=amount*0.9\n",
    "    print(\"Your final amount is :-  \",final_amount)\n",
    "else:\n",
    "    final_amount=amount*0.8\n",
    "    print(\"Your final amount is :-  \",final_amount)\n"
   ]
  },
  {
   "cell_type": "code",
   "execution_count": null,
   "id": "50ebc0c7",
   "metadata": {},
   "outputs": [],
   "source": [
    "# user will input value \n",
    "# we have find out if its positvie negatove or zero"
   ]
  },
  {
   "cell_type": "code",
   "execution_count": null,
   "id": "4feb3dd2",
   "metadata": {},
   "outputs": [],
   "source": [
    "number=int(input(\"Enter the number:-\"))\n",
    "if number>0:\n",
    "    print(f\"Number is Postive\")\n",
    "elif number<0:\n",
    "    print(f\"Number is Negative {number}\")\n",
    "else:\n",
    "    print(\"Number is Zero\")"
   ]
  },
  {
   "cell_type": "code",
   "execution_count": null,
   "id": "5c679903",
   "metadata": {},
   "outputs": [],
   "source": [
    "a=[\"BOOK\",\"HELLO\",\"LAPTOP\",\"TV\",\"PEN\"]\n",
    "user=input(\"Enter the element you want:-\\t\")\n",
    "if user.upper() in a:\n",
    "    print(\"Element Found\")\n",
    "else:\n",
    "    print(\"Element not found\")\n"
   ]
  },
  {
   "cell_type": "code",
   "execution_count": null,
   "id": "5a09826e",
   "metadata": {},
   "outputs": [],
   "source": [
    "age=int(input(\"Enter the age of yours:\"))\n",
    "if age>=18:\n",
    "    print(\"Hello\")\n",
    "    voter_id = input(\"Enter YES/NO if you have voter id\").lower()\n",
    "    if voter_id==\"yes\":\n",
    "        print(\"You can vote\")\n",
    "    else:\n",
    "        print(\"Invalid You cannot vote\")\n",
    "else:\n",
    "    print(\"Your age is not greater than 18 you cannot vote\")"
   ]
  },
  {
   "cell_type": "code",
   "execution_count": null,
   "id": "50e88793",
   "metadata": {},
   "outputs": [],
   "source": [
    "# leap year\n",
    "year=int(input(\"Enter the year\"))\n",
    "if (year % 4 == 0 and year % 100 != 0) or (year % 400 == 0):\n",
    "    print(\"It is leap year\")\n",
    "else:\n",
    "    print(\"It is not a leap year\")\n"
   ]
  },
  {
   "cell_type": "code",
   "execution_count": null,
   "id": "85b8f22d",
   "metadata": {},
   "outputs": [],
   "source": [
    "input marks of  3 subjects  \n",
    "calculate avg percentage \n",
    "determine weather a student passes or fail\n",
    "if marks is less than any 35 perc student is fail\n",
    "if avg percentage is less than 36 perc then student is fail\n",
    "if both condition are false  student is pass\n"
   ]
  },
  {
   "cell_type": "code",
   "execution_count": null,
   "id": "3956adb6",
   "metadata": {},
   "outputs": [],
   "source": [
    "phy=float(input(\"Enter the marks of physics\"))\n",
    "chem=float(input(\"Enter the marks of chemistry\"))\n",
    "maths=float(input(\"Enter the marks of maths\"))\n",
    "average=(phy+chem+maths)/3\n",
    "if phy<35 or chem<35 or maths<35:\n",
    "    print(\"You have failed\")\n",
    "elif average<36:\n",
    "    print(\"You hav failed\")\n",
    "\n",
    "else:\n",
    "    print(\"You have passed and your average is {} \".format(average))"
   ]
  },
  {
   "cell_type": "code",
   "execution_count": 1,
   "id": "349c175a",
   "metadata": {},
   "outputs": [
    {
     "name": "stdout",
     "output_type": "stream",
     "text": [
      "Enter the words to check if it palindromeradar\n",
      "It is palindrome\n"
     ]
    }
   ],
   "source": [
    "# take the value from the user and check if it palindrome\n",
    "\n",
    "user_input = input(\"Enter the words to check if it palindrome\")\n",
    "\n",
    "\n",
    "if user_input == user_input[::-1]:\n",
    "    print(\"It is palindrome\")\n",
    "else:\n",
    "    print(\"It is not a palindrome\")\n"
   ]
  },
  {
   "cell_type": "code",
   "execution_count": 11,
   "id": "22aae2e2",
   "metadata": {},
   "outputs": [
    {
     "name": "stdout",
     "output_type": "stream",
     "text": [
      "Enter your age: 55\n",
      "Enter the number of years you have been working: 3\n",
      "You are not eligible for retirement yet.\n"
     ]
    }
   ],
   "source": [
    "age = int(input(\"Enter your age: \"))\n",
    "years_worked = int(input(\"Enter the number of years you have been working: \"))\n",
    "\n",
    "if age >= 65 or years_worked >= 40:\n",
    "    print(\"You are eligible for retirement.\")\n",
    "else:\n",
    "    print(\"You are not eligible for retirement yet.\")\n"
   ]
  },
  {
   "cell_type": "markdown",
   "id": "47cc9f95",
   "metadata": {},
   "source": [
    "# Match Case"
   ]
  },
  {
   "cell_type": "markdown",
   "id": "09b5a953",
   "metadata": {},
   "source": [
    "\"match case\" is a way to make decisions in Python based on what something looks like, rather than comparing it directly to specific values.\n",
    "\n",
    "Imagine you have a box of different shapes, and you want to sort them. You can use \"match case\" to look at each shape and decide where it goes based on its characteristics. For example:\n",
    "\n",
    "If it's a square, put it in the \"square\" pile.\n",
    "\n",
    "If it's a circle, put it in the \"circle\" pile.\n",
    "\n",
    "If it's not a square or a circle, put it in the \"other\" pile.\n",
    "\n",
    "In Python, \"match case\" helps you do this with data. You can check what type of data it is (like a number, text, or something else), and then do something specific based on what type it is. It makes your code more organized and easier to understand when you have many different cases to handle."
   ]
  },
  {
   "cell_type": "markdown",
   "id": "d4f3e0ad",
   "metadata": {},
   "source": [
    "In Python, \"match case\" refers to a feature introduced in Python 3.10, which is also known as \"structural pattern matching.\" This feature allows you to perform pattern matching on values and execute different code blocks based on the shape or structure of those values. It is similar to the \"switch\" or \"case\" statements found in other programming languages but offers more flexibility and expressiveness.\n",
    "\n",
    "Here's how you can use the match statement in Python:\n",
    "\n",
    " \n",
    "match value:\n",
    "\n",
    "    case pattern_1:\n",
    "    \n",
    "        # Code to execute if the value matches pattern_1\n",
    "    \n",
    "    case pattern_2:\n",
    "    \n",
    "        # Code to execute if the value matches pattern_2\n",
    "    \n",
    "    case _:\n",
    "    \n",
    "        # Code to execute if none of the above patterns match\n",
    "Here's a breakdown of how it works:\n",
    "\n",
    "match is followed by an expression, which is the value you want to match against different patterns.\n",
    "\n",
    "case is used to define patterns along with the code to execute when a particular pattern matches the expression.\n",
    "\n",
    "You can have multiple case blocks to handle different patterns.\n",
    "\n",
    "Patterns can include literals, variable names, and more complex structures. The order in which you define patterns matters, and the first matching pattern's code block will be executed.\n",
    "\n",
    "You can use _ (underscore) as a wildcard pattern to match anything. It is typically used as the last case to handle unmatched cases."
   ]
  },
  {
   "cell_type": "code",
   "execution_count": null,
   "id": "2d6324e3",
   "metadata": {},
   "outputs": [],
   "source": [
    "match value:\n",
    "\n",
    "    case pattern_1:\n",
    "    \n",
    "        # Code to execute if the value matches pattern_1\n",
    "    \n",
    "    case pattern_2:\n",
    "    \n",
    "        # Code to execute if the value matches pattern_2\n",
    "    \n",
    "    case _:\n",
    "    \n",
    "        # Code to execute if none of the above patterns match"
   ]
  },
  {
   "cell_type": "code",
   "execution_count": null,
   "id": "83bebc5e",
   "metadata": {},
   "outputs": [],
   "source": [
    "number = 6\n",
    "\n",
    "match number:\n",
    "    case 1:\n",
    "        print(\"One\")\n",
    "    case 2:\n",
    "        print(\"Two\")\n",
    "    case 3:\n",
    "        print(\"Three\")\n",
    "    case _:\n",
    "        print(\"Other\")\n"
   ]
  },
  {
   "cell_type": "code",
   "execution_count": 1,
   "id": "79524e48",
   "metadata": {},
   "outputs": [
    {
     "name": "stdout",
     "output_type": "stream",
     "text": [
      "Enter the name of the month, and you will get the number of days in that month: March\n",
      "31 days present in this month\n"
     ]
    }
   ],
   "source": [
    "user_input = input(\"Enter the name of the month, and you will get the number of days in that month: \").capitalize()\n",
    "\n",
    "match user_input:\n",
    "    case \"April\" | \"June\" | \"September\" | \"November\":\n",
    "        print(\"30 days present in this month\")\n",
    "    case \"January\" | \"March\" | \"May\" | \"July\" | \"August\" | \"October\":\n",
    "        print(\"31 days present in this month\")\n",
    "    case \"February\":\n",
    "        print(\"28 or 29 days in this month\")\n",
    "    case _:\n",
    "        print(\"Invalid month name\")\n"
   ]
  },
  {
   "cell_type": "code",
   "execution_count": 2,
   "id": "0d2f3e39",
   "metadata": {},
   "outputs": [
    {
     "name": "stdout",
     "output_type": "stream",
     "text": [
      "Enter the number of the weekday you want (1 to 7): 5\n",
      "It is Friday\n"
     ]
    }
   ],
   "source": [
    "user = int(input(\"Enter the number of the weekday you want (1 to 7): \"))\n",
    "\n",
    "match user:\n",
    "    case 1:\n",
    "        print(\"It is Monday\")\n",
    "    case 2:\n",
    "        print(\"It is Tuesday\")\n",
    "    case 3:\n",
    "        print(\"It is Wednesday\")\n",
    "    case 4:\n",
    "        print(\"It is Thursday\")\n",
    "    case 5:\n",
    "        print(\"It is Friday\")\n",
    "    case 6:\n",
    "        print(\"It is Saturday\")\n",
    "    case 7:\n",
    "        print(\"It is Sunday\")\n",
    "    case _:\n",
    "        print(\"Invalid number. Please enter a number between 1 and 7.\")\n"
   ]
  },
  {
   "cell_type": "code",
   "execution_count": null,
   "id": "114cee75",
   "metadata": {},
   "outputs": [],
   "source": [
    "x = input('Enter a fruit name : ').lower()\n",
    "match x:\n",
    "    case \"apple\":\n",
    "        print(\"Its red in color.\")\n",
    "    case \"banana\":\n",
    "        print(\"Its yellow in color.\")\n",
    "    case \"orange\":\n",
    "        print(\"Its orange in color.\")\n",
    "    case _:\n",
    "        print(\"This fruit is not present in our shop.\")"
   ]
  },
  {
   "cell_type": "code",
   "execution_count": 9,
   "id": "bab54711",
   "metadata": {},
   "outputs": [
    {
     "name": "stdout",
     "output_type": "stream",
     "text": [
      "Enter the day of the week you want to go5\n",
      "Spring Season\n"
     ]
    }
   ],
   "source": [
    "num=int(input(\"Enter the day of the week you want to go\"))\n",
    "\n",
    "match num:\n",
    "    case 12 | 2 | 1:\n",
    "        print(\"Winter Season\")\n",
    "    case 3 |4 | 5:\n",
    "        print(\"Spring Season\")\n",
    "    case _:\n",
    "        print(\"Another Season\")"
   ]
  },
  {
   "cell_type": "code",
   "execution_count": 7,
   "id": "3094ee41",
   "metadata": {},
   "outputs": [
    {
     "name": "stdout",
     "output_type": "stream",
     "text": [
      "Enter the string: trwqp\n",
      "No\n"
     ]
    }
   ],
   "source": [
    "vowels = input(\"Enter the string: \").lower()\n",
    "\n",
    "if \"a\" in vowels or \"e\" in vowels or \"i\" in vowels or \"o\" in vowels or \"u\" in vowels:\n",
    "    print(\"Yes\")\n",
    "else:\n",
    "    print(\"No\")\n"
   ]
  },
  {
   "cell_type": "code",
   "execution_count": 13,
   "id": "479555f5",
   "metadata": {},
   "outputs": [
    {
     "name": "stdout",
     "output_type": "stream",
     "text": [
      "Enter the fruit you want:- Cherry\n",
      "Choose other fruit\n"
     ]
    }
   ],
   "source": [
    "a=[\"Mango\",\"APPLE\",\"Watermelon\",\"Grapes\",\"Banana\"]\n",
    "user=input(\"Enter the fruit you want:- \")\n",
    "if user.upper() in a:\n",
    "    print(\"Fruit is present\")\n",
    "else:\n",
    "    print(\"Choose other fruit\")\n",
    "\n"
   ]
  },
  {
   "cell_type": "code",
   "execution_count": null,
   "id": "846e193f",
   "metadata": {},
   "outputs": [],
   "source": []
  }
 ],
 "metadata": {
  "kernelspec": {
   "display_name": "Python 3 (ipykernel)",
   "language": "python",
   "name": "python3"
  },
  "language_info": {
   "codemirror_mode": {
    "name": "ipython",
    "version": 3
   },
   "file_extension": ".py",
   "mimetype": "text/x-python",
   "name": "python",
   "nbconvert_exporter": "python",
   "pygments_lexer": "ipython3",
   "version": "3.10.9"
  }
 },
 "nbformat": 4,
 "nbformat_minor": 5
}

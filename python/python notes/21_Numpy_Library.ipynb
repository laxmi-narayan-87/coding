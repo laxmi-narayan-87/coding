{
 "cells": [
  {
   "cell_type": "markdown",
   "id": "3052e819",
   "metadata": {},
   "source": [
    "# Numpy"
   ]
  },
  {
   "cell_type": "markdown",
   "id": "cf6e2d47",
   "metadata": {},
   "source": [
    "\n",
    "NumPy is a fundamental package for scientific computing in Python. It provides support for large, multi-dimensional arrays and matrices, along with a collection of mathematical functions to operate on these arrays efficiently. NumPy is highly efficient, mainly due to its use of compiled C code.\n",
    "\n",
    "NumPy is like a supercharged toolbox for handling numbers and doing math in Python. It's a library that makes it easier and faster to work with large sets of data, especially when you're dealing with numbers."
   ]
  },
  {
   "cell_type": "markdown",
   "id": "9e7e308b",
   "metadata": {},
   "source": [
    "# Why do we use NumPy?"
   ]
  },
  {
   "cell_type": "markdown",
   "id": "9d882929",
   "metadata": {},
   "source": [
    "\n",
    "Efficiency: NumPy is super fast because it's written in a language called C, which is really good at crunching numbers quickly. This means you can do complex math operations on huge amounts of data without waiting forever.\n",
    "\n",
    "Arrays: NumPy gives us a cool new data type called arrays. Think of arrays like fancy lists that can hold lots of numbers in a nice, organized way. Arrays make it easy to do math on whole sets of data all at once.\n",
    "\n",
    "Math Functions: NumPy comes with tons of built-in math functions that work with arrays. Need to add up a bunch of numbers? NumPy's got you covered. Want to find the average of a set of values? NumPy can do that too, and much more!"
   ]
  },
  {
   "cell_type": "markdown",
   "id": "611be31b",
   "metadata": {},
   "source": [
    "# How do we use NumPy?"
   ]
  },
  {
   "cell_type": "markdown",
   "id": "ce0ec414",
   "metadata": {},
   "source": [
    "\n",
    "Install NumPy: First, you need to install NumPy on your computer. You can do this using a tool called pip, which comes with Python. Just type pip install numpy in your command prompt or terminal.\n",
    "\n",
    "Import NumPy: Once NumPy is installed, you can start using it in your Python programs. You do this by typing import numpy as np at the top of your code. This tells Python that you want to use NumPy and that you'll refer to it as np to save typing.\n",
    "\n",
    "Create Arrays: Now that NumPy is ready to go, you can create arrays using the np.array() function. You just pass in a list of numbers, and NumPy will turn it into an array for you.\n",
    "\n",
    "Do Math: With your arrays all set up, you can start doing math with them! NumPy lets you add, subtract, multiply, and divide arrays just like you would with regular numbers.\n",
    "\n",
    "Explore: NumPy has lots of other cool features too, like slicing and indexing arrays, reshaping them, and even fancy stuff like Fourier transforms. The more you explore, the more you'll discover what NumPy can do!"
   ]
  },
  {
   "cell_type": "markdown",
   "id": "3d0f39e0",
   "metadata": {},
   "source": [
    "<br><br>\n",
    "\n",
    "1. **Data Type**:\n",
    "   - **List**: Can store different data types in a single list.\n",
    "   - **Numpy Array**: Stores elements of the same data type for more efficient computation.\n",
    "<br><br><br>\n",
    "2. **Performance**:\n",
    "   - **List**: Slower for numerical operations due to generic data type handling.\n",
    "   - **Numpy Array**: Faster for numerical operations due to optimized C-based implementation.\n",
    "\n",
    "<br><br>\n",
    "3. **Functionality**:\n",
    "   - **List**: Limited built-in functions for numerical operations.\n",
    "   - **Numpy Array**: Rich set of built-in functions for complex numerical operations.\n",
    "\n",
    "<br><br>\n",
    "4. **Memory Usage**:\n",
    "   - **List**: Consumes more memory as it stores both data and type information.\n",
    "   - **Numpy Array**: More memory-efficient, storing only data with uniform type.\n",
    "\n",
    "<br><br>\n",
    "5. **Broadcasting**:\n",
    "   - **List**: Does not support broadcasting; element-wise operations require explicit loops.\n",
    "   - **Numpy Array**: Supports broadcasting, allowing element-wise operations without explicit loops.\n"
   ]
  },
  {
   "cell_type": "code",
   "execution_count": null,
   "id": "2a8a7415",
   "metadata": {},
   "outputs": [],
   "source": [
    "# pip install numpy"
   ]
  },
  {
   "cell_type": "code",
   "execution_count": null,
   "id": "93f67904",
   "metadata": {},
   "outputs": [],
   "source": [
    " import numpy as np"
   ]
  },
  {
   "cell_type": "code",
   "execution_count": null,
   "id": "28aec468",
   "metadata": {},
   "outputs": [],
   "source": [
    "np.__version__"
   ]
  },
  {
   "cell_type": "code",
   "execution_count": null,
   "id": "8c3e1912",
   "metadata": {},
   "outputs": [],
   "source": [
    "a=[2,3,5,5,666,463]\n",
    "print(a+2)"
   ]
  },
  {
   "cell_type": "code",
   "execution_count": null,
   "id": "1027ba60",
   "metadata": {},
   "outputs": [],
   "source": [
    "a=[1,2,3,4,5,6,7,8,9,10]"
   ]
  },
  {
   "cell_type": "code",
   "execution_count": null,
   "id": "eb250e00",
   "metadata": {},
   "outputs": [],
   "source": [
    "array = np.array(a)\n",
    "print(array,type(array),id(array))"
   ]
  },
  {
   "cell_type": "code",
   "execution_count": null,
   "id": "afb77574",
   "metadata": {},
   "outputs": [],
   "source": [
    "print(array*2)"
   ]
  },
  {
   "cell_type": "code",
   "execution_count": null,
   "id": "936003de",
   "metadata": {},
   "outputs": [],
   "source": [
    "array.ndim"
   ]
  },
  {
   "cell_type": "code",
   "execution_count": null,
   "id": "dfe47956",
   "metadata": {},
   "outputs": [],
   "source": [
    "array.shape"
   ]
  },
  {
   "cell_type": "code",
   "execution_count": null,
   "id": "9402acd8",
   "metadata": {},
   "outputs": [],
   "source": [
    "array.size"
   ]
  },
  {
   "cell_type": "code",
   "execution_count": null,
   "id": "29a04e11",
   "metadata": {},
   "outputs": [],
   "source": [
    "a={1,2,3,4,5,6,7,8,9,10}\n",
    "array = np.array(a)\n",
    "print(array,type(array),id(array))"
   ]
  },
  {
   "cell_type": "code",
   "execution_count": null,
   "id": "46f9e993",
   "metadata": {},
   "outputs": [],
   "source": [
    "a={1,2,3,4,5,6,\"Hello\",8,9,True}\n",
    "array = np.array(a)\n",
    "print(array,type(array),id(array))"
   ]
  },
  {
   "cell_type": "code",
   "execution_count": null,
   "id": "f71a0db6",
   "metadata": {},
   "outputs": [],
   "source": [
    "a=[[1,2,3],[4,5,6],[7,8,9]]\n",
    "\n",
    "val = np.array(a)\n",
    "print(val)"
   ]
  },
  {
   "cell_type": "code",
   "execution_count": null,
   "id": "8b071997",
   "metadata": {},
   "outputs": [],
   "source": [
    "val.ndim"
   ]
  },
  {
   "cell_type": "code",
   "execution_count": null,
   "id": "22f11122",
   "metadata": {},
   "outputs": [],
   "source": [
    "val.shape"
   ]
  },
  {
   "cell_type": "code",
   "execution_count": null,
   "id": "aa4d1874",
   "metadata": {},
   "outputs": [],
   "source": [
    "val.size"
   ]
  },
  {
   "cell_type": "code",
   "execution_count": null,
   "id": "0cbb8dd6",
   "metadata": {},
   "outputs": [],
   "source": [
    "a={1,2,3}\n",
    "print(a*2)"
   ]
  },
  {
   "cell_type": "code",
   "execution_count": null,
   "id": "9eb2b0fb",
   "metadata": {},
   "outputs": [],
   "source": [
    "a= range(20,40)\n",
    "result = np.array(a)\n",
    "print(result)"
   ]
  },
  {
   "cell_type": "code",
   "execution_count": null,
   "id": "de2bfd57",
   "metadata": {},
   "outputs": [],
   "source": [
    "value = np.arange(20,30,2,dtype=float)\n",
    "print(value,type(value))"
   ]
  },
  {
   "cell_type": "code",
   "execution_count": null,
   "id": "6e1f88fd",
   "metadata": {},
   "outputs": [],
   "source": [
    "ones  = np.ones((3,3),dtype=int)\n",
    "print(ones)"
   ]
  },
  {
   "cell_type": "code",
   "execution_count": null,
   "id": "6669ab9e",
   "metadata": {},
   "outputs": [],
   "source": [
    "zero  = np.zeros((3,3),dtype=int)\n",
    "print(zero)"
   ]
  },
  {
   "cell_type": "code",
   "execution_count": null,
   "id": "94fa1628",
   "metadata": {},
   "outputs": [],
   "source": [
    "eye = np.eye(3,dtype=int)\n",
    "print(eye)"
   ]
  },
  {
   "cell_type": "code",
   "execution_count": null,
   "id": "e4c4d598",
   "metadata": {},
   "outputs": [],
   "source": [
    "diag = np.diag((1,2,3))\n",
    "print(diag)"
   ]
  },
  {
   "cell_type": "code",
   "execution_count": null,
   "id": "f138f740",
   "metadata": {
    "scrolled": true
   },
   "outputs": [],
   "source": [
    "array = np.random.randint(2,12,(3,3),dtype=int)\n",
    "print(array)"
   ]
  },
  {
   "cell_type": "code",
   "execution_count": null,
   "id": "57550009",
   "metadata": {},
   "outputs": [],
   "source": [
    "equal = np.linspace(10,100,10)\n",
    "print(equal)"
   ]
  },
  {
   "cell_type": "code",
   "execution_count": null,
   "id": "965e6e5e",
   "metadata": {},
   "outputs": [],
   "source": [
    "equal = np.linspace(12,33,10)\n",
    "print(equal)"
   ]
  },
  {
   "cell_type": "code",
   "execution_count": null,
   "id": "a4eaaf34",
   "metadata": {},
   "outputs": [],
   "source": [
    "array = np.random.randint(2,12,(3,3),dtype=int)\n",
    "print(array)"
   ]
  },
  {
   "cell_type": "code",
   "execution_count": null,
   "id": "fc5d8b73",
   "metadata": {},
   "outputs": [],
   "source": [
    "array[0]"
   ]
  },
  {
   "cell_type": "code",
   "execution_count": null,
   "id": "8a869997",
   "metadata": {},
   "outputs": [],
   "source": [
    "array[-2]"
   ]
  },
  {
   "cell_type": "code",
   "execution_count": null,
   "id": "dea12b04",
   "metadata": {},
   "outputs": [],
   "source": [
    "array[2][1]"
   ]
  },
  {
   "cell_type": "code",
   "execution_count": null,
   "id": "04f3ef3b",
   "metadata": {},
   "outputs": [],
   "source": [
    "array[1][2]=100"
   ]
  },
  {
   "cell_type": "code",
   "execution_count": null,
   "id": "1ed0d233",
   "metadata": {},
   "outputs": [],
   "source": [
    "array"
   ]
  },
  {
   "cell_type": "code",
   "execution_count": null,
   "id": "43fa3e4c",
   "metadata": {},
   "outputs": [],
   "source": [
    "array[[0,1]]"
   ]
  },
  {
   "cell_type": "code",
   "execution_count": null,
   "id": "8e8ec1ad",
   "metadata": {
    "scrolled": true
   },
   "outputs": [],
   "source": [
    "array[[1,2]]"
   ]
  },
  {
   "cell_type": "code",
   "execution_count": null,
   "id": "7fcc15ec",
   "metadata": {
    "scrolled": false
   },
   "outputs": [],
   "source": [
    "[array % 2 == 0]"
   ]
  },
  {
   "cell_type": "code",
   "execution_count": null,
   "id": "d4f596b1",
   "metadata": {},
   "outputs": [],
   "source": [
    "array[array % 2 == 0]"
   ]
  },
  {
   "cell_type": "code",
   "execution_count": null,
   "id": "f4b0cf23",
   "metadata": {},
   "outputs": [],
   "source": [
    "array = np.random.randint(2,12,(4,4),dtype=int)\n",
    "print(array)"
   ]
  },
  {
   "cell_type": "code",
   "execution_count": null,
   "id": "59870209",
   "metadata": {},
   "outputs": [],
   "source": [
    "array.sum()"
   ]
  },
  {
   "cell_type": "code",
   "execution_count": null,
   "id": "ef7aa606",
   "metadata": {},
   "outputs": [],
   "source": [
    "print(sum(array))"
   ]
  },
  {
   "cell_type": "code",
   "execution_count": null,
   "id": "20b7eb77",
   "metadata": {},
   "outputs": [],
   "source": [
    "np.sum(array,axis=1)"
   ]
  },
  {
   "cell_type": "code",
   "execution_count": null,
   "id": "40f24d87",
   "metadata": {},
   "outputs": [],
   "source": [
    "array1 = np.random.randint(2,12,(2,2),dtype=int)\n",
    "print(array1)"
   ]
  },
  {
   "cell_type": "code",
   "execution_count": null,
   "id": "92024696",
   "metadata": {},
   "outputs": [],
   "source": [
    "array2 = np.random.randint(2,12,(2,2),dtype=int)\n",
    "print(array2)"
   ]
  },
  {
   "cell_type": "code",
   "execution_count": null,
   "id": "9a7bfb3b",
   "metadata": {},
   "outputs": [],
   "source": [
    "print(array1 * array2)"
   ]
  },
  {
   "cell_type": "code",
   "execution_count": null,
   "id": "a2f111fc",
   "metadata": {},
   "outputs": [],
   "source": [
    "result = array1.dot(array2)\n",
    "print(result)"
   ]
  },
  {
   "cell_type": "code",
   "execution_count": null,
   "id": "73b16433",
   "metadata": {},
   "outputs": [],
   "source": [
    "np.mean(result)"
   ]
  },
  {
   "cell_type": "code",
   "execution_count": null,
   "id": "6bb2314a",
   "metadata": {},
   "outputs": [],
   "source": [
    "np.median(result)"
   ]
  },
  {
   "cell_type": "code",
   "execution_count": null,
   "id": "a0a19f2b",
   "metadata": {},
   "outputs": [],
   "source": [
    "array = np.random.randint(2,12,(3,3),dtype=int)\n",
    "print(array)"
   ]
  },
  {
   "cell_type": "code",
   "execution_count": null,
   "id": "91ffd314",
   "metadata": {},
   "outputs": [],
   "source": [
    "np.sqrt(array)"
   ]
  },
  {
   "cell_type": "code",
   "execution_count": null,
   "id": "c2de879c",
   "metadata": {},
   "outputs": [],
   "source": [
    "np.std(array)"
   ]
  },
  {
   "cell_type": "code",
   "execution_count": null,
   "id": "490b4b15",
   "metadata": {},
   "outputs": [],
   "source": [
    "np.average(array)"
   ]
  },
  {
   "cell_type": "code",
   "execution_count": null,
   "id": "5517cc50",
   "metadata": {},
   "outputs": [],
   "source": [
    "np.mean(array)"
   ]
  },
  {
   "cell_type": "code",
   "execution_count": null,
   "id": "bae1ea78",
   "metadata": {},
   "outputs": [],
   "source": [
    "comman = np.full((3,3),4)\n",
    "print(comman)"
   ]
  },
  {
   "cell_type": "code",
   "execution_count": null,
   "id": "d67361fa",
   "metadata": {},
   "outputs": [],
   "source": [
    "array"
   ]
  },
  {
   "cell_type": "code",
   "execution_count": null,
   "id": "c4d15cc9",
   "metadata": {},
   "outputs": [],
   "source": [
    "max = np.max(array)\n",
    "print(max)"
   ]
  },
  {
   "cell_type": "code",
   "execution_count": null,
   "id": "08c497bd",
   "metadata": {},
   "outputs": [],
   "source": [
    "armax = np.argmax(array)\n",
    "print(armax)"
   ]
  },
  {
   "cell_type": "code",
   "execution_count": null,
   "id": "afc4bc94",
   "metadata": {},
   "outputs": [],
   "source": [
    "result = np.sort(array)\n",
    "print(result)"
   ]
  },
  {
   "cell_type": "code",
   "execution_count": null,
   "id": "f00de84b",
   "metadata": {},
   "outputs": [],
   "source": [
    "result = np.sort(array,axis = 0)\n",
    "print(result)"
   ]
  },
  {
   "cell_type": "code",
   "execution_count": null,
   "id": "be33d974",
   "metadata": {},
   "outputs": [],
   "source": [
    "array"
   ]
  },
  {
   "cell_type": "code",
   "execution_count": null,
   "id": "6f087eea",
   "metadata": {
    "scrolled": true
   },
   "outputs": [],
   "source": [
    "sort = np.argsort(array)\n",
    "print(sort)"
   ]
  },
  {
   "cell_type": "code",
   "execution_count": null,
   "id": "8b2cb572",
   "metadata": {
    "scrolled": true
   },
   "outputs": [],
   "source": [
    "result = np.append(array,[2,3,4],axis=0)\n",
    "print(result)"
   ]
  },
  {
   "cell_type": "code",
   "execution_count": null,
   "id": "85c7c7d0",
   "metadata": {},
   "outputs": [],
   "source": [
    "array = np.random.randint(2,12,(3,3),dtype=int)\n",
    "print(array)"
   ]
  },
  {
   "cell_type": "code",
   "execution_count": null,
   "id": "b1b9db6b",
   "metadata": {},
   "outputs": [],
   "source": [
    "flat = np.ravel(array)\n",
    "print(flat)"
   ]
  },
  {
   "cell_type": "code",
   "execution_count": null,
   "id": "4f32387d",
   "metadata": {},
   "outputs": [],
   "source": [
    "arr = np.array([1, 2, 3, 4, 5, 6])\n",
    "arr_reshaped = np.reshape(arr, (2, 3))\n",
    "print(arr_reshaped)\n"
   ]
  },
  {
   "cell_type": "code",
   "execution_count": null,
   "id": "eba8ab65",
   "metadata": {},
   "outputs": [],
   "source": [
    "arr = np.array([[1, 2, 3], [4, 5, 6]])\n",
    "print(arr)\n",
    "transposed_arr = np.transpose(arr)\n",
    "print(transposed_arr)\n"
   ]
  },
  {
   "cell_type": "code",
   "execution_count": null,
   "id": "5d8f1a2e",
   "metadata": {},
   "outputs": [],
   "source": [
    "a = np.array([1, 2, 3])\n",
    "b = np.array([4, 5, 6])\n",
    "stacked_arr = np.vstack((a, b))\n",
    "print(stacked_arr)\n"
   ]
  },
  {
   "cell_type": "code",
   "execution_count": null,
   "id": "5e33c162",
   "metadata": {},
   "outputs": [],
   "source": [
    "a = np.array([1, 2, 3])\n",
    "b = np.array([4, 5, 6])\n",
    "stacked_arr = np.hstack((a, b))\n",
    "print(stacked_arr)\n"
   ]
  },
  {
   "cell_type": "code",
   "execution_count": null,
   "id": "1151eb89",
   "metadata": {},
   "outputs": [],
   "source": [
    "a = np.array([1, 2, 3])\n",
    "b = np.array([4, 5, 6])\n",
    "concatenated_arr = np.concatenate((a, b))\n",
    "print(concatenated_arr)\n",
    "\n",
    "\n",
    "\n"
   ]
  },
  {
   "cell_type": "code",
   "execution_count": null,
   "id": "b8d2f46a",
   "metadata": {},
   "outputs": [],
   "source": [
    "a2 = np.array([[1, 2], [3, 4]])\n",
    "b2 = np.array([[5, 6], [7, 8]])\n",
    "concatenated_arr2 = np.concatenate((a2, b2), axis=0)\n",
    "print(concatenated_arr2)"
   ]
  },
  {
   "cell_type": "code",
   "execution_count": null,
   "id": "a7d937a3",
   "metadata": {},
   "outputs": [],
   "source": [
    "a2 = np.array([[1, 2], [3, 4]])\n",
    "b2 = np.array([[5, 6], [7, 8]])\n",
    "concatenated_arr2 = np.concatenate((a2, b2), axis=1)\n",
    "print(concatenated_arr2)"
   ]
  },
  {
   "cell_type": "code",
   "execution_count": null,
   "id": "3854c646",
   "metadata": {},
   "outputs": [],
   "source": [
    "arr = np.array([1, 2, 2, 3, 3, 3, 4, 4, 4, 4])\n",
    "unique_elements = np.unique(arr)\n",
    "print(unique_elements)\n"
   ]
  },
  {
   "cell_type": "code",
   "execution_count": null,
   "id": "de0700fb",
   "metadata": {},
   "outputs": [],
   "source": [
    "# Creating an array and using where to replace values\n",
    "arr = np.array([1, 2, 3, 4, 5])\n",
    "new_arr = np.where(arr > 3, arr, -1)\n",
    "print(new_arr)\n"
   ]
  },
  {
   "cell_type": "code",
   "execution_count": null,
   "id": "a3a2a691",
   "metadata": {},
   "outputs": [],
   "source": [
    "arr = np.array([1, 2, 3, 4, 5])\n",
    "cumsum_arr = np.cumsum(arr)\n",
    "print(cumsum_arr)\n"
   ]
  },
  {
   "cell_type": "code",
   "execution_count": null,
   "id": "c597cdff",
   "metadata": {},
   "outputs": [],
   "source": [
    "a = np.array([[1, 2], [3, 4]])\n",
    "b = np.array([[5, 6], [7, 8]])\n",
    "matmul_result = np.matmul(a, b)\n",
    "print(matmul_result)\n"
   ]
  },
  {
   "cell_type": "code",
   "execution_count": null,
   "id": "aeb9be48",
   "metadata": {},
   "outputs": [],
   "source": [
    "\n",
    "a = np.array([[1, 2], [3, 4]])\n",
    "inv_a = np.linalg.inv(a)\n",
    "print(inv_a)\n"
   ]
  },
  {
   "cell_type": "code",
   "execution_count": null,
   "id": "8a0f9bde",
   "metadata": {},
   "outputs": [],
   "source": [
    "x = np.array([0, 1, 2])\n",
    "y = np.array([2, 1, 0])\n",
    "cov_matrix = np.cov(x, y)\n",
    "print(cov_matrix)\n"
   ]
  },
  {
   "cell_type": "code",
   "execution_count": null,
   "id": "1d3ebc6b",
   "metadata": {},
   "outputs": [],
   "source": [
    "x = np.array([1, 2, 3, 4, 5])\n",
    "y = np.array([5, 4, 3, 2, 1])\n",
    "corr_matrix = np.corrcoef(x, y)\n",
    "print(corr_matrix)\n"
   ]
  },
  {
   "cell_type": "code",
   "execution_count": null,
   "id": "aed5e096",
   "metadata": {},
   "outputs": [],
   "source": [
    "data = np.array([1, 2, 2, 3, 4, 4, 4, 5])\n",
    "hist, bin_edges = np.histogram(data, bins=4)\n",
    "print(\"Histogram:\", hist)\n",
    "print(\"Bin edges:\", bin_edges)\n"
   ]
  },
  {
   "cell_type": "code",
   "execution_count": null,
   "id": "38dd5fb5",
   "metadata": {},
   "outputs": [],
   "source": [
    "import numpy as np\n",
    "\n",
    "arr = np.array([[1, 2, 3], [4, 5, 6]])\n",
    "flipped_arr = np.flip(arr)\n",
    "print(flipped_arr)\n"
   ]
  },
  {
   "cell_type": "code",
   "execution_count": null,
   "id": "77ebf110",
   "metadata": {},
   "outputs": [],
   "source": [
    "arr = np.array([[1, 2, 3], [4, 5, 6], [7, 8, 9]])\n",
    "trace_value = np.trace(arr)\n",
    "print(trace_value)\n"
   ]
  },
  {
   "cell_type": "code",
   "execution_count": null,
   "id": "0ff54b7c",
   "metadata": {},
   "outputs": [],
   "source": [
    "# Extracting the diagonal of an array\n",
    "arr = np.array([[1, 2, 3], [4, 5, 6], [7, 8, 9]])\n",
    "diagonal = np.diag(arr)\n",
    "print(diagonal)\n",
    "\n"
   ]
  },
  {
   "cell_type": "code",
   "execution_count": null,
   "id": "17638ea9",
   "metadata": {},
   "outputs": [],
   "source": [
    "arr = np.array([1, 2, 3])\n",
    "appended_arr = np.append(arr, [4, 5, 6])\n",
    "print(appended_arr)\n"
   ]
  },
  {
   "cell_type": "code",
   "execution_count": null,
   "id": "4606bfbe",
   "metadata": {},
   "outputs": [],
   "source": [
    "arr = np.array([1, 1, 2, 2, 2, 3])\n",
    "bin_count = np.bincount(arr)\n",
    "print(bin_count)\n"
   ]
  },
  {
   "cell_type": "code",
   "execution_count": null,
   "id": "0becc30b",
   "metadata": {},
   "outputs": [],
   "source": [
    "arr = np.array([[1, 2, 3], [4, 5, 6]])\n",
    "resized_arr = np.resize(arr, (3, 2))\n",
    "print(resized_arr)\n"
   ]
  },
  {
   "cell_type": "code",
   "execution_count": null,
   "id": "dc147c87",
   "metadata": {},
   "outputs": [],
   "source": [
    "a = np.array([1, 2, 3])\n",
    "b = np.array([1, 2, 4])\n",
    "comparison = np.equal(a, b)\n",
    "print(comparison)\n"
   ]
  },
  {
   "cell_type": "code",
   "execution_count": null,
   "id": "6b106043",
   "metadata": {},
   "outputs": [],
   "source": [
    "arr = np.array([0, 2, 0, 3, 0, 4])\n",
    "nonzero_indices = np.nonzero(arr)\n",
    "print(nonzero_indices)\n"
   ]
  },
  {
   "cell_type": "code",
   "execution_count": null,
   "id": "5420ec99",
   "metadata": {},
   "outputs": [],
   "source": [
    "arr = np.array([1, 2, 3, 4, 5])\n",
    "median_value = np.median(arr)\n",
    "print(median_value)\n"
   ]
  },
  {
   "cell_type": "code",
   "execution_count": null,
   "id": "387b7e36",
   "metadata": {},
   "outputs": [],
   "source": [
    "arr = np.array([1, 2, 3, 4, 5])\n",
    "variance = np.var(arr)\n",
    "print(variance)\n"
   ]
  },
  {
   "cell_type": "code",
   "execution_count": null,
   "id": "23f6e851",
   "metadata": {},
   "outputs": [],
   "source": [
    "arr = np.array([1, 2, np.nan, 4, 5])\n",
    "nan_check = np.isnan(arr)\n",
    "print(nan_check)\n"
   ]
  },
  {
   "cell_type": "code",
   "execution_count": null,
   "id": "7684ce08",
   "metadata": {},
   "outputs": [],
   "source": []
  }
 ],
 "metadata": {
  "kernelspec": {
   "display_name": "Python 3 (ipykernel)",
   "language": "python",
   "name": "python3"
  },
  "language_info": {
   "codemirror_mode": {
    "name": "ipython",
    "version": 3
   },
   "file_extension": ".py",
   "mimetype": "text/x-python",
   "name": "python",
   "nbconvert_exporter": "python",
   "pygments_lexer": "ipython3",
   "version": "3.10.9"
  }
 },
 "nbformat": 4,
 "nbformat_minor": 5
}

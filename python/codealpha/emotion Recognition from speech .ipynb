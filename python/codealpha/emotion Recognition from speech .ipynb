{
 "cells": [
  {
   "cell_type": "markdown",
   "metadata": {},
   "source": [
    "emotion recognition from speech"
   ]
  },
  {
   "cell_type": "code",
   "execution_count": null,
   "metadata": {},
   "outputs": [],
   "source": [
    "import speechrecognition as sr\n",
    "import pyttsx3\n",
    "import pywhatkit\n"
   ]
  },
  {
   "cell_type": "code",
   "execution_count": null,
   "metadata": {},
   "outputs": [],
   "source": []
  },
  {
   "cell_type": "code",
   "execution_count": null,
   "metadata": {},
   "outputs": [],
   "source": [
    "# create , record the audio and save audio file\n",
    "def record_audio():\n",
    "    r = sr.Recognizer()\n",
    "    with sr.Microphone() as source:\n",
    "        print(\"Say something\")\n",
    "        audio = r.listen(source)\n",
    "        voice_data = ''\n",
    "        try:\n",
    "            voice_data = r.recognize_google(audio)\n",
    "        except sr.UnknownValueError:\n",
    "            print(\"Sorry, I did not get that\")\n",
    "        except sr.RequestError:\n",
    "            print(\"Sorry, my speech service is down\")\n",
    "        return voice_data\n",
    "    \n"
   ]
  },
  {
   "cell_type": "code",
   "execution_count": null,
   "metadata": {},
   "outputs": [],
   "source": [
    "# detect emotion from audio file\n",
    "def detect_emotion():\n",
    "    pass\n",
    "# audio_file = \"path_to_your_audio_file.wav\"\n",
    "# emotion = detect_emotion(audio_file)  \n",
    "# print(emotion)\n"
   ]
  }
 ],
 "metadata": {
  "language_info": {
   "name": "python"
  }
 },
 "nbformat": 4,
 "nbformat_minor": 2
}
